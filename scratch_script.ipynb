{
 "cells": [
  {
   "cell_type": "markdown",
   "metadata": {},
   "source": [
    "# 2D Array"
   ]
  },
  {
   "cell_type": "markdown",
   "metadata": {},
   "source": [
    "## Questions link\n"
   ]
  },
  {
   "cell_type": "markdown",
   "metadata": {},
   "source": [
    "https://www.hackerrank.com/challenges/2d-array/problem?h_l=interview&playlist_slugs%5B%5D=interview-preparation-kit&playlist_slugs%5B%5D=arrays"
   ]
  },
  {
   "cell_type": "code",
   "execution_count": 50,
   "metadata": {},
   "outputs": [
    {
     "data": {
      "text/plain": [
       "[[1, 1, 1, 0, 0, 0],\n",
       " [0, 1, 0, 0, 0, 0],\n",
       " [1, 1, 1, 0, 0, 0],\n",
       " [0, 0, 2, 4, 4, 0],\n",
       " [0, 0, 0, 2, 0, 0],\n",
       " [0, 0, 1, 2, 4, 0]]"
      ]
     },
     "execution_count": 50,
     "metadata": {},
     "output_type": "execute_result"
    }
   ],
   "source": [
    "arr = [[1, 1, 1, 0, 0, 0],\n",
    "[0 ,1 ,0 ,0 ,0 ,0],\n",
    "[1 ,1 ,1 ,0 ,0 ,0],\n",
    "[0 ,0 ,2 ,4 ,4 ,0],\n",
    "[0 ,0 ,0 ,2 ,0 ,0],\n",
    "[0 ,0 ,1 ,2 ,4 ,0]]\n",
    "arr"
   ]
  },
  {
   "cell_type": "code",
   "execution_count": 39,
   "metadata": {},
   "outputs": [
    {
     "data": {
      "text/plain": [
       "[7, 4, 3, 3, 4, 8, 6, 9, 2, 10, 7, 19, 0, 8, 6, 14]"
      ]
     },
     "execution_count": 39,
     "metadata": {},
     "output_type": "execute_result"
    }
   ],
   "source": [
    "results = []\n",
    "for i in range(4):\n",
    "#     print(arr[i][i]+arr[i][i+1]+arr[i][i+2]+arr[i+1][i+1]+arr[i+2][i]+arr[i+2][i+1]+arr[i+2][i+2])\n",
    "    \n",
    "    results.append(arr[0][i]+arr[0][i+1]+arr[0][i+2]+arr[1][i+1]+arr[2][i]+arr[2][i+1]+arr[2][i+2])\n",
    "    results.append(arr[1][i]+arr[1][i+1]+arr[1][i+2]+arr[2][i+1]+arr[3][i]+arr[3][i+1]+arr[3][i+2])\n",
    "    results.append(arr[2][i]+arr[2][i+1]+arr[2][i+2]+arr[3][i+1]+arr[4][i]+arr[4][i+1]+arr[4][i+2])\n",
    "    results.append(arr[3][i]+arr[3][i+1]+arr[3][i+2]+arr[4][i+1]+arr[5][i]+arr[5][i+1]+arr[5][i+2])\n",
    "    \n",
    "results"
   ]
  },
  {
   "cell_type": "code",
   "execution_count": 51,
   "metadata": {},
   "outputs": [
    {
     "data": {
      "text/plain": [
       "19"
      ]
     },
     "execution_count": 51,
     "metadata": {},
     "output_type": "execute_result"
    }
   ],
   "source": [
    "## final results:\n",
    "def hourglassSum(arr):\n",
    "    results = []\n",
    "    for i in range(4):\n",
    "        for j in range(4):\n",
    "            results.append(arr[i][j]+arr[i][j+1]+arr[i][j+2]+arr[i+1][j+1]+arr[i+2][j]+arr[i+2][j+1]+arr[i+2][j+2])\n",
    "    return max(results) \n",
    "\n",
    "hourglassSum(arr)"
   ]
  },
  {
   "cell_type": "markdown",
   "metadata": {},
   "source": [
    "# Arrays: Left Rotation"
   ]
  },
  {
   "cell_type": "markdown",
   "metadata": {},
   "source": [
    "## Questions link\n"
   ]
  },
  {
   "cell_type": "markdown",
   "metadata": {},
   "source": [
    "https://www.hackerrank.com/challenges/ctci-array-left-rotation/problem?h_l=interview&playlist_slugs%5B%5D=interview-preparation-kit&playlist_slugs%5B%5D=arrays&h_r=next-challenge&h_v=zen"
   ]
  },
  {
   "cell_type": "code",
   "execution_count": 2,
   "metadata": {},
   "outputs": [
    {
     "data": {
      "text/plain": [
       "[1, 2, 3, 4, 5, 6, 7, 8, 9, 10]"
      ]
     },
     "execution_count": 2,
     "metadata": {},
     "output_type": "execute_result"
    }
   ],
   "source": [
    "a = [1,2,3,4,5,6,7,8,9,10]\n",
    "d = 3\n",
    "a"
   ]
  },
  {
   "cell_type": "code",
   "execution_count": 108,
   "metadata": {},
   "outputs": [
    {
     "data": {
      "text/plain": [
       "[4, 5, 6, 7, 8, 9, 10, 1, 2, 3]"
      ]
     },
     "execution_count": 108,
     "metadata": {},
     "output_type": "execute_result"
    }
   ],
   "source": [
    "counter = 0\n",
    "ls= []\n",
    "for i in range(len(a)):\n",
    "    try:\n",
    "        ls.append(a[i+d])\n",
    "        counter+=1\n",
    "    except: \n",
    "        ls.append(a[i-counter])\n",
    "ls"
   ]
  },
  {
   "cell_type": "code",
   "execution_count": 4,
   "metadata": {},
   "outputs": [
    {
     "data": {
      "text/plain": [
       "[4, 5, 6, 7, 8, 9, 10, 1, 2, 3]"
      ]
     },
     "execution_count": 4,
     "metadata": {},
     "output_type": "execute_result"
    }
   ],
   "source": [
    "# final answer\n",
    "def rotLeft(a, d):\n",
    "    ls = []\n",
    "    counter= 0\n",
    "    for i in range(len(a)):\n",
    "        try:\n",
    "            ls.append(a[i+d])\n",
    "            counter+=1\n",
    "        except: \n",
    "            ls.append(a[i-counter])\n",
    "    return ls\n",
    "rotLeft(a, d)"
   ]
  },
  {
   "cell_type": "markdown",
   "metadata": {},
   "source": [
    "# New Year Chaos\n",
    "\n"
   ]
  },
  {
   "cell_type": "markdown",
   "metadata": {},
   "source": [
    "# Question"
   ]
  },
  {
   "cell_type": "markdown",
   "metadata": {},
   "source": [
    "https://www.hackerrank.com/challenges/new-year-chaos/problem?h_l=interview&playlist_slugs%5B%5D=interview-preparation-kit&playlist_slugs%5B%5D=arrays&h_r=next-challenge&h_v=zen&h_r=next-challenge&h_v=zen"
   ]
  },
  {
   "cell_type": "code",
   "execution_count": 17,
   "metadata": {},
   "outputs": [],
   "source": [
    "def minimumBribes(Q):\n",
    "    moves= 0\n",
    "    Q = [P-1 for P in Q]\n",
    "    for i,P in enumerate(Q):\n",
    "        if P - i > 2:\n",
    "            print(\"Too chaotic\")\n",
    "            return\n",
    "        for j in range(max(P-1,0),i):\n",
    "            if Q[j] > P:\n",
    "                moves += 1\n",
    "    print(moves)"
   ]
  },
  {
   "cell_type": "code",
   "execution_count": 24,
   "metadata": {},
   "outputs": [],
   "source": [
    "\n",
    "def minimumBribes(Q:list)->int:\n",
    "    moves = 0\n",
    "    for i in range(len(Q)-1,0,-1):\n",
    "        if Q[i]!=i+1:\n",
    "            if Q[i-1]==i+1:\n",
    "                Q[i], Q[i-1] = Q[i-1], Q[i]\n",
    "                moves+=1\n",
    "            elif Q[i-2]==i+1:\n",
    "                Q[i], Q[i-2] = Q[i-2], Q[i]\n",
    "#                 Q[i], Q[i-1] = Q[i-1], Q[i]\n",
    "                moves+=1\n",
    "            else:\n",
    "                print(\"Too Chaotic\")\n",
    "                return\n",
    "    print(moves)"
   ]
  },
  {
   "cell_type": "code",
   "execution_count": 25,
   "metadata": {},
   "outputs": [
    {
     "name": "stdout",
     "output_type": "stream",
     "text": [
      "3\n"
     ]
    }
   ],
   "source": [
    "\n",
    "minimumBribes([2,1,5,3,4])"
   ]
  },
  {
   "cell_type": "markdown",
   "metadata": {},
   "source": [
    "# Minimum Swaps 2"
   ]
  },
  {
   "cell_type": "markdown",
   "metadata": {},
   "source": [
    "https://www.hackerrank.com/challenges/minimum-swaps-2/problem?h_l=interview&playlist_slugs%5B%5D=interview-preparation-kit&playlist_slugs%5B%5D=arrays"
   ]
  },
  {
   "cell_type": "markdown",
   "metadata": {},
   "source": [
    "- loop through each value in arr, and for each arr[i] swap with the lowest value in arr[i+1:,], each swap we add a count.\n",
    "\n"
   ]
  },
  {
   "cell_type": "code",
   "execution_count": 13,
   "metadata": {},
   "outputs": [],
   "source": [
    "# need to optimize the code\n",
    "from tqdm import tqdm\n",
    "def minimumSwaps(arr):\n",
    "    arr1 = arr\n",
    "    counter = 0\n",
    "\n",
    "    for i in range(len(arr1)):\n",
    "        \n",
    "        new = arr1[i+1:len(arr1)]\n",
    "        if len(new)>=1:\n",
    "            if min(new)<arr1[i] :\n",
    "                index = arr.index(min(new))\n",
    "                # swap current value with lowest value position\n",
    "                arr1[i], arr1[index] = arr1[index], arr1[i]\n",
    "                counter +=1\n",
    "        \n",
    "    return counter\n",
    "\n"
   ]
  },
  {
   "cell_type": "code",
   "execution_count": 17,
   "metadata": {},
   "outputs": [],
   "source": [
    "# this is good\n",
    "def minimumSwaps(arr):\n",
    "    ref_arr = sorted(arr)\n",
    "    index_dict = {v: i for i,v in enumerate(arr)}\n",
    "    swaps = 0\n",
    "    \n",
    "    for i,v in enumerate(arr):\n",
    "        correct_value = ref_arr[i]\n",
    "        if v != correct_value:\n",
    "            to_swap_ix = index_dict[correct_value]\n",
    "            arr[to_swap_ix],arr[i] = arr[i], arr[to_swap_ix]\n",
    "            index_dict[v] = to_swap_ix\n",
    "            index_dict[correct_value] = i\n",
    "            swaps += 1\n",
    "            \n",
    "    return swaps"
   ]
  },
  {
   "cell_type": "markdown",
   "metadata": {},
   "source": [
    "# Hash Tables: Ransom Note"
   ]
  },
  {
   "cell_type": "markdown",
   "metadata": {},
   "source": [
    "https://www.hackerrank.com/challenges/two-strings/problem?h_l=interview&playlist_slugs%5B%5D=interview-preparation-kit&playlist_slugs%5B%5D=dictionaries-hashmaps"
   ]
  },
  {
   "cell_type": "markdown",
   "metadata": {},
   "source": [
    "- loop through each word in note, for each word in note check to see if it is in magazine, it yes, remove the word from magazine, otherwise print no\n",
    "- sort the note and magazine, otherwise it will timeout"
   ]
  },
  {
   "cell_type": "code",
   "execution_count": 66,
   "metadata": {},
   "outputs": [],
   "source": [
    "def checkMagazine(magazine, note):\n",
    "    magazine.sort()\n",
    "    note.sort()\n",
    "    for w in note:\n",
    "        if not w in magazine:\n",
    "            print(\"No\")\n",
    "            return\n",
    "        else:\n",
    "            magazine.remove(w)\n",
    "\n",
    "    print(\"Yes\")\n"
   ]
  },
  {
   "cell_type": "markdown",
   "metadata": {},
   "source": [
    "# Two Strings"
   ]
  },
  {
   "cell_type": "markdown",
   "metadata": {},
   "source": [
    "https://www.hackerrank.com/challenges/two-strings/problem?h_l=interview&playlist_slugs%5B%5D=interview-preparation-kit&playlist_slugs%5B%5D=dictionaries-hashmaps"
   ]
  },
  {
   "cell_type": "code",
   "execution_count": 71,
   "metadata": {},
   "outputs": [],
   "source": [
    "def twoStrings(s1, s2):\n",
    "    s1 = list(set(list(s1)))\n",
    "    s2 = list(s2)\n",
    "    for w in s1:\n",
    "        if w in s2:\n",
    "            return \"YES\"\n",
    "            \n",
    "    return \"NO\"\n"
   ]
  },
  {
   "cell_type": "code",
   "execution_count": 29,
   "metadata": {},
   "outputs": [
    {
     "data": {
      "text/plain": [
       "{'d', 'e', 'f'}"
      ]
     },
     "execution_count": 29,
     "metadata": {},
     "output_type": "execute_result"
    }
   ],
   "source": [
    "set(\"dff\"+\"eee\")"
   ]
  },
  {
   "cell_type": "markdown",
   "metadata": {},
   "source": [
    "# Sherlock and Anagrams"
   ]
  },
  {
   "cell_type": "markdown",
   "metadata": {},
   "source": [
    "https://www.hackerrank.com/challenges/sherlock-and-anagrams/problem?h_l=interview&playlist_slugs%5B%5D=interview-preparation-kit&playlist_slugs%5B%5D=dictionaries-hashmaps&h_r=next-challenge&h_v=zen"
   ]
  },
  {
   "cell_type": "markdown",
   "metadata": {},
   "source": [
    "- key in this problem is find out how to print out every combination of letters in a word, and how to count number of letters combined of same combinations.\n",
    "- use two for loop to print out different combinations of letter in a word\n",
    "- only count of we have at least two same letters or two same combination of same subs\n",
    "- if we have additional subs, we add by current number of subs - 1"
   ]
  },
  {
   "cell_type": "code",
   "execution_count": 99,
   "metadata": {},
   "outputs": [
    {
     "name": "stdout",
     "output_type": "stream",
     "text": [
      "k {'k': 1} 0\n",
      "k {'k': 2} 1\n",
      "k {'k': 3} 3\n",
      "k {'k': 4} 6\n",
      "kk {'kk': 1} 6\n",
      "kk {'kk': 2} 7\n",
      "kk {'kk': 3} 9\n",
      "kkk {'kkk': 1} 9\n",
      "kkk {'kkk': 2} 10\n"
     ]
    }
   ],
   "source": [
    "for i in range(1, n):\n",
    "    d = {}\n",
    "    for j in range(n-i+1):\n",
    "        subs = ''.join(sorted(s[j:j+i]))\n",
    "        if subs not in d:\n",
    "            d[subs] = 1\n",
    "        else:\n",
    "            d[subs] +=1\n",
    "        res += d[subs]-1\n",
    "        print(subs, d, res)\n",
    "        "
   ]
  },
  {
   "cell_type": "code",
   "execution_count": null,
   "metadata": {},
   "outputs": [],
   "source": [
    "# Complete the sherlockAndAnagrams function below.\n",
    "def sherlockAndAnagrams(s):\n",
    "    n = len(s)\n",
    "    res = 0\n",
    "    for i in range(1,n):\n",
    "        d = {}\n",
    "        for j in range(n-i+1):\n",
    "            subs = ''.join(sorted(s[j:j+i]))\n",
    "            if subs not in d:\n",
    "                d[subs] = 1\n",
    "            else:\n",
    "                d[subs]+=1\n",
    "            res += d[subs]-1\n",
    "    return res\n"
   ]
  },
  {
   "cell_type": "code",
   "execution_count": null,
   "metadata": {},
   "outputs": [],
   "source": []
  },
  {
   "cell_type": "code",
   "execution_count": null,
   "metadata": {},
   "outputs": [],
   "source": [
    "def alternatingCharacters(s):\n",
    "    "
   ]
  },
  {
   "cell_type": "code",
   "execution_count": 157,
   "metadata": {},
   "outputs": [
    {
     "name": "stdout",
     "output_type": "stream",
     "text": [
      "3 A A\n",
      "delete A, i = 2, s is ['A', 'A', 'A']\n",
      "2 A A\n",
      "delete A, i = 1, s is ['A', 'A']\n",
      "1 A A\n",
      "delete A, i = 0, s is ['A']\n"
     ]
    },
    {
     "data": {
      "text/plain": [
       "3"
      ]
     },
     "execution_count": 157,
     "metadata": {},
     "output_type": "execute_result"
    }
   ],
   "source": [
    "s = 'AAAA'\n",
    "\n",
    "s = list(s)\n",
    "n = len(s)\n",
    "c = 0\n",
    "for i in range(n-1,0,-1):\n",
    "    if s[i]==s[i-1]:\n",
    "        print(i, s[i], s[i-1])\n",
    "        del s[i]\n",
    "        i-=1\n",
    "        c+=1\n",
    "        print(f'delete {s[i]}, i = {i}, s is {s}')\n",
    "        \n",
    "c"
   ]
  },
  {
   "cell_type": "code",
   "execution_count": 274,
   "metadata": {},
   "outputs": [
    {
     "name": "stdout",
     "output_type": "stream",
     "text": [
      "Yes\n"
     ]
    }
   ],
   "source": [
    "s = 'ibfdgaeadiaefgbhbdghhhbgdfgeiccbiehhfcggchgghadhdhagfbahhddgghbdehidbibaeaagaeeigffcebfbaieggabcfbiiedcabfihchdfabifahcbhagccbdfifhghcadfiadeeaheeddddiecaicbgigccageicehfdhdgafaddhffadigfhhcaedcedecafeacbdacgfgfeeibgaiffdehigebhhehiaahfidibccdcdagifgaihacihadecgifihbebffebdfbchbgigeccahgihbcbcaggebaaafgfedbfgagfediddghdgbgehhhifhgcedechahidcbchebheihaadbbbiaiccededchdagfhccfdefigfibifabeiaccghcegfbcghaefifbachebaacbhbfgfddeceababbacgffbagidebeadfihaefefegbghgddbbgddeehgfbhafbccidebgehifafgbghafacgfdccgifdcbbbidfifhdaibgigebigaedeaaiadegfefbhacgddhchgcbgcaeaieiegiffchbgbebgbehbbfcebciiagacaiechdigbgbghefcahgbhfibhedaeeiffebdiabcifgccdefabccdghehfibfiifdaicfedagahhdcbhbicdgibgcedieihcichadgchgbdcdagaihebbabhibcihicadgadfcihdheefbhffiageddhgahaidfdhhdbgciiaciegchiiebfbcbhaeagccfhbfhaddagnfieihghfbaggiffbbfbecgaiiidccdceadbbdfgigibgcgchafccdchgifdeieicbaididhfcfdedbhaadedfageigfdehgcdaecaebebebfcieaecfagfdieaefdiedbcadchabhebgehiidfcgahcdhcdhgchhiiheffiifeegcfdgbdeffhgeghdfhbfbifgidcafbfcd'\n",
    "\n",
    "\n",
    "\n",
    "def isValid(s):\n",
    "    d = dict(Counter(s))\n",
    "    v = d[s[0]]\n",
    "    c=0\n",
    "    for k in d:\n",
    "        if (d[k]!=v):\n",
    "            c+=1\n",
    "            if abs(v-d[k])>1 and (d[k]!=1) or c>1:\n",
    "                print(\"NO\")\n",
    "                return\n",
    "\n",
    "\n",
    "    print(\"Yes\")\n",
    "    \n",
    "isValid(s)\n",
    "        \n",
    "    \n",
    "    \n",
    "    \n",
    "    "
   ]
  },
  {
   "cell_type": "code",
   "execution_count": 271,
   "metadata": {},
   "outputs": [
    {
     "data": {
      "text/plain": [
       "Counter({'i': 111,\n",
       "         'b': 111,\n",
       "         'f': 111,\n",
       "         'd': 111,\n",
       "         'g': 111,\n",
       "         'a': 111,\n",
       "         'e': 111,\n",
       "         'h': 111,\n",
       "         'c': 111,\n",
       "         'n': 1})"
      ]
     },
     "execution_count": 271,
     "metadata": {},
     "output_type": "execute_result"
    }
   ],
   "source": [
    "Counter(s)"
   ]
  },
  {
   "cell_type": "code",
   "execution_count": 228,
   "metadata": {},
   "outputs": [
    {
     "data": {
      "text/plain": [
       "{'i': 111,\n",
       " 'b': 111,\n",
       " 'f': 111,\n",
       " 'd': 111,\n",
       " 'g': 111,\n",
       " 'a': 111,\n",
       " 'e': 111,\n",
       " 'h': 111,\n",
       " 'c': 111,\n",
       " 'n': 1}"
      ]
     },
     "execution_count": 228,
     "metadata": {},
     "output_type": "execute_result"
    }
   ],
   "source": [
    "def isValid(s):\n",
    "    d = dict(Counter(list(dict(Counter(s)).values())))\n",
    "    if len(d)==1:\n",
    "        return \"YES\"\n",
    "    elif len(d)>2:\n",
    "        return \"NO\"\n",
    "    else:\n",
    "        if (min(d.values())==1) and (abs(list(d.keys())[0]-list(d.keys())[1])==1) or d[min(list(d.keys()))]==1:\n",
    "            return \"YES\"\n",
    "        else:\n",
    "            return \"NO\""
   ]
  },
  {
   "cell_type": "code",
   "execution_count": 1,
   "metadata": {},
   "outputs": [
    {
     "ename": "NameError",
     "evalue": "name 's' is not defined",
     "output_type": "error",
     "traceback": [
      "\u001b[0;31m---------------------------------------------------------------------------\u001b[0m",
      "\u001b[0;31mNameError\u001b[0m                                 Traceback (most recent call last)",
      "\u001b[0;32m<ipython-input-1-c54eaa388515>\u001b[0m in \u001b[0;36m<module>\u001b[0;34m\u001b[0m\n\u001b[0;32m----> 1\u001b[0;31m \u001b[0mn\u001b[0m \u001b[0;34m=\u001b[0m \u001b[0mlen\u001b[0m\u001b[0;34m(\u001b[0m\u001b[0ms\u001b[0m\u001b[0;34m)\u001b[0m\u001b[0;34m\u001b[0m\u001b[0;34m\u001b[0m\u001b[0m\n\u001b[0m\u001b[1;32m      2\u001b[0m \u001b[0mls\u001b[0m \u001b[0;34m=\u001b[0m \u001b[0;34m[\u001b[0m\u001b[0;34m]\u001b[0m\u001b[0;34m\u001b[0m\u001b[0;34m\u001b[0m\u001b[0m\n\u001b[1;32m      3\u001b[0m \u001b[0;32mfor\u001b[0m \u001b[0mi\u001b[0m \u001b[0;32min\u001b[0m \u001b[0mrange\u001b[0m\u001b[0;34m(\u001b[0m\u001b[0;36m1\u001b[0m\u001b[0;34m,\u001b[0m\u001b[0mn\u001b[0m\u001b[0;34m)\u001b[0m\u001b[0;34m:\u001b[0m\u001b[0;34m\u001b[0m\u001b[0;34m\u001b[0m\u001b[0m\n\u001b[1;32m      4\u001b[0m     \u001b[0;32mfor\u001b[0m \u001b[0mj\u001b[0m \u001b[0;32min\u001b[0m \u001b[0mrange\u001b[0m\u001b[0;34m(\u001b[0m\u001b[0mn\u001b[0m\u001b[0;34m-\u001b[0m\u001b[0mi\u001b[0m\u001b[0;34m+\u001b[0m\u001b[0;36m1\u001b[0m\u001b[0;34m)\u001b[0m\u001b[0;34m:\u001b[0m\u001b[0;34m\u001b[0m\u001b[0;34m\u001b[0m\u001b[0m\n\u001b[1;32m      5\u001b[0m         \u001b[0msub\u001b[0m \u001b[0;34m=\u001b[0m \u001b[0ms\u001b[0m\u001b[0;34m[\u001b[0m\u001b[0mj\u001b[0m\u001b[0;34m:\u001b[0m\u001b[0mj\u001b[0m\u001b[0;34m+\u001b[0m\u001b[0mi\u001b[0m\u001b[0;34m]\u001b[0m\u001b[0;34m\u001b[0m\u001b[0;34m\u001b[0m\u001b[0m\n",
      "\u001b[0;31mNameError\u001b[0m: name 's' is not defined"
     ]
    }
   ],
   "source": [
    "\n",
    "n = len(s)\n",
    "ls = []\n",
    "for i in range(1,n):\n",
    "    for j in range(n-i+1):\n",
    "        sub = s[j:j+i]\n",
    "        ls.append(ls)\n",
    "#         if (len(sub)%2!=0) and (sub[0:len(sub)//2]==sub[len(sub)//2+1:]) or (len(dict(Counter(sub)))==1):\n",
    "#             ls.append(sub)\n",
    "#             if (len(dict(Counter(s)))==1) and (s not in ls):\n",
    "#                 ls.append(s)\n",
    "len(ls)"
   ]
  },
  {
   "cell_type": "code",
   "execution_count": 25,
   "metadata": {},
   "outputs": [],
   "source": [
    "s = 'dkkcjjgibehdikdhebkkchijdhgheecbbjkbbdcejhkigdidgcbkhcifchjjigjfddkkefbhbcbciceigcifjhfbkfbbhfeekgdicfecefkgjbedcfgghhkfckdifjibkcibcihdikegdgkcijghehidkegjbihddccbjdhdbejjkdhdiekefgigcbihghhbfkbkbghceikbdcdeegbjffeefgefdkjbgdbbedbickgdkicgegfcdjejdcfiegcfihcfibcdjbebiciihjbiefgibkkgehhffddjgkcehgjgjhjegbjgdbehiicghkfedbfhbkjgdfecihjcjihbkbbedjdhbdikbchjechffcjfgcgfgfcjgjbjifggighhekfieeiihfkgjdcihhkkccccgeijdeifffdgefkchehedkcgjhbcfijdikdfcfkcbhieckbhkdhiifhdcjbbiefhdhjgddjgehjbdidjhkjihgdggejcbbbbkfdjeddjkhcdekcggdehkdhbkjjfikkbdffkbfedecgghhfkecihcbkigciffkkegigcfgcifigedbibhjjjcihdkdbedhhhehkhfjbdhfhdebbgkhkhkkgbggjbibghdjeekdjkbkbfkkdfdhejbdckbidjfffkcfjcffjchckfbfdijbibjddjkddhcbhedjbegbckbiigciddkhgcgijhheegjihdchdfbjbifgegdcgieddckebjgdikkjkehckhbcedbkbdfgjkbikhhdbgdckbkfjigjgfbjhgedeckdifdjifkihcdfbhjcdkgcbgehhhdghidjgkgjbdjjfhdbgfbbfbfkijhhbegdjjfhibfbigfghkhdkjbehgefccgeckgihdhgkdhcjikfgeicgbgcjgbbjcbfgijehjhdcbfceehceefficjikkcbeiecbkbdeiddkbekedekibkffjgckdfbcfkjgcbjfcgbifiedbdicbdbeegibjbddcjcgbdcgcbdgjeghcdiejjkkegfcejidkdhgekdfjfgfechdecehhdbfdcdjibchhehgfgkicgdbibkidkhcechekbgdddbbkckdijdjebdhghchbefhkefbefcjehgbcfbcdjiedebedegghjfcejkbeihhfifjbjhihjjfeefjhbhkbfjjjfjgchekbdekffbdebgfbfjekjfjhcikhgkfjdigffdgdieejeegcgcccicbbkbbcikhedbjigidbgeiddibkejkhbdfddegebkfdigbbbbfdjeecgfkcfcjfceffficjkbidbdchfbhdkgbbdiffhbhhdjbfiekfdjfdiefbeejgibihcgkefhkghgekccfgijhccbgcdjcjbkkddgjhefkhjjghijbjgedcijfcdbbkdecdcbkchijecgkhegcgdhcejckhhddgebjikcfdejfifdcjhechkkbkiifiiheggbekfkfegkfiicifgjikgkhbgdheiidhiejdecbgecejhbedfbehkihbckbbggggeiiciefkhhcjedjjjcdddggbhhdjhefcfihhfbfekcjeigkdckjihjibbjfebfiijfbegiiejdbdbccjieekgbkcegjddbijghkjggejbfeeghhkigckeeehgkfjkcbhdihifbchbgdhhhdecddigifchiidbecbeciibebfdbcdbbidhddjcikcdgifbfhibchifkcdcejkfeiddfejhcjbfbehbfgjicekbccbjfejecdkcejdhdjhkhghidehjefiiedcejjgjdbehifdcckdfddbcegfecgcekhidbedfidijcddjbfjkfjcjhjddebjhgjhhbhdbigdggikhggbhhhdegibkgdeeifiibicgffgdjjhefbeefbcbdckbkckbbieiecbbficdbjgbefjgbhcckcfcdedbhfcbibedidihfhkgcfieijcjhgikkcjchfgccdfdjdfdfkehkchjbidgdfjigedfjckikfbkdjkkbcehfgfbdegefidikfdfcgkfkkhjigfhgcffchfbffjdfhiecbjhbgfdghffbckkikkeehcjebejjkefdhjhkkgkiijhcchfebegfhbihgbghfbbfkdgeejgfffdkeeicjgjekhccicfcdheibikegikhhehfbgegidbhfkkibbjehiggjdbfgkgcehedcihkkkjdekicdjbceidgjdghiddbigdcggefbfkjihbhekicfkgccfdcekkkejcikchececfggkcdckhbhgdcjebckiiehkicjgcdehehecggihggicghjbgiidechkefcfgieiecgikbehjgfegkghekiffccfkbegegbbjbhicbkcjfcgkfihhfbbcgfjcgidkbgeeegggkjbfdegebjgjkebbbgiggjckceijbcgeijhgkhcjccbcjkfeecgcgibebgfkdgbjihhkcgcieckcdcgegiikkickiggfgiibibgbhdjckjbkidcfkgcdfjkgjhkkgegccejehkiihdkbihgihkeeegdkjejiiejkibfibejfccfjjcbhkchhibkbfecjgbhbgjfidjgikidkickfjbdihfieddhfhhigfedjekcehjgieecgjkfegeijhjfdgbbhejbdgibidhbdkggkfjdebideghifcchjhjbhghjkgckfeebkbeejibgibejbegccefffccffjcfcbjgbkkgbbgfggjcdjcffjefkkedgjbkdgijccfccijhdkbgeijeckbicfhgifcecjgghkdechbeckfdehbekdihfcbefibkekjjhihfibbghkgjjcgihihjbekhhgkdfghkbdhbicdggehkjekdffgkfjdgjjhgidgkbfbedbiehiheeffjfighhcfjgebjfjjheeigejfgdifgjghficbkjjigefkeibjidjikcigcjekdegekhkghfekjbfhbkfcdhdhdikghggijcfgbdeececiheieifbfigieccejdhbibkbckhbdehgbdegiejkjhcjjchhgbfikhggikdbidiiijbgjfjhkjhbijidiekdhddhiggeccgchgkiifkhkgjfddkedbbigkbkdccedchfjcgehjifihjbgkcgbjgbhbdgcgbkgdcfecedfeckeffhjkkedkjibegjdggkhdcdcbkegikhieidikihbgfdfifjgbgcgkigjhifbkcffkehffgffckdefjcdbibghkdibfgjcegcfcckhccbhbedejcddihkjbkhcfiiegifbfcjfjgekgjidfedfegdibckjkfggfffdecdfjfkcbghffbhbbddbdibckcjhdfkffefdegegfjfjcigkbecedikdfhcbkgbdhbhibcfedijcfjhbgffjhbjgkbehjbfghecdfikifdhbdhhfkekdhjfkbkbfibdkfhhjiffbjhkfedhhikbdchiibddkbhdiekkijekdchccfigfbjibcjeifbcjgfdkiedjbeffdbdebcjeeggfbihiefhjgjekibfhcddkkdgegfigjcdikfeedjfefciihkjkkkedefbfcbebkdjkgdjekgkckeefghhhejecfghjhgeedciidkiedbedheijbkkiedijfccgfcfiejeifjgedddbcejkcidkkdfeijejdijfbefcbjgeidibidbhehjcfjhgcbdkdikbgjddddfhkbfegebiegcdgicgcekghebdicjcijbcfbckjedijfjjhcccjhehifefkbdbieiegeggifchddbkdgfjdkibhkgdfkhgdkefjcedkbjdjfhkfheffeccfiiggckdbdhccfffkhdechhiekjhbgjgicbgdebifdijiekkkcfccefbkdegkhfdbcgjbeekggfkhbijjgckggjcfhdikhkjjfjbfjjdhddjbehdijjifhjhgeiekcdiceecijgjbbbcdighbjbiibhfcedjedifbfcchbjdcgbkcicigdidfkkkhgjedggccfgbecjgigdbhcdjebfhgbhegicbhkedhkkifdjfbhiekgfjefbjccbidecfecbidigebkhfkgkhdihcgijeighkbbbikgdigbfhbekcegeckkjjdebjchfbbhceehcgjhkckdbbhgibcehhekjfbfgjgfjcbgdddehgdifebcgceihhjdkkkbcfghbdfegcfifficgfgcgghidifkcbkckddjcjijedcidefkbbcjcbhkcfbibjkhjkfdeckjibehddggggdffjjdikcejbbhhhfjjgjbhgihkhdkbdebgjgdjfebfikccckkkeghhbefidfigidibdkfgifbbjfichdjefebikdgdjkijjkccgjbcdckhhihcekfgbgejfjgiddkfffijgkdifdcggdfccjkbecgjbfbfkifbgkekdehidhbdgffjcbikccdijicbhficchdgcedhbjejgjddbbhiekefekdchbgfghjbfdccfideeckcfdghjfkfcehbbcbkckdfckgcfgebidicdiedbgekcbdjdfgcjjgdjhkkfkdicgefcihkfccjgccidbekehjckiihhjkcffjfcichhdeehifjdghdkickdidihfbfdifgdkjbeficbigkhhjgfdggcedfihdfgdeikgccbkjjbebbfifhfbckgecbjedbegkhijjbdjgfifdcdbhdkefgihfcedgdbbebkcfiiffkjdbcbdkhfcbhhckhdkjdfgeegghfjebkchegkhegeegbbigghfcjcbhbfdkdifchbjjdcfjjfdcjebbbbjjhjgiechhhhdjbfbgkkjcffdhekigkiehijckdgfhbhbfhckfcfcifghdjbfccedfdjfffeicbgijfhbkcijfjdjbcijgefifcfecijjjddficbdkifkffdhffggegiijkigdggbjfkjgdjbkbkdfikhciejeffbjfbcegjjjdchgdhkckhbecekcfjcdcciekckkdfihdbehjhdhcekfjheejidhghieehcdgeicbedigjfhkbhcdggijhdgeeegiidecgkhgkbkbfigkjbjdfcdjjbhhdckiegiihiejefbfikfeejeiifgiehkgecgfjdijdgjhjjekbdihcgfgejjhiefjibeiikbbbihbhkkdhcjcchkccdhddfghhgjhhbhcifkjceddcfeejchbfdhbigkfjhjbffcffffjecegekhhijcihekfiibggkfcbkbfgfiffbfhgjjkhfcgbbbhkjickddhciibidbfgickghhjfhjikkjbigbfdjjjhdjhfehigghdjddkcidcikfkkfjegdkfeedjdidhhhciifcijcjddgbifcefkdcjjjbkciejkichcdhdbigbfhfbjdjhcgibdkfcgiefhdgcffehhdhcjjdefiehjcdfcekigjcebdeifhfkeecdfjgecebdbfbbibeihdbgeeffggkgfjfgecfihikiieefkficdicgehjigcicdkiigfjjkdddejjidfidbjhhikigikkgigfdiffhbjbibeejfcgjhkhhfkbcgdjddeihgkhfkjceghkbebehchfbfieikjeiijcikbcjgbekfcegdejffkbdgckefkkgkcdhhcdeigfedbdggfcbhefeihgchkdfcbhhchkdfidgchkekjfdichhjfhfjghejeikcgegejeichkcikegdfkcieeccjgfhcjhfceiddhfjfkijckieihdddeibkbjkigdckefibjfbifbhikbkieiddfghjghbeikbbcjbbebhechebfkjfihbbjchhgdjicecicdkhjdhihekcdidchdjeiddccfgckdkcgcdifcbbkjeiekfjifjhfkigdifjiihbcihdejddhgejiebcddcbcjbcgeffekfbgggdkgjkdikgdfeggikckckccfgjggfecbfigfhcjbejcceedffgkggccejjicifjdbfbhkbieejhddcebghbghikehbkkikjedibeijddcibedbjbkhekkbcjjfidkggkgkkibeigjifjebjgbibggcjdgiidkcijbcfkdgfeickiiikjbbejjhibkfhjhhkkdhechkcdbckcdjbbiicbekdbjkgcidgiegfjceijeikckgieidiiddifcbfjfegfkeibidcgkchhckhfckicgjdihihjhiideeehejkeccccibkbchcbjdkfihjhjjfcfjifefehigjkihhkhfdjfddjhfhccbkkikbdhgehdejfkjbkcbecbbkfbgegbidgefhgifkjfjfjkedijcdkkddbfibdfkhfddjffdjffebebecgbigbkgddjhkjgdijfhifbekeeikbcjdieejekfcdhekchfkbgbdbdfkbkddigccbehjdbiejfhcbcjkghggbccbjibgkddfihifjkgdfifbbkfjhbihikfckigidiccgcbejjdhbjgbfddefbieeccbegcdkkbhbjkifdcjgeiifjkkhchekdjchjhidhfdfgfbiebidbeecdkkhedhekjgcdjjjhkcjfdegegccfijeefidhbhhfekgkbecibffekjbfgggdegeigbihfckdgbjkbcehjbckdkhcebkdejbfhiidgkbhejcdfcijbcgdicdhjicejfdcehckkcckchkejbdgjijkhgihdiiijdhegigfhegebkigiihkiijjicbcbhbhedhekehghhjbhbkfhgchidhjijdkfkbkkhkdbcjgbiebjbjhkgkbjcecidgfkicjjbicdjhfdhkjkhbeddkffhfgdehhbiejjjcgfjfcihfbigegdgbiiekefjfeidekjdefcikefdgjcjibhjfkdfjhibhbbjfjhkjfjehhjdghibcfgfgghffjfdihkhdkefbjibgijbbieicbfikifjfjiiidejekihjkfihbfbgckbjhbfbgfegffcdeefcjcggfeiibgeibbckgeibdcjejhcbkccckcbgchcgfbebkgekkjdehdgceggidhideeddjgbbbkhjfdgegkibbdbhgghibjfbcdkdfhicfjcgjkcckjecjfgdkikbhfcbfkfckhkhhckkhbibeeeikdcbhegddkghkiegfibdjgeghkgfecbgehejedihckckhccjgheeehedjdejhhhgbdddhdfcgceeejifbbckffdhgghkekcfiibgegjcjdbhbcgiebfkihhfbiggekfhchcdcghcdjgkdkgkgdickjgcgbeedhgjcdddfbeheddkegdckciicebjgiihfckkdgifekdkgighigbkdiccgbkgkiihfecdcfehdefikkfbbgkiceegdjdddbdbcdfdigkcdkhcjcdcbgbgeebbfekkibjfcgeggedbbeceihbkjcdcdfbihgkgdgceefdhbbbhkjkfihgifckedcifkgebibcfgdijibbdeihkebhbdbdhdibjgehgjjdddhiidbjkdbfjkekkgjhhbjgichffkkkghicekbgiecehgdjfjkdiigbfccfcfdccjedeigeidjekjkgfjdhkcbccjkkcgibgecijiegfjjchejgikbcjhbghjdciegejdihiebcdkgcikgecdidefefbhebgjbfbciihfjkjgehfgcjfibeikkeihgbhcfikgkfkegcdkdekhdebkhkdhghikbhddfgeidgfcffhfgkhggdbkkedgfdbfdchgkiihddgcdjbhidgjijhcedbhceekdeggihhhjghccdhfbekfkhgbjikebkgghjiiffjgihbfcegdekjggeihdhfdbekfbdhhhfjfhffbfjddejdjckbbgjbhibeijhijcbfgicihhfckkdkeibhkbkkcieefgbbfigddejkbkidkfhgjkbbegfhghfjhiiikcddkigkhhbefdfhdbbghhdikbhbhgbbhjicefhgbhdgjhfkbdbdbikeedcbcidbkjjdkdbidbbgkdhdgiicbgebddfchhfidghidbjbfjegibbjgfchigjkdieigbefcibhbchbgefgjfbjhfedfjcgjhifkbffgggkbcfjbbjkkjdkhbfjcbkjckhehcejgfchghjhkggjfeicfkihkbfedbfbhehegbhcgkfcjecihegbkjebfhidhjkjbcgikhfidfijijifjcchbkbkbkjehikbkefcifcdefdbficbhcigbbiehkfjfcbhgbffjjfejibidchffdefcjicgdcdidigjifjbdgehjcfehhghehgkkfkhigcggbcjjjcfbidfghdcchidkhefkecbkggkfbechjichibefjfjihkdkkjcfkddiiijcebfjbdkgkeffdgibfhbcigehcgjihhbkhicifegkdjfkdcekddebihejddbbgfihgibhdicejdjdjhhhicfggedkdejdgbkfkhbkfbejdifbdieichkjjhdgcjedbhiijfjcfecjhfhdbhihbhfgfggbjekkdkghhbjbjickfieickfgjkedibhgjjkfkbcfgedhdkheffkjgkhghkcfcighdfkkccihhkekbkkikccbgkekbbhbjihjdkkfjkjbbhfgdbjbebkcbdbidkbjbccibfhicfgekfjdcjdkcijddjfckfigdfkhckkgehfkfgfbhfecgfkkifihcchkjhgkdfkdeegfceijkdefjibchefkhheceegkikkigjcidkdegdckdcgjbkdgiddkggfgdibbcegbkhhfbhhcjfbcjhhbbgkekdkfbkefgcfghhgkghgjgijdciicdbbhjcbgehckdfcekjijffjhjbjbcfedgehgfkbdkccfdfedgeebkiebbfjeieekkibbkkddjbeikcfgichdiheiiidbhhfjcgbigecgjkkchfchfkbikijdcfibfebbbhedbgffbjcdkiejghgfidkhffjjijffckjhjkkdghkddkdedfbcgkjfkfhfcdjbieckedhejkkkdfhjijhihgcgjdjddiikikfjcckkgdikikcgkcebgbgkgdkdfhhehbjcjhkdjcffgfhfkeekgbjdeddfgccejiggjgkkichdkkcdhgiidfhfkffdjcfbkbhdfbkkhfgbbbcefjjhbhbffiebdigdekdgidffjdjiijdkhdfiidghfhkhheibiijegfddikdbfdkgkjfdhgcfifkdfjkceecbehkbiibdejikfkbgggcfjhgdeffjkejfchehejdhdfjghggjegckcfdefejjhckgehgebhekcbegdhegkgfgdfkcijeekkbkccfjecgiggbfkjdcfhkhbibckeiigkhgeekkjiccjigeciejidkhjebeigjebjgekcfccchkkbcejejhgdibfihegigejdcbjhkkkhikkffejdjfbchfjkfhfgeecgigfgckhjdbfkihdfhhbhidcikgecdfdbkbjgbfgjdfgjekiekjgkdgchdeghhhgkibfghkhiiibcfgcdieckfbhkiegjcjccfiideidbjcieefcijcdiekkchckbbbjibebhkbdbfhijiidfgbhghifcedhfgekffcfjdefbjfbdkchhfigdfgdgckiikfckddjfbjgjkhchkhbkcjbcebkefheedkdchkfdbcdibjhgckhekgkkfhjcedhjbihhdfhfkccfekdjicjehkidikiigegfegjgbcfhihhchdecdkkkgbiiieebeebgbgejggekgfcghbgkgfjgbgjkfhdjjjbhgkddibdgijfhfkdfjjkhbhibcggcikejkedghckjgibehdifjidjkcfdfhebhchkchffbdjbbfgbgdejhcbcjedfedfigckifkkkhbhihdffhicfkeijeggjjecefhibfdegfbgeiijjhhcebfhjifdhghggddkdeciddgbdkkddhbdhdfjcgfkehbhidbbjkdjdbdcjcbjcdkgfkbfjdjjgfiehchhgkcfgdjjcdfcfkhihjcibfgjbigihdjdkegkeficdgeeebeidgbkjdehcfcjgfhgicfcedbihcddihghhbgiccfigebkgggkihcghhkkhfedficijdcbhgfcibgkheiffkffhedkifkhgbgkkbhfjgifcdhgggggkcgidbcikibkjgededffgkhkhgkjhjbihegfjhikhfbgefjkegfihkbcidfcdhffhbegbjfcdbieffjkcjekeghjkcgdikechcbkjgfejjgckgjbgefkgbgfjieekkdccjefjgjfhjkgcjieeghgccddibkcjjbdkikfjgjbdgebhcihhcgffdkhkcfekccdebibceegecigdebcgigjecjfeggjdfjiekbiieehfhhichgkcbdfijdcfbibhcjhjjidgkcbhcfeceehifbbcjbdekcigiejhbihfbkkbhfjdcdbdffkekfhedcgkbejegfdhjgikehfdekhdfebjkgefjjkhggcdejkhgcdehighgchkbkckhkkedeiihbjhfgjcefkgcfibdjkhicfjkkebbjghfcjcejjeiddjddfjkfkdihgidhfjedkbbdcbhgkdkjcbjdbhkchedfikejbkkddedejkfefhcikhiegjeihbicfhfebeebgdkcbfcbkbcgkfeiebkfedegcijgidbifhifhibdjidifcjhhggihibiidjgkicgibkibbikibhkfgggefgigfijckehgbbfkebcgcifheiehggggikfjiibkfbfhdicddghbecbegdjekfdjbdhbhfdhdgehfjgbjbhjhekggecbfbjhciecfeegkkgkkbebkhijjhejbcdkkkjfijbiihefijgigbcfgijbkgdebjfkfggbbiicdgcgjdifkhjejcghjegbdciiegbkbbfjbihgedjkfhjfgbecgdcbcgfcdfjjiffjcedjigddeddgefhdiigfefghbehgegbfhfbiejhihgbiffcgcjckiddkbhdfhbeiijegjhekjddgigkiibddfhdjfebdijfgbehkfjccbggeijbhhcjjgcjkdhkkkibkhefiecgdhfgjhedgibcecccihebjdjikfbdgjhibbgbcdghdbkibjeideedhefcekhgecghhbejkhkjcdecjghiekhcfdkhebjbdejijfihbdgkgjcegckdecdhdkifciefgkebgfbgbjckbbgefdfcedgifiifbjjichiecbhiekjjcikbbdbgidgficeiggckijggkegcgekfhkhbdeigedigfgkfibdjbgkiikbjhgdhfjegcdejbfgejejbjhcidieckbjgkccfdebfkbjiejjjgbchehcbeecgcjdggfeeifhkheddhkjkheejgjibdgbkeijfchfdigidhfegggddfcfffbcjbbfbfgdiccbdhbeffdijcdiiejckddjcegekbidefjgibcdieecgfhddcicehdchffdfhhdijciefkbfefgkheehbbbebcjefgdcddjicikhckckdkkkebiiibkbfhdgfkdbjdiidgbgdejkdicdijjjhgckfkkhbjiefidjggcidfhjkgciedfjfegcihfjkbhbkhgfbiidgdjidjfhfkbkbhdgdkgghfihkgcfeiehekbbeibicchbffbicbdeghhciefcedecghjjcejkfgcchccfdgicjfekcbfbhdfeiicikbghjkbcgjchjiffifigeciedbejiigjfbfgikcifgbdhbebfegdkhkhhfbjeeceifjfbiibhdiibghjjbddjdcigdbeegjjgfcfffikfhjiikggebchdeehdicbiecgfhjiecehbjkjfjdcechfccgkbdkgefeigdfckkbfcfbdhebhbdiicijhfefkgjfejgbkkjddhbdeibkfkjkbiebeidfhigkjhefgjbccicjdbhejdbgbkbhifiificcbhbhbeicfefegkcecbfgegjggbiihggdfcbjgjdgdjdcdkbiffefikkdhddhgffkhkgkhckbfdbiibceijbbbchbfhbkhihkeeihgbbjddiiihgdbbdfbgiigebbdbjcgibdjbdeebgfbebgibbgkgjdciecffjhcecekccejdgkkibhbbhggkciikefdeeehkifjfhdbjhijhgiddjbggfjeiiibgkdichkcidjicjbkgecjbifiibjbdcbhhgjcijgbkfkdbkdbhdfffedcdkiikhcdjidgjgkjkfcbgkjchkeehjgfjhdgbdbiciiibdkbhhbicgkgehghkfdefkhbbjkeceidjhefieebcegfiecikccfdcjggicgefbibcciihdieddhfchkegieeccgcikhcbhghiekjjghegffdgghebcjjdhigfbibbdjjijbcififeihjhejjffibggbgfefbjbbhiifjdddbgbchkgkchihfgibfddjedkfheejeieejfgcdgfefcbkhkgkbcbfkedjfigefcijbbbhkgkjgidgeejhbdfhjghbidebekjdekhidgfehedbedgkeihcikgbdekdffdgkjejdbdjjhiccgidkfibfedfbecddiickbkdbcjgjjbceedgfefgfbhihkejddbefgghehekgkdjdikibebhdkkgfbjhdeeddkhegjgggdfggcgiekgbjehidkibkfbjdhkkhhdficbgffcgcjckjhhbkdikbigbjgbjiieibgceiddfjjgbbkdggjfgkhhhiiefibgigbkekciddkhcffgddbfjdcbcehkijcidefkjeeieckdbiebdecijghkfdbggdjkijfikeijhcidbbhfeibkffdbegcijihjbffbicjkibihecfbbdebeddikdhckffjdjjifhgjjhigdikebfccdcfjhdfkdbbbiieibibhbfcifhkgbgbbgdfheebdkgkhikfkfbgdejcjidjibbficdfgciehghddebddkeihgdddeicfkcfkdjdbihihfhkebifkcbejbgecbhhcbbdbcdbiehcbdhbjekiccfekjkgjeikgffefbgjcdbfghfckkdgkbjijfbidkdjifgjbdfhgkdkfgegejjdhejfbeekfhcihebigdbecggjcbdeckgdhdccdecebbhdhgbijdfhjfcfcffjiedgddicihifcjbgbcjkjekbhdfbifehdcdhjejgicbkicgcigeegcedgefggjedhefbibhghifkckgeghbfjgefbbfjbdcghebggfbhfdbjfeekdgfcjbgbcggfdhhhfkgcigbckdgdeddkjhecedbhjgddiejhhjkbihgchhicfikbddebfdgdgcfhbijdfjjgfbdjgkebdhicdhcjhekifgeefhgkjbejcjijjjckcghgfijhgfjgkbejcbjdggghjidfkeikgifebfhjdgccggdhbbjhhkhekkcbdijfcdjebicgkdcbbkkebikidhbihceijccffkcfgbfdjdcchecikjfbihjkckgghfcdkecffbhkkcjheijdcekfjccbccgbikhkkcgjejicbcfjiegkcfbgihbgehegcikhgfkbdghfdfikkdhfeijdicbkkikfjkdkbhdciiikhkcfdkkcifggfhfcijjdckjebddhekgidcgdfihbdjfehjkdjihbggjfgedicfeekdhbbcejjkbcdcffjkjfdekgggdekikgdigdcjedibggbjfcbkikfkbdcdgjdjdkjfeifcebcgedcijecdciddbbfbigfddgdfkkibjkhgiikhhdgfefkdjihebcfhhcifebidjgkdhbehjbebcgfjbkjeikjkbbbebiicgkjkbhbejkjdddeebkhceihdekchdjfcebdcgekehfjkkdcbbhhhddfjjdbceffbhjcehjgdbddjfhfbhhhjgdehdehffdicjiihdcidhdcfjjciihibiiikkhecijhkkcbhchjcgbkekebhdedigchejhbhjbfcgcbijfdbgcdkhdjgekejbjgdebjddfickfdfeefghbbjcddgkkbgcjijbkccfheccdjfhfckhdkbjigijchiihkidfcffjgbeijfiddichgebebedfiebdeifdgffgkgcdjgkegehbiiijgcfgkdcbekefefcbhibghebicjdchgebddfgeikcheiidcejegbfjcbefkekidjcdfcfcgdjcjkjfididghbhidjhbeijbekgdcjhjggijdjbgbdhfdfbkjgfckgijffgbhihbjfdbbggjhjdedkedbehfedihhhhedbicjkiiebgkgjkgjffekbjdedjbfbjhiccjegkhciddefbkgcfcbdgicgfigfhkjhkkfhfkdgkcjigfjdbfjgcgeggejdkechkgfgjhebfbfgekgghbbcfkkifgfihgiiejcbegkkekbdgidcedeibjfiejekijbidfhicgeibcgfjffchghhefhcjckcffdbcecgfjgeekjkfejdjcfbdbkifkddeidkchjihdghfjifijcchjhfjcbijkiiehhgdhjdhgcgbgdddgdkkfgkhidgdgcfgedkbciceibgckhhjgkidikbcbeggeghjgdcgiijieiidhgfjihgggcbbicigkigcfhkihhgjhhihfiefdkdiefhfhghgbbfhekeijjgicgbgdejbdhjkfhgeifhkdiedbdcijbhbkhjjhidjckdjkkfebegjbbeidfceejhgfgdgdbdjeegffdkkhhfcbiigkhhhbekdidfgkjibbfjhgfeicbkjhefkdcgfiejkhihhjefjfeecfbhbicbjkebgigfhfekjbbcediigbihibkieghckgbicdjdjkdjkijdhbcdedjbkhkecjkgfhfhegibikkcdbbkcbidkcdjkbdejbfehejiiddjgjdbejhckfibkbckejebjcdbfhhfkkfjgkgejikhefbfkkdgdfkgbkbdgkhbbhjefcbfbfedciigegkdkgbekcghkhkdegghihkcdcjgciejgkkghcekhjhefccghdbbiiefhbfhckijhcjgibidfhkijgekjhckgbbdcbeggfjbjhjehgkcdhjkffcbffckbekfifjigfjfiejieedcbecedhdkkciegfkgcbckcbgeidjkcjckebfhhbgbedcchefggiebbbgigfhfhejefhdhbijjjcdjfecicfkiffhdjecgdjkfhjhgfccfckejbeejcjdcheehcgkkdgcdhdkkehbkfedkhkcdkdbdbbkjicijhikdkijebgfikddhgkcjhjbehbjjhhkiffgckfdgibhkdfkcgdegjdgeiedfjffgfkfkbikhbcbjidkfiiedhgdeebkhejejdciijffecehgifdjdckkbffbfkbdgehdhgbbchdhihhcjghkfbghefkeihhfcjehdijbbkeeijechijfiicjbegbfkiigdcdgichgcikkfeihdefbbebbbjjfbhkkdbhfekbhfheiicefdicibfiehkheiihicedjceidegbcefhcfihgkfkiceegbdgfjkbbkcjjihgjkegjjjcgeigkjfbbcfhicikgdhjkchjhiidbcfiijdiegbgjchjkkgdbkbfdcfbdicfjcdkcceedkdgeeddjjkdegjghgfegcjkefggkcjcebkicefkdighghebkbhkckbgbijfifiejjhdhjhdbifkfedckbbibiijbebkgekdkkkecgjhjegbggbhigiggbdhejcfkckcjdddighcgikhfjgfkjcgfchkkeebeggkfejkfddjkdjjbhfffebbbghbfdcikjhdkfeihebekcdjhggefffbbfikifcedjjcbbkeceekjgibeggkgbicebhfhjjkeedjggheeijgbjfhejjjgcjfbeegjjbfhjjbfhdbfibifjecbjecdgcjdddifccfhhjejbkgijcgikfccjbccfbickfhcficckijgkddiicegkjbcedbfgffdbhejgidcggieehbdeegdchgecdeibjgbfgdjihdbedbhihkfdjfjiihghdgfidgkgdhhkghdkciebcdbhhehcbdehfbiigedhgfifcjfdjhcjcfhdjbccbhifidjekjhjehccgciihjihhkfigfbedcefidhchehhjkegeddbjgejcfcbfhfeecbhgfifkhdeiihgcekdikdjijgidhbbdhedhgbjjbfdkjdbgeddghkkjccfcfchigfdggjificgbeciciidgfdikgjcjjbfbjjejikbjcjicjeebeihfkjgkhiidiegfkefkcdejhkjcjbegedbdgfbekckcicjeifggfbcdfbhidfigkbeihdddjegcbkibihfhiedfbedfdeiekjbdhkkccjjeicegfgchdheffgfdkidejdiffefdjfkehbgibckcfjkbcgdheeckjjihdccebecicfckechkehiffkihdikibggdiceibeefcjgkdbeggiifcjiicikdjgiffifgkgjjjkgjcgjfhfbjbhgghjcccdjkkekiddfikcfchddggbjbhgcfjkdicbhfkbkjedibeeebfjkfgccbhfikigcdkhkehcedifcbcebehfgfkfgggjckihdgkhdijbfgbjdkbeeehigkbibbgjckcegkdbhfhgjkjifjecikbhfgbbcihcdjbifjhjfhkbgfbijiddikjjhegejhiejbjicegficjhjcbkccgifdhkkbjdcicchkhdgdbeiidfgddeifdgcbedeibihejjeiehiecdfhdfbejggjekihdbhhdhiegjbffbddghdckbibdijdcicdbiibefejhekjikhgiddebjicfjgjggcchfkghgdekehdeffhgghhcbcciedbbgbjicfbkegeefcbhifchcjjbkjdjigcddbfdbhckfieheckfjigbbkibefbbiegjegfjkbddghkcgehjiciicekdkikggiefkedhffcgbkgbgfhehgfdgcdhgjbkiecbgcfehgieiihdkgdgejhkbcijdfbcjbjefjhgechgdcfkdfihdfcihdbkgejdckibjjffdcjcfcfjddigbjbkgcgibiicegjfcgcdcdjcgeegbffgfhijdichckifckieiefddehichgjgkdeikjijjbkidcgdiicjkkjehidhihffgejjckjbgfekckkiehfifccfchcijhdegdefkjibcgikhjggbfjiibbchjibkkcjbcgbgbfdbkgjbgdejgdhdcjffkckkeigfhbefiffddjdchkekdgcbbhkdbgdbjiiicehhibbibecjgfcefdjjcfkfbjhgfbdegchdjidjfbjjejfihkdkbfjcefcgbhjfdefjbfkeckgbfdckekcjdkbhkhhicikkbedefgfjegecekedkkddhhkcdjbcbbifgjdcegkjfeebihjedjbdbbfdfeiidbghgkdjgffcfikjbeibghfjgefhjfghkfghckjcbbehkehjcgkkjdffbbcjdcghgijhkgdiidkgkfdbbkediggjhgdcdkkcfbcfhkhdfkdidjiegjbhgdgchjcjfkfebhfdbgiijbdbigegkceibicdghicghhejgdhcdffgdcgbddhjgigcfejhjigkgdefcicdkchdkbcgcggcehfhhkhjijbeheeicbigifgicchcfidffdfbibbfcgcdjdffikfbdeihddibdebebdddkikgegchejhcgkficjbifhbkkifhdfbfgkfjkkhgbgckfckgkdhijhfhhhkkfgffghkjbdibgffcdcfciehggjebgkbgbeiijciccbcdcfeihhieehjbbgkbdkjkjejiegbkfchdfgggehkekkikighfkifbbigcbjhhibjfgdbhijgfidjfdefgchdigjeecdfcibffhbkjgkckejicbdiidigcgeejdffdggfjecebfiiehfficebgggiikfbkhhefkhjejeebgkgidkfhggggkjcchkcbjfebdfffedkjbdeikbcikdfjebecjfdgcbjkdcdjdjikjhfhcgjjcbjbjhfdjhgcjeegkbbbidgikjdkjiihbibjeihcccdefhdfefgijhfhjgfgfjgfjigjeecjhkddcfckjjcdehjkjfihcidgcghkegijbbieifiihchbffihdhkdffdbihbgkkgkhegjbjekbbfdbbibcbcddgdjggfdhhgbiiihfhkbkijbgggdkbbkhebfkhcgchehhffdhkkedckdiiikggfjccejhkdkjkiddihkcebfhbkdceiecbkebgbdkdfbbkbffejhfdkifdhjjjibcdcdgkjeifgbgejdcfhbhgdihicdeihjifihgbhfdfkfkbkcfjdghbfejifhbfdkhgeddbkgfkjjiigjcdddefefbefikjbjhkhegegkkjiehiikbhiifdiejdidbbfdgjdhfjhdicefbkbkejbkeikikbcijjjcdeeichecdjbgjkgkcdfgjggcigibhbgehhbkgfeeedfcebfhbgfkkkfdfbhjdekihdbfhehhcdfkegcgkdjdiijhikkkjffjkeijbhcgbcedhfckgiekhhdifcjcckkheibeckkjhceefhdkbfcekkicikhfefigdejbgcfgjbhgddgkihfdjeekcjbibkicbfhffddkdhibghffcdgghcgdkkbjhbbkjjecbfejkkckhkdfkecidcgijghiehegbhjdkbedbcbjbfkffjjbbcgckebhdbjfcbbbbjdcfegbkhgifbgjbfihkgfbcehgkcegfhcbdfdkfdhbdgfchihjddjdkbbffdjbchjgdibedgjdiicgbhfdhfkikkifgchgbhdiikkbjiggecgceifckjjbfjjhccfdjjficdgjgdidgedgiikijfgiffjdikfkgkefkjfhjfbkkfcbccfkbdkefdbibideffdefkhhfbgkdcgkdjfejdgicbdegfdiebdhcegeebfhbibeghcebibgefjdkhjcfceghdgkfjdcikdkkiehjkbdcdeikddefhjijkfcccfgbgjkekcbhifgkffkfdgdfgcdkeedjhdjbeijfibebeffcddkcjecebhkggfikkddckdcbdhddekhfeiijcbhfccgcgffijddgdichcicjcdfkckikbbhhgjekiijejcekhjcfedhjkgcdbfkhdcgkhbfdikcbjgkkkiehdkichifebkjcfhebcdekheghegeigkhjgdiifhkkkeidkbbdhfdjicjicidebkjjejjjebkkidckebekjeidkghffggfgejcijjebjbhihjbgkjkgikdcdjdcigbdhikdbjbhbkhbbgjcckfgikchibgdgcbecbhjihhiihdhijdgibcbccdhdgdhbihgjccfjbkkgibggeghefjdhekbcdjfjfdidfdbedcfkjifgdbihdkdjkdkidgjbjcbebhgficehdkccjddhfcjdbkdcdhbkkbjbchigibgcgijkgdbbkcfihkgikhkhiifejhjcikihgbcbchkfihkbfhigfdcgjdbifkfibckjjcbdcffbbjhgiciffdehdfidkegkkifjiiffgkchbkcjbkffbckjkkjecghkkdhijgbhigekcjeeicecfbdjcdjbedeekhefgccgihfdikbjchechcigkfdjfgghhefedhdkbgkecfbefibcbffkjggbfghejfjifjhcjceccgjicbkjijgdgbeedckdkdhjgeekfjdjgkhicehghhjbeicdedbhkkgbibikkbcejfjfbbjkifbeefeedhkjhiedfbehcgbdeigebffcfkhfckigdhgdgdfdkhfgigkdbedfdbjdjkggcjgkgfjibgjibcgbjefjhfcdhbedcchkbkggbkdedjdgcfbgjhgihghieeehkhbekhiibdgbhdjfhibdfjifijeghkhbcgijdbgkgbgejjeihdjifghbfhebkfdbjgfciidcfijeifibibjjgejhhgkjhckbfjkekhdkfhfgchjbfjigfffhhgdgcgcckdgjkgjchekkihhhcibekbgbbbcdikfgfefgcgfdekhikccighkggkijdkbjfifdhhgchbfhjhfjkjjigjfgghcfjebeckehdecgceegdjhdehkbidbgijfjfhbkebefdibjeedfkgdhfcfdbbjffbcfcjcckjecdbeibefdgdeibjjdebcigggchhbhgbefhjihkbbiibidhkickhcihbgdjjfijchbkddedddebcebkdfdjcjfcdbjhdgecgkidhhheedddfbihebddeikhhkdhddcfjhdicgdbcfhddiedkfjjdbfibggcdjcbbdbcibgfghkfhdghgddgbhcbfdfdjcdbgceghdfhbifkkicffekddgjckcfdffjegidkiccbiifibbjejjhjdfiggijeffbdgghcfdjeijdhigjfeijjhdfibihhjgbgbhgfedfkgiicgcfdejkiddhkbhcgbkfcfkkjcggggiehghbkegjjcdcekehfkjfjcfeefdhkdikfbghegedekgbhjdhfdihjhcdfckigfjkkkfjciihkgidhhdeckbiffhcijiicbkhcfdhfebbdchfekicddhgbfbcfbhckjfkifkbhiecjckgbikjjddicgghkgikjcfggcdigkkkceecbbbghkhhghgjgfccccghkbgkicgkkckhiheekjjjkkkkcdbjecjbcefckeibkdbhhdfjhbiehcgdbcckhkfehdighfigbkicdjkcedghdbkgkjeghkjdckgffgiccbdffihhgdckfejkfkkgiiiihkbcgkbgkdbbdbgdbddkdkfgdkjhhkgehicgjgheegbdgkhgfcedkffihikgbhkffkbchcfhgdjdfhkcbeebkkhehfbjcchkbjgheffdbdkigdcjdkgiiidkecbegjbgcdkbfchdbhgjhgegkfgkhfcbibbfcidjbfbckghgbijccgddkikcddegffcbgjbikgjeiidfikjdhjbkjidgfigbkdjjgfjdcjfcedfbjccgcikcbdbgdhhgdkefkkegjkijhcfdbekdfjebebfehkjekdffcjikeffdhibkjejjfjjeiekfhkkdhdgbcghhkfihfgbkdcfedkgcjgfidfdfejbifkbjgdkickcccjgjgfbdiekefikjjgbghcjbdiichgdgcbfjkggbjegbgihebbdcfcdkkhkbjhgdjcddiffghibcjhebdedbfcjkkbbcdgeegkhddciffkfbfjfdjjhjgdbbhgkcbkkggfejiejcjgkjdciegifidbghbbedhfecidfdffjkbhcdkifedebibchggfhghfibkehhehfdhhcfbkfegcejcgfhefhgiggkbhhdijfgkeffikgcbhfbkgdeichcbgbecdfkjgkfhccibcjgdigcdckikcecbejjefdfjbdjhdgcgcbedhhefidhicefdedkfkkhgdkcfgbkhhhcekieejigceffkfgiijbhkcecgbdfgdckkfbdkchgdjiheifdheikhjekbgiedjbkhkjdifdkfbkkhbcgfgfkeegcikcddbgcfgbdechdedijchdcekejbfjjekkdccickhkbfbighihjcekcdchbedfdekhgikdhjjifhjckejcjjdedcgcgfjefhbeibfhgegcfehjfbgibjfififiebjddhcgjihjkicdbibgfjibbfjefdkbijfihhihibggedggjhdgbbbcddgbbfbdhkhfbbdbgifdkhgccfckjbfijfejiigbdjekjifkcchcgebcikekidckbejeceifehbdhdgcfeggchijhigbfffejchffgikegbjeeefggifjcjijfcfdhfdibhbceggkieehififbjciiidcihbdjhifeedhdfdbcjikfbigggbkhgjeiibcffkcjefjhidcccfegbjbgeiiifjjcbfjhcbddcbjcfidhfdkbbiidhkhdggceccjikjdjghhjccdihdggedhjfffdijjkcihhcefbijhkfkdhgfhicfijdceehjkcgegfgiejbcggbfjidjieefbbdhfhfheifbegkbciedgibckkkdeiffijgfddikdggfcehkebhhjhegiceghkjdjjkdjcckhbkdecegfjbkefdhfjjhfdggceefebfjkhkebbddhjjcjedkggcjecefjffgehbghchhejdhdeijckddbiejiihbghkggffjdebichdehikfcgicfeedghkhjkkhfikeekbhhbgjdbjjcjejecibkgibkggbgjfbkkcfkbcdkiihigkgijbhbehejbdhgcffhjhgefkefkdgjhdigcjdjfbdfhgfbbgjdhbjbifjcgkgjiebcdigdhfbkfkdgfigfgijcjdhbcbkbdigbdifhibdkhckghfdifefhdghjhdgcecdfdjfcbfkegkfiehjfgefcghihikibbbfbhbbhjdegceedheehejgecdhechfkibjkbdkkbibbeccfdiihbjefjcjhbkcikdkfbjhbfbgjedbgbkbfikjdijfeebgkbegkcdicbebdegdgbjbiecgejifciccfkggfiekigcdkijccfcgcdfkiieghgbiecdjjgkkhbefcddfhkdehkgfkeefdibkjhhbgjbgbiffebfigjhcbegceidccehjiigjfjhhijbjiceckdhkgjgkjfjjccgjgjkejbggjbijgghebehkhfiijjicegekjfficjjgdfgdefdgfjjhcfidceiikhegdiefjhhfidcgcifhcgfkjhkhjdkdckfkdcjgdchehfgjjbbiekeiibehfffhkicdgdcgidcighikigfbfhkjcbkekgdjccfjgbhdgkbbiifgccbdcjckhifggdhjgbdkhgijcfiekhckbcbbgbggdcfkbdijfigfdkkjiddbekkcchigjbikbghhhhicjckejdbcbfhdkgdghigibifccdhhkfhdhbjcjccbgbddfddifejckjcikdjdigckcdddieeikdkijfjgfffhhhcifdkdhkfcegckfgejkfdjebfihjkidjgkhjbdgddfgfbjjkghjkjcdjijbkbkiceehfjbjbefeggckcbehickcikedhekiihedcbkbchhghkbbfcchdefegbkdhejghbhbkgjgkeeihchkkkedckdfgebceecdiiedcfhgihjfkdgidcfekgeiigdhcdkihfckfkhdifjekbjfffikikfgcjckbchidbdbefdjeebjbggbdjkddeifciegkefjfejfkhdcgfbdekjdjjiefickggbfekfdkjkdhfffijekjgfjfgbekedhjdcgedggkejejegbidigcigbffccedikjgcffhjdjbbgkibbigicjfkcheghfdbjjccjkcfcgjkjbjkefkgigighhkhcicgcihceifdgkkgkgcdkefiiehfhkggjgebhgbijhbhbegehjcfdcdebeddbhgjijihhbdcegfiecjefdgdcdfccgifjefccjekchgifkjjjijhhkkbbgghdhgcbjbkifigkbbifecdbheegebbifbkbicjfjbhbjfcdbjbhikbhkchchdgiedefeieiffeeibigeikdjfgcdbkicdcjkihbefdifgibbggiiefficfkhcikfffidjkhcghffdcjkdfiegibdbdccjehbcdbhkejfdcecjgjbgejifbkieiefdcceecigjgffihdeecbbjgcbbbecedcffjikeibecficihjgbcifjjgbcjhcdfiiddfhdedfehhgekeckbdbkfkfgjkifdcgecgcgdbjkdjbckhjdkdeehhkfifbddkjgcbiicciihbfbcggccfhijbcbjcibgbkkjfikdcbjbifjkbjhejgeciidgddifecbkfhkbdcfehdkjejifdeiedgihficbccejhdgkhgjjhjgjegekbcffkgfjgiebghhedjfhhhcdddkjfikckdkgkkedhkihjfhgjijekkkegifcjggffbjdkdjhbbgkegikddgjjffhfgchkgkjdgcccgcbkiehdgcdbhdjfdgdbkjkffgjigcifbdfiicgddeedkdggeeifdjddcjibhgchecfffdgcffbdfekcbffbeicfcgibjbhekidgkfihcjhhefbcikjkjbfjjbdcdckcjdjfifgcjkgbhkcehicdkkddfeibeehceihfichhdfcddjcekfejigekgdhhjdiecbkjbddgiffedfkceeikbbifkjebegefjikjicecibjeihgbjhbbhgifihcjekfcbhgdbfjkjdjchhhcgbdfkjkegbejhkidbcibjidiffdejhkhdbhcgjbhgigjccekbhhkefdbcicdifighkchiiideihbiijedggjdhkigdefjgdifckdcejdgdjkekkhjcdijcjgcdchgkgkggkjdbibiibkigbdekgddhdebhbiedgdecfikccdddhfjcejhfkkdefijfibffghdeheidchjfhgfbhcehhfjhfjecgjbfgjefbbgicbkddgdedgidgccdjbgidcifkfbfdbbkiidgjbjddejjdjkcgdgjehgcddggfgdbchgciccibjffbhffgibbiiebfebkbkefibgdchciijbdfchfijghdhhdfgiedjbcgkbedcdckeekkikdhjecfhjjdikkdkbkdidijecfkeekjkgfhdhgiffkgjfigfigkejjjihdkkbjeibibehecfbikjkgbgjjieihdedgkibeibeekchchbbihfbececbfegkddcjbjikbkhdbjcbihecgkidjbbhjghfcfdfbbgcbefcjghfeggehficjjhbigbdekejeiebekiggckeheekjfchkkdbkkikhbibedcciebbjheijckjfebdgfijgejbcihihfebhchjhkhbgjhhkdkhfhgbfiigikdfdkihjdcbhhkekjdcjigfcggiekefiibhcfjgficihfffhegcegfifhgbifejbhfbibdbgiekchcekcghjdddkfidgeidcekehdffhegjibicdihkdjhgckdeghfibgdjehejjjigfiiciccedfcjdfjjcebjgfdkcgkjdigdeebbjehidehejdhffibikdggejhbgdjhcjefjjdkbkigehcbgbeiehkhdjeifijcjffkdfighgjhgjkjdghcgdkggjfcbbgcdcfkcikcdfikhceedkbifickggjgefbfegfbhjkikhhfjebdgchieebhbdifhehkfgkgefggfdhjcjffecgegdjececiebdhdigcfebebgkdidbdbgihjeedcbehkbbhckhdcibjjebegkfcbijgebbefjhbcicjfbefdkhededjckkgcehdbdgfjfcegekjggebhcdkdecgdehdkiichhgkbijbcihgbhdecikhdfhgkificiijkgeejfdchdikbjhcighchffbdkfcfckkihhihccdkcbijkdjckebgjdhbjehihiejcijdcjgbhbfhgkecjhcbhkfkfbfhdbkfcjfkhbbjeikikdbheifedhejjcccgjbcjichfjbjihijdhedefehccehcdcejjhefejjkeihcbbjbbkficjcddebfeegieebeckgdfhdfjccfdjefhkhjcidkfdjbidheckbhieicehicgfcjhckhjjkhjfbcbcdkjghjhjgcifdeeebkgeiiekhijkdcefgdbiffcbccfbdfgdjdkbigjkgfgjfdjebchjkgkehffbhhhkejjccddkkcfeecbkeffhkhfgckhbedffdegfebihffkkgkfdeidbebdbgkkcifdkdhdddhfdhhggbjcikdeibhijhjhbgdkkeehefkbgeeidchehgekcehjjhcecghhbkbifhbfjbkhkdkigfijddfecgdedciefchicggcifddjcbjkeckibfeefeiejcjhdcjdeheifgihckggkehbjchdkihkechifjhbhfcecdciddgkgfbgjdhchiiebkffeecbdgkichddighhjddcfbhedgffgidgcgjkggeedeicgdgckcjfcebiibejbbhgbhdehjikiegkkejeigkjefcggjfjgdbfckbbhhgkijhiggdjedccjdkkdgjhdeddbhbdjcgjjgddbhfibcbhjgehbjbedhbheciifgbkedcdeibfgekijkcicjchbdjjfckfdbkkieihjbfjbdkekcijcbeghgdjfhhfgcfgefdjigcjfbekgdhkbcchikjdkgbfhigbjgjbgekbfbdjffjhbkdkbhcdkfkebjifefchiejgijegcjbiiijgdddgcchbbfgdebgkkhddkfhedijfgdjfcjdcdkihjjjfchhgdegbfhkjcdjddggbdjgbdfjchffibghigbedfieedfigfjjcjgcdfdjggffejcgkgjgibcjhgefkckggbdebccjcjckdhgcehjiikjefijfecjdbegbkjhigdfbikhhbcjeehfbcdbkbggdeheibgggkdbghkfjjcfidgdgbheffddcgdegbeijjbjgbjhkdffkcgkkgkbhigdkbhbejidjhcjkkcgjefbkdebbcdfhckhfgbhhijjdhdbhbhkdjkggjibfggkfibgbhgjieigjjgbicdhkgbjkcbkgibfcdcbgfbeheiegcdickeijddfhfidffjfbhcfkfikchgejjhhifdbcddcdbfkciicfdifighihicgjheghhhgjehjjfgcbcbjffbbcgchdhfhdhbdjkgdcgfjgkiekfhbkekgfhffdhbhfgbffebfcgcfkifgkeicgdhcekhfbfbihkbgjfgegkcjhfbdjjdhjjchfgebidbkhhifdihbcdeckicfebcdifdedhbkegfegbjeicghhbkgdfeijhbdekcicijfihfbccbjfeggigekggcgcbecbhechchkfbhjcdgehibikhkdjkggekebhfgcgdkkfffddbheekdbkkbccjfdkhifkjfhffchggbigjicfgcibhdchcjjfdjjbekihdfjgfjcegbkfefidbgeheckdjijiijfddcegkdgekighdhbdehfhgkbjbegcdbkehfefjeihihdjchigfhceiebfhhdgdjeikigjdifeekehhgcbdiigjbkgbkchbiidfjkebhekbbffedbbcdceefkgkekebjkfchbbijfgbeckjbhfhejbbiejcbekkkbfgddfjkkcgeeikigkcfkddcckckggfdfkhckkikkdgdfgedbgkehchigefhkddfbgjbjfbcdiiihccdbdfegbhfkddhkfbiegdiihcgicgbkjibjjcigdddddfjkfebdfffjjkgicbcfkhjdgebjkjieibjkghbhcfgccjchgdijdciejiegbhbcgkfbbgfbjgbcjhijifkcihcjfechbkichhikgjbcgibjkcihefkkfegefhiffijbkkekhjkiekcfjfegcchijfbgkfbdffcbijdhhcjjgeijcefdigbkdbgkjkdbghggbjbbgbhhfibcficiidfkeehbjedchecbhhdedbihhkhdckeciiibigkhggjbkgcgcbkkhdihijffddggefbebgeedfhcjhkkfcjgkbjjjfgfkbbebehfgbkcbkejcddddfjciehgddfbgcgbcbbdgdgghcidccdekdfhdghfhekihkfcefdejgdccjffbccfgkcdckkifkeceicjhgiibgbgjbcbegbcekjjjebieihbbgdgfbefkdegfegdhdgkkdccdjfdkgeiekdjegbjiijeckgjhbjbeijdjdhgeekikbejbchfejcgfgdhcdcfiecefghideejegecidkjhhjfjdghcghbfbfbbccfccdigdkkigbfibjedchjhfegfhgeiehhhidbdckfhdhghbcdfhhjhggiehkgjjkbdhegfbbhbcgdhkkcbijgfeckdegkkbdhhjhgfcbhbebgdkfkkjfkckdffifgbdgbbicbgkgfeheehefckcbjdfccikijcfbfgfdkkcjfiecgjfijidbbhfbcfgccbejfibgccfhgheggkgfedicbkhgciifkffhkdgejbgefffdicdgkeeifjhedbcgjihhgdighcjhjhfkkcjjkkdcghgkgideehkgegkddcjbbejfghefjbeiceifkjbijgdkhjbehdhgjfbhbchfhgkejjkbdchbgidebjhkffgdhffihfcgeifefebhejcdkgfkfbkjejkkeefjdkdhfgjebhgedhjbbfeidjiihkehdbhbhbbfiddeigekjbjjjhejggfbhdkhjihkbffcbiehhgejcgkhcjdhjhhjebhhdhgfbfkbekfdcjcibddijfgjchkbedhhfgkkhdgecfkfkcedijcedidjeifkgdheijbfhcjkijkcgjbegbjfhggjhedjghcfgddjdbgkdkeibkfiefikgfkegdfbijdgjefdkjbbjbhdfffdddhjijgeejbfjkibhdefhffjceiedjkddijcjjfbkddfccccgcdeidcigfbcechhjcddgjhigfkhfdjkjcgfgkjjifdcibghichbbigdibdjjbkdhjeedggcihgfcfcifbegdgebigkfiejddbhfhfebbdhkckceiccekbfbghckkejeffigbfhbhjedigbdbhgcijdcjfbcikieicgkgiejidhicgeeddjbhbigiefhbgcgdebcjfcifbgjjggdkgbidkiibeifiddcdbhifgickhkkbgggcekkfgfjgdkejchdicicjjdegjeejkkiedgbgdegkgcdhbhffekfckehbhkehhhkgheiibdijjfhkihgficfjgkiiikghbcgicchccgdcicfcichhekjdkkkhfhkdchgghekfkhcigfebijhbjkkbhbjecgkgkhggecbbfbidefdfckehjefckkkbfehifkfkebhegifccdkbjhbkfkhjdhfcggdjcgeijgkjdbebghckbhiikijfjhchkgbibikfdkbcbbfbkhhcdeefbbjdjggfiffhhdcceeiejhhcbkfhgdjdjjhggifgccjjfkficjjgibbehjfgghdjkgcghkcfcggiifgkgfgfbdjgceffihbeckffigjdgdjefiieigbjfghdefhdcidjgdihdbfhgbbkkeihbffbkhgdhdfedfbfiegbjgcedghghbdffekddgjjgcikdjhigbffgicjejdddjkfhdkdfjcjfkjfdkjijfcjkhjcbkjgjffjikhgecegkgggfkcfijikdehhichdkfhcibfhfghibdhfjhebfbjhbecdckfhdejhghdecjfjekfhbghifgededjdchhfgkkcdfbhbebgejkgheghbkdkjdikkecjikcdgjchibddjjfcikjidibcdhcdgickgbihjgfijcckbebhejkebgbbdcceffdcbbgfkggfehkiigeffgjjdjfjdfbgdbcihihbficbgkefffiekggibjikediccgejkgibchdbkkckeckjgfhickkgfechkcfjiffdekdhbhcdjbkkifdceddkgegeifehjfjegkkjgcfdcibbdejjjjkbbgfkjkffkgkeedfefhbkhegcgdegjkbihdcdiecjfibifdgecibdifchgeieccggcfehkfjjkfdfejddbfdgcegdgdcddgjcifkdjffdkjjbhhejdgidbebhkdijejgdekegdeijidcgbkjfedhhiekkkjfhkkhikdhdhhecbbbcchkheeiiikdkifbibeffdkkdikbdchbjchkdibccgcheffhdhjbhffhbkcfehbggcfkdchccbekchcjjhehikkfgibddjgffdgihdjckjbfhceggifgeihkecjffgiidfkgejjchibfgkhgcdggbfciigbjchbdgfiedjkejfekgihdcebehjkifhekcfehbkhjhgbkejgjkfifgbfhfifbdejhiibhkfifeibchfhekcjjkegggihbhhjjgjgbbdbebkcfgeedbihegckkbjbfcbjbkcjdfhjicbikgbhcgehichhgeekhfchkdgekddhgieffddcddkbjfebkgjfdjjgeicehbddhkdkbbcdefbjhbcjddfbdkgkjdbjechbkbihidfdkcjigfgdgbkhbhdjejdhdbkjebiiihfdecfjdiiidkkfkjjekfihgkdiffkjefgcdhichcdhigiiggebbdkhcgdbgiefbjbckebcfgfkhefkdcciheffckgkgibjefcbgdjgbffihkgdedigfhgjiidbhgifhcdggbcejddidjhdfeidfgighgibhcfkbdcffhddbkkcjbbeggkhhggjhidhkbckdjkfcibediccijcebfbicijhggbcdejdhfgkcifkkgihfhbcbeifegghffkhkddihdcjfgdhffcehhijdbiefbjkhiihcdgchjhbdhhiebdededdfbiddfkhkbicfjiccegkcbbgkeeehefikghkjeihbbggbfjikfeichhfekihdcbijckdkegbcjifchfjhchbheghfcbkihecgehkikiggekjfkgdbffdkkffjdcjhkbbckgicihccfehehgdgffbgdbjcihkbjfidggjecikkggicfbijhjjfeeifhdjgfdffdkgcggcbbggfdfjcchbbfifkjjjbebghbcdebgicjgdbbbdehgdfdfjjbddkggidkgkbgicfibcjkedkdkkeccegihfjhighikgjhjecikbhjdchgfidcidbhekghfikghghejjjkfdfeghiifjeecbegedhjdfkjjejhcbjheifjcgiecfcfceedekkbbgfbdkdigejdkeikjhbhbhkebicgiicgefbddccbieegekhjdejdheibefkgiihfeihdhcijbckbdficfbjekkdehgbkfdecgfddfkdjieckcjfhfbbkfedebjikkefbeiceedjdbdjbechhjekjdbgkjijfgcicdhkddcckidfbjkfifhjicdbccidbhijheggjhecigjgjcjjhdkehhdebbdbjeehjbgcchjefjibejjgghdficjcefkhcfedihjckgkkeiicehfccjfijbfbfhgbhkehidifehjkeideeijkdkjjcdjgjedfedbceggiffeiihkfjiebcekjedijhkjjkkhgehbeekkifekjefjjibfdedghhieibfjkgcdkgfbfjcdghkfibdhjbbkkicdffjgdjcigjkhdedhichbkhckhcbekkgdedikhhjgbgkkjjkbeiifbijbikchjjighihkbckhidbgikjbiedbkefhiejgifdecgibbhgfccekdjjdgfbkickfejcfbejgghbjfcddjiffhcbjeejbgeidhbjbcgcciikhcbbkjiijbcjjifggbhehjdefeecbjdiiefbbgghfijjdjbghdgehejkjjbjcchfhjeidhhkificfckgghjfhidggikidkcdejegffehgfgdjfgeggikdhdfbbefhcgbfchdckghehdjgcbfjjeijjgcdddfgfkcfcbjcfhhiegbehbdjcbhhdebkdgkjhccgckckigidjbgedehdhekbgkgbedkidffjbeghkjhdfkjkjghikcigccccjfekdgjeebikehfkdhdibhccdbbkhkbkdghcdjefhdcijbikjkhegjcjbfjbgdkkhbiebidifbjfcfcgbeekbbkfdgdihdggheddbbhdcgfijhhbebjfbhccbjbehigggbjhcjjdjcbjkjcbfhchkccfikeiikhigbhedhjjjkicfbgibhegbgekcdifgjicbkighkkffhbcgijcikjfibjfjcbkbkcgdidfiekdgccgfbgfggdgjgfdikkgcbbfdehfbijeedfdiiihgbhijhcghciddehbfhdkhhefcgbefggjffkchibgjhhicbdgdcbhdfebjejdjfiihchhbhcfjbfhhihcdiikggkbjdgfhjfedjbfiibgddkcfgiifheeigbeidbgjeiefibegefbbhkcdhbfbhkdbfckihedffibkgikefieikjgjccfjjibihjikjhjkfhhfffhckekdcckdkfcfjecddjgjbgbcdiifbjghjihhgihdgdfbicehjjidhggdcfbcdgbegbchbiikibhdkbebgfgkhkeficbjffiifijijgkkcfjecggcggcebijicbjkgjjbdccgfdgdieccegeckhkiigfbdbjjhcjhfdhehgiikbikjfjdjhccfikidjkggjjeikdjegjcjbhkdegeffhbgdgejedeegkifigkjfkchiigcgkgkidcieigdgdfbhdeegijgehgcdfekieichjjecfeefijejdggekgfddfhgfibdffgjjdbhhchjkfbefbkckebfbffcgbbifjjbjcgdbcdhhhdjiegeeijhfciikbcgkbdedggdekjkjhkfhefbbfbggcgjkdchddbfdbdjeicgjjdijgcgghffcikbjeedkcibfejieeieffcckgbijfibdgfjkidedcdikedcbdbibheehgdchkbikkkdfdebbfeckeigjkkdfgiicdidbgicbjfbfcgccdckbjekjifhjjcjfeiijdkhhffjckhkccjhkehehfkkjjbhgeiecieckfhikbgdjibfkbcjdeebcejjkhhdhjeeeejbcckeehbdbgjjchdfccdhdgcecffigkkgkfkcejdeekhbbfidjfdcjeeeidhgbgkhbddjicheicfiffdhhbdjjjiegijdibgkhjcidghckgkbgkkbekjcfjkchejfhkegeekikkhhhcccfgdkcgchfjgddhbffjdiehcghhbggkecfffjbgefidhdfekeifbcefefcgfgcidbegbfbjgbffcfdfdigfdbhgbigihjbiiiefhifddfkddbgbfjhfeeiddbefdffdbcdfffbgegcjkgkfegcdbbgefidkkfiebjfbdifkjdkbfcbjdfiickeigjcekfcbkhegjffbbkhbjkekekhfdbciigbgfeegkififdekhcjhhgcbhggbfdcfcbgkgdjdddhkgiiceegcdhidkbcbgefefgecdkcgbcikibkeibfcegddcjdhjeiikbhkdcfefjbgghkijjjkejhhdkbccihcfkkejgbcihkgbccikcefkgggdjdkbjdgfgdffkgfhdegkkigkekifdbddghdhfekcbjhkfghfdjghdgfifhdihkdhkhbbhdkbbecdihegiijkkcgedkihkjjcbfbdkjcbbgjbbikcbgikijibgeidiejihejdbbgckchckebhhcgkjfhkfffbdefifbfdkfigjhbihheccjfkbibecbkhkcfjieihcegbkejbkgkicdgdjcibkegbbedkjhfcbhjeckcedghgihhiejggdckbigicbkdkgfddibfibkejiefdkbfbghiiefjkdefijhdideckbkefbfdkhjdiejhejdicgcbdbjecehjkdhbeikdhhfhkbchjeigkjhdfbdjhckhkfhebbbdiecgcgdkdffhkkdcehkjijcebjjcdkegkdcchcijhcffhfbbjkigdcheghdbkffdkfjffkhebjkicijigchdijebdbfkheidgfkbchiccdhdjiifbhgcfhjcebeekjhcidhdeifehfhbfgdgcehidkkfbhccikgijjgibibhjjccdhkcijeekhkcebggkgfhbhfkcgijdcdjcdhhkebhhfihhebcddbdbbgigekjhdcbidkcegccjicjbhjigifbcciehkijfkjbibeidihjfgkhifcegkbhegdhcikeccbkdffcgcgekehcfdjhkbgcbhickgcedcjkeibfjbeihbkbbgdifhffgdjdgkdddgjdbhgjgedjkibhdjcdhigfijigghhddfeifecjcbfeckdihejbjgdgjihfdcfdfjfekkgjiiikidjdihgieikbedhdjjgcdieckjbdfggfhifjgehbfddbcibeefdbkkjehkiikhcfjceebfckfijidgdfhbgbcbibhibgjdgkdgbgihdfjbfgdedgifjdekccjckcjkgefcgidcibibikiccfkkdihjfkbfbfeifggjhgcjikggkghjfjeeghfkfgeecfbedhgkgdfigkkgebffjhckkiiffegifdhhjijfkchfhjckcegifgdgehhfkdjekikdhicdgechckgdfbefjbjdffjekdjikjefdeccfhbehkejjdckicikhhebddfchjcfbicgdfggfiffdghhkdfjeicefcfcfbehigkghjddeehkiibjhhidfhjjfgijbikfhchjjikkfdhfccbddigeefggbbbkckbjjfjjbddieebhdccccghbbjikbgdjibkcidccekgjbdjhgbjeccfkjkjbjihihbgdfbddhgiffkjehkkdhdfckcbihhekdcfjbggdkijehhgidicgiedccigejdfhkigkghbfefcdejeekcjbehigbbffchgkbbgfcgcdggccbchgdbdgkdgbhjgcikeidkdiedgfhibjbjkjhckfidgjhbihjefbkbebekjbcdeebggffeddjjfgfkcdecekbbgbcghfeeiiifkegehbcdbejijkjdjiickkbgjjkhjgegkbkhfgggdkibgjkgjjkfhcgdkckekfdigkkgcihdijbjchchhhicgbbcgkefgebidcdfkkidbfcgjjjjjdhkkicfbhbejgdjgdkbficdfidejecgibjghidbkijfjdfgbfeifeddhdgehicbjjgdfhhihkijcgbdegkdbdecgghifkbfhfbecchhcdfgidkbigcbkgbejikkciibdbikfdjhbcfkkfejehdhikeggceigkgdhfbdcffjkifbhkjkkjhgjghgicgidehkeihgfdjfhekbdgbgibfggcegedjkfejkbgbdcfgihbjidebjjejckkgjfgekfjebbhhiihkcfedkfdbbcfecibecidkfkjjhbcgfbdbkhghcgijjhgicbjijddhickdfjhdkjfcihcggbfkdgcdcdkdhkkcfjcekkhkdcifhkjfhbgjffkcccjijiddjcckhecdjdghegkkdfcddkjgfcgiegjgcbhbbfhdccjgfcieejcbjdgbkjegfidhfffbgedghiccdkggfjbecbhjeegcifgidkgjgbichhkjhhcfdcceeejgfejckgchfhidfijfeikkbgjhegjdcidhcibckjccejfighibgdjcbcbkfbiddbgjjifhdjkbhdcfdjggkkfkhihfhcdihjdhddhgebkggkckkkdcdbbcebfhdgjebgkjgkbddkbkfcdhhechhfjjgghihbhkhgkdcdiigfiiikeefjbdfbdddifhidegddbjdgdhcgffbefhchijjijbjkgfjjeeijcfghdbcbcdggieejcjbbbedcdjcgkdjicjekbfkfcbfdbfkgdiidbgdkhgjdigebifejbecjghfckibfbeidhicdgicejjbfgekddcdgfbkhkffkjckeghdcfjjhgbhfecdiigffjkighgkkeehjicdjdjgkgbhefjjcfeibhkgiiceccdgbdhkkcciigfbgfjkcdkfbeejjheffcihdgceghfhdifgejedkibcgkbjicjbgiiiidggdgfiiikbjbjceiifihhhebicefejbjhbkecgejbihdejijfjbgbffjidefiekddecjebbjhedibdifbkidikhhgdfkcbjhjibgkkjkjcdhfeiefkkgbkkjbkjjhdfdekckfkkcidddkegehbgbgfcdbjeefcidcbdejgeijcjcgdiiedijjfkheigjefbfkhbiiididhdhikhchgkbiidghejicdkjkdebkeckceggbhdjkhbggfffdhkibijkheiecbdfbchiidkfjbcibcececcecjbkejchdedcihgdchcdgdkekkdfibjcdbikcfiefdddhdfjiekejgfjggcbjiieheghhgkceeghjgebchifbgjcfcfbbgfcggbgkeigcgjfghekggddjchkijbfchkbcfkihkfjeiceckbgegfcjkdjeffdjghbfhicjiibiciihihbcdifcjhkibkcijbfhcbekfgkfijcfhkdgcfekbeedbifhejckdeecjeffcdbkebeghkddgeehbbkkkdcfdigigddggghkbiecgfkbjegkgfbjjgecjeeijkbkebhfbdjkgkgehbfbdhfibdbeediekfbbfekbgkggkkchbdcggideghhdfebcgbhjkccikefkchgfdcfkbffcjjkfjfjeeiidbgdbifbdgfbdcjjefdfidghehidbfgjedkbbfbibkjdbccfgkjhdbggiiiejbfcbefkfbjkkgehhikichcjdbbhjidbdfkffcjfiekdekkfdggficihkjbgcbcghjebjhfggejhfikicbbkebbjfdibdihhfhfhjjgbheeibbkbdjheihjhifhgiikhhedhbgcedjfgkbekhcgijkcjckhchbkcifidkkcfebifghgghcjdcgcbjikjkfdkikcjgckgejhikgjjiebgghfjfkhiijfejjdgjghkijbjhhbgkdecjdkjekikbehkhjjfihdidkhcjkhjjhgfkfhkcfdeeficehkbfkkijkgegfjjkcjkkffhikekfbjdjdcfghigcdjbcjcckjjgidjhedceggfihhhebgjegifbhekgdckhehgdekihbfifeibfjfkgdhhkdffffcgjhfciikhdedekkhdhkgbfkjhbbhdieeibfkddfkkeikjbieihedkcggfbfgcehjeddidfcjgkfeegicebgfeijiekeffgikkjgdfhegikdjggeddiihkbfkcjbjifgkdjhbcgdcjbhbfekbhgihigcdfikhijcckcfbfkihghhbdkgdkkcebedbehkbdjdibjedjdghfckefedcccggiigchjcdjekggiiieckicegjcfekkijkibjdfehjcjdkgbfbfkciiijgccdkjkficdjcjgceegdjdhfcejcekbkkcjhfjgggckihbbkhbcefbefbcjhdfckekejjkkfejbgfgekdbdjjbfbjcefcbdhikbieggjcehfekkehddbihbcidfgifhddhijkigkgikkjcfjjdbggdgcjigjfcgkbkcgedbikbkhfcjdjfbcdgegkidegbebchffckjgciedhbfkddbidhekghfgcdijkkjdeeeeefihfgijkbeigfhchjcdhkgeedcjebibkbjchbbgcfegiejjccbcbkhejgjdkdfkhjejjfhkgjdkkbbjfjdffcdbkckgjccdcehjeghgjjcfjkihgcbgfceehfekgjhckgbdhgdiehjeedickfdbgbeeikkggjicbffdibfkecghjbefchjccfdgkkefdibkgkedhjdbciddjgeiefefheieeckejigfchgkjhhjkdkhjcgbjbfccijbbfbbhkfkdjkhdefgecjeckkedejhehchdfeeigbkffchgcifkdkjdbhciicdifdeffcbeehjbhkikefhfifkfjijcfdgcbeeddcgckcbkhfkjdkkijegbhhejhbhfebhkdgjfbichgcejcjbgdjkfediecbcidefcdkfccfbjjckkdebbejhbhhfbfdjfhjegbcgciidifbfbkbejdkccgkhbeibbcdcfegcijcbgcbjbbcehgjbfjecbiefkfikjdbbjkcefkibibgcjegkdfefhggekccdekfbfkgjffcijfjjhbhhekebejgbcbjjcefjecdhfgihedjkdkgicdhefeidbbcidfehdjkgbhiehckhbeihkidchbbefkhhcfdkgdbcdikhjfhehcfjheibgcfdfigffcgdhkgfghcefbecigdegfdbkcbjcgiiijjkkbgjbbbikjbfkdkfeficjbebdddckbdehjikikchibkfbekdgiddichkjhbcccdeebekejehghhdggdeddcjgjgikhdgkfcfjdbddhkkidjjfebgkkkikfdbbcegfgebfegbfibckjedjbkhjekfdhehfhicekhbikkbjccgbhcfbejgjbggkjhkigjdgfifgehjkjfjcfchbkekbgecgehkffgkceeckhfhecchfkckhkghbiidcjceiihhkgfidhfbieghgbhegifkjkikdikjdihjchkejbckghbigikbhfbgekhjkfkjgeiheiekkkigcijbbfhbeiekcjfcbgbeghfhffkhfejgkehjfhcegffkkfghbjiehkjjebdbehkfghjffbdjekikkcbdccgchheigfhihkbfbdigfbbgdbechfchfhbgbchfchfgfgkdbiieihceidhcekkkbffhfjfkkbekdbidgdjkfbccjhhggeicjkfghcgjiffiifjfdbdbgkbbhefciegkdegifkddcbccijgjifefdkigkecdkjihgckkjhkfbhhifdfgkdhccbfcekhdgffedcccihhbddckiffbfjgcddfjfkjbciggcfijbhbifechccggeceecgfgfiifhcdkdgdhckjiiceedfdfikekjjechhijegehiekdfcghedhkdkebibcebgjijfbehgkbihkibjgjjfkkbicbkgjfjhkikcdbhiichfjedkkiefikbbgdidiebbkbigdhckihihkfdccdkjfbjkhdeffkcihgbddifdhfjggejbeebdcehejjefiihdbkiggfibjffieefjieekhedgcgcgkidiiikbhbficfkhdbfighedbjffegdbfcgheibgkbfjcciddchcjfeegcefdjecjjjgebhdfijbfijicckfkdigcfcbifhhigccfiefkkecbikkkbbdhjifdhecfedgjcbfdikgdikcbcijjgjkdckhhkijghccbebgebbeibhchidegifdkhhcijbcfbgjgchjejdgfikdfeehekcgjdibekbebjhbibidbifdefejbcjiddfhkediidcdkcidhbjcehiifbjgekbdbgfhkhckickjhhgeibbfgdjdcfjjjfjdkiegihkckkififgceeeifekfbfgckckhgbhhibkgbbdkjddgfkhkkfeeibkhhhfkdhbbfdhfjkhkcgjijhkgjfichfbjicedebbddhhbgcgfbkhejebdbhkdgebfkdfkfgfhfidebggfcgkhedceghicdgbefcjkfkbjibiiecbfcjidggeddkebghhjicfbdhdedfdeeifekfdgbhkkidbfkbhhgbgghefiehfigiikdeebdhhkeecgeheifkkdfhddjdghibgkjhcfgjjhkchjdgfejfdfdhkjbefggidgfecedfgekgieckihdjkdcibccgbibbedbbkhcjidehehkcididbkkgfcggigedcehifhcghcebdekhdhechgfbbjbdibhcdgfjfcfcfbdkbbcebfgjdkiggeefiedhcicbijdgjdijkdfgikbhkgdebgkgbijhdbgeikjkibegjcgkjcfcieeghejgkidijijgigdjifbghcjgdceecdggkickgeiiiedfjfggfbkjhbceefdbfcghffeejdekcffgkdcffhhdicdciijfgihcejihibefedhdchbbbdbefcdjebhjihbfegikddddgehgkcgcghcdkckkchdcdkbebbfgfgihbjidjfichcgbceckjebidhgiibhkifjdjkkfkcbdghjddkhjhdekgcfdbgfhfdceihjjgfjfehckkiidhfkcehekgdiiihecfcifckifidbgdckikfkdhcdgdfeciehiekiechficcddchdfkbdebfhhdbgjiggfiehejidkhifidbieibdiibkbifbkjkehbbefcjhecbjfjkfkihcbkjccjkdcjdhiijdcfhghbheghhjckgbhcbhhiekejjeefhbckcjjkefdjdeejjfeecbgcjdjebhgejhfecchfhijebbggfcgfgigkgjffebkiekhjfbffdgbfbefhbibcifefgdhjkdfebifdejejdjddkkgjjeckjbkhidjcfhebceihjeffediejgdikdbcjegccdkhkcfhcbjddifgghkhddijebicgjieeecdhcdggdicbhdffggffbdcdcghbhbkebdhhhccfigjefddccddchjihcjdffjhbfiigidefdkhckdbfficjfbjfhcebgjbcdkeikiibhebhhbeikjkgcgcfkbdidbigfjhgbjecfedbhehijdhfhdcggfgkiggegbekcgehcgdjdiehhgdjccejhiffjjdcifgegkbfjgkghdkchdggikkfffjjdhijihjcghffcbecjkccjhcbckgeeihhkfiefifibhgikifjgdfddhhhfdcigghkbjhjkjjdegekbjbdhccjfhfcdhkjckkbbgjjchibfijjggifdgicddekcjfffhbcefbfkfjgbhhdgdcgebcefifbdebffbidgeeikbdchfhejkibegcfdfjdjcckidfekidfgeigiifdhkkfejciibfjghghjcdfgejieicfgfdhcfdgiikcgeibhkkhkjjehhdbdgceifkifgjjhbbfkikbdbgcfgbbgbjgkficdjggggeeddkhhjggifjkefbchidbfecfjkkegkjdfgkjcfbgecejffbhfbfdbijeffebchjjhfhebhdkjjggechfecicjdkkgdkhkjefbgjgikjcikhgkgegbgfdfjgeeghhfjgcgcjgdjbhbcdgjejgbdcdfgfffbddbfckdkddjhekgiefkjbcbdgcikkhgibcfejfjijedhhddhghhbcefdgejdjbcehgkckjcibidedifkgbhdbhhbikjgjcjhhfcbigkbjgieghgcgegffeffddcgfkfgfcfbjgehdbighhekjdhjdkdjgbhbhddbdgehgiheihikhhibdjcidbbefkffjikfiigikhhbcgbcccedgcffckggehkefihfejedijebeffifkeckfbbccijgigfgdfcjjeficidjffddfdkhcdkcjdicejibfhcigkijebkcggkfcidgbfgjddejcghedjfgkdjhdjhejkdbeciekckcbjjfdjkfidbjjejchbbiidedhhdjhgcjfciebjejifjbgfibdkjggffdkdhdjhfejjiijijjhbffcchbhjchcgfddkjjgebibdiehijdfiicdgeeekggfiigjgjiijeekgkfgicgceeikccbfcdfbijffgeccifiefbecjefhibhkkchjkeiehbcjfbegikjekeigcifeijhcibdhgcjcbjgehjgchdbcjgigbccbdhbekcbjeddjbgkeibbbhijjhkdkjgccdciheihkhjhbhegjjgbchjedkchdefdifccgefigfeebbjggdfecfghbgdhgbfhcekhgbkgejgfkhdcccekddbkekjgbicdhejjfggchdiicedjgfecchdkefddjkhgkigggkggckffdikfkdhkfehihkiicdidhbficekcfifghjfiechegkckfgdcebhjbkejkggedhjcfjhicgfihjdhghdkbjkhejiggkfhichhcfdfedieefibkigckjcbccgedjeghhbbkechgeefibbkekfgdcgcgbgbkhigghejbkhcfffbegieebihibhcdhbbfjbjfbbhehhhdhcdekbdikkebffcbhgbbhgdhdhbhgkihgjcckhihegkhfbgbhgiigbgjcbeddibfdkfikhjbdfdfekjgdckdddefdkeccjijfhffjifihfihgddfdcfhifecffkcjikdcjhddieghihijeckifdjidhehhbfhbchbdjcbihfdfdeddhjgkkeihcijcgefdkfckkhhebjeeikdhgdcbedibcfkkfjikjbdcihjbcdhkgekjcdbdcihficdjedhedcgcieikhcdjhiefbicdhfcekbifehjgibifhhecicfiiegcbkcgkkgbihjbiigcihikjdbcgidcgdikghbikkhbiegbeedgbciekjdccibcciiifddbffhbdbhcibedkejbkcebbcijghjbcidkfhfjgibgcihfcgkgfeeicghkbkfefffidccgdkgkfjbhkdichdjbjbhjbjdggkhgbdgkdcfhidcgihikifdieidbhehhjegkkjkbeikijdkfcegkifkhigjdfjihdbcdibhcebegfihkjhhhgbjkibedcgfkjjbbbhjfedgiefehegikhicddhkkfekjbihjkehbchebggbkecgkficfbihjegbibdkegekbbfddfkeedkhekdhjghcihefffchiifbhjgjiikfhihdihcfcchifichfjffkefggjhdibhiikkjekjhhbhfhigkbgdgjdebbffceghebgijijcjiekfehbbibjkihbekcgecjghbhgceicdbehdbihhdigkgkkdiggfjeicjbbjijbijffkddhcgkghgefjccfibkcbijihjfkdbkekfbgbdgjdeibffikbigiibfcefbhiichffekkjbheekdghbcfjikbffikjgbfddkkebbkjbfgbkibeigkjkghbcdgbhhbehbfchcchdgkbjhjbhbghjgckehidefkbkdbeedfebheejkekifgfdekcdkcgdigecdikedfjcdijficbhkkhjjcgfjbkibjcdkdgjkddeibdbigffddcdjjbcbjdfegbdhegbcbjhckfbffbjbhckefhjfkdhgdebkejhihcjgcjfchidcichkgbbiihgcedfffikkfffkeffjkehfkiebceccfekegeeejeigcjkfdcekcckcjhkccekedbibfihjbkigeejiiikddgdggkijdfbjhhficfedfkbejiidbgkefgcbdigcdgbgkdgdhggjkjhjkbjdccccbgigkhdjhhdkjjgfbekejbkecffiebibfddeieefkddbhfkfhddkibccejigdcgkcffdkjgjebgedfhkidgbbiccgdgikjgfgbdjhbebfgigdgfcegjjfhjfbckfdfehkddihiicgdcefchfcjjhfiegjghceehgjddfdbjeihfceiiikiikhcjkehdikcggeeckdgcekkkckjjdffgiijefgickfhfkebccekdgffcbebkfbbejehbfeicgjkdjbbiccdikhjfehghihckeeghgbccbddghjdccggicbbgbekefcgeeijedckhbdckdcejibghgkgdegfdbibhkiifheiifibedckdcbbedcgkeeijeidicdkfcfhdbjibjciieekhiighjfkibikhecdihifkffihijbkcicgdcjkdfkigbgjjcibbgikcfbhikhhkjdiebgfijdffbbgkikfjhhkfbkegehkkhikhfkdieibkigebjcihgegidedckhibhbkddbkcigbiccehjkjefibhbfgfgjefeibhihcbgijkfjddjekkkjjbjfefiifkgefkccfdjihhkdcicbjgjkkjdifekjbfeeicidffjcgickekgkchhjebffjeddbkbedffhfbihdkecgkchjjfdfhfifefgjbcedeedgfdfdeibhkjhckgecchdeikcffejbhccghiheifhdhhgeibcchbideejgibcibebdjdbkjkhdkhcbgebcejkckdccbjkfjbbbjkjjfcecdihdkjgfhcdjcdebffjejbjkdjiddggcfcfdidffdbckhgbbikbjdejjkfkbjekcddbehhihekffegbdkehgddggbekcbcjhbfkfhhghjjdffckhbbhdcjehheiidbkekgdgjjdhgdifcbdkgfbkbcgfbfdjjkjkdbkjdjbggbbhcfcedfekijkjhccbccgbjbbijeegcfbcfkdhdigjbciffigkfecddebgjdbddkehjcccgdfifhfdegkkfjjejiebbjgkijjiidjcbgefhkegfjhihggkcicehheehhgciecekcdeekceedkbfjdbhggfidfkckdejbfkbcgbghjbfddjkkibcighfcjgekfhjfijcfbdhkibbekjfjecgibffibefchgjbhfgkgegkedjcjjikdiieigijkgefcfihhkehfbjhhkbijgbieeijgkigedcfgcgdkbdghbiejjckfifjeibhkfcbhgiiekjdjdigddjbhdbiechbefkbbggdbcbhhkbbfcihhcihcccfhfhgkhdgkfcidgcfibdiddeiecddejchichfcjbedkekkihefcggfjfichdgkffjbkibieeiehihkfkbhkdebecidikehhejiefficfhgbhddehjffjieijekhgbfjkebcehjgdbecdjcdidfcjgedhcdckbhebcfdjhkbhedeckdhbgegghdcdijbdjidcfchcgbbfbcfijichcjfhcbkbfgddcffdkgkkhchejhchfjfceeibjbbfhbdhdddgbkeidediikcddchegiiiddiibkgffhcghcddjkcghbfihedddidjhdjhegfhfefcfbcifihigeficbjbfefekhfhfjfbgebkghhebbkfjejkchjcjfbcbbfgjhcbggekgkcdfbeecidjbhhbbekfidfehccjkehbceechhbejbdffjkjjhjcjeebgickhcfffbkfbdddchfhkbfdgdihifjcgdjhcjdfhihhdiigihffdeehdhddjcijdddhgcddijcijjgbccjcfkecdiggjkgjffeijfkffcifjkffhkjbiigfeekecdkjcddfckkjikdjfgghgkfhcghhgkikkfgjibicdfjdefgeiffccbkddbhkijjihdjedchieijffekffefbeifhejkjjkkgbdkbfhdbkkgbgkhiedhkigfcijddegggfeekcjjhekjghccgchbdbcihedcckhjdbdckikibijkdebcckffggebddfckkhfjkgighijbgfdchbfdjbjddbkegcjcdchdgdgdkchifechhkhkkheebgkbddkfdgjccbegkccbjicdbbbcfefjfecjbkgbbgkjcidkgjficbkdifdgdggcdkjhebgiiiijidkhibkhjcdediikffkieikkdhibhhbhghgbegddkhedhgiehicekiecfiiifhjjgjegfkjfgdcegfkicffbhhgjjhjfbfhdciebjkkbkjjgkehdeebecbbdhgfhbfkcdbchcgkfbceejjiebgcgfejkbjjkhbhfcggifhfehdfieddegdfcbbdgicikgfddcdbcgifjfghbcgijihjejdhhbddgcdcdfkigcdkdfgckdbcckedjfkckefgcfkhgfjhekkdgjbiihghjddjcdbhjkigjcekkfdccdbfegehhefbgbhcjfjjkjjfecighkddhedhhdedejheekkbbgjibbgcbbcdegfgjikeidjcichjffdfjkcgiccegchcdcjjjjkecekkbkbgkkdgigebgfighedcgfgejhcckegijkbkfkfbegkhheghdkbieeecijfdhdceidkhibfgefgibbgiighgfecbihgfkeekecidhkkffibbidhfdjfddijkkgjejcdhiijcdhkbcekjihekggebjifjibhccdjjeegjibgijgkkhdkbieekhebddbcjdbeeeekckijffcifghkihfjdgggbbfhjhkiedfdegcgcdgkjgfdkjcjgihebkbckkcgkjkbkfijdbdfeiidjfcfbkffbfgifeefgiebiijiicekidehhggjhgedeehddidijifgjijjdicjjkkehbkeeffbjcfhicjjhhihdfehgggijggbefffcihbificfegiihgkbgghdbkkddbdjejjckcdfjibjjjckchbfkekfhcefhghdebdihibhhekkgkhikeeddkihbhdbgibfjegeeghbjkgkigfhcjcijcgijgkcikkjbfikikheidjjjhbbdbikbigbjeggdiehgjcchgddkejjfjhkbgcjfdcfhhbbijfbdjcifkgcgjidjkdchjcbbjfhkfihckffkehfhcbebjgecehhkkghcfkggdkgefeihedkkkkhekkhcececegihfggicjhidhkikgkchjkidjbkgbhdhjdcegdfkjggikcbhgjbehccjhdffdbihghcjchddekbdckghcjhdgdehbefbdkdjegijfkbcbkihhgjiddgcecbibbjcekdcefjfgfkjdjbeijghiehfhhghideejiihbfgigbgkikcceikchdegibcccdfhchgkhgbhjehhdcecbkfdhfhiehgbfbcifgkfhhhgcbdbfhhhcjcififdhjbbjihffffddghbdhcecjghbgecgbibdgeibfjdhceiiddcdhjjkhccgdeggjcbjdbegbjkgjekhfjhjejhebfjcjjkeeeefbdeebhfjjbebhgbicijeiicbfgebkcjdchijgbjfeejcidfjjkdfecdhcfdfhfifjijfckdejejfdjejdkeefjbdjcefjdjigfkghehfdhgikhifbjbeighbcgdidbgeejjgkbbgjkfjdcbiijckihheddhhfkkcbdkbffhhkfkbgebcffhfidhfkdikjfcfkgecfeeggfbkdfgkedicehbihbjhjhffkcjhikgibhkdcefddifigdbjkggfghdejkjdegkfhicjkkgjcebcjfbkhbejikejhjecckiigbegjkgfifbghdcejigegdhgddbbjedbkihkbbggfkkdficbkgjjekjfgefidcbcfcgidigfdbjhbcfbhbhdgdkcdkeecjfgbecchhfdcefdbdgiekkhcgicjgfhffdfcbhkgihhgjdbijjhchcbkkjeidjbkggbbbgdcjcgekbjhbijcibcbkjhfjchkghbkkcghkjkgehfejkkikhifbdcceijjiigghjibdibgcggdedjkfidkgcfcdeibdjhcbddejikkeedbiecdjbjjkjhiekhgkkhejgbefdbhdgffdkhdfikhchgddkhbegciffhidgegciehcfggcikjedckgffhfcdkbdgggdcjfiehgegbbdibfghcdghdgcejfifikfegdibifjcighjeiigbfcfdhbiejjiggbbhcghkckcebchbdebhkgbbdkeicggcjbfbjhibjjjdkdhehkjhbgjceekjbdcjbdbidbeieegehigdfhcikgckjibikjchebghbefchcgdbddbbfebejhckigbdidkkckfhhkjhfehgekbibeebdchcfbkjffhghhjkcdcfihcjbgfghfbkhkjdjccdjfkegddfjdfgkijcbhfedbfdhhiibhbgeieieibgfjehfbkkccfifidgfefhgkihgehdhegdifdeejhbeeiijjfkhfhijhibdhcekhkcgfhihbgdjdicekdjgebbjficifkffigdkgjhjghfihggbggdjcikddbejhgekjfhifkijbjehkeffgfbcgbcifhcjeedhdkffgbgkbjhgebhgcckefcidcidjehecbicfccebbbbeibbdfdckehdhhkkkgkedjejiheedjkhdhefcfjijhigjjbfehhfebeegjibgjfkfecigcgdjekefeejechdekhhkjbbidbkchhdjkehhgdckchefjjcigjdcfhhdkebfifjedifcceigdccheifibekgcegbhdgjfkgkebffgfbgjfjkcdejefgjdgjcfbebkjfhiieecdgcficjjiiccijcehbhfhkgkijbceghibhkhjfckbekbcjicgbbjdghjfhfbebfeegidfjfkgjjckehggjkfifgffhijcbbjigkikkdkfejifjjiciddjijjkhkdkhjbdegjidkghbbihehkjhbjedgcgikbfjhihhbigceihfhgbbgccdjbdibcfhjegjhcgfjiffdbdfejdgggkcegbkdgfbdhejiedgggbidigchhefdcebkjbdkibbecibbgjcjdckccceebikibjdhjddcccecjeefhdjiikjgfjegbiejfedickdebeijbbbbehbbccdfjieeikhddhbgghkcikhfbihfehdbfcicgidkficiecegjhifbjeefhddhbkdjbcieejcjhkhidjjfjdidegjjdddjhhchdifdebkbfcjchcchiickebkdkikgcheiegbkhdbedkgfjfbjhddkbjgcbcjcekicdbkfdccffgejfhehehdfdgfdcicdbjfhgdchhdgfjdjgbjbifdebkkcehbhkbkihhkcccbjkbfkbcbcjdfecjdbdgiffcfhgjibcjjcjgkkjkgjeejgdhfifjbckejgejggffhhhehgefjffhhcidikkijfheieikkhceicibeeckgebchgbfiggkbghiddieifdihkbkjekbdjbgekjededjhefkjebdekfjdicfejkcchhbfkfifgdegkddhcgehikekkfdbedbfkcjfeeghkbkddjibfjdfjkjcighjgkbjbdebfhgidieeifddgdceecjihdkcgfekjeigjhcfgdfjhkcegkekdhbcdeedjjbjdieibddeffebhicdcdgcicdbheefdgiehdjfbccchhgfbjbfhcidighikddccgbbehcebegfdjffejdbghfbeiifhcgfkkigieefihfheddjhgjkiggfbedkggcebiffcckbhgkdhgjfekiihdejcikicfkjjhdefgkeiekfdfdiifkfhgdeefehdiikgikhifffbgcgkfjicchjchchgddikihjeeifighfcehbjcggkegiifebhfghgfecebfbccdcbdfgcbbgbhdihdcigcfccjkkdcejjcgiddefjgcfdibhbdgjedcbkfjfghegihikkdiebjhkbjgkikcdkkiechjdgdkkikgbkgbbhieefjhjedfdhhgcdgihbgijhcchifgkickhhjbhdbicgkfbbkfjjcgdfhjbebfiegkibcggfcffhfjdjkjfhckkbcfgcehfjefkkkhccjdhifjdccdfegckcccefbhcddddddffjjegihhgjdchbbgiecfgidfkiegeihdghbfdbbkidkkeiddjjbdfkidkjbdkjegddcjbghjejjhbceccjjfedhhchejejhbkhdccgdjddfhdhcbefgccfijjdhgigfihidfjkeefjhiihcgihfiicehihghcddjhcgjhjhkdkdcddidbijjdjbghbhiefbeggifkccggdhkkgikkebbhjfjecechgcbbckjkjbckgjbckhfcfjehebjbegbjefgfgdbfggibhggkbehdejbhhhbfckedihfhccdhkckfhidhdiekjdgddfjkfefijcbfiekcdkggeidkcegdiifgdgbfhfedjfefjfcjikfbbibhkecjfgeheiiggigkhdfkkefjgbdchfckjdcfgihdjhjfjcifjcdbigfcbccgbgehjbgcciigbekccjjeddhkfkbdkigeggckjgdkjcehhdjfgebigdbcfgdfeeibjgkjegdciefkjcifjcefkgkfehfjcgijccbikkbddkdjecjedeiijdeefdiekdffiehdkdebbcfidfcijckbgfdebijdhceddcekcihbgdkidbdidgigiebgggibcegdbchdhjbhdjgkikihihfggeebfedcfhikcbejcjejhbebcbfbebkgkkfbjcjjedegibkjdeebjfccfigjijkcggcdbhkhhcgjeikgkiijdkjbfggefbiffgkfjeejhkjhjghbgcefkjkefigccehhigihbkgfiifdkcbddjgjbdbefeebdkhecdgfgickcijjhkhjbhkebekhchcckggfehhkhgekbbeikbghihiggjeceeejbkebebehhjdcgbkihgdigccgkdgiiceffffddeeicdfkhcjckjbebjfkkddddijejbkcjfgifkfbbckdkekhkefgdicdjfcifckfffjggfghjjkefikdcggejcihdecbkchfhgegjcfjbjhbiigcgjhgfkhjkeegkgcgkbceibfhggjegfekekbckkjbedjhefchdjcfbcdjhehbchfdeebjjgekkejeggfgjdcikcjjfbgbcebbjfgfjijdfkbdfbhhbiifkkkjkcgbeefcdidddibjejhdhcbegfbgfieekkfkkjddehgebjceccecdiedkdbgbdbgfkigbfjbgkcjekefedhbifjddbjjfijjibffgcjbidgdhcckibgkffdhekbekijhidebibfhjkgijkfgeekcbfjbikiechedhfbhcebhgdiegighicigkekgbjdghibkebfhjjkchjifggjffgjdhkghjejkjfjgdkkceejbbcjibhfhjcbhdebgjbcecdjkkddjkekjgchjjjkbkhigkbddekkdbhchiddgcfiiddihdchbcjgihhhbdhhebbgfhbjgcicekiggcehkhfcbickcbecedbfkedjdcjffjchibjcehkgejekkddeihjeegkjfkdfcfcbhdjkgcchijdheccgebkgdkbkbfehcjjeecdbeieifkcgjejjchdgcibhdhfdcjggegicbjjkbjbcjghhddecgjjbdfjfkhchbdffjjdgbjhgjbiikdgkhhjgbibkhefkifdgjbbihidghbchjcdcdbechefcjdjkekedjebcjdckbbdbbdhgcfkhbigijefbkkdcbeidjebcbkcbgefebkjejejhecieciijhhechckkhdcdchdegbcjgedkbhcieegcjiccejifkehjghcijffkbbhgibfbfegfbjgckihgegjkbjkebcgdkjdkdgjcjkbjbbbcddedcgjikckhbdjebcbfhgckkbhjfgjcbdheckecbcicfibbehghjecihcfechjcbihjgcgdgiebheehdfjhbficedihifbeffbeidkjcccidcdebkbkiciiifcgjbhkbdhbbjhgjihdbehddidceheciihcbdgejchgjddccijkbegfcjjcjhihchicejbdjbfckgcjhffehdigjcdiifdicccjkhdhegcfdeegeedgggecfedhdbcheeefbdheeeidhbkiddhkddbifhbeckfihbbccfieicccfkicjbekccegjgefbceehiecjeecdkikbgkegdbcbjbgfibbchejkkdfkkjfjhikfejiiidbgkcigjfhiheekbfdkjeikhecebjiejgkchcdcbfgdcidjhfkjbjbgjkfegbgjkkghjhedeidkjfghjececdefjfbdehhgfkdfdekgicbkejgfghgcfegkbcbfjjcgifkhkcfkgbekghdfkjgcfcjchgffekecciidgdkgfbihcidjhihddkcdgeciegkcchiiejbcjbgdkjkhihjjjdgghjdiffjgdbhgdccdfkejkcefbgbfkffggcjhhgheegiihjcihfjkecgcjbfjcfggdjijbdeebdggdejgffjfcgibgcjeebkjidhkcciieiihfdjjkkjeejjchfjibighcedbdkcigfdbfccifgejhfghfkiidgfcegcgbbcbibcccfkhjhikefjijdgdkgcgkeicbiidgjiddckekfbfejfheejcfjcdkcgcihhdfebbdkcgjgccdbbihgjgfbdijfbfgjihcgchbccfjhdbefijghdjjegkbkfkbkkffgcgikeiebfgcifgikgkgekigbcedhfdkefgffidbdhhfgjkeihcbfcejdcddehkicihccbjbhekbdjgbigjgbccdkcdejghdfhhechdfkbbbifggdjjbdbggffgdejkdcbebfibcbedehbckjcjccfdjbgejbhkeehccdjhgdbkjgkjfgiiijbikfddbdifcgjdbgbbjcbkbcgeheggibkejhekdgicfegkjkdcchdhhfdfdidcdkegckddhejkffefecgidedgdjibkhfhjigihdeckikbbfkfdjkjhjcfhefecgbjcebkcbieghjjjigefggfjejckkiiibiejgbfiehkfjdbihdfcehjgdciccdkhjigbhbjdegefhdfdeeidgbihkgefhgbfggigkdjfebcfbdfefkjibdbcfgicfejkecejbjiibebfgkggkekgbhejfjecfjhdccbhghgdiibdkfgbgiffkfjgfcijgcgidbgjjdbcfdcggdffdjdbcfiikjhibiffikhdkjbdckeeekejhdhjieigdifcgbbfbbehieeifkghjkhccfieggbgehbkejghbhkjigdhgffcjhjcgdbdhkfcffikkfdkcchegjifgiicdfjcddbhgjicfickgfdjidibffhjefkkikiggibkfjhekdjcefgfecbkibfkhgdekbgdkieedhdjhbddigdfeccgjffgkdkhggheicehcbkbkdejkfggfbgcjgibibeebgfgfeihidjdidjkijjbhgehcekfkcjdfddigfhgkkedkjeifiegcchedgggecbjgcgidbiechffidgkehbikcdjedfjceegjhjhbehcdichiejekkdigfbkdeecekhdekcfdghjkbhjeeehdfkidffhbhiieeijiefdkggbbcikhbbikhfhijiicebhdcegjbgcjkjgcjecbkdigdfefdedckbhjgccbhjkbgdbjkkckifdfefifciciffejkcbifjdkekkidffeiekefiecdeedhfcfckbdcghihecebbjjkcijhkbekjdbcbhcedddfdchikhjjcgcdbjgeigjegjhgjkkkccfdkejecciidibkehbjdhfikicckjjbeehcedjckfedbdiikfdjkeigihfbjhhhjhekdkkeheebcdggkkgjcgjikbkgekjcffbdjgedhjgifjgehckfeffgfkeghbikcfckjefckhhhhfhchebibikdjkekhfedhbbjjgikecggkgbhgdhgddebfhifhbefffibiedhejffhhdhcjfcjbfjiebbbhjgifiicikigcedceidcbdkckhdhhbjikkgbdfbbkkfjcggdjbhfedbjdeebibgkkdgcijggjdecbhdjkjibhhgkdjikfjkhghbegihefgiikekkcibgkccbchbfgehjfeidicbbdkidkfchgigkfkbgiedghckijekdibddghdcfjgicjjgiebjfikhbgbgbjjddkffeifgchgdifbhechkcjchcdggjihbhhdbhdcbebcfehkfhccfjgekhfcdddfhcfbkckigcdhdjejccdkhjegibjbdibbgkghchihifibgkcjhebcfjchiedbijjcbifhcigdegfjidfcbehhecigbhcgbjdfhiehkdckgjijggjfcggdkbbieghfdeidggjgcccjjkihfedihcdcedkdkecfhgfebikijckfhdcffgjdgieekjhgidhbbhggbececjgbfhcgdgkdejdecbjdkkkbdedjfjhdeiikjbfcfkgibgjhdeeiefbkcdfdfbeegkhbhihehkfefeijcgfeckkjkckgebigjjbffijbckgbgddjhjhcbdghdkbdhbbicbchjeckekckihdbjgdkjkffjggcgcibjckedjkcikfhgicghgkfdjjgehbbghhhbibkijcbhecjiijfdfkjikekjgfchdkeeedikbfkijidekcdgkibjgdikddjeggfbiibecbghhbgcbhkegchhbdhfkgfgbckdhjegebfiejjccdegfjjcfgckcjcgigikjiddbfcfjcbfjkkgkgdjiiifkghjbbdfhjbjdfiigibehieficfbkfccjbkjkkgfdiifidkbgfdhffiifcijceffikbfccffdhhdbhfehcebdebjejghejedfiihbgkddhbciehdbejjkbcicicfieibhjdbkhbbegfbifebddbcigidhhdhbidbghkiidkjhkikjeijkifhgbebgjddkgcgghcejcidkjeihgfbkchhehdgidfkjeheidfbcdcgekiffcfcjdfhjjjkbhcbfbgecijiggfidcjcebhbikbehhidiiggkfchejefbjcikeddkbbhjccfihffjjdccdjjkjffhbijebfhbgghbbkjkgfeggjkccbedjjhkgdficfbbjehdjiiihifeeccfjkccdfdhfedfcegfhecgbgicchkcjhfihkgcjehcjddkkdgbgfgejkheciffdgjgcjcfkbfdccbiffhihdfegjgbihddefjbbijhihejekgiifiicdfgjiidffhhibidiibjgcigcgdhdejddbiidkdihiiihgjjcgejgjjjfgjfehbkcegekjggjikbhciciiififfhgeejdbhfcigckchejdiikdkfddbhjejghefbjeejihbedfkddjegikbgebfjbbfkkkgibhbckdchbcbfcickcbfigicjjjikcjghjigjdjfgehhhddibccechhkegjbgijbbgibjkdifcbhgbdjcgfejkhhdbgbedjccdcbbbhejcejefbdgiijdkhefghbffcdfecbfjbjcgjbfbbdffeijegjekghkefcckgeedheigciefkkjidiicchhjhjcbfgickkggjcdigkcjihjgjfgfccicjcfeffjebegibhejhedecjigejfkgjheedeefcccheecidcjkjejjbhcickdjefbkjdfkkhgfidegdefkbcfefbehfkcghbiikdkhdhidigfgddkcjjdejfkgifhgkicijbjgfhkijjbcffgffeijjihgeihggbbkejihdgfdiifbkfcejcckhkfkifgebkhbejkegbfkccjjhgijfihjdfkjbgkbjbjjkjfjkbddfigfkjchcickbckdddedkhcbdkcefdcbhekdgfkcdidegekeidijkfccedjebjhgebjdgchkddeifhfhkkceiiieihbfidbhjcgffcihbgefkjifgcibdhhcifcdjehkejigghfgdekcjeejekkfjejdifbjjjbdbicjgeghihkefgdgdcdbbdkbbkgkcehddgebiedekjejdkfijicdkhkhkicffgbgbhghdjjdbgkbgbidbigkefgebihcddiehbkehidgcibkegceeejdhgbbhkcddgbgcjbkgjbcchgjeegjidgcgfdgdbchefdjddchjikjickjgjhicciggcijghdhkhigffebjefbbjbjfkieidbfbhjcfdbghhihkebcdgigegkfdfkegfbiddkgckdhkkhgjkdjgjdecfhcbkjbjfcghejfefgchjjdkkgfebjfffidbjkbejhcbfjiccfdbcgkbeejcdidekefhiceigghcdgikghdccbbjkfgjgkgkfgeehicbigeggehejdkichhbkdkebciceccebebfcbdhgbfgfdiffdjcdjjghehehbcggjiibgfckbkcccghdfdfchgcfigkidgbkiciicdkjdcjfdjibjfchgifcbgdjefkgcfefdjjegjhhdccfckbbehheddgbkkceiihgbiehfjhbfjhccjkhgedjehfedekcddgikjihegicjidkfjghiffjekgbcfekhkijcjkbbbhidbefiehgcbfdgibjikbckchefcfhjbikgjdehiejfiebhjfhfbkkbedkcjdcbckbjbdjbgffgfbhchheigfdhegjjbfdijbjfdchfbgdefbcciheffcdigjkchbeikigfhddhjdhiejhckddhgdcjccgiegdbdkdjiffjcifdgkchjdbchedbfjfjbgkdiicebeedbbggjjfbidkhcbdbiccccbhfgjhkcdcjcechjfegdjfckhefdchccifhjjbhdhgbibbikjchfdcbfijgkkgehjkchjcbegekkgbcjkhecgdfdekgfcbekffeeccjidjgkgiihkgbcdeigkdhkhdkfdfeikeejdgfhfkbecgiebdhkhbfhkgcigcddkcdegjfjjhgfejfdbjihedcckgkigbkdhdkeejihkkfjggcjhkefjhkjhhkfkihjbdfeikfbifgjcbfcikggdcijdkdgfcgddheidhehjjfgkhieehkdkdhdkikfcfkbihbkjchbgihckjgcfjcedkeikbcgjchcgicbkgkhkgkgcgkifefgchciijkjcghekhddcbgbhhcjdbkkbikciegcjebgbbhiicjcfdechfefdbhfifkjhkhgbigheiedccfgkehicfkdfgbigibidicgiijdffjjdikkiekdfhjehhhcbdficecejbkjjbbehbbkbiicbbeibkgkgifkihfihiefdcfkjcjgdekccbkjcijhgkkicdfdcgeddigbjgkhbdchceihkcfefcebikdcckeedkckhieijfjjcihjbcehkifjjdkbcbdcjgdhejhghdjkcikibeejkkgcidgfchgheeikjhbhkdgiejijciebikjkcgeegejhkehbiggbecffdkhidjgkgkdfbdjiibjfgkjjhghcdeecedbjjjcjdbfgehkkbfdjhkgdedgjecejedchckbjjbgkfjdcccfiijdjddgcffdcdhihfhbffegbciihidgddkgcgjbibeddhcgchjcihbfcffgfghkddgfidijjejgdeegbifjdcbighfcefjhbbjefjhcegfecdiebfdkchfcbehdeiiheikikiekicgbcdjhbcbijigkjhjdieihfcegcdfidfgkcgkeggkhcckkgjdebgkfehjegdeiibjiebjkhhedgcfjcejhiibhjdgjefddcggfkchifgchcbfgiekcekbbibdkghjjkjekdfkicdkkkieifjegeikeffgjefbccbedjbjbhfhiibeeifjeceggikfhkdihbfiifbkcdbdjdkckkchdhddddhghbkjcjhhhjfigdijehgfdefcihgjbbhdhbfkghekjkiiejjdddihhkgbhikgbcidckfbigfbkgccgfeifdjbigfckkefechjjfhjijefhkicghijgdedfjgbkbfkcfkgbgdhchhcekikddffjebdchjkhcjjkkgkkfekccfkigjfddekcfddebkchjgcjejfdfjjcbdibicejhecbcfidffkfgjibdfgjdecgdjjbfigfhfdhffcebjjihgccfeedkjdiebiibgeddffgbejkihfhbbkfdhbjbhkcfcbdcgegjdfibdigigcfjdchdbbdjcbbchgkefjgheckbdeiddkbbbghgjcegffhcgbbifddbfffbhgcjhdhgcddgckiegeekcgcgkkcfikfjehcgfcjgkdjjfhdebihdieibfjejeehhkikgfekbjceeeecigjihichiihebhdfhhibheifekcbcbbkicfceihbjbgkgijidfgkhihcgbhedifbedjfihjkdfihegekidjhjbddigddbigccfkdcbffgccekihfjkgdjkiddckkfbgdkkhfibifebkfddigcebcggfdfgbedkkhbhibibgbhjckhcbdckcgghdjcidkccifjjckgfdjjigcebdkhfcggdjichbjjgfdjbhcbdfefeifcejgjedgjddjceeieckekcgefedgggbdfgecjgfcdkkbkgeejbihbijkcibcdfgjhfbhidghbfedicbkgfdjecbhfkedfhhciifcfjhhcbbgjcgeicgffjfigjcccdkcjfkdbibibfhgcjhcibigkkdeffefjdihjheibcedfdcbfebbifgiehecdeecjejdciddbfihhfkhefkfdjihkedjecfiickejcebkgfffkiggbjgdkbcefdckfhhefkdhhicjhkcbfdbkckdjdcghhgfdcdhdjfbfhhciicifeffffjbkibgfgijffhicigdicjgkfgfjhgffgbebdehhdehjkijeegkdibbfjdeffgkikhgidjjeigkccibkhdchedfhhghgfbcbjdijghfbceehkekhidfjifjbjeceehjkdbfkgddbkfdddibccjeghiegjeehicchdjfchkbkidhcfcebjfkcfcfghbbfbehbdkckjbdkcfgkfbcbidkhiedhfdgjeieggfiiihehcbhbedkidjekffbjfbfhjgbiiecikkddfjbcijbfbbgkgbfgjhbcijidghkicgdkdfifddbbfbhjkidjedkjebcfhehijjfehjeeedicekhdbdeikfkcgifjdhhckjkcfgkibegckgffgdifbfbhcjebgickhbgkefffggfdidkdejfdfckjhhceihchfbeekidfbjdcchbihdkfhgeibjcbkihbkffkccgfbfjihbcfchgcfdbeccheigecjdkehdjkjgdhhhefhhhfjieechhegcgdheidbkdidecegcfdbicjfcgjhgjhhfdfcdekefkdcfjhkddkcdigfjkbiedbfbdfjhfhgeidgcfheickfgkhhjbbbedfccdjbekdcdhhhiejjbfccjhddeijhddbkggdhjiebfficjhfgebbbdfdcbejidhbhckfchbegehikfjjfdfkkdhidegfjjjfcfhbgdgfcbjfcecbkdkbfcfghjdgfcddicfhcdcgghbddkbbbdjkcgdfgbjiiehhbdbkkdjhiifibfbgbchcdjcibfekjcfbfikiiihegkgihghgjdfjgddgjckhcdeegjkcbjgihecchfdhceekgkchhbgkgkigghkjbfjhbgjkfeeeiebcbjefcihfehhfchgjhbjekhkiddgiikdjcccckeecijhjehfccdkdgfifgfjddjkhhebcfcgeijddbiicjhkjgdbdkibbehcihedfcbbgbhkfcfkfgbbkcgeebhkcfjbkfkkdfgfkkeigjjcffbhkebgedfbjgcfkjhehgeidicfgbeiededkjbjkbkhbieidiideidgbjijdjjjdbddgdbjkhibdhhdhcigfkfjjdffjdjeekgiefejdfhkecidedhcgiiiickfechhdeeejffjbcehbdhcckjddchhhhibbifgjedjicicegfedbkgjcjccchjghbiibhhehjjbdckeigfffhbhegjkfecgijhhfgkebgcgkggdfkfhcbcbkdjdkjkhbebfgjchejefhkjcfhcgeebddbijfjffbjdbdfhkjkifkghcbhgdihjcgeekdbdbfkjigehbdhgeeibfkbbheicdhddfkgdcgghjchkhhjhhjhicgdcikfbheigddickdgdkjebbhegebcefkfhffbeiicffecjddjkhjfgddkeejchkhfbifkhfbkddkjijgdhcgdcgkfkkgkjhebfedkdhibjiigfgdigcbhccjbgjjbdgfegjfgjieikfhchfdkjfbbejgkfjbjceiffgdbbdgjcccbggighfebckhfhfcfhjcgfgbjiccfbjefbikgkjficekdjidijkjjbdgdhkkihdiggdkdkeidfbdfbdefihhkffejiieceeeddibehgcfbfdfcgjbigebejccbihdjfcbhkbckicbcdghgegbehkcfcbbegdfcbhhfkegdjckhhekdhhcifbjcbekegbfckfdfjfbjjkidghegedihjfdehhhjcchkibkgcdbfhdkkjbhihbkjigdbicgkgihecighbbgchfhgeikcjgkgcekehffdihkkeddkcehcgdekbkdjedhhgggkjfddbjhibifkegckegkehechbgbhddiggihfjdheedggfbiiccdjicjkifihfkedjgfbefjbchcfdkihcffkkcicbijfdhebhcgbdkddgihcjfkgbejfcjfkckcgcjjfgkdjichggjgbiidcdiijfcjceijebhkfdikejdegggfbccdbbicgddckickdhebeedidjgfbkbehkiddjgjjghkikgdedgfjbheibefkjcjghcjieghbiebihhjjdikeefkhjkdgcidkeiebhkjidfjckdckgkdkcfbhhihhhbkjfckcfeeddfkifihgjkiffbijbfbgbfcjkeckghkcdibifhbiijehhjhdhjbgkcbhehcdbehhcddekghedbchcigdedgjehbdfhbgdcejcjijcbiefgiebdjbgffejfkigckhhjcghghfckhikcbigkkggcfkgjjiecfjbhbeechiceiikebibkihicdfcfiecgjgeebjkjekbgkfkkcdhbcbcdjbddcbckddcicehhhgigfdifcfhjcbkgfcijdebgbhgkdfgbikjgdjcjiehccbgjhcekbcgbccjdkifikdbbgfckkjcgdfkjfibbghihcciebbhefjhebkikkkgkgbdidihhjfffjjhdbfcbigebjhgjgkccjkdeeegkdedkiidbgfdfdecgbkgdbfgjbkdgiggfgebikjfghdkfdjjefccijhjgifbjhfegkcejkfhejhkfhcbkdkffjjkcehdhdjjiieikbgibjebdcbbkgbhkjbdjbhhbhgigdgdbdghjffcgggfhkjckeijckjibejekgjkbefchieccjhidfggfbjfhdhekdikfjhdhdcibgbcckkkhfchhbddbckiceddgfehdfegeefdcdeejdkjbihebkgbhjjeifccfdecgkcbedgkcbhcdbghdkgggckgdhieeejcgciicdebdgdikjfkiccjfgfijjhkfcjbfcbkdedegbcffkbicekjgihhghegjbkbjjjgkjigekcfidhhjjekdekkbhidhbbddcdhhhkfdbbhfijfcjhcekjbigfbfidhbdegbbejgihdeefkkcikjfgejjjddkkcgfbjbfkibhbbbfdkkkjhbicdkccffcebbgkchefeijjcekkigikiifiicdbiicdceikehbgifbkjbiccidikbhddgbhiekcggdgfcejifdhkdcejcjehkjihbjcikckcikdbfcjgijkkbefkibedhhhgechdkfggkchcgdhcekigikjfejjcbbgdkdiehhkjbhifhhdcecbkchhhbfikcbbjkbkicecgijgcifgkjjbbfehebdcjbfjkbiddffgfehgegiidckbbcfkeeheidijikkfcbffikibechdiheehieehkehgejkbdjjkgebfkkdbfbkbejkckkcbhibijikeedkckfhcgiiegcdkckdeckbbcgbhjfhfcedhhbfdiibcecheicjegegdekkedicfkjbhhebfhieiddbgidfddidjjbbehgjcikfhbkffdkdcebedbkfdbgjgheihfkhccjbkigkdghcdcfeifchibkegbgciijcjigcfjbebbeghjfkbiebijjjcebicfdkeeeecjijgdggfhjccckgeigjgfccfbjjgjdefecedfjbkehkgehigifdghhkgibkiedeibcdefjihihhghgedkefbgfbedbhidjgbbfkgkchhjfjfghgeegidjfcjebfkjfgcfjbfkbgcchiggcbekdkcfcfeikhcjfbjbckekdbhdhfhgiheejghhifgkbbbkicbidkkbehciejjhdfejeeefjegekikbcebfdfkfbjjgjfdbffbhhhedggfdigfhffiicbbifkcbkjhjdcfchcjkbgghbkhiigbedbdigbcjiicjebgkfkfkjhcggjghcekchghedjjeedchhjkkjgedjbikjgeiicfhgfcdjgfffihjicjgecjbchbehcdiddjdbecjhjjhhebfeedhcgjhidjedkhfbjefggdekfcffdbjcbdcdceckfhikkkgfdebddkiigdkgjgichbdkcffbhjfcggkeihbbjikkdgbfhiidcjegjjfhibbjkfkdgcdjhccicekjfkhghbiijjggdhffgcjkkgkfecfkefdbbegedgkcbcbddhkhhjjeikhgkfhkbjcffbdekkdiedcjfhjgidiidgigfkdhgekcjfjbdbjdkghfgdcgijbibiiikhcdkhjffdjehgijfkebjjcjfkkhhbhbjfkbdkckbbdjfibbkbdgegdcdidbhbibbbhfbbefjfifgdekcbjgcbdcbicikfkejiddbdkibhjghkjkejffbbjdjbficfcijjbjbjkdcgjicedcfkjbcjdihjckbggbjbidbffckhjkffhdjejghfckbedkcehcceieegkeghjkcggjkgfibcjfjgggkiicbfdfeiiekecjdejhkejfgbbhhjjbedkbehhifhbekfdbgckdkcjijhbgchgjekkbdcfdhdkhdcijbiddffdbjbhcickheegihgkdbifhgjkhdeieceiicjjkcchbjgfccifiijjcgejgiiegjfhcbjgigghidcekccbfgdgjehhggdebgkjjffcggjhcecjdkjbifgfdffekdiekekgjkckjcifidhcjegdgcgjhgffjggkhdfgjidckfifdfbbikhhikhhjfhjjbiegjdjfjcikgiecghicfeicegffhbkdkbjickkdjkjhciegegidgfjcdjjdbdhhdihfcbcdcickfhddejhhbckdkjjkcibfdcgkbcbbghccekfddgfdhjgcjffdhghdkcdcjecbjjkkdhjhghkkkdcbeikibigbfefchhgbcfccbkjjcdhkchefhdiidjhdgdgheghecheigfddeijfjfhbciigicbgcfidfbejefjcekiicdhehiidihcfgcgeidihejdbkhdeibchiihjgkehdfjckegfbcigkjfdfkifhefhihghkdcjgkbjgeiifghdcggkhkeggcdfeggbjghdkkkcigfkjbhbegdddcikhfgggffhgkddjdibcjhgfdhkifcckejjddbbcceejhcbgjjkdjbdgedbfjfbhfchcjideechfchchgcffgickjeegjgfekfigjfdkfbkhchddhjjifcecbbkfhigckebghghkigfjfdfjfecfeheickeedegjfjdkfhffebiecjekdfddkghefhkedkfjddbchkfiffcdffkffifkcihdgehgihhdejhjkkhfcgcbkdhcbgdgeegkccihekjbcdghcdchkibegfkhfjfghdicdfifcjjikdcjggeddjkbegjciehjibcjihdhccjihcjjiijfcijedjbjgigghfijkkehgfjcbffifhiecdbbfckhcghcekigeejcjfgjffdifgiigidgccdjffhiekccidgdgikefejdkcjhhikbjkghkjehkbckkdheijcckgechjkchccddkbdeggjdjjiefddihiiehkkfkibdkkehkheeekijckkfgdebkbdgeekededbgbjkfeicfejdebibdcjcgccghjcgckkbgdidkedfgeeghefddkjgfegcjkheijfcigkhhffbbgkhegbfibggcdgiggkeghefdedfiejcgjeedhikedkciifjkbhfbjiffhiekhhhdfjdbkhebhbhcfhddbjbkbhidibheifeehidcgbchbbghjhdjbfhdgjjgjbijdjihjfkifdchekjgegiceihbdkgjgdgigeegdbihhcgefihfhhkecjhidefebekfjgihbkhgbfgigedbdkckdgbeggeceecjifecifbchhbjfcbjjegcjfehkfikhjbjcbfihgffkkhbgdhbkcdibhjechgefhkkggidcgjkkjfdhiidefdibbcjgiegfegkbkdjccfgccibfgkbckhhekfedcfdbiijkgjhdjjkdhihhceebkhdebdeidgjfgkkdkjibjfkjikfihjkhcbfhbikjdkbjcgjecifgcbiffchfeggjicifdcfiibjeebhcehgjfiicjhhbcjfgcbeecfhgkcdkgikcikibccddjhgkghhdkighkbddhfefbdjfgfhgjcbebbbiggfijefiiiceigebgjggicigdiefbhcbbcieebdckefbgdhbiiidckjkhikegieefhkediebhjdgfighecfeijkceehchihejddghcfbbgfhgiibdjgceekeckdigibbfjchdbjbghefbegkcfegkfiiggicbidhedbkbgjchjkkejickhdhhbkhceeekbbbhjifhcedidghhffjkkcfkceefcbfhfijkkdbgefghbjicgbkiefcjeccgfchbdgicbfheiffhhgdhbjdggbhehbedfcjiigbfcgkjfkhfkjghdidhhkgbkjjkhdkhjbkfgcfbjihbekcbdejkgbfdhedcefhdkkfecijfgfifggfjfbeegfgfghkjfigefecbdcbhifjjgekhjkhgbdcjighegbhdfijfjifdgefcidhfejdbkbfbjcgjkffhhjiekekekiegkdebgfekdddedfkekfeghchidjhbechjkihieceeedkfcfkfhkcbfffgjfhkgkfbjfbkbekcfhbkkhbbhddfcbjfbgdkkbeekeekejijbeddhfegfgfjjfebedjbbhcbbcjbhdkeihjhhkjighkhgheicehbiikbceeggjdjjeheebhccghhkiggccbbgkfcbibicfjijhkejhebbhiegihhkfidghhbhgggjfgfjffbddgkbheedccdgbhdjeeegebkedbjgjgdgbiigbcgikedbedhbekkghhdkgkikcidehijgkjifedcjjcfijhgkbfkbfejbicbjkedecfdbegibjcgdfifbkdfbehdfhjhgjkjgfickdfeihifidecfihkegikedbihcdhibfihejekhgbijchcddfbckighkcccebdjkjgbgidhdbdehhkkfkfjiggdbhfifebbejkkhigidgfiefchdikjfijbihbgchigjdifjhgicckbfkehfgbibdkhdfdkehbfhbdeibgifbhbciifigeffbeedfihkdikkecicibbkeikegdeicgdkbhbefcfffbdgbfkbhdhkjijhehbebkhkidkkhbkekkeijefekhgdghdcccgggkbchicjkddijbdcjheibfigifjebcijjfkhdbceeihdkfbffiijecfjkfbejhceddkjighkjjegcecjfkfkhehekfdeffkbhfhgkjkkjheekhcfkhcibidccgigcjbefhckffkkhficehjcdggddkhkeekcckhbhcejbjhedhheehbcgcbdgefcdekegbgdcedceekdkkeccfkhejihjeicegbgjhigbeeegggegfjhejbkkeegkjjjjeidfciigggiejkikfbkkbcgkdjcfhbjiijfdedcgjbkihkhceddiehcghkjbjciccjgbkhkkhekjhdfihgfgbdfdkbhkchecigjijfjgjjkhfhbcgdfccdifigjdkifcjdiifbeihjjhhhdidgechkifkghkgbhbekhhbjefdgiegddjkfkkkcfiggcecfgjkhdijjdjfdehibhbcdfeebifhckhjbgkijifhkihhjhbfhdihbgifbdkchbfdidjgkchjkbbjbjjhbefikhegjgkfdkffefcgcgcbkbcgjecbckiiikbcgdkkbdfegfffikfgbgdehcfghdkikkhkefhejhddfjfechfijkihhdeiediggcdceifkgicciccigkjebchbgicgfhegghkidefeeehfdibigcgggecgecfdddjebbjefffgcehbdiibfhfkfbfgicjgkicjigehefhhckiegikiiiecchgiedkjefgfcjbjhbhidkgjhgfkcckdeebkgfheidkbdkfdejcdihfjgigcjeeheihiikedchfcfbfdfeibhkidkkkecibcejkhhghbeffgcbicfgdccbhjikijibifkdkjjhhdhjjhhihbdfgikbhdjgdhgbkbhjibidfdegbeekcejfhjkkhkekfdfdkfhdicbgffgebjcgedbecigdggkfdhbcdfdekkeigbiijkbjjibbfeecbeegcgffbccdchhedhejgkbjjdjcighccdkjbiefgihjehkgicdbkgdejkjcegfdijfchcgbikccdbfgdfiehidkdjdfccidgfdbkhfcddfgcickiejjbfgdhkdfbehjgchgdhkbibjekecijckfgdedjfjgekgbegbiecejcckdghhdhgfcdeejgikgeddggjgfjefffcekgddkfbjefjbeeikjffgcedefchjkibjkikibdcbjjhkcjghedehgjehjjkbidbbbgjebchceiecgedggbdcbebdecjfcjfijdjidigkchjjheccgjkjgbjdhdgdegkhgbgkgjbgdkdcfbggdieedhckidjedibickjbccbifidgjgbcjdhffbiibikddkcfgbibckihhebhiikhjjkebjiddcchcibeiihdjgdhjcdfkhdhijcgcckcgegfjchikfideggfkedgkbjfcgdihgggeecibdbkikhdjdgijdijjcdfdbddhdhkiigdkbkkcdbfgihbhcjbdjgdffeedkfchidjfkcjbhfbgihiidibicdfdcjgfiejcbhgkbjficdiihbgdkebkckkhkjehfggicffcjefdfjjgbecfkijfcfegkbihhbcgibbibdekhbkdfijideiejgghhjifhbgckefcggicegchjhcghdbeegffhddkkdebicifjejgihjbidkghihekhgbdigfbdgcbcheddbebeifibgbfejicecdbehdikcfifkgkfdcdcejhjihebjgffhkbeghifbfhdgecffbkbifjccjckheiikcbgkfgfdfddjdcccccgghfdhbbbdkgcghckiifiheefdkdgdediggckfigdckgchkghkhhgjbcdhgiichgdkdkgikeekecccjcbeicbchkjgkhijddfbdjebkiheefichifhifgjhhcdkkfegceiibfgfegedbifkbeiiedfjchehbhhhecjkbbbefhhekdckkjfcgekijefcfibkikdcgficefdccfdkjhbeiceecjddhgggdheeebebihieebbefcfccdefcfjikcfegjcicbdeccfedkcdhfhhieeijddhiejjhjhejdcbjiiijgiideekdjigdchdbgfhdcfhdbghghigccjdcjfhjjdhjchifbkhjffjdkhccccejdcheffiecbeibdiffeejkfifcgjhfccdceefdfffjihfieeedhhbjhechechdgghdjbcdgjecbdgfddgcdcjebbcgbcdjhcfgjbifkibfhiihckkfbijfjgdejhhieijbgdefihikcgbhkkjfhkccihihificidfedfefcckfhjhejgcdjbfjghbfhkfefhjibjcdiddkijhjecbghkgkjiiieegebfhhfhhfdeegcjjfkehifehdgidijiekgbkeceebhgcbekjkkhghehfijifkihgbbikfbdcggjfjijcjfjjbggdkjijhcekkhfekdjdcejcehfcjjhdhfkjcdhcdfdejdgkgjgcdcgheibcjcjjkbfebcfdbbikeegbehkfdkbbjkfgkdkekjciijfekdheehcjbbgffcijhfdgjhkdkjcgdfffgbhbfgfdbejekkeiefkidijbhbgefieiejdhciciejjbikceceihkbeikjigckijckgkddjkekhbbcbgdjbbkdcegdhdjbcdbihhdkddkhijfeeicjcijdgkehggkgdcjdibjjgjbfkcgjhgiijidbhgdijjhbcbigiggdfbcghccfdjdbcjdidfcjkhihedckiegkckfdicficccbidbdjbdgfkhgjdgiccbfegefkikheejggfbdekfhgdffhhjdfedfjecgchkfieeiedifiggibckkcjiifcjdefhigkjfechfbjbgkkhgkigighkekhejgjebgeeefcdgchecbcchhfijbfddfbcdgkfdkfdfcbcgeccgddehcejbebciijkbbgghdddgekdfhfkehihgjhjjcfbdfbhkhcejegdicffhhkidffkfcjghggkhkhkeihfgihghgbkfjbkgeijdkkdjeifgbjbekghefkhgfcibddggcebbfjbhgkfiegeiihegkfdebiggiehckfckejkhjhidhjejbeghkeehiehijedhfjeibjhcdjdjcgcdhbficjecbibdigjghfecbhjjghdcicekeebcehhddkhjjbcdhbdeiicibfebigkifdfbgbgccjcjfhgedgkijhkdgfdfiejgcdhijfgihgkghbhdchecfjdceikifijkbgfjcibkidfhgbbfdhbjjfhjfkfdijecbigbhgccgfjdbgijgggcjjkhgffigidkccbkhikhcbgkcekicjfieicgfhkibbedjfdifhciideffkeffbkegbhhbdkjighhejdffkechkfjddigjbjjdjebjefefkcdjdkefbeecdceccdehijccikegbkhkiikfeiifjiikbifjhddcjhbegdbikbiejhjibbhiefekkdcebkibfkdhdchjjkebkjdcjeikddcihefgjibjbdbbkcbdbdcdkgbbfgeegdehifejgfiefhhigccbhfbhihehfccbhckejkiedhfgiegdggjechbfejekghkdcbbkiigkicciibkidcjbgegibbejcdkjdhjjfhggefdccjffehikebejdjedbiidhgighbgjijcfefbkkegibfcdighffcihhbdhjfkgkgcekcidchbichfbkkkkfiigcjkgjbikkbjgdggdcdgjheekkhfegjhgdgfckdcdifikecghjgjcdbjihfdkkjggcghfchkgjkejidebfdiiedkefjdfchfhhckidkefkhgkfjdhjfikegcffgibebbckkfhgjiiicekkjihdbjjbegikdhgbbhihccfegjcgikbhbbebiebehgdjfiehhbhkbhcjhhigdjcecihgeiedhcegkdbgibejicickcfffcdekdijfigfhdchjcbebfijjihhbeficdejfbcjiccdekfjfkehkhdgjjkfffdjkebkgghiheighkfcikdkbjebkbkdfdkikbbgbjjihebgbfcbcjhjheijjcbdfbjecfkgjidgcbkbdeedgidiffhjihjjeeiegjifdbcgkdbihdjjffdbeekijecbkefkddcebfjcgdkkhdkgjkhjjgebfjdkffbfbifkjdiidchjhcdhcbhghigcgfjegkjdicfkejgihhibijjbciicbdfibjehififhiccjfkhfbjdfgekkdebcjbihhhkijdeddjhekiikggkehgefhefgjejbcdcbjfjifbjfdecheekhijfjgbgiekjccbigifehfhdifdkdedhgecikchcbickfhfkcgjbckbdighgedijfjbkbhhcgfkfekdcdijgffjdhjffhiicjjkjdejfdbiiefdffcgfecfcjhgkchgcgkehjgjkgfddibbbjehefdcfhjcjgbkcekfhhekdhkhigfhedeihjkbbhkibkjekjeigfcihihefgdbghjdbbgdehfhffhhdehikckeficejieeffkficgjhfcbiiffiebbjebjfbfhjfkbkgidbdgjgidfidgkdbdjhckhgfcbekfegkidbhjkhbghgkcffdebjdedjfekfggkibijgkfdghkhjgjebddbgdebdbfjiekdfjijfkdedkedbiciddcgdbdeegjjgigcfjfidigdgbdbbcdkjgdfkebfhfbddihhhhfkikgfjchdhckeihifigikjkibchdbchjfdkckhjeehecicbbehdhhcfgdjdbhhdfhcjhdchefffjefefchgdjddjjbcdcjebkibfecjbgffdjihbjjbijekbcccickkkcdgecickjkkgkfcedhbbkhefbhkfbejfdgeejbejjbbdjddbhegkdjjcdhegfggjhfecbbecbcbjkhejhfghhiefjhkfjgchhdfbchedkgfihkceeejfdkgcdcijffkjedgifiigjkijehkdbdgfdcjfeheehchfkbckhijhfdgffdjkjgjkjjgecdhchfefcdidjihbfchkefjgbghidkkjkhdgjighjiehkfkhgkjiccejkcgcggefdkcfiffikhgchbhghfcekjhefkicfjikigikhcgfibbcefbifideejkebgjgkcjffcgfkdedjhedkfgddbhhbbiigcekhckhjkhbcgebijhihkhdghjjfdeefgcfidjfkfdffehfcikghhgchkbbeekbfjfbhgdgbgfbhjbjfckbkbibehkhgbhdjghcggjghiieckiefcjceiejghjicdbiddjkffiichbkkcddkdfeikiggddgbghicjbcceecigfikkhfggdchjddhhdjiejbfhhgkiccbddjdbfkkeighjhgjekgeeejgbghhfchfbgeijcfjgibggekhdbbejcbdefjkgccedjekkdfdjjefhekjeebbdchgbbedhjeghbjgkdegdijjdhdeeddcjccikikhbjjhibggfihebbgbhhkdeibddibfkbkgedghjdikjefijkjkccdffikdcfbgffffdhbbfijifdgdfigfcdecjkicdfkgffeeecbbbbegjfkjfgkjdckbbdgfjhjfgbkghcfecjidgcicbgkkeiddhbeifhfkdckdjfdgikkfhjdhfdddighegbdijidhibgceijcdcefdiciekkjbcbbhegfgcbckejdejikhgghefeehgfijgjdhkdejbcgidjjkgkhdfcbhfehjhhjejfjhkbghfhfbkeffficefdiffjhhjikfgchhbdfgiddkffckhchhjdhidcicikdfhichbckjbdihjjjcehfeegjkiddhbdbbgcjecfecggkgcbgfeikejejcbgihkcdebffhjebicgbdbikkkdggbhfiifjibjgefihddffdigiegkckbcifbkbbjiifdgkeihdgkhdbbhhifcefccjfkgdkdcgdfeckhbhjhifgceggbbbhgbcjbkfjbededgjfegiihfhkhdjikcfgiigbffkciiddgegfcdfbdiceicfjgdcbfgdbcccedkdfdhffeihhddgebigfjiijbdcejcdifdgehfggbejdfjjdgeicfhebdgccfdjhccdceiekkbcibjbfhhfjgidcifjjgckhijcckgebbckebjjkjdekkgdbkeedekjdichiccgekdbfgcfigckekdibgkcibgfdkkefbdfhbjcgcfciehgcebjgchhhcjbhihchidjhkdhkifddggcdchgjkhfdhjhfhjjgfhbbbjgcebeghibjieegjdgfbdhjgdibgehikgcfgdebjkbceccjccfhgdkcgdejbkhgdceedhkifkdcefechbebdihbcegieihefgddckgidkekejehbgggefhjdeegiceihbdgbbgibkjgedhdggfdghhebdbdefhbkcjjgckdcejcekgkfdefikcibcfdcfbedhijihfgchgkffdbcghhigheccgfkhckigghefhkjcfekdccijdhifjgjfckbgcjbfdddhbkgcccfikhcjjikkkbffgbhkihgjkejjfckiegecdcbecdhgijcdbhciibikgjfckcffjjdchbbdikicbbbdkdiejbhcgikdfffbekjkejbgegcefdkfcedbdgkbgggfkjhbhdggcfkhjfegiccjjgbbgchbhhffedekfcbbibggcdijfhbififkbbidhfbjdieehcehcbdfjddefbebkgjiidehfibkhgjehcfikififbjdfjddighbikjheecbecghhkejikeceddbdkfgbekdifkgjhkjbjebdefffbffffcgcihgihegeihijggikbegkieejckgickbdggjcjjekgfgbcchcjhhhekdkdkgfeehffddfkcdcgdkfcfcfchdbbfikkkcdbchdgdhiihhkjffjikccfbbfcbjcechkdjciideikefihdiiebhkhfgedjedkjhjcihfbhdebfjhkddhkdkjegkdhdjjdikekjkcdddbhdfbkfhhdcdgdkbcigkdfbeckjgcfgebkihkbbiibdchkdcfidjfefececdkihcgbfhihfifdeegdhibkcfkjdeifbkgddbebigddddjifbcikbhbhedihfiicgcffdgbfijhkhdfjceiieeckcedcggefijhgfdbefbidehchbjijehjichbekegdjdbeecdjifjdeeikikdfbcfbjffjkekdhijgihgdjdhedbbjkgcedgdibcbdhkdekhgbhhejcjbcjdddkjdhhjkffbhebhejbgkjgjgecjdbicededjcjidkfbbgdjdfkbgbfjggkhdjbchgcekbgbikiikcfeccehfjcfhbbiihjcfefdfcffdkfkgfihfgbbkgkejbecdckifkcgffcikgjfdgbgjgcdehkjejcifbjjghbbefdehbjchfbbddekeicchggieieckkheefeigbfcbffgdgfehbckcficddjedfcichbdeigkkckifhcegfdhecchdekhjjckdhcjefkgbhbfdbcjbkghkcbedfjgkcigfbcgjccebgghbfejdbbjidffjkbkgibgfckfedjdjjfcieiiffjeeiggfeebfhiecjchgbihgjddbecekjkjfekfekejjffggbfedeeedjjedgfgegdfefifbddddcjbfeicigfjhehjgkjdjfjhkffeefcjffdghcicicjceehghbkjibkdeeijgcekbdghidedkjcikdhjkbigifdfjhjbebdgkhjfkbfkfejfdceighgifjdcjbiffkkjibkcgbfgihfjjciehhgbgidfhiichfcjdkfibeifibkjecfjcgghekdiibhckdccfdgkckfeeffbicgfdkbkbjgdhidhdfddjcjjfkbjbjeefgccfbddijjgiiiefiijhkfdikkdbchdidcghkdkefeddcfjjkfgfeihekiieibikffkgcibddehfehfddigkgjkgefgjfcjkjicfdiddggikeckiejdeggeedhhdbcjbiibghkhegeciefgcdjjhjfhkbibfjkcgjhikjkbfbicfkcigdffccijchggihhbbedfggfcbbhicbihifhdejdfdbhbcghhgbfbgbidegjbiijbeijibjghbkiigeddhdfbjjfggjedfdkkcdjjikbebkdcgjejehbdbihkbcghgjfchdbeggfjhkjkgjjcghhjecicefcgfhccgdkkcidfkgegcfijjjejjecghgidbediciiccijidkdhibkfhhjhghjfbbbcdjkdijhcbgjhjhhdcfjibfhkecikjbkhbhddidebidehhkgdhbfbcfeghgjfehikeidbkfegjkjhbkjdiifjdigidhgieigicjdjfffefjefkeiffghfcfhikhbdbdcjjjgihgdkkbifghddebkkbdjhfkfgbchbcgbdfdghhgcbbbkekihikkkcihdifjehcedffbgekfbdhdgiebdhdhegiefkbbjefigkkkddcjbgghhbhcgkjejgdkceigkdehedjdddhekkhejdfjkidikfheikhckihdfkdbefcecfidbhfgdebihgjfdghggibkeiijjhkghihiddjjbiccigicfjchjgghjhechhfjbfigkhgikgekddbhjbjefhhjkbgkchdhdiejfffbdiffgjdfebdhdfgfjkbjhccbkecfdhiefhhfhbkkbedcekifikhijbckdjfkeiebhkekjikecdkiekbehhbebjicjeekdcgjbebhbcbgfhcgighiihebjjedfgjbidbbhbeibbcdcjdbcgfgjffhehfjdjebfhhibjckhggbfcbckgckjbkgjkibhhhfikkgjfdkjggkgbedekjdiijefckkikekbhhfcbhfkjhcgjdciddgeffhiigkhkgfcgbdikdehhdjhfihdkhjfejgebdhjdejkejedgcgekcidjekjggefkcbfiejjdbiebjbhkgikhkcehciccbekdfgkiiefbkibgicbfjdebkckcfhdjfdkfbhkbfgefighfjeebibciidkkjecicecjekcihcbkhbdkekbdhgbegibhdihbgifhekikbkjffibkfigidbkhjfekbbghdbddbegjkckgjieccegdgbfjcefkbggfgbjbggigkejhjjdbkgdbhjiegggkdjibjcdeidhgecdehfjgfkjjckhbciifjbehbcbfebfkddiehfibfbggbjegkgcfgkcekibjkkjekgckfiicehdkghbgbbejhkkcjhkkidfcfeibbckbkbfekkejfedebidebbbgkjjjbkcdjfbicfiecgghkfhcfhbkbekfejcigghifkihficekhikjgjkgbcijgjedfjhgebhkebehchcefjefkkecihijheejjkdhigefkcedhgbghdcjkfffkkjbikkiieeiekccegjdgjjjbjhcdkjeceijjdjfbdfeifjdiekhhjejccgdcjdcjjkfbjddhdcbgdfhbehgijhjfhkbjcckbhifhfjcjkchckdjecdjcjbeikijkjkhdcjcjhjicjbkkibbeffkkkjfjgkdickgcjfegghidkkhgbdiceffhjkjbcgkbcckicdkbhgggbgbjkjdjgededcjfdjhcdbckjkkeedgeicecbjjehcejhhgikigekifbdgbifihhibifebffchdgfhghfeebjbgibikjdfkhegecjieikeccffggchkjkbkfjbjkfgjfcjeicgghcikhehjcbeceejfjkkkfggibjdkkfejhibigjfifkeffhbhdighjjehcbkibfhbbdgkhdkhbhhikjjcfgcibihbcifbgedikjhihehhdkekkbecgbcjjhhbcjcbifgcfjhjcgdfcbgbbhbdhkcebigbbidchfikdfikfekkbhjbeedkjfkkibjiieekcediibbbgcchefedgfbjciehdcdjihdiejfikhdjiffkfcjcjhefgjdejgjecfdddkcbcjhcbjdekbcghfjbbbkhdcchhkhjbjhieihcjhejfdifcciijjkcjjgeddbebeebkhcchibdehffijdibjjbkjdihihfcggkdhkdcbjdjhijchehdccdfbkcijcjcdfghbhfhcgjfhjkjdjchddfdkcddcihjkecjhdfdcdgcfkjjgfkickgkfkfhkjbgddbcjdibcdkkkckjifcbjbjgbidhfcfgiefgcifkfeikecchbhbghcbfbkgidejijejfgfkhckhhcffikhkkikdfkfhiegeechkfighegjhifjeegbeijdfkciebbcgbkfbejhhceggkbkifhiiddcjggbdhejkikchcdbhjgfciddcjefffbdhiceibhkkekhkiegkfkdjijdgedcededfgbchbjhigkiefkgeedhfjhbhfeibdhcgfibbifdjefjghfkhibihjbfciikibdjeibickkjjcfcjdfccbdjefcchjcgibchjffdhjhcfebehkhhiihgedbgjcefcckjhecgeciicfdkgdckkeijkkieghkidhgbkbfdbhifigedibcefjgeichihjkhekejbcjgjbcdbdekkjehekgcjjkfgkfjhkgefbjhegdiedkegeficddddijbhigdidekejddcichfeicjiceiikjbdcjhbcgkeijbicfgegbdifbbihgkjbebdcfedcbdbgikhgdjjdhcejehfkciiiikibiikkifiikfhhegghigkcgigebghcgjdigjgiijdikhecfdjkdiebeddekbccfdfdkkffehhidkijccgbjdgdkkiekfkkbdgjjdebbgedigggeeffjegcebckfhjjbejebkdgccicfibkgjdggeggjgbejcdcgkgcbkhgihfibgcdgffjjkijifbjgedhdfifhchccicgbffgbegidikeecfghjiekffjebckcdgdjdjbbeijebfhkbfgjeikkijjcbhfjdgidgibjghifcbfgjhcekcciccekbfcicefhkfdgbjdbkhkhkcdefcfcfegigbchcgdccegffcdcgjfkeffekkjghkgbdgikbjghhcccdechkhhcfjgifdegbcfdjjghkikfcdgcdgfickhhdjehcdckcchgfechgbkcieeckkffjcbidckdgebckeekifgjecdjikdgbkckbbhdkkedkjeifdbghgjdgkhedbcjddbjkcjhfebcffgkfdiehibkkbjfhdijddkdcgefhjdjgggjbifdkbbhdjkjfjbjiedcgejhkbiicffcfjkhbbkjefeffhecikicghddbhdkfgbgdkkbffkeggijbiegjfkibjbfijjbedcfhcefiifbhhjcjhfehhfjcgjjjbikjcicbbfgicbicibdeeeebchjhejccdgdbdcejjhbfcfcgkkfigkifddcbebkgjbfhcjhebebbbigciefhdjkeecbgddegbfhgcbdbchecdbbjkgdeihikchhedjdfeiggefgkjgdjdiifegccggbfddgehfdidbkhfcgekehjhdcebidcefeiieckhegfdkjkeeibjdkfkcchgdgfhhbgkkgfkejbejdfeefbfcfbgddcbkkkcekgcigbddddbfdhkkkbfibbjjgdegdejkdhkjjcciidehddfkidjjigfebhjejeebddghfjhcikcdjdjijjdebfffkeeififhbdfbhcfjdehiedfeffkibbdbicbhhigkdifiibjhjjifcgbhdkhdjcgjefdgkckihdkkeheigkbcfgfiebgfjjgiichgdiebfcgbkecjjhghkfjdegcbgicdbkeegdjfjdkgcedjkcfjejddeeebbjfkkgggdjejekghjecjeiejcdgbegccjhfkhkeiihckdjjefiihedhdbickfedfjfdekjeebeefhcggbigbhkbdbcgecgijjdjhbekiddkkfckjcdbffcckggggdjgdhhcccikejdjfigggkkfiggjgcififigbbeibffffghecfggfbdgibiihejdbfgjghdhkedjfkffkicchfbjfifkicgkbchgkgjhhbffgihiefegedfegjhidbbkjieggfjcdjchjcbkijddifjgieggcddbgjhjbkgjeekdkcjekfjchjiekcbfgfjehbkdjjgcikgjfbddhgjkgdddefehighjegfkbjffbcjdhgihceeigckbhbhbjgebgcikkiicijjbdgkfgkcbjeebfifgccdhgfhgjjeeifbeiciekihkhifhgkkicibcjfjcecjegjfhebhefdhijkfdgkejjhhjgikffbkggfhedkdhbkibgjjcggjcfbhhbdgeckebdbgdijjgdhcdkhccbkfjiihdebhfjkcdjghjdgkehdfcjcbhegfkjjigbckdiidehjfceecgkkchhdcichbjdfkihfbhfdjgbhkdggebjjijhibbigchhdgbcfkjjcihfbjkdgbcdccbbddhifjbejeggfjbhbdggdgijbgjkhfcgdbdgcgkkhfbjdehfihgekfkdjjchfkhbkchfhifkjeehgkgccdkkidjkhfcefkebhfdikjbcdkfecckekdbekhkcfkkdbehdfegcjfkckfcgbjfgkedkfigjkdfjffbhegbjdggeehfijfcdjhcgkbdicgkbgihdefgcbkcdfjgcickbebfdjkhifgfdcjkjigkhkhbfcdbdgiecgchfcigjhcfcbghgceecgekekfdibibgjkgkjkfigjehbkigfigkkehjijfdfghehhikigiccdhefjhjfhfkcbjiebjgihkfghghcifiggjeefkkhcggieiijdgebggbbgfffbiggfdiigeefifffecdjdhddibckifbjejckgcddhkbfhhbkhifhhfdjehbidbggckbjjgebihhgcfjgiidgijdfikjggfebcjcgbbbdfjfdicbijjddgcjbkchckkgifjhiieiifhghijjecjbkhgeccjghcegbcihkjfkhjkjbcjkcgdegdhidbdhjkhhhiebidgicfgbddffgjgdjcdgcfebjkceiecbecbckjjbciciighbiigiifcceekkcjejgbciihcfeickkkbgdhijgeeiihdhdbgkjdehkchefkffiifcggcgcbjiiieedgkhcjbgkceihcefbjggeibhghhecfbehjbikefceeccciehekedijegebfkkkedcccbdiefefkefbiedfcbjgbfkifbefdicdjddbjjfcdkcghghifhfcjgkcbccbhdedkjgfcjbbdbdfgieggdffcdiekebjbiecejicichiigkjfkbfbkbifbkekiihiffchegjjjdekibejdbibgecjffeeigjeigccidjhfhfhbidckeigheekbiecfegegdbgchhbkfkhfgkkcecieidhgjkfebedkdibghkdkkbjjifbekidbkdcdchcgegejdicijikffcfegkjiifijekjffkcdbffjcefjfgjjgjedhjbkckjdjdbghbhfgfbfhjghkcgcfjiekgchjifggegegjbffffjcfjdfbcdijhdkcbbkdeeikgbgdbfcgfibciekgbchjbjbkikdkkegehbjbkgjkiedkkjbkkfghcfhekkibedjebhefddfgihdhjdhjheidfcehdgcejcfdgicjhhfdighkcgbfbchigedgkjjhceiekjcidhdbfkdgdcigegejciigkcciibkihigbckhfbjedjghdjdjijddicbjhehfcehhiebccbgcdjehbeekidgibbgggeedbfdcighcjkdbfbjejbcgkihiihgebhgdedcbdibbfibehckfddkghiheiighifchdghgijcffgbjkchghifjjibejdkkjdkkcjkdjbcfjbkjhchgdfdhhghbbfcfecidekiegcfccicbbfhjgdckcechkjdjkhekdgihcbbfeechckjjkdjegddfgfbhhhhdbecfeikheeegdkbkjffjdhedfddhkkjidcgdecbhejbggdbdcckeddbjjgigidcdigbfbchkecjcebgkgijbhcbkkfjdgchccdighhjccfkbifibkcdedhkkkfigcjhbdgjbcefcjebicjehkjgecgecdbkbhkgicckicgkgdcgkficicccdffihhfhcdjhcfbebfjkhekbhhfkdbebfbbffhjifbkgijgikcibhhfkkkdghebbgbjijkhffjkchbkgbibijckhdidcgihdcfkcdidifjjdijheihdbjbhebkcdcbgejegkkecdcbicbddefgcjceeefgbiejkeeedebkbfcbcjibfhjhcbegbcchcbbgdcfhgedgbkhdbehhgeegbhikgiegjiikjdkggjjbgefdkhckgcifjfcgjkcibkhjdfkgjjjgbfdefkjedjhejdgegdikbihikkcfghcdcijfhbdeggiichfdiikejkhchcgfbbkfkkihgkiddidjjikjkdkkieccdihbbgcjfccehcbekhcchcjjhfhghfhfjkcickhbbigcidhgckbgiefjihibgfghfhcihcgcbgbbigeeieghcigcfihgbcggiehbkhcfibkcbgdbjiekhfdbeikkehfjjheigdcebhehebddjkbddjdibkjfiijkkbfichcfechhggeekcjgibiccdhgkficjbebefejgbdcceicekcgjckkeecddkkcgfebeidfgkdhjckibjcfjefhbeecfkcdjkgdfdcgjjcjhfbibjddedcihbechbkfijebdcghhfdkifhbiekbbdkgfgjbdiiigcibjhbbfedbcfcdbbddkffkfkjhdecijcfdjhghcidbechddefcejdbbciifeichkgdefejgccehhhicjjbbiidkefgcdkjhbfjcdghfcbgidffedjjifeidhfcfbdbcffdfbebecfckkkighbigichgbjceiheebebbiiggbkgjhkhjbiibccecejjdkjdgkefebfcbbdkkidejkghhcbdcbdgjhhbfcfhdhfikefheijkhibcdbbcijdgbihfkkbbfdiehigfbjcfkbhkjgfdhkejjikjkfcifjkhihefkhbdiekcikkeghhjhedfbihghickbdjffcijjcghkeedifdhgbidekgcdjbifhjgfdhkjhifdggdhidhfbbfjfgbghcbccdgbefggebikefdgkkfhkedhkibbejeijkedckcjkhbkhigfbhbjibfhgfdjjchjbicdecihcekhdbhchgfcgfbedijgbhfibfdgjeikfekhdgfdgcihfifchjdhkhckbidhhkiicgedfikgcbhjihchgeifdfbkidfbejdjcicdihfjeghcfgdbeecfbficebjdbdbigjfcchghhfedbeccccicgggefkkkbebbjgjgcfdcjchcgegggbgefhjddgceijgiieibhieecdfkejciddgcbgkjhiddkghedbbidjhchbfidffdecefbdjbfbifjifkjfbkcbhekdcbifihkcjdjdkkedbhiekcfikgckihgdhfeigbejighhjhkcibkkdbcchccgjijjgcbikfhdfgdceijekejhhceddfhcjdkbikfdbfggedhekfdejbdibffjgejicbhedhbbfjkidgjhcdkdbcbfjjigkegchbkfiihdjdjcdkgkfjgbehbbdkkgjijfkjigbhjkicbbkgedkkebkfkjkchjgjkkghkhijfbkchkjkdghchdjgfbkigbchdhibkffiikffhgjdjkfgkjjcihigecjdfghcbihcfbcfkjddfdggjekegckigfhfdebdkiciggeecccigdhdgfighkkgcjjchjehbbgkhghffcigdejjhfbccjdfdjcgibkihghigkkicfbjcjkjdfefebfdhbjejehhiebbhjgkbbdejfbbdeihgiffkjgegfjfgifhkgckkhcgdigkbkkbekhijhhihbkhkbhcjhfdchgkjfidkbbffkdkcekkbdiejbbdbigfhigigjkdccbehckijbhffdcffjhkccfceihecggfgekehcihkdgigbhijkfjcefehghgidegghfdhchbdkecdggkgkgcckhjhffgfehckcbbhhkhhhgfgkfiikeigehckedkghgcbkdffhfeehgebjgbibdhdgkecgigficfjkchcfdckjcfddiibfcifkkicijibdckccbkfhhfcfekcdbiefckghckfccefdikdkejbdjcjjebcgbfibbghfhefdicggigkfhgbficehckgkfbiffefbijghedfgggjcfdcceegcechbjfkekhehdfhkccbigbkcbhikjidhgfcjkijgfggecddbjdhgkgbkbdcdcddbccbkfjfibhdhkhhjbkfigbjbjdehjihbbiddehdkibficfidchkibbbgecgcdecdeeikhfcfidfchchbhgkbeebicbbhcikibdjkhckkbkkcbejcieichhejeidjgcighckjichfcdhbjjcgbjdfcgbdjiebjdcfccgjidggbdcfeiiedcfjjbfgbjcicdghkibcjkjkkjkgebjjhhgkfhgbhjgfiikefgifbfhjhehkgigeficjfgccfibkfkdfggcffdbihfcfdjbkjffdejjjijdbkecehfcijfbijfhdgbcbkeikhggkbfhdjcfkcbbgkejijgkjkbkcbdijefidchhhikjbikhffiidjbigkdghefceckkegfkbkfcfbfkcfidicfgeigjcghigcbfccfegdhkkifbkfceikhiigfdfeegjfgebifbkkdifkgfgibjjhdcbckgdcfedjdghegejbjggjkdjdifhjgkdggddgbgkbjkhcifgcdbhdghfbdjgejhfggbjdhgkbefcbhjebigihdiichidbcckiekecgbhgkgikkgecjghkgigbdekhfhggfbbckgbgfihficbgjjebbjjbhfebhbghecbehigjgbcgicfhbkjifkgkidckebdhbdbkcgebjkcbfdbkgbjjghidigjdijgbcedfdkbfkebccfficjjgjkjifgfgibgkdgeijgeeijifbkigefjkebikgcfekkcbceceggekgjicffhffgjfkbbkkibifjekechhjhfbdgfcehdckfjhdekfhckijijkejcdeecicikhikbjibjgjibjgkfeddbfcgdhjdbjgfgkjbkhdcjjjjjfggicgcighbbjbggkkbjeifjkddfgbdcckeegdjkfjeiihbihhcdhcegiedbkkfhdbiibffecfedfffkhhjfjegeddjkeikedjfjecjidjfihfgkcjbfjhdfbfkiijbjebecdfikbibjbdfbihheccgdkiejkeheekfifbcchbfkheghikccjkedckehhbcffbjdhgghkijbdjijckggccfejbcdgecbkebddccchhfiggigggceedijcieheccjjehgfkbgbehegcbbcebckgjihekdicjhhkidhigfgfghibgkejicjfbdbgegidhkjckkkgcecffchjjghbidbdhjeibeihihkhggdkdihhcckekkeheekhfjdkcekbdbbhdbbedckjbdkbgfegehedfejfhecgjkjjdegcehdkfkcggddfhgfdicciijbidjhbbihchhikdiedcbekiieegcdkhkgdekfidkejhcfhicbkbjhdgcdccdfhjffehebkifdjjjciihdbehhfddcjdggheddihkbkehecicbefkhghhibhfefgikdfcbbigckejfcfkgbjdfjdjeefdfbbddjcefcefckfejbbkddefbkhckfchfcihcbijjbijecccefebjcfffdcijbfekdegdchfjcdfgihhfiighfkjdjjifcdbcbkfhjkgjdjgkdbcifgiihdfibhgbecdbeebdbjkeijkiceieghjieefiehfehgcffhcdhbhihcigkgjgkcdfgikbedhedjkkhjdiiejjhgbcddjhdchchjhbdkfbfcceeejdffhkkbjgihfkjijkhbjkkegefhbbdfgfhhiebbfhccdiebhhdkfcicbbcjccjbdhcbgfgekhifibgdcecdfgehfddkkekkjibehgbiebbfehcjdficbbhgeegihhcgijbikehehkdcdgcebhhdhegccddfbedekccebkfgejddfegigfggdhegfcfkehkgecfciebgchifbecdbkijeiigbgbfjjkdicekfjfkcehfbjcfibfjhbhifcjehgjbkkgggccbgbfcgdckfddhkckkbgiikdciejdgccbbcgbibbbfgkijchchkjjgebekicgiichbhjdggieiibchicgfkjehgbkikeicjfceegfegcgfeghjghkkdfdgdgefkgcfeccdbhhgjfjhdcekcbikccffekbiifdddijjfdjiececkefibbjghjkifbchfgbcfibheghbbgiiekeecegddibjdcjkdhiggdckikcjedkiejjcdkkfdjbgdhjgficedckdkbecffjefkhgkfbbebfkefjjgfgkfdgbiebjjccdbibbkjbcbjjijgfjebdjccgbkgcifgbckijgcbgfbkjfieidbdfehdhkbkhcdcijgkffidggehhgfkbddfkfbiiebkiikckkeffggffcffedfhgjfbbiegffekbghfhjbchehddckiejcjicgjjhjhkiidijjkffkkhgfbfjkbbcjhjefkdjgfdcbieddhhdcdchhbjekekhddhcieeeiggeddgbkeicdhffddjkhefhdbkjdcggbcefckgihhghgbebhijegkbcidbedbekekihgfgcegbkhdjdkkdkceicgkcdeebjfkiejikkiebbfbbcfbjhcgbffgikkkjbihjdjhicibiechghdcbkcfcgdjkfjiheeggcjfjdidiebifcegfckdjidcgbgchgkdcjcebgijbfedgidbjeckfhhbcbhhfjjggbjihchebdhgijhbcddkjdijfghjdkcfdfifjcddjfgechfkiggcgbgjfhjibefecjifejgdekfcijegkkijfckjdehjkgkhbicjjfghjfiifkdhhjjdfgdijgbigiiefdihjffbchkjehkiedcccjjecfijicggiggiiddehcjfjfdkfddcfddefggbgeeeifdecjgkbjecgejjgcggfkcdhdifhdggkefdjbbfckkckdjcccfbhicjhcceigjjbkbgjdeccgjhckbfiejkbikdkhfkdekhbdhjdhfdijgehdgdhgbcdhhjbkhjhkdibhjjhkfeekjhigbcbfbcfcekjkkbhcjjhbjfbdhcigbjiibhbhdicecfkddjdcdijdhhigefhbjdfekhcgibijbbhejciibidgdhhijkkjjfkejjkfibjfhibhjciehhdjechihijiediekdekcdjfhggbifkdcjdjgiggdgcedkdjhkgeeeibccghgjighihjdfkihgcfefjdibfbjccghkkkbdeghhbbjhikfcghejddhhcikfgckkeckhfhjjdfjbghfijikbkgdfkchicekgbjfkbkfhfehdfhbhcjhchgcfgdkhfbfkcehdffihekjbhijhggjkbkicgggggedkgdfidgjeccggifkkdicgbjkibfhdjfeikghbjehfkkgbfhdkdkbhgkgdjgdkijjjhjcedbdjdebededjidkjgbbbjkgkhdjebfdhgbbkihcjieccfehjhdhjjjjgdefbgifffhdgecbfkjeciihkgeddciekfgghgicjfdeffhckiedgigjgceidcgebbhckibckdehegkdikkbiejedffdfdejhcjkefihbhfecjhkjbhdijghicbhbfkkkcekdjhiekkikjffgihdkhcckegbfghffgibehihhbgkfhkhficdbbihjhghfjdfdcbbbdcdbekbgejhffbfcfhcfdddijdbdgbdejfgcghjkghcifdhcjficjifdcgfiekfdbefbgdbfhjifdfhffdfihgciifhgdkifdcfbbdcgbgdjhjjiifcbdgbjeefjjedkibbcebjbgeiiibddccffhckghcgdekikjhffdgddkbfedfbhihgbbbdceijcbebkkkcfjficgbedggjbfeichcgfibhbdeefgbbiidhhkkkebhcehbekegeifjcchjkbbkdkdejkigekghejghgfehdidibdkehckhgfifejkfhcfbkikfhjbgkgkibgejdbbbikedhcbkbiikdjijfghicbebihibhbfbccgcikgkcdecdhcdidfbjichcchbhcgdebffckkeeefkdicdjgbkkdbhibgjbkkgdjkjdjgiechfkecdgcffhedeggdedggifjhcbehghcbfihkfhfdchdieidjkcidbibebfhbkecfceceidcgbdhdggkecgegcijkdjhkkgikgieekijdhhgffdegibbjgcifhfeibcfhkcgbbbkhgjjbhckhgijiefeghefibcigfbbbiijcieegcgddkeijbehiekfgbjfcbjjcfgdfhcdidgcegcefkkfdiedjkeikijeffbchbchjfggdgbhdehdkkkbegkfgdjbfcjfbefjjhffdddjdkebkedegkffkjhhfekjgkkfidebgifcehfbbjiciidfbfekjcfcbfkjfedcjebdfcdjickbcekeighehbighihchdjdkbccffgidkdjjchgcjjjjchdjdjgkfdbieijcjdiddhieegchfigifcbjhfibkfchcdhedhicdfdbgjjgijcfgkciedekkffihfcekfbbhcijdcjfjijhjgebibdghkckcefjbefcfcjjebcgcecfkdbcfigdcekgjdhgekiebcfgbfjjbeheihjkbdkjjkkedjffehbgfgcgjfhgigkhfjihcggjccfhgidfhfegfgbbebbefkkcbiddgfjgdhfcjjhbdfiggfcddhggdjhkkickchdibcgkefgbckjkckeighghdfhicifbikccbhidicggbhdidjicdkggfbhjjegjdhekhhkdhgedifdgikgbbkkjgddhkbijjjebcedhfbckgkehkbbfbbebcfcbhekgbidfcjbgddcfbceejbigifjifikbeicbdcidcdgbiiikciicidfiefkjbkegcgidkjgkhkihfcjighcffcbggjebgdccccffcjgjgddecidegkeebgbebhedjbkejcijhekcfbjjijkjjkjhbbgigdkfbjbefdikckghgfddhehbeeiighhbfdheefhckhigcidkdekdhbigkbhkcchdbhbdjdbebcdggbbgcjfejcfjichdehfbehfhifhedbbfjhcccheiibbhdedbfidgejjighfihjdkdghijcfbgfjededhfkcijcbehdhjdgfhiggkbdieijkckgdeihiiikeikfjfehkifidebeiejhckgbhdjgiiigbfbfjebdhgkeiedjjhihkifhhidieeddggifeehjhbbbcbdcigkgjefbdjjfjfkhgdhefhfdhbdkdgifkbiffggejjkjdkeecccchkgdkjkhdecdhchhfbgfikejcjhdckgjkkhjcjkghkkejbfihcjbdikbjkebkdhhhhgbdbkjkhdbgjbfdchhcdegdjgcdkejeegkbehckjggibhhfgihegijkbdekjcbibighebckkfedcckjekgffeeibghhfjeejfkdicegdddkebeeehjfckbijdkiihckhjhghhhfhjekebjciijjkdghjjddfdjcbcbgjhdjhikfbjjgbdebfjhfjhigbegehfdghhgedhjjhebekbidgjjgcdkjecdkgikgkcbhckbijhkbcddgdhieibjkjhdbjjeffhgjeebkjbefchiijhbkfjgijgbbkdcigfggcjkgcekhdjhgcfjfegjjcdcckkkjgfehgecfjfiifijfiekcjkcgfkgdkggbiehdecikjkggfhhjgecfdiggghjgekdbdjgbfebcfdcebjhjbfhbijbkhikjbiidifdhdeeebfhfkcejgbhjbhdcfdfkkbeibcejjjghbkbfccffeddbkggecdbeidgeibkeifcjbgdjhekfdhbghceiegcchchihdkeibjfbjckkkdjjbjeehgcbjffhgifejkdbigfjbebjkhbkbkkjbdigfgfiehcjbiejkhefijijiifjffgedgiijbdgdjhfgifbfbhfcfebbdffbbjjbfebkjccibdgdkdcebccgggdehbjbbbgjbbgcbcdjhebbgfjcjbifkgfgbbfgjhjbdebibhjkiehgkcbcedckdkghfkjkcfebeceeikekjbgdbdbjbdeiihcjbkificecicfhbkjiiibjcdiijigckejcddhiccfjbkbjbkdhbjfgfhkhkcddikdckddehgjfiifdcjccdgbjjddjjibddebihkcgbjdhidkeciddbfdjfefggicgfhihejhidcfkgkkbcfckfkkeihhdgeffhigjfikjecbjhdifdicijgciibefcgbkcekddgehgjkfeejfhdhjhbhhcfjffdfjebebbbehbihkkijidefjkieddckhjiicjicbfcecgjfecejhkjjcbighjjiiegbhdcdckbfckdikhhfcddidbfccgjjkecbhckgkkbjjhbebcdjkfhddbeegcbbeiejeijhjcbfcdhbbejggcfkihgkkekjibiifiigefcbcfhhfbkkdbececefgebbfbdfbgfjkehjeegdehhechficfdkefbkkfkfegehhiiifebkfkighfigkhgjkcdkbcjhifdihkgekbjbkkbkcbifbebdcfghdjcidgikjfdkbckbikcgkcfghgckfiebdbbddbkiifbiefhhhkfjbhckiehibehdikfbkikcfkbbjbkgiiibiifjgdbkfkgkjkbbhfjfgkecgfjfddififghhkicbjcdjdgedjeddkidbcjfbbgjcjkhibfkbheejgfjdgifdeggeggbhjbgcdcbjgdchkcjbhdfcggebjchifibhbbdcdggekfeegdckhjdbbcejcgehgcbffeigbddkdfikebjefhbiiidjijeegjjhdjfeekjbghbhickggjdkkbfejcbccdcgieiffdcebeieghikfbhcigikcjghdkgdfeegedcbikdejijjihgjejhcdhdbeekfdhgfdgfbgkedebdchkfdcfdbkddhjibiihcikdccgdeehhbigjjhhcbkcehicfgeikkhgcdcckhjjhkgihkbjkijedffebedggjgkgdegedjgjfkbhfhicbfdidbkjbkkjcgkghejeifehbeceifkhkdiffgdggghfcfhdfbjecgkjjcdidbgciggefcbechfeigdfidbkicbhccbfkkgfcbjiebjbifkdghihcdgkfbekidbheeibjchdfhdciidccikcffibjbeehgffhfefebdfhkecibjbbhdkjgihbbkgfjfgcfheffccdeibjgjhbhieffbjikhdhckdcegbidhfhdfjdbjkcihccekdhgghdjekjejjidcgdijdjcfbibbfhghedbjfdjbeghbcgkicbjjkiiijghjejbfjdbkhdddhiibjffidicgeedhgkijkbgdffdfjjhjgfibhfgfiffjiedkfikgbihjejejdffkbgdickdhdkhfjdjfgehdfbgkjegehiheckbchghikgjhgbiccgkjcdeiggccbbbfjeegceifbiiekkfdfkcckigghhggkjjigcdfdgfjbkbbckjfkgjdbcbbkkgckdjhfhjkigcebcfdiffgbbgbckjfehhihcifhdjeihgkedceibbekbebecjhiikfckjjefgcfebdfcdcgfgeifiidhhckjdjgcikjdfjdigkbjgjcfgeckgedkegedeckggjefdgihfjicgddbkfijfgcchijkdhkhfjedejjebdfjhgjkfgikecgckfdcdddjgfdjikgibfjecgcjkdgkijfdbiddjbjbdjighckjfeefcdcjckceddhhkefheibcjbfidcdfdikcjjfgkjdjfdhjbhedgkdhcbgebkdgkdbdcfbhkfbdkgghhbfhjbbfhkhdiejbkbbdcijikghegehhijdkbjbciiejgjcecicheikdbbihihdjfcdgckiijfejbjhbfkdkcefeccgeefhbdejdkdccdhfkkfkcbiecgbehgedjhbkjbbibjgjghkjkdjehgbgjbifbikebkcgehicfhifjecbgfikkedhhkdheckdkiiiigghebjfcedfdgdbjegcjeddihchcegihfehdkkjjcgjdeckgfifcdichkfeiebihibfebibceecbfedbikkkjjcjddkbebkfbffkdhiddhccfjegkjdhegfidkhkkiejbehjkhckibbhdhfhbfbkdcbccjcjfbghikbdhdciiehdicdhcekiebkhbjkhfkkffbhjgjdkekedhjjfhddbeceidbeggkecbjbfjbifgffjedfgjeeibggigdjgbdhgdfgfeidkccfdkedbkekhddcegbfegfccikkkcejgikdhhhccbcgfehjkkgcgdikcdjedifbgifdghbghbffdjgifjbedekkdfjbcihkecfhbbikkchcheikehkifiehgkkhkedjekidhebbffkcjifhhcidfkjbjjfbhecgefdfjhchbggckhbfciibdifjckicgdejcbdkbhfhdbjjdgicbeckbgdcigjffdbceidfjfkkgghgkdchefiekfhbgiihkbghjgdhdifiibgjgehckgbcijjkcbdcgbegdfhkdhbjfjkdbkggfkgbkbegdchjbehgbfkcbkhidigfhjkhjgdgddhcddcjkihdgejchbejbcdhdidikiidcgbhfekgggjijkjgbgekgdkfjfjfhgggfgidcfjdjeckfebjfdchigcefhdgeidejkfhhjfbbbjijhdgbhkfcefkjjjkgicbbggfhdjdbeigiikjdgcghhfhhgfcdbfbgekdbehijbikjkfecicgecbkgdfhfcfkikbcfejecekfigcikghbdgkdbibhibeecbeefikcjifhbcjejgffbhfcjbbjhkbbgcjeccjfggdbjgfiehdgbgecdcgjhhhekhideehiihjffkdicikedfgbkdjdkhdjjdkkjifhehjkhjgdkjkkdikkhbdkgedkjhhehdghiikgikkfbkjdhfbgiibgjfhjddjejjjfkjjicjghfbhibghebkcdjcecjhkeikfehbibgcgcdhbhhdfibfcdibhekdcejfekhcbgjcfdkficjgekbfhjkgeicfkfdbdkhkffgdfieghiidjjjcchhhidedcckchdcbbjibjcigeffbkbjgdceeifddbiedfeichgkecejjefifkhjjecfchffbgbhibkbgdkhggcggcdgkjgkkdfdcgbgekdgiffdchkkdhcfbkkecfchihccijgddckejieedhgehdibdidedbiebfdjefdekkhiekhdiibehdgkkccfbggeckdeefcdfkjfbbefhhkhdcjeeekchhjhhhkbfedjkjececfecebgicicjcgkcbhfhgijgigckfbdciiccdkhbjbcfbeckgfbhbcfdgdgiibifgjjbebihciichgdfbjbejjbdchdejbhfjccdbgickfeekbchecehefgbbcfihbkeggbikgfjeekdbdifbhihefbehcefdcjieeikefdckdkfkfcbieidegigkdjbefgfieiffhdiehefdbbcbhiekhhkhgfdbkjekjgceibfijiedhgeebjbbehgbdihjidbjbcbfgbehgjfjjfjdfjgkchdjikghikhkdifidiigbfkkeidcfggkffkjkiecdfcijbfikgcjgjhgfhhegehghedfcfdebcdfidccebkdjghhibecgdeghhjikkjekeijffhhcdjchiffjbcigifcjccdejbfijeeibifffffjhjccbfbhdecgkfbdjjkijhiggekjfjigbfidkfbdbiccjdehbbfddcfcejhfhjdfhghijjhdcjcebffhifhbjhgkkfdeccfbhcggjkdbgibckejjjijjkjfibghdihckifhfcghbhhchgdiegghhjfidefijhidffiechckgcfggkkiccehhdihdcbijebhjjheehjjfkffbbhjikcfdfffcigjeiceeefcjcbkjiejkbdfefkbjfjccjfhkbfhidhbgkgjkgheefkejijjbehebgbeddicegegidkbdhhdjigdjfbfedbeckkihggfdkhjfhjhejgbfckighfibkjckehgkjbgeedbkbkcjdjghdfigffcggcecbijfkccgfcccebjbiibjjfjcedhgfbhceccfiiihhjbjjdcgjekddcdhifcbgccfebfhjcdjdjgdebfefdgdfdkckfdikjdbifidjkehgiefbijfcbhgehbbjhibhfcibdgjdefkbejfebbcffgfcgfibfijehfdgjfebbgkkfbdbgdkfgkegkehgcjgdfgecjdjbkekhcijkccididfihgkbhdejjdbikefifidcgcbhikcdiehkeedjkbefbibdifffibfdebbigihdegjiehghgiecijefgkgjccibdhfbcggdbkkkihbkfkgkcefdbekddgdidfhkdhikjfiikjddkjeijbijbkkgfgjebjjcjfgfchbijkfkcbfdddhbcfhkdcjcfhcbchdfcgcijfeebbehcbbhefdgjdbeibhkkkffebgdehgbeidkikjgfgecekhhkijficjjkjdgdjikbbicdggjjhccdkcjibcjcjikgcjkiikefbejhdbfjkibicibdfibcfjjbcbdhdibieddfigdebjdcifbdeeggeiefkgidibbkkdcefhifhkijdkdffgciggckjbkiegiibfijkjebkgbehikjkidgiikifbkeihijcjdgkjhgfejifkbihhebecfidgeediegcfiibebkkhbifecckebidiedcjejjfhgdehiecjkkhckkhhhbgkedkhdcckhcedhbkeeekfdjbhcfhkejgdhdiggkffcjicgjgfgbkihihhdjcjbiciedbcbifdgfigjekfieffiigdhcdehihbdikfhbdhikjgigekbgfiickegibdhhedkcbhgffkjbbjdgkbfbhhkbgkjfcbjfdejddbbdihekdgcbkiifdfefdegjbeeigheecfhdjkekiddbfcbdiggcdhdfcbjibbggjhgdkkkhfecbdgikiefibkdhcdbiihhgbhijkjffefdikcifeiggejchkjdjgkcjdkgdiibghfibhgdigeccbiihgcbjfgbbeccbjbcjfjbjgbbgdbdfhjkdhkceiffcibekifhghfkjifhjbihhkdfjbhddjkgigbefibcbfcdkjbbcjjdigfddkgbhgfkiehkffdcfkchcfccgcfkcdcdecffdeeiikddgfjieiekfedjccgdkkfckbgddghjjdhcbggbcjhibgjdfeghdbjfibghcbdjdfchfjgecfebhgfbgcchkgcibbdbbkjcigfkgibkjcdihkehkkciihdbigkihkbffcigfdjeecccdbbgiiecbjebefbekebeijfdiikfegbhhcggdcdbgbidbegbfbdbbgggefkfhhffeecckkcfbfifhfgcbcdhgdbfekkeehgjkchchkfdefedbcfhbdghcgecifcjhfficehckgjjieegjeebigfjcfijkgcikkgecjcgkcibgceegfidgikfeicjefdfkddhcgcgibbigfbhbkbbfjcbdfjjhgihhgjihgcbcggegeehhfdidfkjfefhicbcbgfcjkhgebkhhekbhbekdceebgekgbkgkhjdjfkggkkddbikfgkhecjdbigiiicbiiddgjbecfhkgfjjeddibjhhbdeekjgfccijdggedhdhhckkkkjihgcfdebhcdifhjfbhiedckikdfjhjekhicbbihghefeddcfekccdbehffidbkkbikjbijeffickijjcgibejfhhfijgkbggcgbdcicchbdjgkkkcfjkchjccjihkbbkfbfcibkgebhhcekeibfdbjjgbfkijbjhfhicbeehijhhbfcdkjigikhcgegfkdheehjiebjfebkkigcdkegdhgdbgkgbdekhfbdkgfkdebkkjhgdbgbdejfibgecjbedgkkjkifhidifgdgfcgibgkigbiebjdhgcfhddcgkhbgdbhikeeekfgbhhkbbhegfjbfiheeggeehiecebdejjgihffgchkbkbhjgekhjkcjffbbecfkdgdgcbjfbedhkefigjcbbfkjiffhiiidkjbjfcfkfckcciikdhjhcihfjfiebjchfekgefffgkjebceegheichkjjkedbdhcgdeckjiecghhkcfcbbhdjbbgdgkbgbcjidiiihffjkdbhcjejdcckchdbjkjjjkeghggggedcdedghbdcbcgccfkhdhihiebdkjcijchhjdidfhedckcjkgchfcbjibeehbifeigiihhbijbbchhbgddkkbjjfcdkdfcchchdgfgcjeigbijckikidjggidjhkccejfhidbbecbgfdfgeikciicjbhbhfibijkbjccgjfcgfgdfcffeiikdgbhjbfjihebhibbjbkjikehbejbjbedicfigdkfcggdhfcchghechjbegbkhgebegdbkdcbbekbgdgfikkejidgfiifccikggcfhikgddfgjjjfficeejjijifbddkdbkehgjcifbkjhccgfgddhhhbjhghekecdjkciefgkhgccgkfcekbedibdcdfjfcdfbkeibckjgbjhdjdiiejijfigkjbdbkjfbdcbhchbdcfbihcihbckijjcidcjcjikgdgjhgejjkiigfjdfcijhfbcjgjhbhfhifdkigcgjhciefjhehhfficecjkdhjhebddgkbifffciddjegfbdbgdbcddcbbkgibehdhkjedkehcedbikkeefgicgeifjbkjgigjhgjbifihfhcdcdihkbihdddeeecdjicfhffffefdbfhdfbdbdjidkefcicigkgchcdidccfdbfejfdciebefheeijjggckgchbcfigccfhcbjbhkjdhgkdhdddfkfeedgggbhhccbekkdekjdfekdjjjifjfhhihbfkjfbehcjjbjhdfijckikeibhcdddjihdkdkifkkjjddbgbbfcfdekjijhkjkbgehjihbifhefgdibgejdbdgjfgfkbjicgdcfcikjiifkjdbkfjggfbbedfkgfkgdbccihcgeddjecbkidjecgjgkecjgcjckdgbhdbjffhidkiekekdjjkjdjfefdehkefccfkkifekbeifbibfijkccejfhbkdbdefggegfggeeiddccdcfkbebeihdbfdedgjjkjfefiejdejbkcecdkkkgidbiibjbkbhcicfigdchfgefhijdbhgbhihhfkggkjbggbkcfheijbgedjkfcfhgkighbghfkfkebkgfiidjhhhkekbdkjhccdjhhhhkjdbddffcdkkehdejiddffkbjcegfbggikdkicfhidjgkfhdkgikigdejfckccjejjebfhgjcbhddffcfbihjcjkijkbkcfhjeeiggdcgjedcghcfhikkegickebeiiekkhejdfcbedgggjjfjhiffbjhhiiebjhcefbhfdjgbhggheghefijhfhgdcfcgbgfbdihcighhgcicibjkfgjcbkeecgcgecdejhjieddedhhjgcfjehckbfdkheeecdeibjkeibdigiejkkjidhbegggbcbcfkdedjdcjbdkdbgdjhefeghjkkkigdgkbjjehiibbgbhcbdfifkhcdffcjkbfdkehedhcbbjkbhdggjhiicjefbeeijkcfdjckbfgghkfjfhbdjfkjfhjekdichdifcdfeijcjhiihghkfhibehgbjbdcebbkijfffbjghgkkgfdceihidbjfjbiebggieebbdjjbkcbfjbfhecgfikcchhhdjicfbhigiebigicdkibfieeeffegbbccidiecjjiifibdicekhkekiedggbdbfbkcdfcikbidebdccjgckjkjjgbeiehgbfchhcbkgbgficegebhkjcdibdbbfcdhchjijdkideedjjdjecjcdhjfhckhjjkifeekcekdejcijjjfeikikfjccdhbhhjdikcgidifjigbegheifckdfcibikcjejcgdhibejjhijfddieiihdfidhfkgfihfifhddiegdfiikdceegbjdghdggckbjgdecbbbckgbkibcjdfeegdfhddbjgfcbbegjffkhgdiikhhjijgdbddddgjbhbikifkbkkiefghdicebhbjggggjchfeeibfgcdgkeijhbbbbhfkgfhefhkeegeihbjbceedgbgfkefefcijjgfkhgfkjjcgffkckgifciiikfjdjkgjbgccckkfgjcfikghkjfckfikdjbbdfdkjccgifkbbkchddhidkbcjejgkjceefjgcbhecjjcdekfjkghbdbighbgghcgiijkcekigkdheffcciccbidjggdbicddbdjkfdjfihdfiecbbkjkkhbjbhjdiijbbihjedcdgcegekicfeefcickkcdijedjggkcdffjkiideiibdgkfjgbefjhijhgkkichidikhkgjdcgdjihkhekdbehgebgdbcbijkkcjeekecddhjffgkcihiiejfcbbccjkjjhbfiihidjjbjhkiifchfhbffbbkgggchckkhcjggckkbikbfdbbkdjigifkchcbdkgdccedehdkhfkdeihdgjhdjgeejbbfkccegckdihjjikcgdbijfhfcidbdfdhbffeejkgjdfgkfjddfgcfiigediihgchcjchgfghicfgcddcggidkkekhbcdfiecbgfhihefdbijgggegjjbcjdgjgbdbjbjgicfjehijddgcjggihfckckgkcfhkbggejhgbfhgfcdjckjeckidifejiigijbkikcbkgjkihedbigigihdjgdhgjihefdddbcfciddefkefcbhfdchjkgbebjghhgbcgkdeggfdfgfccijbedcgbechkbiifkhidjhehghcjcgkbhicebjibfcghhibjejfeieecefkiecibbcbicbdeiikfiidgkjdjjfgfegdeikgjjkiekgheifbgieccchjfgkiighifjigcjhibgibfcgfjffiijgcgjkbihgekbbgcbickkighggcbbddbbhhihhiehedkiijgkfbfdjehkbdjkbjccfbjdcgkhfebhkbejcicibcekdecbdjkcfjckbbdfigdeiehhkkgkhgeijdbgcjcdiddhediiidgjcigdjfkfcgddidkecdcijhibehhjdbckcihggehhkkkdjbebedchjgjbkfbiegikfgfigcdejbcidigbkcbgjcbibhejjehfbjcbfcdfkebihcbicehkhgiiegkhcfiejigfeffhjhhfkbcjbjikhgjiigcjbgeghcdkjkjefhbkhfccgfjkjkfgbcdebkkdhekjicgfcjcdgiidddgckbhjgcfidkhgbkhffdegjdkkggjcebhchgbcjjbkgeddhjigjhijjdijgijcbididbeejgjgfkicbgjdbchgbjikjbgbjiiehegcjhcedkejjgccjkchjjfgbfjddddjjibbfgijjghhfkhjcdighjkbhiedifhigihigccbggcgdfcdfdkdiddekcgfhkjfjbbkgdjfbdijjggigfkbggkcciekiechicifgiceibefhffhbebkdjddbifjhhdkkggiggjjiejcbigdfbeieifdkchchgigjcbeihhfibcebcbhekjehjjgheddjdijjhgcbdedfjeibdfjidedbekkfgegjbgbfkhegiidgdccedfjfgheidckeghhejeikdgjkfijjfecbbcckigkejhbceccecikcedggdkgibifdhffgiijbcjfeeegiikehjcehkiigfegheecjbehegihgbibejigkiibdcchdggbcgjbkffjejjbdbjbikhdfeeeffgfkkgijgdikgbjhiiedgkegkdfghifjhjibhegfcefibfjehechfhkjffjihhhkdeiifhbijkijkicjfjbbhiiciehhjhebdbjbccjcchhdcgdfjechcdcdbbdfdbjgdcgefccihhjfjcggdhhkggbdhbkdgjbcbgkididkdkefejkjkfgfbkcbkghiccffkegeicibjcdebdighfhgfdibgjjjfhekdjbfdhibjigefjbdbbcjekbfbfgbghhkggcbgfgkikkcecfkcbkcedhkjikiekbjbdcdffkgikejedjjghcidfkckfjhhfcdhekihfhgedbkgdhdbjhfhdegciejhbgdbibchggeiiibiediegbkkdibfdcjkhedecijfddbfdhichedeiiickdchkjefdkgiiihcceedcjihghdjijhddicbkjjkgdefkicfkgjjhiddejffiijgfedefhddkhiiffehkhihkbgggeiffkkcfjgkfhkdgjkgigjgbgidhbhkechjeeckkfbhjbdbhcbffjhjfehddgicebjfjikhfgekchjgdhieeigbfihhkgegfbgiffffghhibggefebfdekhgeijkcdfcdjkidgjdgibfkkgcjebghjeeggkkheggiddidikighejebbchkdifhccdkgjcdjfdkdgbfeefgcigdiibdkfdbfjedkeedbiiiddggfddifcdhedcfchfjigddibhhbgjfgbjhibfejfbfcjihhfccdkddbbkjfiegcedihegbhhdjecbdcgjdjjbhjcikekbeebbjidddbfgdkdggcccighjcffgbibbkijiidecihjjcgkkhijdheiefbgfejhjkkjhcehjbccfkdggdibfgejeidkbdjiiefiidfiddggeebcfcdgebikebibgejhgijkhgdjikfkehieghibjeijhkdehjbeiikdhjfeghhhijgheecdhgbhbcdfegkhicjkbjhdkbkbejbedbegbeehicekibhjkgeiebejekkdjdkjkiefkkgffhjgiikdfbkehdhkckjicifkdgffkdkfjfhkibgbecjdbjfhkcgihigfkhfhgdkibffbjfjegicebbbfdcgjficbehgiiefjffghihggcjibkdhkikfkcfcfhfefkhdecbjiehccfhbckcdkkhjigcjbdgbdhfcjibbkekhdecegbidfkgihjikjeifhkdjcbfffiedjfidbggecgbcfccdeheiihjhiecikckcffeigkdcjbdkhekkehhkcehghgecdejdgebdegjfghcggehhfidhckifkbehgggikhdddddighhkijkhekkibbegekhdhkhegcdjfbbjceifdfbigfcgieidhjijcibiigffidhhkeihgfdkgcdgbhjjbefjigdjkggfhgebgfjihdheiceefffcddddhgdiihjcghgchdkhdfbidfhjhdigjjkjkhkedjhhbjgbfhkijhjedgjdekjcehfkdfbhhibbdbbkikhfgchebbcdghjfihhdgbdikjeegeiigbbhghikefdihhcbckdbkjihbhdbgfdffffkfgfieeiigcddgcffdbhgidfgddgbfbdgjhcdijfhdheehejfghfkccdikbjjedkgjhcbbjgghjihegbbiijbefkfhjihegdddjccjcekehhdfcdkhjejkcbecjejjdcdjkjgfcedcgfikfehfgibggkffghbdejeddccbbkedibehdfkcebidhcdifgfighfghiheijijikkkedddcihkiifhjfcickkeihdgfgjechkjbiiikdkjghbkgeffkjcgekejcgiheghejehcjckghgieebbifheegcbdiidchhkbhbgjcddbccijhcceiedechkhbjibbggccchjhekgidkjfcgkcddbkckkeejgjjkkdffghhdfffikjedcifbcgigegfdffdikdbkekkkdedidckbhccjeihefkddfjcfggdgebeejbfbeikekghebcdcjfjbiehikkhidbhejejgfgbdkekgghhejiekeijibefcbdhfffhbjkgjfeekfjedecggjbckjggicchddjcbffjkcfjbgcfegigejddhcdijcbgfcbekcffhbgdkcjdfkegecjifckfdfigbbbjjhjkiikghgdccfejgieedfcgifbcdfjefcgjchkcjiddcddcfebjgdhdckjhdbkbdgihchdbbejgibdkghkebehbhjckciibdgkkccgkjhdiefhffdceifekijffikdcdgjjfeikffgidhjhikbgkgiikicibhdbjfhdekbifkghkegcddigfkekggjekddkdceedgdgihkjkhgjcdjkkcbjkbghckcjjijjhffhgffbcighhddbgbkjcidhffdbdcbggbgcfdkffkjdjkkijifgjkiebhbcegkgjfiidbfjkjeedjfddebeibeccdjifhegkfhhbdkfgjfjfcfdebkhjehdkdhcehigfghbdiejdffkifkdkfdccgiihibkgghfhkhiehffgeiffbbejcddjbbebghbicjbkebkfekejgfehdkhcbjdbddjhebkfbbkdjehfbiibejcfggkjcbghjegfbjggcgjhefdcjfkdehjigceghcccegckffckkffhccgkejcdihbhibfefjiiecdjbibghfehkgefjfbjgcbhbhhbhhghkejihegjehddhcikgbdcbggidecggjgjjbjddhddgdchiebjeikjjejbcddfbhgfgjfjiihkjbffefhbeddegifdjidbhcfbieecefjhdckdkjjhjfcdedbdbedhkbijeeckkcccidffhkdediefchibkiiffbdefikchgbgkcffgeekbidgfijificccecbgcijjfchhcfjkeegbjeccjgidikfegbdhgggcheeedcgckihikkhfifhjcffiffkkihidjejgjkbgbbbicgigihgcgceekefifjeigecgkebjhhgkjdhjeibdhgcjjfhcdhejdebciiejjffcdfhbeffekjjbcccefcfkbeekkhdfgfdcfbjddghiejjedckbgcgeijdfhgebficfcgfgkcjjikdcgfgicbeffkjefjbbhggjggbkighegfgbjgiffgfcbfhjiddcijhbgffiigjbeiiibkbkjcdjkhjhbihhddhfjgcfigichfgjeehgfbcdfgkihjckijfiegcihieicijfgfibeikdgbbfkdcehgcdbkihcedfjgjbfhbgjgegcjecicgfbifbiffjhbekjgkchekgdidkefbhhedjdgbdefcifdfjkfgkkhjkbehkihckjjjebgdgbccdcffibbcjkhjfkbhckhjgkggdifgeihbfcekihdcffjegiiidhfcikifbjffghfjhddbddhghjfccebkidbbchbbdebgfifhkjekgkdeekecjkfejkgcdbcfceghcgjhehfhbgeghddcikcficgbigchfjkdbecffbcjdgcegjhkijeekfccibcjhgkckibbhcebjdhhfkjkbcckkjfchdgcdedcdhehjfhccchjcekdegbddhhgejchhhhfddfcdbkggbedfkefjdejjkjeffgechjfkckkebeekggbbgkfcdhfijgcikcgedbidghchhhfkbfbfbhfhdfifecchjkhkdckkdjegcidecfhdbijhgikjhhfgjegkdkficgbkbchdgdfgbjdcbfihkgihchcffcfcihcefedfikhjbbejhbcfgdgbijbhcdcjdcfkhiihgfigkfhgfijbdggcjibjbdheecfdbfcbdcccgjddekfgifihjfikjfeieedkjdiggjgciikckkhcchekbhdifcchfdehcbfgkgkbidcfeifhfefcceijijcckfkjidebfkdkckcfhjjkhfchfkdgkeiceffefhddfkedjkcbhdjckciiiehbfkcbjfiiibfefbdedidkhkjkihgkbhebhkhgeieihcbjfckcbdcbbbdcfgifdebgkhdbkkedcdkhcddihefcjfdcddekjhcfkkcfichhcdicgjhdifebicehjjeehfdcbcgdfghdjggfjdefdfbikfbkggcijbjbbigjbkkhbkbkegfcecfejehkkegdihbchgfcieidfhhkdjgiffhfkikjbjhfdckciicbkhbdfckhbhiffgkcfejgkikgciedkhkggfdiieehkdejijkecibhidddbecbhhijbfhicchkdcdbhgebgdekefebfcjgheggfdcifbkdbcijgbekgbikgbdehkcebcjfedhfkkhedekjjbfkjefkiegkddhgfkbiihfcedgkkkcieffjebckjbfggdbbfebbdhckkhhkgejdbkdcdkkkebjhkdidhkhkifchgiibfhdffkdififhicchddffbjdkkffibkjjgeeiegekdccchfkgjcdikfefgbhgbgdfbckhifjekdfdhdbhfjcdjdbjhgdichedhighgbbjfbdhkbbcbfgjidifdfekbeihkbjfckkhdjceeikcbkeijjbcbfdddefjihikcbiecdfdhdbgdkjkeebkefgejdjhdidbighbchebggdbgckdihkfdgdkkigkfijgiciikciehcdefecbjfigiibkggecgcbfdbidgfdfcbdgfdhkhbjdebffhjbecbdejfeehhdigibghbfdijjikbgdkgefebbikdkiffckccicicechgeebdcdbibkgbhbgjecejkbfjdebikdbjhgddjbiffechdbeckfgcbjegehkbccgdieiedigcchbbdfbccdedfiigegfbkhggekehfijdfjceiidhcjkbgjfhggbkeccjfhfcdcdhifbkjkfhikgbkdekegigfffjibdjgecgcibieffgkegjfbkgkhiekkgbcjjbiebhkkhebgcccihfkhjhieckceifffigbeecebhjgjggidgcgcgedkbjcggddekededkkcjdhbedigcecggeeeehbbjddhjkegcbchbecjccdfeifheheckhgkhbbbcgckebdhbgbdkfhegikjkjkjccjdkigkkkihdbbchejgbfcdikicbjdkfghecdbdcckjfjfgcefeeikhghdhcghbbdgkkbhjkbfeekcgfgjkjkfigjkbbkejbcbbfgheefbgkfjdffbjchckjfjccdjfgjfigejgikfcjidhggkgjkjbbgcjcjidfjggjdefgfcjiikjdkfbbdcehkdgjbkjffhcgkfjbhfkjggfbjgdgifbikkhijihcbbkkcibccibckkhikdgdibbcbcejkdggfgegjdjccddfidjhbichckedhchccehkhjjheghdididbjbgdkidkdjbjedgebhkekbikbefeichiceffdhjekckdjehhhbbdfcfigkiehhdkikichedjgehdghdfkifhdjdfkedjjjciidffejgfkdccdeiegghkcdjikjhkbcehiifkghifgdbfghddjkdgjhhkecdgidhgkggdcbdcjhcefbccicedgbjcgjcfiibffgkheihcefkhdccckeiejdbckggfghkeibhcccbdfihjecfjfehikidjjijdegcbgckejcgeibihbeikefdjbgbjieeibidehgegdkjijjheikkhjghcfdkdebgiheifcgjjidhdkicibkbdehdbbiccdchidkkcfebhhgkibibbgfeibbkedjejjhfehebhdkfjbfccgibcekbfhfbkbbejgehkfjhiickcdgcbfjbbeejdfckfekbbfgbjdkdhcdgeedecjbedkfcdgkggjibigiikkefbcckkeejkigchdgddghhigegibfbfcijbejdgfeggghkggdjdhifgkccbehhihcdkcebjkffbegjkekigjjeghkkbkbecgidchcikgideckbifdeceffcihejiddfkggbebkdgjhijfdgbejkkgdcfcffbigkjeighicideijhhjifefidjiifhfkgeddkffcjifddkfgjekjfihkeddbeebijkghfhbjkkieedjifgfcijhjfkjgjkfeciichhfhfjhhcheccggggeedhiehbfjcbhiccifidikfdedbfjikdckjbdibbkgigegjchkkdfgcgehhfjkfibhchggbkceikkbjcibbkbjcfebecfijhceeddbikjiiikekgefgkeffgfeijgbfcjchfkkgejefdeikdhhecgccgdhegejcfhgjfhjciiheecfkjiihgbkihdeihjkkjfijkeibfgcifhickehehfecbhgkhgejbgfbckkkekhcjfcbfjihdfgicbkigefdhicbccfhbbbehjjchkcbebijgbddceebchcdefhjdfhihbdkehfdeeidgbhbgeeggigchdibbiejbijbhjiiejckeegkjjchjijfgebjbddedbfcggbdhekhcffjeghhhgfkfbfbeebkkdghggcjfebkkhdhgjfbgjjhjcdcbdjcbbcfeiigedfkcjkhcekbejijfieccehkgekkbifhkbgggdbedckejjjdbccfdifdhigifigdhkffehhefcibjehehcdghekighkdgkgkfbeeijeghedeehebjbkijkkjkjhcfdbffbkijfgcjccedbefcbhijhdcggjkhhjigjgcebiefjcchghhdhejkkbhiicigjebdbdicgggjegjgheddgkfcbiieeickigcjebihebkgbchieeggfghbkbeigkbbffkgebjehdbjfbbbijfhbffdkkdkcjkihdkhjjikfedkchffbegdkiifhfhkfdgbidfefkcfjcfiicdccgijdfehifcceecbcjgibechgdgecddehifdjhhhgdhfibjfkbjichehkdgekhdeefehkhffjeibkiggghekcdkekjfckfhjchkgffhkgcedikdkkcgdbfhffkikckfgkhikijgfigcgbjcchkfkbebbgickibkjjgbkjgcfbcjdcfighckefjcdcfddbdkcfkiegfjkjbkjhfebdhkbigfjgfekbgjbiffjfggkbjcdebkjfbfhhikgfcbhiihkjjbddfckecfijjhgjkhjdfgjhghccbcfffejkchkbiijjeffjdgiggbgjigedcfdehdfiigiejfecfijejgigidddfffdibjdcihdieciifgcgggeeikhkjckfghkfikhdejgidfjiehcgihhjcgcdbhbcihghkiebkegiciccijjffhjhfddefhhgbdijfdjhbdfcgeidebibkcckciggkkfcebhdiejcbbgfiijedhdehghkbckikjihiegfcfejdgfckbbigjdghjgjbhkcjghegekeigefighgfigjjdieehgcbkcfgkbjdfbcbdcchifgjeficfbkkbkekgdkhggbhecbdjkibdbhcbhkcdgdiebcjigdcdggckjgchffhifjkgdkjbecddgiddijebibbcdicgidhfckjghfhjbfhdebefijkkbdkbdifddgdedhjdgjdibikidffbkifieiechfifebkjhkjkeihddhcdfkbddfhkchfddefiiiiffgfikgbfhccgiehebgkeddejcefhdbeikgjecgjfjcggecddhhggkkjgkhiddcdejfbekccggbdehcgfegdjhhdffjdgcdgbjkgefjhdibcijeiebhehcgjfbidddffgffjdkeiegdifiigghbigkfdchhdhkebhkdgkggjgigddjgdkdfbfhbebkbddhcdgbecgfghiicjgkeggcgjcfghdiebgbbjhcihedhidjeffjkkbjcbbigkhghkihfjkgfcbhfjegkcdjjfciecdifgghcgcikkkkgdkihdbbbejebjkejdbcffgcfhfbijcikcddkcigdfekebehgigkkjehjkfdccgjjebfkdkdbiedkcggdeefiddhbjbkjijficgjbfeiieiigbggcigidcjbcdjejjjkdjihgkchiifefbbkdeedeehhccecffdiigkjjgbhfcehdbdfeehfjcbdcfkkfkhdghdhkbcdfbhcbihbfgbgkgchbhkfheefjfkhgjdfjifidjhghdffkhkbhdjhfiiegdebikcgiicjhhecbcdidkikjhehbhhidefkjbigjkigecdkgfjeiiechhbkdkiihkdebdjjcidgkdbikkghkbicfbfkikkdfikijffdedjcgccjiifcckcjechcfecggekcdjhcfbddckkbfebgcdgedckhbgfkdhgkfidjfdjcgiegefigfdffhcjccdgckjhdffijgekhdbgdbgeckdgfidcbiigcfkgjddhhjckfckjdgiebifhiejgehjkfdjjdbhegifhekebhdhiedbddhebbhjgcdfkkibehdifhfgcejdjcdeikcbbdcgckegedidgfhbjhfbhegbhififhcjcgefbbcfijhgfjgigdghjjckhgcjbebkhghgdedchhicjggbfdcbedbficegiijdfhicbjefikfehhjkdgkjbfkdgecjifjceihcjhiibefechiefiejhidhcicecgbecdifcdekgicfeffbkchdbejdkhhheeekggiigehfkibkjjkkjjbkhgfekfjebijcdkhfdhcdbekhbkcgbhgidejjhfehjjjechdjcbcicjcgdhhdfikcbffejeciegdhjdfgbihhhfgjidfgkbkddbfikifcfcjeihhifdcdbhgkfchhdjehffihdddffbcjgcbjedkikjchididieihgchfcdkbjeggkdfdbkdkjkibkbhfddfhieijehkhcgbgbkkhcfjgddjbhbjfddgkjbehhccbejehcicbdggeefibdgbdijfjfjcfeccihkfbibhhkbdfgjcjggckhgikkehkgbdbjkbgkhgejggebeghhhfeedchcggjdijcidiffebgcffefekddghdffjehebghihkjihfhkjfcekeiccikceehfbjiedgkicideibkiddfdkeheikgbddhfgbcbjkijbjggdifhbfjjjgdhicbdjfedcgeeeikidjeccibifhkhkgkeifhidkjkkhjfkbjiekhkjefhcehhgjkcchbhedfbfgjedbdiekbdbcikdcdhigihcjebdiibdffcjjceckfijfbciiidjekifcbejifdjkcckjkghkfjffejkgckhhbfbbjiihjbdijkbhhkbifdkegbkkggkghfgkdfcfdcbfeechhdfgigiekfcfdbggcjgjfkfdfcefhjhhbjcbdbgecbgfejbjgjebdcddfiggjfiehfddjkdjbiegjefebifjeccdfigehhfgbfchbgkhfjcgbjgjkbijkiicjdjkdgheebcbekfdjbhckhhfcdbikjifjebjdjgeihfbdjihkbjhciedeideekeeihfhibeckkgciffgjgbgcegkkgchjijhgbjikidcejgcfebbckbegdkihcbgjkfdjcjbkhefiiekjgkhjehjchiegjifgedjfjikjbdkcehfgbbfjhihgjcbgbhfhbkjgiidbeekhfddbbhbbegjgfdehhchhjjcedejkcjekhheidkjdfffjfehdejdfidkhdgcgdbghekibbcibibjkidbjbkdfgbhdiecefggchbiidgcfjjcbkhcfefjjfigkbbfgkfehjfcfjgfkgccjhkjhgiekbkkbcckehjdkideigfeifgjiehcfjjdgkfgfkigcgejeecfkdbhgdekgkdgjejbfeejiedjdifkdcbikgbeebkckdgbkdgjhfebggeiigjbdgfieebkichdkkficgbgkebcijchgkdchfijjchbfkfjibjegcdbkijhibdkgjieggghdkchgggddhhbdhkbkecfjhfffebhiikdfeheebecdhgkhikkcdfbkkkbikckhdggidgjifhkkhkgijckgdeckcdfdhkbkhikkjjbeihfddbchhihehihfcjkgkehbieeeeijdkcekdfehjhdiddfeidigbdekibdbdikdhgggidbibdfeidcdkggkfcccbhekjeeeecijidbfbbgecfkbjidhdeiekjfhcifdhkcejkckdcejcfibihgeccfhebfdgdgcfeegfjhbdjfhjigbkghhefbgbjekkdhdjeedkgijbhjcjccbkfcfhijfcbbhjdkffekcefbcjdeibfkffffgjgdhdgfgifekbiikfbkediefhechbgiijfcgekjbifgcbcifgfejbdbekffdkbkgfjdcckgdeebebcckeghgceibbcjgifcijcghikbcebdifgfbifcgcdkbkcgkehfdgheddgkdgdhcddcdicdighijjdeejfbkffjfjjdkhbbhdjdgjchegjkcgcejjkiijijbfgiddiiikdejhedggbjdjdcfihbffgchcchjbcijhjecchjfjhhgbejhbhiehikbkdddekfikkhkkgkidbdcfbckgiegjbhdcfkhifcggjiddcbhdckcbgjgjbccbfcfjeddbgfeghkbekbegfgkfidheidjkbijbdcbeiiceeciecgekefjchbficidgdkiikdigdckjheeikcbjjfhdgefedbgchbkhidffjhjchbjjiddcdikjecjedgbedecjkhifehghcijgjfcfedhckkkiebghdibbhjbdihdifhjbgdjhedebkijbhhcbgceefekbegficbfkgkkedifgjdejgfjebkchijifkgijkfcfbddcedfdgfdkfehkjdcgiiifebebhgddjkcfibchibghfdeeejjijedeccdcejkehbkeejiecffbkejdkjhcefjiffbiffhidgdifhebkhfegedkehgfdkjjhchbidffkebdkcjgihhbibhchjjhegfgfkifcjjffbjbhekfcffcekkhbgdijffkjjkcdkcejfihifbbeefjhffkbcekhfeiiibbbhcdidkkfbfhhfkhjcehgddkhgcgccfhehdjeejcbefdjbijifhfbcbbiecibfhdgjehkcehdkccdicihgedegbffcghhfhjdbbefbhfbbbdigcicfjkeffehkcbfjjbgkgcgghgiefbhkhhbcbekjbfhjghidjhkiciekbejkfihcfegjhjcfffibfieiebkhejfjbggcddhfihhdjcijiiijcfdjhcbceffffgkkcjekhdjbbdhbbdbffjdifhbfefffckfcgjdgkfhdcecbffbegjbjjhkkcbgecddehdeiijcdhjededghiifdjkbkfbddegbhddhjkhhcfhfdkdiiifijcjgdfebicedkdbfegcdkikbkedddidffkicejfhkdkfbjggiigckdjkcfkebdcchcgcgebcjefbbejkjjjjfhfgjfibjdijdbkciceegffjdehfeecigbihjhebcbkhgbijdkegikbjhhhjfeceidhfgicfcbeggdichfbdhdefgikfcijiebifidhbeddedfgffgikghcfifdcjebkdcdheejhckfcbefkcddccjhgcfegidgidgjkgihfghfcfdjgjfeceejcggdbddbbjggcfddjdhkijihgckcbbgffefhcgdgjkfhjeeghfjfdhcchebkjbhfkjbcedjiigeifgefcgbbicfbebebbjfccjfhhhjkihfghhbjijcgddikdeiehkcjdjkdcedecedhfdhehdchgkbdjcfkeebikkijcjfecdkdbjigjccgckjhkfgbhjeijhidbkgdffihfkkifekjkecbiibkkhkejidfdbbbbicikfjfhdfchiefbkjieibikckdekedchjcbhjkjcbiihfgkcdkkgdhgbbjkjhfgebbgigighdcfciggihfebkbggdfeehijfceeciiicfbfjbjgdegbiidfhdichieichjjfedicdhikijekejjfbdfdfkccckdckgdehkbkgbhcdjjkbcidbghkbfidbhbikjeidhcgdcjfgdhehikcdkicbeifejigjijhicefihjbidhfjbkhbjdegfkficikfgkgihdkbgcjcjhihdifjfjgbhfejjekggehjiifeckkgeggickebghegbegfkfijfijhgkhicejdbkbbbedbbhhfedfehcjbekkjjiifejcjgjcbiffjkdbdcjekckbchddccgdiejebigikcgcjibgkcifdcejbghdfikdijkkihejejgbdcigfchekgckdfbicjjkgckhbbkgbbckebjebfecgjkjkdgchdggdcdcdfhbefcchekkfkgeiebfbebicdfkbidcbhdhieibekbfggghbcgdggcdbhdhdfcichceiieheeedegibdcgkjddejggjbekcigkgicebfkkggieicfjcjkhjgeegjgdighhibbckchkhidkkieefcdcchchgcjekfcfijfgceegjfhkbbhjecfjdbdkhcibhghdgfekhdhjbhbfhjfjigffdigjcecfideeikjcckjghcejgiebebjgkjddfcbhhhiefhdckcdkfikfhbefkdkhfdehigbjgicfhgggdckffbcfgjbjdegdcgjbbbkdkgbhhcdegeffhiegghfifjcdhjkggfdgggebjbgfhgifgieidkicbjdgdjfjccccheechhkfjjjbkfkfeccddecjjjdgijfbdfbkigfddbhjdkfhbkcjdidecchkeckecjkhdejchibgekeggjjfibgfhefkbfddbejggdfdgkgifffkhkcbfhkgfdkhiekghkkgigiegcikhdgjdjebdddijgdeggcdjcjkkieeejhbbhiibdjgddhggdcfcfeckkgjfccfjcchiedhjhfhckggfbddjgbekdhcgidcjghecbhgggfgdfkehkeeifdjghgeffhfgfgdicciiggehjjjiifieggdbigkifbcgdhkgfkdjckhjheebejjhjkgifhkfbeccjkjjjckhiibkjiikbcccbdbkdhkdhdidihdijdeckbgkkghhhdhhjdgidefbbiihbkhkdjicjjfidcghhcgeigeighcfhkbhfcfgegkecheeeeikffkddgjghkgehkdjcjidiefggebgkgkjfdgjkdejcjgkebjcidgghdeebegjeibjfgfgeekfcjbkjhfdkdddcfegjfgffbehjjcbebgfjbhhfcgbffieeegicifhkjfhkckbkbfcfidgkghchdcfkifcgdkkebebbijgjdfgebddejjkiidfecbehhjjkifjidefiiifbgcijdhchejfkeedigffkbfdikcejjgdekehjdggjjhgdgekjkfiecfbbdbcfbgeiehcbdheiigfgeefjgifhgjfhhfecdjgcidbikbijcecdibhbdigjjiehbekcbcjfgiidcjhgkdfegdeckjjgkcfdcbffgcghkekfjkcibfigchfeffjedfddidhfdfikigjjihdbgfhcdejgckjiegifejibkkdhedjdjddkebdegdhbkcihjebdghikgfiejhkikfchfhiiieiiidfccbbdccibbkegeckfgfdbhficbbehhckgbcijghfjckbgidbeifdhkdibecgchddkkbhhceihgfjcjfcegiedgcgdihheehjkbbgigjfigfkighcgechcbhiikidgjfhchdggkgjicdcghigfcgffcehbighcgcicfjfdbgfhgekbfkihkhhddekcjbkcbhcfcdeikdfeddfkicefgckkcejebjgfbjfgehgcddkebdebfddfdijhifhdkhehkdkjbdkckceeecegkkfdggjekbihdhjjccfhecfdcgeikgbceibdhigibdefihdddckhbjdifbifhbiccbkjehjkhcccebjhjdiggifcdhicgdjfjbekhcbkdkdfbcggkjhbgibijbkichgbbhchfffjkghjejbekfbkdhhkdgeckjkcfcbcfikgcdjiefhfkbcdfefgeghccedfjgibfjgeeeiigebkhhccgbbgeekbhkggkeeigfbgkgbfcckfccfhiggeihfdjjkjcedecgfbiekcfgfkhcbjechbchffeihgefjfjcejkdfbkjghcfeefkdjcgbgcihjgcedgefcdgeifikgdhhegbcidbbgkceecieggjdgkkggdbeidiechejgfcdjcejgjkkcfjcikbhfhcjbjebgckchfhjkkgkjfgehifdcejeeebjjcgdkjkigjehfkdgijgkjkgdedgghbigebjgkbjebjgdijiehhkbcgdjjicckgihchjkcidegegjefifdikbkkeeiecgkhihhgjdfbdggcihffgbdkikfjbkjdhgigieegkickceffchekhidbcjgjkkcjjcffejhdfdggejhhgdhefgkidifjfkghkhdfdkggddhhjhjhicgdidcbfjibhhiedejefbddhjejdfhgbjcbkhjbfjdfgkgeefbgfjcbdbdcdgdecbkeehbijefjcbdkkicjkjfebigfdijfkeehdicjhhicjkciifbjgggdgkkdkigjkkegkdckikcgcidechjkicibbghhjkkbiffkgbkfddhhdkdcjkdffhkkfejbekcdbffdejejgjdbedbgiidddbcfbddidijdicjjcgfkijbikcejcdeheiifkdcbdicgfbfffjiebihcfbckifjcgfccgbebcbccgjjehfkihfbieejcfcicegbbdhdbehfbfikhhjkidgcifibkfhebcbfdbececigcjdfdhbghkkfbjihfhhhjbkghdgekbdbcjekdcfecfkgcgdhjdeceghhdgfehbefhfikbhjhfddckkikgchhfjkjbkhhjigjbfbjbkgkeigbbgehihjidkkhcjkkhcijgdkbfhffhkihjgfeeejbfijihjkedgbbffchdekhjgiecdccgkgikedejfihcbbjjfcjhjbihghfkjkjddbjbgffdjcdgbfdhhkkhegjhkkdjhejcbjidhgdfbeheifhhjkbbihgiibgjigfbbfbbbgedgcibbhgbiihgekgjeicjijhckkkficjheikjghcbighkkgebkecchgfjbiibdcbcdkbgdbbidbgjbfdgideihekkihkhdkjjjbhchefchcjgfbkheejjidieggecjfbggkchcijjiddkeebdfidhhgfkjdkebifhbcifbehcfdgfjgbkkechejcbfggikdekcfekkdjekdefhgjcjeeccdehkiekkejbegddebjkdidchfhbkfikjibheicjjfebkjhddjijhkdbdbiijedkckeicidccfbfbdghcdfekibdbjfgkbbhfkighehhgfhfbjdbccckhfhchgjikedkgdgiebhdjkijgcedjcijihigefhehdbgjgjiejefkekfdhcddjihhdgeddibkdhjccjgefckcjjbbhkcffjkbceebcjkechjjdcgdicbkiefcddkdjibffgbjjdkbgcjhkdbfbbgbidkciddibhefbcidghcgjgjeghgdckgkkkkjjfbbgikbjcfcfjggceihkdebjkhkjdicbccjeiicjcckhegjidhdfcigjdjbijekfbkkgjhkcccffbhchedeibfijhijkeejgekkjgfikjgddegjijghkghhicdkegifeijiiihffckijddiejhfkdehggfjfbbgbfefchihhkejdjekbfkgfjhjgbicedhdchdjijekchkdcghhchgkcgfdhhhddekbkdbgjcgidddikgidbcjgkigccidcicchbccieceikkideccbdhcifjjcbcbckkddifjckbekefibidgbhgidfckcbkefjcjcfkhgeibdigdcijdjdgcfgjebjbceihkibhbgefgfeifbbjkehgddbjhdkcidiefggddfeheedeeedhhfjjcjkdkbffkedcdhidfhkgffjdebbibekiiichhbbgjjifificfhkjeckfcbbibfddgeebighbhfcgficdkjjjkhffkekkdbkkkgekhhkfgdijegfcibfcdjgkggicfibkeidbkhekdifciikhjhgbjjgkckhkfdgbdcfhcgdhdcfgifgcfgiejdbgfhfbdbgjkgddjdeigieiggfdhdekejiebcdjhfdfdffdgggekjhjjigcbjjkbkcijiejjhebfbcgjjjkdjhfbhifdbiebegjfkdchfkhdbhkbekjihidbeffkdhcejdccbbfjecigdhfbhigbgechjbdkbehbhhccbihjebhhgidgfcibebfibfkbiciebdgbfeddgjbjfhfikjcjfhfdbbfcfigegicggehkjjkkcieghebfcfdfibhfhgcbedchbicbfkhhedgfhkbfjkedcgfjjcbbkeeifbefecfgbbebfchidhcghfijccfjkkccjggjbfjffbeedgfhhbiefhcdcjcdifghkffkedkhkjcehifbfcdkbjjhdgjifiecgbcfkhjjfigbekfbidejgkfecgkkfjigegfgeggdgejefkbbggbjcbhgijgceiedijbdejcejidgdedbcjbhbibddeecbkghceikcfikkkkedkfcdhbbkdcidbidckehbikigcgjkebjceieckefbihchgebgdefgbfedcibkecgdggeigfgkidkhbkfbbjfhdigeibfdhfcidhghgfejgcdbffceicebjcbbbbbebgkfhiiifcifhkhdigccfbbdgdkjkjggjkjkhbckfjjjdjgkdejcgjedibhccjkbihddgkjeceijihbfjheiiebdgjchcjehckibhbekdfeijkfebcgeficedgebffkbgkdkejekeikfhjdcfekfkcefjcdjifeffbcghiijdfjicfegbicifkjekgkickckhkdfjfkjdjijibbgickgkbfjjhkieeihgjhjjcbhjibhejbgjjjfifikbikigcggifcbjiijfdkgdjjeccicediidhhdcgechdfchikdgedcbebbkbfhbihdikkckhjbjdifeifibjhhdghheeckedkkegchifkdghiccfckghijbfhgfgbkicjhdbckfebjcffgefbgbdebbggfkfgjkikhidddbdffbchkkkiedkdghdkcibjecjkfcbcbgheekcbieikbebggbjhkccfbjchjjccgjfkgfhbjicdificeiddicfieedcgbebjkbggkdhddgckkcikccgbbkkgdcbjcjbfbkjcfecigefciifdcifkbkhkdccijeccdgdeeeiijcbdjbkdhkkdbbggbbciccghkgjjbifdibhckikebchjfebgfkjcgbfjegkehdffcckibfdcjbeiffebefikghkffccggfgghekjdefeebbkbkcdgjideiidichhikfdddejeeidhcbchcgidjifkjkhbfijfegjcghdjjijbebihhickkckdkfkddggcfihcgegkhekbegbdhbgggjfckeifgbfhjikdgecikbkgjkdfiddciifjedeckjedghjhkebjhgdchegjcgedgdhbbddikejdjchihecekbhfbbgcgkjhejjfkjegedkdckjiekjhdjhidhhijkbckhbkhdcebbgciibfhchfdbbhegbedcecgijfiihhegkbdggfgbbkgejgfggjeeckifjkbcfcfbgkhgkhhefccfjkgciebjfbfhdhcfhfcicdhjgkfccicgbdciekfciigdhhdfjciheidcjehfdbbikifjbikkifhijjgihejfhfjehcbjkigecfbdcfcccbdehdbkbficehhbifdhgkkjcgbcbibigkcdgfbbkfdijckhhjdkcecfgjkddicbddkccbbkfdkkfkdkijbebcceehcjcgegehkbcdhhbeebgecddchkeebichjhjcciickkdihjbicjkfkgiigejciijcefdfcgdhfbgckddejdkhkffbfijjcjdegghbjfggcfkgbikiebibkfibjcdikjggddhficjkgjgjggfgfffkcdidfebckkhjfihbdfgkekchjdgickbdjefkjgcjfiefggehbeijkdfjbhbifeikcggbhefffgegihdihcgbkbbigebjgffeccjccfjdfbcjjhgibddceefikkbjgdegbkfbkfbjcbgeggjhebgfeddbfbchkkibgbijgfjbceebchdfifjhihcbhfbiibdjdfjjgjhejkhbehgcckekekkckbbeibekeefcifghcejibjegficedkfijfjdibhiijfibdbdggcdfgckjcidigcbicjbfhdgfccehkfcdkiickiihkgjckfdjcfhkkggihjhciibhckeihikfgcgfkfickjgdhijdgbcfdkgcciijdeeecbjfcbjghiedhgkhiifdebcggjfbhjibigccjighhjecikjgigjkbgchbehhkbhckidchbfkegcgkcgkckbhegkcjcdgekehdecjkkgedjjdijjfhcfibifgdbhgibibgccfefejhcjfjfdjcefijijibcghkbhikiiedcjikjbiiceegigbbcekjgbibhehddfhjfbgjdifkdgkheefjdgcfjbeidccjdejfgicejghibgkkbdbhgejbicbkbdhffhbgigbjibfgdcihdkehbidjcihkhbieggehgfdibbkhidhigecfdfbbdikiicdjgjehggijfgbjjjdchgfcggegkkiegibkgejefbbdbcigghidkbgicjiffbifhjdijcijkfbdbkfcebdjjhckkgbieihjckcdgejbfgfchbhfciijeebebdbedejdkifjebghgbidhkfjbghekekiibckbgbdjciejigcckcjbddckddggddiddjbghifcgkdcghdigfffedhcejijkhccicbfhjfjkgibeekeegdjccfcdhkhjikbhfefkcfgffdckhhchhidcjkheihfbfgbdkbcifekekegedcekcdcejidkfgbekhbcfghcbbhjjcbkccgdchddjeeeffjjicfdhceeicfehcbkgkjkhdgikcfcihfjkcjbgciihjchbehcdfebhhjhjfcibbcigdkbhkicdkecbjjjfefgehcckhfjfdebfeeehbcekdhfdgccfgckkihggkfbbigfidikkjjdbkbecgfcidicbdcggdhkdbgjbgdgefigdkbbckdhihdbkgcgdcdidhjfddbfikbejiechhbgcfhhdbcjbhffkgifjkkjdgihbfigbdicefkhhecibjfgkhcgeekfibcjigihffgbgbfcibfjifghehckhgcdghijjgeieigghiedhcjkhkjeecjdegjbdkhjfcdfhifkgcgiifhidefchcfgichdffcjikcibgjfbcecfbhbcijcjiekjbeeccdgkgbkbeeefbeciehehkbhibifgifcbfhggggchhdhjkgkbcchidediijdehjfgfbhdiebiedgkjchcbdgjjkidgdiekbfhccffigcifefecdgbfhjehfefbdjkdgjgdjdbjbkbiibiihbgfcfkeejddhhgdcbfihcffjbedeehggfhkcbcjkdifcbdkegjggbdcddjeigkebhdkfiideifgkfgibfdikchjkccdfjkihkbdkdjgidjhgjgdjficjdfdfidkddikceibibcfhdkgccgfhgjckdfbdfdjcibfddgcjebhfgjhgekdhcbdjbifcbkeibjbddjdihjekhfdcjkbcedhbkjjfbhjidkikccdfffkfehcbhbhhfbghkjgbbfiggiifjiidbbkhgeegggdhfhjffhceejbkcbfjkkehidjiijcgfbcbjjidehigejhbbjiifdifffffgjfdbbciebchkfhcdebejijbiecekbfgkddhidjjhchkfbgghedcjijebijhgeggjbfibeejcceeijjhhcbbjjfcccckiejdfckjgdgehkfejckghghbbbikdfjiihdidjffdhcekhkddbehdjibgbfcbjdjeddbjgdccdbfbhcdjefchhbgfcjbiigekefbfjkjiikecdcghehdhedegeffiegffccfjedibekbdecbehdikhijefhbfbhdghgdfjbcbihehgkhdgbfkehcfcgkddfieibkjjikgecefidkkiejjbhbgckifhjkjbbgkkkdbjdbkjjdkjihbfjgjiggjdebkedcebkcjebhdfbekgdfhgbeegbeekdbdghfbfjddifjbfchkggfbdkhdffccegihdckjggbkjhkbdfgcicjjdiebcbibhhbekcfcibcebkdbijijjicgdickjkegfjcigbbgfbifcjgikchfigkicjgkdfhihfkbcdfgkbbbkejjdggkcjgifhjjjejdgjcejchdhhbhfkejdhjciiiikgbbcfgfchkcbbjgdedbbdkdicjjcjkfccebbjdfijfdfiegkdfhgkdgkkcebdigfdkekjihjdhfbebfccfejhjfgbheebkedfekcgbjcbggicickbfckbdcghdkjdgckcckkkkgfihbkdehbfgcjggjikjfcihbfdckkkhejbhgkddjhifdcfhceggihhkjbhfkiikgkdkikjehjkkifghbddieeijgggbghhchgehhfhgfgfefbjfjgbikigkkgbeggeicecjibicejibkdjfgigbheichfbggebcjhkgidjfkcfgdijkfhbhcbhdejddfdifkecdiikejjcjjcickikefccbcikeccbkffdbghfkhfeceeeceddgjgjibhkjieiggdbhhbcdgbekhbhebegkhgeighikcjikgcjegcghfbcibdgbkifickkicicgdkcbhffbdfdgigdgigccbkhfgkekihiddbkdcfgccechhhjegbjgkidhedfcihikbehdedhdbckggfhkefkfkjdhbcfdhhegekbifcefgccfdidjcggifbceehbfkbjdehkhdkbcdbbkbdeckkkbcckhhecbgdkkfdjffkjiigeffghhbhkfkifdbibegjjbehckkgjbbjhbdfkgfffbfjbkcgcjfhcbchibjdbhchiffehjekibjcgbedckdkkgkkgbhkckbffhdffkjiicjeggbfhiefbkhgfiiibekfidfikhgekhfbbdehkkkfiebijgddjkfgcidbbdchcdidkihihkeihfifehhbhcckedeebjbdeijgkhdijekdhkkgkbcckdkeefehhdhejijfigfddhjeiggjfigdceehjidckhfheckgkcibkhfiibgeikkehieefebikekccdifigdjekkhhkdekffijjdgghhbeccjfjhecfiefidbibicfdjkfbdgffihbikjddgbbbdddfjhiffcbhebgkbidgidbhhdcdbbhebjkebjfgfciddkgigcjhihfbehcjghjhifhghidedfkgeidfceeigdgigbfdfhdfekhkkefdcdffebjjehejefechkkheehddjbejfhbdcfbhkdjcjijgccbkijhfbicfkbefgcfjhegjhcgkbihfjgdecbjejkgdbciiggjjhcfefghgfiekkkhghbiefhiidcgefbfjhhijddkicjcfbbkhfgkchghgfhfigcibehhdkcfdgfdffjefjdhhfkjkhiijbfjhcedihfkjfgfgeecggfjkkghckjihighgjcdigkkgedhdfekgbkhdcchfgfdefcbkjbcigdkghibgehdekfigeihbhfhcjiekhhichhfecejkjfggdefffbbcjdfjbecbfhheckeechgdjjgbciibhffhgfidgkdgdibkdjefkegejijhikehbgdfiikdibeekcicjjggdjkhhcdcbfegggdijcfegjfgiihhkibfkjgddggfhjejfkfckjcfhebffddbcffhhchcjbhchjdgkfkhgeefbjfebegjkegigeebgkecdheijeikgbdcbcjkjddkjcchfgchfhedifbcgfdchcibgiebeebdidfffhebgegckedffbcfjkbfikkehebkebbfdcdbdhdbeeifkdijcjbihcchdfgjkcjdkikcdeiccceggjijkfgkicbhdfeghedfighkghchgdidghgjfbdebbbbhjcgdhbdbdiijhjeeiifbgighigiddcfcbjgcjjcfdfecebfkfcjfjiighfeghhdeiedkgcjkieedbdkccgifjggfihijedjhkbfhhhiehifibckcijhdfijhffjdbfeddjcifhceekfcghkbckkdjkjeifbbddchdheiiijdcgbekiiekgfedcfdgdkkegdikfegkgffiibiijifkfhcfkihebeihgifibjijfchkkbicdibiicbhgfhhjckhjdkigciebbdehfhheeekjhihhibedfejedkecjgigjbekhdkhbhgchcgfcgjjejhbkkkckbgghfceekkgcjddcdegfkgddjchgbkjfkicihfgibediigbgcckhjbcebhdhfebkhekhjjibkefebehehegcihkebjikcgcbibibikfibibbdjddgdciddggkjeeggjhdfebdjfgigkjkdhfidgkjkbegicgckfdgecbgdfeighedjhchcedcbjkffgfjcigchkfgifdikkjihkjfhhebgcdbifijbccehgfheiigbfghiciebfdgjdffhjhcfhchgkjegfgjdfigfegdcckdikddbjfjdcdbijedbbbedkgejkibhhikdgckcgbdebhfkdjffdchgegkghiikbdjidkghgbkhbfkcffiddjihjjdbcdjkebbiijebieeehfjbjbbfehckgjdjgggjfgjhggjgkkkfjbcgjcejdcjdbebkekjfhhcjeifghcichhcbbfkihfhcchffikbggeckighhedkhdbkejfkhdghgdfdgcicfhhhfkjeefhdgbjdkfbiceckbifgbfedgecbjgjikcekjbebhbkdkjejihedeheikjghfhdbhibhfcjkjfgkicibkicjcedbfgkefbbjhhhjddjhdfgbejkbdjeccigkbeekgjbidegjfgdbbciegffgjcdkjcieefddhfjccjfeedhjdegjiikekhgfejfbfbjjhfcgbbbgeeddjebiddbeejeficffegdifbidkhigbfbfdefecbghiibgjjcgchkicfbjfgcfdhcjffckdfiejbhkefidicdgjfgfiedhjfjieifdfdidhidebkkkhjhedekigdfjekfceekkbbcddgcbkjhcjgjcjbggiggffkkkgkbffgedjhdkedcjcjhdjbfhjijjjgkjdjejjgdcdjdhkdiedfghddkceikbfdibcggdikdchgjhbkhggeehbbegebjdcdedkjgcdhiichfkgdfjhkhcebhedfgibdcegfegckchfhibeekjgihgbihfjchedjdbhicidfdeehkkekgikhbhkjbfifehedcbjgjdeebdfjjdjifhbifgcjjhdhgheegebdcdkhfhejbgifjhechdcbkchgffhcfkbjccchgkicdejdijbgddejkegjbgcbihjbcbddbicjkbbijjejccjgfdifbfjhdiiecjdcehdfbdhidejckdbbgkjbbhkjghchdcejggfcjbedcfgkibfhdibcjdbgbkekfjfdbhbgijckjggkbkfgdghbgiidjcckhkckdjbihdgegkfkjdbgbbghgbeikfgjgbdikidgckbhjkdidfhjggedckcdfikffecckcbejfkchkghhdkciggcbhefdjfbhebjfcicgjgdeijfhkdcbgcdcfjjfdjghfjfgbjcighcjekcfegjeijiedieifechijkkbfgkefcgdcekghffjkkcjjeejcijbkdehikfieegghhkhkiddibkejgjdhjhbhiefbcfbjbfckjfgbkfdkegkghbifjichgjfdekdgchcddchhjjfbkecebhibbjiehibiijjjfbkieibgjjheiideihgkhkjiehifcecfjbegbcedihhgigkfedgfkhbhcjighiccbgkdcdeebiejgfckeehgjccedhefiiggdkbcfeejieejkccdikkhgcdkcgbjjkedgfbcgdkgkcehbfhdbcdfbdhhjjgdcicgddfcigdidegicdkfjjbbfbekhfghhdgefkjedkbdbekfjdecbikgbjfjjfccdhciijfgfbfihkffhggffcdfcgkgdddckddifjdkckdccjghhcffkbhbjighbjcfgdjfghibjbhijbdebdkehhhghiifjbbbebdfiejjgggfgdjhcdggggcefffbdibgeceigkgddgihkfbkjbiihecgfcekjjgffhijheghhkjdhcbkgbfdccehhficjcfkbfcdbdfifcfhfehkfhkihhfjbbdkieeiibhccjhjdhgfcdkkdhijdbecjgccfdfgcgbgcikjhecebkdhkcffheifdbcfbcjddffddbgjhhjggfhbggcdgggibbiekidgkghcbgjcdkfhdhfgdfhdfegdiikidkgkcefidhiifckfckekgdfidhckgiffhbkikekgkkhecffgkfhhhkkejfbdfidfihcjfekckcffbhbdjhjgfighjicfdkkgbjgjhiccggigbfiekjdfehjfkijiebkfcihibkgcfbigfbckfcgbbegccicegcfehkiecjdhfgeghekecbfhcbddijgigdhddefhbjegdkfegkbjbighbbegicjbddbhbbchgkcgibbbehcibcchcjjjjhifebhgkhijgbiefiekbjkbikdjchccckkccfebijhdjigecjegbkdfgdbejkeckggcfhibheeghgbehfeifjjgefkggjjjdkkbcchfjjbgcjhdebdjgdfcijcfhjccjhddehgcjjkeecebdeiidcchjedjfdffcbdbihhidghjbkhdiejicjefgkhdfjegddbhdebekibkchcjjfcdfbhhjifeedeihchdicieiehgekecjdfjggggdkjggfddiihejkiebbffdbjkgfccehhhbfdjbefechjgdjehfcgccgeeehijdhggdbigkiccfiebdjbcdbjbegjeibjfchikihjhbgihjejhdhijhejdddhjkbkejebfbjkbhgjhhjgdgkhdkhbjhbckbejeecgkbkgbeihdfjcdchhbecekdfkhfdedjfckiedckigifdgejgbidddjidbighejidkichifbkdbefigfbhebcbkcicgchkiggggddeecfdhgekikcdhjicdeeifghgjikijkjfigfbebccigdehdgigkefebgijejkebjheebdkjigkidckifhikjciijhffhbjbebgckcejjgdbedbbjbbfjffihccgbgkedkbikihdkbiehbifhejffibhdbeckdfdbcbdggfkdhhjjeeiehfikkcejfkedifbkhddgjdkikhcchigkgccckfbegjiidbbkdicbejehchejdecgffkdcddidgkbgibcbbccbfceiddfbgeddffdifhejgdfjdhcdeegfjccdiiiefddibihgcdgibjehbekcjeifkdkihhfcbkdfkcdjeigieckicjdibdcdgkcjfbejiiecgjkihchcggdgfiiiekdfkgfkkdbciihddigdfjfgikjcjcdciidfjcdcccigjjjcecdhjhbiikbddihfidgejkhbggjgfefkjbicjbkdhbghkgkhgfhdeehfjdhjhjcjcfebkkgjhibdgjiddcjehffekdkiebegjcefghekhffjikchbficjfkihcjfgicehcicgikecbgfchjkbdhccgbghjkcifebgeikjefekegfcjkkfdjibfdghededkgchkkdkhijiddkbbifkjfeefjfedkjkebeikhhgfjddhdkfbgiifjdidehdbghdjgegeeekhbhidgjfkefbbeghhjifdhikkkhfkkhcjhjijhhcgccekdiiicgjgkjejgdifhiiijcbkeheficeggegbkkhggcjjebghkkjifijkdfkgificcgfgfhkdejbiikccgggceifehbfgdcdbjieiehdcijckdjhbkhgbkchgkfcbgjdkhdbcbjgkdkdjhgfbkeecibbhekgjkjhcibkgfkeihibcghbbbcjejjcekhcbhbkdhijgicdediedbbhbciigidejfedjekjeidfhdigcidgikefjkgdjibebheeighgkkdfiekidghbhjifggfffdjejfdjdgchijbikgkegkkfefcikkcidcbgdjbbcjfcechejdihhgcddjjkdgeceihcgekfeiidcbdhkbieejfhkifihhekckfhckbhidccfdhdgfhdbigikckdgidhcfjjcefdkcccdkbhgcbdddifdgkkcjbdegegjibfejcgccbccggjkgikcbkjfkbidfbiiffbbhkihbcjjhgjdjjkhfchfeeiidcgjhiegiddcdgkcidgigccbdjhdigbighghiejjbehdkhbdbdbkgcfgdjhbbifdfhgcdcdhfgfcbcjgfckfjkeikehkcdcgidgdeeefehjedbjbkicidhkhfccjckchffhgjiefkehjhecbikcgcedcccjeiihihiggbeikfjhgghffjffbhhkhibcbeiejhdddccfefgiijghcdfidkbhjdiecgfcfehebfjfhjhcfbchfdccjeefkeebicegifikkiiejhebgfcjbefbcgiiegdcbfchbhgigjbgjdghbhhgdfhbehhhbfbdcgfkebikejehcbbjehcfccibghbggcjhdgdjjdeikiefbdjdfkdgbejbfcbdiihbejgkkhhebjecebjbkhjibeiddfhbcijgekjheiiieeccjgcdhbejgejihdcjhfkbkgjfeikfejijijbifcfdcihjbiggkkdkjfgjgchbegceccigdbfcfgcdihcbbjjkehdikegeikbeehccddbkhfcigdfhfjbgbgjdfifgjbckfbjefhjfdibbkfjfjccegbjjdkhcfkbidkkkckhdiejjfdebkceideeecfbcfgbkdhkckgbhidgcgdkiefeibjkjifkjkiehdebfjgibijjhckkbdhkkdjdfgihhjikcbbcfgiiikkcikfikcfcbifbckkkjhfbhcekichdcieeghhbbhbidkdddbfibeeddkfhijghidddcbfkfkgbbhejceikkdeiccjffjjgegcedbhgcigbdjeikegbdgghfdikhgbggbdgiikifckjhhfkjdkfcebdhdgbfihjceejcjgdehdcbdikejcefcbjjdikgfefcfjhkbbfibjbkicjdijjbeigfjcjbdgjkfcghebigcbccefebghcjfgggjcdejjjbbgikkjgecdhejfeichibgkdibbbcegchkhhbeccjfkggkijdkgbkdicigdeghdjjjjhfkdegdifgkjjhbighjhicgkkggghkhkdifibejbkdcgjgdbbgkdfjicgbdbegcbkcjfhbgddhfcfdfhgbiefegdbfkhfkijgfkkekcddbhgebkdhfiicgbbchjekifgcgbficgfkibihbbhidedcfdhhjbkbkkiiddikhchcgkdkkhdegkbbgjfcggbeigkeehkbfikfhjgjkdbgdcekegdjejifkeddkhkgcieckiiieifhhjhjceejbjegcjeihjhfeckfhfkhehekhfcfkbjdjeegejkfjcecjjbkhbdffjgkcbdjjbfccddicgbkeedcejcgefffcgikbkfgffgdkiecdgkddhfdgcihejgjcigcjhbjghjedfjegikfgbcidjfhkbbkjkfhhfdkfhkjigbbhcdbgkcgjhkefgheiedgcecjckggicbhdiickhbbicdgkehbgddkdbfefeegejcbfgkfigbidjcicjhhebiibfchbbkkcfbkejcdcjgjcgidjibighhifijhfhiibkijhjbcfeeegdgjckegbjfbidcddbhfcghbegcjjehgefhbbejbibkjhbjcfibecjdecdjedchkdfbiigggcedhbbhhhkjibjbdiijkdeicjfhehkkbgejfgjeikckidhicjjfgifccdfhcebkijcgjefbechkbchccehdhhcfjcjbibjfjdicecjdfjckhckjiebkigeehkbdghkihhkbhibijjefehgdhikgjbkichdhbbdkiifdgcdjgihiicikbiefjfgebfgikeiiefcekkbkcdbbegedkhfjjbkcbcebkjchgeichiihkdfjikegbhebbekgjefhkjffekjkchkdjgbjdfcigikehkfkhiecfihkbjbfbkbgddihkiedjgjcdckkegbfhejhhdfchjgcgeebeddggibjijefiebjgbcfcjjekgecfdihccihidfdhefjdkfgfekdgebihdfijbedhfejedfjijhhbhhkkbfcfjbhgcgigkjfdfgbgjhiefkjjjdhjddekeeidgjikdebdejgdefcjgjciedbkbhgfcjdfgfegkdkehickecckcdbefkfegfjkdhbicfhehfdgbhdejdegbfjhidebkchgckceddjhjdbkgeeebcjeihgdheckkbkeidbjijgcdgjfgijgbfiedkkjgkkhcgibfcbigcikhgfkiefffhickjehkbfffcedecgdhebgbiiifkkjbfkffbgcedbfbfdfkbjihkjdhdkebgicdiijfcihijdbjfcjdhbdbdjcigfdijbdjicfifgbiiccdbiihihiehheijkbbhjkbgfgcfihdfhdcbdhgciidhjfkkhkdbgejeeffdceccfjhkdgcecbcghfkidhjgdigffkbcbhcgbegciciecjdiiicdibeiicfhejjcebekkcdedhfeibcjgjbdebidbekifgigbbicjkjjbiejdeejieccehbchihcedcjkgejdeegbddjfhbhbekhdkhejedbbkedcikikedfihdjifgbggekkcciddhjdhbggccgdikcbjfcebciehhihibjegekjghbekidgbcfjddbfiejjdicfebkbickdjbjbkhdcdccjejjbcjbekikhgifbfdcgcbfkfdcjejfjdigghebhjjcdkfjhfjjdedbjeeggfkkgigchjhkcfgkgieedhjdbfbeefccjgdciefgijggiifhgeegggkjbhkjjfgjfefkcjfdicchefkgcgjghkkdgjkbbdbgebejgkdfhechbkfckgchcffihbficjjckhdghdfbkgehhbfhbgfhiekiegbkdchkbjbbfciijffhhcjcfckbcdhddikgbgebcdhcbjihgdiihkhhdbidbdidcbibgcddbdfkjiikgkhgfkbkdkedhfjjfkkekccdkbjgefbfiiiihjkfjgdkjdcfgbgjhfkgkgeejghbgijddeececdidddkdbkbfdfbgjjfiekibjbeficebdfhjbkbdcddhefkchcjgbbiibfhihfbeeeifeekcgbihkdjgjbjgbcbekeeejdifcbejkefieeciiggkfhigkjjdjjdfddihchkcdcehhfbfhhdfckehibffbcebhjhdjhkjffichbdfdjbjgdggcikghjfekhfdegkchekhdfeeicbbbdgkdfjhkffcbcgbgbjgjjbeebkgifbihdbjeihdbehdcdhdjhdkffbiekfhghikejebjhbkdcibdckchhgicbiijjkiedkifdckfedfikjkfdhefdccggbfegbheeccgebecgigdbghhififcdbiibkbcdcjbddejdcffijghjcijeicihekccgccjkdcbidhjhbhidkcifhdfkhckkbbecbhkfkdejggkfkbgcdcjkgbbiggifgeicbkgbfekjdbdehkgfdhcjgeiejgccjidhkcdghegbfgbibfdbfbjhkibhfkjddcebckccehfghjkkbbgghjfkiijhjfhhhbhijkdficegihijdihhfeefhgcihiihddighhjchhichjhkijikcfjehddfjhcehijddkdjihihkhhhbeibkfdfdgeedbibdhdfchikchhcbjkhgiiebjekhhkbcdccbfbdjhhjhjgecbkjbjdegckiibigckikkicicgcbbkkbbebigfjccdgkiifkkehhddhekhkbcgfkgiedckkhhjdbhiddeieibeecjibbhccfghjbdfkehkdfbdeehcfgfddbfgejcbjfdfchedkdkkebhkdcbgdkbjckeffjdgkjgecgehiebghkgchkbhfggjecjghiibbeeckjibffbfdbcgffifkebjcihejekkeggbfgkgkgjdffcbecckfjggciegdhbgbhifgkcgcijhekkidedgkikfkbjjdighfbbgbekejhdgeifbkdkhhfkgdjgjcjggggiikhjiehbkbcejhhijibdjcghkdigbjddkbjfhibhkgigidhfeihhccgghikfcfkcfiiejdibbgehbbifdkkeffdcfgiekbfffebjjbgcihhdccjhghdkfggcihefeehbgghikicijfjbfhkgfjkgcgkkggjgbhchidiccebffedghkbecbdefgbcfbigdedfjfibihhehgjfiidkeejgfccefcigbgdjfeghgidccecbfdhbebbighhgbhgkbkgbhgdiifkbjfhdiidgdjbdhhghfchhdfdjkdegjkbdbgedhdkjjhhcichhgkhijjkefijbijjbibechcckhhkkkgedcibcfcidhifgbfjkkfebkeeebfhecjjchcececkfhfhdcedhfifbjhkecejdgjjfcgbiijhidekihedigejjjciechcgbiijjbkikcjbhcjhddbkdbhhbbfbkkidghiecddcfkkihibhidjfjggjffgcdhieggcbiehgggehcghiicihdckbcefdjcfehidiiijidhgkgdekbibdfkdedchhdjhfhcechcijcghckjjhjkejhbjdicbgecfjikfkgigdcikfdfdjdgdfefckdgckfjhfcifcefgjdefbckecjjcfdicbfegdbijbfhjhdckigihidkhfdehjbhkbjkecgdjccfkgiifgdfkbcidibeiigijhbccheciighfbghihfichfjjbbjfgfkedffdjedegddbbcfhkicehfgijecgggfhhcijfichdfifdjefcihidjbdfbibfffbdhbefeejjjgkhhjgihghkgifkihkicdjejhcfdbjfdgiffehkcfbjhehikfcdkkibjigbdbbjejkcfjgcdieehbdifdgjhjbidjgikbccjfbhdgdjebechdjcdhfiihekibddfcjedbgjfkedfhiffjgfebgjgbciebkcfjhfehejbfdjckidehifgehkbbekhgfhiebhkhcihjjhjcgfjdehbijgkebhidbkekbdegichcjgjhedbjdibegeehfbdefjjfgbekghbgjbkdgiggkikjbcbcgfhdcgeeejgheekcfegbbdedcjjcbjgbcehfkihdgejfgbeeeceefjhceijbccedjbfhfhgikfkjggggdcidbccgehecdfdbiedgdiedjcjhbfbjjjfjfededjigbfikjhjjgcgcffkdijkgjgicffdkkkbikhjhcikjcegcjdhgjdffdkkicijkhjbfbgbekhhhifjjddehggkibfjikcdfieicbdfkdfdkciiikgbdehgjjdfkhjcfckidffdcckdjeefhdbbfdhbeeeiibdjhdhjjfciebhjkbjdggkjfjfeihfdjbiijeggkhjggdikjfkkkbgjecehdcijcckhgjefeeicbdhdgkfkkbjdfgjkdgejjbjheiiikjiicdfbgghjjcfebjbfgidfeekbcgdcdfeijhjggcjffhkfbkdkkikecgjheiijdkkkkfceghejfcdejbegeeihihjdceibjfceefjhkcbfbedjibbgbkdcdjjkjghejffhfkggeggbdhcbdjecibgbicdkfjkcdcddjkgcebikjekijdffhigjcihckggjjbhbhdecchhbkdhjgbefecbeegghhkckfbjhjbbjiffhjgfcdkbhidkjhikjgkebdijgjkekhfkfchecchkhjekigefhbccjdjcfifhbikfkdjghhbgkhhikghjbgdfijkbhbfhcdjgbhkegjedhgeibefbgccihhbikcbddkcbgjjjggfbjedgffhiebhfcbgegefgcbggeghhikejicfhdkdikgkgfkciikffdcbhkkggiiecdkjiieheigbfkghhcckfkhbehdkgebcdggddbjkfcfkekcjcfeccciiieggcfbekdegecjfbjbfbfckgdikgicghffihbidchjjdcbkkdhejhgebkfdejcgkhcefbijeccheebidjkbhbgdbgcbefdijikdgdcgjhdcbhikhkcdikigjdgcidebhgbbhjbjgfbjfcfkikdggdkfggfibcicidhgeibkidkjbjhehdgbebdhfghkkdkcfkicjjfdcjeifcbgcebibjihhggkkfbgjgjcdgchcfghiejgibfdigkckdefichdcifjbghddgjbjdjjefefhhdbkjccbehjbickjhedjibbceffcfjijbjhijeejgdhkdehejbcgccfbffjjcbgjicfjdiideejckjegbkcgfiecbddhkfkgdccihkbjkcecejeecdkhkijbihhkjgcfgggbcikkhebjhbdkikffjkibbifgfidjdhjhcdjjkekbijdfiiichgifdkkbbhebkgjbedfejikgcbbcjjhfffbifffcfidbfbhgbbbbkfffkheekcijkegdkfehefhckfejjbfkjgibdkbjgdijjeihcdffkjejhfdkejefibddbdcchegdckhfdikkjkffkdhkccfkhiefbdkbjiiefgkffhebgehcbdecfckhckikcieieiiiegifjjjhckejkgffefgcefjekifdhgejijekcghddeghikjgfccbeeebhgjbjkkjeikcghfcbbgijbddbgejhhjbhbheeejiighebjcjkdebifjigfedbihcfidfehfgbdgkgfcieegjkefkebcfkgcbjbgbgbghcbgjjcehkjhiiggcjeecdijjhkihgfhdjifbbkbcbcgikdghigdfjijfdfkhjekeicejkdbkcgfffibdeibkhbhecdgehigbgcijcikigbfgbcjcidbebhkcghghgkeigdefiikceccggejifjidegbgefbhckecdhhgbekcjffdgiefgfbiebickcdgdkkdcjfjbkkhgffdgjgkiikdebhdghcgfcejkiikigifikbdgeihfdkdihbdfebjhbggcfgjghghhdhgcbkfgchdfjbdjkkjhdkffjfgbfbhkbeefjfjhbckekfdkfchkgkikgfjgjfgbchjeihgbjcjdfghcjibeeihfgikjgcckdchhkbcbjeicgcijbeccgfficeiiecekdekdkdggecdfhecheejhgdcihkggijfjkiibibbijkghgjbfkhebhefieghfkiggkchifgjgickcjghhchffbbgbeiiibggifejfcjdigbjkfkcbkheedhficgcgddcehjdbdkhbihcegcgdkkjkikjjfidcfgkckfkcgkdfekkkdkdbeghggfcbjhjddbjejjcgkikgbbeedejhdeekjgkdbgkdfjkejeekbikdbebcffjcdghighjceccikbkdcidfhdgkbfhffibgfbjiikhchfjhfifcbceeibgdkfkkjcebedekegdchkfhjkjkjdhckhckkgieehddeggeeideddfgidejfkkfdkkejkigghikbckjefejdcjgehdigeidfdiikhcejjjeidjbedikkdhggjggkjckfkecjbfjbcbckgbegggicebjgiifeebeekkebbeejggkgdjchicffhkeeccekichfkffgcekkcifkgdeifjbigjgfgbddkiiecdeibfidkecekfcgidcbcifdkhbbhkkdebfefjkegddgjkgikcekkddkfjgcgbjfibhicieiikdddgjfgbfcgggebkhijjgdcbhdejdihbfccggikcjgekcjjkfifcjiebfgciefeeghdchjkigcbgecfhhcgjgbgigffffkchdkckjccfececfkbckehbcfbcbgbggbkfhbijffjigccdebecdjcbkkhkfejfcejcdhkkcbbjcfiehibbdbfjcdjdfcdiibcgkbddjcedbjfkhfekfichdjcfegebcidcjchefgbhicgkkjcdkbkiifidjfficiefkiiegjcfccfhbebfcfdfkedibkbidebddgebjcijfcjehgchciieeejdfcdfgbhekkiifikiicfbfhhckhhddceihgkehcbfkehkddefkfchjdgbkfkfhciecbcfkbcfcjdcdibgdkhkjehfgifhcgjibcjcjcfgeggkkiheifchbicjkhejejegddbiddbdcbigjkeegbgbibdhefhcfhfbjdgdbkcgfekkfgffcijjddfegciciebbddidceggebkfcddheckckbhfdiggcgcgjfcfifekehbhjgheebcfiebifgjieihddgdkeikefgkdifcdhfhgcfbgccehehbgbekdhjkkdcciikikhekckejjfggkgjbgiebediedejjjhdgihbiibejhcbiegdjgkegbiickkgfejkhhcdkhfekjcicbeihidghjggjdkfdcbkkhfkgiebbbfgicicdhjgkffdfihegfiecgjekceegiifidkekbebiddbifihjbhbefjikibhikecjkehgfeidekcifgecdjkefhgjgehfgckgifdfbheefdhdfkedhekjbdcfibckgbhdebffihigifkikcgikgfdkcfkhckiedgkicjjckcjijghecffhjdecejjfeefdchhgdkbhhiegfcdejckccgfdceegkkihhidiejfcgkbgfeckjgefkbbhbfebdbfeeijkjcejbdhfhigkgfdkiedfekghehbkjfbkjdgejgkgihdhjfcbjikhfhhfbdcbdcibcjdkbbcjjjdfhbfikkfjeihbiegkfbkjfdcdgjkijigdjgiddjebkhhebbcdijfedibfffbbgkggdhjkgeefgkjcjkkeibdhiikdcbgfhckgkffgechjkfjjbehkkkjiedefcikifjhgckdkccdhgbedikikfdiiddddcihcgegdbgedhchgcjfikhcjddjfddbjfkcikikkbcidehfkehbkhhgbfgiedigdfidckeikegiidhdkbfejggebeiebefegkidfejieckgdgebbcedkhfjgcfdjkicbgjiehgbcefihfciidfjdegdcghkdhdcchidchedkkbkdfijfebgedkfbfjcjgikiehfcijkfbfhkhjehdbfekikghjfebdhekefcgidbbgbdfdfdkkjcckhbgjkfkihcdefjjfddcbjdhghfggfjgbffhghkdcbjgkdebkdjcgdekbdifjbcfceihkeegkieedgecbgifbbjgdhjkiihhbdheiidkdkffcbchjgeebcbeigdfdgfkjkkjhjggbhfihidcgbgejdiggjdbekifkeibdikfhjffgjfgbijgiececkdjcdcgkhgikcijjibkgjkcffgheiikhkkejbigikfgkdjgdijdcbbcbgfdckdhgeibdgcefgbekejieggkjbgigggfgfgigfibcjhhdghbkhkfbbeicgbffhkdiiikcffkcdjbjkbcchcefckedjcjkhfgfghhefdjfbcicgifidhdfkejdbgkbbdeijghhbdghhdjjdedcfdcidijdhkcchihkhgiibkfghheefgcejfbbigcfejfibkgdgjedhgjiicgjcdkkkdfhhgbcekdcjegiiebdiikdbbcifkiigieffchjhgbfhebicjekekiiciiggjjbigkddcibkjgiciiffbeekhbgfhciekiigjjfhkhkgjjkhgikjhkhdfccgjfikgfidccbjcfcbfjebgjcfggjkcghdddbfkegibeicgdjbbfbekgjehgfchhdgdbcgcfiibkcikdfkedjbjehdkjjbffdcechbhdhhhcefcbkjcbekkgkdhhegikebfefcfbhbeikgidfbicigekikhkfffeidjkgegcddghkijgkkhcgikigbbjkdjgkhidckibfhkhhgghhkcejhijbdfdefhgdfhjdkekebgjhjeckcjekdbejdhkjkjbdkkghbkiekjeegjhjhjjdfeifdbidkfhkcdcbhgfkdjbkikidjgcdikheeicbcjeeeikdjjfgjhhkicfhkdgggiiefdjdfkjicgibhgcbddgghhfieicdgbdhcgchehfighihbkihfeiidebbchfchjdhbdhjejdgijfgkecdjffbkbhckddkjhgkfgbbeefgdckkbkkkikfbhcifidgjeefcdjdgebbkdcdhbcgkgfcejdjkedgfjchigkeidhjdjkgijfikgbcfididjfhihcghdideiggiifggdfgebehkcckhbkffjfgfcefjffikcdjdfidiefdcgcjkfbjbbbddjcfdebkicgcdkeicihcfjcdbidhhcgffddkfjgikjdehhggifgijccfdjbgkcchehgcdjjehebkeggcgkddbehfekdfiicecekcfkibcghegefccibgbjeijfkiefbedgbeccgjkikeiekjhkbebcgffedhkgjdebhigjidkefkkhdgcgeebgjdgjbdbfghgkifihcdhiikgfjhbegecdhgcickebegfidehhkjkedfiibbdgcbbgbchbfdgeghcccfbddgikdcfkbdckdfdkjkekkhidccgbegcecddccbhkchibibikgieiieccdcebeccidcjbbefbjebebehjccecfdeffhdkbjjiciiigbhfbffkedijggfgejhejdjfbbdjhfijdckiijhibkjiebecdcchfjcfhdkeichgieekchkeefdfifkghiicchjcdfdhdjckcebjidbkcefhegjdjbkikhgkeiihibiekcbfkbfdgdbfcdjjbdfgbbdgcggfikedfgjikijecdgekgjjhefdibkhiegjicdchigdcfhkbdkgggjcbbjdgeegfkgcdecibfjdbhifhdfdjeidedehikgghiibebgfbcdidcfekikijbecbeebhbhigdhkjbkggbggdccchebdiibijcgjheiidfbjgijefkejijffkkjegbffghijkefekfhejfkcjiekggkidedfedgfbgebbibbifgchijfkigekkehcdkjibhcjehjckehchgdkjjdjibjkggiigcjjejfdcdhebfcggjbijebiekdhcgickkchehiibchihdfkhbcgibgjhjhiehdcigghdfdicecghbbfegeigcjkieicfbcgcdihkdcdjeckfhfjbibkgbegdfcgfekjkjddbdgeihkfdibdffbddhghjedbdhdcfekkihddfkihhccdgkgdkjbhcdchgikbegifggjkedhhcbhhhkffkcgcdicikckhiejhedcejfhbbkffbceffeehdhdcdjccjkgjfiiigbhcgjedcddkifhdhhiibbfkcfhhiejkickcfjbjbeffjjchdhfgcfchgedjfefjkjbjcdcdbkcfkcijddiechehidicdhbfcejjfkijgdegdgfbikcgbdbjeejiikbdgbkgkcjgcegjkcghibbffegfdhebfeeikkkhbdbijhikfdfhibifdcgdkjjgekdhdfeihdbcghecicdjhdjhddejihkifbgigbhkfhkjccbkcdhehiihhgiibkfjbbijdkhidchcccbgegdfgijbfejfcdjgejffdibfhkhdjfjekcikiceiebedgffhceikgjekjifeffcchkhdbdgfhbkfdkekbjeefehciicicifcbkkedihckcdhfidcdiggffdgeidgdikcececbkhjkjkhibdjddggcekgdhicfbkicgkjjcejcjibkidgcijjjijdddiiedkcjiehhkcgihifhcdcdfjhbggeeecfgcdgjkgjkidkjeebbeekhkeceihifghhjckihehiiidjdiiidckjdcidcgeghbkgekjcgefckidckkjjhfiffbgbgjfegcejdefbhcehccfjcdhdghgffgfhehifidegbfcgchdijbjfecddfckhghfichjegjekbbkcbjgjhghkdgkhedffbicehbfhjgfdbgjgebcebkfifkcdikkcjjebeijfkbehgecehkkdediiejhfieifckcbehddehebgdeiigbjgbbecbecccjkcdfcdgbcejgijcgcidjbeefjhfddgcijebehkecckhecjhdbcbjcefekgfcjdhfgkfdeifbkgcfeijcbjceeejhedfjeddebkejdgiejibkfeggibkbkjfficfcjibechkhhhbigjeghiddcjckidbgkcbfihhdgfeeejdeifdcfedhgigdfjkhbhikfbfhhjgeehiikkehegicigjjdffdhbechkhieedcigeihdeeedjifkejhegbddeffcidiecijkhckchfhgjddjhhkbjihebbjikbhdkjhkffbkcjefeffgcgeehbiiecbffbkbikhikcdedgkfjjjiefbgkbcbhejjibhikkdgbfgdkkcckgcfbjkicfbjkcddffcjkciceeibjkdjddhhjkgjedibgghegcgcijgedkeddjjjkhgijcjccghbifikiheeeijkdddecbcdjgfcbdjiijbibhidhefgcjccchdkjibecbhjhehfkccdgcggihjfjekhekgjfechijdkbegigjehefjikdkjhdjgkbcbkkcjejhejcjikjcfjkibdeeegfekkggdggfceejgjjihcddegjjhkbifdfgbhgccijhfefeceehbhehcidffdjcbihckcejgbcdkkiibckfkhidhiickgjbdcdjejdceciiicchidhfdeggijfidjfbifdeihjicbgbjkefhdkhbcfehcebdjdjggdjicdjgjcjibhkjihfefciffjjbdgeicdhefihkdfffefbbcdgdkdiehibfiffckiccgeeehgihcjcbibcfekchkfjkkkeidchghikjejffiddebbdjhehgjkcehicbbccfchffkfgbghkhkdgfecefgbehdhdhiggbfehfkbbikdhcbjcefdhdfhggcidjidbiiehhcdifjkkihjjjbfiefdcbbdkhehbeefidjddifkcfdbddjhigjdhhedgjhgefhdbkgffjjcgjgbiecggbckkhjcgefckcgdgfbkggdfbhbhfbifgjiffdbgfdjcikbchgjkcicfchcjbkkfcfkjjkbfkdkjbcddkhfbkcgdfkchhcfcgebehcggchkcfieehbjkgecdehkekijdfhkhjcejffjjbdjchckfibhhejiekhhghcjhbdcfdgebfkeifeedjbcejffhbjedgckfiifgjdihgdekbeekdekgiebfhhcgecbedcijcifjkhgcggdgcfbeekdibdiiidjiehhffhjdedfhfgfjdddidehdijkfjgigjijbjcffjeifffciffigkjkcdkjfiiiikiecbbigidehjbhgehhffgihdeibjkbcigcfcdcggbfbdgekbdfbggichbkkkckjfjcdckdgeefjhecjfichkkjigghkhcfbhcdiffgejdcidcejhiehcgicedbghgkebfkccdjcdckggdffkfeegciccgckdkdjbigehefefgikdkecifjkjjeehgfjiekejhgbdifjjgdhjbihhbcdjekecbihfkigddbjkihbfchijegjcbiikfiibdgbfjbighcficfgiieehiibejhjhdkbgfbbjbkgbbcjhjkhhicgieeigcjjjjfjkkiijbfdhejcjcjjdibfcgjddijkddjkkihbjhdcgcieeghgebjkbfbgjhcghdkcdfidehghijkcjikhdkjbedhgdjjhbdhjehijiejkekdbhcikkkdbkjhdjehfdbcfhhjggfhdeegeihbcehcgbbgefbecdghefffjfgkicgceekefgkchcedhhcjekkedjjdckkjjidddfbgebgikgkjfdgecgebbbdjhgkhjikciedgdchhiddkdkfkkjhgkhgkhfejkgbbkgigggbbjfikeckcfkhggdjcegfjifckdhhgjbfebhdfgbdhkjgjkehcjgbbbhikhiggihjbeegdihbgigcggfcdbciccgccegffhbikjfkdkbbcdhkkekfkjjcidhdfgdcddckecbfbgjijhffhbfgghibkbkdeghkddfbchhhibegibfjeffdiehigjeghcccbhkkgfcbbdfbjdkffgikhbefeijjgjficjeidkgehggfgheejfkigggibhcfcjbehfgkgkfbhgkfidjifgchdihkbccgdefcghhgkddeicejjhgfgdchehgkjfkceehchhijikgjieghejdkeccdghcihkcdfjddgdhhddijkjdfdbhbkjkdkcggecfhgiegfcgifkikkiccgcfhcjjbhiifkjidhddciidhgdbkkjcgjkdgciddcifkbkgjehcibgkbcecbgdcbgjickkiibcghjkghcckkbdfccfjehjjihfhdjhkjgicdhdehhjejikbddkhikgcgfbehhigfbjhjckbbdejcdjikkdkkkgegkdhedhkfkfceifjebcdggfgecgcgdceehfebccfjffccdcgjkbdhdjjigjkbgdgfifhfggddbccbibgfdebijfbcfhgkgjkcgchihdkbhfcgfddehejghkekedkcbbkcdhhkdjkddikejffedjgjbcihcbfebkjfiifcekbidicjgekjjecccejeeijeeeekciehkjgkbedkicgjfikihbhdbhjdecgbiffiikbkjfejgbdbhbfhbhikjfekdjeffiijjdjfjbfghbgfegihhdkghjekjkdficceffbkkgccebkgdjfedihggkiehffigidigjjcghbcebjjikegdcgfcefeihcegjbhcjfbfkkfgbjfcdejjhijkgkjbffbjjcecgegdjbekkidiccidhdhciiefbgghggfchefeedkfgeebkehdcjeedjgfjhdghkjbfbcbiegehjckkhfgchebfgdkkgbdfhfhefihhcbjdeggkhfiihdfjbchjfgjejbddcihgjefefgjhidcegbhgbbdddddkjchgiihgkegfeibcfgdjgkhejekijkfjehfecjecjkhccifijbgibckhbdikgkgbbckjkfhijikehhijehkdcddjcgfjfkekfhkbijhcegbkjhbhdgfefdkiddfgfkiheeijidejkccbhbgekhhcecekjjdefkdbbcbkfkjjhhchdceeiehfkgcccbdefehiigkfcbhkbfjbhfkghcedcjdbicbeiihjhhhdjhkfgbjkijbikdcjgdgkkhghjgdeehkcdhcekcbbfkbhjjiiegcghegbcigikckkddgcbjddcfbjbjkgcjhkjbjjcgkkkkgeicebdcgfkkgbckicjdebcbfggbbejgdfjkbcbgegjebddjbegkecfhkbijdcdigfhgbkdgbcddjjjekhckecckhgbccddecjdgbhjfhebhkkkhffhifkjkijigiifgbkcbbiggijiffjcbebfjebcchjjkcjihckhijcedghkdhffbhddbffgciccdjbihehhjikjidkgbgfibhhgfhfgfggdbikgkgfkgckjgidjdjbieggfdgihefhhkbdcdefhbhjeicekfgfjddbgcihkihcghikgbejdigfjkiffkejhcihhehkjfebkbjeccbehgkfjhdckdgdjiefhkcghghbfhbbjikbdhkgkhgkideicckfdgebbdjfiffbigccdjjjgfdfchbdgfeekggjhhdckgikbdehkjegjfiijcdfgibbejeecckejkgbhfjfifbikhjhhcibhekchikgdgjkebfjgbchhcgfbbjcfejjcgecfchijkidbfbkkhhjdecfgdigjkccijffhgfiiiciiebefcdjkbigdfhfhhhjgjkhjgdcdjbekkkgjfehhbfidjchbkjcggecgeckehgfkhdedkbfceehbhfbkcckfbfeigckhjiekifbkecfkejdcfhjjkghhdkcdicddfecjejkgkdgkggfbedhiiifdhhcdgchefgcekeifkgifgekddkekgdfhjcjighbkjghjifhcbeddeggiccdkjhiejdjhjfijefkeccfbfhkkcfbbgjjhbghffcbdbfdbkdckghhggdechefefbecbdkbckcekidkigjghcdhiffgifkgdfkbiiididfhhdgjegkbgheicibidcijefjcbcdgiecbjfegiceekcdcejfghefjgkchjdddkhegeddhhbekjcfkefkbcjjebebffeicfhdijdeijgehfjffijfjhkdfbdicijkbegkkehcidecfikgcgebkgihgeiekbhdbdhbiihidiebfgcicdcfcjhkidkigijjibfeebfdcjgcbiekcggjghjgfccbcbbdhkggfffeikiihkfhhfkiijggjcjkiejbibbfeihhgbeibkdjideehhiifcgbhjjehjkkdkiieekgbijcgckhifjigkiifbfkhgjdkefeecffcgcfbbddiggdibcikhicbjhfdcifdkbcigfjebcckbedcbjieejggfggbbecggfbebckjdkijidedehehcibgifekgkdbhghgjefefehigdeehgkjdfkcfhfhjhgieiiiejikkfkbhekgdkieiejidgkdbfgihecjkcjedbhkhegghgdggjibehggicfkickkjkbbhkkbfffbheieckfibbekbhkhgfdhebigegfkchjjcgdkkfegckfkhfgggfgefkbhhikhkijjjgjjifjbddeiibddfgjbgfkbkbfiidbgfibccbcgggccjjkbheiddhehbchcckddekegkcjghecdcebeekdkbjekbggkbgeifigjicdfdehfdcdhkejhkbkbcibekchkbejbgcjgiegccekbcffikjjfhcehkbgbjiecdckhebffghbhgdfcicjdikjjfhedhkgegkcihjhjefdiifebcgbcehbhbjifjgjighchhbbekfjffhdfheejdgjjbjhibkikfdbfibhhhggkkiieghhkiekbebkfcckggcccdbfgcihkcibkhecgegcjjfkdhdigffkdigghecjiibcebcgeghhhgdigbdccikifcjekfekbdkejcjfedejhkjhhhecggchfhccgjekbkhbgkbhbfciibeffjfdiceifechchdfgcbifehkjffbfjkbkgekkhehbjbkdkegbehfkjfkbieihccecfkhckeedgjkdfhifkccdebibdefkbficchfgkbiehggekfkikidjciceffiibdhjedddbhchkjckiiceghffihkbkhhbghciedfdhhigegdgddjfbkkdejkdhhekjgfjkihjcbidjibghedhdcikdbkchjkijekfhkkbbijghgkfkegcheefjbfichkkdhhedkhckgibiehcbhdjeejhjdigegchkcdjkijigkhehhgdkkfccjghdcjjegbkcgfhhkbfgkfchbfeffbebjekbkdgikecdcddiekecfifcgeheffhfecikkbgbbkbjhkcekeeecfgdegjggfckcjifcecfddkehdegcdkbhkggcekddikfbdecjjbibckkjgjihjbgikcfbgikddcjidkkhhkeijkejbcebkggkcdcjkbhcjbgicbeddefbedgiebhidfgdjiebdjhegghgkijgecgefgibefedkjjijgiigidgiejcegcijgdkgieikkkdcgjgckijkkcbefjiiijiiieibfdibbhkkifbbkcgjeijhgbckighfecdegcgcihfhekbbhbhbcdkgghfdjidbdchbhdfhbijkbedggjcdkfgfeccckjbechccebkefdgjehdckfjjdkidgekhbfchfbbcdbjebibiijefchjkgfkbejdhkkkbgffeihddhkgicfigggbciegkfhhibkchijfeifegfdfkfbbgcdcddjeefcbkffggdfdkehikdbbfcbebgkhfjkjjgikfffeiickgjdjcebefkgccjiefegeikfhcgidjekbcichhhfdbjjhifgekfkgkcifjkigcejjiigbcjfigjdkhhigkheechkciikjfghjfghiejjheikcffgbiekikfdkefcigichkfbdedcjceikedijchccgghefffijikdefeihkchibdcjcdicefhehhhcieghgeegjkgckbffegcjbjjfhjhcgjjhkikbgceheiecjgbgjgkjkidkhbjccegjhgdegeccdjieeicedjfkcdjcdcdcedhcecijkfccigbbihdecibdeegiefbkkccbfbdjgjiifedcicbcgbfcekigdbeehdggicjgidccdjigkhjeccfjkjcgdedicceicefbccgdkhbgbhbigeedkbikfhbekdbhiccfhbgfgbhkkcbhkkcchchjgikddkfekfgkjghghggkgijhhbcfbffebedecdicbhgkkijddkjfeebchidhcjdhibeejgfhfcejjhddjghikkedjfgfddeichbgjgddddbcjcgbkkihfcihcdkbebiddgcdbfgifhbecdhdgjgbddheecbjbbjijjifbiffjjdgdcgebdccdjgjggekdhgeckcggiikjigjkcgikbddiggjegebkhgfchedhdbejcdhfdijebhfdgdkkhiejkgbifkfecijkjefjkhcifjcgbggejdckcdjbebiiiifekicicbkiebhficbgghfjhhfbfkhdebieibfdiigejchjedcjihifiefddgkdgiiiijhkjghfihiffdhedbdhdbhdkcedbdieibeddbeecccjhfkicfhcfckbfckbdfbbfdgeikbebgjfhjgkggjgebbjgkikkdkbbgibiefkibfcfcdjbfbegdjkgfhcfcekgbchehkehjhkifgbchhdceikhhgkhkhcccdekggdiidjjhghdhgffebhbkhjgjfjbkekdihhdjkbefgefjiffkeccdiccgbddigcgikkiihgejhgbecbdchfbebgggbkifcgkkdijifheeggfdhcegdbefbkbkideggcfcjkfikbceefidecdiebehbffchcdjhffdkkbhcghbgkbjkhkehikcgdcikfkehhjgbbjfjdkhdkcejdeeebigkiicedfhbcccfbkbehkjdggfieckjffjeidhchgjikkehdgdhejjgihkhfjchgdkibfbdgcegdhkkdhgibcdbchiggehifbbigdjkfbbejdccjeddekbfciefgefhdbicdfhejkicchcdbgdgfhefbigicgidkbfdggjfbddddhcgehkhjikgejbfjbjdchiehfebkdfgjhkheihgihffhjjjbcigiifdifcjeehgbgffhjcjdfifheidhbjgjdifcjfjcekjckcggehbeehejiiihgjkiekkfjiidegkkbjbekbdhbkkfgbeeeechbegbgehfcijfjcigddciccijbedihfkecbckcjgekdbeifgkbkfcbccdjbjckfijgdkfgbigghjkjjjjdjgdhhgbecjgcbcjbjigjkjkcggckgeiebeebfihdghcdejffikkhcjgekgjkjfgcejkeijicdjjggbdfjdhicfffdgcjgfkjihbeeiihehdgjidkfgechkjdggeckgkiiffibhjdgdjbgijedggfjdhibbjiihhfcjfbhgjckdjebjiecbbchbffibfjegkcdgbbghdfgigfhkebedjegjgebegdkkjekjfggebjkchkkhbhihdijfdfgikgdgdiieebjgjeikkhhkkdcidgbjkgfjfjjgcfhejdddfkbcigijkbkgbbfjkjkgjgbegjgehkghkfigcefkbdkdfgckgddecjjjhccbgjkceggjckdhhdbbgfikiddefhejefkdkiejdkkjfbdceffecciheehhdifibdigjjdebbgghdfjchcfkhcbkjbcibdbceejechhdeicfgekdkbijjjigcjbjjegidegeigicecicedifkkcjhdjfjhkckcfeijjkdhjijfcjbhegdfkhjkbdiigdgdjibcgdcigjcfihhkiikhbjggebjccifdbjbdgbkgiiehceekgggkdhbbhibcffkbgfiffikkckjfekibbdckhifbhfkkhbdghfcdihddedhicecfhghhdkgikccjkgdijibjcbhcbhhibhbdcjhjgdigghkbeehgeggcjjieededfjkccgdidjehbbgdicikdcehfbbbejkckbjhkfbhdfejifccdcecfjbhkcdhddcbchjhigkcdfjcdideeggbgedgkfhkckbkiebkfibjdjhhjfbgbdeebgcfebkficigdjcffhbjefdhiigffkebegeejhhhbfdhhffeffidbfckikcekhhbjjefkkjfcfcbejiidcdcehiidfiegkcijdhedejjhdbhhbjgkicgjdiikhghkbiighiekkhhfjkeekcgdbkhkehkceijecbbkibckjjcghcggijgifjiedeedibfkjkihififcigigdceebbifgjhgfdfdkgkeikfejdggcddfgfkihggchekkddidcggdfkkhfjeekcbfhjcbcjfggcbeghccbbdigbkbfhchfgbdfchccegkibhedfdgjdfhbcfhihkdfbbgdicbfdjbkkhkbhfecfchdkfkkdgfdkcijfeikebidgjcdgkihdigebgcgkbkbcebecdgbkjdheckfgkehfbhjbbbbhkckcdbjifkjcejgkeccikdhhecjjbkcdfjibgicifhcieceicbifkgjdgekkkdkddekdfcebfddhjekfgejgcbddbighcegdghcdeegdchgdfihjiigfbgjdcikeddgfeeffbfkcbbgjdkehcdgckdjieebjkebggedfhhbcgibhbhbjjicgjhghicdbdfehhejibckhgdiidcfbhbgfbjgichjbkjicdjhgihigghdchcfbieicjbfefkkejedfeeggccfhhhkfijjhkjebdbhigkbjcdjcfhhgdfdbccehdggfdejhdbgeejfbdfkdkcehhbebghgjcjjjfcdbdjgjebbibgdgjfchgbjiikfdejkhjjfdhbikihjigjikfjcjiggiekjfbdcgdhhccfhgcchefiihccdbfkdejbidhehiigkbfdbieejjgeddhdfjggchggffdjchbgbkbjgghfeiecjejgghkckgedfgbhdkfhjdhchejdgidbhijhehbkfhddehfehgdcggjhdgfekiihkdjefkjgedcebghiigfcecigbgkhbcihckjhdbdhfkdjebkfefdggkckddidhjiggkcjhhgdkdbhbdgkcfgjbkedjeifkkjkhiefjebeikcebkjbhjciiceibgeejfhidikkkigbcbdihbejeihbihekkcijegeghcbbifjbdccfdkkhfkecjdijcffffkfjgeckedjgdhjhcdecgihcjgcijggffgiekddffbdcekhgkdchkcjjefcechfjhjikkbjdibbjccffkcddcjiicfdhicjbjcfbbkkjffgcjjhhckeicigeedejkfjdcccchfbfkccgcffidfbgdkhhcfkbhijdhgjiihbgbdhbidcekijihcccgdegejgighddbehjcifjfihgiekgicfbhheejjefgikdjgfjidghhgchfbfkfdkkkbjkfchbdkhhfjfgkjgbiibgbcibgcefgcebgkdghfjgbddkjhgfbbhkgebbihcgjffjhbgkkehkefdgdfbgbidhdffdcjkjcjcbhhiijbfkbfhfecbijefgdebihkcjjgehhgbfhehggfbjefjbhjiddfecedkbckiiefebcgijhckgbkhjcgfbdgcdcdgikjhhgickfegkjbgfdgegkidhikffekjikghkjjghfcbffjhkcbeieedkhgggdhbbeiidcgfjeifgkdfcdgiffdhgkjhdfdbihihjdekciecfhiehcdcffbikjbgfcehkfccifbbkfcifkdjikkdfheihhgjcdigckcccegfhfdckdhhchcgkgdfeeheffdejfbdgkighikiejciebbbfeecjbieigfifibeekbkkjgjkihigkecddhbhbkkeeifejgbhbkjdgeciikfigikifgieggkibfhgkcjfjffgeiikbkcgkgjkhfijdkfgddfegcfekeddjfdbiihhdeheehifichedhdkebdcceckckkeigcbheejifegkchdijghkjedbfkefbdecekhffjkgjkifefggjjfdcdcggkkciefjfjhddbccidgkdcbgbcbcckbgbeekgiedjjgeddgfifggedgbfekfkkdbgecdiheffikkckihjfjgfhijihjbcjkbeeebcgeggdhhbcccfbbbjjbcikdcfiddggfffeffkjjkidfkgfghfdcgchjccdfjkfghejgiigfkhjhcchhdhhkgfecekkgceghidibdbgihdchdiiigiccdckekbjkgchfibhdbcedfeejeghgkjdfijgkdffhbcdibdjghkkgcjdcgcijgbjfgecdcdbibefeiebckggjjkiicbdigdegiefccjeiggbcefidfkfffidkjfekhjjidbeedheidgiifehijijikgjfjkghcifkhkfgifccfhikbhjkeeifibeickgjgbcdgkhcihjiccddefifebjghgeedcgcbkkkekbdiigbkdbgchhhifjeeidbbdhkihbkcfdfjccgbjhdeiccgcfkgjigkhffegiikfjekihehgjcfdedgcfgdedbbdigjkdhfdeiidhhdkfgjdhkbcbbjhjfdkfdbcbbdfgbbjfckcejhfggkcjihbceijehidbjbegbdegkfgibdkiccbjjddgbjijfdckbehefifkbhhkkhbidhjkfhfjidhkfkbkfkdkgcegffikfiffbbjicibifcbchbebgcdcjjfdfgjbccdggedbkcjcjfkbjjghffgedibkhkfbjkbgdkkkedgdhhihhkbjcfekdjciceehijcjgcbhfjccbkfkjifheffkekiiggfckhejhjhickghhjhbhjhkfebegfbkgkfhkfddbbgkghegeigfjiggeccfhibkkicfigeeigfdfedhckibigjbgjejjgiidihkgkfechgkkbcehekbjfgbgjgbjkhceeffibfijehjekibfcibiffbiehejgigdijgbhjejdcbjhehebjhkhbkhjjhcbccfjfhgjijfjgcbgkjdkdjkbfebjdihckcddjkigicdjgdkicikeikcckcdbgbcdekjicfjigeicbcgfijjhdekfgdbhhfkebhcigcfhhbeibbgefjebeiiehfijekejjcgjeebjkijjbebecifjhegcecbgkhgbbhdgkjihggkfhhbdfcfkbcgijidigcbgghbbhgcdekkgjegbjiecceidfiejckebcbjdicijjdkgbdkgcdckfedfickkdbdgifbjfhddfjgjbjifjegfidcbhgdfdhfgbibhjghidfcdehjcjiijecickbhjcjghdjcbkiefkffhebbhekbjbkgchidjdgikdfggcehbiebeegjcckdkjfkcbgeghdkghbbcbdjhhdfkdigehjihdhidhjiegihfijdgjibhiekgjhifihjkhbhgfjffgkjdbckgbkccifdibigfjikfihkbhegjjgkeefbfjkehhekcbhhehckdikkjejcdgggbckgjgccggejffbcddddeiibckgfgkbgighgdegehicdibfcfdejbbdiffdbjibifkgbgdbjjkgjfdjjdeghgfijjcfgjkfjjigibffbfccicihgcjhkfdgccfjcegbdkbhffhcbijcghhfbiefidgfdiihikkfejighfdjjehejjbkbihkiiebgikkgkjkfebbeejfbjbddifdikjghfhhkhffccidiciccdkkbdgifibihhcfiibcfdgcjhhcgbjedigidbeihigijbjfkbddjgfciifkkkgickdkcebjedfcdfgjheehhdbdfecfffhckiicfkbfjgfkfgjehkdeiikejkhchjjbgccedghdcgfgdkickggbhkfhgcekeikeikjkdfghbifbiicjgcckibgjiccchhhbbbkecdjekijicfigijjbbbbkdkkibjddcccjfgghebjeffggkghefkgbhfegikickiefedehikedchgcdikcgibdffhhhegkfebigbbbbfiehjdgfidbfdhbhkfccfhkkdkcckdgjeeiidhkggiekjfeckhdhfhbjdjdgdchfefcijjbhejcfbjdjfdgidhigbeckfkfgkeebheihfkidikdhddccjjbcchdckjkfdgidgfcejjhebihcjekgghjjhijkhgibiccfkbijkffcecfihfdkbjchkgkeihjjkbijgcefgcddjhgffifjbbdikcjgbbbikkgekkcbcjgfiicjfbkdbfhikhicchckjifbecfdcidckcehhikcjijkcgdeghjgghcdkekijedbibgcikekgigikbiedeiihdhkckkbbhkdjfhcbcbggjicdfkhkikeeifcfifidjhidjdjgkfiebfdkfckibbbbhhceegdjfhgkhjbbkibkjjefkbfddjkbidihjjjeiejehbcciidkkcgiffgekdbdikijjiihefdijckbkbcfkkgkiehffedecihgkifijicjhcjdkiiceedhcdjejgjhejjgifgbkkihgjcgbifbcgjgbfbkfjibkdkhggicjijejbdjikjkkefeddigddfdgdbhgeidcebffhgfikkjhhdkjjkebekjbkbjdffdkgcddbihehfjgkfjekiiijhcbgbhegiccbikhjchdgcifjhkcffkfhkgjbbgcjdeehbcejeejifccjgiffcgiegigjccgeccbejfkbhbjbhfjbhkbdcdgjichkdjffjgffcbjbhkcjbcdckhdgkejdifhdbifcccbicedhcghhejjcjihfigcdfceccchicdieckkdkkibbjeedciifebdeigeficihifhbfbbjkjfddkceijeedcefhgfggbbdjhceihckjfdgjehbecfccfejgidhekeeihbdebhdjifdiejidbdchdkccbibdhbgjjjehdfckdkfdkkjkjhhdifjigkcikhdhdbbfjkhiecgkbgfedccedekjgfgdkbicjdjccfekhhbcfeedbfcdbfgbhgkeigcedfhchckjdbbgbfecbdihhbeigbcjgfbefdhifgdgbdegbcjjedkbdcgkfgdedggeccdjdeejedibeicichggjjbbieddggdhfgdbdgiehbkjkkkefggkiedkggebjfchdfhjdkkeehdhiihccdehhibibfffdbighjfdkfhhjegkdecbbkhfehiieficbcfegdgkeiiifdeibdhebdjcgbiebjegdbgkiefkcgkjiikhckfibicbdchibehdjdefihggggfkfhfiibejdgfkfkeegjcihdcjhgbejjjdddjdjijbjdkhbkckkfcbidhkdbjcfhkcjdfieeecfggjfjfbgjihbedigdgjeigkehgibfkciickjfhdekecdhhbjidfbfhchcijhgbhibfddbkcjbfbighdfgcgedebfheegheeggjcihhgfcbbehgfddhfgdjkhjkkfcebiekdggggcjkjfdiikbidgdkgbfgcbejiiikcjcgfgfgkehcdjekeddjcdeckkebckbbfjieehegkjhhkkdkjihhcddefckgdeebfjciffckbhcebgehfbhfgifkkkfkdjidgkikhckbcekfkddbhffekkcjkjcfkfijidgdedkekhdcihbfehceidkcdhbcihkiccjdicddgikhijigbchdcbbfbkefddjchfeecggdcgkgkfbjkdcfjbjdcbhfibbcdkhhcebccbbdddeegihdddbgikbbdhfkekhghhfeiejdfkgehcddekgbkdbcgbjggijghkfghibgegbgbiceeibegdedhicgiihjhhhggjccdfhkeiikjcjebjegeeiejgiiikifddkfcgijhkfjjdbcfeckcgddgifkchhhfggiegkgifefhkjejbkjfbjdidcghdjbghffigiiiibbkefickgbedjggbhikcbjdbdgjcdffckdkhgeddbdjbfdckhbeiddidfccehdedfchgcjegjbeddjhjikegkcddicgieihkkbhgfgedkidfeciheigcececjcfbkcjkfkjffeddbgbceiigbkfbfkgiehcefhkbjccdgijgeecbhceikekijhhjcckdjfgbegfcbhbidbkcbcjgbdcebdhfbdjcjdfifjecffkjgcfcdifdgegchekdfkbdkdkbhfjgdiigjdfegfgfgijigjggedgbhbhcikickkgkgbfbcfikiehgchiihfgcggcgfdcfhchkikejgkcccgkbfhcbjecifebjjkchiiicgcgdcecjkcekbkekedffbcfddbkiighjhhiedcbbhdedffcheeigeecfeckkdhkjbcdjccdceebgbbidehgijdbgcjbdbgjbgecfhbiedgggbhicfdkekejecejcbfdjhkcckgchfehihcecdgghfdbgcfhgekcfekghgijhhkhhhkbdhdgkcfkibcfchedkgebchiekfkijcebdgggceikjkcbibbeghfjgidkjddbdgcggdgffgjhjgdiccghkecifijgbdhbbccfgbekedgidkkghbkdkgjichekekjdeebiebkkfbdjcjcbkicdjdhhkigdcidcggcgekhedeicehdbcefdjgghdfgecdkebddcibgedfhdfgheikgikkkbcbegjgkdkfcghbkikfefibceecjjkgbeefckgfdjdcgfeijciecjeccdibcejgccfdfeeggiggcfhdkjhhhhgdhkdfebfkjfhdkckfcgicbbgchfcbdhffhbgbhghibfbccihbdjfgbckiehbebgbkekjhhfheebbbebkfiefjdfjihihegkddibikjheikbcdcegcjhcecgkhidjibgijkjcceekhgjifiieggbeceihbdhkdijjcegbhjgcejjgeggeggkdcgiibhfeicbbgicdcefdicfkjgidjkikgbkibebicfhgkgckifchjkiebecjbhfbdidbigekcieehjjjjbgiejjifcighidheikkgfdiiifgckijdgkdihdkfhefbehedjbfijbikkgfkcgdfhgdhkfghgkfjeegbcffcebifgkbgdhdcheehefdbddjekegffkkgcdgbbfecdghfkfcifkeffdeiihdiijiicdhbfjbfghbjbgjbdhjbgedgejdbhhikedfccfgdceigihkchkjbcjggdedkgdekhhjjbbkfcffifehgkcgkfibbggdhgbdkeckgejkbehjdkcdejhfgijbeekiccikkkhhffcicbieigkibbfjjbckihgfkieidfdicehecdbgkkbjeddjecfhfhcgdddhcigbefhchjkggcikickckjdbdekbdjbbefffhbididhcibbchdfijcjgebchcjkbfckdkccdfbifidejdggijghdceeeeegeikehgghccdcdiechigkegcdhcfjekgggjcfdkccggckcijedjbebggjjfefdeejfggeedecgjegefibichhcbfbihgkibkekgcjjgkdhbkkdfhbbfjciiiijfdijhcikiieehkbjjbhjbkhbjjjbiehhbhkgbidihdjkefdcifjheefgkikcighkegegdhjhijejbekgihekdbiejbfkbdgeehcejghcikekffbbbehdiejjhhgefkcfbbbfhgjdfdhhekfgdhcdffghhdgeegejcdjikgdhidhibghhbdbhgcbfbfbibibfffhjdjehfgifkjbcbeffijkhkgdcjhdffeifedkkejifjbbceffhbdefhghcbkecbcdbgckbghcciedcgihjijifeiccbkfijfccdjigfbkgiddgfdibbbheikjhccggjkgjkecebkiejffdfkibkfgegeidkecjihfejchhdjefieddfhhkgjbbcghdkjbdiiifkebjddbceggjhceihdjffifiggdidfdjchdbhcchhijhjhicdfihibbbigkchcjfkbejeghfkkbdccjjbjjfdjbdgeikdgcfffgghfieckdbfdfjdedibehgcjgiheiiekdkgkhbdkjbgcbdhbihcfkdkgkibbkecghehggdegkifjdibgjckkiicfihchhbhkedhghjkcifcekbbhbjkkechbhgebkecihbkgejjbdcejidbgcfdhgfigedjdgiebjjjcfeifhceegikifbbijeeijekfejihdhedkbgggjkdhchbgdegiiifchfigbbjkdbehkhkkhbgfhdebkbicfeggjjbdigdgcbhdkgcgjibkdjdjhbgeddgjjggckhkchijibfdffkdbfkekfcjedhggjegkdjdckcgjfefcehkeekccibjcgihcbkbkdkgkcfccegfcdddgfbkeefdgbhikfejjkhggkkdibdikchdjjjfhcfbhcfeihbbekkchgidbeiihjjcfdbkedfdkbijjfigbfdiiffgbighekfcjkdeiidficbibjjjhhgigjfbkgikcgegfhiiikiifdkgffdhkcihhgiehggkddjbgdbjbbciibgjgckgjichgbjjdcfbhbcgbekdiegjihhgjdfcieekjbfehhgkjbdehbicibifbdggjdeghfbjjegdjgbcfbgehifbjdkejifkijgjjhifkhbhjfdbejjcdebkihcgdkhkkkifdcifcbdfekhgdhhkcfhdghhckgkfffjkedkhjkkfckecediefgihdgdkecihfgdegichbfhjddgjfejihgicjkckhihighffgedhgcgiickjkeehieeddhihfedcfhgghiidibhfdfkigddgbkfejbdjkihghgfbjbkfcbkfdfeikchhbjehbbdhdhgkfgibdefcfcjgdjhjcegbddekeeidbibeggggciidkjdfbdfhbdbcgeebkikehjdjfdidjbjejfghjkfkiibbjeghfichdiegdkecggcfhgdkcigbgfbcickicccejkjffgebgcfgkbdhehkcigfcdgkcfebjfgbcffhdichkciifccgifkcgfbeedcgigjejhjckdhjgihiehchhbfceegdjfchhbeejhgbihfbhffghihghhihkijigfbkdkdkikigjkkiceffjeckbfifkeddfccbjbcbefekkdjcgedhfegkggdddfcjjifeehdejdjbikhbgigidfdjgfjgjhjckhiijkhjiecejdgbdhbcgjdiifeiebdghgeegdkbhkjgchhcbekbgbbhkhfebekgdikcjkekhdhkbfjebfbkbcdhjicieckidihfefcbeefkfhcbheebejiefffbjbbdkdgjjgcbiigijeiccekkcfikghbfjgdfhjdedichkgbigigficfjhikgegjdbhchggbicfgjfkicjhbchhdchdjjhciefffgccghhidifekijfkeieikkijfjjdjbjfdecgghjkjcebkcbkihckbhkgcjicehddggibdbkihdijiififkbiidkibcfgdeickiichhggjhijceibdcccdggekhiickchcceffhhhdfchfjckdcbdigfjeibdibidkfihjcfcifgdhjehjbbdfjegibbdcjgbefhchijhbbjgidccfcgcdebgeecbhkgcfgffdbdkfjifgkdbikdgebggfcfjjeccdhkkckfdedcdbkjhhehdfcdkcdeehhbfijiciccjeecddhfkkjfffhfikgjeggbdkdhedcbjfkcifibdkcgdcbcikcjfikkbikceedkjceebbcfbckebebehdecidggcjecbjhehfbcefihkhkhbjfgbhkjddifdkggeeihbfdehffdhjhebijgcgckbgbjdfkeiedfkijedfchckjfigifcegdjcihhkkdiihgiegcdgfihfdkdhfdfiehihfgididfjedfijehhcckbcdciikhggbfegkjbdegbfhbdkjhhcbkkfffcffggcbfickdkedbkfggegjgdckcjjfgifjecdggdbhfkighkebjjfhdbbiffefgecjjjjedjhefekiedkjcihjkhkefijeeiefddhcjkhbibehcickkcfgjkdkjhjfbjekkbdediceebjkiebekfkjkgfhdefiefkhbdfcfefkdhecicckbhjjjcebicgiehjkhcdghdbdifjcgkgcbbkjebibdbeegkkdhjckgbkhehikbgbkkhiiccecdhjfkbgjhgkgkfdhheiebjgcfhdijifhbbhigefdhkeffkfkgkiebgcfhfikgfefbjbhihgkegeigkchhggjbfdjcbedihiekekjbhgehikkkcjdigdkifbfckdhhggciidjcdhccjcghhigjfjghggkbhibffkcdedhgghddcgfjgkeeechdhkhgbjdhjedkfbjkedgfckhdgikkijfcfdkjfdjjfkfjcehkddhcdjcejiggfgcebcjgejgecjjdgjdckbhijgcgdgickgdddbibfdifiifgeejhcidfedhbfgghdbkekgfgcbcgkcggefbkidkgffceegbdieggggbekgkieghhhfhcjibfdejkkghfbhiibeghjdejdckjibhcghjeceiciebdhifffihidcccbgdfgfgjhghdjjfefhgfdikdhkdfhffgegcfbbikickkfecifhiecdijbcgfbkeefcciebffgkgekbeekhkgdgcbbecbdfegjfegkghhfgjfgiccfehkickccjfcchjjkkbijhbhiijjgdfdgcdgfbeecehgkbkbbhgihgickcfieikbcgchfgckehkdjhegjckidckjdjebbdijkkjbficckcfjdkickdchfcjchiecfhjkbkkbffbdckbckjghefbjjefdekdhefkkcekbbidhfhcbhbihkfehdchdihkihbjfbbhebbbibgjijfcfecigidfheeeddchgkbgbdcjjdkdcfigdcfhhkidchbccbgekefghjhgdjjjckfkgkckjdkefkdkdeddeehhifdfkhfgkjekkbjgdkegifjfjfchfeeedfkbffjhdihbjeffbfdihbhihicigdekeggdebghkfkckgifkjjjiejfdckkgbfeejfgdcibfbbeejchchffihgfefgfeggdkfibikcdkfejjkckceeijicdjfgebhejhedecfhjckgckhcdckgegdekffgecjfjefiegidcjkghffbbjhfccfjbgdbiidhifejigifgcddfhjcfkjfefhbiijdbheecfihbghjeggigkigfbchkfefhgkkffgebhhffbjgihhcjfdfegekdegfhifkihhgkjddhhbcjikbhhgdfjbgkjkkdchibeefjhhdbkhhdbkdffgeejhbhickhbdbkjhkcffddedjgfiihbiigehkbcgeeghgbchfbbgechjdfgjecicdeeggkeidgecjhecihgfbdgbkfkgebcdjicgfffckicbhfeeiefifgfbcegkjcffdkfcdcijhikjijidekcecbkidgdbfedfggcicfdeibjhgfjgijjkiigjkdgcgeibjdkkbefjdkbkcfkkgddkcedjghbdkddghgdjjfkifjhckkdejgibbbkdfbehihggbcckjgkkhbfekifeggcdjibfkdgcghikbihjhcbediibefkbdkdfdbcgejjcjkjedkfggiegjekfkbihhhkhkdhedigfejgghhefkghikjjbhkbdjdjhkjbgjfkfbbebidjghehhedhfdfjhckfedfefccbdjfcfcffbhkkkejkefjecgdjegjjcechcibkkkffdibebbgbdjchefbhkghhjdcfckicjdjjbcejhjkhcfcefhichbjghjcjfcikjhbchkidjecgdgeeiffkciehifkfkhechhgcieechjcgbkhbhbcigjjfbfcgehfkcjdgkicegjbhjeegidcfjjbhgkgccdbifcgfkeghkijbkkddeibicbgihiibeidfcdieeibcchjbheehfcffjhgdddbfhejfdhfchbjkhkfjfkfbjjfiedffhhebbfeihhhbghgfdkbghiffhjiiechbjiddhefbhffihbikcbijiikheffkdeikijejdjigfcgckhkfjejdddifhgbhceegedkgegjjdigjbehcdjdhffhegdhhkcfjjhfhhkghkjhfghhkkeghcdfgbfjkdddhkbigecchgffdkfifcidkfijgfgjejkkedjdbbhfjdgfdfjgheccbhedjcgbfbbcgjkfcbjkcjdficgfjjbcjbdjbkihdegijdidckccggdcgjkfgghjigkkhfkejjkgchkigkjjegigdgjikfijdikciecdgdjeefgjbeehibddddbidkfkcjibkehiebdhjigkbehhfckkfkbgeheejgekekidbfkkbdhdecfgbkghfkhghhdiebdcgekfkihfhddidjfifgbkhjfibdehcfkhdcihdfcdegjbjjghhiekijjbiibbheihhjekgighgbjjbdekjcgdfbcbihhdeghjjcifchdeicdckjjbjihijifibjkckedjikdhbbcdiebdkkkfghfhbhkehjhebbcdghcgdkjkhkkdbfjeiiecfcgekeifbghgghfejeebbebdieegeffkbfhkfcdgkkjkdjhfchcheigcbkjieekikfgjdfckdbfigcjhkcdfhjdjfcjkfjcddhdjdfgfebckhcjkhffkdcbhbkhekibbfcbkbigggcfeieifkhjkbchfigjhdgfcekjkdifcihbchkbdkjchceghbkceihejdfkfbkkfbghhiheghgikijggidhehddbbeihgfbggdhbhjjjhkhbbgbcggkjfkfjdekhijeckiedkebfjbdejbdbdhhbbkkbfhhhgdejegkgekdehkdcgcdhjikehddebkcbkjchdbcccckjfckjbfffccehkccgjckiijbbghkgjebffdjcddikfdgifkggfkkgkckgkibihbihdgfbdcbfdjbedjedjkfigjhkeggbggdkfkibbcbjbbifiedgfjjbdhcffegicihgebkkhfcjkkbccbdckeefikfiihfdfdekjggebibbefdcjhgcdfegcdbijgdikbdfhfdehdfkbkjbbijehihihkhbdceebhekicedcbkdjdigbhjjegficjkdbfkfbkkdckfkhgbbcdkiiijeidfigijhedgkdfdjekfhdgjjgihgcfjjheiceigifghceecfcjdefggedigecieefkhbjjgjjbideibhgcijhedkfcjkkjdfgdkkeichkfeibhbckbkdehhcbieckgkfeedjjihbdhdjdbbibhdigkdfdhfgjikhkbjjhgikckihjdefbgggiicjcfjhhkdfgdheghhejfjejgjefhiejjedbffigiicfjhkfddficcjbibieejbjdfjebbkejeiegjhkgkkhicdbeiehhidghiichdkdcgekghcfgjcbkiddiicdcdhgfigjfhccggfchkhjcgjbieefcgjecjdjfcbjcjgdeiejhchdicjkjibejgfdedjjfdkbkijkejkkkhhkfdifbeckdkgehcjjjhiedgbikcbgcbkkihbhhijggcijcidbicdhkkdhhjhfdchfecejfkgghigeihikifcefcbfddfkifeeggdgifhgkbcicbiiehdijhfbcjbfeihhjiidggkjcifebihechefjccjihedcjgkkbbbkkcdijbdcbffggikbdjebjebcfeccfhgbejfgfhhjhjgbhgcdeffhbifhkckfhjjgfhcjgbhffkgcgbdgicbifchjejcgifgbhcbjhfbhcfededhgkdcfhbkhkgegefijkiiegegbbebhfifceiidigdehgcihbchcigidejfkbjjefedckcfdejkbkhgegdbcgifkhghhcdecbjfgghkdgfiehcecckckijchikbfifdfhjiffbhediebhdechekebcjcgikbjijehfhdgihkhihbifikgdjfefdbfjfhfgkfjddjhjebiefhgffjedbdgkfdbdfgkhcfedkfijgdffkkcbcdghjjechjecgkdbcgfhhchdcbcjfkbieidgfbcfcfeihdkhiheegkecbkfefibdfiikkicggjbcjhhbdbcbcikckeegggbgjijcikbdekhhkkgbfbgjfhcefgfkjdjidjfheegggecdggkihbjjefkjccjbfjhegfkkhkiedicgccfhkjkcjigdbkhgkgcgekfecbbecigcfdjiehiikkhjgibckjdgidebcdhfbdgbdchjjdebkeiegcdbhiiegkibbdbcgkjdeickdcckhbjbkfgdhdegffghbggikihiicedkebhdbhiehkekkhhhdikhdggihgdkkhgfjejfgicfdhfkfdcbghfhekbjdegebihghifgkfcjcebeibdkggdhbbebgijefeecfdgfjfgjhhcdiibbdfebegdkdbiediiggdhebfchjejeihdbjihhdfedffieejejdhdfgfhkegeidihifgdjfdfgceghjfjhdckhbgefigkhbejjeiibgggigccgbhhkeegjecgbeibbbdiccjjcfgcdffcjckekihfdiijhcgfgeedecfdefkgibcbehgejbjgccbjheciikfdgibjggkihiefcddijedgfkfhbdbcibkkjcgehbikijkdeiggdcbjbdfhkkifeigdehbjjbiihkcgbkgcfhkccbidckdhcfckfgfhkdckfeehbfjdekgdihkjgbgijebebbbkhffkdjfcbhehhcgbfbdikdijegggijebhdehhhkcghccdjjegekggiefjehbfdkbbhfkijidkjjfhiehfffdhgbkdgkhcdecegfhkkfhjjhbkdhifbfcfjijjhjgibkijhdghbhkecigebccjkccfjedeiegkgifbfeiideffgekbbcifcfjkkkcdjihegjdkcddcdjbjhhgicdehhebicjdhgcbcjdidgfbkdjjchihjdkjjjfdhhfjidbjjdjkdkcdbfibhijfgbcbcckhjjhecikdfegffcefddjkifjkbkghbbjhcehgcfjfgfkdghdeehjcgggihfhceikhdfibfdccefbbedjidhkbeffkbkbfgikghfegheehicddkchjdbgcibgkdikcbegbhgijcihkigbfidfkfifibifkcbjghjdfkfkjfijgbedchjcigkfhiggfbgehhgcbgdbgficbhkiehhgeieijjfkhcdifgkkbgfjdhidkjjfekeibbffkfkbgdjkbfibckdkhjehjekkfhbjeehihhdegidhihdcdhcgedfkbjieccbijihegbkgbckhhbgcjbhgdjbecgfieicggejidkcggkecgfcgdgfbdigkiffbjgdieifdiifdjcffkbdgcccjfkcidbkjkdkifgjdjgjjbkdiiddhfkdhhdkjdecbbddejcdkkhkgdfbbjhifggdkgkgkbbjgdibgkfkjdebbgfhcidjfgdhfhcbcchddhdgijfhejjeceieeibdfhcihjheeegdhgifhbjgfbjkkckhcbbgjfidfjckjdejehcgfffdkbjjbbjgfghcbbeddjkibiffffbigieicijchidhkhebcchfcikciidiibegfcgcjfhihbkkheifhkgfcehhfbjecjihdieebeheejeihcchejgkbfefjgghkccjkcidbjghcibkfficddbejgjkbgiejgikheiejdhfefhciheeegjkggddggiifddcihcihbbddikeijgkbiggfddihcgefdjhbfceeficechikggkikigkfejfikibbckdjfbbchkkfbbbkfbffgcjccjihddbffdchjdhiikkfgkecgjggjikfdbdfckddbjeecjgckddbdjifbkhbcickhfcjekchefieffhkjfhgggbkifbfhdekjdicfdcbkihjdiikeigjgiggbcjdiigdcfikjdhfihjidkdikbjccbiidikeieddkihgjcfbggeecidcijcbikeiiejeekhhcgbfjghijdceggikebjjccchjkhijdcihkcggckfkhdcckbjjechfbcfcifjekfgkjeekjehdgegeebjfdbjgfkccjidegigcfeeibgiigdfdkejgfibdeckjbbhijdjfkdcddijbbkdchjccbdiikbdhkjgbjjdjgkfbkckjbejigkgfhedejdedicccickebejfjgbiegffgfdekcbkchcdgihhkbchgdkjhdhkeeefibecfiiegddbbjhejbfbefdehfedikjcdcekkcgdkjecdcbdhhhddhgkejjfehjghbfbkjjiikejcfbgjckfgekccebfbieffegjkkbdbjeiefejgcidciddgjjgkdkijkcijgcgebddijggbegffgfbkdekfdkhcbgbffjjdbfijfckcfekfdckgdjikjdebdifddigijhkkjfkcjiiihigfcecbbdijhfchhcgjgdhgjcidfbegjbkkdcfddkhbfdfihegcfckgdgghfefdecgkfgejdhbggffkchghecdhdciekjjckifgcifhfbbicbiediedghikfbijcfihckbkkdjbjhfjgbfkbbdecckieifjbkccjefjeijdecgkgdbihdgfiefhfifdcjgkcikcggceedhcfibgkhdjjghicdkbbcffibjcbgdckdkidggkfgkhffgikhjcdkkgbbbgbhifgfhdfedjhdibgijjjhehkfbcbgedfikhjhfbkejbhhfchbhbkijckhdjheheihdecfkcjhehheeehifhdibejkbdikfghifkijjdffjbfbchhedgijkjgdjjhchcjdhhfbjhbfjbhfkhckhikijiihhieegcdbbkjjhfijdghgdjhhkecefhkkhcbbhdhkhkghbbgdhikccgjgeddgecicekjejefbjdhbidfcbfcedggdkiiddiibbdgfbjfbibbgjjecgbfbhhjbgejggfjgbhjdkccbjbhbhkhfechicdjkjgfjbheebegijedfijjkgijgicckfdkcecefbdbcjjekijbjfkcfbikchjbiikkdjckdbdcjjghjkkcbdciehdhjjbciefgcbhgdbfgekhikfcbfgbdckididifbfcjkkjhcbjdiicgbijjdeeffebkgkfjgkcigjcbkfkgccifegckkdgihkbdkghbcjbjkdkicfibjbkfjefjcbeeicebgbcfjhhkkkbieikgdjddjfedfikdjihcbejdffibbcfiekdhjjdfhfjdedfcciiibbjfhhbeckfeddgedgjheeckihfdhhdjkjkbjdhifebekedgjhckfbcejejehgkdhgddjebfhcehghhjhikfgjjdbbbgdkkicicigbicdjdejhekiikkddjgfeefgcjkiejigfdjgkhekjgfihhhkceiifbjgcbbegkigbfefjdddekfchfbgjhefhikkfgjgihekcckejicbjhfdjcecbhkihjihjbdkjgfckbijkigcjbihjebdhicikbffgcejdifjgjhkecghffdhfbgkgkdfdfkgjkgbkcibfbgbccjkfedhdcejebfjcicchcdgegggbjgfjgbdkcfgghehfiiejdbdcgfhcfkigkehckkbbcdjjfikfcghgfjedhifickikegkjfjidbceeffeedbjcgkhigidbfeidbfgekedjhfhhbihdckieegfgdkgcfhhbkcgebhfibdhcekjiichghbbkgjkedjccgfifficcjfcgjkkhkdijcecchhgcgjkkgieijhfigdehiikckidkijibgggbcdjceckedgbkgeikkjicjdcbiekbgbbjdgechkhjiiggifbdgbihdfcgdkbcgcejiibcgkfjgfeiehfjddbfbifjefgkbjdgibjjdcegfbhdkbiifckeijfiegkjfekdckjfjjigdfecihikfjdcbdkcckgjfkdffbbhghdhiejdihgeijhbffeggiehehghffeikgijcfechcgkihjjedcdhchjkfcikhbjebfcdccgkhjbjigfheciefbejgbiddjbgkfkhhbbefidikbjhdkhdfjjdgejkjgfbicddbjkdddihghgejckfhgigiccechbckbdbiijjhbdfbgdfigjdegkcjgfhgjfgijcfkcifjhkjjghcbibeggkikkjkbbcgejidhhkgjdhhgekggbfejijgbgdecfdjgccgefjdigfbdihjebjfgfjfhdchekdghbjcjbkejbkjchedkkiciecgccgdhbjejhjdebjbiccjidgbfjcigkbgdeikkhhdejcfhjddcegfcdgibgkjgfhecgbfbfggihedgihfdbbegfehdkghjgcgecfidgicgjcibeibijjjkkdicijcbjebdeehhfdfdiihigidgjhkhkegjggdfbdhfebbfjchiieebjfigehgjbcfkddcicfiigbkhghjkifbibdigigccgbdkkjkhkejgggehcbibjfeigfgdddfbfefhbhdhigbhdfbhebhdhdjhebjbjfbdccfeegkfffebhjgcjgkjfijegefhgifjfbcgfckgdkdhfhbdhkhbeikfhbfhkfbidbhgjeggdegkeidckfdebhdbhkjkcfgjjkejcgbkcefhghibghhcgkbdhiiefekikfgkfhfgjejbcieckkjgikjcfdbhgciggdidehkbcbbhiijgdcifdkhiddefibiiedhkhfgjkcbhgfkfhgjdbhgifgkhgfecjkeejegkfcekkgdhdigkgkggdcdifcbfchhgikjbkcdggeffbhiffjdieiigdkefjeiddcifegghkgdheecgekjjiedjdhiifeiehegfccjfbkjcehefbbfjfgbckhjcfgekbdbkdgkjbdefikhbgjbkdkgfdecjcfdhdhjhjhhbddebjckbijiigffbjeekeccekbikckbiidikkhckgbkdjfjcheccjkibhkhkbcjccbbckegjjdgfbcgejicghbkjbjhhibfkbjhfjcdcchfgggidbheieiehgdcgdchbbdfehjgedjhkjkhkbibcdgjdfbihfdihfjdekdejedbjfbccggfgjfghhcekjgebicdcghdghjddkfjhhgggjhgjbbgcfbehfgkehfcijkcjigiebfbkkdjijegihccfkhffdbhecebkkdehgkedfghfbfcededkdhihidfjcjfjbfhkfdhgjebdcjkfeejhbcfddbeiebcgfghkieeibkcecbecijggcgifcfhbedickfcdigbdjbfdifjidfhehgckdfeiifjbcgeigfidcgiigeicibibhkhfiifdcbeggkfigchkdbicchekifdecbdfffheegfffhcdjegefdfhdhdicgdfbggdikjefgiddhgkedhgiikifffkgkedefebehekdceccekdhdjkihghjdjbchcigkkdkbejfdgghkijjbbehfcjggdjhgifcieicbdifhdkdgbfeekfhehgjhgfgffkccjeekdghegjdkhcbbkkeceefifedhhgggfjkiiccfggchfefefbeciihhhekkghgjjjkbifkhkfehbgbdigggkkjjeffidgehhcbfddhckegjbbkjbgfdbfggjigbegdhfegdjhccdbhdbejidhefeibfkccjeefkbdchffghfbbkijfejgjhkkdhfjfeigegjbgijehbgfhdgigeckgkfggcdcfjgdgbjbgjdgfjbejjdbidfhefeibefigkchghdjiefhkeejjbkecgdkkddefcbfijgfefgeceekjjhjccdidjikjfjgekbiddddfhhgjehejfekekfikfhcfibjfkdfgkbjkcfidhfieccfcibfebkffgfbbgekkbdibicffjeiikgkkeffekbkfighijfkbbikgbgifefbeejkbjjdkfehgihbfghhkjbihbjbhcejbdhhjgddiedifidhiffcdjhjhddckeibdkdkhbhigkfdcifgechhccjieicgbdkjbeebfjgechkkhjkjhjfbgkdgibdjhbchihhccbgickibejkjfdfdchdifhhhdfhidkekcfgbiecdgkdkecghhhgchedgegbdfkhekigbggjdjedkkhfgbdejghbdkdcjgdefckhjghcjhihbchgcfhcgcijffccdkgdbbcjddhdiihfijjchbfiejdejgcgjbkfcefigcekfjccfgjegbdbfidjkfdcfkfijfgihhddhcddjjbbikcjdhikdfbjkfijchhjgcffkhdhedifekgfkkhhbjdkdfjegjcjbjdbghegkjcjfddcchjgfcbchfbghegjddjgcfbfkcgkefkkbehcfjifhkddjbehhjcdfkgeckbhikddfeheiigdchhfbdfbfkhfkeeiekfjcjbijdjeehbgdejbdcecbgcfhdfgbjkghcbjcfikjkeeicihbifcdccbckcefgbhbdbgkiicjfkcjjibgcbkbbjfbdkfedhccbfdjhfhffbhjchidhikehiijcfhikbchjebijedbkehjiidbgckcdibbkheeffjkhjkbhcgediijikkbdcccbkekgkeehjjdckckcfcejkjeeicfhdiifgcecdkidhghcghhejijddcdeekhhfjikgjehdjbfheekjegjddjdhehbcihjgfedhgeegibcjbdhjghbdhjkgbcgedkbfegcjkecikbkehjefkkffiihiebkhegdegefdibdjgjeffbgkbcdihdebcjgejhiihdfdjgeibgdbgijdicdkjjkbgghgjgffdgjhdbhhcebegfdecekgcifcgcjcbkeihehfcjgfbhgccjfefcdkhjhdecbkfkkkfgifgjgihdkkbjhcjkffiibckgfehfegjjgdjbfihigkjiiecegfkbhckjfekhcikgcchefhjkbjekcfkfkebdfihihkfhcgebeedjicedcdcibbeedggdgdiekfdjfecdbijcckgikiefgbdkbebgkedcdjhdidfiihkeeefchejhbbijjdhfchdhekfibfkdcigigdhkbbgfhihcebkgiiefeiggfdbkjggjgdhfcjgkkjdfdhddefibehcgbdihjcjdjkchjgghgbjecjkhjdeidibifekhekkjhcddekifkehjdfikgjiiceijhgjceibbdkhgggkkkhkdegfgfgfddgfhegjjcgbjicfiehibgdkdgicfhggfcghefbghdkdfkdikccffhcffjgjkccgebcebgfkjffbegbgbgkkgegeifhbkkeeigkfcekfbbhedjfefgcgfbhiddgibhggicgjgdekjkhjciedfekgikbcgbgcjgjhhcifdckeehcdkhgfkfeeckdcdgkkddkcdkbgcbjckkcccejddgiekdkgidkgjfdekegjdffcbbbdefhhbiegkcfbeecfeihhdbekkdkeckigedkcijbcgiiegjgejiihhkhkkecgkedikcffdekdgjikfeeikeifidbjdkfhdgijjbkcgkjciccchcdchbibkcdkcjhdgigijbfdgdbggecgddeiefbghbkcfkhfjfigkebkckdcbjdfifdjfgkjgkfgdbdgjicjdbieikkdfhgjbkbhbijghicddkbbjffhkibfibebfgkebjhjkjijjiddgjhfhjfifkedjhbjjbdebggcdbhhidicdbcijgiibfebkdihdfgegkjhcefccdicfjiejjjbdffeiiehjhbgikhjidecbfffcibjfejjdcjebfhcehiidhbddkfjeibfkgikgiebckkiijgfcgickfdikkfhbbbcgkekdfgeikijcdefhgggbhikdjkjgcbfejgjgdkcefhdfgfjcgkdhgiihbfgkkegkhjgfgdcekicggkffbdkfkkebjbkkfhgbibjeigcbbkdbikdddegcbkhikfebkhhebdjhdjibjjhdbeikihcbggfgcbgjdcddgjkbigkjeikeicjceggcebjhibhccfbbhebbfefehdckfkbgdebiibbjjjjcccjcjikehechdkigjiebfcbkkkkhbdbikhdgddkcefbkdbikechhdkghfigiefjbjcdeiebfjbhidifidffcgfekjbeghgchhfkijifidddbggfjhhfkghejgcbdkbkggffgccjfifdkgjddfkjfhkckcbbjjbffjebhggkjckjjebdbdgihdgigefjffjcfegkibdedhhhbkcejjcedhkkiickccfjfdejbhekkghgkkggeekjkegekbgkbefhidehhejghcigiijgkkdbdidicgfejckkhddcfhkbdfkcjfgibkdkhfcccifhhdcdbgihkjhffjgbhcdhkbffjfeecihhkfkhjiidkgjdbjcjefehgibhchjkdhiccjbdjgjhbkjkkbhceecjckihdgkiggecigdfedbbjjhigcjkfdiebdcfifieicifbdjhhgcicccjecfkhikkbedfbefehfjjicdjbgkhfdkbdeehjddfdjdckdichdgjickegckehkejikkcdjigdkefkiggjcbkcdefchjfejefcegbgbeiiegiibhjchcckbkgkefifkcfhhdgecdeiebhcdikiffjikcdcikcggghckiddchiiebbkegdffcdgcikchidihjdgeegdigbckigfgfgfedckkkccchdhjjgbgbejbegckhggdehjibgihdgbjgcichhfhjbgejecjgikdfdgiekhbhjjidjkecjjefieibfdejckfibbbeechfkjjhgkfbijfjkehbedeffeddcfegbehdgfichehgefedjcbbgjfhcjkkcehedcfkfhdjhedfihbdhgjbjhbefhbidbikfjccffgjfcfjjefbhidhekehkdhfeieeefefhicbcchdeccigefeejccjcfbghdcjgfeedkifcbfdbfcffbjiehcjcighfdbdkdfejjcjidkhkdbjcfgcdccccifgckdkdiiicihhhkkhbjejdfejbdkgdckfbigejgkbgkgdkjkgbkekcecfcfikicicchkbdefeceigkbbddidcgjjkjcjhhckjbijbjekdedijgcgbhkeijbhggddhjbijfhihdhckdfhibdccdgjffjbckhfdgfkgcbbidbihdcfkcdebdbhbheibciieidkcgehejfgfhhijffbjjhdkjkecbhjeigicbckegcdcdjbefjeihkecjdeidcfkkdkjjgchdjibjcgheihcehcjdfebjichbkkgeijhjfebgfhckhggiedbbifjjfkhkkbhjidhfjfgbddcgfdjedhjicgjhgbcghjggchcibfehcgbfkffdcejehbckkccgicjcdehfebjggcfcdckdjcbhhhiccjdiebhkbgfckegkibjhdhgbkfjhkhkfjfhbcdgdfiidfgjjecekgcbiggdghjidgbdjjeeedfihjbhehjejeikejbkbhdbidgdikecdhfkedgfjhkbkgcjdbebbjfgbcbeghghcgbhckbbhdhdbjhbkhkiieihgfcgjgcghkkefehhdidbkjecfceiecedjgfeeekhjfjdkigfjehgjhbccjdbegjiicjibeeejkikjghhfhgjkekjhdckgkfjhbdhgfbccbdceghebcicjdfdbgdjcgidbkiccihfbjiccfbbbkkkfgdceeickigbjkhdjbijdfgifhikdkcfhejhhgkjhedbfgjihfbeddekjdcgkfbbbegkkegkhedihbjdfhfdedjeehfgghdhffkgkdcdiifcicbjgdkjhkiegfbefkhjfihbhgikkgfjedcbdkbhjgghkbkgejeidhbckjhdbibbhbfebeiiifhdhjdebecekgkggdbcjckfbddhcbdekhcjeeiikhihdgejiffjbckhjdbffdcikdkjgfhjhdhfbkkcjchfkbkjhcekjkkhjkbgfekffedkbibhfiejdffiicidbhibbdkhdccbhfcbbkghdggheeeggfckjhgbhkbgijkcdhhiehggkihkbdgckhhhekgghfihfhdecfgjhjfjjjfgefhjjjdjgedbjkhjbgehgdjjhikgbkedkefiiidjhhcgibcffgfhcbfhdebickcigfhifeejcedhiheifkjjgfjfighedkhkbkdbbfdjfbckgcgdibggcejiebhhjdjdkkjjheiddfbeekkdgdkeibhhgdfgkkddkcdckiigjdjeikdekchekgikehhddghgbgbjgfcebiggbbfgjhiifdhjdfkeeegkfgddfcbhfdbdgiiekgbkffbhijgjdheddggcddjbibhebdfchjkbhgbcfgecdhkcdcjcehikhcffgebhkkdfbdghecdebbfeejcdehkgibfhiekjcckgdbfehdeegjhfcihgkghkcfhjgdhfdfhbhbcfeckfiifjddfegbbeeekhgdhdihjkdghccbbkcgjdidjjkbeiekhikkhefehicbckkffebekdcckdfdeijbfehekgcbkcgijiccigeeibhdcjkcjjeihghbkbfickdjibgiccjieikiccjjdjjhfidkeekjkdkgffehfccbdkciecifgigdgkfidfhhhhcbdikihfeekidbjfjieedhhfjbdggcihkifeibfhgjfhdhecfeebdkdjfkedjbbdbjefkiijhhgkjgkdfkjkjigifdcefhbfecgchehbibfkekfdigjghbjbcgchhfeghegehjigjekdfdjhikikgcgkjhckiecgjhchheeghjjbeibiddhjfkdejcfideecfhbhdjghiicdbkiheehfkijeibhfhiegdkgekegcdhbkecccccheiiekkckdeibfcgjcbbhcjddkkdchfhhiebjkgdjhfidbhkkbjcjbikkgbbdjjjbjekjgjgkchhfcdcdihkbkicebcjehchehighkifdccgbefcchkjjibjkefjehehjdfbkhieebijeidhhkgbdhhfkcjcjhgfkfebeegfdhjehhdgbcgkddccdfghbeibhegfjidfjcbkbibbeccjgkgedeegbbjfkiiiihfkbjbiikibdhccdgbjbjdhfifddjehdcfehbbbbcgbbfbechbhefhfekihecfhkhcjhehgdchjgbbghcihhhejghikkjfkjicgjkgdkfigdickebcgcdbgekjigijbhfdcfgbihbbfdgbgidikecdkijidjcchccbgfeihhggjicbkfbbgfifbhiibkieebcfkkddhbckddgcbbhkkifbgbegegiddkbdcikgdjbibdjfbijgddjggfjhhdihcfchbjfhcdgekgdieddgfbjdfifbekdcgihkgfkhfhedceegekhfbbfcgeccjhkjeebbdkbbkcbggicidjgigbfjkffggehbehfehccckifcdeeidechbhkhbchihjiihhecefbkbbhkjihhfijdfhkcijdbbghejfbcjheckcbddhjbchgekhjhjkfchhgfbkejdjfhegibgibibcgdedbjbkbeggchbdehccgkbdjegkkihcijhbdiffikjkbdkidbcdifgcbkghkckdgbjhhkfkkbejjkcjdcbhfgkijgkkiggjjhkejjhbgkejdfedeebckiddbkefcgjddfegdedjjiiigdfjkeckkedeffddbhikhbhdfkejbcdfbjehegkhbbffjjedbkeijfeddjcbgkekcgjeiceicfeiijfbgfebdgjjidkeijbbkhcbigbiekjcjjgchdbhkdhidgjiieiihgdgjfehbedgcjfhifeckihgheebjjhjefbgckfjeekjgjbkhfegdfbkbjededehcijjdhdfciehhhihkecfjhejibccecceidecjfhcbjgjjkjedjekdbkhhgfcdcbdbgigcefhbggijekibckjecbfhkhdgfgchbgbehighbijgfiiifhhjkcfhfdifffhghdhiehbdgcdfkigbigedbbfiigebjjkcgkhgdbiihbbbdhekgifjkiikedgkcfcdehbgbfbdcbjibhkbkkifedejfedhcidfdkdkfjgekdbjdfjjgkhjekfieceefgbhhgficjijckjbhfgbcjcefkjjgjdegjghfbjkcdefecbfdibiheidfcbbcfbbcifeibigekdjgehkhfcbcchjdgddkchidkbchfgifefcjjeeccfgkihkjebbikdchfdhhjcihdbhhchhjecejkfecegkbbfjfcgebifkddkihcckbkecjkfebbbegffejdcgebihbkhjkhggiekbhbcjeggccigegbjcejjbdcehjehdgdihhgfkdbeickbedbhhihfdhfjjcdkcgidgcbikkdggfcigbhefejfhgicbhfbjeeheddcbgikdikkfekdifekhckkbcjehekdcbgbffeggjkgfjdbbbckgcegcicbjgedfkgcicgjjfjkbgeffkcbfcbefddckikjbibdjjkhbjfdcggjgbeckhhijibfjdhecfikfhjecfijhjiikggbkdkgjcbibhghfdcikjfhbggbkckkkfgfejikekkegebkdjiibehgbidccgbihdedihbcfighfegekbddgegkjfdbbgbjbdjdkbcbjkkhdicjeffkkjfbjdekifdiheeffeechkiddcedhifbbjdgfkcdkddbjhfcikdjbefbgekdcgfebfidffcigecdcgjjjghbfkkbgjbjdkbkghbjfccckdifcbjcbdhejgkibccdjcgihjdfcjibgickcdcbccbicjfcdggicgfkikiejiejbijbjkiedfhihgcdbkiedhkdgegkegkkihbfjcicbhikfidbbjjgekbhhkigihcgkkhfjgcdjdcbkckckjjhffkgjhkbiiiiiccdbkedidbcfgejbffgdigbfcfjjcbhjhjgbbhkbiiidkfjebjekdhcedfekfdihdckcfegbkcghfjgibbkbkghhhdhicfhcdjgkkbcbgefgkbbifgeeejejbedbbikjfkbkhgfcekhicekdhdjhfccfkccjbdcibhfedbbhkbibgighicheicbgebjiijieebfdfgieijdkgkbedifcbkbdidgkdcehjeggkfjgiffdgdhkfhefcjbefijbcihjfjcikjcebbjkjcghhjjbgjigdghjdebhgbbefghbddifbkfcdhcfbjjjkbdieekjhhijjikchkkehjfgbcbdekcchhdbfiefkihhdeicfkjhkbkhfdchdgjdhccfijkebdfbhkjfdijdcggikbhdcibgbfgehhbciddecjbhihebcfehhcffiejgbikdkfchfekidkkhdihkhekfbjiedbhgdibibkjbkjfdjbdkcbiecgbecebeckjdkgbkicichbgibegidjjgebijbkfbkccijbdecedciiieicebkkcfbcgcceecbchciijdidbbbgdgbjbgihgdcjfdibhbfkfkgcjddfgkedbiekiijegdjdgcdcfdfheihdkehfgkbjbchhhfhgbfhjfhgjgghdebkjbefhjjkbejbjjebgbebcjdgbbjbdhffiekdkgkfigcikbichekjhgbcccdebhbibcchhcbfgddjegicbbdbghfjikjhibjejgbjjkbddkhfjdjgbhbjieefbkfkjfgcieijeckgjjhcjcjkjjgddccbdgdkdcjihfcgeieidecbbhjffibcefbdfdddgibhjeifjbgecidchjfghfhijjfcidjkcdhhbihfddhibiecdjfdkdcgcfggcjekjgigkcgfgicifbhdihhbjfhihhgijghbbkcgdffdffediiidgkdijhecikbhjbkkgbdhkfkgjfebbfcgbbbijedifhhfjiihijfjjifhhfekkebgjheeeiihckjbfgheifdehcicjcbkeigjgidjbgfihfcjdiiddfkgckbfegijiejhfddkheifhhfbcdkiegcbgbjjfhbbbbffbkkkdeijkhddgjckgifkecfebfcifggedjhkbiieidhjdbfekcbciciejjbkjfdidekjebgddcehifkgfjcbigckfjjcfdcbfchdjjgieiihkijgjeghbhgedhejhjkbdeehifjdbchkghhgfkgjbecgiecihbibecgjjjiikgifcjkdjihfjfhiiddgdcikeechdcgccgkbbidjkecikhjdejcbeecjiibfeekdbjdgbchbfiiijcbeifhigkibijgbfcichhcjcggbifdfbfbhfhfjgjhhikhkggibdkedheigekhjdcjjgijdfhdbifhfejhgebfggkegkfggkcbdegkbiffbbigfkifheikggfkejhcebfdkhfhcijkhfiijfhkeehdckhkbedfgcbcbgdjeebbdkhcihgjcbjbbegeecdecgfcdecihijdkdgiikcckdjedkiiiddfcckjhjikjhecbiedgbeigkdfijdeddjjkhffgkjdkbcihfffiehdiiiecefcghcdfhekfefhdcecekhfihghgicjcgbgkkihijjddbedfdicfddkbdecieiggdeibkekijcjjcgdcbbebghhjffkkdgggcjbcccjccekiedjcjgejejcigcjbkkhkkbghicekehbjcbihcijjfghfkfbiijbkbhkhbkihhgbcgdehbegeihdkkjgbdkefkdddjgfedekgcjigkkckcfefgcickjddbicjfdkjijkghdikdjkgbhgchheifffcdihfjdgbdegbghkeecdfdhgbcibkjiggbdiideidejfdfbbedbhhiiedccgjbcgihjbhdjjhcfhidcdkcicgcjcgjjbcdgibgbebjegjkfkjegkbbkicfiifebjjebibcgbgdikbihgdebffjcekhfffdicheggicihhhdhdechhdjgeeedkjifcfgbebjhhbbdbehhbcehihgdffjjekkhcdhjeheebbbbfkiicdfgfikjggeckfdigkhhicgehgjdidbgdgkijcebejebhbjcjjbkckiiikbciccdjbcfbjgbgfkcfeijhbdbfffdjkhikijbdgddhkkchbegjbjighdhfjebghcjhikbkifbefjhffcgfjkjfcicbkkbgiggfdfefhcfjjhdfhjeeddijhidikchchkejjbcfegkgdbfijdibdefhdeegjbeefhggbfkdghfbhdfgjeccibedcjkijgkkhdkdicicddkhekdjkcffgiejchfbcidkgckfdfhcjdkikgckkcidedkgbejfidgcgibhjgggjgjcbdfedkcgjkhbhfiikicfkddeeegkjkkfdcgbhggfjfkjkkddehjbiikkjihhebkkbdccjjeibgjhiebbjeijdfejbihegkgffcihdgbgikhghfgfkfhbeefhejikfcfbjcjchkijiefgcjggjfeibkfbejhbekhfhedfdkffjfdhicdbckjdcjjhgcjgcccckffieecechfdbjjdfecdkdhhechfchkcfcegbkffcckgjbkbfhfgifhchfcfddbgeecfiiigdebchbdieggjejdfhjekjdfjgcbjfekkjickggbbdkdjiihekebhdhiihjhckififbckcekjgjefjdhkdekcdjbcidjheccdfkgjkegbfdjgchibggkibkeicjhhbkihkeckihhkdedgfggfcgeddjbfebcehkgigjdkegidhffeggecdjcdfbfjgieccigkigijbejjkbffekjcgcdecfihdjdhfkgeeedkjbfdeikfbjgicgjbeecfeicgdcfkidbjjicdfdjfcihdhfidjbkjhegccgihdeijjcicicjcjfddkfddkbfibihijbhcbhjbbieeibgghbbfhebefjgejdcegehfgfkdgeihkgegdhiddjhbgecjgddejjefchijfhekcjhkgbcihidjccehfiiecfbjbichdbkcfeggehbhecbhbckhdbhdegfejehjedjcjkhfgfckdbkfbeiddekekbejhfffddiijbfdcifkgjbkgdfjfjdegdehjfbhcfgcfbcfkkcdeeijdkhibjjbdihdjdgdjbjijedbddcidikjgjjjhejejighbkikcccjfhjjgcdfjcihcbdbiijegbjdifkgbhkckgbgeghdicggfkdbcchebdefgiighehhdfkiehhkgkeciijedcbheedbehbdjceebbefbfeikbjfjhebikgjdjegffeiigggidijkcghehefbhkdkigjdfccjdfchhffihkijddhccichkhefhhhcdkgechfkbggighdkhkhbihgdbcidiffjjjhhbiddkcccecibfjdckdgkkekjikfkbkgffffeheijeckkkccjfjccgcgcebbfhhbccjjjfkcefckceddkgikdbihjjbgfkbgbibdbgdkggideigcbdchkekeefjedgebefehikfdigdijihdibhbcjjkiekdfcjkfkifjgedddiefkkhkbhhdhdegkhgffbbjghdfgkkkddcedhbgcfekeifejjjkhffkjjbihgehjbjehdbkgedffhicbccfcbfekehkjbchddddcifhgcidbecdfidbkbibhbgkeekdkggbhjjfddjcdcbhjkhbhifehfkhkkdkcfeicfiefdddjjgfikikhifkedecjjidhkgjkeedcjiiiibdkcidiigggfjbcgkiihgjjgjhcciiffifjddedcfichhjhbbhhbjggjgjghghgfchekgikcjfdckciihddkdehjkcfifkcbfckbibebbkfgcgbiefcegfikifieebijgceeejffgkdehhgkfdbdgjkhieeedghiiicfcdhejidhkcjkegehekebjgkbjhhiekhijikgefbjikdkjkjkkjdgihcijjjhkcfbdgbkfggdgggfhdjbkbeghdijddjjgdkiehieghijgeibgfgibiefkhdjedjcibkbjbhfecefjbdffdhjhgfchdcgfhhfkkfgjijidbcdcejeieidiekhbkejjekihbkibcdbgideijciiiififhhkecdccbbcjdgefkcjkhbhijggicdghjdejicbfddjjeijedechjcddiijbhifigbkkedhbjgkefbfcbegcfkikfehkgdejicegckcdcigbkekgiihbkjhghghdhdgegcgffeffbigjghbkbijjdcefbckeedkkddcceidkgekecjkhggkgfdicfbfbbcekjifehihfcdjbkbkgfiiceeegihbdgfbkckdfbdkhdjifjhdfhckdgijghgbgkkcgcgjfjgjifhehdhkdggegbgjcchjkjgicefjhcbdkbdbgfhfcjhkdcggcfjdhgfbiefieefhebhggdkhhjbcjfdhedfgfkdhfkidedfcdgidjekfkdfggiibjjgkdgbhbeddkgefkijikhegdfbdcjhgdijeeibcfccckcijcfdgdehhffbcfcekdighfkdfgijcbegedcfhghecjdbcddicefebjfifjdikkhjbjgbidcddhecfjkbeihkjfkikcgeffhcfheehkcbjbkiijfdfefggefkighehdijckfhhgcfgchhdbfhebjdgcdkcdbgfdhkcbcidjjkebdhihicegcckjfcihjfccdcjihhhffkjfejfchbfdijekffdgdjhhjfikidhhidhdfggbhhbjhfebcihkiiijcdkhehgihcijdbdbgjjfjejfidekjjijjfbghhikjhdebkdcbiffbbickgfickkchejhkhjhfhbhhiggkfckghgigidfkggbgfefhfdckfjhjjhkjgdfigcbcdkdgejfciejhdbgcebjjcfggjbcibhfjfbchcieefjcjjkdhihbeediihcjdihgiegbhbfhihdfbhbbbdgdehgkdiifhgbfikhgihjgbibbfgkhccceccdgjdfbkifefjgjfjeijjjhebfhidciccibfebbkjhhchdejjejcbkdgckbhkhfjkhcgecbjjchcfjhbkghgjffcbhjfeffebjfhbjcgdbkbiegdjggdhkhfhfheccbcfhchhkibeichhbkgfhhbggcfkbekjigddcfckghhccdchedkieheddfhkghibfddgijkeekgjfejfkjeghjbdggibbbdbjifghcfgidefgddcbeejddfjjhkhfghbckecbdcfhkejicjbhdkfejideebjjbdkbhfbbkjiggekcfbehgidjkfegckcjkgibcghcfjkihhjkjbbkfhijdefhkjgiccicgegdgkkhfcffkedecjgdifbejhhbhdfjeicfejjckcdijefjgggkgdjbhiegdkkbdhbbgjcekfdjgdikgeiffbhhibgeggkcigkfbcfcgdheekeijkfekjcbcdigbdbbfhfcfdighhjjbhkghkchdbbjicgjikjjjbefijdjkbffejcidjdfkbfebfkgdgeihekchcjkfhiffebejfckcjjekkehckkjhhicejhcdccdcdiehdkjjhhegbejghdgkgighfbcdfbifjkhbggikjfkhekdhckkfkciiihgekegichjckgjdhjfhfkgfijickgfbcdifkkebdgikgjiiifgfeigfdchheeekjegjdjjbigfjjjhhhijhidjjjcdfecefcgcijgjichdcbddcidddcdeecijfdfeiebijfchbkhbdgfddcdjjjidfiejiiekgbfjdejjcdbikcgdgigjdkihdfgkgjggdehbfjjcdfjkkdbcbfbkccijkkegkihkidedchcfkbfeibdijffcefhgdcjchdkfjggcdijjihfhhicfefhibbchdhfkdjgkikibgiihkbfcdekidjjjjeiekdijgekbjcdgekhighijhddibjcgecjdfbcfgckefjekjdhjcgicdkcchibeefighfhfkjjdhjeckhcjefbdhkicejhhjbdgfkddciidhhddigjehbggfgfgdckkiibegdkcjjicbffddgfhfihkekjghghjeigdejfkdkekidhfdefhfghdbiedbhcjifijdjbikhcgikfibigfgddebeiddecjkiiffdejcgkhkdhchdgihjcidecfhjckjfkhefkdehighecghebcckdkcbgeedhjdejhbfjfcfhcfjhdhfhccjgfdgcbcibckjcgkbkbghcehekdigbhicjjhfbijhecehckifbefiikcgehehcdikjbbegdejiijekiehibbfkhiicibhfdefkiddfdiejgfcbgddchgifgjgehjgceidhfekfcikddiekkdbiidigkbdfeeijekbbcheghekbicffcfhjfkdkcbdekckbfefcciiggcedhhbhkeehhbkbkedcekkjcjbkcfbfigihicgfckigigffehfchjbhdchdfciijejkigibfhjkbghdjekkegeikgdjghgfkkdchdkhigbjbedbkbikjbebgcfffhgbfffbegbkfdfjfkcgkkbeiihibedgbebbjjdfkbkfjjjcigcbccfedbgckbbdggfgidghjgkcehkcbikbeejgcghbfjgfgijiffigcdcdkijbcbejkkhhccekkidcghcgiedkecchkbfkbjhkihcbkibchcecbigbchfkhkchdckkidbeehhjefcikihbbggdfccbeggjbhjhcbdbbiifejdejkfjbbijgfhehhibhihfhgdkkecbgefkbhkkddbkfjdkfbkchgjgggikhgggjgjckhfidfheddjfggbdiihbjefbigkegffcikjfefhbghcfkdjkkjjjhfjdhiecffdkgehghkejkbickbcgjhihchihikjjebicggbceggjfkkbhjjkdgdkjhckjdcjkebchgkeihhhkhkggcbccfbjckdjiiiihebbkfkddhfbekffcjffggffegbedcbbcedchieghccikkgekeceehfebcfefbddekhhebgfkedjfeejkfbjhdghihkikhifijjjjebkcijbikekgkkcejkicicdkbbbhchdfbgdggeidefihdjfhifebjhgcckbiicbkejcidbcgkcfdhbieghhcdkefcegjfcjgcciijhbccddbcibkjdhhdjgfkfefcjecgcchhjfijfcijkjcbgkjjdefdfbeddihcidiifigggkcdeciecikdigkdbcikcgdejeijjcckebekbcedibbgkeehebjecdcccbbbijcecejkjkkgicghfikeccggggbekcjcjkbjhhjfbjhhbjiddgkkfghdhciecebfeidkkeieffcdbgfibbihffhhkjihkgjdkdhifcbjbjkhcjhfcccghjgcfecbekhccjhkijfbchiifgdiiejhbbcbcegfdedccebkfcjeikebgkidgbckdcehkgfdkggbbeebfhkebhedbckghdjhccjbgkbhjeddjeeiccjhbjkidkfbcebckggdfgdfbcigidgjjiibhdeehhjffigbcfiigeebckijjhjgbdbcicbjjfddfccjgdidkkgjccbdidhchihgckefgjfdicedeegdckdfikbkgghidhdhhddecbgkgfigbecghgfihfjjkibekbdgjbbdjdfbfdjidibkhgkchidbfgfchgkjbbgbeghjdjbbjbjheecbbjkfbgdgecdihidfikeegjedfecedbhjkdhigbdffbcedgkhkfjhkibjkgibdhbbejfjdfbbgejkcedcdgbdcedfeibdkiecdhhckkefkbffdghbddeikcjbfeijekdbegkkgbgchhkbjfbihkghhgebkkebdeeihkigecbhdbgkkckkdiiddfefkjgeeecfcgjbcigbkkdbkdjdfkgdkcgijbefdjiheejefcbeehejdfhbgekekgkhcdhbejdddcgeeijdjcfeicbedffkeeedbkhhkegedhiciiekidgdcihkhkfkeigjbebhkgiedcidgbjekgcgcjbfkiihefcegdbcjiibfgkigkdffcccijdfhddhdigcjjijhddgikejekcgjfjbiejebhjbeihgjjechekhkggfjbcbgicibhcbhiijkbecdfjcbhekhkikjekkkbeghgjgikcbfgkchhgbfchgggfekckifcfjeciedecbbhbfbdeigggibhgbgkidekcchggkkihidfjefjjgfhjjhckjehfggdchjfjckbfhbeggjiiifbeegeeejiihgggbdedeifbbijcfbgbghjehdcefekbfkjcbcbicfiebigkejchkkgkfbjjikcckcdggcjjbhdjdfchcbkhddhedhhcifiekcidfefifddhdeffifkjdkgdefjkghgbdcijhjihjcfgbkkdicjbdibhfgkgbdkdjhbhicdbhkikgihdedgbebdfhbdbibhebjfkkegfchjidkkhheecggebfciikfkdbjbfgkgcgciefijgefiechhicdfbcehikdhefcfffhifjegkhcjejgjigjchjdcihgcgddgcdibffekgffjeijfidckhehggdjfhgfjekkddfkgbjgihkdbbhikbcbddiiccebcfidjhdhhikgdkjehdjchfijkcjgcgjhkifbhikbbhfdedfjideeigbigjeciegbebjcbigekcdkcgijghidbehhjdieekggbgcjcjddejikdciebejibdgijeikeedchkcfcdhfgbehgfdedfckghkdejkghcjcgechfkcgehjfidddfebiebjkffegjjbcdbgkhggekidjjjfghhfigjeccdbkcbkcddbgbefkckgeejjjgckdihdddifkcbfdibgchgcjdbdffgkfgfjjjiccbjjiekhibehgehicdghfcicgddehiikikfkgifieccdgkkhfkghcjkgjihbebdjkghkejdbiekejhgbkikbdkdiedjhbjfkdcgfcbehebehekjgjjcieffibdbgbfcejcedbjkghjdcdfkgcegkbbbgdfbfkibeckhiikcdbkdcggcfceebfgbccjgfcigchgbkhccjibgffhgfhikebdkfjkbjjfdhkhfehkgggiifjfjfkcbgikghbgkcgifjkjkjbgijheehgcjibcbfhgjifdefbjgfdfjdjkhdfkiiidicidgbefbkjffjegjkcecdfhkgfijfijhjhfjhjigifhfhjighidhcjkggkdgibidejdfghcdhehcfjjjbkgcikhhbgbfkdeghjkjhkdbchchchfbcgbgdgfjijbbjichhghgekikcfihcfcbkfbeeekjjkdddbkebegddfhfghgjiihbieccecgfjdjehfcehdkhhedbedjfebjhgjiffbjhhikkkcjfhfgdcidfijbcfhkhcijebbjhhdfibdbdgiecjdgbcbcbccdhjeekbccdbekgjdihjbekehghicckdegckbibdjdbfbgifikjbgiiccjkdkhibejfccbfciebgkkkhgbdbihhhcdhdgdbcbgekjdicbcgfcfddjgcghkebkihbekfedbddccjdedgiejdgbhbbjcfeejfehgbffejdfheikgbkgdikhkbfkigkieidffjhedkccfhegeddjfddhghkcibkeciekdckicfbbjcgijijhgkhgcdfckkhgjfkjkjjfgcgjeiekehbbibegihcccdbhcbbkejebjheigjkceefchhfhjkkjeekjckcekkicceheiiekigbjiidhidfccgcjddkbijdheccghbehbbghkcjeefegeekjcedjckfiidejjcdkihkjbhcjjcdddkfceejdicgkbjjhkhedihjcikihhbgehjfghgcigkdhebehgkbjehjdfdidjiejkjkgfhkijhdbhgfkjckfkejikiebjdfgegcjikjedjebkbdkdkgjjjfjbchjgbejhdjiihkikghgkciegjgdhiekfidckcegikddbgfgjbececihkjchbcbkbhhifbcgfgdddgdjjbbigeggeigdefjfjbdbjbfjchjgbeebjdikkfikbiebifhbegegfghkjjdckkbfbfbjkjdfcbfhfgekdgkgfchjgbkbjdihehhcihbfidjejfecfgkkbcghihfdgbbhhdeehgdhebcgbcbbdddhgkijifddfgfebggifjkjfkbifijejddjgdbdfghfghdgigbkfhddbgdgjbkedjbjbicifehhgiiigbjjiddhbgjbdciekbibhkjedhfkkkgikdeckfecbdkkcdjffbhekdddigdfgejgbidbhdcgdhjbfcgihgdidgihbjjihcfiebfkfkfcbfjfbkdhbefgcbdfkighikhjdekebbjcbkbkkejeigedgegjhfcikfekhgkcchhhehibcbegihhkbcjdfjefjdbecbdfjkibdhckbefkifjjjegggicfghehbjghifekhkgbkeegbhkchdjejjhdfhjdehbbcffhfehhjgdheccfbjbejhikgfbfhddiiekfdhfhhcgehcdkhgdcehcfbdkdhgcfbbghidjckghkeccbddjgcddegcghdbjeggckkjjfdghfikekchcbeeeddkfjdcideggkhjccbkgkbigkfdbkbehedijbceggjfdkhkbhjicjgjbjgdbjgkidcfdgcgifedjjjdbkcdjcgcfcibigdfkjhbcbkiechfibcibdffedhjehifjgkekekkjcibkfeddkdhjcfeifdfccikggjfcjkhchjbehhbeiehbehkgekebdbijhkdkebbehhecfebefbgbiifeebgdffieciifjjifcbeddjbibegfdgffkbdbfbdifcjekehkghigkejcbiddjjcckkdkjchkfdgjdhjfihckecbfgggjhbgdbbidcjbfidjccdecjbebfbkbghhcbgddfegkkkhefbcfgcgfkjkckfihggfijeckkbgcikkckedbhfiebbcfeehdbihbchdfgdchhcjkhjkgbckhbcdfeijdjicbjghhgckgjbkbhdgbekefdbiikhdcdchidkbkbejdckbekkfdeeekbdieejdgbbjjedkefhdeihghkcfbkieejdcggecjhickddjkbdjbccghkhjcijkiefedidbecdbbhdeccjchfgejcifhcbcfcjfdjeikegggdhehdfchchbkfcfgjikficbdbjiidejcdbejfkjcdffdjhiggjbcdggccjjffgeddbkbhghccckefffcgjhdcjegdkchiiceibdiiibidchfcdkfighkhjebejchhjbgkededbehdgdehjhfgdfddccbcchegcdkkihhkgifidjdhfgcgfcciddjjchccfjbhjfkfejjbgekkbffdhjeckichdihfgigjfbhkibhchfeghkchbgiieekdikebidbcfifbibdcejgegbfjhfcedefbikkikfdiiijhjggbfbdidbkeicdjhefcfbkjcicgfhgjifgjefbehbdghbkgjfkedkffkbcdcgiigcdkekccjjgdjgcjicjhedcidicdgckeeebchcfdjkfggehhjkcbcdgcfkccjcighejghjgiifhkjehccidbjkiebgghdhhdkkjfcfdghegkfgiddijfkjiidkhkfcgdeekjfkfbjkfebbfjikhhfjfhjegeidhfdkfkhkcfjibfhfegfkfbfdhbeeecgdhcckbhefjfbidchjhkjhbibbffececjbfgcgjghigjckhcbehjhbhhbhjcjikhjekcfgggdebjkdhkjgkefbhbgihhkhijikibjdifikhkbdkjicibhdbhdebcchghbkgkidifbfidkgcddeidjiicccjikfidgegkhdddfkikghheiebbhedcjehjkgcigkeefjhkdbhbeigjfbdgfkgkhfdbfgbeijbjiijhgjijhjdcjdfefbdgjkhjjcfbhibjdfbkhdjkcdcbkcdiiieffcgeefbfhejfcckhckbgeikkiihbcgdjcfkikdbhbgfjgijfbihfgeebfbedgechcdbcfcbefedgiiheckfckdhccjggfbhgdigjjekjjbehfcieifdibcejcfkfbdijdikckcgijdehhgdjebhebhcicjckdibkcdbficdejghckieikdjhhcggejbjjchiggkcbjdkgigcijefjkgjbdfhhbgbhgkfhjjkehcbiehdeiiigdgifgdekfcdcfecegjjecjdcgddffhefjeghhebbfkbbhjiekcdjjgbkdceihekidjebbheghcdehkcejccikfkidjdkhfdbggcdkibikdjgjcjbekekdgebkcffjdcfekebfbgdegidicffcdiiicbedckekjdjfkejdjffeecgjeigbkgkebhdjhddfdbkkfhfcchdbfgjgggcibjdfehedfiecejcgkcbciijefkgbiedgkbijidbjibbijfjjhdecjcbggeejcckfehhfjffhbckkehijkkeibbdggkfjiegfecebijjbgfcckickbeibfbhhidgjcfkehjhdjiiffdejbcjdjkdcfhfgkedcgbebjiegedjcjkcekjihfffhdkdkgjbgbhkkbbckhfcieifkdghchbdcjdhfegdbjhiedbghccifgjkkigjfcdfigjecjhefdcfdkcdgjgfkjbficgfbcdfjgefeecikjcbheeecibfbkcbkgbbigkkjghhijcgbbjghgbhkbiicebkgbhhfjhcdejdgjfdhigfebekfjeiiejbkjfkcekcjdkghikgibbggbgciihfdcccdkhhdidciikcjidfjjfehchjbjbcedgkhifikedjdigfbegkbihgdkfhdhjbgjfkdcgidhjeegkkcifegdjfhihchdidhdifidicggbechfjjhbijfkehjebjkgjbdgechbhkdekkcfdkehfhihegcbjcfijfcddhgifdibbejebkdhfchekkhbhghhhjhbcbkejjgdekfkifcdbfjieieghfbcibjiekeigdikbffehjdjjbkcceikffkekdecikehfgdbfjhfegbejdcijegdceekgicjgddbcdjcdhedekcihdbbhgijdgbfjigfcgkkkhejkdfceifkhjihbfkebfhiidkcicfjehegjchdkidikfebjhfddbeckeigfbihcddkgihdfeedkjkccgbjecdbgehcckgkbkfibbkibjghgdhhddhijcchjbjcbckjiehefkjbcehijfdhjekcicefchibdikcbjchfijjdgbbiefkjcebggbhddkidjjifdkdgeckhibiggjjbfjchfhbhfegcidejcjijcceedckficcghjfdhkhfhheggbdgeeefbgdbejcbdgkjfdfjgckhdcjehfjgddhecgfgikbkghjefeichhgfekkehigddighhekkfgbdbffecdfjididkihceddkcdebfgbdhfbhikjkifhidekcibbgicjfdekgcibehbedbjbdgeikjddebedgfffijfegdbgicbhbikehjkbgjdkggjgbijjfcdidddbcebkcddgejjjbcicfdkjibcifgkdhkffiiiijcbjeibddfhijedkfecikcgeigbefiedgfjddkkdkddchikgjkgcecbebjcgihkihbeheffgkcffbjekgbecefkiggdjkehfjkccgcjkefhdhjiideifjfjdchfgkdgcgigfdhbceifgkekighffdggbikfhbbkkhdekihkgckfhjcgebhhcbgeciidjbjecjdgdhbbbhjebechhfjfehiijchfbkjgbikebbgjdkfcdegekihkdbkbkjeebbgheedbefeefeeieckeeghicckjdehjbhiechcccfgeckigkgjkjhekkkeiikdfiidecfjchdkdbbkcfhcbgejbkdjccjchgjecbibgjbgdcgkcfebfbgdegcedbcdikfdckbdijjdecfjdfgfjchdgbdgikehkhgdiefijkbfgjiidcdgckggkcicgbjbjebbjiiegfeghddhdhifhfhffddgcjdjdffhebekgkffbjhgddbcjhgbggifcjifhcgidkbffkiickjibeidhkbjdgjhbeffkjdjkkibheekfbckhgcikjbdkkehecfbhdbhekbdcegdhidjgkjiikkkhhigbjicbifjgjdjkdfbfbegkjcfbkgcfjhkfbdbdbjgeeijidfbffddecehdbbgkccdiggikbcgeehckcfkkdfbegcjidfbggkidhgkhhegcfebbcjhjdgedjfgigickkhgdcdhkjckkikdgbghkbgkjbgeidkjjfjcfhdfkbdcjiidcdfdgebfkedcecebbedekichkicddhhgghkcfebjgejcfebgfefbdjbijjdffiibjdgebjdibebibbgkjjbikbbbgbigehdcfcjjkgdijjffjgjdcffkdgigiikfbjkgkgdgfcbkfkchejkgijkgfiihchhcdibgedejcjjicfekhgdkdikdikjbdcjckgiiigdkfdideeibeddefecjbigfiieiikcckfhgejddkfhjfdbiffbdcehcgdhkifbckbfjbjjjkgfigkdjgkfjjdgggghdhbihfdkfbcbffedjkjcckijjgdckbhijkbejjebiefdcgfjkecbifihkbhggfhcdfdedkbcbkcfhbjkdcikkekceggdchkjjhcdhcbcbdgjejigfkigikgdibigichcfcfbejceeehbikedcbdfdgbfdciidcfijgghcbkjbfgkkkgckficeedibibhgccghiibhkjhgkckjbjfcdkbfdgcidiekeijiccgeighbjgdkdeijicikeegcbcjhecibgebkheckhegkcbgfeddffkbhkffbgjdkhhjgfiffficcideegbcigdcbgfieefccbdghbcdfbkbgbdjdgkikhhhhkkiebkjecgdkbdeehbcijcfdhcdekefbejbgghedeekfhbdhbbkigjhjeefchjkeckdhhjfkdecegfeckifhhckgdicjbdkcbjgdkcdbefefgeedkcfdheiecijkbfdghebkcikdhkidkddebfjffbgdbejedbbcijdkkfkfjiehkcejgdgjiffhjdhbdhedccicgbdijhjgicbbhgiekdgdfbceddcdbeggiikbjdkgfcgdffgjgbbgckkhjikffkjeebbdhjcdejifkcchdfccbiigkjhihecfiefgiegbddkhkfbicfbchcbfibeceedccgdfgcbgjfjdkghihiidfibchgidceiecgibkcijfdiekceddgdidecgdijckkdjfdkggidcgbjgjgdhdbchkidgeieifhcggdkhcbgbkjgbdgdkhibdbddckhjkgjikjhejdfgihdidiffdbcefjjfiigegihcdeidfdhfbfcchhjkebjfdbbehfdfefekkgejfifhgjjfbdehffcejjkkkeigedjefgcededfbkdkcfkjbbebjbdgkeekkhjkijjkkgigjkiibbeddgfdbbkdjffefdfbeigbijbeddedehjkbdejjdihdfdiejgjchghibicgbdedfiihkfeijcggjkghjdffgdehccdkkfdhgdcjjfiigefefjkfdfeiijcfikihkhddejhkbjickfjdijbiffgjjbbfgfcfkdhhhdfbhcgcckbcbdfkidhhccifbegikbihbdcfhfhcifdbeicjgecfegkfkfdchhebghgdfdddfdigbhgecfkjdgbkjgcididigckbcikhkdkecheebkfbcjfffbjbccijecbkdijidjgckechjgefdjjbikjhfddhbjgbcdkbhhhfdfjbfjejhhbbiefhbgkkbgkcfbgigbcjcjbkddjebbicdbbdhdhkfgkkffkkfkiiidcggechcjffeejhdjbekkebfjdjdgghkjdbbhfeifjcbgbjbcjfgeeihebjkkekbijgjecejjcegjdcebkecehgjekbbeggfeedbjdfffjhchdjkjkhifkdhjcbdikchegjebgiegjhegfcfikijjkjkeefgbjfjcigkjeifkfdfdkjbjhigegckckdegeehbkeehkdiebbcichcjkhidjhgehkhhbhggjjfjkfcceggdbjeegbihkigdffjdfjhhefhfdeehcijdcgghkehchjebbeffcdbjghfifkfiefkfcgfbbjfhfcgekghbgjdekjgfcbghkdbekhfckfgfbkkbggbehgkihkjcckkkkhhffijfchgeckbikjhcjcdkdfegfhikddhcjckghjdfidedgiefkhggdefigkbjbkhbjhcddkejjiegejkfdkbbdgkjghhbdhjbfhcjjiedefdikdjkghhfgigedjeeeigbcdfjkgiehciikfhfgkgcbdkihcfbkcgekeheeigdciggcbikiigchgkebfefiijhgfbjgfghekdfighidebckhjbkfbfkbihdbgbkgdhckgfdgdijjdihjdcebjcjcfdejbkjcjekcbhfjckdjkjcehkibccjhdeibjcbeicghkgdibfecfdckcicdjiebedggefcdcfbfjediicgdbgbcfedieejdbbkgcekhchjhccfbicgbgkghekdikebdigebbifgcekjchkiehbcekechjekhkfcjhccgkeihkifegdekcjehgkjcbedhdjfbcjggbbjbdcjgkfcjbgkjefkdjehefdgjkfbdcbjgjbbgidjkhhecdkjgeghkcgfdbhibhdehcbekjkechiikbgfghieihikdccbikijidbbbjjcdbchedgebijkffhcikjbifbgicdbgbdgjfchdhfjbgjdcbdihcikhbeegfghgdcgbccdefifjjfcjfefdehbiekgcikfhfcijhjdcdcbkjihkjdfhhhhjcejjgfkfjdfeifjkecfhcicfdbehgddgfkhfggdbihhbeddikidebijgbceiidejeikcibfcfgckbeicdgjkbkeeiikbehcjffhjhheigkdcejfggjgkheihcdhhjggcfgifchfdhgkfjjkhgghjkjdeiffghjhdbbjbcehbkifdcejhbbbdehecbffkcidcghcjcbdkefjhekdjfheekgdbefiehkdkdejcbdgcicieikihhecdkhdfcfdjjjegejbihjhbbcefejfjhjjhhjbejbefbccghfgfifkjbjiffjhkbkcfhhffgfddigdjbjegcdbeddbfhfkekgfhejgbdgiffgedibbdjcjjbjhdeckihekdjhhfgdhedfibgdhbkbeficffgbjjdfdejfkkcdefhdgcikecekhjbhhjgdhikhkdiehibgcgbbkhckbbjcjjdfbfedjihkbjcbggbgjgbceicdeedcdfeghbbkhckhjicfegiekegjjhjjhgjjekihcdbcidgfijggfekjfjjibccdkbjkfdbdihfbggbikigibcgffgghdgjbgedeefjdihhbekbbcjjkfjcgfbjckdcjgbgejdgkhfkdeicfgjehjkfjkckfkedcihihjghcbeiighkdehihggbkcgdhcjgkjcgccjfebcbkkgdfbhdjgkhedfhibifcfbidihfkjfbgebbchgfibcfkegjhgcfgeejjfdeikhkbgdcjihgfgddgkhjjcfdbbdciedjkdcbckcjgdgfccbkjkechgjbkbdcgkcicbgcekgkehchhgejhgbfdhhdcbfdgfebgbcfeccbfjdehhckjhbbecgbgidhjkbhgbhhkdhicjbgbijcidjcfbhfcchcjejecjkjedffgfbgffhidccgjcjcfdfbhfdgjhhbkkhekediiigjbgfebfbddgjbeifhcihehdkfjjgiekkdcjkgkdjhkbfhbgekeehdfjhifjikebfchkbkifbhkdcgfkcdhbcbgfeffbdghgffcfkhicbggffeifkegbffckjgdcghkdhhfbdgccjjgikgkkgicjbijkgbdbgckjjdkkedffjhdeicbkhejiidgidefgkedeheefkdigfdefcfhikhjdifjikhjfdfhjbckjgfdggeekfddcjiidiedekjghehedgcfihghhhjeiccbifkjjjchjhedeicggcifchiegecfhffjkhgdghdbfedhhgjihfgicijfhkicfkbkjkfikgffbhbdifjibdecbkecbhigeehbhiickkjbkfgfddjgdbhebejigecgjikjdhighbhfibjhjfdjhjidfdcghffjbkeddjbfhfgbieddkgcdgkgjciccjgcbcedbijbkigdcgckegkcjekdghdcddjbggecdceibhjkihihgdkfbfedbcefihjcbgbfgdcbdkbbbbfigbbehkkiihjjifecihfgiccfkjkjhhegehkidhfjdkbekdhjekidcbbcdjefhchcbcbfjjjbbciiijcgfecbibcfbehkdejgeebgkfeikgedkffjdiciibdkdcfcbccgkihhjiibkdieikfdcfehgegbeedcbcjjcfkdcdhjffbbchchjffeihiejhjeekiggdeidgcebeihjkcfbgiichdidkehkjcebdeeihbgiekjfgchbbhjicigfcjbhebjhjccbibhebdgbbkhigdcgkkkceebfieeifbhefeefegegbffdfdbkjgjjfidkjgjdbkhiiikbkhfjdjbbehfkdbhgcecbfchjhjhcjckcbcdcigcbbggdjhebdbgcbkkhfddijbggiikcdkkgfjefehdkbcchifbdcficdjehbhijfibiiiieehhhfdiedjccgifjcbdjhjfgcicikehfbifdjkhfedijdigkeifjefgkgjkdhjcdijijdkgecihijbfieighficbcedfkdefjddfchhjcciibbjgbhjbickfechdekifkiccccihkfikdihcjhkiiikidbhfekgkehbdbbefihhhbijehhjdfjiecegiehbbdcheidihkkefbjihibkckbfhbcfikbbiddjkcjfkgdejjjbkeegjcdjkhjihfehgccfjcgfbecdfikhgciebbfhbbhdeideddfkkcjikbfjgcjcbgdddgdfijegicddeigffkkejhiiiiebecedeeeiefbbfjegfbickjdgghfjehkbidigdjkhgcfegjdfkhdjfhddjfgihdefjkfbcfjeficdkhhkdjcbbfijkbdhkbbkdjgbfikdicibkjijibfdfceefjciidkfbcigkjbbfcjgibichbeijcfdihhicfkkfbdkjejikgjceijccdgkehccjcfjdjikjbjghjhcjibbgjbedeegchffecihkfjbidckfckdgijcfcihkhhhjbkgdcgkdgehifefbcgdbdehkgihjiggebdfkcibhhddbdbfbchbdbfdhfgchkekfdcccefcdhgchijegdgigbgecgfgfccegeifejbcgeibijcidgecgfbedbbieihbfjdjehghejkieiefjihghckedfcgdeedfffjkcdhgckjgdgdihfibikjikiccdeiehegkbcdficfgfbckchjkgicckifcjdjhefgiehbdgkijijhiedhjekjcdchkdhcekcfbkfidhkdgiejighejcjbgbkjecgcjfgdfikdhcjhkhfjcjdkicijibkhbjcjdibijiecfhbgkbbhefchdggbkciddkikfdjgdieeghccjkhkjceiijdiffhdkehcjcgdccbcdefckgdjikjbkkidgeidgjkbhccdgbbdfiehibfjeifkhihkhgfgecjjfdkdhbifiicigbggickdhgiigfjkkkbiiddedejcgeeieebchdhggjdjjjcihbgebjfgddfceggfbjcffcfkhfjdcchbibdkdgjdcbgjcccgjikecibfhkiifjihdbkfhdbjjkekieeicghfejibkibijgdfjbfkddkebkbkeggfbefkgidckfcbbgebkiibieidhebcfdhjbkjbjfiddicbekdjjihdhefjdiehjidkfkheeehidggjkkecckkcdgkdejbgdgffkhjcdikbkhdjcidfccgfdbbifckhhbichjhkfdgkfeefkcffkcgffdjhkcgeigbjkhjddjhfbbfkbjechdgkkibbffkfdchbihchgkjjfidbekghjkhdbgihddgcdifcfjfjcicehkgdkfceggjhghdehbdbkcekidhjhjeeehhgkidejfiejgdcfhbgccdfkdhehdbhkkccejgfcifdcgibjehhgedfgfhecjfhfhkkebfbgfjcjffbegkjechbkicjckijchdcdkkccbfcfdhidjidihhhgikffhdcccbbbjdjcgjhhbfcefgcfebdkhbhjjcfigficfgfchikccgdiidghgbjfcbkejchegfeeidkgeffhigkiihbbkhbfibhfffjibgdcieeckediedbhckhckfgkkjcgcfhfhbbjkjgdcigcbgbgfegdfjcfiibfeefcbdhcfefdgcccghggehkfghgfeigbkdceeccddbbjibhgcidgegjhchkgjiicefekechckfchedijhfieifgdjehhdfhebkihfefgecbijhgihfbkhbikjffcjgedfkgdeegdhijgedfedkcjfebccdeicdhhdhcickjgcgjbieejejdcdedgiejbdeiffgfhigidfebdffchhchffdfjhhbedjdhkdihkkidkdegfdehfkfehcgbccekijjfecbekbcdbkhjigejkhfcfbgfigcdfhjcefbjcijjgfkhihfeicegbbegfickjechehjbhbdjfkifekfbiekbjjfbdjcbkcjiicikhiikbjhgkdciibdckckddbggbjkbchcedikkfefkkciifcihkkidjffcgifedfedkecchhbgdgbjcfgidcckdjcibekddejciejikidjdbdkibjdiegdjikjejfkbhbfidhhckhkehibgiiiebgbhijcjifijgkdfbjkdidgkedgdbdjibekidcfdjfigchkdifddfjikjdgbgickedjghjidjedjkhjdgjfdikcffgcbgjjfbgkhgckdhejfghibgefcjjcddcbhbfihcickeeckdckcjickggfikhbbfjdkcjgekgfbijieecfdgkekhbihjgbgbgiejdgcfhgjbdiiifbhfdigchkjehbbihjfgifkfkhkcjffejbkdifeifgheieedckdiefbjgchjdgghedggihjjcccgfdcccbiedchfhfifjdbkcicfgkfidfghbidhkfcdkhjdfgcehgdgkgfjjbjjiecccgbcgfcejfdcfhcjihfiekfegkkgdijchffckhcfgebkeccchcbgebdbbegkkjgfdbkcfddbgbfbighcfhbdibfekiickihbjhhekdecjcdhhedgebeejdfcgicfeebgjikbdbchkidgjbgfcddjckekdkgeghegfecbkjgggdhiebiijhhjjchkejkfhjgfbgbfgfebeghcccibcbjgdcbhbeihgfbjcdhffckghhccjkchkkjjdijcdfkbgkkbbefbhdfgbgecbecgbbhfcccfeijcbiggibbkdkecbkkjigiijibdfbcbkggbjikjdbcbciggcbckdbdbcbdjjjjkihidhkdbebedhgfggdkibfckifkifhbdbkhbbgidjckjghedgfjidhdjkehgbjkdbdcbhjicecffheihkdidgciiibdhddkbcdhhjfbgjiikbdbihiccdjjdfiighbggjjdchcbbidhfbgcejdikdeieeddjdcbjfkhifddbhdeckffgihffgdhidbigdgdikchkkdidbkjfeidkehchejgbjkjgegkfjcgggjhfbdiifcebhcifgegbgcedgjghefhigjbcgjgdbbkhchjdkgfedigjjgdkcdedbfgjjkibkbgdfdkbbdbbicehbfkficbebibciekjibfdkhcicgbcgccikkkgekcccfcbdcbkjjdfeefbeeffigfkeccebfidhhehhibdhcciejfbekebfchijijbcicfgdebjikbhcfhkbfgffihebffcbbggdkjbejfgccffidjccekdhfhdggkhgjfjhcbcfchhiikgdkjbhhkkdfbgebifhgkffjekckcceehgdghhckkdjgjfijbgbgckkdeegeccehbdicjhchbdigfkebjdbbffdjkcefkgecdedideegbgheeecjbgcchifkfkiidhehicdeffchhkdjckkfdgcfgdbccciebihdicjcjkihbgjdceeeidhkeehdkgegheffkcjfjkhgbbeeehjiejkfddgfcjeekgbegekikebchkedhejfeefeeddkghigjhccfkgjkdkgchbjjcichjkjjfdihdjbfbeekjbkbfjggiejijdickcjjggkhckdcbkijhhcjkdjhdedghghddifbbigccjkebkbcikfkdgfdfjbjgickfdbibkiejdchegeebdbjfcibhjibicjfhedhjdbfdffcdkigckkbkdkkkfgdikgecbjdjgeicdfjhejkjfbbhifhbdebgceceicikigkicijbdhdkkhjgjjbccefkbffhhgkeikjcgjjhcjcikdffdghhhjgfjdeekhihgkgedfbjbiigefijhbdjghdkcjkikjedibffgkkhdecefhehkeedihggeekeccdbkekggjijkefdhjhjbeggekheieiifbfkgjcbikcbbdeicfdbcgkjdcibbefgifiikgdfbididegibbfigjeigbijifcbidfhcbgeiejcdchiigkkdeghggifdkgbdhfhcdbihhkdjfcdfghhbdggikfbechdfggikjkccechfjhefhdgggkdehbheejjkcfidhefbjfghkbhgdkgikdiijbkeicjcckiibegghbiichhibekghciebfgdggjdibfgfdbhfdiheeicfikffhcfbfcfgkdigjdhhbjiiedjcbhehihiegecfdfchbkcidhijbecjigijhehjkhdbgjihbbcffijhkgjbkgcjggkkgehccbjhfjhfcgjdjjcjbggdgdkedicbhdbcgdkjbbiceedikhgbdcdkcdhcecedffgekhbghighhikeiibdfhgcgigbcheejekdeedfidjccfkkjdchddhdejbgcijkhbchbkdeebiickdkefhgbiecgbickbekifjfbkhgbbfggfdebddgijkhfkggciiedbkkiccbffeijbgchjhhkgbgidghdgecdijhckjchbccechkkgjkjfkikgeehhfjfcedgejibghicggibjjhhdbjikjdhgecdhegdbedhffbccikffbcgbjefhejehdkfgcdkhgbbjgiiifheeikfjkiigcceiebihikhdddjdbijhdigkjfihdggcbihhiegdfdgdgdbjgjckbkgfibjkfhidkhhdedkcjehghdibdfeeikjcbhikgbdjbkecficbkgffbfhgffhfifhkkjceiikeffdeghfkfhjgcgbfegjkedjfikkffdecikfcficjddfbjecgchfjddfbkkfigjbfjffceehhjejeebeiibchdifcekekfjceigedjgfjgcdcjjhchfkgeekbhcicjgkhejbjdijhjjkiidejijieffjeckiidfcdgijecdbkkbfedjhjjhbekkkbgiifeebcjkjjbcfgkifgdcbdfjigffcfkebbdigbgkiiibckghbheefdehieefhkcfbkjhgighiibfehkiifkbhgegifkcecfhjdgebijjbdfhbcdbiigbcjfkhikcbjfhhbkgbejbebekdkigfjeefddcegdhgddgjgfkehhhdikjkefgedeigkeebkkhgeddecbdgjeehiiibjkhikgkgificbbgijdceeckiiikkgkcehkhfjkfhjjjkgfiikkgbijeffbdcgbcjgdkffckdfchfhedifbedbfgdfgicfgfeefffcbhfbkfhbfiidbkjbbfkdbcjceikgcfgcidjdgjefjkjdgbkbkkcjkfecjikbeccheheejefebiebbbibdhjjbifcdbbfjbkkggbfbeihfbejkkjdkjdjbicffdejhekfhcdfeeddcbkhekjifbhfkfjjhkbhjhfdjbbecdedcihhcfdkeikjideichbhkjhcfebcdhcjbigifkbhgdgehjgbehjkhebbbdedgkhghhggjididbkhdjdfbbfhhdiiebcbgecfejjecddgebdefddchchhhigjgdkgifeihhkdhiddiceceiedkckcebbhhghkdchhedcehgicbfcegfikgdhgidkfcbbjfegkckcfjbcjcjkdkjgickdkhcjbgfkfjciidehdfcikicbcckbfkkdfijbejbkgcdkefedceecbcjkcbjecbkgbbhfdcjbgifeckfbhjgcbcedbkbhcjcdhdkjjdcbedkgegfkgedegihijbeeeecgjiffjejbhikddkdbbbjfcgdkddjkgfhkgigeddidikkchigegiieegheggeieekkkecjjggfkedgjjhbgcbfkgcjfjfddghdkehedchhkkbfeebdkhhbigckfhebeckbfdbgkjcijdfheehkdgkbcjgecbefkhgdebfbedkcihdbcjejfcgefdbggcikcefjbkhkdfekggbdjfbdbkecbhehbefejeeegfcdiddhkkkdgfjhhejhbcbkbddhfdbfijcdjbhcegkhgjdiceiejfjdifgjbiehckebhjdbdcecibfdebbgecefiejgjidbhhfkedcihhfigjfgceefjejcdcgkkgjkfgcfjhkkfbgedbdkfjgjjgdbjkekfjjfibiekjffkjjggjedjdfjhfichhkcdeckiidchicdfdjcbbgebgdkfcdggdkkgdjbgcckccegdedkejjbdkehebekeddihkkeijbeiekbjfdfdbdigkidbjhcdgciceckhbhgiffjccgdgeiijdhdececbcchhifbcfbjjjjfifehccbcedbbkhbbgdjdegjighiciekdgbciihgifccghcfbhgibbjdgjieehehhgfgfbbehjhdbgifdccjiieikfckkiikkkdkgkjhdefeigifjghejeiejdbekjccgifdebbdedijffgfedhefghhefbhjfdgdkkgkhdfbcidcceekijghdcijjbdfgeddjcdjbgjediddjiegdjgjbdgckiedjbeheedicffhjehebkhjghcfggddfcceigkkfdcghfifgfiejjichegfjhdhheffheccekfjeffecgdkkcgjdbifikeedfechfbijefgedfdejfghccjhhidcdbjchhcgeebhhjjifkijdfdkhhffkcghkehjbdkhkjdikhfjcdhcbbfbghgkbjhceegkebkhdgdfckigdigcbiibchfjgkkifdedfgiidfjefkccihjbjcgibcigfddgcjkgijjhcghedfgeidfdchhejjjkijcgeeeikfffcdcjjjhebgfjcifccgkejjddkebbfjcfjekdiekjhhbeghckgcghggkdkdjjkhjeffgekjgkffkihidiedkdcjhhjickgccihgegbijkcejijifgiifgjifijijccgfffbegjfeickgfddhjejicchhdbebkhcfijkfdcgfckebdcjgdgbkgjbcjfkfkhfejjkdfdbiccdehidgjbibefccbdgchgciihbbjhijhggcfjhkddegkejdhkjkbhkbefhddibhhgkbgjbiejefiffedkkdkbdjdkebcbjjkbibgbbicfecfbddihjidebbdgkdhiigjdjihdkccdcgijckjieejkficdfikbidjhifefbiifcdebddijjhecdbhfjggeikcfjiikfiikdbeiedbgggbffgbcdchekdcbcdbbgdfkekibdfcecfhjggbdfhhdhccgfcigfbjdbgekiehdejfddcjddibdfkgihjfegghekgfddhbbifbceccfgcidiihcjihfgjkfhchbeicbiecjkjgfhfgbcekhkeggefckjgjbfddjighkchjcchgkbecdkedebieikfdidbffidhkkdcdibjddcjdbbddgefkbhiefbebecbdgkbkgidjjdcfckjbcfcejkjcjfigghbjhegefbijfbikjeffkcikfkkccbkcjhheikdfdjdcdieeejdikgfekkfdhdikkdjfghehbecgdjficijhfiekjdcbgdhifbgdcihefdgfhbjicjdhhfgcfecjijibcehbigghgiegeekfjihcbbiebjfdedbkehegeghheggdbfjdhidkkjkchjbckehchkhcfhbgibjcfiigegehkbcfeekjfebjjiehbbgdgfbhegdhecfgekghddifbkhidhhegjkbdeikecfhfjfkdikjhbkihhciihjcchfjgdijdiibcehicdcdcjhekkghjkkiehcchbfbfgdjihgdgfhdeehdhhddcdkfddkhdgibbejhhihikjgjjdeffgkjkbbkdjbkejjifhhgjciibiddhkkechhjkjgcdjddedhjhdgjhiejgidcfehhheeigbbfjdfbjjheecedfhdhhhfchhedcdjkhggedhkgbjbjjiehfkihigjikheidjgkdgjieehibkeddgiceecjhefkgdkkkdcfdcjgjfgiehgjccjckfdbbhkjigcbeccjdhcfhgficbdbhbkgcegddbhfdgkjfjehgdiekgkkdfgkififcfekgckcbdckkcgcbgckcddckjcdcbddhjddbhbejkcjkhkfjdhfdchjbcgbebbckcfjgbfdejigcjchijdhekkhebeckfdfbjjhiebjfdkcfgkjeffbbgkgibfjgfhbheejfcekddjffjejgbfdedfbhbgfidjehejddcdgddikgceefbjjjkbbeibfjdihiiebkfhjbedjbifeicdekhgikdeedfkfgdjgghhgkhddfihkfdfjcbkeehehkcigicgjjdkkgkijhijeciiifbddbdekhkfckibedkcdebgfbeebjhedikhbebhebhcggeeiiigbhgfeifjikbibbkjgeibkeebhijgbfeghhdekefdhjdbkibkgbkjbbjbfbcgeeijckcfgdifiiicecgjeebjikfgkgfiiigjdbkkhbejcbgiikgeiffhfefjfhibfefeibjjgcjgdjgckgkkfgikbcjkdhddfkcgbbgkicihfbgjckgebjjjgddcfijbcjkhcebbbfjikhikhfcigiejibjjgfifkdidkceekkcjcdfbcfbjdjcgkjcgfkchcicgbhjeighjjjkdiebbjggbcddbhjjgfeegebjhcfjbjiehhfbeekjkekkdbhjffkgkjbdckiihffkjgfejbkhiffidhcbffedgkkhfbbjddijkkkiicjiicbjjjdhgejchhbbjdegdhidhcbhhbjjkjjdijdjijbhcbikdjfifiebeggdkdeihkbghgbjiekbbbedkiedcgdfdehdkhkgbebfbifidfheccggdiifegkhdfddbbhbghcifgkjhhhbjhicjfcicieddgkigeibbdigeideieekhijkfhijkjkkjjeidjickbjfecdibiicbedcckfkhhejefbkkedegcgcbikjjegbdjejcibhhjdgbjedickhiehidbhkihfecgffhhghecbfdejkfgeecjcdghdejebdkfcfbbecdddjdekkdejejfieddcbchjfgecebbjjghbijgfgdheejcjhhhjefcdhehbdfhgfhdgkeifffifikkbcgekffkdibgbcdjhibjgheddgbhgjjghikjhfjfiegghcigfkgbhkkehhbjgcffikfgbdjkjeidhhgdjbkhbjkkbckkgbbkjjckdfbfckffciffhdeekfkbcefkbfhbhghjegbebbikfgkcfjgickhjbghceckiiiicgejbfdhcfcbgjdggkeekjebjkjdbhhjchikciijffffdeicieehfiejbdeihbdjijikjbbdjcebikjkccibfjjddckgkdccgfdgbgffccgefhcekefidjjbddegcjideifdchfiijgfjhdkjhibbgbjgceiejjejjkkkdfgcicdbgehfhgjdkkgecdgdcibdkeiffkhcidcgjkgdggfcjfkicekffjchgkffffgdcikefgjegjfifkegdeccegbbhfjgfegifbcebceeheekfhehikbjfefkfhbhkfbfhdfkiibbcbhkceccghfjcdhkdieikkbefgcicgggdfgigkcfdbhdiefhcddgckcbcefdekfeiccddibhbhjieeghkchkkbbkbffeijiffffcgbeeedecekjbcgekkkkhekheihecfbhedcgfgegebddhggfekbgdcdggkdfkehkigdficjgfjbckcjfjbgddifhjdgbdehgibfgebhiekicikbiedjbkhbbjhbkjbegbdcifkcgkjibfbjkfhjkggchkedbjbbbedkfjfchhkbjjkhihfhbhfjkijdbihggdkcdcedkfghdjhickibgghfghbggjfgebkgjcjdbjefhfdihkjhbkbkkcgcjkcijcbcegdcdedhekcbkgbkgkbkcbfcgjkjckkbhfghbgidkggbbgbbgjgdejbbeefddbedgidkiijjddhbedfhifdbfbfeeiidddcidfegfcfecghfjggeefcggcchjgfdgehkkhegkbidfgddkbgeedhgckdkbjgddhibhjfkgjifbhkbjfcekdhfgeghgiiijhickihjdkedgiefkcgbhdiecfghbfefhbckggfhdhekekkgekdjhgfkibigjffgdehiibeefdfckghbkhebigfjkijcikjjhcgiedfihhkgihfekgibekjeecbjfikjjcehkijgkfeckkhkckhifikhefcfihgkhhijejkchgffbfgikkjkgfcjjjdkcbkjcfchjbiikekbfgbcdfdedkdgfdibjhghegijjkhechefbddkkbkdfihcjfgdgfekebcddffckebegccbfkhkfhjidhfcibfjdbbbihcdhdkhgfbcecgbcbcdbdkebikkbbcfjigekijhedhjdheiidhikfgcfkcddbcffbeiikkgkgcdjfkgeeeegejjfkihikcegghbfhcighikhjhjbiifghjhdbfhhejbchebeechdifhheehhfffcejgchiigfhghjhkghifjjjjcbkkecghkjkbchejiedcjjiekjdefkccgfgdbbjbeeiecckikfegfcicjjbfhdefibjbcdbkhjjdkbjefegebehjgiihcjgkgjhebcjegbjffkcgjbfkdidjgcjjcbghifhdkdfdkkfjihhkijbdkbbbfjebhbhhdkiebhbbfebgkcigcikdkcikghfigefcjeidcbfejcdddkgdkjejkichjifiiedeckjicdcbfeekdebjegfkikggkfgkfgjceedkbcfcccgkkcdicccihdbceidhghgbdcghjgjkehhifffkbdedhdggjcfgbckijjbejjbkfceggigdchiihedbijebcdkdbgbbjegbgjdijifcbfdecfbdbhibcebjejhjbcejbijdhjicdgjkeigdfjicdhihekhkjchgjekebicckgccbiebgbccddhjjdffjchikfbegccbfibehfeekhbdckdddhhecghfbbhggdgffedifhiffkbiehfgbbdjigdjgdbbfdchhfbceghdgidkigikiifckkjbjjifhfcjcfccikcckbijggbjkkbbddjjhidechfedbkfcjcjhjcjibhfbdjbkgjhkjiccijfjefhdhhjkddjjgebjhkhkijcffffcgggfkgkjhgdeddbffibibhgijjbjdijikcgjegjcgcebjhikggigdihgfgifgjdcfghbibgcjfchhehebediiicedkcibkbbjhdhkidjgffhfeccecjcdbbhjkhjdbigbbekjjdjdcfcbgihdikdcebgebjecgjdgccdjhbdjbeedkckhbkkbbcejdcfgdeikfcigiibbcfhdbcbeekkcjgkjfffhbfjgbekibfkjbkehkdfgbgcidjiehehkhkbjfcjefbcbedegcgficfcifjdgddcbfhbkebgkkkjeejkfebdhibgieedhccdhjbjhbjgehefgkcjekfchcficddjffkcdghikkjihkihbekjkjhchgkghgkikdkfkkehjdkgidhkcdghbfjechbhkjjfgjjbgbcijegedieceijbcjjjfhdehcjcdchbbfdbekjeefggfkbjidfjhkkfjjiegfhedkigdbggehhedbhkgjdickbbeccffbdhejkedcihkffedigiiiiciiifjfdjhjeffgbehijfjgchfhdcifhfbejibekbbjkhejckcciiegkikgbhidkkgdgjicfcjfjfhedjcggejdeecjgigefhfdigckbjjcbefekjiccfikbhhhkcdjfjifjhddifdfjicbjcifffbidifikebkjbfhbddcbdcbhbeibgedgcfdebjgbfciffekkehdhehckjkkhgkdgieiihdchgiehigiggkecgfhkgcfcefbbdciebefkjkhcikehddhfdhhhgijkcjikbcfgbbgkhbjjbbdhjghkbcekhfbihjcgihgjfekghfdbiidbibidjbhkgbigghhfhcbeebfhchkkfgffghckegkdbhhfcjgejkihdjdibjkbcdiedeiddbjecechkbiiffcedcegghdfgefdcidfdcgkgbgdfebgfkejhihhjhfbdhjhckjihckidcfbdkciebghkfidjkfifjfiefkidcikjdfifjbcijiggjchdhbgfecbbifjiggfefihgdgggedddhfkfgkbhjfcgijgfchbjecigdigkdgccfjekjckgbbhkeecfeedgffcckjdgjkicbhfgdejejhffhjeebifdcdfggiekdgecghbjehdifdiejeeeihbhceggfkbebbheffijebckfjchkbicedefhcffbeedjkgdjgkckjgjhkebbfkehhjhgkedfchjckfdeegghdihckcjfkibfkgeihicjbdifhgeedfibjeffdfhkbedjebeeibgbhihjedcbjekcjbbbecbhcfgckcfgdhjiccigifkihhjedibjdhejjeigkeichjgjeffbkjbbkgkjfkjchbekdkdbdbechhejfcjhfgdbidkiekdfckhkedcihfijgiekjibigkehjhjghcjgbjeecihkdhgbdjegehhijhfegjbdfdjgchgkjiccbkggebhkccgbbkehidkigkdkjcbccggbbdfcgecfhchfbhhihbhhbcijbhcbdkiggeekbhfighfbdgjecfkiiddeibjidhgkcjgfifeccecckghkhbgddbkbdfkkkefcghijdcegfjcdcccfihdiddbhffchdbfikbddbkebdedceejkkjchdfcfchgbggdhcffideigjcffjfkhikcckbeebffdfeikjcicdjideihkhhffikidikchcebcdcicdkhdegdehdiedgigkkeggbghdgdgfhiigijefgbkffgehdjbdeeccigkgegjfcdhkijibhigecffeckkdheciikdhfdggkgcfkkekbdffjhkgbgfjhdkjfhfcigehidhdjhjhijfhkdecfbbccdebcibjdihkgjiicdgcchecgjkbhggkefdfkdjcgchcckhekbcdhkfjkdjiddechbbjkfjecbbeeggbeieghdghfcgdfbkdgcbfchekjjeigchhegeejehdhiijcfikdbbijgbighediiehbdfekhdeibbhccgbgdbefehkdbefckbjghkigkgdbkdcjeccecjickgdgbifhgejhegceidhidfejhfjkfggkdkdhkbhbfhkffhgecedeefffgjekdbjdjkkkkdegedcgceckfhghjdkjbbhhccchgjkeefgggiddicdbkbchidighkhcjiejiechijhbfidjkbefjcibbkkebhhbbfcfbdebbgkeeckkhgfdddbfgfjkjjdhfjjfdejggceicfbedijeihckejjckfebbkdkfidjekiekhidieiihkbhbfhffiibbhbkhedbeebckdefjidffehkidgghfekehfihebhcgjgkbbfhjffjjhkjejkhjghbdkbjfeehhhgkddcjfkhhicikfgiiekcffgicjgbkibjiekfkfbccbifiigfhijehkgigjchcedbbfceedeifgfcdbbdkiddhkgcghbchhecfififfdbdefgkigjbhfehgibibjhcideeddkdiedeicegjefcffjbihgkjkjkicdiijjejhchbcfcihfijffcjcjehedfgechdhikfdbiihbcjhijgjidihighjfcejidcigijjfbhfcjgkhdgchjfbegdkeifefhkbbchjhbbjiichejfgggfigbfifkidikdkhjihccjefihehhhjjibhdeigdhdchghkcbgeejgdekihjikjkhebhjcdgcbebbdghfhidbfbjfbghdhiidhkkdbeccfedjhdehekgddgbjciijiijcigckbbghbjgdcbfkkidcfcccddjikihhkidgbjkchidjjicciicekkgfcdgfkdbbjccbddfcfifgkeijhjgkbjfjikeiggfhhgcffeffjkejgbicjfjibkbgbghfifdffifccbchidgghgfggcifkgbgieghkhheebdjgegkekgfjfhhfddifgcgfbgifiidbijfkbfidjgcdbhejccghhdifkfejdjijgefbcjkdcddeegkhgchccddddifkfhekcfjbkiceecegibiedjjcfbheecfjfbkcgebjfdfkcjfeckkkbehggdbhhgiijcdkkjbjidfbibdfgeddceedefkdfbieifkgkkkbiefdjbbfcckeecfkjdffhcdbbhjjidjcfkghhghehbgfekikfjigjgiejgdifkghdcdkcigikijefkihhieckjhideeibiikidecghheghegkighggcgijidkkdkfgcgifbjbhkehhbfdjfejfchecgkkfbghficfdgdkeddcbdfkidhjbjddkjfhefcekehchbikkjgfgbfhfdgghdggdhijfeffhjgefbfgckehejbkjidkfebehehfhfihickjhjfjiheikdejcjgdccgehbgkgjgdiihfhfihcccidkgkkhkckbdbjhkijccggkgjkjjjbgkjhjgiebhccgcdgjgfefeecbdddbbehdiifjbbgjhhkejggejkejgkcjcgjekkfdkhbgbdkfihchiecjgdedibejdefdgckjbbeegbedcdhjcikeedgikcekdfdjjbbickikkcchkjdjgbekccifffkigjckgeefjgjbebkgigdikfcfjeeickdbhjkgfbbbhgicbgckijhkcefjjifhhehbfdhefhdkfkegdbcjhifbhcjgdgiikkdhcejjfkkbchfdhdigcgbjiegjedjkfhihfdcgcekiihekjdjcefhfdgbcjbffjbcfcjfibkbkkdijcjfddehbhchgkbejijcfjjhbejffejgeiejccgjgbfkfifkgdihhkidfhcjdcghiheiibcbiifidbchickdkfhcgieickfekigbfkfibkbjkiigfcgcfcbbdgiefcdchgeghckfcdkbddfiigedkegiejkgidgediicgchkhifbkhhfijhijdigkjfdehbceeiejdkhbgicfcfchhgicfggcedhicgcdhbddbkhhicgiigechgkhbcjbbibbhgdkdgdbfhkbjjgifjffeifhbdejhcdbbejjekjfgjdcjighhedjiiigfhjfjdbjbjdhcgifdbdijdkbgbjdhdffkdjjieicbgebdigdfehbehkjffdfebkfkkibdcbjbihbhdhjidfeiifbbkekjieiffcbfgcfjgbdgkffiheebdfgbjijkkifeikfhdjkjkkhbcieeecdiiiifdeebjdheejibeejbjkidcicgkkhficbdhjcikjkeeihhikjbjkkkhfhhckhkbggiidkdegkfbidgbggjbfdcdigfidbddidikjifbigbbjigbhcdefiidkbdfbhbchbgfedgjihbcffkikifhkcjdcgjddeggeedjdhdiedfhihiekefibidifchhbikckbdcddhfjicdkkdcegccfjeddgdcekkfbiekgbikchiikijhdgeejgdiihekgdgkcgcjkdkkikgkehjfcbkibcighffgeifkfbibkbkhkkejdjkcdhiibgiekjjeibebbdibgdjkidjegbjjdkfhiegjgckikcfdbgdijejhhjdkfjedcgdefhcckkffgccbgedgdjecdegbfibegjiggjghkbfcehffijedbgfkgbkicdbfbgjfhfbbiiekfhjfbbjihdjdggjkbchcbcddehidkdjhjficjbjfcffehcddejicdgjdbkgbjcgejijciigdbcijdcfjhigdcfdcbcjhdbcdcbhigfbigjffbkbigkbkchgjhdgjghgbfecdffkffiegkekjigkhgccidgcbkcedekjgeidgjcjjikbgkehgkgbjjghhdcbdkbjhedgjbbddcfcgbbegiikkgjghhdediffefbhdbhbikiffbeihgjbkbcdigbgbicijejfigjjcfhbdidgbbdffkheeiihfdfejkjcdfgdeffhdhjjdchebecdcdfhhechgejjekegcjdgiihfkbihdhigjhhcfikfccdejcidkdkjkdfdgcfkgkhhkfikgjkhfdihckfbeidbdigcikehbdccgebefdficgkjbdhjceigfhdhjdjjijjdhdicccjdhgcbegbjeifcfcbcjhcjbcbjejkbkcegecjfhggecdfbkkkfdidkfgbcehjkejgickdffhbhhcbkfcgbekcegcgkfgkfceiigecddeifbhhjfggkcefibcgdcbdgehffhdfjbigiefkddhgbfkhhjedfefdkgkkeggebcckdbcjkhjidkddebefkchbbdfiegejichbbhghjcbgkdibbdgidejhkhcebhbfedckdbdiddjfdbgkjecieccjedcicfhfecjijkceeijgkddigjkekjfikbbifjbkhccbdfehfdbcfikiejcibdgkeibdifbjjfhdkcckciehhbiefebbjfdjhfhibcjchiiedfdckdjggehggbcdffgjccfgbbhkjcjfdcgegbbkficedcekdheefebeeidhcjjhchcffbhckciegbckiibfgjejdkkgjfdjddfgddegicebichggdhccfiehfefihfebhicchibichgkhffcgcgfgjkiedbkjhkkbedjdiekefiedbhkikhgbegbcddjfkcjcddifcekfbkgbdkkhdbjgbddifckjfeckfccjdkggfgegifiejigebhjkkijgbkdiiifejbbcfhihjjdffjjfcfifhgefdkcgcggicjjkgjgdjcfhkdjggbfbdecghcdjbbjcdgkbfgkcdfchjkebegchbckkdfehfbbefdidkkjibfdekdddbhfickigdbdbfkgdfggfeikikecciicjccfbcdedkjfjejcceghghgcegfhcihfgdbgjjcgiccbcebecdbjhbjkceebieikbcjbggjdbhfcfhbgfbfhfjbhibchjjfgbeebcbbhkbcbhgikefkgfgfdkibgdcgdghkgebdeiikefifdjjkhfeccbiekjgkigkekjkbdkchfhefbfhceifeddfbhidiegkfgfbbbbdedifggfigjibfkkkeedeekiecfibehidciehhfgicfjhfdeddjcjdhecgdgdecfbjidkdhjiiefkcggjkchieccfcbfdcbhigkdikdfjfidhcgkcfbfececggfeeijiiibcciceegjfjjbeeehihigffcfgkdhfdfcckjhhbgidhfjghdcegdifchgbbdddghkfbcfckgihebdiiccifdckbcgbgfbbbieefiibhbhfdcidbcjjkdfkihigjhfgjkfejikhjgdefccjdfhffccjbgkifbfhjdjgbgciicejhbjcfebejcjbdkehbkggbdibhhddhfjbdfcfijjjjkeggddjgefcbdgeifffgiigcfiicbbcgffgfbgjibbibgeidkikkkkeedgjbddfiggfddeijgbbhjjfgegdgbhiifbhjhgjegkdkfbfdhhdedeicbiikdhihbjggcedbediefjjhicbcfbhigjbfihbdekfcgjidffjecejcjccefcjbgbgjgkfjbgbjiekbcegghbgjcgfcjedjcebhhgedkcgjjdgfhfbjikjbhdjefeibgkkgjbfijehfcgehkhefkjdeiegecdeckbbkhjdhbcfgdcghdcegcebgcehdebekikfgddeiejgckegiicjcgfkkkdjbificjdefkfihccfjjbecfjggcgjghdgbdhbfgfbgediebfkgcgfdkcckdfefjfeekfiehjhgkkdedfjdegjfdfehfedcdbhgdidbbjejbhckigdeheeddfegjgkfdhfedfbdgfdijccbfbecbfehgkcifbbjekgfigjfbigejheifidgjdffhichgiibdcffeccfggbcieggkdddifegjkfhebbhhihifiefjfkfbkgkdffbbcjdicbdkddbhghckckgjggbbfigcehhjficfbiibedbdibfbdbkkcfhhkefekbbbdfebfkedgdebchbedkkgkjdhdkbcgckehkheikjhgdgkkcdhfeegiekifbifidgfedbgffjjidiifffjjbddghikbhhehbkifgbjbjkiibjfggihbkfckkgbffkechecckdbkgfdkggjddejiffchgjkdhfbkfkecikefdkjikckebgchgjhbdbieeebicjcfdbjbefhbgbbfjbjjhbicgkjfckghfgfkdjgbjfecfibcedjhhegejcjfeefefcbkigkfegfikcjdcfkiibjchjckhgdfkdkhcdicgbkhgfecbekbecibiiedkhkbghbebekkeefcbbhhffgbfdchbbcedcgcbdjekjjgcfgbbjgdcfhbiidffeccjkffheiccfgkgkfjicdedjbbhchbhfkkkdcfeebbgjffiejcggehehgefdgehkkiibcjbeikkgighkdibhhffhchcikegfdhighbbbgkgggbccehddhdbhihfchcfcjfgdgkdkfhgecbcekcghjhfkcbkdgeecbgefkcbfgjfhdkeibeijeekeggghjhjhfjjjhhbkdfcbecgfdicjfbjhddgchhgeikjejiiceecbcekccjgfekfikebkibdihifbicjbkfihjbgbhhjbhhgfjfbdcgfbbejgjgidfkhfgchfkjfgfddjfckibjfcffghbgfgiefcbkfbegfibfcficekfeecdgiiehehgebfkjebdjhibdgedikfihhikgdbcehkecbjhekihgddchjdfbeedbghcfbbcekikejkekjeggijdggeeeiddjfkhjgffgddebgfihgiekdeffhjeekjchecjghkgjkehbkidfehbdkdcbcdhdchifgbdjjefiejkcebdicidefjgcjbbcggeccgbffcbghdccjiiccejkjeffbicbekdchkhiedcbbefdgdcgfihehhkjehjfbifbjfjgbchdiebjcbddfkcehcbjeckfiieghfjjkhegkgggegiddjggegeedijkhgdiccjfjhdgfiddccbjffbjgddkgkkgedbjfhikjcfbifbekehkfcbkgkbcgeejdiecgbfgkgefckfbedbbjhcghgbkbfidhigcfikiehiebjccbbkdgcdhicdifbjdhhijjjeeghjgkigfehdjdicjkebfkcdikbhhdjfchjkkccfdceidbjcifefdchfjdfcjebcffkjggkjghjcgegdhgdkjecbdjekgefehbghddjdccicjbiddbhfeegbdbcddccbbiebhbcgfcegjcffeffhkjekiibkddghjjkikdebbeghgdgcdkchfidhcejghiccfefgfkgkdddifcjehgeedjbkggidfkchgifbjfchddhckehfeeefkekbdjigggkhihdghjchfhfifdbdefkgkicbgdebfhfigedgbbjedjicigbdkjdhgghkkkckkhjhcecjkcbbihgddgkibckkgfhjicekgcghfbbcghfhjehjgejghijcjkdiihekbjekdkkijbbjidgiigfkeefbkkjkcjfdiiffggjgejbgjfhjkcefhkkgbjcehhhbbhhjefdbhejkffijjhhchfgkiikjjgcdbhggdckghhekbheejicfbciifhecfhkjkeijifhibbchefcjekkikcjhigigkcbjdjffgfbhhjhhkkccibiekjbcghhkkbcceejhjkefbfbbghjjgdegdkhjbcgiedhddfjhbkfjfkfkkekfghhbgkdcfikbdfgfhbhdekijhcibifeegjiiggdifbhjbkeedcidcgdjkgjkiibfhbichebegkehjbecjhceigfjbideeehbkkgidefgijfckchkhcjccebcdhkkgdkjjghkekhikcjhjchgeijdcbeebjhhehjgjgihiekijjkjehidifcjekebhkifkdggfiijddhjjjfkfgcgddjkcbkfgkcfgggbjjhhjhkfijfidkfckdjibbfjgbgcjibhbgdgdhikcicbhbfkibhifkcckihcehjeigkfbjiekcgkdceejciigdhggkdhkkiccfccgbffhfccfcbegkkejhfefcjiikegbheggcdecccbjjddbjbjfchcifggehigdjhdddehjbikkhcbhibkbbdgefijhckjjckejkbhcebfkkfgieejeckeddefhdcjibbjkcifccdfhfbfejccfhcjbdfcicbiiiebefkebidffbfhfcgcfheffejigicihcgbegijikbbkhceffgjcigdjhhbeiccijhdbbjkjgkddehddcfibfiekfidiiijebhidkcgbhbhkijgfdeejdbidjihhcfigfckddbeefdbhdkgbejechjifjfbejbbeebdehiikfkkhdbjdfbiccjbcgebhjjkkkcfkhggbcffjekdjhddejedgehghdcikdgkgkigbdieihjefeeggkickjibgccejbhcfjgdibieefkjbbbkhbcebgfdegdbfjkeefkgiegedhkdfehfcceekecjjccfcdkdgghhcjkgckgbjkiegjkgeghjcficfbbgidgeibdbgbjjgcbchcfhgdebkcfcdkbdjjkdkfbhfidgkefdjefbdhgbbjckdccffdhfjeiifgbhfdeiecbjchibcgekjhdehjjchhhbhfifgffjchkddbdddjkfcibcjbjbfficfhkjbgkkjchcjdhfbgifekbchfkbeffhbbdcbjfdhdijehedgejbfckichcdhhgcdhdbkcjkfkkigjidkebicjhieijbfbchdbkgieidebehdkgieggdeijjkceffkccbdggbbdiigkcchiihkgididbdeighbggdejhkdgijdbbcdjbkkhkcjbgjcddjfidfhhdgcidfijbchbkhedfccgghcjbijiihekcecgkiecfcddekhdfhdgkhcjdjkfcckeijiefkhfjkgfjiebdgcceiefekkkbebiddjdchdcbeifbdkkehjchjcedgfgkibjbjcihfkckfjdfkcgjdejebkjiicfddebjekkbkdhjjcgdhkjdibdcedejfdbjbiikgdfgfccbkfikjfgggedjdcdcjidcicbbbbfbdbhhijchdcikejijikbeededejjbhckfecffjehibddfhkhekggfhegjkhkkdkfbdhekceebghfdhfjfgdefkidchcegjggikcbgggdbceiekeijjffeiikehdfeicjibebchicjebbhfefbkdhghejbkjjkdeeibbgjigigicediieggegigdeehkhgijkikchchhbhgbbgcghdhgeckdbdhbdfbfjeebddkgbjhgdceficfjckbgjjbbcfehjhhkfkeggibbhjhihigigfjieejckckfkkedjjfdfcdegcbiffgedkfkcgeijghkgiijcgeiiedfcijdkejbdjbbcddcjkfhbebhghgecbdkcckffjkfhhjhijdbebhggiikdihjdjikjekdcdkhkiedjibfdgehbjgecdfefieikeegefejjjdhjffeefeehiddjkfkcikfjkihcgjghckdhfcgcchgcddkigfchejcgefcffegbkedfhjkhbfbffdfgdihchehckbhibhheiheejhebbehdeejjkdhgeicfebcfkkefifjdbgkfdggcdhgjfdjfhfjgkfeffbebdieekcgfgdhdciiccdgfdggejekidjieddbebhefijhbcikjfkekhhjdjggbkdehiedekffihibdkgbjfhfkjehgdfkbfjhhhejdgjgdbhbedckjdkkcccddifgihkbbgjicigdedgkjbckdedccfcdghcbfhicbhikhfkhhighceidcjhdhefcdkjekkdcekdfhgjbfcjijchddhdcdjhdkkeigieifijbcbkgcicecececiifhbgjbdhdjgjijkdhedkbihkdgcgjgbdfcfgijkhgifjebkgeehfbgiefjifbjihebkfdjhighddfeefgfibhfbijijjbdgckdbbdhhihggjikfbjbcgfijgbebgfhhcbikicijcjfkfejekdfjkgdehjhdfgjhchdjcgjcckkfbeeejeccffcbdifjkjkhjkkfjecbhekicgfebjhgijhjdcbjceiieiieckbihccehigkckigehkkdfgfkkikdfgckebkkfkekfcffcjgkbikcefihijgfjjhcicgdfhckgdfgedhgdhbghkkjkdjkkkbijkbbhfeggkfgkkdffddjekfhihibbfkfdgfcjhgedkijhikfcgghidjfjdkcedfbhdkkedkbbhfjifjdehicjjijehchikfejceffkdijffkgbbiigffchicddiieejdebieiikfggihbfddigdfjcefejhbjgijhididkjjeffhghhhfddidffbhbiebgdedjgkdcbejbjejeijhefbbdgciekkcgejbekdibgceieffhgehkjdedbbdjebhijdjcjbbekdgfbjgiefkghbdkjhfjebbkkkiccbicibdhikjjkkeifiedkicfkchdkeiccjfgchjjfikgbdifbgfdkbhkhfbifgieccffbbkebdebjkkckfjjjhfhgkkcjjgejkfekcihifjgfcjikfkgecbdcfdhjfjiidifcbfifjkiiefijjkkebdefbbdcghkjgbeggifjfifhkffhgkghegdcfjfbgcbkdhdifchefghdddkcbighfbebcfcdjjbfijgihkhjdkiikgdhkgfbjihckijbgcghkfjkdckgbiiidkgifbcgcjkckfcdfiedfihifbeikikkhbffhcdgjfdcedhfdfjddieccbfkkicjfffkekkeiefedbeidegdddidgehdhffhhegekejekggdgbjhigdbiiejighiideejihghiihgibefhbkcghciebdbeghcifjdjjgchdekehibgficeghfkjjbfiikeiedfgebfjefciihfdbgbhhccceebdfgehbhjiehbdfjdfjjjhkjccjkihcicdffcjfkjjhfkefkikdhkbgjfgedifcbcbdibcjhjcdjgjbihhekibfcijgjjikeiibidejcbgjdcghifdijidghcfeddifkgkehhcgiiekgkhhfghbeibbebekddbgkdjdggcidbiijfjdhddibifbgbgjejiijdgehjgiifijdhdiedciikkjcgigjijbgffkjiecigkggfifhiekfiegcjigekbbfbhkgcehkcbibdehgcddcekjhihgibgdibccjkdgibigdcbgchckdjhcifgjkkhhbgcedhcifjbkfbbbhjkbkcfihifehjikkgdcfeggbicbjcgddkechcfdbdebihegbhhbdcgbgdcdhigfgbkjidiccigehcjfbkijjkejiiggkihhfekdekgdjibjchfhjggjkfeifbhjkbebdckbgbjbfbjddbccjcheigfkhkdkbbghhfgecfffedgjbfcfdeefhhjiihfbbcbggfckeiijcfjfdffhieebdddcjjibecbkbdfkdfdikkikcfdciiifhhkebfdkiffecfhfjcbhhgfdeicedgjffekhjfedjkeheedcfdhhfdbghghdjhcchdjkjieidgcjeiiecfjjfjbdjcfjbghiibjccbcdjhidbkkcikjichghjgijgjdhjdghckjkcfhgigdgebjdkciddgeccjcebgbgkcfikgfigjjebjkfcfebdikcgdgjedifdgefdbjfhceecfcgkgjhjfhccdhkejjhkcbicfigchecihggkicjhcjhgdhdfkejjdffhkcdifihgddghcjkhhfkbfjjbekfegicjefhgddhcjeijifcjbcgbhfkkiciifdiigjcdjgbihekffjggfgkfdchjbbfibhjhifkfebiejgfbkkjdijiiiecehfikkjghdfbhddkgcfgcfifkkdijcbjfickhhjhjkjffcbbfbgefcgbbfbcidbeijedfkcikibecfiifcjbhidjjgbifcihjgbccdidkdhbebcegbkjjebfejfcbefccjhhjcjcgjikdjhkkddhejjdfdfdejidhefgggfifgkgkgkfeifgcfhdjgjhbfgdccibfbdddiigjebbbjkhceeghjdiffjjibcbjdfhcbhgcdceckekdkbhfgdefbikbgihifjidbkgkjbhicgkjdfdidkkceehjgedikeejbgkbbkibihfeccjjhjkjdhkdcbdbbfffbgkfckjbefbgecjgcbihdfghdekbkkcegbiefibiihfbkgdcegjceckkjhhdfkbdjgefjdfbgehgciiccbegckkddcjjkbbbbedejgdcfdijckffgkdieeegdbfbdckfdjcbgeekbgcibkcdecebdbfikfbbbibihhkccfihckgbkjbkehchijehhjbheibkgehkkbdcebihikfigikcfjbhcjbfjicgebeidjdbcdbigdfcdijfjbfhkjdhdiggibjfddbbijgdgegkebedkbjekgkjdfcikdkfhfifjeicbidcidhbbkbekcdgedefjbjkgkiidgffdjcgfjcfkkheebbfbjcdkehifhegbddgckkgkkfjbebfkdehbhijdgckgefcjcdijggdbdikefcecbhdjghdekcheikbjdiciejeiekbkdbejkhjdhbcbiccifddjkdiffgkegjkkhgikhikjgcjjcigkghfiggbgijficjiccfibbbdjghbiihdfdhbhckhdjbcbfikhibfgjkdiehjbkdbkfbfjddhebiiffgchjkkihjkjdkbfgddbhibjbgcbjcijkkfgdeghkkbdidicjgdefchcihgkceddfgchjkhidiejbbfhikfjghibbcgidkgkgdjegfgcbfeghjbchbkcigckicckbkjfgkkcjfjieghkichkdiijbhijeeedckkkghhjfibkgckkcgfkkcgjhjcefbgfhbfdjdjddckjccbegbhbcjfhikbfbeiijggkhgkefbhgcikhcfdkceiehbbgjfhjiifkkgkckhcgddjdfgigdghjhffdfkhkjefdjjiechjkekbbjcfeciiifejekekhcgfkhifkggdhdhihcdbdbcehddjiggkckfdidekgcdfdgedfhfgbkbicjfkghcjdkijbjibcciigdeeidbbdkggkeebjhidecjicbfhcccfgfhfijcfijfgbgdbbbjdhefjgcgjjkkehjiigedggicehgciggehgdegfbeegjiikjidbggeckhkjkkeikbcfkkhcdijebicbffjebgbhcfieebfdikjhejgihggecbbddgdbffcfbficbbhheccbcidbekdkdhbhifkdjbckfkchfckehhcefhkkcdhkjhgkedkiefcjdfhdbkgijeiecgfdffkjhgigckegjfijffhcchcjkfjiijbhibicfhcicdddecchcichbcgehhhbckfkeiibhbhibcccihekcdigfckjibiibggeccbgicbfbjbfibkchcebddefdggbebdeehkhgbjjdcbejickhdkckkjjhhdegifbcgkjhbkhchcfdhfjfkcjkkfeghfjedgfkggkcbiegbkjkkdccebgibdeceejficjceekdceibekejfgdcdhhgddcdhfcjgffgijicidffdiciffdegijigiddjbbekgijcegfdhigdgehfeckjebfckjbecjfbjgeefkcbbjigiihkifffhcfedhbhbkjhjkcgechhijeciecbhcifhjdcihfjicbjigbdkiddibbfhbfhfhefjkckeccfgjiifekkeccdideedcgbkcegdcfdhcbcdidfgdfgbdjeiicfbicbgjfchfbibbhdccfbgfbeeffbjkbdebbfkcbdeecfkeghfgbgiddegcdikhiekkeihfbbifjkkckihgihbbbfikfejjbejfffdcdcgggkibebcgjdckdfkdjfbkgibhgkikkgekjieiebdjjcegjigeghdhbfihkddggkcdfeigbiejibkckdbidkhecebdjbihhicjkkcjidghkibjhehgbiggbhhcbkcjiihjjhigficgddkcjghbfekdcibcjdjcebgjhjbehdkeieikhccikkedhgbhjdfhecffhcdgdfbdkidjecbhdkhdhbfihjehgbhfdidhdhdjbdbckbkehcggcfcjickekdkfddgccikcggejffkkjcikhhdjhkfijfjkckbjbeigdejgjieddcdfdfkfjedjdceikfcbdeekidgeiccicdghfbjcgkfjjccgdhgkdgffjebcebddidkkbibefkechegejcifgbjjbhieddgggjekkhfihfibkkdhjggchgfehhdhcdhdhigihefcheffjidgiijeeicgcfkkjigkecejhjhbcjddjdfbdiccjeedfcgffegcbcihbgefckjkhihediihjkhkckcegdebbhgjfgjfdhghhbfhjfcejidiciibjfifkkjddjehikkcbdigkdijhjhkhejdckhfckijbecggfkkjkcdcfhekbkidcfkbkkfgkkfbjifibjbeegbehcfggghgchekdbiejegghebfibdhkcgkgidickkkecbiiicjighjjcfieieegcgfbbbfcdkbdfbbidhhdibiebkeigjkihebdkehbdckejjjfehjfjhhkjbkkhhcfgihfijiehhjdhegidkecccbghgcgedjhhehejbccedjgcdbcffdkbcehhfdfdkkbikfedghfjjgckgdhcgjjbejbehbeijbifddgiiihibigghkecbhihdjbkggcdekebgibbhkbjhigbcegjfbhefkedekfefbbbkdhigjhbegjkihghhigjigfbfekjiejicbjcchhgejfccdkbhkkeieijcbkkdecdckdibhiicfecbkggheiiicijiecedfhijkbcbgkkececkbcjddcfibicdjjeiehbhkdecfibcfbjhhdidjiebefecebhkbhchkidgjjijbbcfedhijfchbfjbeffhecgcediidfkcghfckhcdebdcegbejbjkeffefjkefkichkjidgjdfififbbjbcdegehhkkgcibbhechegegiefcffbcdjijekkkehkjbhchckhddfcihcggbfdceedcfhibbhcbbjjfifkedhkhggefkcjidhdfgccddciggjkihchcbgiifidfbcbgehkgiicjegdikbgdkgbdefkcgkikgbchejcggkebhkkgckcifddcedgkbegggiecgjhkebghiffbjeejbgbebcgckhddhbjefdekbikikbhjcikjjjhgjehdgfkjcjiefeiihgdjjcgdiibekbkggjefiejbkcfhkkdjgbhfgeidbbbidjghbdkhhhccccekcjbhkhefdgffeccebgjbbkjgfgfhkbbcbdbkhehfbcjjbhckhjkdjceeijjddhbeeecckgdhdkhgbbheiebddjiddfkkjkihkedieekghdbichghijbkegjdkkiffhbgjfkfichkjcbbjjkihbdejjjfbfbgcjjefcdbjckcdkjiidebickjcikhfifjbdcddcgcddjigjjfjcedkfcjcddhhgfifbhjkbfbbhddkicdjibkededihcjhfkbhegkbgchgefebkbbfggcfbbbfjidbkbfhffhihccckifjjdifkgfjehbhjjchjfiefbkbhehcfidkiihjbbekkggehgifcedecdbjbbkgeghkefikkifihfihibkgckjgfkghieeeffigffbekkebdekbchikfdhbjfibbdbfdcgccidbbfdfjhcjcjfhhhhbkikkkejgbdjckkhchbccdbjfdhcffdbfkfjhcgkgcgijkhbedfbhhbekefdfdhdgchdgedbkfekdcfdkfcjhjfeffbbbbgihjdkjgdjhijfckjighckiebbeiebgbdieccfkhfddffhfhjhfdjjecdkfdggbgijdkiecdcgbiijfhegcbbgbgicdibdeicddikdggekgjhecjcdjjcbficdfeeiebidhekiebkdccddcjdiikceidhgcdcgjjbkikbfffkjggghgibikkjichkckjbgbhkideeihhkieibcgecfjfegefbjcdhddgkcghbdfdicghjfhjfidkkjjihekkigkhfbkhgjkgcbjfckkkiijgjdiehcgfejijhjkehdfkbeibhjjhbidiigibkhbfjcjdifjgjddebikcikhihkfggiecbgfijkgedgckbekkcdijhjbcecgiifgfeciejhkdidiejibfhfcgjjjcghjbcecbeffifchjdgfhidddgecfcbddkhdkgdckcbccbkchhdhgkhchkijehibjdhechgekcbidgcbheebhidhjfghcidfjhdigdcebgccdibgcheififkkjghchkbcbffhbkbkjeejcgfgcfjiegfjjckbebcgigchgdkkddedggkdidjfebbbkfhcieccjjhjhhfbckckhbkjfhhiffhekigjcckbkckgjcfgihkjbkikghckeecegkjffdighfbedkgefcbeihhdcbgijhkfgjbbidekeehbjcgbdikejeefffkbicefbcecdbkffgdhijhhbecihegkcjdhjhjddegbhbejigkbbdghckkcekehhcihjbdihibkiheddieifefjdfbeijbidddgikehhedcdddeejeigcjjhjifbckcbejjfjckfficeigcjicghdddijhhbcefefbgfgjcjkghecfjhgkdegfhgfghbjdiijbbbdhhdfjdjfdgedhcjhfeebegjfefccbffhecbfbgdjijddhekhdcbjcbihiejhbhhecihkkcjkechgjhkjkbkdhejifgkcgchccedbghidckehcebcehchkcbfkgekdkdicejccidbccfkckbkebbbkghigjfefeidcfhifijhcehgggchhjjgdgebhigeiejiikkbcghbhkfcieihfbdkbbgjdkbfbkfkbefkfbikjgchbhibicfkkdekdehgbgeheccgbkeckbijfchjhekjhdhcejjdehegjfdhbgjeehikghgccejbbfbhkfhkgbbigbkbfddejjdhchgddjidejgfhkffigffihjjhhgdhhjeekgcdicgcedhikiejdfjeehgdfffbfjhdeehcfedcieifeehgkhdfiibeihifehiebhfhfcdgegjgfkkceeckefijcdjccdigkecjigdigcbejbjjecjfgdjhjkihjjejjjgcdgdkhgffbkjgfdkfhgejhfbeihkhciedbcihbeigdfihecijcgfecfhjhbhihfikefjifhccigiejdfejbhbbgbficdhcchcjbkbghbiddigcichhhegkehkkbjdgjdkecddcgekkcebkcbhgdfbkbcjffekebcjehjcfdckkgiefjihcehccefkigcdhekdfidekjhjehfigdfbjekgidfifhgdikdfjhgffefkdbhhdfbbgkcccigefcfihjkejhdbcgdjejibgkefhijgjigbicdbebfhghidbdjiiikjjhhhdgbhiikfjkhghkfkkgbhgeieijicieidijgcbfkcikjgecbiiehjehfhhifkkfkeefjdcdcjhiehkfdcfedjfccecdigbhkfijfkbdchhghecggfbjiebbbbgccbhdiihccicfifdkbfbcbhkdcjbcjigiifdifdcckbkbekkkgjfeghghiffckehchgggdkdgichgjkfhdghhbeegfefbgbebcdfhhbkkejkigdkcjkkjbeihkbehcfbiggjcekfdifedceifidjibiefdhibcghfechcdgfkgbfjbeffjdekkeibffdejkffibcbijhgdkfhbfbbiiefcgeeffbeiijbdggcibbjijddeedgjjckdbdccjcbcgkjgjkhibdikhfhebbekfhcjkbjkbgbjddicikiikejkefjegcgbekjejhffhhdeebhbjejfdgjjkdjdfhkgffchckcgfiikidhdggfggfjbijgefdkhfgccgfdkcdfiiebgedbjigikbkghccikcfbkcjccfjbkkiigegjdbhfcikdjgbdhbbcfggjkjhjdbidjdfkiiicckcijhgkikkjhfciehbfbicgjijcchifbhceccgkjfdekddgcdccggehehhiebkkdjifdeehijebkjjeebfibcdbkbikdgiifcbfhchdccejijecdbefkhkekcffdkdfcjkkkhkjibdefhcdhieigfceeddjgfjgieddfkbjjgbbefeecehbbhjbedhighegfdcbhjhbfhkhcgekkbekhgfgdbhbcihdekbjjdgbdjkhjccbdiihdeefbkkdhejfkbhbfeidgdbdgfjgfbkkcfcbkikjbiidgdkcibdiibhejdkcbkgefdicckigdehgfhggfkhgfbjcegdidegdhkcieeijjdighjkdhdihdibikhgjegejifgifeccbbchfhhbdckdddedbekfikgdjdkedijchfbidckhefbifgggeecjiiijcfcfcdjkedkkhjdjdjhbcbfihfcbbdhdjbcjebgfghhihdbjfcdbgcebkicdfehfffjifhijjgfffcijbgfjihiggkcgggghhcgihkbehhhjfbfgkfihgjbhkkfiicgdkbhhgkggdcghiibkhfcgdbbcegckggcfebijidkkikcjdigebidbdbcijfffchkcfdikgigjbhidieiijhgcfhhbjiddbdciidigikhgcejhhjcdhfhikgiefhfbigfdehjcfdhjekgfehbheejefcckjgibehcggbkfkhijgdjbechccibhcfibdddfhbjgkhijjkcfkjidgjcdikdjdbkeghjcfiifgegedbebidbikbjeehkgiigjdjichjekjjkehkfhdkffbdffgkkbghibbjcjiiikgdhibefciigdkcbfjbiihkdceecdikhkkebhghdegbcgjkchcddfffikcehgeeegdbdgibcbkkehhhddgiekdckjdkjjjbhfefcdcehiggfkbgbkhfddbkihejikdjcbkkjdejjchicdiekfhhckicgjjbddifigdehhjjcjfckjbkhbfhfdicjjbbjkghebifjhkcdjfdbihfbcihhjjbfdkbcgbcjdfeidjbebiefjddiejikdjihcbbfgjebfgffhfjkfbcibhfbbdbbbfkbgkbdgejdjkgdikdeiddjidgdiejfdbkbfjjdgigchehgdjdhbcdeigkgjjgbeiedbhjchggdckhcbgkgkjcbicfgggcccekdfbfbfhhficiehdhhkhggbficdehdkceeffkcbhicdjbjkickidkfbjeejfjdbicbjgefbjhkjheeikdgkbhjbidebhdjcghbfdjkfkbbigciiecfhcggkihheegiigkbkhfjjjibifkhkcbbggdhfcjiddgbikcdhehedcgjkbgfjidjbggkcegckkdicgdbcdkcbbhikigdjigdceeiekeigdhbggdgjdhejkijedhbjhekidbhdjbbefhbickjgcdkfgbcejbijdgicjccedfcdjkcbkjfjkdkkikfjcfcefhhdgdbgghgdidcgikhkhjbiidfkkjfecjgejcffdckfefdhjkckijcdghbjdikgedhhkgiegehggehiechfikdkdikkjkekkdbecicgdfdccjehfjiceejjidhdkjefegekgedkfiefcihkdefhgfgekehdikbjgdjjdhdckjkkjjcidkidgjjejhjkhiikccikibgbedgbjifekidgkdbikibgjkdfdikcgibhkihhkcfgjhdkcecgdhjgdjfkeghddgfjbegghbiedefigiegdckhkefgdbgffcfcekcgfhjfgkdjgdkbbbggdjifehedecgiihiihgkiihigkbggebcggcjcjjeedjcgehhkddihdjfeiiikcjggckbjckbbgdghbjkfhcdeijdjfdicdgefkfekjghjgkfkcediehfejhbgfgidejjdjbkkbddbjffhbfkjfgkjcjbghgfkedcbcffkijfhjcgigchcdkgcdggkceedhjdfhgkgddffghghfifhifihihikkghgkffjfdbjfijddchhbidjcgcecdhihcfjbjgibgjbkhgkdkhgiddibgeibgkdeeedjefehebdccbffggebgedgbjcfdbkdcehecgikjffffdkhfghdgdiccjgkggbbdkejihhicccchejkcjgfihegkieeebgdbdkckkhjfdckdchhfgbgcekfkijcdhhhbbhbkgibbdcggfgkijjkgfhjcidggjdehkefkjihibhchcchdgeddcddbekgefbgfbggjgkjbkkhighckgcghbjdddgibcfdecgheighfekjibchjdjcijfbkfjhbkhhhbkehedebjefdbcbgdeiekdhbkkhfjiebbdgkijkbdekfkjighgcdeikeecchkfhfgfcifffjbghkdebdiekedkdgbdfbddccdiceiefbfcjfhigicjhcdfdhdkgiddkdfeedkgeicejifcjhhdbiifceddffbekfdcdhgjhccdgbhhickecbhdbdgfeddbjhedfiebcdfijihhjjbdfjjdcbhjfkdegjfkghfificcghfgdjiehfchidkggeidhdjfjgfbjebfccbceiigehdgebfdgckiggkggggkeejcbjkfgihhgbhcbeigjhehcbekjkccgjccjckbfhdhkbkjefkbhjdidbeicdiijfccckjfddjjjfbfdciffhijfjkiffdhhcfcedeebfbeebhjcjbfkeijekdggkfcjdjfkfgcjghbfegiidkfhbejfiiiigfffccffjbbegigegiefkdbfebikkcebgjkfkicgjehhbchecjekcbdejfcheegeekhhgjhbjcghfbdeejciiehggddcceedhggckekbgbhbbcghfckcffefjkiibhdfhchcdkkgedhkcdhgibhbigekjfkdfdfgddbkikghikcihiibedeehgfkcdddbgeiccjhkgeckdjcejhbigkfhgdbjffdhdicjgdkibkbefheeggbidkddkhecjccjefikfebgdhcdjjhbfbcgckhfdcdkiejidbcibcihdcdggjhbjdhihhifeegekbkghhgkjebkcgeefekjcidggjfbgjkdjigijiehhdkdifbbfbgbfjbibgbekjecikkfghgfjkchbhcdgfdfedbbgebhfjeikekhkekgcfecgggggchdjdkchckfghkicckkidjhjfhkfgdbfjddjghddkfiejehkbebgbggjbdcgecicffdefbjgigejdcdehgjecifdcdfbgdcjffgkgjkfcijjfdffjicgfejifidfbcjhjibbihbfcbkeifhkekiegiidgfighhdbgjbdgjhjbkkbhfbihiikfdgkihkdgigfcikijggeiiecdceckbkbhcigekeihjjghdfhhjgefkgkcchcjidebedeiheddeikfbjcffchhdehccfhchkdkgbhicebjjefbihigbebhgehkieiddgdkieiffbbkbegjdfkfcekegeedgggcjgifcjggbgcjfjifbgcjbbigddikkjjeckdekjcbddgbdhejehcbjhdkheekekcccdegcciigeibdjkbhjicjhhijehggdfdkjcjihkbcgjeiicdchdhfhchdikkgjbkdkkhgidgiececfiidfedggjkkjihgccjffihhgjgceddifbcjjigjbkcgcgijfchjidkbecchhbjgehfkhiccjciieiebkegdbbkiieekifbbjfkgjihdikijghbbjeicihgbibcheikbbckbfefihjbdcieegigcegdhbbffjccckeiiiddbehkkbkhibihfeijfghbdikdbddbbdhkjkikieibjbekjdkjhbjgcffkdhfckiijfkgikfkfjcbcfdkdgjbhcfcighkgifjckbhcbfhcicbjkhgdcgcfehcfidbkhjjeifcebkdkhbkjfgciggifhfijbfcfehkjjbcjehffijdhkghjgdcheckcjfggjicecifihhfkjieegkkhccidkfjjckijkjjfjdjigdkfegdgibjfhkggchdjbiehcchddbeibijdjjffigbibfcejfdifkiejbijbefbifkfhcddbeghjkckdfchjcedkiekccdddjhfegbgegjhcghghcfjhiifkjhfgjeefibiijjbkfecegcjdjgjbgkfcifdcfjbfkdjkhcejejjdijkegkbkfgfgfddfddddjifbhhfdbdeecbgbijigbidjgjcebkjjhgjkebkfgigicgkcbifdcgdhdhchjekgkihdiddfgibciehhhijihiegkgciiedhkchbdiechcdjdkicdiigkkjejcjccdbfcifgdfejcfjkfikbijfiicbijdbbjddkiececiijfkbedhfhkkjkcbbbfbjjijicfbddjeedjdcickjjhdjjhkedebcidddkddkfkjjkebgikhbfhhgcddkfjgeejhcjchiijeejckjcidffhdieikehkddddbbekhdbcccckgfeebjgkcdifikjccfefkfedgjdbeeefdiehkcjehbcckecjhekddhhdgidefgjkiihigigfkcfcdkfkeccjgfjkhegfkkbbdkbjehbhgkddejfhcffbdfdcbgefjjkeggkegdfkbfdibeechhikidcdbigbeicegikggbkfjekdiiiibdbjgbcfgdfedjdgjefdijkekkiddfhceihbehbgejifkdjihehcfbgegkghbjekkejdbgjdegkebkihcjckddfeeedbjgebghceejffgghhjkjihdddebbgedjebgfifkdeggfjgjekjfcegcdeciiiidikgckefjfjfhbchfbjdfedbjfcfhecgjgdigdiekedgigifceffjbfdjchjhgdijcbkjejiiejeihgfeghdeedjecgggiibdekcjiehdfffiedcehfcecgbcghhchkeehkddehbibhfbfdikgeiiikjjjkhckcdbkchcfjfgcdhhcejekcbihicjdejcgfjhdkbddichieecicebfbcejgejcceckbejejbegjekigchhfdgjbbcgebecggbfigbggecidckgehhjgjgkfdbeffkcgfkdhcejbkekgejekhhbgehfddhfhcfkhdebjcjikfeiddbbddecfjjgkkbiifgkdbbejegjhibebifbifcedjgjbikehbgefgeffhffkgehbcjifjbbhffbcegfbkfcgjbhdhdhiedhhdfibkjhdcfcbdfjfiehddjkdfkhhbjcjhbcifkgedhbhkkfjdjiegkiecdkbkibbdiedkhedbdeiebjjkdegejkejijebceiehdkfkgkecfhjcbfcbejkdebkbfkcdjdbfecchjdeekhbijkdkggkkbkdfedbjehhcefgbgjdgfdiejkdggjcbickkhggfheccjcgegejdfckehkhkjjcgbcfeejcibijfjdggfcigibfjdkjibgdfdfhhhhhifjkhiidhkbhgkcbcdkhhfjgbkjdihhkdgihegjghdibfhekhjchihgffecfkfgdhckffbcjjbbgbdkbdifjhhbcdidihcedehcbhckbiikfgbihcifbfggbdegkcjjcjdbekcegihighfhdjjkeebdjcbbhgfekffbfdbkedjchcffccfgbhdkcejefcedhfddkdkhieefkbdejcdhedhjdbbickfjfijhidgjhjihfeiifdiifihjgbkiddjekheejcikkckggbfiggjjfihijjgbfjfkgkidihgckddhbjcbhhbfdihibkjjdfkgkfcjcjhgdkhfgichjeghhccbbbefbjdfhhcjjfgijgffijhbbhbbfkdebbgjjehiffiekifeifdgcbhhhdiefddkkggffigdkeggbfgjdfcjjdgihdgfgichbcgfchgcccgchddbdkdghdhekbhegfifdgjkghbjhhfbckbehggedhgcdfdbkjjghedbceedcifjhiefekkjhiefdbdbckfgfjhdcigikbceeeidkidehkigbehhdjdcbedggheidjcjjgeeebcffkjdhfgkgjjkdkhdbeggcfcgkhbgcbhcfjkhdgkifgeebkfbibbeeigcefdgifdkhccbiediiekcigbefhhhjijkedgggecciehciicbgbbjkebijdikcgggebecgcffbgjiecbijfckeikjbjbkbjegbghkieciibdhfhgjjijgdfcddgcckddgfbhghccgdedckdjhcibfjijfkehjkkhjdhfjfdfjgkbdjifdbchifjckcgfdidkfkgbdhhefdghgekghgcbejdfkbgeibcigffjjcggeebciecdfdfgdjdibeigicefjjbjfehkhihhdkifgdfbfdihbkigdjciigjfgekgihbjggeghigbeggbichckijihkgeddechgjdejgfiicfbkfieibhjdcdkieihkdhjfhfkbcfikfbfgfecddiigffjhkeebjcifjbgdekbfeigdcdfcbeeifiibdjkdjgikdfddhbijjkkibfddgkcfbfddcfighbjjkcfhddfgdehehfjhiehieibjkgihcdbcjfidfkiidkgcibgfecifjehhdjiggdgjbdgffhfcihikjcfkcdbfeeiefhehkgbcdkecchhdhiekecbdfhfbgddgcdkdchjecibechefecdbccdhhggebckkidgejfjdjiciffhheebkdegccjddfjhdeieeiecjigghjhhekhbjeheffhdbkedbebcghjgbcfjihbbfbgefbiickicjbfdbdkjbgfhicdbegiecgidfiikgcfeefcjbdjkbigjhcjkhkbkigcbffdcjghehfhiicjikcicckedgfcdkgicfbihkgffikcfifidibkbdbgeegdjeghfhbegfdfjdbdjjgjfkehbhccghbkeehkfeikghdcgicidbehkkffgedgfhiicjibhcgijgbhcgccckefjciejeeeedkckgbffcdhihfccckbkjdfkgdfhdjebkikicbgjfhfggfkheiebjkjjceckfdfhgkjbgiegbgcdbhbjddgigjkkjhchjhjdfhjehjgjkkkdgchckickibkcgcjccjefgckidggfikcgkkikdcidckceccfhfbbehcdhigjfhjgfcgfhgkjechecdbekiekcdkkbbijehjhghgdkedhbfdbekjejicfgfiifgcjdhgbhfhkjhjbkkkffejkhhcibcbfcggjgccbebhgbhfkeggfjefjhffhbidgkbkkhhdgiicfkkkkjgfeghddehhhgchcbkfbfgfcjkfhiifkeijbgfhhfdihfghecbebebbjehcdbdeihhhkghchbbdfhfifdgbbbhdgiecfbkhhicckihifhhhgigkdbihedfdjefcihbjeikebjbkdggkgbjfijhifkfdihbijbjikkbceichbfkibifbiibjbeegcigijbejicchcdejhjkdkcbghgfeiihcbddibchgeikgedhidbhcebjgfikhkjihbgdjkidjiggeihedkeiihdbddbkicficjkdekchfcdbebbbcdcgjiehijgebefhgjgkhiiebeicjggckjggcfififibfkibhheikhdjjfdikbfkjjbekbjefgfibbdcekgkjgcefkkjgbhgbjhfffekkbfidgbbiicjjcgeehdkbfkgekijjifhjfceiecgjdjdkgkdehkfdbedjccfhkibddcbbeigdfgcdjdgjjehdjefdkicfiidbfkehbkgfbidkebjdbfdbbbjjekhdkghjhjkbhkhgdgkedeejckghfhkcgfckdggchefbickjcdhekjejfhfbjidbfcbgkkgchehcdbhkcgcbekbdbcffddhkkcjdheibjjdjhkdekgikfeifbhjekjgbhhdihjkigbikgbbfhebigcejcfidibgbijefhibfcgeiicjhiecikdbejbcdeigbceidkggekcgejicjdegbhjbiibhibhjhgdceigdbdcfjehhfjfgekgjjkjeggkhebhcbbjbggbkbgfhhiibfjiicdckeejfehgecheckggkdkihghegjcfckfebjbfjffbjihfbeefkbccfbgkjifhkdjghcgbghdffbfgjdeheihiigkfhiieebbgdjgeibbchdjbjfigegibdjkbfcddghcbhbggbbjkehfjdggfkjbkjgffibikhjkbkiefecfgfehffgfkfeedgfiddigkhjdfhbbcjhkcieejggbehijdkhhfiekhjijjddfhdkcekbhhdicfdbjgejdifdkcgjdfhhgkkfdcjckfdhiggjhddfhdidiibbdicejkddhddhcjjiikhhcbgebdbdfccjeckeehdcjcdbijhkccjbfkebdbijebkkdkgkdfebfdfdkejbhhjcjgbdbgefifkegefdjekfjjbgcedecdekieicffeikfkhcbdciifhhfjkidbgfgbicbfbfkcbjecggfjeidgbciffcffdbhidcidhchchkgfihgckfbghbdihkbkdddiijchcjibfkjiibeffdicegdjjkkedbbkkfhebeeeffbdhjigiejkdgicehjjigcgkgbehdjfhdefhbdgkfhcgfdbccifeegcejgkcdfhfehgfikdcdfbhfijeebkggfdiiebhfegiibkdijdbbbcfjbhddbkkgiceidikcgbhkijehigegegcbejcebibkcdjbdehehfbdbbggcgcgjfhcgbkbbgfjdkhcigbjchbhbhkdddeebhbibfbdhfgcdhegfcihhifedefhgjdbbibfecehfkdbggcgfigcfghffijcdgcjgdjcfbhiifbfhkigbbcebddjgfekgfkdbfgjjkddgkhfikhdikcbgkhbdjdgkhhjfbeikjdfdbeedijekkjejiejfjdgbbfeggeekhdckckicjeccjdgghbdekchdggidjfbbbbgcgfkicjcbgidkbeieijhhicggdhkcikehhifkkihcigeifkigcjghgeffbkckgbjigbkgcchefbgbeijffdhbceidjbcbeidcdkgfificcbgickeehgckihecfjicfchbgeijdjhgjfhgcikhhggjekjhjjkccjbggihegiebbccgghkbkbgfedcbgdihkiccbijjgjgkbidkhkdiekkehiecigeeikhbcbejdejhecehediihghgjjekiddeejfciedjkjdikkjeegheehfbjjicebhehcikkbccjjkcjibbhjdihiggijbkbfbhdjcifegfekkddjkikiebijckekkcecbjbcbdieihbdchgdjegfhbdbejbbidjggiihfdijdbchckhebccdkbkkgddefifcibkfgdcfhibcfjgejbhjbbfhicecihdeikigchhbcfebehkkjcdhbdhhhfghbccffgkcfkhgjdhkdhihbcjjgibcdbcbcgefiiicgkegcekkijhkcbjifgfggikfeddjidikcjdbfidecfkhdbgcbcjefihhidfeebchbjjbgkgjkbdiggegegkbibgbkfkhdkegejdebfbbkcbdfdegjehhicdghikfhfjcbfjbcfkkhgdjgcfkiiehfhfkbgjbigdfgbigdkcgfjghedjebejfdgceheffdbekkgfkbdbhdgedeikkdkcebfeicbjeeegjcdjdjijdeebdgdhhhggjjebgecjecbghfijfdfchjdgfjebfbjkfccejbghekecfefhcigjjhbfefkbceibjhgebdjkkhdkiggbbbgdbihkkidgdeddjejbdbgdfegihdeckdhjcbjffkifgdchcibbgcbccijdfjjekkgeidihjecjkdkfhiebdgbhchebdbhhcgjccfidefbibfedcjkieidhgdbdikkhbhkefdgkhdfgkeehckbbeghieifihddfkcdjfcicefjfjjbifidchjdkffdiehdeccjjgdcdeheghbeikgghifeegfgjfkehkcgkbffjkdekdhcedhjkfbfdhkhkkcifiicdicdggghigchhecjhccffhfiffcgkhhhffjhejhiegeeicigkfgeeifbfdihedcfjfeejbbgdjgbiibeikcbjcffegebiidfbiifijdgfjkkfheebfckjchhcfikgidfehbijggeehfcdgdjkkbcgehkgjbhgfkhdggjhcfhcbjghdfdgfhgbigfbkhdbeehghfbiffjiihidhejfkehikdjhkcffeedebfhcdehdgckeghgkkbcedccccfjehfejihkbcjbcdihcfkeihecjhhifdgccbffjdcbgbgjkgffkighhbcgghhchhchfjgckjkcgeiekkekdegkjefhhfhehjbcdbgiijcebkcebcfffggjidggjbciffjdckefkffhgjhiefihedkbekjgfgjidecbfcghcgbcebekbifiihkggkkkehdhkkgbejkjcgdbdhcfkhbdkcjffcfgcekgejihdgjciikgdhbfdfdbggibfbjcceiehfgjgcgfckffkbfcgfhcekdecfcdibgcdchhgbjehfkbefckeicfhbjhkbfkdbfdkcibhffcceeifhefkkedccihecjdikfdgffjjcggkbbjgebfbkhidjfkddbcfdedgbibddkhbhffcihhdbdjchdjkjiciiicfefgbgchigbeekhfjekccdkdfdchjgdbhebkifgcfcbhfgjjfchcifidkigifhbkfejcjkbgfgjjdfjgkdkgchgebhcbgekfhjjgkkgcggfhkgeidgfdigiiffdjhgifdfbdefhechidfgjhgkefcjihefheidkbgbkhicgfkjhjkcfeefdikbbfkhkikeghdeijbhfcfbibihcckiebdegjccjgcfgfgfidfgkkffbfigjfgkgbhkehchjdchkbigfjfdcgebkfiehdjdkbgddikcdgihdeiibfifedcjjdkcikfijbcjkdckgjedkjegkkjgfgddgbfbifkggfiibefcjjcifgjfjkfddgbeggbghhhekkbkkidcbfcfhibfcedjfcbbjfbfcgkfdbkcgbdjbiceijfbghdkcgchieibijekjfjebedfhkcjjddbfedihhfekjefjfjfckjfddikbcbgfddfheddegbkcbdjjibchgbdjgeckbfijckchkkbedgjjjkicefcfjjjcieijfkjgdjkkfcghkddifkhfkibjffdkhjehbikfjgjbbjjibdegchkbijgbcdibfdhkjeecdkjgekdeckdehbfdibkdheefjfidckbcfgbcjefbkfhbjcfekikjigggbdkfkcddcdjkccdcjhchjcghbjdghkeikjidhjdebdkkhhjhfeckebhkhehbecdkkdefbgebhicjedihhdfjfckgiccjhhjfddeifiefdiejcbkghhehijdiegkbeijgdkihfcfgbckchcdehdjhekibbiddhidfbhjbedhdhcjcjkeegdeigbjfibkdikhcffihcgdchfjkcedeeijcchgegggcccgkiekbcdkfbcjfkfcfdcffgbbfhkedjcfbifijiihjifefijkggebcihfdfhhhdjigkdgfihbkkdgjiifkfcbebbcgighfeefceegjdfdeekgijccekicjfekkgjefkcghcgffdkdkjdfgiiffbjbgkfdjjeikjkefgccekijjihcikkhhjhebfedghgibbgiddfkedcbcfkhkekbbeddkfgjhbbgbggbiffkkkgiggikcjghkkkifcfjdhgjkfhjcjffdjggjiekedbhghgdedjfkhebefiecchcicbgfkkffjeckidghhhbhekbiceihkbihkcfhfdibdjghjfbbhhkfheifcejkdfkbgjdecggbfcikdjbhgbehhhjkbhjdcekhcbjijdfkfkfdkbgdddibihbdeghgbccbihfdeiidehkihhijbjifekeibiebccckcbkbfcegfdckehceeiiekgeecgcgdkecgfjkkhhgccejbfgebibhddgfhgjegicdkhfeebfiiddideccbcbdbkckgbkehbkfedjbhkkbfkbfghjigfihggchicikgbekgghdgifjkcfhjdgbihiccekjhkhdfhidjkjgjgdfkgggeeicbcfjfjiibhbebjijdiihhjihdbbkfibjgggdfchegfdgfjbigeiffbdkeeiiejfeggegchjbcigjheebkdkjefbhcgihkdegjiicggikgdkfijfcjjbjejhejcidjbhbhekfbgjicbdjhhgkdjcffhjffggckfgjcbjcjjcgjjkhjkdjdhhkfehijddcbigbfhfcfccjdkhffjjdhbggdbjebffbdkdhkcjddihjchkccjfiefkjiekjbdhekgbhddbbbbcjkedckjdjbdffigdgccdbghekdhfdjihhdjjddkchcbbbkikkdkhhegeefjcbgdfgiebfcfceddfbieekkhibhegkfdeijddbjkbeefkkbhcehiceekcfjekedeihfeekigkbkfekbgjgkdhhbjgdigdkhbkhjbbhcjhhecfcgkjfjddjeebkjbkgicefebkbjdkekecfjgbbfbkhbfgjcjcgdkfbhbdcgffjjccijefgkjjhedjhkdifbhhchddbkgkghcfibdbhkbdkfdhicggihhfbjgigieihcfjjgefeddedgckifdcfbhgjgdihfeedjdgefkbgfhichkcgfkkbkkgcfghcbckjgcchgcccbhdcebdbkhiekjjkcdfgdhbgdiifebcdjfjebkdbdjkbfcgjjhbkehcgbjchegejfkgihkgdgdehjhbhcjjfigggbdehdfjcjbcbccckfgdkdgghbdicjkibjkeegkggdkcibhjcfibhcidedkieehghfhcfkbedhhhedchijcfjjciidjbbijedbjkjhbbhehecgjhjfjggbiceekkckiccjibbjfjbdfedcfibbhfcccekjicficdjhkddcfibcgjehihfekeiidfjkjhgbhibgchjbibfdjjbdkeeghcjhddfhdejhhkgibdbdijedidkkbfhjghgccfceggbdddghcigkecjbkiiiiijfdhfcgcdgfhcdigiiedggiebhicgcbikgcbckchhdigfjjbfkikdkejcjkfkgbjifjkiibkbiiecfcekjgbejhekgkbededigkhjdfbecdfhgedefccfjhikhbdfjefkedihdghgcgkkbgchccgkicedebhhdjcdbcekbgbddhibicfbcjjebdkkjhfbjkidekkdhcgddhhgchffeiccbeibfiffbkjbbkekhckhchbgdfehbekhjfhedhfcjefghihjbjjhdbhbjbdgdehegfbefcidgfbjgfjjkkdghcchjeekehebdgcciikbighjdhbfbjjcfbhdfbkjcdfkdjhibgjjibfhcidcdkcbdjbehebefjchbbejigibckddkgjcbkjbcbdbccchggcckbkehhdfibhkcjeedibfbihiihbjbgbgjcichgcfjdjbkcfkchhkkeiehjibeeckfgcfhfcjjcfifbbedhcdefckfgbeifhcjfeciiibeekbjihhedifkcjkfggigghfhjhghfejihhijicbheebbgcikhfihcckehgeecddjfkeehihdjfkeebhfcbjjifcbjhhdiibfkedbfehbbjfdijehkjgfjbcfbjihgkdbdijgjiihhgdjgkhjijigjjbjkcbhikcjbhcdkfhkkbfhjddficbchdffidjcedhdicjfbjefgbeehihkffhbjjfkciiicigfkckkkkhjbcihbckbdeficbdkfkcjfgkkjdbbgfbfkfgbkcjgckkjhbfgdhdifjfidkgjhedhbedkgbbkcikkjfigjiekkdckdckcdgbbjbkfcghijbjbdggkfdjhcieebfihfedcjbjjfdhdfjibbbdcceefhhgfigdbckkdffegifggbddicgdgihggechfhekdiibhjjjbkieifeiekcdedbcbfgegfcdfcfgecghkfbgjijiigjgfieikgkigfjckcdcdjfeejfhhcedgbbjifhjigeddbghgdebgedbkeckgbciccdihidghjdjkjiehicikijchbfkjbfjkeejdfjdhbgifhgfbgkjfgfhjhjcfhebcjjheddihhbfcekdkhdgdchiekiiikjggfifdbbkdifdjgfkccefjiecjgcecgkciidfgebgbikehkcbkebbhkieiejjfhgebjejjffhjddhijgjdkgfbcchkkhicfedcefegdbfdbiichfkghekibbjhdikfkcijffbjjkjhdbiedddedgcgcgddikjbjjkdgefhgjikcfehdhjghbkbkcigdfcgggkcfikkehddjijcffgbejikdheckdjchdjcggeeehjifbhekekecekeihheibgghffghbijhigkhgkfhgcjghddjckidgbdibkbeccgbbfcjgbdekfjjjeegfbcgidicjcjdjdigjjdffjdhbdddijhebhciijheehbibcckfhigbgfijgkbihgbkfekefcifgjjhggdiekigccdjidbfejeecdjfjkidicdcbebkedgcfjbcbcbjgdefgkbkjfghgefjjgdcggckccgdifebedhkjeggkkebgeicedciccbkcegjgbgebjcbbebgghbjbdhhehddheekdgceidihijfkchgkjehbbgbkkikidbcddjbffkfgdedhfhkfbidjhfkkgeijighgjjhgkfbfhddebcjbihfehcdkdffdiidejdkikgehdkjjcgccijfdghjgikgjcedjhebdfbkghjikhjcgddkdhbjefchfdhdfibbhkceffbbjdgigbejgjhckdkdjgkegcdckiefdjjeefcbhedehdfdjdbhghjbfcfkkgjkkicdfkhbbjdfhifffkdbkibfehfdfkgfhbidjcijfihchdcebicbgkbhedjjkefgbgbkefcichfeffidkdbcibeikhhddbgcgbfdchiidgbihdbddbdcddfkikkbigcdjdcecjechgkkfgdbbbbkhfhhhdgkfhkcfhjfdbdhkjccgkcccefidfdeecchicebjjekegidfdbjckieekfifgjhbjjbbdiechkkeckkbiefeehjkidkhjeeikeegcbiijecjddhhccjfkdcjckjgcggeijgfdbhdbbjckfhcgkigiehgjfhjekbigikikcgeifdbgeebjcjegfddkibhgfgjkfbkeffbkfgeefghgdecbedkkbjdghhfgcjcdcbgjbhbggcjbicdkedhkijcjigjhifbgcbbjfekekddbjhhgdijjegdcecfjddggeekchbjehdfdehheedeeicechbcceddchghdghcdgddgjjkgkkcfikkeefbfbchbkhjecgddediggbckibiegfdhjcjekfdkeccfdfceikfekikihekjbbbkhffigichbbgfbeeigigijcjcjdbjgekbejeifkjjjeidbdhgkhehkehchcdegcgbejkddhkjgehgidehkjidbiccibgjedddjjkegjbikfjhbjchihcbbegjegbchhgcbbghddijebfifdjfdcbjdjgekhhehkfdhbkdcjjkjgfbgjdjfedjhfbhjbfhgbkedjfkhcbhikcjbckikjiighbgbecggjcecgdjcfijkjegdeejddfficbfdbbcfkjbdfejgbcbdfjgeebckhbfjjjjejigdghdkffcbibjeiiejcdejgijcfibjikjjikegkfhbceicjgkhdbeidjkfbdfkdfjjbbhjjgejhdkkghijdgdgidfhcieiejkfigfkekkfhfjgdkhkgcbdbgcbgickhbhhgbgbfdchefecfchikhfffedggbdgfdebehgkdejgcibigcdhjkcdfgbkjfhgcfjfhdbegjjeeibidgbkgkfibjbkhdgfhbcjcikjjekjidddehijkkddjgejhigjcjgdjbhddghgfbdgbkgfdcfkgcdbhfchghdfdcbdjdffgjigceekjkdfjdfhhcbijfkfchghcifdjjfbhddbebejiiggkjkihhbidiijegbfecfkckeihebcdkbjbegcifjhieijeecbfcfhefjiggefhjcjdecfbckgjfdjjgbbfijceebgieikhdjbbdbfhefbkjdkgfkjkecfgjcckbckgeeifecchjbgbcckiddkegekefgbjkbgheeehchhhhchbbbkedickhihgkdjhiigjfieiddgjfeccgfjedbcejbcffgchhjigbfhhkdfjbkgbgbddibkfijdfbdbhifcijhdgkjbeigkdkhhggbdcckdjjcebbghdgkcfehcbfehfhhcheibjhfckjefbgjfeegfkkfgbbfjjkjgjbgficdgebdfjiijfifkjekkfdcgkefgghgjgbifcifkbigjifjikciieghbgcddghedkchcdcfbchcbfchbjdkcbjdfccicdgggjeddedfijdceccjhkhbhgciekgddbifgdhdbbidkgeifkijfcjgjeejhggkgdiedbikjbfidffehhjhdeccficdigkdiejgiegiechcdfcbhdfidddiffjdfehbigejfdfdcggfebdecbibbffbkcdcfbgejjcikdejbhbcfgideedfegifcffihcckjbeigbebfjbjefbccjiiebejceehjkjhkbbhjebihebdcbkcffigchiiebhbgebhkejhjgkeikfjhgceeigfhbdjgeikdjhfjjcehejkicddhidbfidffbdhjieigcghbkdikbbffkddigbegddjiiegikgejhejhjfcegbcdcfibjbjekigiibghhkecbikhhdccchbkecddebigcjhgfifgicijiicgefjefbifddjfbbkbdhfejcechccbicdjhdjehbhikjibbjbgehkedjcfeigbeiceekjefkjgbkffegjfeckdkeidfgedhhdcdkcfcjfchgbbdikhhkbkccfhidffccdkhhhidcebdgifegjegbgkjddeheecdkfdhkfidbjeecjbffgiikgchgjjjebjjkedcgedkdihdjcgdgebhhkcciifjjdbkbkheiibkekgfkejfkjecjcdckkkbfkifgjckjjegghegcicciekkgifbhjekgjchkhfhigbbeehjgheffkiedcffjibifgkfeffhjidjcdgdekiddccfjgeibbkejjjibcbcddhjebekehfefedddjgfeffcefkeiikbchkidbejccjichgicbjjeijfhikbiehkkgihggkbehebgcbgdkkcibjekiidjjhfcdbecgiiccfcbkegfibhbfkdfdcfbdjbjdbgiggikffcikebjdeibgdjcgifbhkiekceiigkgfffbegickecbhbkebjjdfddgjdgfgejgjkcdhcdkjhehfehjkhggechhihdidibekbkgejihdcjbchcgjbdjkefjhbgbjbgebhjgeibibhgfhkhcifebbdckgdkcfddibdeffefhebbcejedhdgehiffchjhdhfjjbdjekhkdiidkchhgjebgicbcgecickfijfjkdhibegcfkeeefbjchggiifbibfjbbgehcfecijkebdkbbeefeeikekkdjkjbefjekiicgjffhgebdcbkebfbjjkgkkdcfijjhijghckfcgdfjhcedeffieefkhhghedekiiebieeebbjbkckjehfhbkieiibcdhdcchhbckkbkihjdfdghikcgcieceeicffeghdkikehhgebibfifcickgjfchjikhjeeifchgdccebdfghkbehkebhggfejggekkgjghjbhibfckidgfefcjdeffjidffjfbjfdccfkibchhggejcdhkhghidbfjfdbbchciieedbbkjeddeifegijheghdjhdkeicijgdkdijcfjjekegfkgijfidjdddekkijgfhichbecgkdegibbebihbjkhgccckgdeeffkjfgkdfbdhkdgkddccfejdbfheehbbgcjkhdkhdfifhbijdgbbjbkhihcdgihdcgeicdkbbdbkkgekbekhcgckfcfbkbdidjigkfgkbkhbebkfkkhhhgiejiegifffdkbffidddcgfcegckdfcbhkckjhcdbekdkdeiikfejbbdghcdikdjcfkjhgdfkkfgifjkgkfkggejbbgbhfgkghkgjdjkigeigcigijikbfkicdfkekehkjggdjbgcbbkbddfdefkbgfjkgckdibbcejidbbecdhjdjfcdchiehjbeheghfgiefefckhdkegddjkkggkgkegcedcjcihhijejhcfjefficbjejbbcdcjieccibjejjfkkfhkkcgfkbdbdbbiibchdkifggjjfbdbehjkgbhcdcekeeedbdedjfhdgigbcghjdhceeheiicfdghbkejieidhdijdeiidkickcjiehchjcijbdcdgeddkkbiefgjbkjbeibckhhdjgdkgcefkhcdjejiidcihjjhkdjdfjhicekkjidbchdkhjjihkijjhcikeijhgjiccfidihcbhjighbekckkddgfebhighbcfdgfjjebhfkecdkjgjkcdcfgihedkhjhiiehgjhiikhefijbcigkjjkcjbefhikjbbhjgbgiikkkkicfbbicfebhihbjjghcfdijefbdedcfjjkghfgdhicicffiigkcfedjcgcbccegekdhjhfckehdgcehibdcfbbeiebddijiidghdjgdfkbbdkdicbfckigfgigbjjbhgbiccfeekigehekfhjebibdeeghdkkfbkjjgiegbdheigdjfjegbgfjgbdhgecgkikhkjgccefhedhjihdgdcgeihggkjehjigbhhdkbhicdbjbhheeccbggkbicekbeigidjbhgfibikgidbhdjgbkcccfjkhicedekfkbebhijdjbkedggcfggcchcicihhbkkihjejghghgfcifjffeigkigiifiefddbekkgecbgkebcgkgjbibghiiibkhfehccdhkchhekcfcghgjeifjjehdecikkdfgjjchhdgjcbjgjidfcfjghidbjcbbiihiibeiikbifedkibjddcechghjekhcjidkhfigedgkifgfebbhfgfdichfhhkgfdekibdhcgjekjkgbhbikefkkhkhhjgdheecekfeegbibiikkjddgfejdbdcibcfjddhcijjffigfbfjekjfeeihbjebcijbeggieddijdedkjeedebkifbejchefedcdhcjdceggdbgcbgbjighbjkjcedbdcfiikjbffhjgiccjjejihgidkbbgheggjdfgdbhhgghijejdfbjhikhgdkciicedkicjkcfkkiggbbedckchjhgddjjffcbijbfdidccbjcibjkhjcjciikkecfeehddjbieidbbddcddicgbchckdcegedhbdbbccgikbkefgdbeefbffdijcegjcggjihgkfgcdjjgedeggdcbjgieegijbfkcdcijhekehgfebdhhfhchigjbgekfkijchbedkbdjfeeccgdddfeebbkbcihdikgheihbdcjhjkijbebebcgkikhfhjjbhibgccjgijiijbjcbidhfgddfggjjfdihdhkfhghhfhjejhjjigkjebdcjidfgibefggecfbiddfkghcdeekdgjkjciekhfcjikegjejidebhicighhcgkideccckibbjhjfgfiibhfgbjggebgggfkkecbkhcjjjijidfkiijefgbbiijbgdgghkkeihkfcdffeckkjffcjcgdgdjibjjckcefdbgjgfikbcbiejejhfdfkbcbcfcfhiciecbbbehhhkfbfjkhdiefghdifhdjkdhjjfjhgbdfhgeeeicfdibieikbfbefkjfbfhefebijcgjiccdbidbkfbddefihcgjjhdhdfdhibigheibcdkkdjdekfhjjjhiiceejjbdiigbifhchkbjjhihihkbfifcjdhggdgdhichhgjhkbgbkfhfehckfkcebighhjfeekgjjegibkifjiffdddgbcddfhcgeggckgiecegcegffigckfhbfjfbcdkidhhdjjedbeebkhbfefgicfbchfidgdkgbjekgffffbkibcfhhhkbcgjekcjdhijjefkehhedhhhdhidjgdicffeceekhdgkkhhihdjffdgifjefiicgciddedbdckiehgbfcbdgdhjifhdjekjhhbdedcibcfhfjhgdfkcddbkjegfggdihkckcjjgcccihfjeeibdfiehfchffbjjdchegegfbkidghkhdkdjhckkfdcbfdbcbeidgkceiehkedbkgbbgkhbcfkjchhighjejfkhgfjffdbbgjijbgcgkdgdeidbfgddhjhieddhhhfgdhhbbibiefegfhkdgjjiikcjbfgekigieejijffjijejdgjkjfbikchhhfjcgchiedgiebgiekijcchbbdgbegjeebifbdhegehijkjkkifkefgjgfjccfijbffgbekkbfbjffececkgfkhfgccbgddkgbiejffjiehdbkffcgedkcdbejhjkkebbbgbedjbhkbfjjfehdeccfdfkbibhhdhiecbikjejkfhbhijkfbfcckbchekhhjjkcdjcceecfekfeciejffkjiigkcicdikkiichgdhjjgbfjhkgccegjjhecfkhejgikchkhigbefjfhggdgkjeiheeebceifcgbcggiehhddkhkikjjgkjgfebdkikkhfciebicichfehjbdgcdjdeiekedjejehjhikbggifdbibeegjeecekkfgchbbkdjbedbiiikdbccgbcekehgicjhcebhhcjgkdbffggccebijccgggiekbecfbgbcdcddehgdhggbhgbkcbbkhikhhjfijjhckebdgchfhbchjbdcihfebeejjbcdkchdiigeffijickghkjeggfdejgiddkghgjificdbkcgeeebbkkhkbfifcgjhehfifgbdcgccfegijgjjjcggffghkebeekbbcchejgigeieccieibfkjgdehjiiejgkfkeccgchfkbiihcgjdjigfikieekgeibdccghjkcfjbfdehigjifjfbejkhdhhjbgcfgihkdgbedkheddchkkiigjkdhjedjecebcekkbbiedejgbfigegbeigbghdkkjcjdkbkhcibgdcegiggikibbjebeihhkddfccgehddhejgjfhiggcfkbbibbdgcihkjidjjggedgifdiebibeibfkbddihfcchcfjjdkhdbcijcdkjbihgehdeeehhfkfhkekgfbbbbefgbebchbkgeefehhffkhfdbkjjkfkghghbggehedhjbefkkbigjcjkeccjkifccdjkkifgihdiifjecdkhhcebjejkgbeeiggdhjdkeghfhickhhdffefegdjkhdfidbeejhcihbehkcebhedbfhfehebcdcbfebgbcbkbbbibbggjhjddkefgbehgikkfebbekdgjceeggikkehhjgjgjbfjhddgkgdbjekehbhjfefgfkdhbgjgkghccckifkhibcejkjbjbhhdbkihbcgkkfegbhhidijcihjdiecgjbdbhkhciffdfgiibjgbjhghkhbjhichgigjkejcdbecfdbjigekgkgbggfdgjkieiddjkffkgfeidfkfjdebdkbcgckdefckjiggbejfefdjjjbfkihddihdkifjckbgcigdjjdjdcijbbjdkjhgcfkebikheffkedbibhddggehegcbheifchbigegifdjebfffeebggkjejfidbdbjjchkbefkgcikjjckbfccdfhbdifcbjjcgekcjfkkghcgbfgfekbckcgbjhjihfgeejfciikfhcciebijkekfgdkijbgickjhckgedicdkdcfbkjeeckjhcfhdhkbhbcfeijcekhihgkhgfhbjbjhcikkjjddjcihhckbkhdgdhdeiidefidccdfdbkdebefigfgifhkgfjckifkgcgbehhjfjfkhekegdbgihfcchgfjfbbhicggkcbbdfejkcfcijbdbfdehehfdiedikfijdgkhkkbejjbbigikjbicjhchgcfegffhhfgfgecbkjjdfhbjhibkhbiecbbbfiibdgbceidfkjbfgcedfdcgkjhgkdfjigdcdgfehbjggfbcgfjikjbjgfhbjhdkkffbjcbbjgiciidjkjcicdigfkebdkfhefhjighkdibkhjkjfikcgbbcfbjcgfhbjghkbdchhjgbdfijgbbfcegdbgfcicekhbgikbefgghjkbjbdfgcjbgchgieghbbjdcfijjjfehjgcifbefccddccekhhkcccieehgffiefidfhdbgjbhgijkiiehjbhifkibgjkicbdfkbeigbdbfehdbgjbgbjiidjbfdbfibjkhbkfkhkkgbibhhfjcihhebfccihkjiibffhigecdcccikifchcjjbcbgbggijfeccejcjbkeikehggkdkdjkgbdcjejbichckbiedicdgebghbdcfcbcgdjdkchjiddhbggbfgddgciddejjkhgjbdhdebibgfjhkkeikjfbjkjfhckjcijfjckjbfckkfehdejfgbkiehdijhkdkcbeikkhhjbcifhhbbjjbifjgkcgbjdjkfiecfjkgicjekdbfbfckggfeefkiigdickiddgjhhbhjekhkgfjcecdgificckhkfcgiichekgcgbbbiecihjdfjdbjjcbhjbjbfhegkhgghebdkjbjdbfggdkkfbifjebegjifjckdfeiiedjegkbjcbcddcikekbeigbefdgifcgkfcjcegjkddjehbcijekhkieejbhcibidgfdejgbdcfikibhhfidgjegjfcikghdijjehcebjcbebgedfekhcddebcibhhedffgeckhbgibkfjjfidkijcgjeiiieigbgkkbkhehgedhkghdikbcfkkgjeeedghjkgbkbjjdhihhjciciidhhckifjdikeiekhhbjhegjhjhgdijdfhdekjifjikgcifehihcgcdhkbcjdfcghebbjdhkgkddijcghgkkgefcfkegcifkkbibkbgkkbfijcbdijheihihibecjfejjkfechhhehbdcjhbkgigcjcbfjcdbbcgibihikdcffccfchfgjbbffhjjckickjhhkhkcfibjbdikegidfcjgccjibihhkhhckihkbhjdecfhckejfjegkedkbkgbhgekedidiiccjibcgikgjihigiccefgcddibfbkghhdbchkcfecjejjbkhehjikekcddeighecebjfbikjcjcggkfdijkkfiefgejjecibiekeekcdbjdjhkhihhjbhdecjghbgkgkijbgkjbijffeddfbkfibeidfhbhdejgjghckegighchbdfjkbgdciibgjbfgfkcebfkfhgcfjddeggcfcjfgcbeebdkdefkfjdhchbbkdkdbchddkckjegdeidjbgckjeihibjfbdebgfcjdckikjihgjhchjdhgdgjbkbhfhkhchddgfhjbiebgfikjghkfkedbfgicecfbifdkhgcjfbekjdjjggbcddjhcfceffhfdbjhkbbfgfkehbkdcdkfkiicbhdficcdggdhbdeihgfjjkkegdfhckhibkiekibiieicbckdkijbbhgigidhehgebfgcbgijfdfegkgcjkhijibdgihdecekdedfbbbcbejdkjfkbbjhhjjdkjehdighejjkegjfkkkiciddbfjekebeicddbjiffecjgddjhkefigijbkdbjkijcdkkddcbbggfdibicefhdgiedjhbhdccidcfkiibhbfiifbfgfbcggejcidhgffijcdgcfidhcffddjbbkdgjcbbjebkcdchjfieeffiifegfjgffbigfgdbjcibjjkedjdhddfegcicdebcfhgbfcjfkkegebkbkcdkbhkfieddidfikdkbbghciddkihfdbccbkbdifdbfciicfejebdjjcfcdeceicekdhfjggegchjhidgegedhdghhjfddkibhikkchgddikbegbfccgekejdgchgdckbcediehjbbigifggigefcejeggifbcejjikkchdjjeggbjedegbjhjbefcghggcibedjgdfjkdgijhgcbekbhdgkbjeheddhbgcejjfcebbbjkcgfbecdfdegjibgdihdkhhjjjckikccbcffgdgejijgdfjiiheiidfbiijhcgfheedikbecfhkbfjcfdbddkeffddfdfkdcikjdhbikfdhfbidgbkhcfkbggcikdbdfjjcbigifikchjikdddbekbcjbikigjebehjgikjhfjjigekjijghbfdfggccbbkckbhgdkdkckikddjhcieecbihbebeebkegcigcigbbidhijdhkekkhjbeehbjgggfdhhigdckgihkbchcebdieicjehecheiibehkdibgiffjjgdfdjhejedjkebejibbkkkciciefjhdkddkkecjkkkcjdkegbjjkkkhikbkkjfchkjeidejebffhkgdbijdfjdfdhfiihffehecgfdhcjbfbikbijkkceehcjdghjfecgdfdbiciigffbjkjddkdijekdcjchbifihdeidchdhhdcfidibebgijkihdjcjhdcdibdfgddejhdidjhgdikbdjkdiidceeceedijicbfjbdddfijbgcifhhikhdckdbeccgdbbedfcecigkjcjddkebjdjdeccfgdeeidhfjhccffiddckekdfjhiehibgdebkehhikcckjfhgegckedjbiceejdjdhjgigihcjigeigebcdejcbddihhhekhhcifhigbjkjfghhddbgifedjfdeegkkdegfjgekbjkhfcdcfifjcfdecccdkkhkcbbfibdhjjdhkhdhffidjgfgdfhiejhghjddjggifckbkdjdikhdcfbgdejidbkjkhdiejbjbeijibhfdbbkgkfejfddecdkhihfffejhikjheffcbkchhbkhbbkjfcbidkbefjcfdfejffhjeckgkccjbcfhbekbikbjfbigbhfhfbejikdffkdiecdddgekbfkdjjfhdhdkcidibjbedebhjbfibcdhihckhjibddjkffefidhhehgifjebdhhkkecbjekkbjhjdifjhebbebghdfedcceekbbbebfdickkjjggghjcgfebjedcchghkhkejicfijciikecdghckjbgejbbhbbkecjbdjdghibkjjgdkbbbhbcffddggihhedfkfdikkcegcgbjhkfgddgjgbjifkhbkikkgghjfkikdhekjbgfhgjfghbjbiibfjibkigbhbcjccffcgcheiiiijdgkgekfhifkdhjkgbjbeebkiekgcejcbfbhjidibdcbcgkcekejehejcijjcihjgfejejgffdkcedkdgkehkfggiijekkhjeiidgcddfbihikhbehdediidgfbicehjkifjikgbjebcbgekikikggkggecjekbhcjegecjkggfeddfibhjdcbekjcjbbhkdggdghcbjdbgehbchbfhdbidbedccgdigkfbkkdjheiekfdcjfdjkjdfjejijbfgjgkckifbfhghiegkhckjihcddecbeffjbjfbccggjbdbjdkbdkjdjdfhdgiihfcjihbgcbkgcghkcdhckfdkgfifdfgjbchjjegghgkdjkedcfjkfijfbgfibbbefkkiieheehichfijgiggdcibfikjjheddehbckjhechehcijfkfjekjgcddeebfkhicfhhikdfbbdfcfiificehkdjcckbjkfgikhbghbibcfideecchbkkejjbidbedkcgggfhbfcijffchehhbccijbecjdkieekeigjifkggjfkkihebgjfifjedfedbgbigchkbfcibidibccgdeijdddifhiekgefcjbjhgfjcejjidgcdffjjddkbdffgfbiceekfckkjdgjfjkbiigjbigkkkchkbcceggjeikhkdibhfjgjchbhbjkhjcibdbfefedihkecickeghhicfikjfkiedeecckecbjifidigdcghbdjhkefjijdjgieiejkggddcigijbdjgeijgbgihekkkciiigkchfigfihdkfjhedgdgkeiijekhihbkickddkjbghgeecbbjkhbgibeeddgbhejjbjbfjgecfbgfhcdcejcjgfbkedkhibjkikcgidedibiecdgfjjkieddfkcgjjgdkfcfcdjbhhdfgkikgbjebeikfbgchcfkcjjegegdekcffjhgefkkbbgjjgeffecejjcfjhgghgkkbbkbgdjfhfffidiegfbededjbekfgdkejicdfkhbjdfkfbdbcfejdbhedfkighkcegddecehkificjfjkdijhfhgkehkhikgjdecegbfjkjbdjbbgdgkbjhgchjcjgfkhbkfjkfcekkbhchbchgeceeebgccckhgehkjjijgbdbfdcbdhbfgdijkhdcbjcdgdbgbffcffghbgfgjkbdkjdjgheddhdejjefkfcicgihdfibjfkcefigebjehdcckfijgbehhehdcecjekieeehbehbjieghfhfdijifekfbhgkjfbgekcfkhhiikhgfghieejcgdjdkfchiddikbhffjkkkgidigdghichgbkhhebdjfgdbhhjigdjceehihhfjibcdgbbhhfhggeikgbgkgkekdkgdfijiedgehjecdbgeecdiibiicgkjhddkhjggkkgbbdgkgfidcecgjgdhckdbecefdhjibjijifbfkfgdbfifdbjhddhefjdjbhkcfieiibjgihedjgghdifekgikjkffbhfdjkhhkkbjdjbgbccbidgcjibdkidfhicikkgfdkiiehfbggkjkbbhhcgijgkdkcfbeifeidjceghcceeckjhbdfkhfcgjefekghhhjgbgkebbbeiehgekeccdgbijjfbgedjhjjghdhiidccfkjehffgieiigegfcgddehdfbgcjigkkicfciicjdedijfhbjjddhbceecekkgikchcbgjihbbjcjidgfihjkhghgfgccgegjifjcbkbjbdhkigeefghcdfhckggeichdbghjfehdjigchdkgcjdbhekhddekhdkeddkbkkcfgkickfcfgccdkbbfbhbfhfgkekefheigeeikkfiejdhibjegffhkedfdjkeibbkifdcifbhfkeeehkjkbifeegdcjgfifkfkbgiebfifeifjdjkkkfihhkcficebbgddkeehejfhhkkkhikjhfeedgdiibdegiifhhgekgjhkceehbhjbihkdcgifiggcighhfebecdcbdheekghhfbdeihjgcjhedjhkcffkjekhjfehhgjhkibcbeichicjfjhiffddkhjijehdfhjjdgjiikejbhchjecigeggcjbdbddedggfgkedjfkghigcdefjihgdjhfegffjfkghikfkhfdbgdkcfkfgcfjbcgcifkehhhdfcfbehbbbdghdfdddbibgejicgkcbgjbfdfbbkckjhfieffiihdcgjckejkgfkjfccfbfdkkcdiffdckjkcgjcbfdhckbbjdifjcebeggcdhiieedcfgecddjcbchfjkbeghifbhdkjbbdfjdjebfbfdhedcbdfddcejghebgdifghejhbfeidhgjkbbgkedbgdbbdcdedkdejdkiiddijbdbfhgdjikhehhkefkkfeiikedcegekbgkgicdbbecdgkfehdjbkgfihjdeiebckbkkbkgfkjdggfjgdghgekihhcbibbbegebfidbjihjhbifecgfbckfheiffdidjfcghkfieeebjhgfegbfbjekbfeikechjjcdjekdfekhkkbijijdjffehckkihbdjdjcdjjfgikkjchiijjcdiccbhfgedfejfceeckjgbdbdfdcecibejjkchfbickhigjkddiicdhfgfhdjeeebebeffbkehgjgdgkggicebcgejbghgikhbhhccchfcjjkgcigbhbecbfhhjfgidckgjdhfffkbifedjbbhfikcikfcdjgidggdfcjfhdddekdecgjgiecfkekkffegjffdffcjhcjejeiebfbbbfchhhkfgciekdcfjibhgceedcfbhijhjfkfbkfbhiefkebjbebgcdbicdkcgbkhhekbdcekbdejbccfgbeddiegididfjicifkhififdgdffkehhjckebekefdfkbdfekiikfbjkkedjgkkbjeikjkikdhfibhikjiddfkhdbckfjggdfhhkikfddfkfkfkfhgehejcfihbdjgkibckkhfhhfiejdejbddhbhcbiebhhejhedjjfkfieckdbejgcfchhefhddfdhfcihbekifgkdjccjjdhcjbbbeiihhdfgggbekifcdgkgibhkihejbekjhhhijgkebjbkfeccekdhjgehfkibjbkideccefefihdbhkjcbgbhbhecgekfjcebhfbcccffikhjccggjkbkdjcbhkgiiecihjekccgeekchejhhcdjggebigifjbbkdiddgijkkkegeigicjkkjhefhiiidicfcbjjceghebjdibjeehibfggfjgjeghbdbdhhedcbbeeiibcbgcijegjcibfcjfgkjcbdhbhkcifbceccecfbbedcedbgkcfcekjjfkfeefdcjbefhjcjkidjeihhhfijfdjjjgbdkikfhhgedkdbgbceidbdbdgckhffghgheeehhjigkgfjgiieffkdhjddkgjddcidjibihkijfciibhhhjjhkfbfegeiifhhkebgdgheikjghkbiedeedikekefgdjcggijhgkebheekccdcjejgcbhbgiiighikhjcegegcbcikkjfkckdfgdfdhjdfkbefedjkgbeieibkjiickjcckgeikkhcbcbebfhgjcjkkfdjbcedjibieibfjbdifickgghkchehjdfjfkdihekigkbibhcfjbgiicfefkfcfjijggchkhdfdkcebihiiedkbkidfcfjckcbcdkekikjhgjecbcgbhghhbkhecfebjhhhbjkjjjdeehfedgeegihikjekeigdcgbjfgkcjejigdchjecgcejjdebgjckjibgeghfekifkcgfehjjgjkbbgfhigebfkicfkbhckbbdcebidfdicbidckebgjfgeihcbdgjiidbkkkbhfiecijjjbejhkehhfbdcgkjeibhgkjbheebgbdeihhcjcdkcjekieggjbfcifckkehkghhkbeikfkicdgjgdckkhjihhfeiccdcidkjfifhbjehbghfbjkdhjfhibhgccdfgchhdfkehcikhkbdkdbjigfcjggehfdcjkcegcfghkfjdfghebkkbjbdggkedcjhjgjkcfikfgkjkkccjbjikgkfgghbjhgdcfkkhefddbkfdfdcghdcgiejffdecbgbdjchgbdchdhihiihgjbegcbjjfhdeeedjbckddfefkijfegedbfjfhgckfddiekghhkjhgckgigfcegigjgeghbfhfghhjdibfgedcfgghdkfjjhkejkdejeefjedbjiddhggjcgfhfhbbcheifhhcijekhgjkjeidkbjcicfefccidjfchicgcgbdfdhehigfccijbciecfikfdggfddhcijkgbhbifefibebigcckkbcghjeikfdegefcdfbgbfgheeihighkdbhfcbjdjchickdgjegghedebejbbkdiibgjebjgbcjgcidbjfbehdjhccffdihcckhgchffjjdfecicicdiieejddfehefdfiecjifbfbefgeidbfjegjkjefbbjihhijccgffebikdkhkbfjcfiegjihikhejdhigehgkfbgjkgidhgjedfhdkbehcckefdcjebeecbehebgebkgigfefbgfcfkekfkbckkddfbkhbfjghdhfjbjdeifcjhbbdbjgjbecjgkffjdcgidjgiibijjfgkbcjcjdfidgdkbgekjhhdhcjijjhkgigekjejkeekdiiggfjbgdcbidkfkheecgebjbbiifhkjdcdfhbeekgbhgegedbjebdkbkgigeihjbdjebdebcjekbhhhkhdhcdgkffchigcejgdfjecfedekdfcegiggekfkhfigdeddbdikfccjikgijkhijfdjfedgccbbfgkbihkidihfjhieekbijgkhfdiccbhcigggdjbjkhkdeibkkebjckechbdfbkfkiekcdfjgcifcidhkidjeikgkdgccffedhckgkhjjfkckibkkcbdbcdiddfkbccibeehghjgkikejdhjhchbfchiefjfkddigkdfdiggefcfkdfjhddgikihjbjefhbkfjfbkcfbceidcddfcdcbbhikkbgiiechjjgiikjbicjjggfkciecjjjibgefcijigbdbfjjdjfgihigkjdcibbgddbhjgbbbefjhibicfkiiebbfhdhebefbddbeicckhiifkkdebjbbddckhkjkbbgdfdihegijgigbcbchjdgcdbejibbikjhgfkegehjkdkhbjhfkeiddfggechfihbfeedhcegbihiegjbdbecdegcgjfcjhehdegefijhdehibgkffghcbfkccjfccbffcecjebicdgekjjfhehihicdfbbjecekjbicbiedbfkeffjfjegjjbcjkdiihfcfjdgckebkkkhfjbdjeefdgecfbikifjjiihjgkhddiffdghjibdffhecddccdkefhggjjjbeieiikdggbikbcecfjecefjdeejdedibcdjjcgbcfhhchfhfgdikifhecbiifeeicegefjhbiidiccfgfidkjjbdcgbkjkbhcfkigffckdhjfjehbebkcbbfbjfgkfcgbkbccigggdfgibkickecdgjbchbbigfjebhihfgccdbihfgdecfedihjfkdhdiceegfbkjgjdhicjfhfghbigbejhgijbkkebhgkkcdjeckhcjdcgjjcbcicbjbihgcjcjhghehcibdhkjfddkcekgihdgjhbicefghijjehkcbdgejkbjkiiekhhgkcghjkkbcfhcjidffickbcjbjdjcecbkbdkebjjjbgbgjhbbhkbiikkdgbeggbffdjifdfcdgddkkdjfdgfjjggbkgcecjjhkikbkcdbhjkggeiehjbfeieffeggjjbhigeekbhfbgeecchkjceeifkbhibgcjchdhjdhjicfcfjejieiggjdbkiefbhjbbkhkkibjbhjckhdfkiicbddhjehgkbcehefebiihcijbibbdgebccghcfehhdbdgdjbdihjcdjhkefbhigidcjbggijikicfbkdehdebegjdfedhbjeihiihihijbhkcefjfegejehigefefgjfcfjffgckfhighhfgkbcfhikkdkjcibbhcbfiegijfijehhhjecikkjfjhifdikjibfkckghbdjehdkjgkhejedhbbdhegcgbihkjfefefhbikkecjbfchcejjekgdcbbbfhbcdebfdkhheggdfgdehfcfgeecbjggfhfjcegccfkkfcjjihhkhhediidbfdhjcfcddegidgfieccjjfhghhdjehjidiiffehcihjhbdjhebcbjcikegekgkihdhhkikigbdfkhjchcdkdedkdihfkkcgihhhkbeeihcciddcjicijcidbedeighdgfhekegigcdigbifggkjjbbcgcfkbbhgigfdjfcgfibcjfbcihkibbdgijjheejcdbcdkfkhefhfehceehchhifcchedebfjdfgigdebcjihddfckgeccdjiffgkkbbhfdbjhbggdcfgjkccbkjekbkdiibgeikkifjkehhfjdkfgikiegdfhkfgfkidhjcgihigchgjjdfjkbfhjecihcbdbgejbjfghhjkfcbfcfjckhhbfcdcdebkkkgfejfejkbgdicjcdhdddgcdkbdchfdfddgjjkfffcbecdedjgbkdikhcjkjkggcdcbcgghiejgkfhfhfbhccghihejikcehkhgdgkgdhgddcjikddjdjgbiibgiibbijejighjejjhccgbiddbihejgbhggefcjefdkcheekheebehcfhdfgeghbjbefccifjbgfjfkfgkgbkijhjikdgkcfjhhigebgebbgegjfkfgcebdghbehcchhhchcedehdfhbdhikbkiceffbgbjbgjjdbkijjeghegdccbfgcgcbccjigjheihcgdhgdchkhgbjcebfibhkjeckkfhdhfcbijeihijefihejigjcgjbfgbkkkjjjjgeghciggdcjgdhcbkbjfkkbbgdhheddffikghjcfjfkjfjegfkcidicikcejhihifjfhhhgebdjdkbgcckdkfchghkhdfbjfgjhfdibcfihgidgkghbdjgejfjdebgihjdeedjbkidifgbebcjjefgcihfeehehigbijcejcbkbkcceikfghkdffdehjdbckidddhbkkccgcddhkjddbgcdhfcdccedddeijgjgbhdgkkdbicbjdigcdfjbcbfcfifbjiikifdfcidhckjeedckfdhhcbbeebecdgegbfgfjfhggiiedhbciidcjjjihhedcfehhfcbdbgdjdefbiddcekcihghhcfbgcdjfeikkhcdkbbhikjjdbhkejkdghfchbcebcejcgeecfikhijibhdekhieeibjfjhdiighheeggifkekkhgfbbhjjbiihiibhijiiddkichfekdicibjjgjffbdchgfkibgbcebjfekdieibiiibbfbgiidehfhhbiccjehejjjjbcjbjkckhedbdhkgjddhbkcgfdfedjggeeikggjickcjdfhcfdgjbjhejbbifcdigfcddcficbhjfbcecebkkfcbdejceehkgkccgdfdjhfkcjdjcbhbdbkhkdgeggbkkieghkhbdbibeejcjikkigiehdibbeebbkegdegjkgdjbhbcbgcgihebbjbbbiicicjdkgeeikibideiijggcibcbfcjikcjcbijjeigibdjegbdgggdbchkgejbdcejjkdgdghfifhiedcjdeeeebgekdgekbkcijfddbjfigcjbbgdcbfikfibgbcgcggjcbgbfedhecijibgddhhggcgdddjfbebedcjjeihhgdcdjiicikhhehccbekccchdgeckkhfkgfeiihfijdbfbgdkcjhijbikikejgbhijicdkibcfgjkhjfhjgdbdhdeddigdghgccjgickehgkbgdhfkgidkfhgfidffgcjkggcehifedjheebbkcjdcbijdhdhbiccicccidhjbhickdkdhffjhjgbeggicbddhgkiebdheckkdfggkfkfikeicecffjhekdhkbgbfbdjdiccbkibkehghjddfkbegjchgjcfhgjhhfkhdihidkbcedcjgkbigicicbigdbkidgffjiffebijfjecbgbbkikfbhjjggfdeikjebfkgbchfehgihfecffbikckkjkkgdekihdjjbchjhhjdhdkbkdckbfcebdjjhkjkdhfckjgceghhficcfhedgbckfkehjfhicffeifddeghjhhggehhkfebgjkbijfhfdkebdgigieegejbhgcjdkfcfdhhigdkhkjeckbdhjgdhkijbkdfbjcefgcibbcgjjbheejbbcciefhjcfgiidhgdcbkikbcdbfdhfkedjckcedkdejkechfibdfjedhiibbieibeigkckedjffhcdfebjegefhkkbgihfciibheejkckhccccebebgedbcjddgcjffccfihekhidfeckbbfbjgicbcjebjcjfeegiijdedbbdigchhdjecgedeebghgbgdgjkcjgigkgfceiebfhfhgdhhhffhbfjffgejkhibhdjdifbgdjihefjckdhcdcbhhhbfjjdgfdfgcehcgjckjfhjbcidhgkckekgkhbifkefdiibfdfgfibcckdhddkhjdgkijjjedijcejdhecfiefjckhbjfidkjhfkkejeddjjegekhdjgcdjkjdgehcigjhbbfibebigekjifcdkbbdjjckhjhgcdekfgijkkhjghkdjfkkfkfehihbjcgjhgkjgijhbjikfeefggieibddhfckfeiffhffjhedkijbfiedibjejhkgjgbejjckfbiccjdiffgejigbidcfdeekgeedehchchcgjifkkkkihddfiiegkdddkfghkehbejfjfhkdgihdbcekhcbieekckkeeckfikigjbechckhkkkhcdhgkhbgcdigbcffkdkijjfkkjkbfbdhgjhhediiieijcbhdbdbhgchgiedkieekkffgjchdijdehhcchgbckcdfcjekchieegcifbjkidcicibkgdhjcehghkibegjdbiiehdegikiegeifbkififcjdkhgdccihhjgfbjeefbdbbbhjjfjjkhdebkbggjfhijkeidjjfdeihicfkfigkckdgefccbkdibjbkbkehebeijbibfbfkiickdfhkbbhjeifkkecdghbcekgfhihjjikcficcdjgbefhddhkejbgibkjjciekcdbhgfkhiikedbbffkbhdkdfjfkbgficfddikbkhjfhcgecekfbbgjcdiidjkfbeiiihhfkcjgdhjjjbcifccefikghghbgkfcbkjedfdeckhejdbjbfjjedhjfbhifgfkfekbjbhfkiciccficddjiddhkfhdciecgchkkdbehbgdcjfcfhhikikieddbkdjjgecchiebifcedkekjihecebghkghifbkggbibfidfgfjdjjcfdiehiikejefghjgfjjhjbdehhiihbjdfbbicechcgdjkefccbkjijicbjffejcfgidbkhefkchdkfieccifkghejeedkijibfhecefebgckekgkcfjbhedkcjkjhhgifcddejdgfedbccecddhcbdfbdgebjfciiekhegjhibjbfidhdhikhfekeiekeckjggfiehiffkhgfhkhhebbcgfhhhcdhiikckbigdekggkjkikbdcjehefhfkfhccbbeedghhfkdgdfkkgbkfhfifecceegkcebbkdiicchccchjjckjkjhhigbkkkfcejjfefgedbhgchdgbkebjjbjkhhebjjdjdceibkeicgbdbbbgeigeceejckhefkfbdcjbbcbhgjijifheffgjijdjfjkkicggjigiehhbdikehbdbghgjecikegcgfigdkcddbgcdhkbckkehhkjcidgbdchgdecdedfgigjffefgkgkcefbkchkfkgkkbbecceihiekgfddkidgfgkbjbccegbfekeekjjcgibhifkjigjcejddkfgfhhgfggdjbegghjcbjbfbjhkdcdddhhjjidheijgbcdggdfbcdhfkccddjdjhfffgfdbjieffjgjjfbecgcefkekjgkhdbdkhdiibkgcfbckhfhehfbikfkhhcbhcehhfbfejbhbfgieikkdfchffbdkcibhkbbkkgkkkgjkjckbebiekhkggghchkhfbgifkkfcbdkjckicgckdjgkfiekgkffkiebkeechjjcbjjfegifbieiidjfchgckjecdbbcddibfbhibkckhdcghgkijbgejghkbkfckifighhebjjkfkfbghiifgcbjhjbkechjcfiihbjjijehbikbgcfjfjhfkgcjcehcfhgcjcfdfbejdhjbhfidgejehdefedjfbeccjekckfgjfkceckcikhkgbfcidefjhdebkgkcbgjggchdheddgiigikgjfcgfgkkbdjcbkdfbfcfbghcbibfhifeeikejedgjkhkceeekcbihcckehhijdgjjjgbbhfjfgbbjhjeecebcbfjhifbkjcbbgcbijhbiejeihgjecbcfcbggfdhdifefekjddfbdigekkhkkjdfhghckijgebbebhjfkebjecbdcekfbjgjcfcjdkccijekcgjddcigjecffdddfbjfeebggfdgifdfkbkccbgfikcgfhkfekkgcikehfkcjhcfjfccihhejkjijbbgfggfbfiddcbiebgbibjidhigjehfbdhcejhgjhbijfefkdkigccbiigkiggkcikhcejbgfecdfcbjcjjkidhicdchcbbhffjdcichbdkeddkbdifbchjfhgeifgkfjidkfejjcggbefgjedbfijbjghgijdjfdjdhjhdedigcfghdjdfkfjecibfcibhgfidfdhijddbgjhgegjcggjjcdcfjkkgfjcejddhihjebgkgfijhbdicfhejhhebddeidcdkbfjdgbhjefihkcfdfbiiibcgjjfjickbjjekkbciigihihcidckkcefdefdgeiihekehjgcghieecihbjbcffdieggfigfcggbcgfdigejikjcfhfikehhcfedcgkjjkcfkeicjjhdfbgijhkhkdffbbffjchfecbicebfkdbkcidihbkbicjecjgjbdcigfkiddckfedjfdjdbdcefgebddfijkddfcccfigefjbdcccbbbcgehihdjiehfbeiehbjciciejbcfbdcgkfecbdcfgcjhbdhjjhbgjekhjjbefckdbcjhjiehbkhjbcifjhdiieefkedcgbkjbkedcegbikkdhdgjjkdebgdgdeiecchkghbgchefejhdjcfghcjcdcibebcbjfdckeicdiekiebikcgjijkffebjhckhdfkkkfbddcdgihkkgdcbbfejgbibieedcicechhgdjdgibhjhkhfkckkfifccgkeidcikjiejjiikcbbjgffefgjheickhdkcbfhfjbfgbgkhdehigddecebfiffcckjchdkgichjkjgfjkgfcighbffgbccecikhkfkdfffccbcbffejfedgdiideefkgiikcciiiiibeekgcdihbiidcgfjhijbcigbkbgkikicggcjfkkehegigjdjdccebfgbcijbggbghjfheefkhkhhecfkjcichicdfdcciifkigfgjdhkikeeggifhdfdihgikejjdfdeddhjgbkfbbefgefbegkgbegcbkfegdfdkkeeijkkjfedfdhkdgedbbhcidhdkkbibfgbgehfeiecgefkcfdkjbedfjifjkecchkgebckeifeccbdheegibjjcjgjiecggdekcfdckbjedfkdhcejbeijefdkggdcckgchhgjigiebdfbfkbidbkebhkkeedgkejfckjbdgccibfejcbcekbfijfghjdikikhgikidhgchhkhjgkkjggkfiekkdckfcjkbfbhkkhigbejhkdkcfcbfbdhbkijjffdbdfeeggbdijkbeejbggfhejbbhbkibchhjfieigifihhjkikigikheckggieiggheggehgidfcfcjgjjgedjjbckkehbbjgehicjgfcjiecccjjfiejieihdbeejghckcegcegbgebgbdbdijfigbkejddhbhdhgfhdchggekeijdgffegkfdbgigifbdhgjcfckcfgjjjgdjdbijfdcibgcijcgdchhejkdcckjkdgbehibddkgfkjgihigccfffgeehbjkfhdiffbjhcbcbhickghdkckhihefjjjjfkigehckfcifkjjedebgijikjdfekeffcggdcjkgijhikkcgfeekihjfedhdhbjdggkcccbicekikbgjbkbfkdddbddjecgekcekcdibifkhdjkieifejkeegfhfdkbkideefekfjijkceggjdkijceeccfddigjfhciicdbbcchihdihhhgbiigffceekdfehfebhkbdbdibfdibcjehfjdjibkgfjibkfejjgjjcfiiihbhiihdidgciifdbefkkgfkkecedjheghdejedbjedjgjeigbgcbdkdeejjdchejedfdhfcbkehjcejddhfkbkjjihfeejedfbjefjddiiiggfhdededgehchhibcjbkdbkhbffdhbfecbfcgfechjkhjhhbicfdhfjfibfbgighdkkdiikhfckfcdgfgiigffgjhifbggbdhbegjdedkkecfbiddbjfkeiiiefggihdeeedefhgjfibhkkghccidkedjjfegidbicgfhifbhhghhkijgbcbgccejkkeikdcjjdbcfgejcdibbcbbjdbhgjgkkbfedejkjkcggkghjggehkjikfkdbhfgggkfgdjiighbdhjffehfgdjgidfekcekcgkjikjcgbfjkkghkhbjjhjcghhbggjfjgkcdfhgchkfibechhgekcgghidiijccjdfgggcjcbghgeijbgfhhbfjhijegekgehejhhighfhbeidgdcjegijdhcgdbffhhgkdkcedgigdfckhcebkjibfhjidiebjjkdcejjcjgbhehfikghbjcigejejdkehejfekcjecdcjgdbkdffdbcgjcjbidgjddbkbjfhedgifgjgdcbghbhbcihkeecgcjdefffbfifikdfkfcgbbkkdjhjjjkidcbfkjfehjdfbhggffdghhbgibjejbjbecbcikhcckkehdcejfgbfkedcbchicjdbdjbeegbjfdkekhbcjfjbfkgcffdbcccefdjebghcekcdkeidjchehbihhbejehfidegffgddhdejgjhkjcbfjcickghdfeeedheekdgjgjhjceecjkhiicjjidjeidgdkdbhhfgjbkedfiijdcffkjckdjicecjjbhfkhfjgffjkjciifhjedbgkjcdhchedhdjhbcejjghcfdfkkkigdbchgbkibgkhdgfccehcjidfibgfikkddkdfhkcdedkcffhefjebhejhkeejkccfgcdbhebddcgcdbecebkkedjjbgchccfibckjijhjjdddfhgjiekbfhhhfhdebgdffcciffijggjeghdckdgjjjbkfdficgkieiibhjbgcikbjgjikbkghkggbfddhjdfjejgdcgigdhhjkhgcjjidkgdckcegechddgicfeikekheebefkkjgdkbcijgkbkcdidjgcjfeddbiihbjkkdhickecbjdcddikikdifceifiikbcgcgjedhebejgecdckfgbeijkehkceggkjfdkggkjhdehdijgdjeckejbfkjkiebebgcchkggdcedekkehhdhkbfjfdeejbhgiihjjkhdcdgiccjffejjccdbffffkkkjhhgccbckhkfdjkdfehfbjcgecjjhcjbejejbekbcfiifbekkdgkejfheeifhkbfjcjcfkhdbjekgbcchcdffcjcjjgdjhedkdhiiijickgecebggdjgjddgggdjjcibffbfjjfkejbegbekeghcddgfkbcikdifghdccihckfbkbjfkeifhbbeidiffecebkjfhgjghffkgeckfcggkdhdfgbdfjjgkgifbhjdihgehijeehcikebccegkhhchkehcbddghckggbhcgdbghdbjkdfcghgkdeeikgchbdhedkddbhebbdgjkifejkhdccefhkbcidikjfbfgieigcifgcgjiihgfgiighggfegjedbdfkhefjiddjgkehfkbhkdjeffhfdgeghkhfijcikhikeijhcfkkdiicgbebkfkkgdhkcdjdiejfibidkfgcjkigdhhekidedbffcdjceijdhebgbebckiegjfkecgfkddggdhfgciidghbgkfkfhgbjbgficgbihfeejegjhgjdejffbfckbfebfdhikkjeibdfbddicdjdccbfkkbkfgcgdekhhehbbjfibhggjedjjjjbechhkkcgfhiccfgfbjicjkbkdkhecjgckbcghfjckhechfjcjegekfdecbhhdecjbfikgjiibgchhkcbhifcbdibdigfbgkdjjhjiggfgkkgejcbbgfhfgjeihceekbhcghegjbdgkcefggkbcfdddiedbecbccicdedjgebbkgbffegkggbeekgdhegdgcfggiikifjgjbihfjkbjdekkfbbjegchhjkbdckfcidcdjhkiebhkjbehbhjdhfckjhjijiiihdcbhjghbkfjbbjkbjdkhcdhibifkjjdhgjhgdhkkcffhbchcjcggdbbebjgefkggbkheigkdhfgbdbeefgbgcejhbhgihhgebededghdjebhjdfhjhkgfdgeidjighdgfjdjjjbfihjejchidiiecjhfdgjgffcfkgkjejcdhbjgdkgjeiidkgkebifeicgffjcdfjiekjejhekcejifbeeehbhdkgieebdhdecbfghkckbhikbecikjkjkhjckhijdbiiiddfjbehbchcghgkhfihccdfffffgbffjcejiejhkigikjdiiekjibihdhejddgieiiikjcbbdibifjfcfbgghdfhhjgicbdjdcdidgfjhkbgcdgebjhhbibjibjbjkihehhbhcjgcecjjgdfgfffihidekhbeiejkhgjkigebfkgcjbecbefikhihkebefegkdiighkcbcbcbdjehkhiefcgfbijbcijikjijhcjifkbgkghgcfgjffbdkfbdbcchidkdgkkcbkhghijkhefjgcjdbeehekgfkccbdggecbibfcicjgdecebgdgjfhhgeifghdbdbbekjbjddbgejejcbhfdfcjgjgddeejjdfdiibkibcbhckeiiccddfbbjhbkggcccfbcgcghbbbjfgbbfdfcjhihihjeijbiefjeicejgiehfgdkdefebbjefbjkhhfjekckhiefbbcddfgkdkbkijkhekehhgcefefcgcgckjkgicjkjfbefdcbkdfjcghjbgfihegdiigfbdcghjebebbifhiecbiikkgdjhifejfjekickhcceghjjfhfiehjekdeffgbjjhjffghbedhecjbjbecikejdigcbfgdchkgijbhjbiehfhejchijdkkcjbdhfifgdbigcdcjdcbhjigekjdfikhiejbgedbkhbchhjfdeeckjhecbjcegiedfcdfebckejidjgkkkhcgihbgeghkjjedcggebbfgighfjkihifdibjdjjhedfdedbgfkkhhifbihjfecefjedbgjgjejiifchekbbfdbeeehfgciejegdfbkdeccgeejjejdcjfedccdkkbehiickgdegcchjdkcekbdijkbiebgcgfedbbcghebkdhhcjgijkjjdbfhbibkghffiikebiccchhchdfeiebcbehgihbkheiibfjkbfcgiecjhfkbiifgjkhebgbegkgggjjebkfifgkkijhbkjiggdbecfkbhdhkbidibfeehhfbkhfekigjgfegidficebbkfedfffcdhfkjdeijjfkbfjfggjdeegcgbgihhfbchbbfkbcgbdbkjgdbhdjgdgehdffjgdekdbjekekgbciggehbjhcfbibhccekkdjdegjgkkhfiicbkjggjjkcebbhbfkjfcfkdfgbdckbhfgeefigccfjcechdfbjibffibeebfkjjkbhbhcbffeddcjhhkeegdgfeibcjkkhhhdiggfhjdffghfecgcbcibccggefjgifdbbbbigdjbdghfdiididjikbcgbcigegbddhbebhigddbcgjjfddfejbfikgbgjhedckbedddkibejcjfcefffgifeddjdbdigidkedeedcjhkfecdhckfcjeffefbgibeiihcdbgjbchdjcfbfdihejcdhgfbdcfkijcebkigckifgehkjcgghdjcjghiieghcecjkdeibciegdhddkchdfbegdcejbjghccfdcgikfbfkjgdhhhhkcdcddcfbehbbejgifdkijffeckkbkcbjkgdihkdegbggeefcgcdjjiigdcihfidjjkdkiehjehddfgiheiffhhehehkidgjciekjihigeiibjddcdjkcgebgfkgibjfcbbedhddgjdkcbfkekfcfeficdjdibgcggkhcbdijjggdiegggfhejdgifhghcekcjhifeddfggceejiefddchhfefhehcejbkhhfdffdgkhdkgjhdbdekjbhcbhkfkjkfjedbdjigjcjijjgecbkkhhcdgkkdefhkejddbdjhbifbbfhkdcgedfdfffkjeiicdhjbcgcgefiebdbfjkcbdddcjcghkihikgghhibjibgkcifbkgfcgccggifiefihckejkhkhhggjideekdggdejbkgijcfdcgfgdhgefcghijdgkfhkggjidhgbgccdekdfidhhgggckhddggdkhkfjgfdhbceijkhifjdigcehhgjcbbfjkgdbdgibchcjjfcifkdfbhhckfkbbijecjbefeiccicbbhdbbibiiibkibfffbcedfddjbcdijekfeekefbbijfkhjegcfhggeheibjhbgfbgedgkdjdchcbgbiddekfegiehjigkbkjbcdcgfedkecgdggedebjjdcekkjedbejedbkjjkgeicdkkedbdgikghjjjfckjieiidhjkcibddgdhgkeekijkfhgehbebhfiiekfcfhgkbgcfejjjdkfbcgdbgeihgkcigdcehkkjddgjdejdhbeefefjjcjefbbdkbbhekdfhdkhdjhckcehjhbdfhfiegbcfjkcjgebdhgddigcfgbfhdcdcidbhdccgfjkfkbjkdcffedgcbgbijfjhegbhgejkfkkfhcebdeigkekkfjgeibiijedgdeeffiikcgkkgihbedieececheejkfjfdggegbeffjfiekbhfdghedcdjgegckcgefchcehedccfbgjieecgheejckcecbfjchkcjbgfjffjgebjcehjkjghdkeffghghgihhffbjgikikcigcgeghejhckigbkdgchijhfffcggdjbcghgcefbhjkhdhechddbjiibhgekieicehecfkkkbbkjhjhbiegdfjkjgjdkkebhddfehcdfdkghkhkgcgdkdghcjhbjibkfhghhedjfhbekgjbjiedhcbbdcddjcjcgcgijbkkijeijkjijkckbhigjeiebkcjkjdgbkgkgegdfgcjikbgikdkiefgbhgjjdcckbkjfiidkeficjbgfdbeigibfhggjihccjebjgdfijddicbfjddibhgbdfbiidgcdijbjfgjfkdjgkedffdhjfbjcgciiehchigkbefdjbcbgfejkfgigfbdhhbejcjggjkijcdddehhjefjggbjhdeidgjgdbhfgbccdefkgkefekikdiebiehdejhighkgkkkggdgichifckckjddkcccfjdihcbciifdfdcbbbkiedkcdbfbicifffjkhcgdekkfgkebiiiigjeihiebkcifgcikeiibcckdebfbbedkjgbeehjjijhhbcfhcigkhkccdcekgbcfjgffjhefcgdghdjfhfbgdebiigekfkbeeejggfifgcckbdbbibdifdhigiekbdfgffigbgkhdekfckgjfhdghihhjdfefjhkjccdijhieiiciehhcdbjhdigibekgkgccjfkbgkibhkbjjbcjcifdcfddkgddhcddhjckebcddjcgkfbfgeckjbedjghghkkkgckbkiekkgdgejckeegfjebfeddikhfhjdkebbhifbhdhgidccdifhjddgfhjbbfhiccijecdggdkhekhbbbjbhcgefgjebjkddhhbijggkgkgdcgckfcbdigficedkkgbfddgdggceeckkghkgfjikbcjkbddddijidhcebdgcfhkcgedidfjhcgihbhghgkbdbikidhejegghjbfcjkechjkdbhihcgdegfekjidjhcjebbdicgjgbhehbfhgbciikciidifdheehkdgbbbikdejffigdgfgddbgijbiigbhckbhkdcdidjebidjggjjifigdecgbffhdeghejecfekhffdkkfdfjikbicdfbfgicihdhihiffhchidceeekjbicdgkcgkhcjdcdhighdgbcdcigdghjkjkjigkickhjibhfkkehkhkdgibbeggihkiiegheehckcedjigeijkdggkcjekbkijdefbfhdgjkfeidbgebbbiihhddheigebigcjefiddfkkkhedegficikcibgiighhdciccfhgckiiekddfihdbjbciieiffhffkjbkjddciffdiijcifiidebcefcgdedfeefdfjdbbifdegcdcdeifebhdhcggebcbcigebghdjjejifcgdkfjgbfjkfiehcfejfcbeciedigggigijdckbhhjdjccciihhddfjidhjecghehkggjghiejkegdkfjbekbbcgighdkciedikdeggkifdkhfjfcbffhefhccjjccbbhdhckdkihhggceeidbdihkfgikekdkiicjckecgedjbgecdkgibjdbcfdhdhehhdiggeffjkjdkkchbhikjgcfjkhkfigdeikdkbjgdkkjcbccbcjdhjkdkjicbgdgfejgkeikhkeehkfiidgejkehigkidgdhhdgcghkhfcicfidkggdihkcghfdieigcfhkejiijidigkcegdkdeghfkjdidfhjdjcjdeegfdedeidfkdigdcbhhghicfkfgckkjbgjekdccbfjekcekhkhbiegcggkfibhchfcbjdkdckbfbecfkehjikgdcccifbjfikfgjjfhjdkjieefhdkhfhbfhfffcicfkcdbijijbiihhhfhigbbggjkhbkjehgjfgikgbfcgkikgfgchbbicbjcififcbbkcddkiejhibdieehdidcgdihbibckkdhdkigdjicbfccbbfhigdcbbbddkihccijefeddfbibiefkdfbhdffbdcbjejegkejibdbbkedhkjddjjebkgkibhkkdiccihfdigfebidikbkdgkjbicfebgeghjfgdeihgkifbibhjidfdhddcgkhcecfkfekchhddbiicejdhkddjhjdehgejejheceehcbeeikegcdfkhgkbhefhkeekcgeidbihdedkkikigjjgchjhcdifkikjdchgkbehbegbjcjcgchfcgkdbkhjdeeddjhcfffcchcfjeghegfdihdiihjbgbgikgedikcgdekgckkhkckhibiihfeddfciifbcggcgickhghdkfhkfjhgefgdghdfbdbfjkkfgjbkgjdkhjgfjiddgiijkibjjhckejfgjedebjckkjhidkggfheececefbccekgidjgecebcdcdcjbcbbifjicecfcejdjicijfbckbefkbcejbdbkkdgfjdefkfjhhhhicbjjjjeehfcbijgeikjcikjiibccdecchghbdidkiecdhjefgkighhjbjbjbjdjdcjkfddeihiddifjdkhcjigbeidgkkgdhkiifkedecjebfgdhhihjbbbekkckefhhjfhkdbjdbkgihbjccgkkfgkjchbhhcjfgfgfebhhfdffjkifigeejkbchhifeiceecbgcebiggedgfbgbghdchijbdfciiehihghhjeibdcfjgbjgbhdbbcbhchcfdhijkbechgkcgegbjcfikjdjfiebbcfjbjejbgbkcikgcbgbcbkeghhdhdkbifgibjeikdfbdiehihkbccjcgkcgikhkgfcebgbifeefgdcgdjddhcdbiefgeekigcccddhkifgecehkeebkikcdfbkdcigdfdhdcihcijgkhcgbijbgdjfjkkhhfgfbjeceijfdchkgkjkjggbfdbgbcikcfkcbkiikghjgbhkhickikibfbhciefkgekibjijgkkgjhfgdjebbjjbeekhhgiecjdgjdiicefgebhkbbdbgihfjkghkcigbkjefjehfccbgkhiejfkiijbkcjeddbfhjgfgckcdfbbkdegedhibbdbedhhfkkjekkgibbigfhfjbhjkhgkjjiebehjjhcijghhkiihjkbdfebfcbfbgegihichjihdebbbihjbbhgdfjbccekcjjdkebjkbehiehkgiebgefghfcigkedkebckicckjdjchdebidbkfkkjekchdjhbggbjchbhkcebeibikfkdkbgbkdkkhbjjjiiciiehkbcdceikfkebihkfidjjjbbcchcgjgfkbhhfcekkibdikebdbejkgedgkkbikcdkfkgddeicbcgjcghhfjhcidcckckkkhfbeebgfhcbjgcgdckfkbkigfhgiegfhcihccgecihdigbbhgkhcigkfhjbehfgjghhhkddjjfdkdijddkecieicejgeikcideedhkjdhgbbiiekdcbicbdhdikdcfkefejecbeidckjkegeibkckdcdkidgbgjdbbjbhdfjjkcjjbfjcjhjfjkjdcgidcffibjghhjjihiichfiidibigkifddfhfbdbjfcjhfdjkhhkjfhjeiddhjgkeidkefibckjgefcjhhbkbchcciibghiddjhjehkbkkhkkgjkhecgiedkjfeeffbfbcgkcjkbbidckjgkkebfgeeefbjgefecdfifbcegbfkkggijdjhehghjkbffdkcicikcikkhdiebcegifjjhfebigedhihcbgigfhbfdegbehkkhccidhddbcdihfidkijkeijkbhhdejkgjedbgbfjeibcihgbifkgcdcfejebjefhfjggdjkdbkcchkgkjhgkgdiibfkjghdbgcghbjbcheeiigbkbbjcfckcjkbhhfkiefbfidbkcbkccjgfgdjkgjedbfejjcbjkkefdeckckdcebjfijbhchkffekgidkcigkfkhbfkgbigdkijddkhceikkjkebgefdkcdjbgbccdjdbdfidbcegghhbhhdchfkkjcfkehbhidfbjcdcbdfhihkcijjjfkechigbbkfcccdgieehbfghgdjkbgficjeheeicjieejgkejkigddjgjjekcdchcdcfgchffdejieedgddgihiecbbjedbkjccgidkiigbkffijbijbefhdigfijgfgjghjhcfehjibckhfihedjkdkkcjikkbkkjfhdbekefbddgiedhdfcihedibfhibegbchfcgbgfdidjdkdfhjhibihefcbhjjijcgbjffcbjiighfcigchekhhikfjebhbbheebkkjhciijcbijeejfjkgjhdjebbgbffhekeijhciddjfghhebbbiikikbdfbgdkijebdcjdhbedejdchcehffdgccdfhkcdgbggfidicfikkgdhekcdckbkbffebjckjfjkceebcekbggbehkjiegfbekdhcjcijfjgjdfdbchjbckefkhhgfjicficjefjbccicjfdhjhibjifbjgfgchfibikbfgeeijbddbgicfbbddeibeedfbgcdgefkbjgkedhgbikifkdcicegbdejdcbiibkccegbhjbihfkkhjbihdhgjghfgkgffkcgdjkcbiggcdeifejjchggifccjjgedebkgjdekbhchkjjikckhhhiekijjdifbihddjgjicdhhhkhkbbhbgckbeedfkccikjefdjdddbfgiiddcifhkheikfjekkhbkdghccjiiegdjeikgjghhihfedgfddhkeeikijfhhghgejdkgbkcjbegifhihfijgkfhgkdccgjikkeggbfbcbkekfgecidiicbbibehhefggihkdgjgikghiggfbejecbhecjbghfkccfccfggeefecdchiigcebdkchfeejhecggkijkkhdfhffgdcdihdcgfjkfddjkibhegjjdkbdfcdfefigcjjecfgdjecgckbhdedhiegikdeeiechihebjkffbjiiehjjghecceedhccgjghjiibehjefcjkfkhekcfjjddbjhfficehhkbdkdedfejicfhhfkjjgegiikgjhhhiiggfjehdfgedgeiijbfbfbhekegbdhbkicciigejfjkkcedjcehhbkkdeijjjbgccdifkckkkieekfddkdkbdcjdcdjjhhbhkdcgggjbcbkejfebfgbfccjggjjkbkchhbfifgcbgicejgjggcdjbehficbiekedkbfhijhjgdfkiigebecihekcbhgjggkfkkebiedgidgidjfcfiikekhedejcchcbhkhickkkgjhiefcfkbkkjkjcjjjfcjefhggjcgjkcdckjhjkhgkejhgbbidieceddghfjghbejefcjgbdhfgbfkkcehjebhidkhjffbcccebdehjbcfdhikgfhgfibfeifikgejkjedhhhjkddeggkfjkgkbbkbdghjkkfcjgchgfjkfkhgfcddbfkkijdhhigekkegjiejdjjcdedhjfkjgckbghfcdccjdfekekedhfcgedbbhkkhedkhbbdkhdheckfgcbceghkkdkkjgigdbhgbchbfhbjdejdgfifciggdgjgfchejchgdiidbgfcicffgccccddbfjhdfbikieheeebfcebeihkdhkdbfdbjeefiehdfcikkfcgcbhkbkikjkckfcbgdgeecdchjbdicdcdgjcjhiidichcbhhjbeecgkghcdkefiggidcgbhdkjdjedfhhbeebifffcfchjdbbjikdkhifchhjihdikdjfcjfcgjdihbbhedekgcdijcbgkfegebgbkhgddddkjkbibcbjhkccebhcbjggehehkhiehkbdfchghhkeiddeebidgkgkbicikbdjghffcfgekdeeeficgebdcbddjdhbkibbihikehfbfdijfjbfgecciijfbkjejcbbckjegcicfihbdficidffhbfjfibkeghhkihbgddbfbhjfkgbikijjeebiigejeegejdgdejckhchdbhhbchiiecdgkckfbikifkgdigbbbfkggfjhjiiegbdjkkbkhikicbiekccbgbfkdkekkcbkehkhdiibdheekdebkkbkdbggccchjkjdedbehjegcibbbekhcfbcgibgchhbfcjhdbghkjdgbbfkckjehfcjgccfjfgdieggjigkckigjheefdgdkegdibfedediddekjjjcebbdjjhkebeegkhfjebehjbjjgkciddfkkdfjbehgbbdhhgiijhgdbghdifcgihgcgebddheieiefkkhfgibfgkfbegjebefhbbhiicfgicifdgffkcgbfkfdfebbjjcgkhjejfhjkijdhjffdjdjcdeghghiijghhicgikghiejbjcefhieiekgdkiegdhijcigediddkghjdeebkfjffbkfeckjegfkggebhbdehkbjibckcicbhjbibehheehbhcegcjbgiehbhfcbkdhhbffedcgdekjiefecdkhdikfjjecbhhgejekjcgiefiffhgbdbgfbigedihjbghcbkbhgcfcgcbkcfidchghjkicdikekcefkggjfgbefeehfibbihbififkijbiifckeccibdkgdcfbkkihhhjgkfhfikfkcjkeifdhcgffbjgeejdbkggkiiikgeifjbjhggfijcdgfkicjkchcjdigdhggdbkddcidkdcfdfechjjhejhgkkkkjcegdfbeiheeikhjfkdiejegdhdididkcjdfkhibgfheifhcikghbebbfbkgefdheegkjcejddjgfekeikcjdjbkebiibkeefkckehiiefjgbjfhdhffjidkhjdhiddcehebkjfjhdhcfcgejhfdjhhgkkgdfgjheehggedhekchiefjccjieikjkdehegjdikiggdiffbdgccdhjeiekfghegfbcigjegffgfbkghcdjgcigjhiihfieikjffjbgbifkgeeihghecidcghdbbdjcbdbkegfdgihgfeifidjhkiiegjfkdegbebejkbbjhjdjgkjjihcggckifhfhjkdjhjeifjhicefbiifibcffbifkifebffbcfbjhgcdjkhjfdkcecbhhhbkeibdkbfcdkbikcdbdjbhiceikgccigdcihebgcgefedbfccibkkibiidcddkgcekgkhebebfchijigjibcjchibfdjhfdfefjifigjfgkigeijededbidfbhfkbfekdiicgcijdgjejkiikcijhghhigkhkbfdgbebijbfeigdkhgbfbcffjbehfdigjbeicdikcdjfdjjjccdghebkgkkfdhbibccfgbibfkckjehfhgccikejcebhkkgbjchdcbdjkeghdiekechicgjhcgdgfhjbggibjifhgdbdfdjebcefkegcjgbgdgjbcfbgjbkiiihecegedibkkkkbhjdffcccehcehgfccchegiefbbecigcbdhjcckkhehihfcehgdhjiehkfjbiddbckijcgdecifefjdcdieeheiejkhhjjfgihfbkccjcgbchifkgkfhkhbdfjdkjgdihhjfdgekdjdfgjceeckbhghefkigkfkbkkihfkjhbhgkdjhfckejjeejjcjefbjcdigghdjekfkigdkekkcfbekdgcjheedcicgihjgbfhigfigehgcgjehebcgedgijieibddcjcchiebbikgihcehcjhgbdgejjgebebckbikiddkdjeijhiigkkgfecgegicihibcedbegkccjkfjbdejiicjhhigchjkeihebcbjeegdbdiefcdhgdchcbijgbjjckcehggeicjbiieidijidhfiihihefgcefbjhjefbkccfhfjfhegjdbeeebfkfdjbcgkcchcihcjcibkecjkbgckcdhcfchcibdhfedjehfgjgcchcgeechfkhjgedgjjiigkfiddkhbcbhhdkjgkedcibccgffifjffddbjcgfkchkkjibdeecffjihicgjbdhiebdkhekffjgjifbbkgbegidkhjigfikjfjkiideickiihefkcjbjdkihjhcdiefifdhjfjhgjiffgbbdejidjegdddccjkkiddcfbkfcekjfecefhiiifgggjedecjckigddhcdgejbjfcicjcijbdfhgbcdgdfiekgbfdfejcefekbccbchkegbfehifhdijdbceefgecddbbiecckgddjcdjbbfffghjdhifhfkdjfcgfejedbegeegfjbcefideecfhihgfkbgdeikfkkjkihfhcikgkbckbiebgdfddjccijihcdikgfgfhghbdcbcgkcjkibhjkkhihehcjeidhiggjichbkfkjefjfjgfkddjcjeihgcbkdfikdhfiijkhkjcejgbjkkjjfkbfhcjiidcekjcjcfgfdhfeiffgfhgbdfgdicfcckikeciehjhebcffcghjdjcdigkbhdjgjghbcjgfgieegfkfdgfdbcikicjgjkdeekkkefikbghjjdeheijegfbhjffgbikchchbcijhfdkegkggkgkhecgbghjijkfgfekfjibjfcgccjeceefhhigbbbjfbbijhbjejhdieiebicgekbgjhjhfidiejffcicbggkkcfegedifdhibddkchijhdejgkjdfhjkbiekkhhidjegbgckhiddifbibbjeegcfigejefigdegjjhidiijekcdbefihbcghkgcdhjebjbbgifiigfkfdfhbcdicijdckhdhjdjickiijidjkjbbjckkfcjhkfhgegegighddgjhgjhjdjcbdjihddgbijhcffehfhkdiiikbgddejjdikikgcdhcbefjekhhckjdkkbcefedhihiidedhjdfeeifhfffhekgcbieehcicfgbcgbkcehkgehkiffkbihihfckcjijfkjejbeickjjjhcfgjidiehfgfkeddjfjijkghbcdkfhbffedhfkdhkidffkfbkheheebcedjcgkfjjjhkgbbebehfgijiceddiiiicbkgidebeiiidedbjhhccdekhdbghehcfkjdbkbjkghjeggejiffkdkehbibicdkgejjgcjgdhbihijiickejkeeiibchifkhebfkbecfjgbddhcdcfgijkcggcfjkfkgffihcgfgegijdfjieiikigdbghfdkgibekbeejdfccfhgigfffhckfjbdhikgefkedffifehjeibhfdhebejfdjedjdkheidfghkbbcddihiegkeifhbhgfjdkeciegdfchedfffidcdcfddejghifhfjfdgbfdkjifideeeddfgbjggkgikbjkjkgbfbjeiffhcecfbibhfchefecedgjjghdhfkjgbjcihbdiggkdkjijkhbkkkbdbiebehhjgidkbffchkgecfbkkfjhgeekekikbekcdjfcigdcciiibijgdfifbfbdgbhdgegjcbddhbfeddkcdeehebhfjhebfjkbigekbejcfeibbeidcifebdidddgeedcfbckiikhjdigeidjccibkjiiegdideckehhbdjheigikehkfdkhijcdjiiicfjchehhgcfciijkkhhkfekccbbigbdgikbghdckkcgcdkchdfecbfghkiehfhfhhbbfgifhbkcdckcbgiecjikibijkkgbjigbbjhfgdbjhffcghhibekfeihfeigkbjefjjdcbddjeifiigeegekdikjhbjfbejkjibcfebkkdbhkfhfgfddicdibceifhiehgcjgfdfdbjgeeechcbejhcbhjccjfigcjcbkkbfhighdjcjdddjcdbfbkjcgkkgejbbgdfbhjjcehfcekdhbgdiifgjdcbjkkbbighdigbgdkbkbhdchbkgggchbjffbikccijjcfecggdegccfeffhcidjfhcgijbgifdkhkdghehigdekhgjhjhbgejckkfhfbfekhkfcffjefkddhhhgikcdhicehjfhickfidchfkkchfidfkegfjfcccgjjhcdechhdfjikjkgkbjhdfekhbkhffjgjbjgbehbfjkhhcfihhdfjdddijdihghijbbfegjkggcefgfccbejkeihdkjjibkbkidkbdibhijbbkbfkfgjgghfkccbcicedebjckjcgfbgbebedkgibeifgbeekbjfjdihjidfgicceebeihihcegkifdfgfjekckcgjiibcbccecbjicfiijgbefiiiickbekbkjekeggdfekdgbbcdkkbeffcgbbieediiekfkkcgchkjhhcddkejgdecjbcidkfdeccfjkefiicfhcdgjckkeefhkkfdbkeebddjjbffjfdkbfkhihikifkebkfcheidggeifjcihbcdbjbfhfjjcbfdggfebefbbjifiehgdhfkbdgfffckejhkbcbechibjdckcigdfgebiffkdcfcddbkjfbfjkecfhcedkdekckjffkgckcgdcghkhdhibkibdfcebbidiibikbdbjgjjdibfkjfkcdckceededhebbjkcbgbgdkjhccdbffghiheeihidgjcfdehbkdceeedfgjjeeifjijddcckekcjkikghfdfgkgbfehhghciiidkjejgbcbgcibedhheceehjdeckheebbbebbbhgbjdcjhfjkkhfigefhihhbccbgedbckkjcckfhijbkebdjicbichdcciekjgijcfgfkbdifcgeihbjdfdfikbhkcekkcfedchfghfbdkbefkccgdgbfcdfkjeecieeibiebjiegieihbdefgbjhjdjekjcckbfkfjjegedihjbcebgkgjcbjgjffcfdcekchbdedjjebkikhgjdgicjkjkhdkfjbdjfbjkichegdhkkjiejjecekeffdjchjjcibchgjkdjdjeijbbjeiebekhcikkbghjjeiikghegjddkejbfjeegjikgbkeikfdfccgebccddccikhccibihegjjgfhiekidhgbhbejibbfkiikfebebefgfjccbehefkgbeeecgbjfbibhjdbhgiijgcehdhbfikfdihifdbkigjggieikdbdhkcikchdbiehkkjekdcddidcbihkbijjefjecceedejkddjkfdidgggihhdjchfeckjhkddhghhfkgekbkbjebhdgjhbbcffcckehcdkekfkiejddfbejgdjfjhdbhbijijkgbkbidccgfibkcdecfehcdbhcichfggbjcjifbhjfgfhgdfhdfchdeejkbddfgjgekbjbdjejhhiebggcjkjcfeihkkhgghcjcfhkkhhbgididbjbihkhbhhfkjgibkfegbeeidhehejekedickfdfcecbbeihgfjicbikffidjkjgcjekedbgjidciedgchdhhfkiebejbbdeebgfbkckifkjjhcbfkcjhefcbjkhkkfkfhdicfgjghibhhegieeihjkejefjegbekkkffhhehdgihekgcfeekchcdhcceggkhbbicgcgiddgdgjddfbcbkgcebihkbffdgecfcfjgebcbcedgkcgggkifgkefckgebbhcgdbdhikgfbddeibjbjiebbijgbegighcbeehfihfkfdiebdecckccgckbiccejdhfefjfhhcighcfijkjjkccgdeiejfghbcdefjfcdfdhhfchfiecfeiiejcdebdjgbkjbkhejjfgcfccciihceiedeihhiebbdbhejfdhdhihcgihhgdfdgeikihhhfgbjfhgibfcdjhfiebijbekdcjgckjdhjbcedgjkcjefkkkkcfbkbfgfgceccibfcbgbhkghbhgjhigbhffdbeekfkfcdkiehdekfiggdijkjekckdikdjkbjkgckkejejkbhjigdgibhfbbhhkgcckgkjfjjkjdjiebcejcicfdhgkiefiigfjeikfifbidjdhbhjceefjghcgkiffdbibfjgbhddhiehcgddibhbgcefchgicbjdbhddckcbgjegiffekeiidbfheekfdefjegffhhijbbeddgghbbefhghdjgkikbbhhfbbegfihikjgkkjefjfighgcbjdihkbjidgbfbjghgkejcekcbjdkibhkgibccbeggiegbkegjgjciccbbkiedicbeejffgghefdbkjffjcjhkceifkgcjjeijdckehjegegkhhhcdkfbfgddigdhekhgigkfckiccdjkigdicehhbebfidgbdbidihdjcciekhggkgidcddhfbjcffhdcjedjcddkbcedfkbddbdcbefdiejffgjifcgkcghekkidgggdckgcgdffheeddfggfkcjfjjjddecegibfhfcijgeejcffgdieekjjdbkbhbgffhgddjibciccggkiegckgdccdedjbgidhebcjjeddcbhkjcbkhfgfhgcbbbcebffekidefkffekdhddjbgiegbkibfgkeebgfhkgekdkdfckkbfkjijgkfgfcdbkdcbiebkkggjcifchfigjgifhffbcfeegdgfibkccjejfekcgehhcdhfffebkedihcikfehegckheeifeieidheihjkbijgiedgjhggibbffeicdkidhjidkebjdgkfdhcidjfcgbcdegbedgjecgdjggehckcbijiegbjhghhdfjgebkiejbehkckckibfkjecdbcjdfbcfjfjkiddckeciibifddkijbeikgeedcbjcjehkhdjhecfgggggcbfeghdebjejjddfcidceikhbbbdbehhbcgfjfbhigfgigijgcfighiihdbehfhfhfkejhkjejbifiddgefkfgdcdhhfhgeejijcefigcgbceceicbigikfkkhfbfihecififjekcfijfjgikifgidijfcgecieebhcejjjhgecddigjjbecbedbhbgejcdddihbifdcdcedffkdjfkidihcddekcccbbcjddgifdfdbgdgdfecjechjgedkigjeijjhddkkgidegkdfficgjdejeiejeifkfgddekjddidhifcibkgiegkjkjjigcgihigcjhjjcihkdefjdkbgdeifigcbdfgcchbjdhjcdhfjkfefifdhkbchbcikebbdfigkgbkgkdeecefkkbkhibghdjkgdhgkhgdjicejhcjeegfgedkikckjdkcbjjfgehdhhheikcffjdfghiijkjghefkfbfbdchgfcdbieijfhcgdhddbgjjdggidfcdhkidcbbcjjgbjjfkihkkjhkchegbebjedhjfcdhgbeekjgfijdcijfddkjgbggbcdjdcjjkegbifdedbjgdgdikdifbedgeejbfdebkcdkjfjjejihdgjcehbgggffgkcjiibgjbjcgbekgibegjhgijckjbjhfhieejcjbedbikijefhedigbhhcdffdjkkjfbibbdidhfbkfgkfbgckkjegfkjgefcbidechghjbhdfkkcckdcgjfifhjdifjecjdjhbcjegdeijfffcdgficfhekcjbgkkceceihiddbhcchdbiihkiedhjdehgbdejgfjdbbgkkifgjeeghbgekbdhddfhdbdhifcficdgdhfjfefcgdccckhjekiibhbifjkgjdiggegfehjieffefefdkbfjcghjkifkhhdhjcbkcjfjchcjjhhghiidcccbjhfdcgjegddkjbkkbhdkejbjcibfeekhbifiijjbggkecebegchbkidcbjbhddjhijcchcgichheeeccicddihieefkegkhfcechhjbehcccdbijdgeceifghccdddkiibghcbkgijhejkigehddeiidifbkgdfkkfjciejfekfdbhbdhgckdbhkcibfekdjccbhibjkdkjdccifhdkbcidgkbkbifigcjehkfbihjgegkgfjkghdccbfedfbihkbdebckjcfidhiecigeegkbheihghfhdfbkehhiheckceddejkfgcdhiciiekgeihfbdjfjggikkdhhcggdbjjejejkhfffdcgigfkfgbhbgdfbdhbdbjffkhgceehjfcdkjdfkchhdkfkhkddijikcjcegiiihedecffkgjkdhgjbkjebeffcicjfifbcdbfjhfjijdbkdbhgjcidebcbbkckjhfcgbhigffkkkidiikiffjeejhbcjibcghdcejgbbbdhhkgchfdegcgfbiegjgiggfegefekcckidcddibkcehjjejhgjchfkfggijgcikigfgbhjkejgibiegjjgbeifefkgebckchjfcedgjdheiccjgkhcddehbhbbjbkiffkihhdjidjhjhfgbbkfcefikkfigfccibijbfbeckjifgjijchibjekdfbihijefigcbejkddhhgjkdeckidehkgkifeibgfjbjefbhhicccdhggdibibgdhckkdciidbeijbjcciebggcbbicgggebkcgfihbbjihdefgfbiheehddbehcikbfbiejcdfcfgikhigjhkhgbjigcdeejiifheckhkcjjhcchbbijjbhcgbigicdicckeikkfhkjejbbfijcjcfbkhkehcdjbcifgejgjhigifcccjifhfkchbhebfhghdegjchdgighkjdcfibcjjfbfgdhbkdhfgggdkdbcdkfcjghbgbcgeckekjfefhiikfbbiifgkdhdbjccgddeghdebfbdceefgcehjdfgbifgdcbdfdeiiifhfghjhdfefhkfcidkeeijfdbegeccbijifgdbgcifdbhdjbieikibbbgdkgdfddeifkfcfcfhjiehjbjdekbgjefdkfigddchjkkegcfbcghhfjieckedicikhbgfchjjkeecbichbedegceifefjbhfbhjejcbdghbchjidcgfjhidgfkejebikbheffkbbkjgcgeccceggidekdfddddgkhbkhbddjbgcdhfijieigifdjefhcijkkdceeffjgkjhjfkdbgghghcjfdgjedffecifighbkkjbecihdjkedjjjkieeggdicgijdccjhdfbdegckhdgcbfhdhefffkiheehebjgdieedffcfbcefbhkhhfcgdhiehjhbejbjkibhkheiefdjeddhkbejkifbfdkffciikgcihgbhfifeihghkecifdgjbggfjhcfjhfjbkbkbhjkgdhekffbedhbkddjkhffichikcheheffbjhbfdjjbghbkdbfdhhgdjgcggiekefihijchjfedbddfgiijghhfkcbgijehdedhedefikidcchjgggdjgikfgdhijgijfbijbgfdheijkkhedcdhfeikfbdkijgjjegcjkbdkhigghebjdkdddfjjgcbfjdibebcidjfceigkgkibffgcdcdjgfcejhdeidhghdbihdefdfibbjhijbgeciehkffkcieccdeggdjbdcbcgkhijhbhgijjgfjibggjjdbekikdifefhiecgfdcbggfdfbedggeehbcfgccejjeeiggdbjjefjjgfbhifkejedbjkjdgbfeccgefbecgdefheidiikhkfeehkbedhdehdggkgfhfbjfkfgdfjkkhhbhfhcceigjebhkhkkffcgdchdbefcbfbieckfgchkfkkkhibcdddkfbcbfffbggjfghdjgjggbbbcehifgbcgjieciigcjkgecegbcfbkfiichjghghfbkkdhhifdkjhfgegeecdjjhfjbefhbdjgbhcgdigjckbgdicjgddfhedckdhjkfbcgegbbfiikjjcdikhighbjbeiicfjfbggkgkcjhdcgbgifhkggghhfkgibjkjkfgfdcegjfdfhkbjkkbddghkjigbeefbejbbgcbbjcghbhdddeiiekhgijjjeefjehifeikbjfjdhdjjgdbhdhkghbdgkbehfhbbjgficgeechbgfcgffbbheddbddehddkbikbghbkcefgdhkhhikdfeibfkccfjjfdeejgkebkkibjfffdekjfbfbfefekkegiggkbieefgjcjficeecieghfcgkegchfbcecfjggkgfbikckhedghdekgddebchckijkekggccgfkddbhdccegchjfeigkdffeijjfcgdbgbhkehdiccfkbfigkgihfgbghcjideicjhhcceeiifibcdidbkjjegbkcigdfdfjjkdjghcjibkkbihehhghdjccjefkffeifgfjfbhhejkdeeifheghkcdjbfhiikbjfcdijibddciijigciefbgfjcdhhccfhfgieicfgfifkbjjhhidggfgkdgibejfdhjihcbdcifjifejgfkciggfdbfhfhicefcccddjffhbbedefkkhkkciibhigfecechckcjkggehifkkedgijhgejjdkjjdhgbhkekgbdhidcjkfbkgekgbcfcckkkkdffdcfejdjhjjfjheicfhgkjddbcihkhjggidhbjfhhjhbegiekkhdefdhgdbkfihfkdhcfbeckcdkifgffcidgijiekfhhfdkkjbcfhgfdchekbhifbdfcgegbbcbkcjjkhjkkbjhffkgkcbdcbkecejcghefddehichjijekceiigkicchfkikchhdfbbekibebcbfhggjghfckhecdgcgdfdjbhbhkdfbdjdjkecjieijdecgeccckdjhdifhbgbjibifjigkffhhkgkkgegkgghfkdbcfbjkhgbdbgkihddehhbkdcdchbehfggdeckbkgkdfkhiejkdifcifjjedkdcdgjjfedjceebiebcficjgfjfikbcdiejkbhhgedkbgejegjbgickibkjhfibifbbggfjbbhkdbbbbhkdhedkgjhjigbkjhhfjjejfedihhghcgcegkjhggfkihbjhchebbgikhgjhdddchhffhicgcfgkbkijcfhdkefkbggieiikgfjdkjffdhkibkiiffhikiihfifjbebhjhjbhgkiekdighdjbffibebfijijkiijjckfjckkihkebigkjhbkgdgkkechghbkcefedhbgfgjfchkjikjbdfdfcebiibccfcfgegibbjbbbhgihfgecdibkgcbccjkckkbdecjjjdigjfkgdddgefjbghgcicgbbjkjbhiffgegekhgjdhgjhihbffiffjggbkfkckikehfjcfdkkdbbdkekjcjfjdbhcdfhdjcbjdjbckidgkggekdfefeccggcgkeedddhfdkhkeicifbigfgcffghefeccheeijfgfbekebkfhiffgkeehfhkbdbckiedbgddhkdbbifkbjgfikceghdgjcfdigibhjddigffibjjffckhekikfehebdbcgcebekgjhhjdjghcdgefjdjgjbibdefijgggcefehiedkgfecbkgkhedfjgeicgehibefdgjfgjeffkbbcfdccgdbfegdebddjebjcbdbeehejckbgfdjfehjccfjfbgbgckjdjhifebegkkkdbejhdjikdgdjfgjhkdbjkbhgcdbifkgfigfedbjkchhcibibedhiegjhefcjjhkdkdgcdgfhccedfbfcgddbgbjfchbcehhbichhgijddfcfhjecccbhhbjhbgkjicchjcikiikkkfijbjcbckhdjfbijghijccgkehfcckjdikeieicgeddekfggdkdihdffbhgjefebhbefgeieggebfikbedkgfdgickkfbjcehijgikigccfkddhkekefkigfiiehibkhjkjjfbjihcgeifiegjfkccjgkeidicikgfdefdbibkhcdhbjcibdbhkfdhjjhdjbkfdjjjibjffcegbjffkkggeeefcfcjdhjjidddkeicidkfbddgkdjkkikjkkbebcejbdgcibfbdeddcgbhkcfijkdjhkkkhedegcfchkbjdcbgfdghcdjedbidecgechfkegccccghbgdheijfkhfjhkikbddjfjddifkcjccedbjjekghdkjhifbgfbigbccjgkhhbejkcjhjkghhiihdjgchgjdjghecgbkdgkhejkkikkfbkgkhkkhccckijifhjfkhejfifiheicffkikijfbhighebbbfieegeigbehgbdhigheefkgjfhckghfkiefhifhbifeghcegekdgjgckfchibejbjhbgicfeggecgbjkediebfbdbgfgcifgcgijcifhehkheiedicdifejhjckkbcdgeefchgkicjccghbifhibgbjkdgiigbhckfdidehgggdedckkfikhhgbefbdcijbgekddcbbejcheehffegkkijfccdhjiejbekdeiedhfhbcdgcgfeehgkifiibgfbidbfjbhjjfbcghcjdhbdjhbhbjjcfcebgdjheicfdfggjkekbdjeecejedcijgfcdjddejeefhfceehbgbbccbhhcfihihhbjebchfjfcchfeiebffcfebfhdcjcgdiebbjcecidkheidjfdcidhifiiikhfjebfecifcjdjceccicdgfehfgkkfghgkjiefkcbhggdbhkikhjfiiekfjbgghiibhfckidhckfgkdkcicjkdedghcbibhigikhkfjhiedgihcdibfighcfhcegbjjkfjeicikikigbbddfijdecghibheekfjgekdjcjjgifkhgceggifccbdfddcgigbieehjghehdbeeddkjedjidigfijhibfdbcjfdkcchgffjjjkkkibhjfddcdikcfjhcidcgfjbigigjikkhjfdddijiikcbhkbifiejigjefeegdbdgbbikdgbcbijiiddkjbbgifdfgefggedfbgedccibkdebfjjfhfiihkbhccgkjbkffjbgkjgfibeiccdcbekceffkbiegfiigckigbjbhfhkhkcfbddcdceidhdcgjbdehikdebhibfdkekffjhgkkibbfdijbfgjffihckigiejgdfbjbdhkbifffhbehgidjkcgchccffjhkgdefdjjgfkkgkegbhkkdhhchkkichifhgidjigbekdkbejheeikbddcbceidgdeeejhbkeedgegidcffgdhfbgbbhidegbkehbkgbjdejbeiiehbfebcdkdcggdcgcdfdbhdkghfhhgjjifkbcdcebbjiiecdddfjfdkbbfkbhjifedjhgicidedgfgegjdbfikdgbegidiigcjjfbcdebdcijbkekcdbhhehfkiejjfkgccfhkfihgjkeikkgighkebjccjgidgdbiffjcdbkdjgkifciihgjkhggjkghigffgbegbdbggbejfijgfkekjbkcdbjibhhejjfbkbddgkhgdbbbhfdhgejjiffkjkddfbfhheghjcbbkfkkfjhjgidegkfbdjjigbefbkdiiccfbhiihigiddcddbgejbbijhjhkficiehhfcfbffbihgidfefcbihhiehgiefeghbdgjhekhccdgeidcedfdjhjjhcidjedjbdbbjchbfhchfdfjbffbjchhcihjckcbhebcgkbddkefjgfjibbgdikhbfefkdjfikhicjggfgkfbddkejbgkiiijiehgddekkhbkhihegfeighkeicdfjjeghjhhffiiecdfhkjbdhdffjgjhkjegchcfbicdbdeicijehebfbhkjcdkebbkfhhjfiegegkjjfhhdegecidefckgccjgjkgghbcbkfdjcchebehceeibjdbjgdhekdbigikefcgbkkedfedigikgifbdiggkgiffhgkekbgjfgcjidgcibfgkbidihcicehijfebbiecddefbedijkegidjkgdkigjdebjdcicbjhebdighdikjgddddckhckiikedcfhebchfgjgjeekkcbkkdibcidkhejdhddgcbkhkhjidgdjgcdbkikkhicbjiiecdkhjdkdidgkcikbbckfhgbiicdeidjbbjigckhfdffjheggbcikdehehjdgjhcdicjjhiikjdkkfggddjigbdcggigcjbcfegefjdggjfikgbcfcecihifcgedfhehhhfcfdbhghebehkhhcgfgdidgfjiijdiecdgbjgcjgjkidfjeijikckghcfffchfkkbhjkikiefefdkjkkiedffichjjffehehejhjcdbjjhhgkggfghjibggicghjkefifjgiikdcdhkeegdjcfcfhjddgifhchkhdffhcbdjkgbjjkiibjhbkkhhciibejeijdcdfggfdjdjkcdbkfbdkgekgdchhfhkceekjdbkfifkedbddfbcgghdjdcdckeibhhfgedkhjchibehbkeeckbhdkikdijihdkbdkchkchhjhcifebdhhghbieifjdgebfihfjckjbhjjcciihedhibighdkdfbgcgkhcebijhkcjcfgidccdiijjkifbjjfcebcbijfkehcdcgkjfkjhiidbjdchchgijggihjjfbjgkkfhdbkciikfkihedhbejgkgieebjhfjjbchgjdkfhehkfcdikbdcefcbdkffikjjkbeihgfbcbiiiiehefdbeejedbibfjeidbjkghhdcjdcgehdkhkhhgcjgeikbhjghgkbbjhgfbfdjgjfkihfkhkeckickjbkkcfigckebikkcggcihbjicefieiidjkhcgjhegccffdfcjbjcbcedhhbgdjeccgdkjeegfjbgcjbjdcegfffjghcficdgbkdcchkghcfbkbdibkfkhbibbggegegiidkkkedekicibckjdjcbijcjbkdicbkhkcbkkdgccbigbihidkccdgihjgbbgjgffihjbkcghihdfgbgifgigeifceggehdeedeehkegbbchdkjkcjkbckkbbjgibbgijjgcbgegigjfkjcecchdgbecjbichdkgideceecejdgjkbgfgdieibejhehgkhhhbdehfbfjbhebhfeikdfdkcgjbjcfcjfjjijdhjfifcfjkjjjhkkjfdbfhgjggjbdcdffchddbcjihchebgcjgidgefbibcdjfbfdheifgdkckhbjhfjgdjejjfbfgdbckhikkejkjhkfbbjdbhcjbdgjbgdbdfgbcdiihdgikdbiekjiiigcjecfkfgjhicgghbdddigjfecdkjhiegkkkcgekbbkieifdihbfgikfgbeddkhhkbkcdicgbigjffddjgcjchhfhbfckbcigjjfidkeikifhccdhkikcdikdefhkcgieikihhbcbfbdbcekhfjjickedigfhibcgbcfcjfbddfihfciejefhjkfikbcehegbfihccdidfeekjbegiickcdfidkigckigjedbikfhkcbhjdhfjhhbchjjeiejeccijefejghfbjjdjkekjhgdcbkechjebddgdjgkbkebhehcichffgjkejeckfhifhchkfhbcjcjhjhfhjhkhekiiicgfkihkjieibdhebekjchebgbfigkhhbccbbchhbijckgejjdcebdgddfbkkjgcfgjcjediikhhgehfffidiibgikhbedhjgefechekgbjdghfkddhkkfdckckghdjgffdkdcjfcgbehkfddefkcihjekkhhdefigdihbkdbijjchjhigfggbgkhhfddeeihiifgghicedjgfeffbejgdhddjiikbbkkgijechffidkbhdcidckdggchhkkebjkkkjjbddhfjcfjjcchdkibkkgebffhedcgkdbgecigjhfgedcicjdgicfgekcfjfibikgjkidfdfjeefcibhjefciighdfdcdkikbihjcjehkjedbehckeihgcceggbhjdjebgcjjdhjkhejdkfdefhihdifdbfkhfeicdkjebbcbgdhbiekfeibkkbbkhiijfeejibhheciiiebcjffbddeidgjefjdhggkkijfeikdhbcgkddbdbcfbjckhfgckcifdkfhdebgdbfceigdkkighdbcbhbfkckhjfgehfkdfkdchcibekgffjgejijjibhkfdbhciihhdcdigckechegcfkfdihcjigdbgdhdjechfeffejbkikckgejicehfjhgfgkfcbcccidfffcgeffkjhcfcfebjkiegkcebgfdkchdccgchbbddbhhikdcgefgjbbgdchbgbkbfdfkiigkkfjgjceejibcjfjiejbjeebffefdegfkhdhkjeiifcekdijkhkikkedhbgedcijekkhkhbebffdikgjicedhcbbgicfcidhhckfgkehgcbkfihkbbfbccibdjijjkbgbfdhhkeifjkhfgckhidhhejhibkkbkhfccbiddjcfgkgiecddcgjbeicddegkhghkcdgiceigiiicjbjdbjjfdeijhghgebeckkeccdkfibefdbkejkgicffjgbjbbfbefbidfjgkgeegdfbjjfjekchfbedifegeekjeihhjhfjbcdcedckjhjjegkjddjkkccgikhbhgefjhidfgijikehdkjjjijhgckcfdidcgfdfjhikchjeedckdfgjikfeicffjdehcbhdcefbggbkjcdkbibebkiccbghbkdgfhfjkhehhgbcbichfifgegdjkidjhdbcckbedgbhiijbkhkgjhibbgcgeddgfijdibbkbfjibkcdgibbfcidgbbbdikjgjibegchkgjbcgecjgbfchhjefefgeegigjcjbcjcfcceehjeegdhciegbicccjhbkbeefgjeibfkbgckigdcdcjedkgkgjjeeddkjfdfeficefccfikhiigfhfdehcfjfhijkjkddcbeeidkcdkkegdfcdedgchikjgdbjghkkgjiididjdddiibfkdjejdkdbbkddjcjdbikegicbfidgedkfgcjcgikbbhbebifgjfjhffbbdejhcdjfbjkkidieejddcdfikcefdifhcgdidcjjhkbgkcjjddfjijgekgdcgkhcjffiddghigecccecgcdcdiigidbfhbdgdihfddfhecgkehijbjeggigkcgfidfkbhdkgjgebfjickhdhfbjgfdgdeiikcbbfjbgifdifbibeffjecjbfggkjedbehkibigfjkifcgfckhgfbcheijhfihfhdcdbhghfkfbeffgefejhgkgccechhjikhkfheijbbjkdghkjfkfbccebikfibeggiighehhikkibefcfhekhighebkdbiibfijgdgbcffbckfcdjcchdkifdeehddbeiefegfjejkbidgihdiickgkkcckkekjdkfgekijgghdhgbkckjcccfdheeidkekeekciihdgkejbkebjkjckhcecbghigfghbkchkcdkfbbdhhgjfddbibhhebejjgcehbccghefkcfbiikkkbigiiidefdcgigghcjkcggcbcihbjeegbeikijbgjbbfbkkicbcicdghcfbkgcdghkjhihhihfegejbkeedieejhdgjfeeedgdhghbfhkkchjjedecgfbbecbikefcfbigbdgcejdbkchcjcbekeeekkjifdjdjkedkhkcgigjgcjgibijbfbkbggbdkidbfccdjfgcjchbhchdbccgchhigebfhhgdfbcijgdgcfceekdgficgefjcjfkgedjddjibfkhbbbcfcjbcikkjkgjeigbgihbfdgecifbehgjcbkbhfhhedbbchdkkjjcjbjbbhjcgigkficicgjecdegfcgjghkieigcifcidjdbbdgibcfhekgckgcdjcckefcdfhkbgeihfdckebjcgcfbgfiibidjdghibihihdfhggkfeggbkchkidggihfhchjkhgkchgbgcebebfiieceidgkbfifegkfkbcjibjhgcbidfceggbgfcefjbjckkfckekjjefbccfkdjiiecbfjbkcbcbfbibfjgijecffjfjkeibgdejidjkeciiikcijbebjbfbfjjickhgjiefgjbejhcdccjhficegkhfhbjekekkghicckdhkkhikhefkikibhikdigfckjchdghbieeiiibkdehefbjbicekbfjkjjcdikedfcdfbfbchedbjjckjkbehjckjbfgfikcghbbfjddcgchejddifgkeechfggcefcgcccidkbkdfjfdbkcckgfdbjejehdfiijbkfjcikgbhbbficdjgihkhkffkdcekbfdkbddcbejkfhcfijfkffcfekggeedbidhcjjhbikfhiffkcbbhbdegkjkkfgfeigieebiecgckikjddgihhehhkeddcgccijgchddjhdkceebjfkiffjeffcdehkcehgdicbdgcebdedfcfciekjfhickkjkbbheccdbkfidjkjhfgfggjdkgeihbgfbjbkiiefcikhbcjcbbgjhcfhkkfffehidjcbkegcbhgeekgdjckfghkcddgcfbkkehejichfkcbfdcjfcgbdkhigigfideckcbjdiffgcbdbfgcbhgbicekifcfeeejjbkdfbgjjbfjbcicfjceehgkkceiiibjgfbgekfichdejhhgjichbgeceffhgcjbbcjdfjeebhhifcceedhbcdibfgejfkegjekigjkiehffijgiekbcficjefbkfkgcjickcgcbfgebeekijbgibfcdhifgeijhikgfjkjjgidhkfggbffjkdhdfbjkffbbjeggbibkjifebcjcggbgkkhbijijefbghdkcfcdkihggkkdbddicibkdjckhedcecddgjkefiibkeckegkcjdbbjgiccidiidkbgcggifdedjkgckffiefhhgeddigkbdegffgbgjckefghhgbjdfkdfkdhfcbehcdifheejgcbhfebdegkjbcffhgfgcgddjefffjbcfcfgfkhchhehcfghhjdjkhkdgccjkfihggkicgjicihkiedecdieddkbbbeeecbcbkjjcccejehbhieihhkhfiehcjddjccdcbgjkifffcejdedgcjbgeedbbickkghggdhcjeiigfbfeefihghcifckgfkfjhcfkhdfijdfdcegbcjkegdighkiccfjfihfiibjbchjbgecihgihdikhkiijgchigejekfheikdfejibeihjfehhgkkkcgbjfhfdkfihbdffgfjcjbbchcfbbejehijeecjgejkibhkjfgcjeijejegbhjigdgeecjfdgfckkbkcbhfehicbhfiehdjjfgbfkhhdgecfbdghiegjgcbijhffbjgbchehfdbbkjdfkkdcihfdfbjdegdicbegchhibgjgjkfhccgjbbgfcfgjeicjijgkifgfihcbfjjjiekcbheegecebeigeejegcijgfddkefihgjfgebkdjddffhhkcdcfddddjjdkbbcijiciceeckcgcheeiifbcheghkcefkeffhkdkgffdkhjddichcfefkckkbjjbbbedhgfcgkbhgdgigebejicfjjceighbickgbcghebgfibbjjehckcfeekdfdjjedjfejfdecbebjibidfbjficefbbfhicekkehkedcdfbbccfhiffihfkjjjkbfjifjchdfjdbkgdeebckbidbhichjcbkdfjkjkkhikhbfdijkjfeebgibidhhkkjfhdfggjbigdbhebfdcchgfegehjhkjecbfejhebdjidjegkickiecbefekekhjhceihdjgkikbccfbddiffcjdeibbijijdefggkjibhibekckiihdifkikekdkbfgkccegbdckdfffcbehhcihdbdccgehdghffhbhjhfdcdihkdjhjhffgjkibdededjkfjdicfjcikejjedekihhcghebbebkcjbgkckkbfhjijeijgkdigffffigbdghigiejbeheigbfdecbiidfjfebifkjiidfhdgchjikejgjfgegkifbchjkjjjeckihhhihgddihifhhfcfgkbjkgjcibfdkdbgjfgfcfgcggghefiecbefbbkgdhkkkibjkhkhggjffdkgkgcekfeghgjjfhgbkdkcchbijehckdfebdkifbdfkfhbbgedcihiijkihgegejfcfgjcbfhckgghkbdkdbkgidkicdfckgfkdficejehfdecedgggfgkbefiikdggjgjfbdkhdefbfcbhgdcbeijdcfcfkfbkbhggkjejecjbkbfdjcbjekfedicdejkfkeghehcfgfbhfdcdejhfebbechhkhkfchbgkhjdhkhhhcgfjidhcbhcbchgckghbjefikkiegfijidiijebcgjfehiiidddjbchckfcckjhkkhkkdchgiejchbeijhheffdhcgegkbbdgedcgkbcidhkdidefbdefgejkhbdihkkigkfjkbjebdkechjkgedejgekdjdfdhjdhdhjbbffkdjdkfigjbechigkbkigihefbdhjjbkjbckgdkibggghifdcbbdhijedgegdkcbchhdbfdhfdcecfhchcfdibhdkckghkkbbiebgjcikikicdcigdhcbbkkfbgkiebjkbdjdgbfdehjbcijifkekjegffecgeikfgijefihbdidbidjhihhfecjjcibfcbcdhjhbjeifciifbfjjcfjdjchgehhjjbggkecegfekehjjkjfkcjfjkfcejgdbgkgjjggjjghhefbhfgffceifkjgedbfjfhjcggidkfbbgkdkkichibcihkghfjggddffhcibkifcghgifbhgehfhdjfggeeibgeefkkifgbcbfjgbdkfbfieijcdjcigdhdjhbediekhgefdgjbcbededdecebkjdbfcikifffdkfcbdhcbghdfhjihdjgeehgeeijgkbjejhijdkifgkddggdddikjcchgfkdgdehggdidiiddfiifhiibkghjkikfebhgijfbjdcbfhdhjgjehcjkejfkdeecgjfhdebeiidfcddhjbihjekkgijgfickficdkcbbiceekkdkfdebejgghkckbedkigegdbjccdejeiigkbfebfhfcidcekfbhjgjfcgkeecdbhgfbkcggkdbihfgifiiheghediehkfhfcdcgceihdeehcjfgkcjfdjedkifeidkhibcgicdgeifhjgecfckcbfehhijkcgjdckcefkgjiejcjhicdcjdhikebdkijdhjccceggegkjddcgggebgdkcjiddkgiibefccjjhkkeggdchkdcgjigbddcceibhkeeefdghjbeidhhkccfhjfifefhjbbgfeeeehdekdgeckbhebjjcikhkehjjiejekfcfhbbefkkhbhdehigckkhcebkhbgfkhfgijbeigbhdbgdbekfkjdiefdkhfegbkecedgihgckbejbbbgkkfihgkcbebfjjhdbgghjihhefhifhgfbgkebbdbfghgkfcdbhgehdgkgjhjijedffhjbkjccbdfhehchjgdckhheejjhcbhdkidhhjdkiifhgfcchedbcihigfdcfhceekdhkfehgkcbhfgcdijbkfbhhifkdjbhdkjibkeekhiiccefjcbekihheekbjkihgdjhgkbibcgjeejdehiichfdjbjhhdjgebdjjehfifigkbccikkbbfjfhdcekfkbfkdigffdkehegjjjfjficchjbefjegbigdkgkkickgfhffhibjidjhccgbigekeecidjiekgehcfehdkcgjfkcdedicjcefcefjifjiccbgegiffciieihkfgideddidgibgifcdkffdgigkjjdcediebjfifgcfijkibidijdkhjiickkbghkffcjddhjbdcdebefggbhjiekbcbbfibfdigdgkfghfheekfdbdfhfedhbbjbfddkjjfgbhiddbejghfecbfkkgfbghdckhdgbedgdbhjbbfcideehfcbfifckgccijdefiiebbdcekkbgjfjcfhfhijecciiddhjchehcebggdfffekikicikcdddhbdeejgfgfhcdfckdehjjjfcihbkikibjbifdecfihcjjkhjgehkhhgjggekgcejhcieiejiibdfgcbgkcehbccjccekicfghjghhgehkhkjekcgegdceffjckibgbjkbdiigfcbeefiiekbjdjhjgdgbdedhdggfgbckfikbcfkeieickcfcccjdjccbjcdjhghkedkfbbjcbggcjfifdfhhhfdcihfejgbicccfhkdideegidcccigbkedigjkegegcckbcheihfddbfikjfhbcfkgkgbegdkhdcfkcfkjgjchcckdhbckhfbigkjchdcdcjfkeikhebjbfhhccgjfjbbkejfdkjcfbjgbccjhdcjbeccdcbejefheidefbjchdbkghhhdecheiigcejcdjccfgbeiedfcggbhgejbhcjicdhhgdkfkieghdecbhjdekdfhegeechfbfhijgbbffdjfbggbbhifdfjhgfddicjgiidecfijdhhdikfcdfhkhkdhkdcbhbfickkfdfhhcgbgjhgkbfffkibbbegjfibekhgecgeejjffckfbcbcgebgfdhikeidbhfjfcehggiecbejjeggfideehhcidkhcfjjbihidfffdbhjdjcikjeckhcibggeiedekeefbbbhjcjedhhbfegbbbcbhegjhcccfdefhhjikcbjfbhfhhchiefeciekcechdgfbfcidbdhbcigkifkkchghefibjgidhgfjhkekjdjkihebdchdcdbkkbfbbfkcjibhihhjdececghdjceidehihikbbjfkbbhkkjihhjfjkdbdhijhikbhjhdgfjefhikcfgeceeejfiihcchcdebhfdffebhdhfejdjhckdckfkiekehkjecfcciigbcfkhekifecbkegkccccbgchiddcgfdfbfecdckdbgghikhgchcchkhkckkfjfkfhfhgdeieggibgkhgjkfejfgheifgcjihjiiekehcckekfhkbegcdeifjfcgbgcedijehckcighegjfkjhcfekbgkbdgkdegbcfgchjgjjikfgjcbbjbhfbjfjbffjjhefhkgbcjckkkjbdjjdcdkebfeeeekgkgbkijgfdhddeceicjchcdjbikefejjcbcbekdgkkekceckkbbbigecbbcfghhjiibibhicicdiceeecbehcdfkhbdgifideihbfdefdbdiebjkfgccikgkgceccgdehggdicdbijdhkccbcdfggjkecfffjkdbkebbebhfhkhidhheegfdehjjjiceffjheddebhfiikdhiecijbdjdcbkibfcjdjhccifhfdkchfihjidjbcekggjjebhhffhhkghdijhehbidfjhdkbfhfjkfejiekkhkkibdkcehbjfhcedidkjegfjfbjcgdbcgbbejggkbhgcjicfbdffdbjdhgggdhcebedjkcgeeceekdfegggdcjegbehjckdbikffiddcjgiheikeegbjdedbjcbeefdbhjhjddeikfkgicfedgbjdejhcfdbfbbehddgcgkhiijibgjfkfjegigffbejbfbicigfbdijffjfbdjeccjbjgegfcjibhicccihkeihfiebkfigfghddbjkcjehekhkiekgidifiiehciidfgejgkgfkddebhbibeeggbkfeheihgcbkdhejhcjbeekccgeheieichheihccjhbkkiijfifjgjecjbejehbjckggdehjidecbbjfefebbiijgeffekbbkfkjidfbhgbbkdbicechidkekdcefegdchkcjdfkcjedcgcbbgkbhhbbgbjhbkcffebibcfbbdhgcibjhjgdgifhibkgieceehffdjchbbeedgbhhhijgfbbgbdbhjghcddejfhcfbhchbjjefhhkgeckedgbdekcehfichkdbdjjkfffkbfdfjeiehgfckfjgfjejfdchibkbfgbkgghddgcjhficdffdekicfgbchdhkjdebiggkdkekjgifdicebbehcdcckbdffbjficcgkjcfkkehhcdgceikifehkfbfckbihhffggefdfkigffjeekbifebgihfifdjigghjkjegkbghiebjggkgfdhbcdddefkhgdgjbighkbibehjibfjfkfikjdcbfhddbfdgbdjhcbbceiedhdfeebhhfjcgdcbdidcigebfjbeihihbbddhegbjdhjkddfdgibbkgkckdecehkcdehcbccdjhbfggghbegbjfikghfgfijkejcfcjgchifgffdeigcfjdfifbbggcbjgcekcigfjkkeefjkchdgdfkgghkkbhbifkgidgkbhdkijgdkicchebbhkhiiecfbhkjhkigdfdcdjhbgfjigcfhdkfgecbbkckcdkgeekfijgiekcccjiggidckcekcdfcfjkjhebkjdhheifdbjiikgbhjeibehikhkdeckdgkgighebdfecekcbdbfbgffjehdkejhjkbfbbkbgiebdgeikibdjcghhkcfgikkbdfkifidckjdkjehjdkichbkidibddkjdifbgdbecbjdkiefcbdbdbjejbdehfjiidjkdcjichcjbbchbeegijbcbjdkddkehjghjgjcjcjdjjiekdieihjgdcdceiichddceeegfeehedehkkgkffcggegcedhejhdkdfbjghkjghigicjfkgidcjdheidfifegjkffijdgffkhbkcchificfhdedchcghicckibbikdjccgfhkkkhbgihgckcdjgcihkbhjcidejcfdbdhehifhigbkihdhfjkejfbfkfgikifjkeggehhjbdffcecdhbigfkjdcgjekejffjbfchfdhcgckikcedhgfhhdcjdjhgjehkjihkehfjbbcdihkiiecfiebidbhcebebhiifbikdeeckkjbhciifjhkfkhgcckgdkkjkfjfffcjhgiifkgfjiikifbjbbihcbjhdeghdicejcbbheeffgcbgkkfhgifkefhijhdjkfccehfhhjecdgijgjhcecfigificebciffgijegibgfhhgfhbhehhgbhhgbgfjcihhbchcjbgkgkkgibfhkfcdffigcjjddkdehejcibfhfbjbjkhfjhgicbbgedbdgkchehgdejgdiggchjecfbefbjhcijhighdcbbbbgiijfkikecgghkejdebfdjhfjfcegkbgibbdibbhhjdfdibdhdjhjfbgjkdhdgcjehejhjkgebbeedikhjgikcbcgdcgbfcjdcjjidedjgcehefdcjdkbffcigkdkicgigjikcifgkbdjkigihgfcbgjjijhciefkdkbfjihkihefjkdicgkkjdbeikifihgbhgfhdkgigbcfgkeifbghbfdjhjeidfcjehbfhdhbkceiejbjhjbifbkibjbihfggibghjfkgdhkidcdidhfkgibdcebchjigbfbgbchehjdkikbeffhjfgidhdedcgggckhdedghhhkkhkkdkekbbjffdhjghhdbiedihegfjdkjjcjjdkijkcfjjbkejjdichhbhbejikgicgjfbfbegcfcggbghkjjbghebjggegkbcgbekefjeegdkhhhjhhgdfbkjjjkeeidgkddgiikjjhikbedhcfhfcfhjjkdcdgiibgkkkjkbdfghkhbjeeigbbgchejghjdcdffdjekcgfghfcgfdbjfghgekibddejhbhhhghbbdjjchkdcgdbidhifdhjgdebgkjkibgjheefdiifiifbghcgejjcciiibbcijbibgffffkfbhhiecfdfcbijgichfcgdkidfebhgckkbihgbhjecefjiejdijiefijbhkikghbdkiheekdbkekkichfebcicjkgkhdjgiedhfgebgkihgbjfjkdhdcjgkhdhheeedeekcibhjiiehccbdgkfghidfjkbccibbcggifcfbdjecgfcffhbbbhcjjkhfejhhcdbdiejjheffkhfeidhkhbccjfgecidekjgjidhjgfedhjbjbgejjgbckejkfcfdhffbbijkjhkkjjccckgdgjidbejjdibbbbkhfeejkfkfeicbegbdbdbkbicbjgihbjjcbfchdihekgcbbfjgcikbiebeekihcbgfdkjgkhhjhdfdchijhfdegefdcebdjjkgdgfigfejeigeddcbhbhkcfecfefhfkkdbbcdbkdbkhidggjiejgjdjihdijecdbfddehgkjiedgikibjffbekdgehcgjdkbceeggfidgeicfbfgcidedcgbcfkgghhhbcjbdgbickikggjijgkdkjgbgghjkedeegiijdddbbdjegkbgdjcfgighfbihegbedbdkeihdehibdgggeicfbfhchkbgdbjgebgdgghiefeiehhjfebeejfhkgecbjdkehbgfbgjhecdhbdihjjhhigbfhkebcckkbkbejcdjddcdefibhcgehbcfbbibedjdfcbkddhddfhedcfibefkcceecgbbffehgeghjkeggigijhdfcghjkkfkbkkjghjbjhkdkibbkjkghcbjfbkfjbhhkcdfhkfddbicgcgbfcjhedchegckbgjjkdebfffidkeeiegicdhbhfegejjkfegejhdkcfcjkcjkiibbhjjgjcfbkiecbjfcecgbebibbbidibeefbekjkgcbbhdggcgkigeckdhjkgbdeefhjegdbbdkdfdidgkhgckkdeckhchdcbeejdbeffjibgcbbcijificdggcjhficfiejchbeejegjdigigigkcdjiigcgcfgiijdjeikeddikjihbdbjjkkkjkeicejigfjjbbcghkhckcejifjdieeghhhjdbekhkbhfkdcejeiijfccbjkggckgbiicgcgbfjfjhghbcidkhjcehhhcccidgbbfgjfjekbjhigdddcbccdcefdcgbccijkdgfjcffbbcbdhbkdbhhhjhgekgkhekgfjfekhkdjiedggfjbiifjjjgbkdbhfddgebfjdggcdciegkhcciihbciddgiedfihkfddbjckdbiidefddfekibgegjhdckdeigkdcdckbhbhgkehhgkbhgjcegdcchbcdfhjhihiceghchieeeheekehkbbkekffdfbgjeeikhjidfjfkfdbcfjfgifgkjhhbkgcihfdbfkgcgjgcegcefjhjjehkfdkigdhhfcbebidicckedecdeiiiigidgbjccibkjihhdgcjgcgeggbhebdjcgdkjhbdhgigkhbekibhbjhgediekifhiiejkhfecchdkkjdbcibffjbcggjbecgkjkbjcgchkedcjeghjgjjjeficidgcifgcgkdffcbcejdkhikcfkjbbicbjihdfjdifckheiejcdggkbfbgdbkhiiebijcjkkhcidehjbihfiebekdeeebhdgjcjfkjchfjhdbdkfcegbeibbkhiebjjjiikbjggekfkdddbkjeddddehdkfdbegkgkckhbcdkicfdjhidgcfhhjiidccbefjkkekghfiedjkceejkjkgdeeiigdhfckiehhekiddjibkchbcigjfcifjkejjbdckiigfedjgjjdjchchjhfikbcicjkcfbdcghfcfkgdcbkfhhdfckggfkkihfbjfgijcggbgiffkdkbjiebgjjkeifkfgfgbkcbbjjfgbkbgeikjekgcgiifecbeeiikbjghhkihigkfddigbjdhidijfkdcekhfkiikibefgefhjgjfbfhfejegkededhiggccechddeigibcijbdfcjefekkheidhfdcebiihgiejkgkdiefeidbkgckdkfcbcbihbgdidhbejhkkghfjdbfkibkejfhickcbgdhbfeicfdjdkdfdbdjgickkgeecjgdfkegjgkifcihhjkfjiddbgbhihgehbcjgifjkcebhhcbhbjegdgfhggibjehcbhghhgjihjhjdcbhifgkiebdehcbjfgeickiefdbjdbibgbjejbbheggdbbjkdjikffjcicijbdcgbjhbgkedfjbgbhehgiihfchjefcefefjkfgecdbbgkgbcijbbhibegihgfccdkiiejgifdjgbecbhhcfefkeehjefifbdejbkjjkkckbbfgkifikeijdbceggfhggfjhifiikkdjeckhefhefihickiijckdkehebicickegkkjijjfiekdgigciekejcgccfibedkbkefifijdhfhgibgdfikfbjicgcgigbcckhgkegecidiiecbdfkhjidfgdecbiihcdcgegkegddfbfcigieekgfdfefkdbbdjccfbiighgcbdccegjbfbjcdhcehdehdkkjjfkibccihfijkhcchgjggdfidedjjghggichibjbijfgecfgiicjcbfbhjbgbjiefecedjchbgckgkbfiehhbhjgdjigbhbdgikecjkhbdcfhhbecifbjcggkgijcfdhjhbgiigdghiikjegebbdjdeedddcghcbjgcbjikggdkkhefkgibkbdkccbhihbhhkehidhgifecbfhchjihickbkkbfgijhbhhgkfjdhgdkedijkfbjfdhjhchhbcgchhhcbhckcchhdbjfjjehfigkdhkdhcfiiebhgjhieekjfhbkikihdfgiicdbcbdjjbkikcfdgffihjfkkegfbbkkcjbffddgcckfjifeikfkgfbhhfdhbkiifdjdjfeefigkcfbbjejfcfgiicfbfkeigjegfchecfgbjikdgkicikfeehigedbiedhjhdefkeggdikhjhfkcjbjfbgkdehfefeiggcghdkbfjifcjdjhijicbfjigbfibcjekhbiejhegkcefeeheidedkeidghhikebfbeegjkkdikhececidjhfchhigkkehhgkegcegjkibidfibhhjdbkcbdfcchjhihcccbejhidfkeedbedhkhbffgbedhgjigeebeekdgdjedhfkkfbhdidigjidhffgjbkbbfjefgkjidjgbgfdgcciebddegiggiddfjkjkcffjchcfdkdjghjdkcjcggbkekkkiiegghdbhfgffffgigkcfghecfgfebfhbchcgchjcihjjfkhefjfchieifgijegbecjeikfdkkdddbfhcjdddjhgiffdkigciiffcfjjfkichfedhbkjhifffkjjhhbeihifhbcgbkhckfbbhjfjfbbbdbbbkjhdjhjbegkghdeekkkficbffjkgfdbfejhhhjigceibdigfickgkhhkfcgfgbcddccikcgedcfjjjiechhckdjggdhgkdgigcjghckhfjgbdbheeddjfkckkdfhegehjbibjbggbdcdbkcbdhgjhcgkjdjiibdigkdhgbhffhbkkfbkkhbifdghbkcgedfcckkkdckgkicjihdfjjbefhkbgihgkdhjbeigffcdgkijefdcidfdjigiegefjjbhdidbicfcfkejjdkgedibjegjhffkdhhejebhigjdgkbkcikkhiehdccefjfjckebkfcchjddfikbbkggdifgkjgihehbjhikkbiekkgbcgbfcjjfgjjegcjbghdckbfidekfjefhhicgbeddbcedjhbefgckfibkkebgkfcgckfchdcidkgfkjbkkeebjjigigcbjeegdhkdjccfdcehdjecedcghegkgkfcfcjekbjdcdcecgjkifcdjkjdgefcfkccdhebjeieggdgjjgbfbieggbekjdegjiiidcefdgfhiehekccccbcecgicidekhjcckggggcdgeihjehkdkckjkbighgcbdikgcjceegbececgbckcbkghcckbfdfdbebciikkdkhfidgjhdeddgghgijheghgddgdbiehbkcgbjbkihkgegcgjchbkhfhjhhcbdbckgfgcjjcfkfikdjkdeikeekdeddchgdbieghbceedgccbkhggcjgiegkgehjcdjheiegjfgccgbjehbbejjcdgkkhjdggjhfjfjddbjicdcebkceefjjfdggikkefffbdhhhdcedebfhejjfidfffbgghhbeidbdkefbkhfhibebjjdkehkjhecdkcbkcgiegjbhkkbedgkfdiihcjkfcdbhfcgdccifbkbekkhihhckfjbcbjkidciheckgjffcfhebhkhbkdkbhdidcfgfebckcgbefickkddjidkeeiifikjfieeeefdedkhghiifgfiihicifcdfbfddcfjkccefefekihfkfjbfjjhebieccgdbdfkgcckehdkcjdiedccjkckjdihgchfckgijckhikhifgeeedfkkghfbgchfchbkkjgcckjjjcefcihijkgifbecejciffjhgedkigidjedeifddhekehjfjdhhbjkfibkjhcckeedecdjjkbkigfdcegbbefjchdgkhbjbjcbhgbhgdciifcifhhdchhkfcjddcfgdkjkckcbffiekkhddcgdcjefgicecegbgfjigdfkdhgiigejjdjfddfidkeejhbccjehcebjhkgejfdjehhdhfcfefhfffcfbcefhdfiecdfhfbhbgjfbbdchkcdifjdjdiefffccicbkdebcgijkfbjbbkhejbcecdgejkbceckccccedkgjccdjcjecdfdfeefihfdcijijkbffhkfcbekcdikcheefkigcfifdehgfjhdhicbjffkfejcgigkdcfidgfehdeihcijbjgkhjehjkcjbhgfgejjfeifjhdiedghdbhdeidbkhcficjeckcgifbheddhhjfhedhkciegigckbffjfhgjeifeeejeeghhidejgceddcjhjjbhekggihkhjjgkkfkihjfkdjcdgfcejifjjbcjdghifechkbkgbeddicifkhigeikkcfifgikbcchjhgkbifkjifikbjidddbfbbkedhcckkggigekhgfifegibgjiddfbgdeidfdhbecgggeeddekheedcchgfckghigidciggfhhbeggkgfehbgffeekeeckckcjdeehdefcfgekejdbgkijkgiegddkdihfkhkcebigjgceidebhjbdfcfddjfhgddkhgjkbikdeibfhcecegfdihcfigkhjfdfddhhbhjdgfkkgdiifbcbbfdgeiiekfkkfikccdecdheiegbhcjcfjfhfehefddkbbjgfbchehgbjigbifjkfbjkkedgecbbgjfbdegkecjebbgkkfehkckggigchbceefeecfcidibfhjgheechjehkgfgeebjgebeghifegeffcgdjfjejkkggeidjghkeedbgbhcgfhkfijfiegggcgijfebikekhjkkhdkdfcbeijhgeikigcckeiebidjidijcgccdjjdcfibihcifdfejgchiccfecddgicfjcccdigdggceiihehdjhkjgdgbehkieikfjcggeighheggiebfjfhjdfcbifiekebkefjhfbfhhiibhgijdhbfegfgkcchihibbkbjkebhcejceciicekcgjhdkgdbhijbhkbkhkgkdfjcjgckeddhdhjbdffihbfkfbdfbbccfbgihbjigkjihkhhhgighhdbkifjbhjjeeehfghcigdfiigchbehhgkcgdkecjhbgkdefikckfhekgcieibhfdjidfgffebjgkkfcgkgikjgkhcibeebgccikjkkhjfhigikfeikkjghefikhigkbdkjegjiffjgggjebccegfgegjbhieefdjdkdddfkehjefdbihfegfekjcjdckbigedhfikdjhjjghgifjgkibchgjdigkebecjhfdccbgijejkfikdfhdecidcififdfdcfgeigdbckgjgckigdhkhigdbkbbdeijbbidhfgebcgijehcbcbccbhddfjdjibgedkidedbbjbhebhedbiikkfbbceegdbbdhcjkkccfjeiceickjbgkckidfdgkeidhgkfhhgihdeegbkdkgggijjgkkekdgedfhibeciebffcfedgciccfegdehjfjiifhhifccdhckcdegkfbeefedkhhcieijjhhkjcfkegcjiibcjiffhbgiihgdcdijkidgcefgcgeheefgjkgdhbdbdcfffdbhjejhcgdeidjibkbgfehjjfgiehjgkikhddfececfbbhjjkhihdcfcdhfcbcjijdgbgjhdckbbkffiihhggkjbefhccjiejhhkhhbfedifkhhjgjgegfhgfkcjfbedkigcdkgkkihhfefjbgciidddbdgeegefdheejjihccihcggjhgjhfbcikhjffjjehhkkdhccfbieekkhjhcibbfggkcegfgcghiijiijddbjejefcjejghihbbhjbfcdkccegdhbkdbbgfigkfhhegijbjddkekdbfgkcjkddfcbfcddkgbhfckdbchijfgcbigbcefffdiefbkkffidcieeekehfhbgfchkgikggbjcgbhfhgijihhdkbbdbhdkhkkhdgcgehkhbckfbjbgghedfbdckcdbjkckfejddkhejfdjffchjdddddkkbdihcegfiekfbhjkifhdkidbihbhbibfdbbhcckfcdkeicjfcgjdgidkbfgjfiiecegjfhiechgccgecikeccidbechkiihbikjbdjbbbkijdiegdbhhdfhcbbeggjdcjeejfgkjciifjdheedhdhhdegjidbdffgikedhkhkchjddbjcjjefcjdececbdjfibggifdcbckiffccgfcjdfcfcifbbhghigbichebdbfkceghkekdhfchbijhigcfkcehjidkhidbkgiihdfgdhiehijebffeeehifhhgkdhfhggfhgbfbjcgccdeceffdkecgkgjiieefjiijbfkchcgfbceekgehgdffchfeeifhccfbffdgcgjedggkjdbbicbccikbhkfjbgicecfdhjicfdcckceeeeeibgbgbbdijhcjjekbkdcedeehdbcdehgkbgcgcehfkkfiggieegkiijejcfjgfdjcehheghhbceihjhgbcefjfcbijdiikfjekiigicciihkhgdkkegihcfhkgikbffighbjddfkdefjbhgccdbgbhgiccfjhdijieieikcdjcggdggihfghefdidbddkdgcdkffjikghgegheidiidhgeffihdfbgeegbccgggkjdgedhkikgbcecikdedhdbghehbhgcckfjfibjhgdbkgcbiffdebggjfgkfiigicgehckhdhhieekbhbdikibfjbhefdifbifgdigijjgghdkhhkfbiggeikbgihjgefiijgkgbjgdcbhifbfdhhjkgcjkhjckghhgjkghfeecgcjhckfhbfchccgfbdigkjjekbdjcehikbeffdfhkcbghegeegkegbhdhghjifjbhejkcbcckcecighdecccdefgdedkffdhbbbfbiiekgbggdbghkbididiggjhiidhjchdebhhdfccddibkcbhbhgcicjkjjjgdckeiffcdkbefdkkkijdedcfbkhbekkfieddjhekifejjifcckigifhcchedcgfddigdefhibjiijkkbjejdiihcjgdcdbfekcgcjgckfjhifkchfhifdfeehjbfdfddhcjfeffbbhfdcedfkkkkeicgkjeichgckfgkdfehgkiechggefcfkdhgeeikdkehkiekkekijdgigcdgjfhkehchjdjckckgjddbkddccgfgfjbgeihjheecfjejkbbgdckckbefdfkcibefbbfcijhhcjkfehgbhgcgbfjifdgedbfjkjibfhicikggcehjkihgkcebjdkegkfjjjgcjcjceghhbkjdjfdcckjkijgihkjcdbkgihjdfeekbdbbjijbjjefggcgkjecdefbgbegjfbicebgdjigjbhibfigkfdeebbkcfjfbjijkkkbjdbejbcjkkhhjkfkbdjfjgfickhfefhddkeiibkdigcjeekhkccdecegghccdjgdedfhejfijhjggcjgjjjhkdeikbchfkigeidddbffefbjeffjdhejbichcigkiekjjiibcdkkbddgkfbbkgchkeghbggghgjjbfbgifgkccbbhfkihhecfgcjekbkdejghkdddfdecggbibkicjjehjijfebbicfhkfichckbjcbhfdhicfeicgbgjcgdfhjhfbcekbjgbkigkgfjjhebcgdhcbjdecggekbfjffhjkdbhgchcbjbejdejfjejbefkbdhecjfcbkgbihgdbdjbfcjfjgjhbckgcijghjfchigcchdkdbiddehijgbkcdbbbeehdffhhkffiddjggccjkgehddebjckbjdeiihdchifcchijfggidigggeddigfkcjbddcjedjecejcdffbfdjhikeegigbbkkhiihbdfjjddggbcjhccifgkjkfhjegeiffecdegbgdjhdbhffjhcfebjbihhgdedjgccfjgdfebhibejihgdejedbbkhiehekchjhkjbdhdjdfgfggjfkbjfhfhjdceibbfjjfikfkehcghgbibfijicddhdebjededhbgjdgjecbjdcdgdifgbgfdkkgdibckdkcjhchgjbehdkdecgiefihdbkcfjgcbcchffebfbcgibbhbgheekehfhbkgikkfjghjhggdhkhdkckcgkhfdgbggdbccgceigdceihefifijjhfbecdeiibfcdejickbejedgefhdheddjjbcjbbegejfdigedhgcefihfgjfcfjffdheckcfjghfbddkjkkgfhbbhbhdjihchbcdkjkkkggkjikebcheehgeifbkhhdhcgigdjiidfijdcekigefgjbebdfkhkhefifgiikbkdibifegffejdgfkihfgbhjddjcfkdfhbdkbgfhbkicghefkjcfheeicdbkcfdciggcccecdiigfbeicjhfdcdhifdhibijijchjkhgfhdkbkkhhecbecbecfgjfgcfbejkkcgkjkkgbhjfchdbkcekkchjgbfcibbejgfckgekghchcfkddihkgcbdhdgfhchgejeikihcdgheeihkijeccjidbbhijhhifjhhickifgjgdihhifjfjkkbigkdecbjjdfjdbgigbgecdcfkfjchifjbecfebfjccjegdkcebbjcjcfjgkhekifedhebfceikcbbchekhjfckijjejefeecfdfcieibfhhhfkceciggbidfejbjbghbhdebhkgdkkhjfdbbkdjdbcghkbkkegkbdikgjcehjcdcgdggdfkhbgbgdjdbgjkgkiihjddikbieibgkjkkbecjhdbijkcighkdicigigfcdieijghhkccfedbbhciegcghjihcccefkkehiifgbkdegfhdffckgdiijhcikhigefhkhjjcjjhchegkjdcdhjhkibdchigfhbhjihbjhgkfcfddiecdidkjckcdgkhhjchgkbjbbgkbfgceedjeefhifjfjkhgcjhihhccfikkfhibfhckihjjeihgkbfkbdjjfgigcefkkhjjehjjcbdkjjkedkhjkhjeidihbhbjkbjcfkgkefhfigcebkegbjfebfjfddggffbbjghkjggdcgjbdkikkkhcggbekfhifcddgidiehibibfcifcdgddbeddbckkddjfddeejiffgbfgbjjhekcdhdibgidchicchkceifggchkkhbbkhejbfebbikehkbiekkbfhfkfchihbhbhbbjidggdebfegebjgkkecddkihciehkdiikcdidhidfijifieegdbcdjjidhidjckhcjijjjjfgfeffhkbhfefgcfdkhggbjgddkchckeigigkbcckifjjgcdghgjdjjdkjcdhbckghgjdifgfjebikkbcikkiigecbhfcjbbhfkbeiigiggghihjhbejheekjkifkikggchgjchkdhdidjdjfhgjiibehbcgckfcjikfcfbkfdbegeidfffkbcbbbchbjibeikihcdecfcikgijggfgjghkebdhichbkhgdhjcjiegidchcckikbcdkdjdkdhfkkhhbbbcjcdcbdebfcfdefddccdgkdjdjggbfjcbkiebhhdidgbhghcjgdiebeechjigjebkcihijbjhffdchdeegjkeibffijhjghjhigbibdidgicedikehkbhbjbghkkijbcdkeicfbkkkbdfjecikiehcbfdedifijdgifbbdhekeijddecdbjbhegchchgfjedgbifebihbbkkgfjbeeckijjchjbfkkbdcdedggkggbjgbgjkjgeijbbgkcdkefhhgkdgfhihgbgbihhijdhfijfhjfkibhidkbgiecdbgchjhdjdkbgddbeegkdkifiifdkkgbfckfbcjebjehdecdgfgkjjgghkhbeggbfigjkhefcfkfjgjebcgbfhjeeffhbihiighhbkfcbfegecffeehbkdkhchigfdkgbddcjiehdbccfhkfhikjkdffdjggkfiieifidhgjigcjidcfjjhkeghhcjkjjchcdkfifbkhedchkjdfddcdfejjebkjcgkhigbbkbccfhckegkfbchgifcfkjfdkegkcfgejicgjbfijdhijfhfdfbfhggkkhdkicdgchcdecgjjgiidfdhjkdkjjfiiejdbhkejcbcchkfbjgbggifdfjejfkegjigebeifdbejbfbfffdbjgcdjbdcfbkkjgifckjjhhekcgejbkkghhbdfekckbefgiidkhikdkhbejkeigibgbgfdhegcdieegekcikggikkfcicbebddkgjkhgbcejdkheikigkkiicijjbckdefjficjfkjeigeibgbgdfgjeccdcfcehfffbdgcjeekfchdjbbdeddgfbihbgghchebhbdcikhiihjkfkcjkgfddcjdjbgkcckekdjidgcchkbjekbhfhfehbcdijhgjgffkegfkfhiekkigjbckcfcdkiidgkjcibifejheffkhhiejddcebfibdfddieejfhbjdhjjjdjiefcbhkehekdjkjjiefjkjkkijcggifcjeghdhfjehiefdcfcgckjhgkibfkddheikibidfkkfebbebbkjdchjidjkbkdfhdbgdjjdbbckhgkidfdiedibekhebgjgkkkcicchgjeikghbkkbbcbkdghjfhjgjikffgdjcfdbbehjeegjfbcfbhckjdiciefkfhgcdkgcjbjcfgbejfgeeibdjdjjhhjkkddbgfgjekkidecfjcfkhdddicbbcfgkkfffjbkfjgciefcibigbjhkefidbjbddfkjcehgfcddjchgehkcjicjiebiibhjkfecdicdjdddibkdhkbceijhbhdhifighedkffkhkhhcgfkhgefkiegekejfbkijikffjdgejedbceifcgjeihdkjihjjjgcfhkfkdbjhifcdkhhfeddcehfggfkjihdhjkehdfbiefhhhigfdfbehdjcgifhdkdhciegdkgjecdeihcigkfffejdgfjiikggjfgicjbidgjfkijkbehehbedchccchiejdjdbbcdjcceebfbbfgkedcgfedgbgfdifkfbdhcbcjgfdckecjikdkhfdgjfiebcjcdccikfccedcdhjkegfiedbgcdjbghgfgfbhhdijjfekjfjjhbgddhickjjefdhdhhijbcbckdfjgkgjcfkeckbbgiegehkkefedhfgdkbidbcidkcfebbejcjcgkfdifkgbdjeeegbjikjfeggbbfhkhhjicchhkeiefkddbcigikkjdcekikecbkgdcjbkkdbidjghkigdjkffjbgiffkgdcjgicbkcekbhghcchjdjgbfgbjefjhcjhgdiiieggdbdcfehkbdikeikbhefbkikkbgiiccjficbibfcjkkjijkccjkbkfgjighfeibiijbejddhkifdjcfehbebhecgbjejfihgfjhhbeekbdjeeidiefidcecgekbbhckdhdfidfbcedjhfihhkdckbhbghkfdeikbidicbdjkhbhbigfjikdicggefekkecgfideijbkfdkkikchidcdehcdgjdghbdfjihffiffjkfjdcfjgbkfiefdgfcdhjkgihhhdkgeedccfbfdfiikfhecghjgbgeekdeiiihhgihkjfcgkfbjcihidcfgjbhggkgifdhihbgbehcdkjhkiefkbijhegckbidejjbfggedjcjcidbggcjhefbdhehfgkjjeiihbidifddjgkkdcckcdcgchceegbgfddddebbihekjjjefdcbehiggckbfddfghfhkdgiecgjechdjfiedbkjedcbhdbkjjdkkgjegbjgedddcjidhedcijchffgkijhjfdjgjjfjdiehjkhcgchfjcbgbkkfcehcekijgghbbhfhbhibbhefjfkhjkiecjkeediikfgbikcgkcgeeeehgcccckgbjijbfcjjikbkbbhfbfecbbfjikebdbdkdbfidfjeifijehebkikehejiigdekggkgjehkigjkfhfdcgkjjbkgjfhgjccdecfejcdfkgbcdjhfcbhkkfkdcdcffjedebgckbgfbjkdfefbcidekidgdkfbbhfddecfdccbcfkcecbfgjekhejfbehjigecbceedbddfcgfgicdgkgkdfibchfkhjgiekjjgijjfjifekhbdbfiifkdjbifkifdcckhcgjkjbjkhdcfibhedjefkgggjfjjeejkhegiighfbeeegdedcheijffdfgdhjgkkgdfgbijjcgejgjicbkhekidiehjekffbfebkkfgbcbhfkdfbhdbjigkjhdfdfdghjkffbbfgigkhkkgidfihefihgekggedjjikebihfdhejkgkidffibedfjcikbkgjhigeeejdccfkhhfjfihibhcdkibbcjcbhhhijecjjfjdbkghjihcbhejfkbdcefcdjdhfehbidhfhkidjbbihedkbdkcbfbeibghikkidefcgghbjbjkijfkffbfifdjijekefcjgbecfcgkfghgkhecichkkdiefbkcbkijdchfkdifcggcikdegejfhbgbejgiiifhckeceegdcedheekchekijdkdbihbeckbgkegcfbbehjfiefghdgecfkjcbgfgccbchiibcbbchdehhhjedfcifejjbcgikjjdfeeehjjejbhecekdiigcddbkfhghihkbcecgkgjdfieicfibebebcgbicfkkfdihecfciegcihhcbkfhdddfdhhhkgkjckeiigkdjehcccghcdjigkbchgjfjbiicjhkjcjegkhkbjfdebhjdgehkgbjifigjhddfkbjhefdjchhbcfkgieiiifehijkgjcjgfkgjhjcekibicdbkigggbhhjdgcdbjjkdffiebbfekedefeckdfikjjfdiifbccfcbdebgdbcfggfhkjibkecccijikefjgefjgcbhifkbgcbffecfjcbijdfddidiejheccehkifgkdgibheehgifdcbbcgdchjgjekdhbbdcihibkbiigjcihbkijckhhgifbfjiiiddcbdhiieegeehjffejiebddcecdghecgkbeckdkjkcjdgjgebdhjchffgbkeffbjcjkkfhifckicdbkecjechceccehjhcegchjfkdfbdhgcjkhbihdkcfjbfghfbcghgjkiiegecbikdjjjkjcbfeehhefecdddkhbcgiikcbjcbeceffdcbbebehedhdhdbbihibefgkidihcejgeefbbhfdejhdgcbjkhedciibdbfdbkbhkhcbcghegheecfdhefbbfgjfhbkfihckecbgfhfghbdjecbfkejckkkbdkdgiebgkbejighgbjcgkijgbhgbhfkjjkgdkfgefbceegcggjbigfdkjfjhgfhgejkfkbhijbihcdkdjgkdbgkieickkcidbdfcjifjedjbcihhccbfeifbdkhbecedicfbbfhjcfbjhhheeccbiiehekegkhkccdkfceiefkihcfgjihbgjekjbhdchghkcggejckikckdgcgicgehfhccbkbgkbhddcibhfeggkcbcdjcdhbdhjkkeccjcggfigcckbebeeebbgkifddheebijfgfhccjdkicfffebgfddbkkibifhgdhfgggjckjjgddbighijkhghfjdjcbfeghcjgfdgjebjfckdjhcifdfdkikeiegcieigcgbhfgdibkiifhkjjebdfibjkifcdjhdgcihegghdfbbkdgihkgbdekedcbehkkehbebcickdjhghbefbkdfhkfbcffkjckhgjhcejgfdeegfjfddcggjbghhcfgkbihjcbcbcjdhddhdcfhbkjcgihcjefbbckfiicbjkdicfejhfefgefbicbigjegjhhgifbbccigcediffjccgbghhbeghdicijkedkgfbggbfidgefifcekkgjcgegjggikkfijbfhbgkhcfjidhgddkbjcckigecgdcdjhhebdgdjggfgjejefegfjhdfdbkbbjeidgbjijbebfigjfhhhhibkejjfecicjjgfjeccjfecefejcihekjihjjcfbbhhfhhekdhfdgfkcdceifkjckeghfibfbkckgjhhgiehhgbdhhkjefficcjkffbgdgibkfhedeijbfiejbbejfhjjdccghfjidcjeghbjbdbghhkgdkbciiiigbfhbjedkgjihjigccggdiebedghfcekkjkbggjfgkkkdbcghchcbdejejjheejhicgbiebefdfggikjjjkjdgkcejcjjdccihhdgkhgkgbkeidfbebbkkegefgiejekjbikighbiijhcfeejjidbgibkfdcddcijgjgeebebcdecghidejehdbkdiijdjkbjgckihcikghciffghgccidbgbkdbidkjfcckcddhgkijgbijdgefhchkfhkhkcgikfjiccgkihfdebdkcjjbekkggbfbbjdgijgkbhbjjibecjbfdbeibkicegkjfchdbcgjgcdkbfjjhedjeifcddjicccgfdjejijgibcjgbhdccchgbekedjjijcbcjdjgjkhkgcjgjjfeebecddigdhjcceeefihefgibgkeefgihhfbbhiikhhehkjedifdfihhikhkiecgiffbecgfkbeeddfijbiffcjihjhhbhffkbbfgdgkggikgkhcjggjjcchifdfhhhhjjebkbjdkcgfgbhceceihkddhkkfdjgdcegdbjgbkhhbkjjckjhkgjcefjcghdjhdjhdkjccfchehjehhijiebkedfeikhighjbgkkieeghgijhjejfggceckgbgfjhjcjihjidfkkidhkbhjjifddbhcgckgfhidcbhicjjbhjkbkefhhdkkkgjcdghhkhhfbbedbghgjfkhbckcbbidikhdghehigbjjfehceejkkciejikhejfjjgcefjgeifidfdfeckkcigbbfkhfddhkdcgjheeijciiecfeibekdeihcghgfjedggddijccdhgfffbchfegfdcidgkigcgkiffehfjkfebchkkedfkekgfeeffdbedefgiibdhifhbefbfhkeeekkddbhkibieehbhibckibddhjbgghhjdkjeghfbeijibffigfibdfdiegehchhfcjgccbgdfdbkgegceggcedfgeddgkdhjbdkgdeichdkchgfeichckchiedhifjkbjkfihgcejiccihfcbjkedjkdfjdhbegeidccjifgghbifjdkfiedebkcckeidbgfbegjbgiggdbdghihehfgghkjkihiiefbhibejfcdfdbbkfjeefkgcdfgdcfjcgbjkckeibkdiecbbckjdbckbdjhckideijbddggfcijedjjhbibjciggchdeddhiiiibkdikkbegbehihgejdecichdegedkigibjbdhkkkhfifcjibcjbcfibejehdidefbghchkfheccckfkjefcbfkgfkjkgjdbfhiccdgjeiihcddjegkjeidikkbbcbhdejbfedbiicggcebhkfjdhbjiehkikeekhiccdbfhbhfbjhdjedbebjggikjiejdggkkfgijcidkiggbkkeighkckcjdkcjikhkfkifbkhkcebiehkifibdkiecbjgjebcdjbjcbdgcdggbghkdfbheebjigdcciedjhedccjiedgebeehjbdheeeijbeckeedjbdkfcgjfdeddckfhgbhcfbbigdcijciigdgkjbffcgkigjjcbjdeckkhkjkccjdbcfbhckfbcddjcfidgcbfejijeejjdfkdjgddgkbdekkkggfijgghibchcdkikjifickfedchkfhbefkkhhkifchccijdbdhfeigbjbgkkgcgefijgiddekdhedfbjkkjkkjeddkjkfbjgjebiehdedfdhhjffigehfggbkiedijkiciegiffceddfbbggbcfkfjckfcijbhieiidgbjehbeeieckfckicejjheggfeffgebjhffjiighhjechcbjfbdfffhchgdidijbijieckdchkcbcgigdjhhkegikekibbcejfdiegfkgceichgccjcfggeedjehdcgdjgikehgcfkkfkibjgdhiidkegfdfehfeggifidceiffeecfiidgeecikkbfhdhheiecjfhijjhkgkegcibfkhkkkihcfdgfbejcbgkfeehecjdjhcgiikjbbcfkjkkkibgckjjjbdhfhcfckjjifekifedibbigcbdefibehkjbcfhkkebhfeidbkehgciccfkkdgieihdekcgicichehdkkkhkigebjfgkhkdfeejcjciifgekeheihiebgkehdgbkejccefjfdikfdiecffghdbfcgjidhgigdgdbdjgicdbkbgfjkggfecfkgkghigijdeihbhejbfihbdiicdfhedckkhbikhggjbkjhefjdejecdcbjkgcffhcciciceihjgkkigiciikgekhkbbghcfdekbbghdkhfkcihjkcikcefechdbbdihccgffchgjgjkdjjkeecffiikjdghebdghbkkeihbkfcbdkijdbghkgchjkkdchegegikfdjgcdgicjkckfjgbkkbhgehgfikkhkfjgjfkecdjjbchdffifjhicgcecijbjhijhjgekebddhcidhkbgckcjicbejffjfddjidbiihebbjcccjiijjgceegegchgibgcfedkbiebgikeikbjchekicbhidicfihdejkcjeccjciifdhjjkihfggehbcjegiiekkbgbbiegdgcfckckkjfbcefkjbffjikifejcikfgieegcfciefkhcfkfdhdgehgcdjkccibfbhddffhjhchkdkjjicjhkfkibhgkfeeidfebkjdeggcdjjkcdfjjeihidhijgjdjhgjgfbfbfdejcfhikhgfhcbceidfhhjbhigcgejdickhbdhbeebbdfdifefibekjccjeidkggejjdfjkccbdhhjhddgebdddckjbgdceiddhjidbkifcekdbegfkjgiefgceeggddkcefegjjgfhdbhebdfkebbibchkkjjgdijgbedihkjjdkkbcfgdghghdcgdjehbhffbifidibkfjgegkeijkecfhfbjjfdfhgdiieicdbijejffgedbdebfcbfbifkdceghciihdjkbkfeihhbcchhcjcbkfdikgghibkfjehgjdkiifdgkkkegfefkkcfgcjgjieeefefdejehhjjfgffghkckbcibfjihgccbcjedejeibfbkfjgdfigchjfkcieiddkekjbbbfkjkgcdjfbdhihfkegidbifgiehjcgffijcfekkcccjehbibdbeejckdbgigdhkeekccfdekfdkdfbjkkbgffjejieidfjgcgcdieckjjcgecdhkddkdfbdcedecehkjgeghbgefhhkidbiijkffkekhjhgbfkekihghidibgjcbcfkjebfjejghkcbdbkggcfkbbcfbfeihbbjkdbbdcjkdghcdhbhkbihbcfkkjgkgjgigebhjhgfhjjgcjhgdeeigefdfijchdkjeffbggbgjjefbdgbidcgbfhdchgcggfhgigdcchgcigcikjedbifcdbijgkkkfdidkbgijfcbkechefhfhkeekiificbjbgddkeckbeibchbgchjbhijecebcbedddhigbbgcbkdfgdcdefebehihkjijgicbeifejdciiccehcjbbjejgfdjifhfickjeejcbfikcjfjbefjjiehcfegikedijbfkfghcbhgiidbkbjjefjcgeikidhibfchjcccegidfhgbfhbjgeghiekfkfbcigjkffjkccdgbcegcfjghhgegdjibekjhdehedfibcbfekgckgccjhiigecfjifhgdfjcjddhghjfdghkdjihckfgkjejbfceebdjgheigkehdejbbjfjbfikgjeghbjjkjckcbhbjhbefcbjiifgjbfffcjdfidbfjgcdijjejgcjdhcbcbibffcibfkjfhkcicidkjfkgfbiijgkekeeeifdhfdiccjhhffjkdhihkbbejifdggfkefjcbkkggceehhkfhekihiicbfdbjhiegcigdjicfjcjgjfjjhijhdfcjdbfcghfijbkihdhfiidgcfgghckjdiffgjdfgghegifkdfjcbfbgfkkbjbhfjjkejjhejhkkdedidiikecdkcefkehdhgcdhhihcefhbggheggbdehgifdgkficdcfkjfgdkcidekkggbibcdegdhckjjgbcjbbkiedceiekcejghdgeghfdfgekgcchjdcdfhhifcgjgkeidejcgehbifdcgchicegddgkcfjibhidbeidkiefdkdijgcdigddgkigbidbffdbekehecdicdgbehgkgkeebgfdbhggeefbhbidjcfggfcdebddjkdcdfhfgdeddbkdfcchcjgegeeejfjfgkjiicecbbkbijicjhcjicjhegdjijffcchiibchijdecjdhjdgecckkgcfbcfkbgedfbcdgigkfeegdkheggeikkdcikcdfgfckkdgfbhehikebhjfgekkjhcchbjjchdifhdjechhkhdfegeghbfifbbgedebdbhkdcjhbeebhkjdjgebhjibegeiikhhjgjcdgighidkjicjejghkgdhbcdjhkbbdihkkjiddbdkfcjibibbfciibjedcifckkfgjekbbkkjihhgffkdhikdcbgejjgcjejfkbeidgkkgikjficccidifgjkicijbigkhkgccefhihbkdgcbfihcddfejecehiddejeddifejiidefgefbidgccffegjfccgidhjgidkcccifigghhbjjebfjfbdghjhgjdbijciedbjffgjgjdkcbhfghbgficdfhdfkgekbgekhccbfcjgiijdgggcbijjkdjkhcggbcceiidcfjbbcdgbcebdhgdedidbhdehgcdjjbdcdidicbgeehgjekjjkckckggfbeikkdeeibkehecfcjkhiifccbiibjjedbhgiehkheddiccihdhijdbfihghdgedcffjehddegjfcbkhkeebhiijickfjkcfhjidggbbcejfghbdiihbcdkhkcekddjcjkbbffcefebdgccjhkhfhidhiejjijefedjgckbdfcjjjfdbkgjbeccggiikffcidbgeebikbheegkccgidcgcgbiefkfgiegjhfjgdbhfehbiddjcdkhhfdgbkichfgdeffchbkhhgkiieihjfcgdfgbfikccgfiejkgiekieeehkeecffkbhechcfghcegekikdijdegkfhkbikkhfbeiddgjfiebjckbhjhjkgcgcckfkkebijgkjddjibhhkhfbbhdbbkhdfdbcijgdcejkkckejdkdjdfbhckkjgjekciiidiceidjgdedjhhjcgbfjikbjhhecbhghejfccbijifdfdbdgfggcbjcjkficihidiedifibdbkbdhkfeeegkbjjbjghfehkjdcfckchjeikbdhkfeiibidbdjicfegekjjhfhjkdebbbhegbcjkechcefjcbhfjjfddcibhefgbdidgfehkecbiiheeijidjhiifkjhiekdgejidiidhgbijcggfjegigfdhkhhececjbikdjkgcbgccfefidjhfeihhkjdkjeehcdjhhjkkfdhijdddgfifkfbdkfhifjfbdcgdhijibijkijkbgifgdbdfdhkdjcedhdbgbdeigidchffhkkbdidhjdkjhjdfdekcdgkgdfehefdcfihbdiidgchejfdjkikdigkhbijeidhhjgecjbkghejjbhbbbjggdkiiifbejfgecefjdgdgjbiejkiicfhgbbebkejfbgfiedcfeikiedcibcgcbbjedechgidchhhbghjedgefeckijhdeibggfigdgcbhbhjfcdbedcejfjbfbhbgdfdhcfkcjccdhfdhjggkehhcikcichjibehhfbchjfecdhchjfdhcifedhckdgchehcicdkijbfjehcfgieidfehfickgibifhbdkedfdbbhgegfhdkdfbchfkeiiikdefibfkbbjifdhfecikbfjkjdchfcggjcjfcbjhkbeebdcjhhfbfjbfffdbjikjfgcdgicfgbfbcihhkghbjcchefedcifjkkfjdcjcddbffecffefhfccjdhkdbkdfegbeekbkcjcgeefebdhkeckkkhkcigbbbgbgdchdgbgefjdjgedfheiebjbekdjidbiekhdkedejjcggbekkdhijbfdhdbghifjbijkfggfidgffikfdfdbeddheehfhhjggiijchhcecidbciejcdbhecfjbbiddbdeegjcbhciccebhkjkbkkbcjfcffkckdgedfigccedgdidgchhcbjijeijggigiegfhfeidjfdiefdebjjecbhdjiicekidckehdkihebekdhjejdjjkdigbcdcgdcgjebigjfkccehikbfkdgjijgdcbfhhccedgehgijiejckehdekcehcjjfkehefjbdjgdkdcefcjbehcicgehiejgbbckdigebefbiikfbikdgihkgjhdcbgjcfjbcfbbgbdefcbdgggbhiiihbiegekefejejgjiddkccefbdihdhhkbddkbcchjebhdhhjkdkgbehjdbkgdeifhkifhedkfjkfhfbbjekgbkjifkjkhckejghhkbghfejfjjgcidjkggibbkgfeiehcgikfhifbhhgigcgjdhhhhjgdhfgfejbeijibkeejbdjhccecifdkccegcebdchfcbfbdeieehcehgefgjdhgdidhbigkfhghefgdjhbjehkdkdhgjgbbckfebbkiddjghkgejjifkbgbkhkidghhjhjfibckbdbbcbcdhigebcgkgdghffkkkiejkikhiikkefcjddhjbkfkkckdkhghkigkjfcfccdikedifjceghjcjcgijbcdjcffdicebbbibdedcehccbdgcicgcgecefggcjkjhggfibkgifjjecjbdjdeebggcdbehbjchfiiifjhhgcgkekkkdffdceeebgehiidihceigicihigbcchjkjeihcccceghgbjcehgkjcjgbkhdgjgdkbihekkijjebefhehhkghjcjkdgfcebdfjcfikckghccbgcdkikefcieifchjdechekbdkdjggccfbcjejcdijgkedbkkeefifghjkkffbbhdjgcfggcjehfbieghicjbfihdijddkebiikkdgedfchgffcdffbhiekdehkfhckgheihgkhfbdhedddffgdcjjejbbdjbccighibjfibjejhgkiccgcbfikeiibdkeikkbfdiidbcgiikkddgddkccjiegijgjcffdhicjfghgkfkighikgjdecfkkdgedgkgdhifibjfdcckcdjbeccjkceghddfjjfefbbbikehkkkccdjgjbjbfdbjjeekhcjfccihcggbibbhjgdgccfhbcbihjjhgjijficbkcfigekkdebkggfefgegcgigjjdkbfggckeggeiekgedbkkjhbhbbkeikhgkbjkjeffkddjecidejfbbkdfbdbidjjdbhfgfdghgjbgfhejkkhjcbhijkibkhjbhkbjcebgkjdcgceigikdhecjbiiiehcfdhhhhdehkgbjgjddbkcgbdfhbcfdhdhcgfihgecibcehgkbegbheccjekjikjgbgjgifgibkbjfkeeeckifbgchkgiecjcebbkkbhifhjecgjhkihbdcddggjifcecfhjdckkbibcecgkbjkejibjikbidfbibdhbichhccgdbhhcdkebfdfkiedeeekcjhikcdcjkbceifcbkghcjdbbbkhcbbkbickdbdbeccffgkbgidecjbjhbcjedhkdhekkgkeegjgedcbghbikhjdgbchbdjececkjjgkhjhgefkhdjjibjbbecbjgdihiigjjkejdfjjgfdkckghfdecjedhgfhefbifbibdcigkbkjecdfjdbibfeiebbjdgfhggfggbgjfgffeijcdbdjgbddicdciicffcekdjfcbikhdkjgdhkibgfkdcecccbdjjffcbfcikhhkekdkifefhhbdegdcbdebbdkckiefckbdbgjcjicgeecgiiedeigcfhejibdddgcfhifejehckbgggiikdicejdcfikgbickfcichgeggcicfffghcgejhgbfibcefjicfhhjejcebkeeihcfdekdgccchbbghdhdgbghecbhfjgiigckckfdiihdiiidkdbhhkcgdgehgfkijijifiiejfbckhgefkgkedfiheidjiigddkcdhfifdbjkggekfkjchibgjccdbkekbggehjeifhbieckkfgebfjghkdchhjfcgebkdjjhcdjhbihkekdjkjdkhhcghjfkcfdjkhfgbjkefjkdfijgcbhdkecbgigeijdbbjhjgdjbeihekhhbkidckjhkecekgbihfbjdkkkfhhigbjfbgcejgghbdhjkecdhbgkidehkbgekchjjbfhjbhigjheiifhdcedhiiggkeejfdkchheifdkhfdjecikgkbiihgkedeffdbfhefeijgjgfjgkbgihkkggihkiifgchheihjbfcfjgdjdjdcchdjdfkjghhjbkediejedidehhdbghjhjbibcdkjjbidfjkhehdicdhghkbkijchbcjkdgdgkhkkgbgegkjckhggcccibfbegbhjgehiifjfbkgckjjjhbfekhebjjhfikiiikedjfjgcgeigehhehbfdhbcfdhhkcebiihbkbhkdgdfgdkgehjhihgcjibghbdbdfcfcgeghegfbcicdfibdcbjbehfcjbchjcdgbhhhchjfbbjbjdkbhcekhkjdfbfhdkhjkgehfhgcjkjccekbhheidkedcibdbjiichifbkediecgkbfgiedcjkbccjcfkekjdkkdhgefgjjdekbdfigdddhdhdgkfejghdgkgdgkcdkceddecjidchgibggdekcghfeikbhihefckdkfggdfgchiihggdheighgeejiijkihcbdbkjejkgfheeibifkkfdgbgkjiheekijhbdfkebdigfdkchcgfidiciikhegejkeccjcbgjfchficbbejgebjdgdfedjkjidhjfigdjdfkb'"
   ]
  },
  {
   "cell_type": "code",
   "execution_count": 80,
   "metadata": {},
   "outputs": [],
   "source": [
    "s = 'dcocd'\n",
    "n = len(s)\n",
    "res = 0\n",
    "i = 0"
   ]
  },
  {
   "cell_type": "code",
   "execution_count": 81,
   "metadata": {},
   "outputs": [
    {
     "name": "stdout",
     "output_type": "stream",
     "text": [
      "2 1\n"
     ]
    },
    {
     "data": {
      "text/plain": [
       "6"
      ]
     },
     "execution_count": 81,
     "metadata": {},
     "output_type": "execute_result"
    }
   ],
   "source": [
    "while (i<n):\n",
    "    char = 1\n",
    "    while (i+1<n and s[i]==s[i+1]):\n",
    "        char +=1\n",
    "        i+=1\n",
    "    res += int(char*(char+1)/2)\n",
    "    i+=1\n",
    "\n",
    "for i in range(1, n):\n",
    "    char = 1\n",
    "    while ((i+char<n) and \n",
    "          (i-char>=0) and \n",
    "          (s[i]!=s[i+1]) and \n",
    "          (s[i-char]==s[i+char]) and \n",
    "          (s[i-1]==s[i-char])):\n",
    "        print(i,char)\n",
    "        char+=1\n",
    "        \n",
    "    res+=char-1\n",
    "res\n",
    "\n",
    "\n",
    "\n",
    "\n"
   ]
  },
  {
   "cell_type": "code",
   "execution_count": 76,
   "metadata": {},
   "outputs": [
    {
     "name": "stdin",
     "output_type": "stream",
     "text": [
      " 5\n",
      " dcocd\n"
     ]
    },
    {
     "ename": "ValueError",
     "evalue": "invalid literal for int() with base 10: 'dcocd'",
     "output_type": "error",
     "traceback": [
      "\u001b[0;31m---------------------------------------------------------------------------\u001b[0m",
      "\u001b[0;31mValueError\u001b[0m                                Traceback (most recent call last)",
      "\u001b[0;32m<ipython-input-76-60cd3206f81f>\u001b[0m in \u001b[0;36m<module>\u001b[0;34m\u001b[0m\n\u001b[1;32m     24\u001b[0m \u001b[0;34m\u001b[0m\u001b[0m\n\u001b[1;32m     25\u001b[0m \u001b[0ms\u001b[0m \u001b[0;34m=\u001b[0m \u001b[0minput\u001b[0m\u001b[0;34m(\u001b[0m\u001b[0;34m)\u001b[0m\u001b[0;34m\u001b[0m\u001b[0;34m\u001b[0m\u001b[0m\n\u001b[0;32m---> 26\u001b[0;31m \u001b[0mn\u001b[0m \u001b[0;34m=\u001b[0m \u001b[0mint\u001b[0m\u001b[0;34m(\u001b[0m\u001b[0minput\u001b[0m\u001b[0;34m(\u001b[0m\u001b[0;34m)\u001b[0m\u001b[0;34m)\u001b[0m\u001b[0;34m\u001b[0m\u001b[0;34m\u001b[0m\u001b[0m\n\u001b[0m\u001b[1;32m     27\u001b[0m \u001b[0mprint\u001b[0m\u001b[0;34m(\u001b[0m\u001b[0msubstrCount\u001b[0m\u001b[0;34m(\u001b[0m\u001b[0mn\u001b[0m\u001b[0;34m,\u001b[0m \u001b[0ms\u001b[0m\u001b[0;34m)\u001b[0m\u001b[0;34m)\u001b[0m\u001b[0;34m\u001b[0m\u001b[0;34m\u001b[0m\u001b[0m\n\u001b[1;32m     28\u001b[0m \u001b[0;34m\u001b[0m\u001b[0m\n",
      "\u001b[0;31mValueError\u001b[0m: invalid literal for int() with base 10: 'dcocd'"
     ]
    }
   ],
   "source": [
    "def substrCount(n, s):\n",
    "    i = 0\n",
    "    res = 0\n",
    "    \n",
    "    while (i<n):\n",
    "        char = 1\n",
    "        while (i+1<n and s[i]==s[i+1]):\n",
    "            char +=1\n",
    "            i+=1\n",
    "        res += int(char*(char+1)/2)\n",
    "        i+=1\n",
    "        \n",
    "\n",
    "#     for i in range(1, n):\n",
    "#         char = 1\n",
    "#         while ((i+char<n) and # make sure pointer + char less than n\n",
    "#                (i-char>=0) and # make sure pointer + char more than or equal to 0\n",
    "#                (s[i]!=s[i+1]) and # make sure current value and next value is different\n",
    "#                (s[i-char]==s[i+char]) and # make sure the value to the left of pointer and right of the pointer are the same\n",
    "#                (s[i-1]==s[i-char])): # make sure the value to the left or right of the pointer is the same. meaning aabaa: first and second is also 'a'\n",
    "#             char+=1\n",
    "#         res += char-1 # we start with 1 as char, if just one value and we goes to the while loop, char will be 2, so we need to deduct by one\n",
    "    return res\n",
    "\n",
    "s = input()\n",
    "n = int(input())\n",
    "print(substrCount(n, s))\n",
    "\n"
   ]
  },
  {
   "cell_type": "code",
   "execution_count": 13,
   "metadata": {},
   "outputs": [
    {
     "name": "stdin",
     "output_type": "stream",
     "text": [
      " mnonopoo\n",
      " 8\n"
     ]
    },
    {
     "name": "stdout",
     "output_type": "stream",
     "text": [
      "6\n"
     ]
    }
   ],
   "source": [
    "def substrCount(n, s):\n",
    "    i = 0\n",
    "    res = 0\n",
    "    while (i<n):\n",
    "        char = 1\n",
    "        while (i+1<n and s[i]==s[i+1]):\n",
    "            i+=1\n",
    "            char+=1\n",
    "        res += int(char*(char+1)/2)  # number of combinations of letter in a string = n*(n+1)/2\n",
    "        i+=1\n",
    "\n",
    "    for i in range(1, n):\n",
    "        char = 1\n",
    "        while ((i+char<n) and # make sure pointer + char less than n\n",
    "               (i-char>=0) and # make sure pointer + char more than or equal to 0\n",
    "               (s[i]!=s[i+1]) and # make sure current value and next value is different\n",
    "               (s[i-char]==s[i+char]) and # make sure the value to the left of pointer and right of the pointer are the same\n",
    "               (s[i-1]==s[i-char])): # make sure the value to the left or right of the pointer is the same. meaning aabaa: first and second is also 'a'\n",
    "            char+=1\n",
    "        res += char-1 # we start with 1 as char, if just one value and we goes to the while loop, char will be 2, so we need to deduct by one\n",
    "    return res\n",
    "\n",
    "s = input()\n",
    "n = int(input())\n",
    "print(substrCount(n, s))"
   ]
  },
  {
   "cell_type": "code",
   "execution_count": 22,
   "metadata": {},
   "outputs": [
    {
     "name": "stdout",
     "output_type": "stream",
     "text": [
      "non\n",
      "ono\n",
      "opo\n"
     ]
    },
    {
     "data": {
      "text/plain": [
       "11"
      ]
     },
     "execution_count": 22,
     "metadata": {},
     "output_type": "execute_result"
    }
   ],
   "source": [
    "c=0\n",
    "for i in range(1,n):\n",
    "    if (i+1 <n) and (ss[i]!=ss[i+1]) and (ss[i-1]==ss[i+1]):\n",
    "        c+=1\n",
    "        if ss[i]==ss[i+1]:\n",
    "            c+=1\n",
    "        print(''.join([ss[i-1], ss[i], ss[i+1]]))\n",
    "        \n",
    "c+len(ss)\n",
    "       \n",
    "    \n",
    "    \n",
    "    \n",
    "    "
   ]
  },
  {
   "cell_type": "code",
   "execution_count": 13,
   "metadata": {},
   "outputs": [
    {
     "data": {
      "text/plain": [
       "35"
      ]
     },
     "execution_count": 13,
     "metadata": {},
     "output_type": "execute_result"
    }
   ],
   "source": [
    "ss ='mnonopoo'\n",
    "n = len(ss)\n",
    "c =0\n",
    "for i in range(1,n):\n",
    "    for j in range(n-i+1):\n",
    "        c+=1\n",
    "c\n",
    "        "
   ]
  },
  {
   "cell_type": "code",
   "execution_count": 13,
   "metadata": {},
   "outputs": [
    {
     "data": {
      "text/plain": [
       "20"
      ]
     },
     "execution_count": 13,
     "metadata": {},
     "output_type": "execute_result"
    }
   ],
   "source": [
    "st = 'aaaaaa'\n",
    "n = len(st)\n",
    "c = 0\n",
    "for i in range(1,n):\n",
    "    for j in range(n-i+1):\n",
    "        c+=1\n",
    "c\n",
    "\n",
    "\n",
    "        \n",
    "    "
   ]
  },
  {
   "cell_type": "code",
   "execution_count": 322,
   "metadata": {},
   "outputs": [
    {
     "name": "stdout",
     "output_type": "stream",
     "text": [
      "a\n",
      "a\n",
      "a\n",
      "a\n",
      "aa\n",
      "aa\n",
      "aa\n",
      "aaa\n",
      "aaa\n"
     ]
    }
   ],
   "source": [
    "for i in range(1,n):\n",
    "    for j in range(n-i+1):\n",
    "        print(s[j:j+i])\n"
   ]
  },
  {
   "cell_type": "code",
   "execution_count": 298,
   "metadata": {},
   "outputs": [
    {
     "data": {
      "text/plain": [
       "False"
      ]
     },
     "execution_count": 298,
     "metadata": {},
     "output_type": "execute_result"
    }
   ],
   "source": [
    "sub = 'nonop'\n",
    "sub[len(sub)//2+1:]==sub[0:len(sub)//2]"
   ]
  },
  {
   "cell_type": "code",
   "execution_count": 323,
   "metadata": {},
   "outputs": [
    {
     "data": {
      "text/plain": [
       "{'a': 3}"
      ]
     },
     "execution_count": 323,
     "metadata": {},
     "output_type": "execute_result"
    }
   ],
   "source": [
    "len(dict(Counter(sub))"
   ]
  },
  {
   "cell_type": "code",
   "execution_count": 2,
   "metadata": {},
   "outputs": [],
   "source": [
    "s = 'dkkcjjgibehdikdhebkkchijdhgheecbbjkbbdcejhkigdidgcbkhcifchjjigjfddkkefbhbcbciceigcifjhfbkfbbhfeekgdicfecefkgjbedcfgghhkfckdifjibkcibcihdikegdgkcijghehidkegjbihddccbjdhdbejjkdhdiekefgigcbihghhbfkbkbghceikbdcdeegbjffeefgefdkjbgdbbedbickgdkicgegfcdjejdcfiegcfihcfibcdjbebiciihjbiefgibkkgehhffddjgkcehgjgjhjegbjgdbehiicghkfedbfhbkjgdfecihjcjihbkbbedjdhbdikbchjechffcjfgcgfgfcjgjbjifggighhekfieeiihfkgjdcihhkkccccgeijdeifffdgefkchehedkcgjhbcfijdikdfcfkcbhieckbhkdhiifhdcjbbiefhdhjgddjgehjbdidjhkjihgdggejcbbbbkfdjeddjkhcdekcggdehkdhbkjjfikkbdffkbfedecgghhfkecihcbkigciffkkegigcfgcifigedbibhjjjcihdkdbedhhhehkhfjbdhfhdebbgkhkhkkgbggjbibghdjeekdjkbkbfkkdfdhejbdckbidjfffkcfjcffjchckfbfdijbibjddjkddhcbhedjbegbckbiigciddkhgcgijhheegjihdchdfbjbifgegdcgieddckebjgdikkjkehckhbcedbkbdfgjkbikhhdbgdckbkfjigjgfbjhgedeckdifdjifkihcdfbhjcdkgcbgehhhdghidjgkgjbdjjfhdbgfbbfbfkijhhbegdjjfhibfbigfghkhdkjbehgefccgeckgihdhgkdhcjikfgeicgbgcjgbbjcbfgijehjhdcbfceehceefficjikkcbeiecbkbdeiddkbekedekibkffjgckdfbcfkjgcbjfcgbifiedbdicbdbeegibjbddcjcgbdcgcbdgjeghcdiejjkkegfcejidkdhgekdfjfgfechdecehhdbfdcdjibchhehgfgkicgdbibkidkhcechekbgdddbbkckdijdjebdhghchbefhkefbefcjehgbcfbcdjiedebedegghjfcejkbeihhfifjbjhihjjfeefjhbhkbfjjjfjgchekbdekffbdebgfbfjekjfjhcikhgkfjdigffdgdieejeegcgcccicbbkbbcikhedbjigidbgeiddibkejkhbdfddegebkfdigbbbbfdjeecgfkcfcjfceffficjkbidbdchfbhdkgbbdiffhbhhdjbfiekfdjfdiefbeejgibihcgkefhkghgekccfgijhccbgcdjcjbkkddgjhefkhjjghijbjgedcijfcdbbkdecdcbkchijecgkhegcgdhcejckhhddgebjikcfdejfifdcjhechkkbkiifiiheggbekfkfegkfiicifgjikgkhbgdheiidhiejdecbgecejhbedfbehkihbckbbggggeiiciefkhhcjedjjjcdddggbhhdjhefcfihhfbfekcjeigkdckjihjibbjfebfiijfbegiiejdbdbccjieekgbkcegjddbijghkjggejbfeeghhkigckeeehgkfjkcbhdihifbchbgdhhhdecddigifchiidbecbeciibebfdbcdbbidhddjcikcdgifbfhibchifkcdcejkfeiddfejhcjbfbehbfgjicekbccbjfejecdkcejdhdjhkhghidehjefiiedcejjgjdbehifdcckdfddbcegfecgcekhidbedfidijcddjbfjkfjcjhjddebjhgjhhbhdbigdggikhggbhhhdegibkgdeeifiibicgffgdjjhefbeefbcbdckbkckbbieiecbbficdbjgbefjgbhcckcfcdedbhfcbibedidihfhkgcfieijcjhgikkcjchfgccdfdjdfdfkehkchjbidgdfjigedfjckikfbkdjkkbcehfgfbdegefidikfdfcgkfkkhjigfhgcffchfbffjdfhiecbjhbgfdghffbckkikkeehcjebejjkefdhjhkkgkiijhcchfebegfhbihgbghfbbfkdgeejgfffdkeeicjgjekhccicfcdheibikegikhhehfbgegidbhfkkibbjehiggjdbfgkgcehedcihkkkjdekicdjbceidgjdghiddbigdcggefbfkjihbhekicfkgccfdcekkkejcikchececfggkcdckhbhgdcjebckiiehkicjgcdehehecggihggicghjbgiidechkefcfgieiecgikbehjgfegkghekiffccfkbegegbbjbhicbkcjfcgkfihhfbbcgfjcgidkbgeeegggkjbfdegebjgjkebbbgiggjckceijbcgeijhgkhcjccbcjkfeecgcgibebgfkdgbjihhkcgcieckcdcgegiikkickiggfgiibibgbhdjckjbkidcfkgcdfjkgjhkkgegccejehkiihdkbihgihkeeegdkjejiiejkibfibejfccfjjcbhkchhibkbfecjgbhbgjfidjgikidkickfjbdihfieddhfhhigfedjekcehjgieecgjkfegeijhjfdgbbhejbdgibidhbdkggkfjdebideghifcchjhjbhghjkgckfeebkbeejibgibejbegccefffccffjcfcbjgbkkgbbgfggjcdjcffjefkkedgjbkdgijccfccijhdkbgeijeckbicfhgifcecjgghkdechbeckfdehbekdihfcbefibkekjjhihfibbghkgjjcgihihjbekhhgkdfghkbdhbicdggehkjekdffgkfjdgjjhgidgkbfbedbiehiheeffjfighhcfjgebjfjjheeigejfgdifgjghficbkjjigefkeibjidjikcigcjekdegekhkghfekjbfhbkfcdhdhdikghggijcfgbdeececiheieifbfigieccejdhbibkbckhbdehgbdegiejkjhcjjchhgbfikhggikdbidiiijbgjfjhkjhbijidiekdhddhiggeccgchgkiifkhkgjfddkedbbigkbkdccedchfjcgehjifihjbgkcgbjgbhbdgcgbkgdcfecedfeckeffhjkkedkjibegjdggkhdcdcbkegikhieidikihbgfdfifjgbgcgkigjhifbkcffkehffgffckdefjcdbibghkdibfgjcegcfcckhccbhbedejcddihkjbkhcfiiegifbfcjfjgekgjidfedfegdibckjkfggfffdecdfjfkcbghffbhbbddbdibckcjhdfkffefdegegfjfjcigkbecedikdfhcbkgbdhbhibcfedijcfjhbgffjhbjgkbehjbfghecdfikifdhbdhhfkekdhjfkbkbfibdkfhhjiffbjhkfedhhikbdchiibddkbhdiekkijekdchccfigfbjibcjeifbcjgfdkiedjbeffdbdebcjeeggfbihiefhjgjekibfhcddkkdgegfigjcdikfeedjfefciihkjkkkedefbfcbebkdjkgdjekgkckeefghhhejecfghjhgeedciidkiedbedheijbkkiedijfccgfcfiejeifjgedddbcejkcidkkdfeijejdijfbefcbjgeidibidbhehjcfjhgcbdkdikbgjddddfhkbfegebiegcdgicgcekghebdicjcijbcfbckjedijfjjhcccjhehifefkbdbieiegeggifchddbkdgfjdkibhkgdfkhgdkefjcedkbjdjfhkfheffeccfiiggckdbdhccfffkhdechhiekjhbgjgicbgdebifdijiekkkcfccefbkdegkhfdbcgjbeekggfkhbijjgckggjcfhdikhkjjfjbfjjdhddjbehdijjifhjhgeiekcdiceecijgjbbbcdighbjbiibhfcedjedifbfcchbjdcgbkcicigdidfkkkhgjedggccfgbecjgigdbhcdjebfhgbhegicbhkedhkkifdjfbhiekgfjefbjccbidecfecbidigebkhfkgkhdihcgijeighkbbbikgdigbfhbekcegeckkjjdebjchfbbhceehcgjhkckdbbhgibcehhekjfbfgjgfjcbgdddehgdifebcgceihhjdkkkbcfghbdfegcfifficgfgcgghidifkcbkckddjcjijedcidefkbbcjcbhkcfbibjkhjkfdeckjibehddggggdffjjdikcejbbhhhfjjgjbhgihkhdkbdebgjgdjfebfikccckkkeghhbefidfigidibdkfgifbbjfichdjefebikdgdjkijjkccgjbcdckhhihcekfgbgejfjgiddkfffijgkdifdcggdfccjkbecgjbfbfkifbgkekdehidhbdgffjcbikccdijicbhficchdgcedhbjejgjddbbhiekefekdchbgfghjbfdccfideeckcfdghjfkfcehbbcbkckdfckgcfgebidicdiedbgekcbdjdfgcjjgdjhkkfkdicgefcihkfccjgccidbekehjckiihhjkcffjfcichhdeehifjdghdkickdidihfbfdifgdkjbeficbigkhhjgfdggcedfihdfgdeikgccbkjjbebbfifhfbckgecbjedbegkhijjbdjgfifdcdbhdkefgihfcedgdbbebkcfiiffkjdbcbdkhfcbhhckhdkjdfgeegghfjebkchegkhegeegbbigghfcjcbhbfdkdifchbjjdcfjjfdcjebbbbjjhjgiechhhhdjbfbgkkjcffdhekigkiehijckdgfhbhbfhckfcfcifghdjbfccedfdjfffeicbgijfhbkcijfjdjbcijgefifcfecijjjddficbdkifkffdhffggegiijkigdggbjfkjgdjbkbkdfikhciejeffbjfbcegjjjdchgdhkckhbecekcfjcdcciekckkdfihdbehjhdhcekfjheejidhghieehcdgeicbedigjfhkbhcdggijhdgeeegiidecgkhgkbkbfigkjbjdfcdjjbhhdckiegiihiejefbfikfeejeiifgiehkgecgfjdijdgjhjjekbdihcgfgejjhiefjibeiikbbbihbhkkdhcjcchkccdhddfghhgjhhbhcifkjceddcfeejchbfdhbigkfjhjbffcffffjecegekhhijcihekfiibggkfcbkbfgfiffbfhgjjkhfcgbbbhkjickddhciibidbfgickghhjfhjikkjbigbfdjjjhdjhfehigghdjddkcidcikfkkfjegdkfeedjdidhhhciifcijcjddgbifcefkdcjjjbkciejkichcdhdbigbfhfbjdjhcgibdkfcgiefhdgcffehhdhcjjdefiehjcdfcekigjcebdeifhfkeecdfjgecebdbfbbibeihdbgeeffggkgfjfgecfihikiieefkficdicgehjigcicdkiigfjjkdddejjidfidbjhhikigikkgigfdiffhbjbibeejfcgjhkhhfkbcgdjddeihgkhfkjceghkbebehchfbfieikjeiijcikbcjgbekfcegdejffkbdgckefkkgkcdhhcdeigfedbdggfcbhefeihgchkdfcbhhchkdfidgchkekjfdichhjfhfjghejeikcgegejeichkcikegdfkcieeccjgfhcjhfceiddhfjfkijckieihdddeibkbjkigdckefibjfbifbhikbkieiddfghjghbeikbbcjbbebhechebfkjfihbbjchhgdjicecicdkhjdhihekcdidchdjeiddccfgckdkcgcdifcbbkjeiekfjifjhfkigdifjiihbcihdejddhgejiebcddcbcjbcgeffekfbgggdkgjkdikgdfeggikckckccfgjggfecbfigfhcjbejcceedffgkggccejjicifjdbfbhkbieejhddcebghbghikehbkkikjedibeijddcibedbjbkhekkbcjjfidkggkgkkibeigjifjebjgbibggcjdgiidkcijbcfkdgfeickiiikjbbejjhibkfhjhhkkdhechkcdbckcdjbbiicbekdbjkgcidgiegfjceijeikckgieidiiddifcbfjfegfkeibidcgkchhckhfckicgjdihihjhiideeehejkeccccibkbchcbjdkfihjhjjfcfjifefehigjkihhkhfdjfddjhfhccbkkikbdhgehdejfkjbkcbecbbkfbgegbidgefhgifkjfjfjkedijcdkkddbfibdfkhfddjffdjffebebecgbigbkgddjhkjgdijfhifbekeeikbcjdieejekfcdhekchfkbgbdbdfkbkddigccbehjdbiejfhcbcjkghggbccbjibgkddfihifjkgdfifbbkfjhbihikfckigidiccgcbejjdhbjgbfddefbieeccbegcdkkbhbjkifdcjgeiifjkkhchekdjchjhidhfdfgfbiebidbeecdkkhedhekjgcdjjjhkcjfdegegccfijeefidhbhhfekgkbecibffekjbfgggdegeigbihfckdgbjkbcehjbckdkhcebkdejbfhiidgkbhejcdfcijbcgdicdhjicejfdcehckkcckchkejbdgjijkhgihdiiijdhegigfhegebkigiihkiijjicbcbhbhedhekehghhjbhbkfhgchidhjijdkfkbkkhkdbcjgbiebjbjhkgkbjcecidgfkicjjbicdjhfdhkjkhbeddkffhfgdehhbiejjjcgfjfcihfbigegdgbiiekefjfeidekjdefcikefdgjcjibhjfkdfjhibhbbjfjhkjfjehhjdghibcfgfgghffjfdihkhdkefbjibgijbbieicbfikifjfjiiidejekihjkfihbfbgckbjhbfbgfegffcdeefcjcggfeiibgeibbckgeibdcjejhcbkccckcbgchcgfbebkgekkjdehdgceggidhideeddjgbbbkhjfdgegkibbdbhgghibjfbcdkdfhicfjcgjkcckjecjfgdkikbhfcbfkfckhkhhckkhbibeeeikdcbhegddkghkiegfibdjgeghkgfecbgehejedihckckhccjgheeehedjdejhhhgbdddhdfcgceeejifbbckffdhgghkekcfiibgegjcjdbhbcgiebfkihhfbiggekfhchcdcghcdjgkdkgkgdickjgcgbeedhgjcdddfbeheddkegdckciicebjgiihfckkdgifekdkgighigbkdiccgbkgkiihfecdcfehdefikkfbbgkiceegdjdddbdbcdfdigkcdkhcjcdcbgbgeebbfekkibjfcgeggedbbeceihbkjcdcdfbihgkgdgceefdhbbbhkjkfihgifckedcifkgebibcfgdijibbdeihkebhbdbdhdibjgehgjjdddhiidbjkdbfjkekkgjhhbjgichffkkkghicekbgiecehgdjfjkdiigbfccfcfdccjedeigeidjekjkgfjdhkcbccjkkcgibgecijiegfjjchejgikbcjhbghjdciegejdihiebcdkgcikgecdidefefbhebgjbfbciihfjkjgehfgcjfibeikkeihgbhcfikgkfkegcdkdekhdebkhkdhghikbhddfgeidgfcffhfgkhggdbkkedgfdbfdchgkiihddgcdjbhidgjijhcedbhceekdeggihhhjghccdhfbekfkhgbjikebkgghjiiffjgihbfcegdekjggeihdhfdbekfbdhhhfjfhffbfjddejdjckbbgjbhibeijhijcbfgicihhfckkdkeibhkbkkcieefgbbfigddejkbkidkfhgjkbbegfhghfjhiiikcddkigkhhbefdfhdbbghhdikbhbhgbbhjicefhgbhdgjhfkbdbdbikeedcbcidbkjjdkdbidbbgkdhdgiicbgebddfchhfidghidbjbfjegibbjgfchigjkdieigbefcibhbchbgefgjfbjhfedfjcgjhifkbffgggkbcfjbbjkkjdkhbfjcbkjckhehcejgfchghjhkggjfeicfkihkbfedbfbhehegbhcgkfcjecihegbkjebfhidhjkjbcgikhfidfijijifjcchbkbkbkjehikbkefcifcdefdbficbhcigbbiehkfjfcbhgbffjjfejibidchffdefcjicgdcdidigjifjbdgehjcfehhghehgkkfkhigcggbcjjjcfbidfghdcchidkhefkecbkggkfbechjichibefjfjihkdkkjcfkddiiijcebfjbdkgkeffdgibfhbcigehcgjihhbkhicifegkdjfkdcekddebihejddbbgfihgibhdicejdjdjhhhicfggedkdejdgbkfkhbkfbejdifbdieichkjjhdgcjedbhiijfjcfecjhfhdbhihbhfgfggbjekkdkghhbjbjickfieickfgjkedibhgjjkfkbcfgedhdkheffkjgkhghkcfcighdfkkccihhkekbkkikccbgkekbbhbjihjdkkfjkjbbhfgdbjbebkcbdbidkbjbccibfhicfgekfjdcjdkcijddjfckfigdfkhckkgehfkfgfbhfecgfkkifihcchkjhgkdfkdeegfceijkdefjibchefkhheceegkikkigjcidkdegdckdcgjbkdgiddkggfgdibbcegbkhhfbhhcjfbcjhhbbgkekdkfbkefgcfghhgkghgjgijdciicdbbhjcbgehckdfcekjijffjhjbjbcfedgehgfkbdkccfdfedgeebkiebbfjeieekkibbkkddjbeikcfgichdiheiiidbhhfjcgbigecgjkkchfchfkbikijdcfibfebbbhedbgffbjcdkiejghgfidkhffjjijffckjhjkkdghkddkdedfbcgkjfkfhfcdjbieckedhejkkkdfhjijhihgcgjdjddiikikfjcckkgdikikcgkcebgbgkgdkdfhhehbjcjhkdjcffgfhfkeekgbjdeddfgccejiggjgkkichdkkcdhgiidfhfkffdjcfbkbhdfbkkhfgbbbcefjjhbhbffiebdigdekdgidffjdjiijdkhdfiidghfhkhheibiijegfddikdbfdkgkjfdhgcfifkdfjkceecbehkbiibdejikfkbgggcfjhgdeffjkejfchehejdhdfjghggjegckcfdefejjhckgehgebhekcbegdhegkgfgdfkcijeekkbkccfjecgiggbfkjdcfhkhbibckeiigkhgeekkjiccjigeciejidkhjebeigjebjgekcfccchkkbcejejhgdibfihegigejdcbjhkkkhikkffejdjfbchfjkfhfgeecgigfgckhjdbfkihdfhhbhidcikgecdfdbkbjgbfgjdfgjekiekjgkdgchdeghhhgkibfghkhiiibcfgcdieckfbhkiegjcjccfiideidbjcieefcijcdiekkchckbbbjibebhkbdbfhijiidfgbhghifcedhfgekffcfjdefbjfbdkchhfigdfgdgckiikfckddjfbjgjkhchkhbkcjbcebkefheedkdchkfdbcdibjhgckhekgkkfhjcedhjbihhdfhfkccfekdjicjehkidikiigegfegjgbcfhihhchdecdkkkgbiiieebeebgbgejggekgfcghbgkgfjgbgjkfhdjjjbhgkddibdgijfhfkdfjjkhbhibcggcikejkedghckjgibehdifjidjkcfdfhebhchkchffbdjbbfgbgdejhcbcjedfedfigckifkkkhbhihdffhicfkeijeggjjecefhibfdegfbgeiijjhhcebfhjifdhghggddkdeciddgbdkkddhbdhdfjcgfkehbhidbbjkdjdbdcjcbjcdkgfkbfjdjjgfiehchhgkcfgdjjcdfcfkhihjcibfgjbigihdjdkegkeficdgeeebeidgbkjdehcfcjgfhgicfcedbihcddihghhbgiccfigebkgggkihcghhkkhfedficijdcbhgfcibgkheiffkffhedkifkhgbgkkbhfjgifcdhgggggkcgidbcikibkjgededffgkhkhgkjhjbihegfjhikhfbgefjkegfihkbcidfcdhffhbegbjfcdbieffjkcjekeghjkcgdikechcbkjgfejjgckgjbgefkgbgfjieekkdccjefjgjfhjkgcjieeghgccddibkcjjbdkikfjgjbdgebhcihhcgffdkhkcfekccdebibceegecigdebcgigjecjfeggjdfjiekbiieehfhhichgkcbdfijdcfbibhcjhjjidgkcbhcfeceehifbbcjbdekcigiejhbihfbkkbhfjdcdbdffkekfhedcgkbejegfdhjgikehfdekhdfebjkgefjjkhggcdejkhgcdehighgchkbkckhkkedeiihbjhfgjcefkgcfibdjkhicfjkkebbjghfcjcejjeiddjddfjkfkdihgidhfjedkbbdcbhgkdkjcbjdbhkchedfikejbkkddedejkfefhcikhiegjeihbicfhfebeebgdkcbfcbkbcgkfeiebkfedegcijgidbifhifhibdjidifcjhhggihibiidjgkicgibkibbikibhkfgggefgigfijckehgbbfkebcgcifheiehggggikfjiibkfbfhdicddghbecbegdjekfdjbdhbhfdhdgehfjgbjbhjhekggecbfbjhciecfeegkkgkkbebkhijjhejbcdkkkjfijbiihefijgigbcfgijbkgdebjfkfggbbiicdgcgjdifkhjejcghjegbdciiegbkbbfjbihgedjkfhjfgbecgdcbcgfcdfjjiffjcedjigddeddgefhdiigfefghbehgegbfhfbiejhihgbiffcgcjckiddkbhdfhbeiijegjhekjddgigkiibddfhdjfebdijfgbehkfjccbggeijbhhcjjgcjkdhkkkibkhefiecgdhfgjhedgibcecccihebjdjikfbdgjhibbgbcdghdbkibjeideedhefcekhgecghhbejkhkjcdecjghiekhcfdkhebjbdejijfihbdgkgjcegckdecdhdkifciefgkebgfbgbjckbbgefdfcedgifiifbjjichiecbhiekjjcikbbdbgidgficeiggckijggkegcgekfhkhbdeigedigfgkfibdjbgkiikbjhgdhfjegcdejbfgejejbjhcidieckbjgkccfdebfkbjiejjjgbchehcbeecgcjdggfeeifhkheddhkjkheejgjibdgbkeijfchfdigidhfegggddfcfffbcjbbfbfgdiccbdhbeffdijcdiiejckddjcegekbidefjgibcdieecgfhddcicehdchffdfhhdijciefkbfefgkheehbbbebcjefgdcddjicikhckckdkkkebiiibkbfhdgfkdbjdiidgbgdejkdicdijjjhgckfkkhbjiefidjggcidfhjkgciedfjfegcihfjkbhbkhgfbiidgdjidjfhfkbkbhdgdkgghfihkgcfeiehekbbeibicchbffbicbdeghhciefcedecghjjcejkfgcchccfdgicjfekcbfbhdfeiicikbghjkbcgjchjiffifigeciedbejiigjfbfgikcifgbdhbebfegdkhkhhfbjeeceifjfbiibhdiibghjjbddjdcigdbeegjjgfcfffikfhjiikggebchdeehdicbiecgfhjiecehbjkjfjdcechfccgkbdkgefeigdfckkbfcfbdhebhbdiicijhfefkgjfejgbkkjddhbdeibkfkjkbiebeidfhigkjhefgjbccicjdbhejdbgbkbhifiificcbhbhbeicfefegkcecbfgegjggbiihggdfcbjgjdgdjdcdkbiffefikkdhddhgffkhkgkhckbfdbiibceijbbbchbfhbkhihkeeihgbbjddiiihgdbbdfbgiigebbdbjcgibdjbdeebgfbebgibbgkgjdciecffjhcecekccejdgkkibhbbhggkciikefdeeehkifjfhdbjhijhgiddjbggfjeiiibgkdichkcidjicjbkgecjbifiibjbdcbhhgjcijgbkfkdbkdbhdfffedcdkiikhcdjidgjgkjkfcbgkjchkeehjgfjhdgbdbiciiibdkbhhbicgkgehghkfdefkhbbjkeceidjhefieebcegfiecikccfdcjggicgefbibcciihdieddhfchkegieeccgcikhcbhghiekjjghegffdgghebcjjdhigfbibbdjjijbcififeihjhejjffibggbgfefbjbbhiifjdddbgbchkgkchihfgibfddjedkfheejeieejfgcdgfefcbkhkgkbcbfkedjfigefcijbbbhkgkjgidgeejhbdfhjghbidebekjdekhidgfehedbedgkeihcikgbdekdffdgkjejdbdjjhiccgidkfibfedfbecddiickbkdbcjgjjbceedgfefgfbhihkejddbefgghehekgkdjdikibebhdkkgfbjhdeeddkhegjgggdfggcgiekgbjehidkibkfbjdhkkhhdficbgffcgcjckjhhbkdikbigbjgbjiieibgceiddfjjgbbkdggjfgkhhhiiefibgigbkekciddkhcffgddbfjdcbcehkijcidefkjeeieckdbiebdecijghkfdbggdjkijfikeijhcidbbhfeibkffdbegcijihjbffbicjkibihecfbbdebeddikdhckffjdjjifhgjjhigdikebfccdcfjhdfkdbbbiieibibhbfcifhkgbgbbgdfheebdkgkhikfkfbgdejcjidjibbficdfgciehghddebddkeihgdddeicfkcfkdjdbihihfhkebifkcbejbgecbhhcbbdbcdbiehcbdhbjekiccfekjkgjeikgffefbgjcdbfghfckkdgkbjijfbidkdjifgjbdfhgkdkfgegejjdhejfbeekfhcihebigdbecggjcbdeckgdhdccdecebbhdhgbijdfhjfcfcffjiedgddicihifcjbgbcjkjekbhdfbifehdcdhjejgicbkicgcigeegcedgefggjedhefbibhghifkckgeghbfjgefbbfjbdcghebggfbhfdbjfeekdgfcjbgbcggfdhhhfkgcigbckdgdeddkjhecedbhjgddiejhhjkbihgchhicfikbddebfdgdgcfhbijdfjjgfbdjgkebdhicdhcjhekifgeefhgkjbejcjijjjckcghgfijhgfjgkbejcbjdggghjidfkeikgifebfhjdgccggdhbbjhhkhekkcbdijfcdjebicgkdcbbkkebikidhbihceijccffkcfgbfdjdcchecikjfbihjkckgghfcdkecffbhkkcjheijdcekfjccbccgbikhkkcgjejicbcfjiegkcfbgihbgehegcikhgfkbdghfdfikkdhfeijdicbkkikfjkdkbhdciiikhkcfdkkcifggfhfcijjdckjebddhekgidcgdfihbdjfehjkdjihbggjfgedicfeekdhbbcejjkbcdcffjkjfdekgggdekikgdigdcjedibggbjfcbkikfkbdcdgjdjdkjfeifcebcgedcijecdciddbbfbigfddgdfkkibjkhgiikhhdgfefkdjihebcfhhcifebidjgkdhbehjbebcgfjbkjeikjkbbbebiicgkjkbhbejkjdddeebkhceihdekchdjfcebdcgekehfjkkdcbbhhhddfjjdbceffbhjcehjgdbddjfhfbhhhjgdehdehffdicjiihdcidhdcfjjciihibiiikkhecijhkkcbhchjcgbkekebhdedigchejhbhjbfcgcbijfdbgcdkhdjgekejbjgdebjddfickfdfeefghbbjcddgkkbgcjijbkccfheccdjfhfckhdkbjigijchiihkidfcffjgbeijfiddichgebebedfiebdeifdgffgkgcdjgkegehbiiijgcfgkdcbekefefcbhibghebicjdchgebddfgeikcheiidcejegbfjcbefkekidjcdfcfcgdjcjkjfididghbhidjhbeijbekgdcjhjggijdjbgbdhfdfbkjgfckgijffgbhihbjfdbbggjhjdedkedbehfedihhhhedbicjkiiebgkgjkgjffekbjdedjbfbjhiccjegkhciddefbkgcfcbdgicgfigfhkjhkkfhfkdgkcjigfjdbfjgcgeggejdkechkgfgjhebfbfgekgghbbcfkkifgfihgiiejcbegkkekbdgidcedeibjfiejekijbidfhicgeibcgfjffchghhefhcjckcffdbcecgfjgeekjkfejdjcfbdbkifkddeidkchjihdghfjifijcchjhfjcbijkiiehhgdhjdhgcgbgdddgdkkfgkhidgdgcfgedkbciceibgckhhjgkidikbcbeggeghjgdcgiijieiidhgfjihgggcbbicigkigcfhkihhgjhhihfiefdkdiefhfhghgbbfhekeijjgicgbgdejbdhjkfhgeifhkdiedbdcijbhbkhjjhidjckdjkkfebegjbbeidfceejhgfgdgdbdjeegffdkkhhfcbiigkhhhbekdidfgkjibbfjhgfeicbkjhefkdcgfiejkhihhjefjfeecfbhbicbjkebgigfhfekjbbcediigbihibkieghckgbicdjdjkdjkijdhbcdedjbkhkecjkgfhfhegibikkcdbbkcbidkcdjkbdejbfehejiiddjgjdbejhckfibkbckejebjcdbfhhfkkfjgkgejikhefbfkkdgdfkgbkbdgkhbbhjefcbfbfedciigegkdkgbekcghkhkdegghihkcdcjgciejgkkghcekhjhefccghdbbiiefhbfhckijhcjgibidfhkijgekjhckgbbdcbeggfjbjhjehgkcdhjkffcbffckbekfifjigfjfiejieedcbecedhdkkciegfkgcbckcbgeidjkcjckebfhhbgbedcchefggiebbbgigfhfhejefhdhbijjjcdjfecicfkiffhdjecgdjkfhjhgfccfckejbeejcjdcheehcgkkdgcdhdkkehbkfedkhkcdkdbdbbkjicijhikdkijebgfikddhgkcjhjbehbjjhhkiffgckfdgibhkdfkcgdegjdgeiedfjffgfkfkbikhbcbjidkfiiedhgdeebkhejejdciijffecehgifdjdckkbffbfkbdgehdhgbbchdhihhcjghkfbghefkeihhfcjehdijbbkeeijechijfiicjbegbfkiigdcdgichgcikkfeihdefbbebbbjjfbhkkdbhfekbhfheiicefdicibfiehkheiihicedjceidegbcefhcfihgkfkiceegbdgfjkbbkcjjihgjkegjjjcgeigkjfbbcfhicikgdhjkchjhiidbcfiijdiegbgjchjkkgdbkbfdcfbdicfjcdkcceedkdgeeddjjkdegjghgfegcjkefggkcjcebkicefkdighghebkbhkckbgbijfifiejjhdhjhdbifkfedckbbibiijbebkgekdkkkecgjhjegbggbhigiggbdhejcfkckcjdddighcgikhfjgfkjcgfchkkeebeggkfejkfddjkdjjbhfffebbbghbfdcikjhdkfeihebekcdjhggefffbbfikifcedjjcbbkeceekjgibeggkgbicebhfhjjkeedjggheeijgbjfhejjjgcjfbeegjjbfhjjbfhdbfibifjecbjecdgcjdddifccfhhjejbkgijcgikfccjbccfbickfhcficckijgkddiicegkjbcedbfgffdbhejgidcggieehbdeegdchgecdeibjgbfgdjihdbedbhihkfdjfjiihghdgfidgkgdhhkghdkciebcdbhhehcbdehfbiigedhgfifcjfdjhcjcfhdjbccbhifidjekjhjehccgciihjihhkfigfbedcefidhchehhjkegeddbjgejcfcbfhfeecbhgfifkhdeiihgcekdikdjijgidhbbdhedhgbjjbfdkjdbgeddghkkjccfcfchigfdggjificgbeciciidgfdikgjcjjbfbjjejikbjcjicjeebeihfkjgkhiidiegfkefkcdejhkjcjbegedbdgfbekckcicjeifggfbcdfbhidfigkbeihdddjegcbkibihfhiedfbedfdeiekjbdhkkccjjeicegfgchdheffgfdkidejdiffefdjfkehbgibckcfjkbcgdheeckjjihdccebecicfckechkehiffkihdikibggdiceibeefcjgkdbeggiifcjiicikdjgiffifgkgjjjkgjcgjfhfbjbhgghjcccdjkkekiddfikcfchddggbjbhgcfjkdicbhfkbkjedibeeebfjkfgccbhfikigcdkhkehcedifcbcebehfgfkfgggjckihdgkhdijbfgbjdkbeeehigkbibbgjckcegkdbhfhgjkjifjecikbhfgbbcihcdjbifjhjfhkbgfbijiddikjjhegejhiejbjicegficjhjcbkccgifdhkkbjdcicchkhdgdbeiidfgddeifdgcbedeibihejjeiehiecdfhdfbejggjekihdbhhdhiegjbffbddghdckbibdijdcicdbiibefejhekjikhgiddebjicfjgjggcchfkghgdekehdeffhgghhcbcciedbbgbjicfbkegeefcbhifchcjjbkjdjigcddbfdbhckfieheckfjigbbkibefbbiegjegfjkbddghkcgehjiciicekdkikggiefkedhffcgbkgbgfhehgfdgcdhgjbkiecbgcfehgieiihdkgdgejhkbcijdfbcjbjefjhgechgdcfkdfihdfcihdbkgejdckibjjffdcjcfcfjddigbjbkgcgibiicegjfcgcdcdjcgeegbffgfhijdichckifckieiefddehichgjgkdeikjijjbkidcgdiicjkkjehidhihffgejjckjbgfekckkiehfifccfchcijhdegdefkjibcgikhjggbfjiibbchjibkkcjbcgbgbfdbkgjbgdejgdhdcjffkckkeigfhbefiffddjdchkekdgcbbhkdbgdbjiiicehhibbibecjgfcefdjjcfkfbjhgfbdegchdjidjfbjjejfihkdkbfjcefcgbhjfdefjbfkeckgbfdckekcjdkbhkhhicikkbedefgfjegecekedkkddhhkcdjbcbbifgjdcegkjfeebihjedjbdbbfdfeiidbghgkdjgffcfikjbeibghfjgefhjfghkfghckjcbbehkehjcgkkjdffbbcjdcghgijhkgdiidkgkfdbbkediggjhgdcdkkcfbcfhkhdfkdidjiegjbhgdgchjcjfkfebhfdbgiijbdbigegkceibicdghicghhejgdhcdffgdcgbddhjgigcfejhjigkgdefcicdkchdkbcgcggcehfhhkhjijbeheeicbigifgicchcfidffdfbibbfcgcdjdffikfbdeihddibdebebdddkikgegchejhcgkficjbifhbkkifhdfbfgkfjkkhgbgckfckgkdhijhfhhhkkfgffghkjbdibgffcdcfciehggjebgkbgbeiijciccbcdcfeihhieehjbbgkbdkjkjejiegbkfchdfgggehkekkikighfkifbbigcbjhhibjfgdbhijgfidjfdefgchdigjeecdfcibffhbkjgkckejicbdiidigcgeejdffdggfjecebfiiehfficebgggiikfbkhhefkhjejeebgkgidkfhggggkjcchkcbjfebdfffedkjbdeikbcikdfjebecjfdgcbjkdcdjdjikjhfhcgjjcbjbjhfdjhgcjeegkbbbidgikjdkjiihbibjeihcccdefhdfefgijhfhjgfgfjgfjigjeecjhkddcfckjjcdehjkjfihcidgcghkegijbbieifiihchbffihdhkdffdbihbgkkgkhegjbjekbbfdbbibcbcddgdjggfdhhgbiiihfhkbkijbgggdkbbkhebfkhcgchehhffdhkkedckdiiikggfjccejhkdkjkiddihkcebfhbkdceiecbkebgbdkdfbbkbffejhfdkifdhjjjibcdcdgkjeifgbgejdcfhbhgdihicdeihjifihgbhfdfkfkbkcfjdghbfejifhbfdkhgeddbkgfkjjiigjcdddefefbefikjbjhkhegegkkjiehiikbhiifdiejdidbbfdgjdhfjhdicefbkbkejbkeikikbcijjjcdeeichecdjbgjkgkcdfgjggcigibhbgehhbkgfeeedfcebfhbgfkkkfdfbhjdekihdbfhehhcdfkegcgkdjdiijhikkkjffjkeijbhcgbcedhfckgiekhhdifcjcckkheibeckkjhceefhdkbfcekkicikhfefigdejbgcfgjbhgddgkihfdjeekcjbibkicbfhffddkdhibghffcdgghcgdkkbjhbbkjjecbfejkkckhkdfkecidcgijghiehegbhjdkbedbcbjbfkffjjbbcgckebhdbjfcbbbbjdcfegbkhgifbgjbfihkgfbcehgkcegfhcbdfdkfdhbdgfchihjddjdkbbffdjbchjgdibedgjdiicgbhfdhfkikkifgchgbhdiikkbjiggecgceifckjjbfjjhccfdjjficdgjgdidgedgiikijfgiffjdikfkgkefkjfhjfbkkfcbccfkbdkefdbibideffdefkhhfbgkdcgkdjfejdgicbdegfdiebdhcegeebfhbibeghcebibgefjdkhjcfceghdgkfjdcikdkkiehjkbdcdeikddefhjijkfcccfgbgjkekcbhifgkffkfdgdfgcdkeedjhdjbeijfibebeffcddkcjecebhkggfikkddckdcbdhddekhfeiijcbhfccgcgffijddgdichcicjcdfkckikbbhhgjekiijejcekhjcfedhjkgcdbfkhdcgkhbfdikcbjgkkkiehdkichifebkjcfhebcdekheghegeigkhjgdiifhkkkeidkbbdhfdjicjicidebkjjejjjebkkidckebekjeidkghffggfgejcijjebjbhihjbgkjkgikdcdjdcigbdhikdbjbhbkhbbgjcckfgikchibgdgcbecbhjihhiihdhijdgibcbccdhdgdhbihgjccfjbkkgibggeghefjdhekbcdjfjfdidfdbedcfkjifgdbihdkdjkdkidgjbjcbebhgficehdkccjddhfcjdbkdcdhbkkbjbchigibgcgijkgdbbkcfihkgikhkhiifejhjcikihgbcbchkfihkbfhigfdcgjdbifkfibckjjcbdcffbbjhgiciffdehdfidkegkkifjiiffgkchbkcjbkffbckjkkjecghkkdhijgbhigekcjeeicecfbdjcdjbedeekhefgccgihfdikbjchechcigkfdjfgghhefedhdkbgkecfbefibcbffkjggbfghejfjifjhcjceccgjicbkjijgdgbeedckdkdhjgeekfjdjgkhicehghhjbeicdedbhkkgbibikkbcejfjfbbjkifbeefeedhkjhiedfbehcgbdeigebffcfkhfckigdhgdgdfdkhfgigkdbedfdbjdjkggcjgkgfjibgjibcgbjefjhfcdhbedcchkbkggbkdedjdgcfbgjhgihghieeehkhbekhiibdgbhdjfhibdfjifijeghkhbcgijdbgkgbgejjeihdjifghbfhebkfdbjgfciidcfijeifibibjjgejhhgkjhckbfjkekhdkfhfgchjbfjigfffhhgdgcgcckdgjkgjchekkihhhcibekbgbbbcdikfgfefgcgfdekhikccighkggkijdkbjfifdhhgchbfhjhfjkjjigjfgghcfjebeckehdecgceegdjhdehkbidbgijfjfhbkebefdibjeedfkgdhfcfdbbjffbcfcjcckjecdbeibefdgdeibjjdebcigggchhbhgbefhjihkbbiibidhkickhcihbgdjjfijchbkddedddebcebkdfdjcjfcdbjhdgecgkidhhheedddfbihebddeikhhkdhddcfjhdicgdbcfhddiedkfjjdbfibggcdjcbbdbcibgfghkfhdghgddgbhcbfdfdjcdbgceghdfhbifkkicffekddgjckcfdffjegidkiccbiifibbjejjhjdfiggijeffbdgghcfdjeijdhigjfeijjhdfibihhjgbgbhgfedfkgiicgcfdejkiddhkbhcgbkfcfkkjcggggiehghbkegjjcdcekehfkjfjcfeefdhkdikfbghegedekgbhjdhfdihjhcdfckigfjkkkfjciihkgidhhdeckbiffhcijiicbkhcfdhfebbdchfekicddhgbfbcfbhckjfkifkbhiecjckgbikjjddicgghkgikjcfggcdigkkkceecbbbghkhhghgjgfccccghkbgkicgkkckhiheekjjjkkkkcdbjecjbcefckeibkdbhhdfjhbiehcgdbcckhkfehdighfigbkicdjkcedghdbkgkjeghkjdckgffgiccbdffihhgdckfejkfkkgiiiihkbcgkbgkdbbdbgdbddkdkfgdkjhhkgehicgjgheegbdgkhgfcedkffihikgbhkffkbchcfhgdjdfhkcbeebkkhehfbjcchkbjgheffdbdkigdcjdkgiiidkecbegjbgcdkbfchdbhgjhgegkfgkhfcbibbfcidjbfbckghgbijccgddkikcddegffcbgjbikgjeiidfikjdhjbkjidgfigbkdjjgfjdcjfcedfbjccgcikcbdbgdhhgdkefkkegjkijhcfdbekdfjebebfehkjekdffcjikeffdhibkjejjfjjeiekfhkkdhdgbcghhkfihfgbkdcfedkgcjgfidfdfejbifkbjgdkickcccjgjgfbdiekefikjjgbghcjbdiichgdgcbfjkggbjegbgihebbdcfcdkkhkbjhgdjcddiffghibcjhebdedbfcjkkbbcdgeegkhddciffkfbfjfdjjhjgdbbhgkcbkkggfejiejcjgkjdciegifidbghbbedhfecidfdffjkbhcdkifedebibchggfhghfibkehhehfdhhcfbkfegcejcgfhefhgiggkbhhdijfgkeffikgcbhfbkgdeichcbgbecdfkjgkfhccibcjgdigcdckikcecbejjefdfjbdjhdgcgcbedhhefidhicefdedkfkkhgdkcfgbkhhhcekieejigceffkfgiijbhkcecgbdfgdckkfbdkchgdjiheifdheikhjekbgiedjbkhkjdifdkfbkkhbcgfgfkeegcikcddbgcfgbdechdedijchdcekejbfjjekkdccickhkbfbighihjcekcdchbedfdekhgikdhjjifhjckejcjjdedcgcgfjefhbeibfhgegcfehjfbgibjfififiebjddhcgjihjkicdbibgfjibbfjefdkbijfihhihibggedggjhdgbbbcddgbbfbdhkhfbbdbgifdkhgccfckjbfijfejiigbdjekjifkcchcgebcikekidckbejeceifehbdhdgcfeggchijhigbfffejchffgikegbjeeefggifjcjijfcfdhfdibhbceggkieehififbjciiidcihbdjhifeedhdfdbcjikfbigggbkhgjeiibcffkcjefjhidcccfegbjbgeiiifjjcbfjhcbddcbjcfidhfdkbbiidhkhdggceccjikjdjghhjccdihdggedhjfffdijjkcihhcefbijhkfkdhgfhicfijdceehjkcgegfgiejbcggbfjidjieefbbdhfhfheifbegkbciedgibckkkdeiffijgfddikdggfcehkebhhjhegiceghkjdjjkdjcckhbkdecegfjbkefdhfjjhfdggceefebfjkhkebbddhjjcjedkggcjecefjffgehbghchhejdhdeijckddbiejiihbghkggffjdebichdehikfcgicfeedghkhjkkhfikeekbhhbgjdbjjcjejecibkgibkggbgjfbkkcfkbcdkiihigkgijbhbehejbdhgcffhjhgefkefkdgjhdigcjdjfbdfhgfbbgjdhbjbifjcgkgjiebcdigdhfbkfkdgfigfgijcjdhbcbkbdigbdifhibdkhckghfdifefhdghjhdgcecdfdjfcbfkegkfiehjfgefcghihikibbbfbhbbhjdegceedheehejgecdhechfkibjkbdkkbibbeccfdiihbjefjcjhbkcikdkfbjhbfbgjedbgbkbfikjdijfeebgkbegkcdicbebdegdgbjbiecgejifciccfkggfiekigcdkijccfcgcdfkiieghgbiecdjjgkkhbefcddfhkdehkgfkeefdibkjhhbgjbgbiffebfigjhcbegceidccehjiigjfjhhijbjiceckdhkgjgkjfjjccgjgjkejbggjbijgghebehkhfiijjicegekjfficjjgdfgdefdgfjjhcfidceiikhegdiefjhhfidcgcifhcgfkjhkhjdkdckfkdcjgdchehfgjjbbiekeiibehfffhkicdgdcgidcighikigfbfhkjcbkekgdjccfjgbhdgkbbiifgccbdcjckhifggdhjgbdkhgijcfiekhckbcbbgbggdcfkbdijfigfdkkjiddbekkcchigjbikbghhhhicjckejdbcbfhdkgdghigibifccdhhkfhdhbjcjccbgbddfddifejckjcikdjdigckcdddieeikdkijfjgfffhhhcifdkdhkfcegckfgejkfdjebfihjkidjgkhjbdgddfgfbjjkghjkjcdjijbkbkiceehfjbjbefeggckcbehickcikedhekiihedcbkbchhghkbbfcchdefegbkdhejghbhbkgjgkeeihchkkkedckdfgebceecdiiedcfhgihjfkdgidcfekgeiigdhcdkihfckfkhdifjekbjfffikikfgcjckbchidbdbefdjeebjbggbdjkddeifciegkefjfejfkhdcgfbdekjdjjiefickggbfekfdkjkdhfffijekjgfjfgbekedhjdcgedggkejejegbidigcigbffccedikjgcffhjdjbbgkibbigicjfkcheghfdbjjccjkcfcgjkjbjkefkgigighhkhcicgcihceifdgkkgkgcdkefiiehfhkggjgebhgbijhbhbegehjcfdcdebeddbhgjijihhbdcegfiecjefdgdcdfccgifjefccjekchgifkjjjijhhkkbbgghdhgcbjbkifigkbbifecdbheegebbifbkbicjfjbhbjfcdbjbhikbhkchchdgiedefeieiffeeibigeikdjfgcdbkicdcjkihbefdifgibbggiiefficfkhcikfffidjkhcghffdcjkdfiegibdbdccjehbcdbhkejfdcecjgjbgejifbkieiefdcceecigjgffihdeecbbjgcbbbecedcffjikeibecficihjgbcifjjgbcjhcdfiiddfhdedfehhgekeckbdbkfkfgjkifdcgecgcgdbjkdjbckhjdkdeehhkfifbddkjgcbiicciihbfbcggccfhijbcbjcibgbkkjfikdcbjbifjkbjhejgeciidgddifecbkfhkbdcfehdkjejifdeiedgihficbccejhdgkhgjjhjgjegekbcffkgfjgiebghhedjfhhhcdddkjfikckdkgkkedhkihjfhgjijekkkegifcjggffbjdkdjhbbgkegikddgjjffhfgchkgkjdgcccgcbkiehdgcdbhdjfdgdbkjkffgjigcifbdfiicgddeedkdggeeifdjddcjibhgchecfffdgcffbdfekcbffbeicfcgibjbhekidgkfihcjhhefbcikjkjbfjjbdcdckcjdjfifgcjkgbhkcehicdkkddfeibeehceihfichhdfcddjcekfejigekgdhhjdiecbkjbddgiffedfkceeikbbifkjebegefjikjicecibjeihgbjhbbhgifihcjekfcbhgdbfjkjdjchhhcgbdfkjkegbejhkidbcibjidiffdejhkhdbhcgjbhgigjccekbhhkefdbcicdifighkchiiideihbiijedggjdhkigdefjgdifckdcejdgdjkekkhjcdijcjgcdchgkgkggkjdbibiibkigbdekgddhdebhbiedgdecfikccdddhfjcejhfkkdefijfibffghdeheidchjfhgfbhcehhfjhfjecgjbfgjefbbgicbkddgdedgidgccdjbgidcifkfbfdbbkiidgjbjddejjdjkcgdgjehgcddggfgdbchgciccibjffbhffgibbiiebfebkbkefibgdchciijbdfchfijghdhhdfgiedjbcgkbedcdckeekkikdhjecfhjjdikkdkbkdidijecfkeekjkgfhdhgiffkgjfigfigkejjjihdkkbjeibibehecfbikjkgbgjjieihdedgkibeibeekchchbbihfbececbfegkddcjbjikbkhdbjcbihecgkidjbbhjghfcfdfbbgcbefcjghfeggehficjjhbigbdekejeiebekiggckeheekjfchkkdbkkikhbibedcciebbjheijckjfebdgfijgejbcihihfebhchjhkhbgjhhkdkhfhgbfiigikdfdkihjdcbhhkekjdcjigfcggiekefiibhcfjgficihfffhegcegfifhgbifejbhfbibdbgiekchcekcghjdddkfidgeidcekehdffhegjibicdihkdjhgckdeghfibgdjehejjjigfiiciccedfcjdfjjcebjgfdkcgkjdigdeebbjehidehejdhffibikdggejhbgdjhcjefjjdkbkigehcbgbeiehkhdjeifijcjffkdfighgjhgjkjdghcgdkggjfcbbgcdcfkcikcdfikhceedkbifickggjgefbfegfbhjkikhhfjebdgchieebhbdifhehkfgkgefggfdhjcjffecgegdjececiebdhdigcfebebgkdidbdbgihjeedcbehkbbhckhdcibjjebegkfcbijgebbefjhbcicjfbefdkhededjckkgcehdbdgfjfcegekjggebhcdkdecgdehdkiichhgkbijbcihgbhdecikhdfhgkificiijkgeejfdchdikbjhcighchffbdkfcfckkihhihccdkcbijkdjckebgjdhbjehihiejcijdcjgbhbfhgkecjhcbhkfkfbfhdbkfcjfkhbbjeikikdbheifedhejjcccgjbcjichfjbjihijdhedefehccehcdcejjhefejjkeihcbbjbbkficjcddebfeegieebeckgdfhdfjccfdjefhkhjcidkfdjbidheckbhieicehicgfcjhckhjjkhjfbcbcdkjghjhjgcifdeeebkgeiiekhijkdcefgdbiffcbccfbdfgdjdkbigjkgfgjfdjebchjkgkehffbhhhkejjccddkkcfeecbkeffhkhfgckhbedffdegfebihffkkgkfdeidbebdbgkkcifdkdhdddhfdhhggbjcikdeibhijhjhbgdkkeehefkbgeeidchehgekcehjjhcecghhbkbifhbfjbkhkdkigfijddfecgdedciefchicggcifddjcbjkeckibfeefeiejcjhdcjdeheifgihckggkehbjchdkihkechifjhbhfcecdciddgkgfbgjdhchiiebkffeecbdgkichddighhjddcfbhedgffgidgcgjkggeedeicgdgckcjfcebiibejbbhgbhdehjikiegkkejeigkjefcggjfjgdbfckbbhhgkijhiggdjedccjdkkdgjhdeddbhbdjcgjjgddbhfibcbhjgehbjbedhbheciifgbkedcdeibfgekijkcicjchbdjjfckfdbkkieihjbfjbdkekcijcbeghgdjfhhfgcfgefdjigcjfbekgdhkbcchikjdkgbfhigbjgjbgekbfbdjffjhbkdkbhcdkfkebjifefchiejgijegcjbiiijgdddgcchbbfgdebgkkhddkfhedijfgdjfcjdcdkihjjjfchhgdegbfhkjcdjddggbdjgbdfjchffibghigbedfieedfigfjjcjgcdfdjggffejcgkgjgibcjhgefkckggbdebccjcjckdhgcehjiikjefijfecjdbegbkjhigdfbikhhbcjeehfbcdbkbggdeheibgggkdbghkfjjcfidgdgbheffddcgdegbeijjbjgbjhkdffkcgkkgkbhigdkbhbejidjhcjkkcgjefbkdebbcdfhckhfgbhhijjdhdbhbhkdjkggjibfggkfibgbhgjieigjjgbicdhkgbjkcbkgibfcdcbgfbeheiegcdickeijddfhfidffjfbhcfkfikchgejjhhifdbcddcdbfkciicfdifighihicgjheghhhgjehjjfgcbcbjffbbcgchdhfhdhbdjkgdcgfjgkiekfhbkekgfhffdhbhfgbffebfcgcfkifgkeicgdhcekhfbfbihkbgjfgegkcjhfbdjjdhjjchfgebidbkhhifdihbcdeckicfebcdifdedhbkegfegbjeicghhbkgdfeijhbdekcicijfihfbccbjfeggigekggcgcbecbhechchkfbhjcdgehibikhkdjkggekebhfgcgdkkfffddbheekdbkkbccjfdkhifkjfhffchggbigjicfgcibhdchcjjfdjjbekihdfjgfjcegbkfefidbgeheckdjijiijfddcegkdgekighdhbdehfhgkbjbegcdbkehfefjeihihdjchigfhceiebfhhdgdjeikigjdifeekehhgcbdiigjbkgbkchbiidfjkebhekbbffedbbcdceefkgkekebjkfchbbijfgbeckjbhfhejbbiejcbekkkbfgddfjkkcgeeikigkcfkddcckckggfdfkhckkikkdgdfgedbgkehchigefhkddfbgjbjfbcdiiihccdbdfegbhfkddhkfbiegdiihcgicgbkjibjjcigdddddfjkfebdfffjjkgicbcfkhjdgebjkjieibjkghbhcfgccjchgdijdciejiegbhbcgkfbbgfbjgbcjhijifkcihcjfechbkichhikgjbcgibjkcihefkkfegefhiffijbkkekhjkiekcfjfegcchijfbgkfbdffcbijdhhcjjgeijcefdigbkdbgkjkdbghggbjbbgbhhfibcficiidfkeehbjedchecbhhdedbihhkhdckeciiibigkhggjbkgcgcbkkhdihijffddggefbebgeedfhcjhkkfcjgkbjjjfgfkbbebehfgbkcbkejcddddfjciehgddfbgcgbcbbdgdgghcidccdekdfhdghfhekihkfcefdejgdccjffbccfgkcdckkifkeceicjhgiibgbgjbcbegbcekjjjebieihbbgdgfbefkdegfegdhdgkkdccdjfdkgeiekdjegbjiijeckgjhbjbeijdjdhgeekikbejbchfejcgfgdhcdcfiecefghideejegecidkjhhjfjdghcghbfbfbbccfccdigdkkigbfibjedchjhfegfhgeiehhhidbdckfhdhghbcdfhhjhggiehkgjjkbdhegfbbhbcgdhkkcbijgfeckdegkkbdhhjhgfcbhbebgdkfkkjfkckdffifgbdgbbicbgkgfeheehefckcbjdfccikijcfbfgfdkkcjfiecgjfijidbbhfbcfgccbejfibgccfhgheggkgfedicbkhgciifkffhkdgejbgefffdicdgkeeifjhedbcgjihhgdighcjhjhfkkcjjkkdcghgkgideehkgegkddcjbbejfghefjbeiceifkjbijgdkhjbehdhgjfbhbchfhgkejjkbdchbgidebjhkffgdhffihfcgeifefebhejcdkgfkfbkjejkkeefjdkdhfgjebhgedhjbbfeidjiihkehdbhbhbbfiddeigekjbjjjhejggfbhdkhjihkbffcbiehhgejcgkhcjdhjhhjebhhdhgfbfkbekfdcjcibddijfgjchkbedhhfgkkhdgecfkfkcedijcedidjeifkgdheijbfhcjkijkcgjbegbjfhggjhedjghcfgddjdbgkdkeibkfiefikgfkegdfbijdgjefdkjbbjbhdfffdddhjijgeejbfjkibhdefhffjceiedjkddijcjjfbkddfccccgcdeidcigfbcechhjcddgjhigfkhfdjkjcgfgkjjifdcibghichbbigdibdjjbkdhjeedggcihgfcfcifbegdgebigkfiejddbhfhfebbdhkckceiccekbfbghckkejeffigbfhbhjedigbdbhgcijdcjfbcikieicgkgiejidhicgeeddjbhbigiefhbgcgdebcjfcifbgjjggdkgbidkiibeifiddcdbhifgickhkkbgggcekkfgfjgdkejchdicicjjdegjeejkkiedgbgdegkgcdhbhffekfckehbhkehhhkgheiibdijjfhkihgficfjgkiiikghbcgicchccgdcicfcichhekjdkkkhfhkdchgghekfkhcigfebijhbjkkbhbjecgkgkhggecbbfbidefdfckehjefckkkbfehifkfkebhegifccdkbjhbkfkhjdhfcggdjcgeijgkjdbebghckbhiikijfjhchkgbibikfdkbcbbfbkhhcdeefbbjdjggfiffhhdcceeiejhhcbkfhgdjdjjhggifgccjjfkficjjgibbehjfgghdjkgcghkcfcggiifgkgfgfbdjgceffihbeckffigjdgdjefiieigbjfghdefhdcidjgdihdbfhgbbkkeihbffbkhgdhdfedfbfiegbjgcedghghbdffekddgjjgcikdjhigbffgicjejdddjkfhdkdfjcjfkjfdkjijfcjkhjcbkjgjffjikhgecegkgggfkcfijikdehhichdkfhcibfhfghibdhfjhebfbjhbecdckfhdejhghdecjfjekfhbghifgededjdchhfgkkcdfbhbebgejkgheghbkdkjdikkecjikcdgjchibddjjfcikjidibcdhcdgickgbihjgfijcckbebhejkebgbbdcceffdcbbgfkggfehkiigeffgjjdjfjdfbgdbcihihbficbgkefffiekggibjikediccgejkgibchdbkkckeckjgfhickkgfechkcfjiffdekdhbhcdjbkkifdceddkgegeifehjfjegkkjgcfdcibbdejjjjkbbgfkjkffkgkeedfefhbkhegcgdegjkbihdcdiecjfibifdgecibdifchgeieccggcfehkfjjkfdfejddbfdgcegdgdcddgjcifkdjffdkjjbhhejdgidbebhkdijejgdekegdeijidcgbkjfedhhiekkkjfhkkhikdhdhhecbbbcchkheeiiikdkifbibeffdkkdikbdchbjchkdibccgcheffhdhjbhffhbkcfehbggcfkdchccbekchcjjhehikkfgibddjgffdgihdjckjbfhceggifgeihkecjffgiidfkgejjchibfgkhgcdggbfciigbjchbdgfiedjkejfekgihdcebehjkifhekcfehbkhjhgbkejgjkfifgbfhfifbdejhiibhkfifeibchfhekcjjkegggihbhhjjgjgbbdbebkcfgeedbihegckkbjbfcbjbkcjdfhjicbikgbhcgehichhgeekhfchkdgekddhgieffddcddkbjfebkgjfdjjgeicehbddhkdkbbcdefbjhbcjddfbdkgkjdbjechbkbihidfdkcjigfgdgbkhbhdjejdhdbkjebiiihfdecfjdiiidkkfkjjekfihgkdiffkjefgcdhichcdhigiiggebbdkhcgdbgiefbjbckebcfgfkhefkdcciheffckgkgibjefcbgdjgbffihkgdedigfhgjiidbhgifhcdggbcejddidjhdfeidfgighgibhcfkbdcffhddbkkcjbbeggkhhggjhidhkbckdjkfcibediccijcebfbicijhggbcdejdhfgkcifkkgihfhbcbeifegghffkhkddihdcjfgdhffcehhijdbiefbjkhiihcdgchjhbdhhiebdededdfbiddfkhkbicfjiccegkcbbgkeeehefikghkjeihbbggbfjikfeichhfekihdcbijckdkegbcjifchfjhchbheghfcbkihecgehkikiggekjfkgdbffdkkffjdcjhkbbckgicihccfehehgdgffbgdbjcihkbjfidggjecikkggicfbijhjjfeeifhdjgfdffdkgcggcbbggfdfjcchbbfifkjjjbebghbcdebgicjgdbbbdehgdfdfjjbddkggidkgkbgicfibcjkedkdkkeccegihfjhighikgjhjecikbhjdchgfidcidbhekghfikghghejjjkfdfeghiifjeecbegedhjdfkjjejhcbjheifjcgiecfcfceedekkbbgfbdkdigejdkeikjhbhbhkebicgiicgefbddccbieegekhjdejdheibefkgiihfeihdhcijbckbdficfbjekkdehgbkfdecgfddfkdjieckcjfhfbbkfedebjikkefbeiceedjdbdjbechhjekjdbgkjijfgcicdhkddcckidfbjkfifhjicdbccidbhijheggjhecigjgjcjjhdkehhdebbdbjeehjbgcchjefjibejjgghdficjcefkhcfedihjckgkkeiicehfccjfijbfbfhgbhkehidifehjkeideeijkdkjjcdjgjedfedbceggiffeiihkfjiebcekjedijhkjjkkhgehbeekkifekjefjjibfdedghhieibfjkgcdkgfbfjcdghkfibdhjbbkkicdffjgdjcigjkhdedhichbkhckhcbekkgdedikhhjgbgkkjjkbeiifbijbikchjjighihkbckhidbgikjbiedbkefhiejgifdecgibbhgfccekdjjdgfbkickfejcfbejgghbjfcddjiffhcbjeejbgeidhbjbcgcciikhcbbkjiijbcjjifggbhehjdefeecbjdiiefbbgghfijjdjbghdgehejkjjbjcchfhjeidhhkificfckgghjfhidggikidkcdejegffehgfgdjfgeggikdhdfbbefhcgbfchdckghehdjgcbfjjeijjgcdddfgfkcfcbjcfhhiegbehbdjcbhhdebkdgkjhccgckckigidjbgedehdhekbgkgbedkidffjbeghkjhdfkjkjghikcigccccjfekdgjeebikehfkdhdibhccdbbkhkbkdghcdjefhdcijbikjkhegjcjbfjbgdkkhbiebidifbjfcfcgbeekbbkfdgdihdggheddbbhdcgfijhhbebjfbhccbjbehigggbjhcjjdjcbjkjcbfhchkccfikeiikhigbhedhjjjkicfbgibhegbgekcdifgjicbkighkkffhbcgijcikjfibjfjcbkbkcgdidfiekdgccgfbgfggdgjgfdikkgcbbfdehfbijeedfdiiihgbhijhcghciddehbfhdkhhefcgbefggjffkchibgjhhicbdgdcbhdfebjejdjfiihchhbhcfjbfhhihcdiikggkbjdgfhjfedjbfiibgddkcfgiifheeigbeidbgjeiefibegefbbhkcdhbfbhkdbfckihedffibkgikefieikjgjccfjjibihjikjhjkfhhfffhckekdcckdkfcfjecddjgjbgbcdiifbjghjihhgihdgdfbicehjjidhggdcfbcdgbegbchbiikibhdkbebgfgkhkeficbjffiifijijgkkcfjecggcggcebijicbjkgjjbdccgfdgdieccegeckhkiigfbdbjjhcjhfdhehgiikbikjfjdjhccfikidjkggjjeikdjegjcjbhkdegeffhbgdgejedeegkifigkjfkchiigcgkgkidcieigdgdfbhdeegijgehgcdfekieichjjecfeefijejdggekgfddfhgfibdffgjjdbhhchjkfbefbkckebfbffcgbbifjjbjcgdbcdhhhdjiegeeijhfciikbcgkbdedggdekjkjhkfhefbbfbggcgjkdchddbfdbdjeicgjjdijgcgghffcikbjeedkcibfejieeieffcckgbijfibdgfjkidedcdikedcbdbibheehgdchkbikkkdfdebbfeckeigjkkdfgiicdidbgicbjfbfcgccdckbjekjifhjjcjfeiijdkhhffjckhkccjhkehehfkkjjbhgeiecieckfhikbgdjibfkbcjdeebcejjkhhdhjeeeejbcckeehbdbgjjchdfccdhdgcecffigkkgkfkcejdeekhbbfidjfdcjeeeidhgbgkhbddjicheicfiffdhhbdjjjiegijdibgkhjcidghckgkbgkkbekjcfjkchejfhkegeekikkhhhcccfgdkcgchfjgddhbffjdiehcghhbggkecfffjbgefidhdfekeifbcefefcgfgcidbegbfbjgbffcfdfdigfdbhgbigihjbiiiefhifddfkddbgbfjhfeeiddbefdffdbcdfffbgegcjkgkfegcdbbgefidkkfiebjfbdifkjdkbfcbjdfiickeigjcekfcbkhegjffbbkhbjkekekhfdbciigbgfeegkififdekhcjhhgcbhggbfdcfcbgkgdjdddhkgiiceegcdhidkbcbgefefgecdkcgbcikibkeibfcegddcjdhjeiikbhkdcfefjbgghkijjjkejhhdkbccihcfkkejgbcihkgbccikcefkgggdjdkbjdgfgdffkgfhdegkkigkekifdbddghdhfekcbjhkfghfdjghdgfifhdihkdhkhbbhdkbbecdihegiijkkcgedkihkjjcbfbdkjcbbgjbbikcbgikijibgeidiejihejdbbgckchckebhhcgkjfhkfffbdefifbfdkfigjhbihheccjfkbibecbkhkcfjieihcegbkejbkgkicdgdjcibkegbbedkjhfcbhjeckcedghgihhiejggdckbigicbkdkgfddibfibkejiefdkbfbghiiefjkdefijhdideckbkefbfdkhjdiejhejdicgcbdbjecehjkdhbeikdhhfhkbchjeigkjhdfbdjhckhkfhebbbdiecgcgdkdffhkkdcehkjijcebjjcdkegkdcchcijhcffhfbbjkigdcheghdbkffdkfjffkhebjkicijigchdijebdbfkheidgfkbchiccdhdjiifbhgcfhjcebeekjhcidhdeifehfhbfgdgcehidkkfbhccikgijjgibibhjjccdhkcijeekhkcebggkgfhbhfkcgijdcdjcdhhkebhhfihhebcddbdbbgigekjhdcbidkcegccjicjbhjigifbcciehkijfkjbibeidihjfgkhifcegkbhegdhcikeccbkdffcgcgekehcfdjhkbgcbhickgcedcjkeibfjbeihbkbbgdifhffgdjdgkdddgjdbhgjgedjkibhdjcdhigfijigghhddfeifecjcbfeckdihejbjgdgjihfdcfdfjfekkgjiiikidjdihgieikbedhdjjgcdieckjbdfggfhifjgehbfddbcibeefdbkkjehkiikhcfjceebfckfijidgdfhbgbcbibhibgjdgkdgbgihdfjbfgdedgifjdekccjckcjkgefcgidcibibikiccfkkdihjfkbfbfeifggjhgcjikggkghjfjeeghfkfgeecfbedhgkgdfigkkgebffjhckkiiffegifdhhjijfkchfhjckcegifgdgehhfkdjekikdhicdgechckgdfbefjbjdffjekdjikjefdeccfhbehkejjdckicikhhebddfchjcfbicgdfggfiffdghhkdfjeicefcfcfbehigkghjddeehkiibjhhidfhjjfgijbikfhchjjikkfdhfccbddigeefggbbbkckbjjfjjbddieebhdccccghbbjikbgdjibkcidccekgjbdjhgbjeccfkjkjbjihihbgdfbddhgiffkjehkkdhdfckcbihhekdcfjbggdkijehhgidicgiedccigejdfhkigkghbfefcdejeekcjbehigbbffchgkbbgfcgcdggccbchgdbdgkdgbhjgcikeidkdiedgfhibjbjkjhckfidgjhbihjefbkbebekjbcdeebggffeddjjfgfkcdecekbbgbcghfeeiiifkegehbcdbejijkjdjiickkbgjjkhjgegkbkhfgggdkibgjkgjjkfhcgdkckekfdigkkgcihdijbjchchhhicgbbcgkefgebidcdfkkidbfcgjjjjjdhkkicfbhbejgdjgdkbficdfidejecgibjghidbkijfjdfgbfeifeddhdgehicbjjgdfhhihkijcgbdegkdbdecgghifkbfhfbecchhcdfgidkbigcbkgbejikkciibdbikfdjhbcfkkfejehdhikeggceigkgdhfbdcffjkifbhkjkkjhgjghgicgidehkeihgfdjfhekbdgbgibfggcegedjkfejkbgbdcfgihbjidebjjejckkgjfgekfjebbhhiihkcfedkfdbbcfecibecidkfkjjhbcgfbdbkhghcgijjhgicbjijddhickdfjhdkjfcihcggbfkdgcdcdkdhkkcfjcekkhkdcifhkjfhbgjffkcccjijiddjcckhecdjdghegkkdfcddkjgfcgiegjgcbhbbfhdccjgfcieejcbjdgbkjegfidhfffbgedghiccdkggfjbecbhjeegcifgidkgjgbichhkjhhcfdcceeejgfejckgchfhidfijfeikkbgjhegjdcidhcibckjccejfighibgdjcbcbkfbiddbgjjifhdjkbhdcfdjggkkfkhihfhcdihjdhddhgebkggkckkkdcdbbcebfhdgjebgkjgkbddkbkfcdhhechhfjjgghihbhkhgkdcdiigfiiikeefjbdfbdddifhidegddbjdgdhcgffbefhchijjijbjkgfjjeeijcfghdbcbcdggieejcjbbbedcdjcgkdjicjekbfkfcbfdbfkgdiidbgdkhgjdigebifejbecjghfckibfbeidhicdgicejjbfgekddcdgfbkhkffkjckeghdcfjjhgbhfecdiigffjkighgkkeehjicdjdjgkgbhefjjcfeibhkgiiceccdgbdhkkcciigfbgfjkcdkfbeejjheffcihdgceghfhdifgejedkibcgkbjicjbgiiiidggdgfiiikbjbjceiifihhhebicefejbjhbkecgejbihdejijfjbgbffjidefiekddecjebbjhedibdifbkidikhhgdfkcbjhjibgkkjkjcdhfeiefkkgbkkjbkjjhdfdekckfkkcidddkegehbgbgfcdbjeefcidcbdejgeijcjcgdiiedijjfkheigjefbfkhbiiididhdhikhchgkbiidghejicdkjkdebkeckceggbhdjkhbggfffdhkibijkheiecbdfbchiidkfjbcibcececcecjbkejchdedcihgdchcdgdkekkdfibjcdbikcfiefdddhdfjiekejgfjggcbjiieheghhgkceeghjgebchifbgjcfcfbbgfcggbgkeigcgjfghekggddjchkijbfchkbcfkihkfjeiceckbgegfcjkdjeffdjghbfhicjiibiciihihbcdifcjhkibkcijbfhcbekfgkfijcfhkdgcfekbeedbifhejckdeecjeffcdbkebeghkddgeehbbkkkdcfdigigddggghkbiecgfkbjegkgfbjjgecjeeijkbkebhfbdjkgkgehbfbdhfibdbeediekfbbfekbgkggkkchbdcggideghhdfebcgbhjkccikefkchgfdcfkbffcjjkfjfjeeiidbgdbifbdgfbdcjjefdfidghehidbfgjedkbbfbibkjdbccfgkjhdbggiiiejbfcbefkfbjkkgehhikichcjdbbhjidbdfkffcjfiekdekkfdggficihkjbgcbcghjebjhfggejhfikicbbkebbjfdibdihhfhfhjjgbheeibbkbdjheihjhifhgiikhhedhbgcedjfgkbekhcgijkcjckhchbkcifidkkcfebifghgghcjdcgcbjikjkfdkikcjgckgejhikgjjiebgghfjfkhiijfejjdgjghkijbjhhbgkdecjdkjekikbehkhjjfihdidkhcjkhjjhgfkfhkcfdeeficehkbfkkijkgegfjjkcjkkffhikekfbjdjdcfghigcdjbcjcckjjgidjhedceggfihhhebgjegifbhekgdckhehgdekihbfifeibfjfkgdhhkdffffcgjhfciikhdedekkhdhkgbfkjhbbhdieeibfkddfkkeikjbieihedkcggfbfgcehjeddidfcjgkfeegicebgfeijiekeffgikkjgdfhegikdjggeddiihkbfkcjbjifgkdjhbcgdcjbhbfekbhgihigcdfikhijcckcfbfkihghhbdkgdkkcebedbehkbdjdibjedjdghfckefedcccggiigchjcdjekggiiieckicegjcfekkijkibjdfehjcjdkgbfbfkciiijgccdkjkficdjcjgceegdjdhfcejcekbkkcjhfjgggckihbbkhbcefbefbcjhdfckekejjkkfejbgfgekdbdjjbfbjcefcbdhikbieggjcehfekkehddbihbcidfgifhddhijkigkgikkjcfjjdbggdgcjigjfcgkbkcgedbikbkhfcjdjfbcdgegkidegbebchffckjgciedhbfkddbidhekghfgcdijkkjdeeeeefihfgijkbeigfhchjcdhkgeedcjebibkbjchbbgcfegiejjccbcbkhejgjdkdfkhjejjfhkgjdkkbbjfjdffcdbkckgjccdcehjeghgjjcfjkihgcbgfceehfekgjhckgbdhgdiehjeedickfdbgbeeikkggjicbffdibfkecghjbefchjccfdgkkefdibkgkedhjdbciddjgeiefefheieeckejigfchgkjhhjkdkhjcgbjbfccijbbfbbhkfkdjkhdefgecjeckkedejhehchdfeeigbkffchgcifkdkjdbhciicdifdeffcbeehjbhkikefhfifkfjijcfdgcbeeddcgckcbkhfkjdkkijegbhhejhbhfebhkdgjfbichgcejcjbgdjkfediecbcidefcdkfccfbjjckkdebbejhbhhfbfdjfhjegbcgciidifbfbkbejdkccgkhbeibbcdcfegcijcbgcbjbbcehgjbfjecbiefkfikjdbbjkcefkibibgcjegkdfefhggekccdekfbfkgjffcijfjjhbhhekebejgbcbjjcefjecdhfgihedjkdkgicdhefeidbbcidfehdjkgbhiehckhbeihkidchbbefkhhcfdkgdbcdikhjfhehcfjheibgcfdfigffcgdhkgfghcefbecigdegfdbkcbjcgiiijjkkbgjbbbikjbfkdkfeficjbebdddckbdehjikikchibkfbekdgiddichkjhbcccdeebekejehghhdggdeddcjgjgikhdgkfcfjdbddhkkidjjfebgkkkikfdbbcegfgebfegbfibckjedjbkhjekfdhehfhicekhbikkbjccgbhcfbejgjbggkjhkigjdgfifgehjkjfjcfchbkekbgecgehkffgkceeckhfhecchfkckhkghbiidcjceiihhkgfidhfbieghgbhegifkjkikdikjdihjchkejbckghbigikbhfbgekhjkfkjgeiheiekkkigcijbbfhbeiekcjfcbgbeghfhffkhfejgkehjfhcegffkkfghbjiehkjjebdbehkfghjffbdjekikkcbdccgchheigfhihkbfbdigfbbgdbechfchfhbgbchfchfgfgkdbiieihceidhcekkkbffhfjfkkbekdbidgdjkfbccjhhggeicjkfghcgjiffiifjfdbdbgkbbhefciegkdegifkddcbccijgjifefdkigkecdkjihgckkjhkfbhhifdfgkdhccbfcekhdgffedcccihhbddckiffbfjgcddfjfkjbciggcfijbhbifechccggeceecgfgfiifhcdkdgdhckjiiceedfdfikekjjechhijegehiekdfcghedhkdkebibcebgjijfbehgkbihkibjgjjfkkbicbkgjfjhkikcdbhiichfjedkkiefikbbgdidiebbkbigdhckihihkfdccdkjfbjkhdeffkcihgbddifdhfjggejbeebdcehejjefiihdbkiggfibjffieefjieekhedgcgcgkidiiikbhbficfkhdbfighedbjffegdbfcgheibgkbfjcciddchcjfeegcefdjecjjjgebhdfijbfijicckfkdigcfcbifhhigccfiefkkecbikkkbbdhjifdhecfedgjcbfdikgdikcbcijjgjkdckhhkijghccbebgebbeibhchidegifdkhhcijbcfbgjgchjejdgfikdfeehekcgjdibekbebjhbibidbifdefejbcjiddfhkediidcdkcidhbjcehiifbjgekbdbgfhkhckickjhhgeibbfgdjdcfjjjfjdkiegihkckkififgceeeifekfbfgckckhgbhhibkgbbdkjddgfkhkkfeeibkhhhfkdhbbfdhfjkhkcgjijhkgjfichfbjicedebbddhhbgcgfbkhejebdbhkdgebfkdfkfgfhfidebggfcgkhedceghicdgbefcjkfkbjibiiecbfcjidggeddkebghhjicfbdhdedfdeeifekfdgbhkkidbfkbhhgbgghefiehfigiikdeebdhhkeecgeheifkkdfhddjdghibgkjhcfgjjhkchjdgfejfdfdhkjbefggidgfecedfgekgieckihdjkdcibccgbibbedbbkhcjidehehkcididbkkgfcggigedcehifhcghcebdekhdhechgfbbjbdibhcdgfjfcfcfbdkbbcebfgjdkiggeefiedhcicbijdgjdijkdfgikbhkgdebgkgbijhdbgeikjkibegjcgkjcfcieeghejgkidijijgigdjifbghcjgdceecdggkickgeiiiedfjfggfbkjhbceefdbfcghffeejdekcffgkdcffhhdicdciijfgihcejihibefedhdchbbbdbefcdjebhjihbfegikddddgehgkcgcghcdkckkchdcdkbebbfgfgihbjidjfichcgbceckjebidhgiibhkifjdjkkfkcbdghjddkhjhdekgcfdbgfhfdceihjjgfjfehckkiidhfkcehekgdiiihecfcifckifidbgdckikfkdhcdgdfeciehiekiechficcddchdfkbdebfhhdbgjiggfiehejidkhifidbieibdiibkbifbkjkehbbefcjhecbjfjkfkihcbkjccjkdcjdhiijdcfhghbheghhjckgbhcbhhiekejjeefhbckcjjkefdjdeejjfeecbgcjdjebhgejhfecchfhijebbggfcgfgigkgjffebkiekhjfbffdgbfbefhbibcifefgdhjkdfebifdejejdjddkkgjjeckjbkhidjcfhebceihjeffediejgdikdbcjegccdkhkcfhcbjddifgghkhddijebicgjieeecdhcdggdicbhdffggffbdcdcghbhbkebdhhhccfigjefddccddchjihcjdffjhbfiigidefdkhckdbfficjfbjfhcebgjbcdkeikiibhebhhbeikjkgcgcfkbdidbigfjhgbjecfedbhehijdhfhdcggfgkiggegbekcgehcgdjdiehhgdjccejhiffjjdcifgegkbfjgkghdkchdggikkfffjjdhijihjcghffcbecjkccjhcbckgeeihhkfiefifibhgikifjgdfddhhhfdcigghkbjhjkjjdegekbjbdhccjfhfcdhkjckkbbgjjchibfijjggifdgicddekcjfffhbcefbfkfjgbhhdgdcgebcefifbdebffbidgeeikbdchfhejkibegcfdfjdjcckidfekidfgeigiifdhkkfejciibfjghghjcdfgejieicfgfdhcfdgiikcgeibhkkhkjjehhdbdgceifkifgjjhbbfkikbdbgcfgbbgbjgkficdjggggeeddkhhjggifjkefbchidbfecfjkkegkjdfgkjcfbgecejffbhfbfdbijeffebchjjhfhebhdkjjggechfecicjdkkgdkhkjefbgjgikjcikhgkgegbgfdfjgeeghhfjgcgcjgdjbhbcdgjejgbdcdfgfffbddbfckdkddjhekgiefkjbcbdgcikkhgibcfejfjijedhhddhghhbcefdgejdjbcehgkckjcibidedifkgbhdbhhbikjgjcjhhfcbigkbjgieghgcgegffeffddcgfkfgfcfbjgehdbighhekjdhjdkdjgbhbhddbdgehgiheihikhhibdjcidbbefkffjikfiigikhhbcgbcccedgcffckggehkefihfejedijebeffifkeckfbbccijgigfgdfcjjeficidjffddfdkhcdkcjdicejibfhcigkijebkcggkfcidgbfgjddejcghedjfgkdjhdjhejkdbeciekckcbjjfdjkfidbjjejchbbiidedhhdjhgcjfciebjejifjbgfibdkjggffdkdhdjhfejjiijijjhbffcchbhjchcgfddkjjgebibdiehijdfiicdgeeekggfiigjgjiijeekgkfgicgceeikccbfcdfbijffgeccifiefbecjefhibhkkchjkeiehbcjfbegikjekeigcifeijhcibdhgcjcbjgehjgchdbcjgigbccbdhbekcbjeddjbgkeibbbhijjhkdkjgccdciheihkhjhbhegjjgbchjedkchdefdifccgefigfeebbjggdfecfghbgdhgbfhcekhgbkgejgfkhdcccekddbkekjgbicdhejjfggchdiicedjgfecchdkefddjkhgkigggkggckffdikfkdhkfehihkiicdidhbficekcfifghjfiechegkckfgdcebhjbkejkggedhjcfjhicgfihjdhghdkbjkhejiggkfhichhcfdfedieefibkigckjcbccgedjeghhbbkechgeefibbkekfgdcgcgbgbkhigghejbkhcfffbegieebihibhcdhbbfjbjfbbhehhhdhcdekbdikkebffcbhgbbhgdhdhbhgkihgjcckhihegkhfbgbhgiigbgjcbeddibfdkfikhjbdfdfekjgdckdddefdkeccjijfhffjifihfihgddfdcfhifecffkcjikdcjhddieghihijeckifdjidhehhbfhbchbdjcbihfdfdeddhjgkkeihcijcgefdkfckkhhebjeeikdhgdcbedibcfkkfjikjbdcihjbcdhkgekjcdbdcihficdjedhedcgcieikhcdjhiefbicdhfcekbifehjgibifhhecicfiiegcbkcgkkgbihjbiigcihikjdbcgidcgdikghbikkhbiegbeedgbciekjdccibcciiifddbffhbdbhcibedkejbkcebbcijghjbcidkfhfjgibgcihfcgkgfeeicghkbkfefffidccgdkgkfjbhkdichdjbjbhjbjdggkhgbdgkdcfhidcgihikifdieidbhehhjegkkjkbeikijdkfcegkifkhigjdfjihdbcdibhcebegfihkjhhhgbjkibedcgfkjjbbbhjfedgiefehegikhicddhkkfekjbihjkehbchebggbkecgkficfbihjegbibdkegekbbfddfkeedkhekdhjghcihefffchiifbhjgjiikfhihdihcfcchifichfjffkefggjhdibhiikkjekjhhbhfhigkbgdgjdebbffceghebgijijcjiekfehbbibjkihbekcgecjghbhgceicdbehdbihhdigkgkkdiggfjeicjbbjijbijffkddhcgkghgefjccfibkcbijihjfkdbkekfbgbdgjdeibffikbigiibfcefbhiichffekkjbheekdghbcfjikbffikjgbfddkkebbkjbfgbkibeigkjkghbcdgbhhbehbfchcchdgkbjhjbhbghjgckehidefkbkdbeedfebheejkekifgfdekcdkcgdigecdikedfjcdijficbhkkhjjcgfjbkibjcdkdgjkddeibdbigffddcdjjbcbjdfegbdhegbcbjhckfbffbjbhckefhjfkdhgdebkejhihcjgcjfchidcichkgbbiihgcedfffikkfffkeffjkehfkiebceccfekegeeejeigcjkfdcekcckcjhkccekedbibfihjbkigeejiiikddgdggkijdfbjhhficfedfkbejiidbgkefgcbdigcdgbgkdgdhggjkjhjkbjdccccbgigkhdjhhdkjjgfbekejbkecffiebibfddeieefkddbhfkfhddkibccejigdcgkcffdkjgjebgedfhkidgbbiccgdgikjgfgbdjhbebfgigdgfcegjjfhjfbckfdfehkddihiicgdcefchfcjjhfiegjghceehgjddfdbjeihfceiiikiikhcjkehdikcggeeckdgcekkkckjjdffgiijefgickfhfkebccekdgffcbebkfbbejehbfeicgjkdjbbiccdikhjfehghihckeeghgbccbddghjdccggicbbgbekefcgeeijedckhbdckdcejibghgkgdegfdbibhkiifheiifibedckdcbbedcgkeeijeidicdkfcfhdbjibjciieekhiighjfkibikhecdihifkffihijbkcicgdcjkdfkigbgjjcibbgikcfbhikhhkjdiebgfijdffbbgkikfjhhkfbkegehkkhikhfkdieibkigebjcihgegidedckhibhbkddbkcigbiccehjkjefibhbfgfgjefeibhihcbgijkfjddjekkkjjbjfefiifkgefkccfdjihhkdcicbjgjkkjdifekjbfeeicidffjcgickekgkchhjebffjeddbkbedffhfbihdkecgkchjjfdfhfifefgjbcedeedgfdfdeibhkjhckgecchdeikcffejbhccghiheifhdhhgeibcchbideejgibcibebdjdbkjkhdkhcbgebcejkckdccbjkfjbbbjkjjfcecdihdkjgfhcdjcdebffjejbjkdjiddggcfcfdidffdbckhgbbikbjdejjkfkbjekcddbehhihekffegbdkehgddggbekcbcjhbfkfhhghjjdffckhbbhdcjehheiidbkekgdgjjdhgdifcbdkgfbkbcgfbfdjjkjkdbkjdjbggbbhcfcedfekijkjhccbccgbjbbijeegcfbcfkdhdigjbciffigkfecddebgjdbddkehjcccgdfifhfdegkkfjjejiebbjgkijjiidjcbgefhkegfjhihggkcicehheehhgciecekcdeekceedkbfjdbhggfidfkckdejbfkbcgbghjbfddjkkibcighfcjgekfhjfijcfbdhkibbekjfjecgibffibefchgjbhfgkgegkedjcjjikdiieigijkgefcfihhkehfbjhhkbijgbieeijgkigedcfgcgdkbdghbiejjckfifjeibhkfcbhgiiekjdjdigddjbhdbiechbefkbbggdbcbhhkbbfcihhcihcccfhfhgkhdgkfcidgcfibdiddeiecddejchichfcjbedkekkihefcggfjfichdgkffjbkibieeiehihkfkbhkdebecidikehhejiefficfhgbhddehjffjieijekhgbfjkebcehjgdbecdjcdidfcjgedhcdckbhebcfdjhkbhedeckdhbgegghdcdijbdjidcfchcgbbfbcfijichcjfhcbkbfgddcffdkgkkhchejhchfjfceeibjbbfhbdhdddgbkeidediikcddchegiiiddiibkgffhcghcddjkcghbfihedddidjhdjhegfhfefcfbcifihigeficbjbfefekhfhfjfbgebkghhebbkfjejkchjcjfbcbbfgjhcbggekgkcdfbeecidjbhhbbekfidfehccjkehbceechhbejbdffjkjjhjcjeebgickhcfffbkfbdddchfhkbfdgdihifjcgdjhcjdfhihhdiigihffdeehdhddjcijdddhgcddijcijjgbccjcfkecdiggjkgjffeijfkffcifjkffhkjbiigfeekecdkjcddfckkjikdjfgghgkfhcghhgkikkfgjibicdfjdefgeiffccbkddbhkijjihdjedchieijffekffefbeifhejkjjkkgbdkbfhdbkkgbgkhiedhkigfcijddegggfeekcjjhekjghccgchbdbcihedcckhjdbdckikibijkdebcckffggebddfckkhfjkgighijbgfdchbfdjbjddbkegcjcdchdgdgdkchifechhkhkkheebgkbddkfdgjccbegkccbjicdbbbcfefjfecjbkgbbgkjcidkgjficbkdifdgdggcdkjhebgiiiijidkhibkhjcdediikffkieikkdhibhhbhghgbegddkhedhgiehicekiecfiiifhjjgjegfkjfgdcegfkicffbhhgjjhjfbfhdciebjkkbkjjgkehdeebecbbdhgfhbfkcdbchcgkfbceejjiebgcgfejkbjjkhbhfcggifhfehdfieddegdfcbbdgicikgfddcdbcgifjfghbcgijihjejdhhbddgcdcdfkigcdkdfgckdbcckedjfkckefgcfkhgfjhekkdgjbiihghjddjcdbhjkigjcekkfdccdbfegehhefbgbhcjfjjkjjfecighkddhedhhdedejheekkbbgjibbgcbbcdegfgjikeidjcichjffdfjkcgiccegchcdcjjjjkecekkbkbgkkdgigebgfighedcgfgejhcckegijkbkfkfbegkhheghdkbieeecijfdhdceidkhibfgefgibbgiighgfecbihgfkeekecidhkkffibbidhfdjfddijkkgjejcdhiijcdhkbcekjihekggebjifjibhccdjjeegjibgijgkkhdkbieekhebddbcjdbeeeekckijffcifghkihfjdgggbbfhjhkiedfdegcgcdgkjgfdkjcjgihebkbckkcgkjkbkfijdbdfeiidjfcfbkffbfgifeefgiebiijiicekidehhggjhgedeehddidijifgjijjdicjjkkehbkeeffbjcfhicjjhhihdfehgggijggbefffcihbificfegiihgkbgghdbkkddbdjejjckcdfjibjjjckchbfkekfhcefhghdebdihibhhekkgkhikeeddkihbhdbgibfjegeeghbjkgkigfhcjcijcgijgkcikkjbfikikheidjjjhbbdbikbigbjeggdiehgjcchgddkejjfjhkbgcjfdcfhhbbijfbdjcifkgcgjidjkdchjcbbjfhkfihckffkehfhcbebjgecehhkkghcfkggdkgefeihedkkkkhekkhcececegihfggicjhidhkikgkchjkidjbkgbhdhjdcegdfkjggikcbhgjbehccjhdffdbihghcjchddekbdckghcjhdgdehbefbdkdjegijfkbcbkihhgjiddgcecbibbjcekdcefjfgfkjdjbeijghiehfhhghideejiihbfgigbgkikcceikchdegibcccdfhchgkhgbhjehhdcecbkfdhfhiehgbfbcifgkfhhhgcbdbfhhhcjcififdhjbbjihffffddghbdhcecjghbgecgbibdgeibfjdhceiiddcdhjjkhccgdeggjcbjdbegbjkgjekhfjhjejhebfjcjjkeeeefbdeebhfjjbebhgbicijeiicbfgebkcjdchijgbjfeejcidfjjkdfecdhcfdfhfifjijfckdejejfdjejdkeefjbdjcefjdjigfkghehfdhgikhifbjbeighbcgdidbgeejjgkbbgjkfjdcbiijckihheddhhfkkcbdkbffhhkfkbgebcffhfidhfkdikjfcfkgecfeeggfbkdfgkedicehbihbjhjhffkcjhikgibhkdcefddifigdbjkggfghdejkjdegkfhicjkkgjcebcjfbkhbejikejhjecckiigbegjkgfifbghdcejigegdhgddbbjedbkihkbbggfkkdficbkgjjekjfgefidcbcfcgidigfdbjhbcfbhbhdgdkcdkeecjfgbecchhfdcefdbdgiekkhcgicjgfhffdfcbhkgihhgjdbijjhchcbkkjeidjbkggbbbgdcjcgekbjhbijcibcbkjhfjchkghbkkcghkjkgehfejkkikhifbdcceijjiigghjibdibgcggdedjkfidkgcfcdeibdjhcbddejikkeedbiecdjbjjkjhiekhgkkhejgbefdbhdgffdkhdfikhchgddkhbegciffhidgegciehcfggcikjedckgffhfcdkbdgggdcjfiehgegbbdibfghcdghdgcejfifikfegdibifjcighjeiigbfcfdhbiejjiggbbhcghkckcebchbdebhkgbbdkeicggcjbfbjhibjjjdkdhehkjhbgjceekjbdcjbdbidbeieegehigdfhcikgckjibikjchebghbefchcgdbddbbfebejhckigbdidkkckfhhkjhfehgekbibeebdchcfbkjffhghhjkcdcfihcjbgfghfbkhkjdjccdjfkegddfjdfgkijcbhfedbfdhhiibhbgeieieibgfjehfbkkccfifidgfefhgkihgehdhegdifdeejhbeeiijjfkhfhijhibdhcekhkcgfhihbgdjdicekdjgebbjficifkffigdkgjhjghfihggbggdjcikddbejhgekjfhifkijbjehkeffgfbcgbcifhcjeedhdkffgbgkbjhgebhgcckefcidcidjehecbicfccebbbbeibbdfdckehdhhkkkgkedjejiheedjkhdhefcfjijhigjjbfehhfebeegjibgjfkfecigcgdjekefeejechdekhhkjbbidbkchhdjkehhgdckchefjjcigjdcfhhdkebfifjedifcceigdccheifibekgcegbhdgjfkgkebffgfbgjfjkcdejefgjdgjcfbebkjfhiieecdgcficjjiiccijcehbhfhkgkijbceghibhkhjfckbekbcjicgbbjdghjfhfbebfeegidfjfkgjjckehggjkfifgffhijcbbjigkikkdkfejifjjiciddjijjkhkdkhjbdegjidkghbbihehkjhbjedgcgikbfjhihhbigceihfhgbbgccdjbdibcfhjegjhcgfjiffdbdfejdgggkcegbkdgfbdhejiedgggbidigchhefdcebkjbdkibbecibbgjcjdckccceebikibjdhjddcccecjeefhdjiikjgfjegbiejfedickdebeijbbbbehbbccdfjieeikhddhbgghkcikhfbihfehdbfcicgidkficiecegjhifbjeefhddhbkdjbcieejcjhkhidjjfjdidegjjdddjhhchdifdebkbfcjchcchiickebkdkikgcheiegbkhdbedkgfjfbjhddkbjgcbcjcekicdbkfdccffgejfhehehdfdgfdcicdbjfhgdchhdgfjdjgbjbifdebkkcehbhkbkihhkcccbjkbfkbcbcjdfecjdbdgiffcfhgjibcjjcjgkkjkgjeejgdhfifjbckejgejggffhhhehgefjffhhcidikkijfheieikkhceicibeeckgebchgbfiggkbghiddieifdihkbkjekbdjbgekjededjhefkjebdekfjdicfejkcchhbfkfifgdegkddhcgehikekkfdbedbfkcjfeeghkbkddjibfjdfjkjcighjgkbjbdebfhgidieeifddgdceecjihdkcgfekjeigjhcfgdfjhkcegkekdhbcdeedjjbjdieibddeffebhicdcdgcicdbheefdgiehdjfbccchhgfbjbfhcidighikddccgbbehcebegfdjffejdbghfbeiifhcgfkkigieefihfheddjhgjkiggfbedkggcebiffcckbhgkdhgjfekiihdejcikicfkjjhdefgkeiekfdfdiifkfhgdeefehdiikgikhifffbgcgkfjicchjchchgddikihjeeifighfcehbjcggkegiifebhfghgfecebfbccdcbdfgcbbgbhdihdcigcfccjkkdcejjcgiddefjgcfdibhbdgjedcbkfjfghegihikkdiebjhkbjgkikcdkkiechjdgdkkikgbkgbbhieefjhjedfdhhgcdgihbgijhcchifgkickhhjbhdbicgkfbbkfjjcgdfhjbebfiegkibcggfcffhfjdjkjfhckkbcfgcehfjefkkkhccjdhifjdccdfegckcccefbhcddddddffjjegihhgjdchbbgiecfgidfkiegeihdghbfdbbkidkkeiddjjbdfkidkjbdkjegddcjbghjejjhbceccjjfedhhchejejhbkhdccgdjddfhdhcbefgccfijjdhgigfihidfjkeefjhiihcgihfiicehihghcddjhcgjhjhkdkdcddidbijjdjbghbhiefbeggifkccggdhkkgikkebbhjfjecechgcbbckjkjbckgjbckhfcfjehebjbegbjefgfgdbfggibhggkbehdejbhhhbfckedihfhccdhkckfhidhdiekjdgddfjkfefijcbfiekcdkggeidkcegdiifgdgbfhfedjfefjfcjikfbbibhkecjfgeheiiggigkhdfkkefjgbdchfckjdcfgihdjhjfjcifjcdbigfcbccgbgehjbgcciigbekccjjeddhkfkbdkigeggckjgdkjcehhdjfgebigdbcfgdfeeibjgkjegdciefkjcifjcefkgkfehfjcgijccbikkbddkdjecjedeiijdeefdiekdffiehdkdebbcfidfcijckbgfdebijdhceddcekcihbgdkidbdidgigiebgggibcegdbchdhjbhdjgkikihihfggeebfedcfhikcbejcjejhbebcbfbebkgkkfbjcjjedegibkjdeebjfccfigjijkcggcdbhkhhcgjeikgkiijdkjbfggefbiffgkfjeejhkjhjghbgcefkjkefigccehhigihbkgfiifdkcbddjgjbdbefeebdkhecdgfgickcijjhkhjbhkebekhchcckggfehhkhgekbbeikbghihiggjeceeejbkebebehhjdcgbkihgdigccgkdgiiceffffddeeicdfkhcjckjbebjfkkddddijejbkcjfgifkfbbckdkekhkefgdicdjfcifckfffjggfghjjkefikdcggejcihdecbkchfhgegjcfjbjhbiigcgjhgfkhjkeegkgcgkbceibfhggjegfekekbckkjbedjhefchdjcfbcdjhehbchfdeebjjgekkejeggfgjdcikcjjfbgbcebbjfgfjijdfkbdfbhhbiifkkkjkcgbeefcdidddibjejhdhcbegfbgfieekkfkkjddehgebjceccecdiedkdbgbdbgfkigbfjbgkcjekefedhbifjddbjjfijjibffgcjbidgdhcckibgkffdhekbekijhidebibfhjkgijkfgeekcbfjbikiechedhfbhcebhgdiegighicigkekgbjdghibkebfhjjkchjifggjffgjdhkghjejkjfjgdkkceejbbcjibhfhjcbhdebgjbcecdjkkddjkekjgchjjjkbkhigkbddekkdbhchiddgcfiiddihdchbcjgihhhbdhhebbgfhbjgcicekiggcehkhfcbickcbecedbfkedjdcjffjchibjcehkgejekkddeihjeegkjfkdfcfcbhdjkgcchijdheccgebkgdkbkbfehcjjeecdbeieifkcgjejjchdgcibhdhfdcjggegicbjjkbjbcjghhddecgjjbdfjfkhchbdffjjdgbjhgjbiikdgkhhjgbibkhefkifdgjbbihidghbchjcdcdbechefcjdjkekedjebcjdckbbdbbdhgcfkhbigijefbkkdcbeidjebcbkcbgefebkjejejhecieciijhhechckkhdcdchdegbcjgedkbhcieegcjiccejifkehjghcijffkbbhgibfbfegfbjgckihgegjkbjkebcgdkjdkdgjcjkbjbbbcddedcgjikckhbdjebcbfhgckkbhjfgjcbdheckecbcicfibbehghjecihcfechjcbihjgcgdgiebheehdfjhbficedihifbeffbeidkjcccidcdebkbkiciiifcgjbhkbdhbbjhgjihdbehddidceheciihcbdgejchgjddccijkbegfcjjcjhihchicejbdjbfckgcjhffehdigjcdiifdicccjkhdhegcfdeegeedgggecfedhdbcheeefbdheeeidhbkiddhkddbifhbeckfihbbccfieicccfkicjbekccegjgefbceehiecjeecdkikbgkegdbcbjbgfibbchejkkdfkkjfjhikfejiiidbgkcigjfhiheekbfdkjeikhecebjiejgkchcdcbfgdcidjhfkjbjbgjkfegbgjkkghjhedeidkjfghjececdefjfbdehhgfkdfdekgicbkejgfghgcfegkbcbfjjcgifkhkcfkgbekghdfkjgcfcjchgffekecciidgdkgfbihcidjhihddkcdgeciegkcchiiejbcjbgdkjkhihjjjdgghjdiffjgdbhgdccdfkejkcefbgbfkffggcjhhgheegiihjcihfjkecgcjbfjcfggdjijbdeebdggdejgffjfcgibgcjeebkjidhkcciieiihfdjjkkjeejjchfjibighcedbdkcigfdbfccifgejhfghfkiidgfcegcgbbcbibcccfkhjhikefjijdgdkgcgkeicbiidgjiddckekfbfejfheejcfjcdkcgcihhdfebbdkcgjgccdbbihgjgfbdijfbfgjihcgchbccfjhdbefijghdjjegkbkfkbkkffgcgikeiebfgcifgikgkgekigbcedhfdkefgffidbdhhfgjkeihcbfcejdcddehkicihccbjbhekbdjgbigjgbccdkcdejghdfhhechdfkbbbifggdjjbdbggffgdejkdcbebfibcbedehbckjcjccfdjbgejbhkeehccdjhgdbkjgkjfgiiijbikfddbdifcgjdbgbbjcbkbcgeheggibkejhekdgicfegkjkdcchdhhfdfdidcdkegckddhejkffefecgidedgdjibkhfhjigihdeckikbbfkfdjkjhjcfhefecgbjcebkcbieghjjjigefggfjejckkiiibiejgbfiehkfjdbihdfcehjgdciccdkhjigbhbjdegefhdfdeeidgbihkgefhgbfggigkdjfebcfbdfefkjibdbcfgicfejkecejbjiibebfgkggkekgbhejfjecfjhdccbhghgdiibdkfgbgiffkfjgfcijgcgidbgjjdbcfdcggdffdjdbcfiikjhibiffikhdkjbdckeeekejhdhjieigdifcgbbfbbehieeifkghjkhccfieggbgehbkejghbhkjigdhgffcjhjcgdbdhkfcffikkfdkcchegjifgiicdfjcddbhgjicfickgfdjidibffhjefkkikiggibkfjhekdjcefgfecbkibfkhgdekbgdkieedhdjhbddigdfeccgjffgkdkhggheicehcbkbkdejkfggfbgcjgibibeebgfgfeihidjdidjkijjbhgehcekfkcjdfddigfhgkkedkjeifiegcchedgggecbjgcgidbiechffidgkehbikcdjedfjceegjhjhbehcdichiejekkdigfbkdeecekhdekcfdghjkbhjeeehdfkidffhbhiieeijiefdkggbbcikhbbikhfhijiicebhdcegjbgcjkjgcjecbkdigdfefdedckbhjgccbhjkbgdbjkkckifdfefifciciffejkcbifjdkekkidffeiekefiecdeedhfcfckbdcghihecebbjjkcijhkbekjdbcbhcedddfdchikhjjcgcdbjgeigjegjhgjkkkccfdkejecciidibkehbjdhfikicckjjbeehcedjckfedbdiikfdjkeigihfbjhhhjhekdkkeheebcdggkkgjcgjikbkgekjcffbdjgedhjgifjgehckfeffgfkeghbikcfckjefckhhhhfhchebibikdjkekhfedhbbjjgikecggkgbhgdhgddebfhifhbefffibiedhejffhhdhcjfcjbfjiebbbhjgifiicikigcedceidcbdkckhdhhbjikkgbdfbbkkfjcggdjbhfedbjdeebibgkkdgcijggjdecbhdjkjibhhgkdjikfjkhghbegihefgiikekkcibgkccbchbfgehjfeidicbbdkidkfchgigkfkbgiedghckijekdibddghdcfjgicjjgiebjfikhbgbgbjjddkffeifgchgdifbhechkcjchcdggjihbhhdbhdcbebcfehkfhccfjgekhfcdddfhcfbkckigcdhdjejccdkhjegibjbdibbgkghchihifibgkcjhebcfjchiedbijjcbifhcigdegfjidfcbehhecigbhcgbjdfhiehkdckgjijggjfcggdkbbieghfdeidggjgcccjjkihfedihcdcedkdkecfhgfebikijckfhdcffgjdgieekjhgidhbbhggbececjgbfhcgdgkdejdecbjdkkkbdedjfjhdeiikjbfcfkgibgjhdeeiefbkcdfdfbeegkhbhihehkfefeijcgfeckkjkckgebigjjbffijbckgbgddjhjhcbdghdkbdhbbicbchjeckekckihdbjgdkjkffjggcgcibjckedjkcikfhgicghgkfdjjgehbbghhhbibkijcbhecjiijfdfkjikekjgfchdkeeedikbfkijidekcdgkibjgdikddjeggfbiibecbghhbgcbhkegchhbdhfkgfgbckdhjegebfiejjccdegfjjcfgckcjcgigikjiddbfcfjcbfjkkgkgdjiiifkghjbbdfhjbjdfiigibehieficfbkfccjbkjkkgfdiifidkbgfdhffiifcijceffikbfccffdhhdbhfehcebdebjejghejedfiihbgkddhbciehdbejjkbcicicfieibhjdbkhbbegfbifebddbcigidhhdhbidbghkiidkjhkikjeijkifhgbebgjddkgcgghcejcidkjeihgfbkchhehdgidfkjeheidfbcdcgekiffcfcjdfhjjjkbhcbfbgecijiggfidcjcebhbikbehhidiiggkfchejefbjcikeddkbbhjccfihffjjdccdjjkjffhbijebfhbgghbbkjkgfeggjkccbedjjhkgdficfbbjehdjiiihifeeccfjkccdfdhfedfcegfhecgbgicchkcjhfihkgcjehcjddkkdgbgfgejkheciffdgjgcjcfkbfdccbiffhihdfegjgbihddefjbbijhihejekgiifiicdfgjiidffhhibidiibjgcigcgdhdejddbiidkdihiiihgjjcgejgjjjfgjfehbkcegekjggjikbhciciiififfhgeejdbhfcigckchejdiikdkfddbhjejghefbjeejihbedfkddjegikbgebfjbbfkkkgibhbckdchbcbfcickcbfigicjjjikcjghjigjdjfgehhhddibccechhkegjbgijbbgibjkdifcbhgbdjcgfejkhhdbgbedjccdcbbbhejcejefbdgiijdkhefghbffcdfecbfjbjcgjbfbbdffeijegjekghkefcckgeedheigciefkkjidiicchhjhjcbfgickkggjcdigkcjihjgjfgfccicjcfeffjebegibhejhedecjigejfkgjheedeefcccheecidcjkjejjbhcickdjefbkjdfkkhgfidegdefkbcfefbehfkcghbiikdkhdhidigfgddkcjjdejfkgifhgkicijbjgfhkijjbcffgffeijjihgeihggbbkejihdgfdiifbkfcejcckhkfkifgebkhbejkegbfkccjjhgijfihjdfkjbgkbjbjjkjfjkbddfigfkjchcickbckdddedkhcbdkcefdcbhekdgfkcdidegekeidijkfccedjebjhgebjdgchkddeifhfhkkceiiieihbfidbhjcgffcihbgefkjifgcibdhhcifcdjehkejigghfgdekcjeejekkfjejdifbjjjbdbicjgeghihkefgdgdcdbbdkbbkgkcehddgebiedekjejdkfijicdkhkhkicffgbgbhghdjjdbgkbgbidbigkefgebihcddiehbkehidgcibkegceeejdhgbbhkcddgbgcjbkgjbcchgjeegjidgcgfdgdbchefdjddchjikjickjgjhicciggcijghdhkhigffebjefbbjbjfkieidbfbhjcfdbghhihkebcdgigegkfdfkegfbiddkgckdhkkhgjkdjgjdecfhcbkjbjfcghejfefgchjjdkkgfebjfffidbjkbejhcbfjiccfdbcgkbeejcdidekefhiceigghcdgikghdccbbjkfgjgkgkfgeehicbigeggehejdkichhbkdkebciceccebebfcbdhgbfgfdiffdjcdjjghehehbcggjiibgfckbkcccghdfdfchgcfigkidgbkiciicdkjdcjfdjibjfchgifcbgdjefkgcfefdjjegjhhdccfckbbehheddgbkkceiihgbiehfjhbfjhccjkhgedjehfedekcddgikjihegicjidkfjghiffjekgbcfekhkijcjkbbbhidbefiehgcbfdgibjikbckchefcfhjbikgjdehiejfiebhjfhfbkkbedkcjdcbckbjbdjbgffgfbhchheigfdhegjjbfdijbjfdchfbgdefbcciheffcdigjkchbeikigfhddhjdhiejhckddhgdcjccgiegdbdkdjiffjcifdgkchjdbchedbfjfjbgkdiicebeedbbggjjfbidkhcbdbiccccbhfgjhkcdcjcechjfegdjfckhefdchccifhjjbhdhgbibbikjchfdcbfijgkkgehjkchjcbegekkgbcjkhecgdfdekgfcbekffeeccjidjgkgiihkgbcdeigkdhkhdkfdfeikeejdgfhfkbecgiebdhkhbfhkgcigcddkcdegjfjjhgfejfdbjihedcckgkigbkdhdkeejihkkfjggcjhkefjhkjhhkfkihjbdfeikfbifgjcbfcikggdcijdkdgfcgddheidhehjjfgkhieehkdkdhdkikfcfkbihbkjchbgihckjgcfjcedkeikbcgjchcgicbkgkhkgkgcgkifefgchciijkjcghekhddcbgbhhcjdbkkbikciegcjebgbbhiicjcfdechfefdbhfifkjhkhgbigheiedccfgkehicfkdfgbigibidicgiijdffjjdikkiekdfhjehhhcbdficecejbkjjbbehbbkbiicbbeibkgkgifkihfihiefdcfkjcjgdekccbkjcijhgkkicdfdcgeddigbjgkhbdchceihkcfefcebikdcckeedkckhieijfjjcihjbcehkifjjdkbcbdcjgdhejhghdjkcikibeejkkgcidgfchgheeikjhbhkdgiejijciebikjkcgeegejhkehbiggbecffdkhidjgkgkdfbdjiibjfgkjjhghcdeecedbjjjcjdbfgehkkbfdjhkgdedgjecejedchckbjjbgkfjdcccfiijdjddgcffdcdhihfhbffegbciihidgddkgcgjbibeddhcgchjcihbfcffgfghkddgfidijjejgdeegbifjdcbighfcefjhbbjefjhcegfecdiebfdkchfcbehdeiiheikikiekicgbcdjhbcbijigkjhjdieihfcegcdfidfgkcgkeggkhcckkgjdebgkfehjegdeiibjiebjkhhedgcfjcejhiibhjdgjefddcggfkchifgchcbfgiekcekbbibdkghjjkjekdfkicdkkkieifjegeikeffgjefbccbedjbjbhfhiibeeifjeceggikfhkdihbfiifbkcdbdjdkckkchdhddddhghbkjcjhhhjfigdijehgfdefcihgjbbhdhbfkghekjkiiejjdddihhkgbhikgbcidckfbigfbkgccgfeifdjbigfckkefechjjfhjijefhkicghijgdedfjgbkbfkcfkgbgdhchhcekikddffjebdchjkhcjjkkgkkfekccfkigjfddekcfddebkchjgcjejfdfjjcbdibicejhecbcfidffkfgjibdfgjdecgdjjbfigfhfdhffcebjjihgccfeedkjdiebiibgeddffgbejkihfhbbkfdhbjbhkcfcbdcgegjdfibdigigcfjdchdbbdjcbbchgkefjgheckbdeiddkbbbghgjcegffhcgbbifddbfffbhgcjhdhgcddgckiegeekcgcgkkcfikfjehcgfcjgkdjjfhdebihdieibfjejeehhkikgfekbjceeeecigjihichiihebhdfhhibheifekcbcbbkicfceihbjbgkgijidfgkhihcgbhedifbedjfihjkdfihegekidjhjbddigddbigccfkdcbffgccekihfjkgdjkiddckkfbgdkkhfibifebkfddigcebcggfdfgbedkkhbhibibgbhjckhcbdckcgghdjcidkccifjjckgfdjjigcebdkhfcggdjichbjjgfdjbhcbdfefeifcejgjedgjddjceeieckekcgefedgggbdfgecjgfcdkkbkgeejbihbijkcibcdfgjhfbhidghbfedicbkgfdjecbhfkedfhhciifcfjhhcbbgjcgeicgffjfigjcccdkcjfkdbibibfhgcjhcibigkkdeffefjdihjheibcedfdcbfebbifgiehecdeecjejdciddbfihhfkhefkfdjihkedjecfiickejcebkgfffkiggbjgdkbcefdckfhhefkdhhicjhkcbfdbkckdjdcghhgfdcdhdjfbfhhciicifeffffjbkibgfgijffhicigdicjgkfgfjhgffgbebdehhdehjkijeegkdibbfjdeffgkikhgidjjeigkccibkhdchedfhhghgfbcbjdijghfbceehkekhidfjifjbjeceehjkdbfkgddbkfdddibccjeghiegjeehicchdjfchkbkidhcfcebjfkcfcfghbbfbehbdkckjbdkcfgkfbcbidkhiedhfdgjeieggfiiihehcbhbedkidjekffbjfbfhjgbiiecikkddfjbcijbfbbgkgbfgjhbcijidghkicgdkdfifddbbfbhjkidjedkjebcfhehijjfehjeeedicekhdbdeikfkcgifjdhhckjkcfgkibegckgffgdifbfbhcjebgickhbgkefffggfdidkdejfdfckjhhceihchfbeekidfbjdcchbihdkfhgeibjcbkihbkffkccgfbfjihbcfchgcfdbeccheigecjdkehdjkjgdhhhefhhhfjieechhegcgdheidbkdidecegcfdbicjfcgjhgjhhfdfcdekefkdcfjhkddkcdigfjkbiedbfbdfjhfhgeidgcfheickfgkhhjbbbedfccdjbekdcdhhhiejjbfccjhddeijhddbkggdhjiebfficjhfgebbbdfdcbejidhbhckfchbegehikfjjfdfkkdhidegfjjjfcfhbgdgfcbjfcecbkdkbfcfghjdgfcddicfhcdcgghbddkbbbdjkcgdfgbjiiehhbdbkkdjhiifibfbgbchcdjcibfekjcfbfikiiihegkgihghgjdfjgddgjckhcdeegjkcbjgihecchfdhceekgkchhbgkgkigghkjbfjhbgjkfeeeiebcbjefcihfehhfchgjhbjekhkiddgiikdjcccckeecijhjehfccdkdgfifgfjddjkhhebcfcgeijddbiicjhkjgdbdkibbehcihedfcbbgbhkfcfkfgbbkcgeebhkcfjbkfkkdfgfkkeigjjcffbhkebgedfbjgcfkjhehgeidicfgbeiededkjbjkbkhbieidiideidgbjijdjjjdbddgdbjkhibdhhdhcigfkfjjdffjdjeekgiefejdfhkecidedhcgiiiickfechhdeeejffjbcehbdhcckjddchhhhibbifgjedjicicegfedbkgjcjccchjghbiibhhehjjbdckeigfffhbhegjkfecgijhhfgkebgcgkggdfkfhcbcbkdjdkjkhbebfgjchejefhkjcfhcgeebddbijfjffbjdbdfhkjkifkghcbhgdihjcgeekdbdbfkjigehbdhgeeibfkbbheicdhddfkgdcgghjchkhhjhhjhicgdcikfbheigddickdgdkjebbhegebcefkfhffbeiicffecjddjkhjfgddkeejchkhfbifkhfbkddkjijgdhcgdcgkfkkgkjhebfedkdhibjiigfgdigcbhccjbgjjbdgfegjfgjieikfhchfdkjfbbejgkfjbjceiffgdbbdgjcccbggighfebckhfhfcfhjcgfgbjiccfbjefbikgkjficekdjidijkjjbdgdhkkihdiggdkdkeidfbdfbdefihhkffejiieceeeddibehgcfbfdfcgjbigebejccbihdjfcbhkbckicbcdghgegbehkcfcbbegdfcbhhfkegdjckhhekdhhcifbjcbekegbfckfdfjfbjjkidghegedihjfdehhhjcchkibkgcdbfhdkkjbhihbkjigdbicgkgihecighbbgchfhgeikcjgkgcekehffdihkkeddkcehcgdekbkdjedhhgggkjfddbjhibifkegckegkehechbgbhddiggihfjdheedggfbiiccdjicjkifihfkedjgfbefjbchcfdkihcffkkcicbijfdhebhcgbdkddgihcjfkgbejfcjfkckcgcjjfgkdjichggjgbiidcdiijfcjceijebhkfdikejdegggfbccdbbicgddckickdhebeedidjgfbkbehkiddjgjjghkikgdedgfjbheibefkjcjghcjieghbiebihhjjdikeefkhjkdgcidkeiebhkjidfjckdckgkdkcfbhhihhhbkjfckcfeeddfkifihgjkiffbijbfbgbfcjkeckghkcdibifhbiijehhjhdhjbgkcbhehcdbehhcddekghedbchcigdedgjehbdfhbgdcejcjijcbiefgiebdjbgffejfkigckhhjcghghfckhikcbigkkggcfkgjjiecfjbhbeechiceiikebibkihicdfcfiecgjgeebjkjekbgkfkkcdhbcbcdjbddcbckddcicehhhgigfdifcfhjcbkgfcijdebgbhgkdfgbikjgdjcjiehccbgjhcekbcgbccjdkifikdbbgfckkjcgdfkjfibbghihcciebbhefjhebkikkkgkgbdidihhjfffjjhdbfcbigebjhgjgkccjkdeeegkdedkiidbgfdfdecgbkgdbfgjbkdgiggfgebikjfghdkfdjjefccijhjgifbjhfegkcejkfhejhkfhcbkdkffjjkcehdhdjjiieikbgibjebdcbbkgbhkjbdjbhhbhgigdgdbdghjffcgggfhkjckeijckjibejekgjkbefchieccjhidfggfbjfhdhekdikfjhdhdcibgbcckkkhfchhbddbckiceddgfehdfegeefdcdeejdkjbihebkgbhjjeifccfdecgkcbedgkcbhcdbghdkgggckgdhieeejcgciicdebdgdikjfkiccjfgfijjhkfcjbfcbkdedegbcffkbicekjgihhghegjbkbjjjgkjigekcfidhhjjekdekkbhidhbbddcdhhhkfdbbhfijfcjhcekjbigfbfidhbdegbbejgihdeefkkcikjfgejjjddkkcgfbjbfkibhbbbfdkkkjhbicdkccffcebbgkchefeijjcekkigikiifiicdbiicdceikehbgifbkjbiccidikbhddgbhiekcggdgfcejifdhkdcejcjehkjihbjcikckcikdbfcjgijkkbefkibedhhhgechdkfggkchcgdhcekigikjfejjcbbgdkdiehhkjbhifhhdcecbkchhhbfikcbbjkbkicecgijgcifgkjjbbfehebdcjbfjkbiddffgfehgegiidckbbcfkeeheidijikkfcbffikibechdiheehieehkehgejkbdjjkgebfkkdbfbkbejkckkcbhibijikeedkckfhcgiiegcdkckdeckbbcgbhjfhfcedhhbfdiibcecheicjegegdekkedicfkjbhhebfhieiddbgidfddidjjbbehgjcikfhbkffdkdcebedbkfdbgjgheihfkhccjbkigkdghcdcfeifchibkegbgciijcjigcfjbebbeghjfkbiebijjjcebicfdkeeeecjijgdggfhjccckgeigjgfccfbjjgjdefecedfjbkehkgehigifdghhkgibkiedeibcdefjihihhghgedkefbgfbedbhidjgbbfkgkchhjfjfghgeegidjfcjebfkjfgcfjbfkbgcchiggcbekdkcfcfeikhcjfbjbckekdbhdhfhgiheejghhifgkbbbkicbidkkbehciejjhdfejeeefjegekikbcebfdfkfbjjgjfdbffbhhhedggfdigfhffiicbbifkcbkjhjdcfchcjkbgghbkhiigbedbdigbcjiicjebgkfkfkjhcggjghcekchghedjjeedchhjkkjgedjbikjgeiicfhgfcdjgfffihjicjgecjbchbehcdiddjdbecjhjjhhebfeedhcgjhidjedkhfbjefggdekfcffdbjcbdcdceckfhikkkgfdebddkiigdkgjgichbdkcffbhjfcggkeihbbjikkdgbfhiidcjegjjfhibbjkfkdgcdjhccicekjfkhghbiijjggdhffgcjkkgkfecfkefdbbegedgkcbcbddhkhhjjeikhgkfhkbjcffbdekkdiedcjfhjgidiidgigfkdhgekcjfjbdbjdkghfgdcgijbibiiikhcdkhjffdjehgijfkebjjcjfkkhhbhbjfkbdkckbbdjfibbkbdgegdcdidbhbibbbhfbbefjfifgdekcbjgcbdcbicikfkejiddbdkibhjghkjkejffbbjdjbficfcijjbjbjkdcgjicedcfkjbcjdihjckbggbjbidbffckhjkffhdjejghfckbedkcehcceieegkeghjkcggjkgfibcjfjgggkiicbfdfeiiekecjdejhkejfgbbhhjjbedkbehhifhbekfdbgckdkcjijhbgchgjekkbdcfdhdkhdcijbiddffdbjbhcickheegihgkdbifhgjkhdeieceiicjjkcchbjgfccifiijjcgejgiiegjfhcbjgigghidcekccbfgdgjehhggdebgkjjffcggjhcecjdkjbifgfdffekdiekekgjkckjcifidhcjegdgcgjhgffjggkhdfgjidckfifdfbbikhhikhhjfhjjbiegjdjfjcikgiecghicfeicegffhbkdkbjickkdjkjhciegegidgfjcdjjdbdhhdihfcbcdcickfhddejhhbckdkjjkcibfdcgkbcbbghccekfddgfdhjgcjffdhghdkcdcjecbjjkkdhjhghkkkdcbeikibigbfefchhgbcfccbkjjcdhkchefhdiidjhdgdgheghecheigfddeijfjfhbciigicbgcfidfbejefjcekiicdhehiidihcfgcgeidihejdbkhdeibchiihjgkehdfjckegfbcigkjfdfkifhefhihghkdcjgkbjgeiifghdcggkhkeggcdfeggbjghdkkkcigfkjbhbegdddcikhfgggffhgkddjdibcjhgfdhkifcckejjddbbcceejhcbgjjkdjbdgedbfjfbhfchcjideechfchchgcffgickjeegjgfekfigjfdkfbkhchddhjjifcecbbkfhigckebghghkigfjfdfjfecfeheickeedegjfjdkfhffebiecjekdfddkghefhkedkfjddbchkfiffcdffkffifkcihdgehgihhdejhjkkhfcgcbkdhcbgdgeegkccihekjbcdghcdchkibegfkhfjfghdicdfifcjjikdcjggeddjkbegjciehjibcjihdhccjihcjjiijfcijedjbjgigghfijkkehgfjcbffifhiecdbbfckhcghcekigeejcjfgjffdifgiigidgccdjffhiekccidgdgikefejdkcjhhikbjkghkjehkbckkdheijcckgechjkchccddkbdeggjdjjiefddihiiehkkfkibdkkehkheeekijckkfgdebkbdgeekededbgbjkfeicfejdebibdcjcgccghjcgckkbgdidkedfgeeghefddkjgfegcjkheijfcigkhhffbbgkhegbfibggcdgiggkeghefdedfiejcgjeedhikedkciifjkbhfbjiffhiekhhhdfjdbkhebhbhcfhddbjbkbhidibheifeehidcgbchbbghjhdjbfhdgjjgjbijdjihjfkifdchekjgegiceihbdkgjgdgigeegdbihhcgefihfhhkecjhidefebekfjgihbkhgbfgigedbdkckdgbeggeceecjifecifbchhbjfcbjjegcjfehkfikhjbjcbfihgffkkhbgdhbkcdibhjechgefhkkggidcgjkkjfdhiidefdibbcjgiegfegkbkdjccfgccibfgkbckhhekfedcfdbiijkgjhdjjkdhihhceebkhdebdeidgjfgkkdkjibjfkjikfihjkhcbfhbikjdkbjcgjecifgcbiffchfeggjicifdcfiibjeebhcehgjfiicjhhbcjfgcbeecfhgkcdkgikcikibccddjhgkghhdkighkbddhfefbdjfgfhgjcbebbbiggfijefiiiceigebgjggicigdiefbhcbbcieebdckefbgdhbiiidckjkhikegieefhkediebhjdgfighecfeijkceehchihejddghcfbbgfhgiibdjgceekeckdigibbfjchdbjbghefbegkcfegkfiiggicbidhedbkbgjchjkkejickhdhhbkhceeekbbbhjifhcedidghhffjkkcfkceefcbfhfijkkdbgefghbjicgbkiefcjeccgfchbdgicbfheiffhhgdhbjdggbhehbedfcjiigbfcgkjfkhfkjghdidhhkgbkjjkhdkhjbkfgcfbjihbekcbdejkgbfdhedcefhdkkfecijfgfifggfjfbeegfgfghkjfigefecbdcbhifjjgekhjkhgbdcjighegbhdfijfjifdgefcidhfejdbkbfbjcgjkffhhjiekekekiegkdebgfekdddedfkekfeghchidjhbechjkihieceeedkfcfkfhkcbfffgjfhkgkfbjfbkbekcfhbkkhbbhddfcbjfbgdkkbeekeekejijbeddhfegfgfjjfebedjbbhcbbcjbhdkeihjhhkjighkhgheicehbiikbceeggjdjjeheebhccghhkiggccbbgkfcbibicfjijhkejhebbhiegihhkfidghhbhgggjfgfjffbddgkbheedccdgbhdjeeegebkedbjgjgdgbiigbcgikedbedhbekkghhdkgkikcidehijgkjifedcjjcfijhgkbfkbfejbicbjkedecfdbegibjcgdfifbkdfbehdfhjhgjkjgfickdfeihifidecfihkegikedbihcdhibfihejekhgbijchcddfbckighkcccebdjkjgbgidhdbdehhkkfkfjiggdbhfifebbejkkhigidgfiefchdikjfijbihbgchigjdifjhgicckbfkehfgbibdkhdfdkehbfhbdeibgifbhbciifigeffbeedfihkdikkecicibbkeikegdeicgdkbhbefcfffbdgbfkbhdhkjijhehbebkhkidkkhbkekkeijefekhgdghdcccgggkbchicjkddijbdcjheibfigifjebcijjfkhdbceeihdkfbffiijecfjkfbejhceddkjighkjjegcecjfkfkhehekfdeffkbhfhgkjkkjheekhcfkhcibidccgigcjbefhckffkkhficehjcdggddkhkeekcckhbhcejbjhedhheehbcgcbdgefcdekegbgdcedceekdkkeccfkhejihjeicegbgjhigbeeegggegfjhejbkkeegkjjjjeidfciigggiejkikfbkkbcgkdjcfhbjiijfdedcgjbkihkhceddiehcghkjbjciccjgbkhkkhekjhdfihgfgbdfdkbhkchecigjijfjgjjkhfhbcgdfccdifigjdkifcjdiifbeihjjhhhdidgechkifkghkgbhbekhhbjefdgiegddjkfkkkcfiggcecfgjkhdijjdjfdehibhbcdfeebifhckhjbgkijifhkihhjhbfhdihbgifbdkchbfdidjgkchjkbbjbjjhbefikhegjgkfdkffefcgcgcbkbcgjecbckiiikbcgdkkbdfegfffikfgbgdehcfghdkikkhkefhejhddfjfechfijkihhdeiediggcdceifkgicciccigkjebchbgicgfhegghkidefeeehfdibigcgggecgecfdddjebbjefffgcehbdiibfhfkfbfgicjgkicjigehefhhckiegikiiiecchgiedkjefgfcjbjhbhidkgjhgfkcckdeebkgfheidkbdkfdejcdihfjgigcjeeheihiikedchfcfbfdfeibhkidkkkecibcejkhhghbeffgcbicfgdccbhjikijibifkdkjjhhdhjjhhihbdfgikbhdjgdhgbkbhjibidfdegbeekcejfhjkkhkekfdfdkfhdicbgffgebjcgedbecigdggkfdhbcdfdekkeigbiijkbjjibbfeecbeegcgffbccdchhedhejgkbjjdjcighccdkjbiefgihjehkgicdbkgdejkjcegfdijfchcgbikccdbfgdfiehidkdjdfccidgfdbkhfcddfgcickiejjbfgdhkdfbehjgchgdhkbibjekecijckfgdedjfjgekgbegbiecejcckdghhdhgfcdeejgikgeddggjgfjefffcekgddkfbjefjbeeikjffgcedefchjkibjkikibdcbjjhkcjghedehgjehjjkbidbbbgjebchceiecgedggbdcbebdecjfcjfijdjidigkchjjheccgjkjgbjdhdgdegkhgbgkgjbgdkdcfbggdieedhckidjedibickjbccbifidgjgbcjdhffbiibikddkcfgbibckihhebhiikhjjkebjiddcchcibeiihdjgdhjcdfkhdhijcgcckcgegfjchikfideggfkedgkbjfcgdihgggeecibdbkikhdjdgijdijjcdfdbddhdhkiigdkbkkcdbfgihbhcjbdjgdffeedkfchidjfkcjbhfbgihiidibicdfdcjgfiejcbhgkbjficdiihbgdkebkckkhkjehfggicffcjefdfjjgbecfkijfcfegkbihhbcgibbibdekhbkdfijideiejgghhjifhbgckefcggicegchjhcghdbeegffhddkkdebicifjejgihjbidkghihekhgbdigfbdgcbcheddbebeifibgbfejicecdbehdikcfifkgkfdcdcejhjihebjgffhkbeghifbfhdgecffbkbifjccjckheiikcbgkfgfdfddjdcccccgghfdhbbbdkgcghckiifiheefdkdgdediggckfigdckgchkghkhhgjbcdhgiichgdkdkgikeekecccjcbeicbchkjgkhijddfbdjebkiheefichifhifgjhhcdkkfegceiibfgfegedbifkbeiiedfjchehbhhhecjkbbbefhhekdckkjfcgekijefcfibkikdcgficefdccfdkjhbeiceecjddhgggdheeebebihieebbefcfccdefcfjikcfegjcicbdeccfedkcdhfhhieeijddhiejjhjhejdcbjiiijgiideekdjigdchdbgfhdcfhdbghghigccjdcjfhjjdhjchifbkhjffjdkhccccejdcheffiecbeibdiffeejkfifcgjhfccdceefdfffjihfieeedhhbjhechechdgghdjbcdgjecbdgfddgcdcjebbcgbcdjhcfgjbifkibfhiihckkfbijfjgdejhhieijbgdefihikcgbhkkjfhkccihihificidfedfefcckfhjhejgcdjbfjghbfhkfefhjibjcdiddkijhjecbghkgkjiiieegebfhhfhhfdeegcjjfkehifehdgidijiekgbkeceebhgcbekjkkhghehfijifkihgbbikfbdcggjfjijcjfjjbggdkjijhcekkhfekdjdcejcehfcjjhdhfkjcdhcdfdejdgkgjgcdcgheibcjcjjkbfebcfdbbikeegbehkfdkbbjkfgkdkekjciijfekdheehcjbbgffcijhfdgjhkdkjcgdfffgbhbfgfdbejekkeiefkidijbhbgefieiejdhciciejjbikceceihkbeikjigckijckgkddjkekhbbcbgdjbbkdcegdhdjbcdbihhdkddkhijfeeicjcijdgkehggkgdcjdibjjgjbfkcgjhgiijidbhgdijjhbcbigiggdfbcghccfdjdbcjdidfcjkhihedckiegkckfdicficccbidbdjbdgfkhgjdgiccbfegefkikheejggfbdekfhgdffhhjdfedfjecgchkfieeiedifiggibckkcjiifcjdefhigkjfechfbjbgkkhgkigighkekhejgjebgeeefcdgchecbcchhfijbfddfbcdgkfdkfdfcbcgeccgddehcejbebciijkbbgghdddgekdfhfkehihgjhjjcfbdfbhkhcejegdicffhhkidffkfcjghggkhkhkeihfgihghgbkfjbkgeijdkkdjeifgbjbekghefkhgfcibddggcebbfjbhgkfiegeiihegkfdebiggiehckfckejkhjhidhjejbeghkeehiehijedhfjeibjhcdjdjcgcdhbficjecbibdigjghfecbhjjghdcicekeebcehhddkhjjbcdhbdeiicibfebigkifdfbgbgccjcjfhgedgkijhkdgfdfiejgcdhijfgihgkghbhdchecfjdceikifijkbgfjcibkidfhgbbfdhbjjfhjfkfdijecbigbhgccgfjdbgijgggcjjkhgffigidkccbkhikhcbgkcekicjfieicgfhkibbedjfdifhciideffkeffbkegbhhbdkjighhejdffkechkfjddigjbjjdjebjefefkcdjdkefbeecdceccdehijccikegbkhkiikfeiifjiikbifjhddcjhbegdbikbiejhjibbhiefekkdcebkibfkdhdchjjkebkjdcjeikddcihefgjibjbdbbkcbdbdcdkgbbfgeegdehifejgfiefhhigccbhfbhihehfccbhckejkiedhfgiegdggjechbfejekghkdcbbkiigkicciibkidcjbgegibbejcdkjdhjjfhggefdccjffehikebejdjedbiidhgighbgjijcfefbkkegibfcdighffcihhbdhjfkgkgcekcidchbichfbkkkkfiigcjkgjbikkbjgdggdcdgjheekkhfegjhgdgfckdcdifikecghjgjcdbjihfdkkjggcghfchkgjkejidebfdiiedkefjdfchfhhckidkefkhgkfjdhjfikegcffgibebbckkfhgjiiicekkjihdbjjbegikdhgbbhihccfegjcgikbhbbebiebehgdjfiehhbhkbhcjhhigdjcecihgeiedhcegkdbgibejicickcfffcdekdijfigfhdchjcbebfijjihhbeficdejfbcjiccdekfjfkehkhdgjjkfffdjkebkgghiheighkfcikdkbjebkbkdfdkikbbgbjjihebgbfcbcjhjheijjcbdfbjecfkgjidgcbkbdeedgidiffhjihjjeeiegjifdbcgkdbihdjjffdbeekijecbkefkddcebfjcgdkkhdkgjkhjjgebfjdkffbfbifkjdiidchjhcdhcbhghigcgfjegkjdicfkejgihhibijjbciicbdfibjehififhiccjfkhfbjdfgekkdebcjbihhhkijdeddjhekiikggkehgefhefgjejbcdcbjfjifbjfdecheekhijfjgbgiekjccbigifehfhdifdkdedhgecikchcbickfhfkcgjbckbdighgedijfjbkbhhcgfkfekdcdijgffjdhjffhiicjjkjdejfdbiiefdffcgfecfcjhgkchgcgkehjgjkgfddibbbjehefdcfhjcjgbkcekfhhekdhkhigfhedeihjkbbhkibkjekjeigfcihihefgdbghjdbbgdehfhffhhdehikckeficejieeffkficgjhfcbiiffiebbjebjfbfhjfkbkgidbdgjgidfidgkdbdjhckhgfcbekfegkidbhjkhbghgkcffdebjdedjfekfggkibijgkfdghkhjgjebddbgdebdbfjiekdfjijfkdedkedbiciddcgdbdeegjjgigcfjfidigdgbdbbcdkjgdfkebfhfbddihhhhfkikgfjchdhckeihifigikjkibchdbchjfdkckhjeehecicbbehdhhcfgdjdbhhdfhcjhdchefffjefefchgdjddjjbcdcjebkibfecjbgffdjihbjjbijekbcccickkkcdgecickjkkgkfcedhbbkhefbhkfbejfdgeejbejjbbdjddbhegkdjjcdhegfggjhfecbbecbcbjkhejhfghhiefjhkfjgchhdfbchedkgfihkceeejfdkgcdcijffkjedgifiigjkijehkdbdgfdcjfeheehchfkbckhijhfdgffdjkjgjkjjgecdhchfefcdidjihbfchkefjgbghidkkjkhdgjighjiehkfkhgkjiccejkcgcggefdkcfiffikhgchbhghfcekjhefkicfjikigikhcgfibbcefbifideejkebgjgkcjffcgfkdedjhedkfgddbhhbbiigcekhckhjkhbcgebijhihkhdghjjfdeefgcfidjfkfdffehfcikghhgchkbbeekbfjfbhgdgbgfbhjbjfckbkbibehkhgbhdjghcggjghiieckiefcjceiejghjicdbiddjkffiichbkkcddkdfeikiggddgbghicjbcceecigfikkhfggdchjddhhdjiejbfhhgkiccbddjdbfkkeighjhgjekgeeejgbghhfchfbgeijcfjgibggekhdbbejcbdefjkgccedjekkdfdjjefhekjeebbdchgbbedhjeghbjgkdegdijjdhdeeddcjccikikhbjjhibggfihebbgbhhkdeibddibfkbkgedghjdikjefijkjkccdffikdcfbgffffdhbbfijifdgdfigfcdecjkicdfkgffeeecbbbbegjfkjfgkjdckbbdgfjhjfgbkghcfecjidgcicbgkkeiddhbeifhfkdckdjfdgikkfhjdhfdddighegbdijidhibgceijcdcefdiciekkjbcbbhegfgcbckejdejikhgghefeehgfijgjdhkdejbcgidjjkgkhdfcbhfehjhhjejfjhkbghfhfbkeffficefdiffjhhjikfgchhbdfgiddkffckhchhjdhidcicikdfhichbckjbdihjjjcehfeegjkiddhbdbbgcjecfecggkgcbgfeikejejcbgihkcdebffhjebicgbdbikkkdggbhfiifjibjgefihddffdigiegkckbcifbkbbjiifdgkeihdgkhdbbhhifcefccjfkgdkdcgdfeckhbhjhifgceggbbbhgbcjbkfjbededgjfegiihfhkhdjikcfgiigbffkciiddgegfcdfbdiceicfjgdcbfgdbcccedkdfdhffeihhddgebigfjiijbdcejcdifdgehfggbejdfjjdgeicfhebdgccfdjhccdceiekkbcibjbfhhfjgidcifjjgckhijcckgebbckebjjkjdekkgdbkeedekjdichiccgekdbfgcfigckekdibgkcibgfdkkefbdfhbjcgcfciehgcebjgchhhcjbhihchidjhkdhkifddggcdchgjkhfdhjhfhjjgfhbbbjgcebeghibjieegjdgfbdhjgdibgehikgcfgdebjkbceccjccfhgdkcgdejbkhgdceedhkifkdcefechbebdihbcegieihefgddckgidkekejehbgggefhjdeegiceihbdgbbgibkjgedhdggfdghhebdbdefhbkcjjgckdcejcekgkfdefikcibcfdcfbedhijihfgchgkffdbcghhigheccgfkhckigghefhkjcfekdccijdhifjgjfckbgcjbfdddhbkgcccfikhcjjikkkbffgbhkihgjkejjfckiegecdcbecdhgijcdbhciibikgjfckcffjjdchbbdikicbbbdkdiejbhcgikdfffbekjkejbgegcefdkfcedbdgkbgggfkjhbhdggcfkhjfegiccjjgbbgchbhhffedekfcbbibggcdijfhbififkbbidhfbjdieehcehcbdfjddefbebkgjiidehfibkhgjehcfikififbjdfjddighbikjheecbecghhkejikeceddbdkfgbekdifkgjhkjbjebdefffbffffcgcihgihegeihijggikbegkieejckgickbdggjcjjekgfgbcchcjhhhekdkdkgfeehffddfkcdcgdkfcfcfchdbbfikkkcdbchdgdhiihhkjffjikccfbbfcbjcechkdjciideikefihdiiebhkhfgedjedkjhjcihfbhdebfjhkddhkdkjegkdhdjjdikekjkcdddbhdfbkfhhdcdgdkbcigkdfbeckjgcfgebkihkbbiibdchkdcfidjfefececdkihcgbfhihfifdeegdhibkcfkjdeifbkgddbebigddddjifbcikbhbhedihfiicgcffdgbfijhkhdfjceiieeckcedcggefijhgfdbefbidehchbjijehjichbekegdjdbeecdjifjdeeikikdfbcfbjffjkekdhijgihgdjdhedbbjkgcedgdibcbdhkdekhgbhhejcjbcjdddkjdhhjkffbhebhejbgkjgjgecjdbicededjcjidkfbbgdjdfkbgbfjggkhdjbchgcekbgbikiikcfeccehfjcfhbbiihjcfefdfcffdkfkgfihfgbbkgkejbecdckifkcgffcikgjfdgbgjgcdehkjejcifbjjghbbefdehbjchfbbddekeicchggieieckkheefeigbfcbffgdgfehbckcficddjedfcichbdeigkkckifhcegfdhecchdekhjjckdhcjefkgbhbfdbcjbkghkcbedfjgkcigfbcgjccebgghbfejdbbjidffjkbkgibgfckfedjdjjfcieiiffjeeiggfeebfhiecjchgbihgjddbecekjkjfekfekejjffggbfedeeedjjedgfgegdfefifbddddcjbfeicigfjhehjgkjdjfjhkffeefcjffdghcicicjceehghbkjibkdeeijgcekbdghidedkjcikdhjkbigifdfjhjbebdgkhjfkbfkfejfdceighgifjdcjbiffkkjibkcgbfgihfjjciehhgbgidfhiichfcjdkfibeifibkjecfjcgghekdiibhckdccfdgkckfeeffbicgfdkbkbjgdhidhdfddjcjjfkbjbjeefgccfbddijjgiiiefiijhkfdikkdbchdidcghkdkefeddcfjjkfgfeihekiieibikffkgcibddehfehfddigkgjkgefgjfcjkjicfdiddggikeckiejdeggeedhhdbcjbiibghkhegeciefgcdjjhjfhkbibfjkcgjhikjkbfbicfkcigdffccijchggihhbbedfggfcbbhicbihifhdejdfdbhbcghhgbfbgbidegjbiijbeijibjghbkiigeddhdfbjjfggjedfdkkcdjjikbebkdcgjejehbdbihkbcghgjfchdbeggfjhkjkgjjcghhjecicefcgfhccgdkkcidfkgegcfijjjejjecghgidbediciiccijidkdhibkfhhjhghjfbbbcdjkdijhcbgjhjhhdcfjibfhkecikjbkhbhddidebidehhkgdhbfbcfeghgjfehikeidbkfegjkjhbkjdiifjdigidhgieigicjdjfffefjefkeiffghfcfhikhbdbdcjjjgihgdkkbifghddebkkbdjhfkfgbchbcgbdfdghhgcbbbkekihikkkcihdifjehcedffbgekfbdhdgiebdhdhegiefkbbjefigkkkddcjbgghhbhcgkjejgdkceigkdehedjdddhekkhejdfjkidikfheikhckihdfkdbefcecfidbhfgdebihgjfdghggibkeiijjhkghihiddjjbiccigicfjchjgghjhechhfjbfigkhgikgekddbhjbjefhhjkbgkchdhdiejfffbdiffgjdfebdhdfgfjkbjhccbkecfdhiefhhfhbkkbedcekifikhijbckdjfkeiebhkekjikecdkiekbehhbebjicjeekdcgjbebhbcbgfhcgighiihebjjedfgjbidbbhbeibbcdcjdbcgfgjffhehfjdjebfhhibjckhggbfcbckgckjbkgjkibhhhfikkgjfdkjggkgbedekjdiijefckkikekbhhfcbhfkjhcgjdciddgeffhiigkhkgfcgbdikdehhdjhfihdkhjfejgebdhjdejkejedgcgekcidjekjggefkcbfiejjdbiebjbhkgikhkcehciccbekdfgkiiefbkibgicbfjdebkckcfhdjfdkfbhkbfgefighfjeebibciidkkjecicecjekcihcbkhbdkekbdhgbegibhdihbgifhekikbkjffibkfigidbkhjfekbbghdbddbegjkckgjieccegdgbfjcefkbggfgbjbggigkejhjjdbkgdbhjiegggkdjibjcdeidhgecdehfjgfkjjckhbciifjbehbcbfebfkddiehfibfbggbjegkgcfgkcekibjkkjekgckfiicehdkghbgbbejhkkcjhkkidfcfeibbckbkbfekkejfedebidebbbgkjjjbkcdjfbicfiecgghkfhcfhbkbekfejcigghifkihficekhikjgjkgbcijgjedfjhgebhkebehchcefjefkkecihijheejjkdhigefkcedhgbghdcjkfffkkjbikkiieeiekccegjdgjjjbjhcdkjeceijjdjfbdfeifjdiekhhjejccgdcjdcjjkfbjddhdcbgdfhbehgijhjfhkbjcckbhifhfjcjkchckdjecdjcjbeikijkjkhdcjcjhjicjbkkibbeffkkkjfjgkdickgcjfegghidkkhgbdiceffhjkjbcgkbcckicdkbhgggbgbjkjdjgededcjfdjhcdbckjkkeedgeicecbjjehcejhhgikigekifbdgbifihhibifebffchdgfhghfeebjbgibikjdfkhegecjieikeccffggchkjkbkfjbjkfgjfcjeicgghcikhehjcbeceejfjkkkfggibjdkkfejhibigjfifkeffhbhdighjjehcbkibfhbbdgkhdkhbhhikjjcfgcibihbcifbgedikjhihehhdkekkbecgbcjjhhbcjcbifgcfjhjcgdfcbgbbhbdhkcebigbbidchfikdfikfekkbhjbeedkjfkkibjiieekcediibbbgcchefedgfbjciehdcdjihdiejfikhdjiffkfcjcjhefgjdejgjecfdddkcbcjhcbjdekbcghfjbbbkhdcchhkhjbjhieihcjhejfdifcciijjkcjjgeddbebeebkhcchibdehffijdibjjbkjdihihfcggkdhkdcbjdjhijchehdccdfbkcijcjcdfghbhfhcgjfhjkjdjchddfdkcddcihjkecjhdfdcdgcfkjjgfkickgkfkfhkjbgddbcjdibcdkkkckjifcbjbjgbidhfcfgiefgcifkfeikecchbhbghcbfbkgidejijejfgfkhckhhcffikhkkikdfkfhiegeechkfighegjhifjeegbeijdfkciebbcgbkfbejhhceggkbkifhiiddcjggbdhejkikchcdbhjgfciddcjefffbdhiceibhkkekhkiegkfkdjijdgedcededfgbchbjhigkiefkgeedhfjhbhfeibdhcgfibbifdjefjghfkhibihjbfciikibdjeibickkjjcfcjdfccbdjefcchjcgibchjffdhjhcfebehkhhiihgedbgjcefcckjhecgeciicfdkgdckkeijkkieghkidhgbkbfdbhifigedibcefjgeichihjkhekejbcjgjbcdbdekkjehekgcjjkfgkfjhkgefbjhegdiedkegeficddddijbhigdidekejddcichfeicjiceiikjbdcjhbcgkeijbicfgegbdifbbihgkjbebdcfedcbdbgikhgdjjdhcejehfkciiiikibiikkifiikfhhegghigkcgigebghcgjdigjgiijdikhecfdjkdiebeddekbccfdfdkkffehhidkijccgbjdgdkkiekfkkbdgjjdebbgedigggeeffjegcebckfhjjbejebkdgccicfibkgjdggeggjgbejcdcgkgcbkhgihfibgcdgffjjkijifbjgedhdfifhchccicgbffgbegidikeecfghjiekffjebckcdgdjdjbbeijebfhkbfgjeikkijjcbhfjdgidgibjghifcbfgjhcekcciccekbfcicefhkfdgbjdbkhkhkcdefcfcfegigbchcgdccegffcdcgjfkeffekkjghkgbdgikbjghhcccdechkhhcfjgifdegbcfdjjghkikfcdgcdgfickhhdjehcdckcchgfechgbkcieeckkffjcbidckdgebckeekifgjecdjikdgbkckbbhdkkedkjeifdbghgjdgkhedbcjddbjkcjhfebcffgkfdiehibkkbjfhdijddkdcgefhjdjgggjbifdkbbhdjkjfjbjiedcgejhkbiicffcfjkhbbkjefeffhecikicghddbhdkfgbgdkkbffkeggijbiegjfkibjbfijjbedcfhcefiifbhhjcjhfehhfjcgjjjbikjcicbbfgicbicibdeeeebchjhejccdgdbdcejjhbfcfcgkkfigkifddcbebkgjbfhcjhebebbbigciefhdjkeecbgddegbfhgcbdbchecdbbjkgdeihikchhedjdfeiggefgkjgdjdiifegccggbfddgehfdidbkhfcgekehjhdcebidcefeiieckhegfdkjkeeibjdkfkcchgdgfhhbgkkgfkejbejdfeefbfcfbgddcbkkkcekgcigbddddbfdhkkkbfibbjjgdegdejkdhkjjcciidehddfkidjjigfebhjejeebddghfjhcikcdjdjijjdebfffkeeififhbdfbhcfjdehiedfeffkibbdbicbhhigkdifiibjhjjifcgbhdkhdjcgjefdgkckihdkkeheigkbcfgfiebgfjjgiichgdiebfcgbkecjjhghkfjdegcbgicdbkeegdjfjdkgcedjkcfjejddeeebbjfkkgggdjejekghjecjeiejcdgbegccjhfkhkeiihckdjjefiihedhdbickfedfjfdekjeebeefhcggbigbhkbdbcgecgijjdjhbekiddkkfckjcdbffcckggggdjgdhhcccikejdjfigggkkfiggjgcififigbbeibffffghecfggfbdgibiihejdbfgjghdhkedjfkffkicchfbjfifkicgkbchgkgjhhbffgihiefegedfegjhidbbkjieggfjcdjchjcbkijddifjgieggcddbgjhjbkgjeekdkcjekfjchjiekcbfgfjehbkdjjgcikgjfbddhgjkgdddefehighjegfkbjffbcjdhgihceeigckbhbhbjgebgcikkiicijjbdgkfgkcbjeebfifgccdhgfhgjjeeifbeiciekihkhifhgkkicibcjfjcecjegjfhebhefdhijkfdgkejjhhjgikffbkggfhedkdhbkibgjjcggjcfbhhbdgeckebdbgdijjgdhcdkhccbkfjiihdebhfjkcdjghjdgkehdfcjcbhegfkjjigbckdiidehjfceecgkkchhdcichbjdfkihfbhfdjgbhkdggebjjijhibbigchhdgbcfkjjcihfbjkdgbcdccbbddhifjbejeggfjbhbdggdgijbgjkhfcgdbdgcgkkhfbjdehfihgekfkdjjchfkhbkchfhifkjeehgkgccdkkidjkhfcefkebhfdikjbcdkfecckekdbekhkcfkkdbehdfegcjfkckfcgbjfgkedkfigjkdfjffbhegbjdggeehfijfcdjhcgkbdicgkbgihdefgcbkcdfjgcickbebfdjkhifgfdcjkjigkhkhbfcdbdgiecgchfcigjhcfcbghgceecgekekfdibibgjkgkjkfigjehbkigfigkkehjijfdfghehhikigiccdhefjhjfhfkcbjiebjgihkfghghcifiggjeefkkhcggieiijdgebggbbgfffbiggfdiigeefifffecdjdhddibckifbjejckgcddhkbfhhbkhifhhfdjehbidbggckbjjgebihhgcfjgiidgijdfikjggfebcjcgbbbdfjfdicbijjddgcjbkchckkgifjhiieiifhghijjecjbkhgeccjghcegbcihkjfkhjkjbcjkcgdegdhidbdhjkhhhiebidgicfgbddffgjgdjcdgcfebjkceiecbecbckjjbciciighbiigiifcceekkcjejgbciihcfeickkkbgdhijgeeiihdhdbgkjdehkchefkffiifcggcgcbjiiieedgkhcjbgkceihcefbjggeibhghhecfbehjbikefceeccciehekedijegebfkkkedcccbdiefefkefbiedfcbjgbfkifbefdicdjddbjjfcdkcghghifhfcjgkcbccbhdedkjgfcjbbdbdfgieggdffcdiekebjbiecejicichiigkjfkbfbkbifbkekiihiffchegjjjdekibejdbibgecjffeeigjeigccidjhfhfhbidckeigheekbiecfegegdbgchhbkfkhfgkkcecieidhgjkfebedkdibghkdkkbjjifbekidbkdcdchcgegejdicijikffcfegkjiifijekjffkcdbffjcefjfgjjgjedhjbkckjdjdbghbhfgfbfhjghkcgcfjiekgchjifggegegjbffffjcfjdfbcdijhdkcbbkdeeikgbgdbfcgfibciekgbchjbjbkikdkkegehbjbkgjkiedkkjbkkfghcfhekkibedjebhefddfgihdhjdhjheidfcehdgcejcfdgicjhhfdighkcgbfbchigedgkjjhceiekjcidhdbfkdgdcigegejciigkcciibkihigbckhfbjedjghdjdjijddicbjhehfcehhiebccbgcdjehbeekidgibbgggeedbfdcighcjkdbfbjejbcgkihiihgebhgdedcbdibbfibehckfddkghiheiighifchdghgijcffgbjkchghifjjibejdkkjdkkcjkdjbcfjbkjhchgdfdhhghbbfcfecidekiegcfccicbbfhjgdckcechkjdjkhekdgihcbbfeechckjjkdjegddfgfbhhhhdbecfeikheeegdkbkjffjdhedfddhkkjidcgdecbhejbggdbdcckeddbjjgigidcdigbfbchkecjcebgkgijbhcbkkfjdgchccdighhjccfkbifibkcdedhkkkfigcjhbdgjbcefcjebicjehkjgecgecdbkbhkgicckicgkgdcgkficicccdffihhfhcdjhcfbebfjkhekbhhfkdbebfbbffhjifbkgijgikcibhhfkkkdghebbgbjijkhffjkchbkgbibijckhdidcgihdcfkcdidifjjdijheihdbjbhebkcdcbgejegkkecdcbicbddefgcjceeefgbiejkeeedebkbfcbcjibfhjhcbegbcchcbbgdcfhgedgbkhdbehhgeegbhikgiegjiikjdkggjjbgefdkhckgcifjfcgjkcibkhjdfkgjjjgbfdefkjedjhejdgegdikbihikkcfghcdcijfhbdeggiichfdiikejkhchcgfbbkfkkihgkiddidjjikjkdkkieccdihbbgcjfccehcbekhcchcjjhfhghfhfjkcickhbbigcidhgckbgiefjihibgfghfhcihcgcbgbbigeeieghcigcfihgbcggiehbkhcfibkcbgdbjiekhfdbeikkehfjjheigdcebhehebddjkbddjdibkjfiijkkbfichcfechhggeekcjgibiccdhgkficjbebefejgbdcceicekcgjckkeecddkkcgfebeidfgkdhjckibjcfjefhbeecfkcdjkgdfdcgjjcjhfbibjddedcihbechbkfijebdcghhfdkifhbiekbbdkgfgjbdiiigcibjhbbfedbcfcdbbddkffkfkjhdecijcfdjhghcidbechddefcejdbbciifeichkgdefejgccehhhicjjbbiidkefgcdkjhbfjcdghfcbgidffedjjifeidhfcfbdbcffdfbebecfckkkighbigichgbjceiheebebbiiggbkgjhkhjbiibccecejjdkjdgkefebfcbbdkkidejkghhcbdcbdgjhhbfcfhdhfikefheijkhibcdbbcijdgbihfkkbbfdiehigfbjcfkbhkjgfdhkejjikjkfcifjkhihefkhbdiekcikkeghhjhedfbihghickbdjffcijjcghkeedifdhgbidekgcdjbifhjgfdhkjhifdggdhidhfbbfjfgbghcbccdgbefggebikefdgkkfhkedhkibbejeijkedckcjkhbkhigfbhbjibfhgfdjjchjbicdecihcekhdbhchgfcgfbedijgbhfibfdgjeikfekhdgfdgcihfifchjdhkhckbidhhkiicgedfikgcbhjihchgeifdfbkidfbejdjcicdihfjeghcfgdbeecfbficebjdbdbigjfcchghhfedbeccccicgggefkkkbebbjgjgcfdcjchcgegggbgefhjddgceijgiieibhieecdfkejciddgcbgkjhiddkghedbbidjhchbfidffdecefbdjbfbifjifkjfbkcbhekdcbifihkcjdjdkkedbhiekcfikgckihgdhfeigbejighhjhkcibkkdbcchccgjijjgcbikfhdfgdceijekejhhceddfhcjdkbikfdbfggedhekfdejbdibffjgejicbhedhbbfjkidgjhcdkdbcbfjjigkegchbkfiihdjdjcdkgkfjgbehbbdkkgjijfkjigbhjkicbbkgedkkebkfkjkchjgjkkghkhijfbkchkjkdghchdjgfbkigbchdhibkffiikffhgjdjkfgkjjcihigecjdfghcbihcfbcfkjddfdggjekegckigfhfdebdkiciggeecccigdhdgfighkkgcjjchjehbbgkhghffcigdejjhfbccjdfdjcgibkihghigkkicfbjcjkjdfefebfdhbjejehhiebbhjgkbbdejfbbdeihgiffkjgegfjfgifhkgckkhcgdigkbkkbekhijhhihbkhkbhcjhfdchgkjfidkbbffkdkcekkbdiejbbdbigfhigigjkdccbehckijbhffdcffjhkccfceihecggfgekehcihkdgigbhijkfjcefehghgidegghfdhchbdkecdggkgkgcckhjhffgfehckcbbhhkhhhgfgkfiikeigehckedkghgcbkdffhfeehgebjgbibdhdgkecgigficfjkchcfdckjcfddiibfcifkkicijibdckccbkfhhfcfekcdbiefckghckfccefdikdkejbdjcjjebcgbfibbghfhefdicggigkfhgbficehckgkfbiffefbijghedfgggjcfdcceegcechbjfkekhehdfhkccbigbkcbhikjidhgfcjkijgfggecddbjdhgkgbkbdcdcddbccbkfjfibhdhkhhjbkfigbjbjdehjihbbiddehdkibficfidchkibbbgecgcdecdeeikhfcfidfchchbhgkbeebicbbhcikibdjkhckkbkkcbejcieichhejeidjgcighckjichfcdhbjjcgbjdfcgbdjiebjdcfccgjidggbdcfeiiedcfjjbfgbjcicdghkibcjkjkkjkgebjjhhgkfhgbhjgfiikefgifbfhjhehkgigeficjfgccfibkfkdfggcffdbihfcfdjbkjffdejjjijdbkecehfcijfbijfhdgbcbkeikhggkbfhdjcfkcbbgkejijgkjkbkcbdijefidchhhikjbikhffiidjbigkdghefceckkegfkbkfcfbfkcfidicfgeigjcghigcbfccfegdhkkifbkfceikhiigfdfeegjfgebifbkkdifkgfgibjjhdcbckgdcfedjdghegejbjggjkdjdifhjgkdggddgbgkbjkhcifgcdbhdghfbdjgejhfggbjdhgkbefcbhjebigihdiichidbcckiekecgbhgkgikkgecjghkgigbdekhfhggfbbckgbgfihficbgjjebbjjbhfebhbghecbehigjgbcgicfhbkjifkgkidckebdhbdbkcgebjkcbfdbkgbjjghidigjdijgbcedfdkbfkebccfficjjgjkjifgfgibgkdgeijgeeijifbkigefjkebikgcfekkcbceceggekgjicffhffgjfkbbkkibifjekechhjhfbdgfcehdckfjhdekfhckijijkejcdeecicikhikbjibjgjibjgkfeddbfcgdhjdbjgfgkjbkhdcjjjjjfggicgcighbbjbggkkbjeifjkddfgbdcckeegdjkfjeiihbihhcdhcegiedbkkfhdbiibffecfedfffkhhjfjegeddjkeikedjfjecjidjfihfgkcjbfjhdfbfkiijbjebecdfikbibjbdfbihheccgdkiejkeheekfifbcchbfkheghikccjkedckehhbcffbjdhgghkijbdjijckggccfejbcdgecbkebddccchhfiggigggceedijcieheccjjehgfkbgbehegcbbcebckgjihekdicjhhkidhigfgfghibgkejicjfbdbgegidhkjckkkgcecffchjjghbidbdhjeibeihihkhggdkdihhcckekkeheekhfjdkcekbdbbhdbbedckjbdkbgfegehedfejfhecgjkjjdegcehdkfkcggddfhgfdicciijbidjhbbihchhikdiedcbekiieegcdkhkgdekfidkejhcfhicbkbjhdgcdccdfhjffehebkifdjjjciihdbehhfddcjdggheddihkbkehecicbefkhghhibhfefgikdfcbbigckejfcfkgbjdfjdjeefdfbbddjcefcefckfejbbkddefbkhckfchfcihcbijjbijecccefebjcfffdcijbfekdegdchfjcdfgihhfiighfkjdjjifcdbcbkfhjkgjdjgkdbcifgiihdfibhgbecdbeebdbjkeijkiceieghjieefiehfehgcffhcdhbhihcigkgjgkcdfgikbedhedjkkhjdiiejjhgbcddjhdchchjhbdkfbfcceeejdffhkkbjgihfkjijkhbjkkegefhbbdfgfhhiebbfhccdiebhhdkfcicbbcjccjbdhcbgfgekhifibgdcecdfgehfddkkekkjibehgbiebbfehcjdficbbhgeegihhcgijbikehehkdcdgcebhhdhegccddfbedekccebkfgejddfegigfggdhegfcfkehkgecfciebgchifbecdbkijeiigbgbfjjkdicekfjfkcehfbjcfibfjhbhifcjehgjbkkgggccbgbfcgdckfddhkckkbgiikdciejdgccbbcgbibbbfgkijchchkjjgebekicgiichbhjdggieiibchicgfkjehgbkikeicjfceegfegcgfeghjghkkdfdgdgefkgcfeccdbhhgjfjhdcekcbikccffekbiifdddijjfdjiececkefibbjghjkifbchfgbcfibheghbbgiiekeecegddibjdcjkdhiggdckikcjedkiejjcdkkfdjbgdhjgficedckdkbecffjefkhgkfbbebfkefjjgfgkfdgbiebjjccdbibbkjbcbjjijgfjebdjccgbkgcifgbckijgcbgfbkjfieidbdfehdhkbkhcdcijgkffidggehhgfkbddfkfbiiebkiikckkeffggffcffedfhgjfbbiegffekbghfhjbchehddckiejcjicgjjhjhkiidijjkffkkhgfbfjkbbcjhjefkdjgfdcbieddhhdcdchhbjekekhddhcieeeiggeddgbkeicdhffddjkhefhdbkjdcggbcefckgihhghgbebhijegkbcidbedbekekihgfgcegbkhdjdkkdkceicgkcdeebjfkiejikkiebbfbbcfbjhcgbffgikkkjbihjdjhicibiechghdcbkcfcgdjkfjiheeggcjfjdidiebifcegfckdjidcgbgchgkdcjcebgijbfedgidbjeckfhhbcbhhfjjggbjihchebdhgijhbcddkjdijfghjdkcfdfifjcddjfgechfkiggcgbgjfhjibefecjifejgdekfcijegkkijfckjdehjkgkhbicjjfghjfiifkdhhjjdfgdijgbigiiefdihjffbchkjehkiedcccjjecfijicggiggiiddehcjfjfdkfddcfddefggbgeeeifdecjgkbjecgejjgcggfkcdhdifhdggkefdjbbfckkckdjcccfbhicjhcceigjjbkbgjdeccgjhckbfiejkbikdkhfkdekhbdhjdhfdijgehdgdhgbcdhhjbkhjhkdibhjjhkfeekjhigbcbfbcfcekjkkbhcjjhbjfbdhcigbjiibhbhdicecfkddjdcdijdhhigefhbjdfekhcgibijbbhejciibidgdhhijkkjjfkejjkfibjfhibhjciehhdjechihijiediekdekcdjfhggbifkdcjdjgiggdgcedkdjhkgeeeibccghgjighihjdfkihgcfefjdibfbjccghkkkbdeghhbbjhikfcghejddhhcikfgckkeckhfhjjdfjbghfijikbkgdfkchicekgbjfkbkfhfehdfhbhcjhchgcfgdkhfbfkcehdffihekjbhijhggjkbkicgggggedkgdfidgjeccggifkkdicgbjkibfhdjfeikghbjehfkkgbfhdkdkbhgkgdjgdkijjjhjcedbdjdebededjidkjgbbbjkgkhdjebfdhgbbkihcjieccfehjhdhjjjjgdefbgifffhdgecbfkjeciihkgeddciekfgghgicjfdeffhckiedgigjgceidcgebbhckibckdehegkdikkbiejedffdfdejhcjkefihbhfecjhkjbhdijghicbhbfkkkcekdjhiekkikjffgihdkhcckegbfghffgibehihhbgkfhkhficdbbihjhghfjdfdcbbbdcdbekbgejhffbfcfhcfdddijdbdgbdejfgcghjkghcifdhcjficjifdcgfiekfdbefbgdbfhjifdfhffdfihgciifhgdkifdcfbbdcgbgdjhjjiifcbdgbjeefjjedkibbcebjbgeiiibddccffhckghcgdekikjhffdgddkbfedfbhihgbbbdceijcbebkkkcfjficgbedggjbfeichcgfibhbdeefgbbiidhhkkkebhcehbekegeifjcchjkbbkdkdejkigekghejghgfehdidibdkehckhgfifejkfhcfbkikfhjbgkgkibgejdbbbikedhcbkbiikdjijfghicbebihibhbfbccgcikgkcdecdhcdidfbjichcchbhcgdebffckkeeefkdicdjgbkkdbhibgjbkkgdjkjdjgiechfkecdgcffhedeggdedggifjhcbehghcbfihkfhfdchdieidjkcidbibebfhbkecfceceidcgbdhdggkecgegcijkdjhkkgikgieekijdhhgffdegibbjgcifhfeibcfhkcgbbbkhgjjbhckhgijiefeghefibcigfbbbiijcieegcgddkeijbehiekfgbjfcbjjcfgdfhcdidgcegcefkkfdiedjkeikijeffbchbchjfggdgbhdehdkkkbegkfgdjbfcjfbefjjhffdddjdkebkedegkffkjhhfekjgkkfidebgifcehfbbjiciidfbfekjcfcbfkjfedcjebdfcdjickbcekeighehbighihchdjdkbccffgidkdjjchgcjjjjchdjdjgkfdbieijcjdiddhieegchfigifcbjhfibkfchcdhedhicdfdbgjjgijcfgkciedekkffihfcekfbbhcijdcjfjijhjgebibdghkckcefjbefcfcjjebcgcecfkdbcfigdcekgjdhgekiebcfgbfjjbeheihjkbdkjjkkedjffehbgfgcgjfhgigkhfjihcggjccfhgidfhfegfgbbebbefkkcbiddgfjgdhfcjjhbdfiggfcddhggdjhkkickchdibcgkefgbckjkckeighghdfhicifbikccbhidicggbhdidjicdkggfbhjjegjdhekhhkdhgedifdgikgbbkkjgddhkbijjjebcedhfbckgkehkbbfbbebcfcbhekgbidfcjbgddcfbceejbigifjifikbeicbdcidcdgbiiikciicidfiefkjbkegcgidkjgkhkihfcjighcffcbggjebgdccccffcjgjgddecidegkeebgbebhedjbkejcijhekcfbjjijkjjkjhbbgigdkfbjbefdikckghgfddhehbeeiighhbfdheefhckhigcidkdekdhbigkbhkcchdbhbdjdbebcdggbbgcjfejcfjichdehfbehfhifhedbbfjhcccheiibbhdedbfidgejjighfihjdkdghijcfbgfjededhfkcijcbehdhjdgfhiggkbdieijkckgdeihiiikeikfjfehkifidebeiejhckgbhdjgiiigbfbfjebdhgkeiedjjhihkifhhidieeddggifeehjhbbbcbdcigkgjefbdjjfjfkhgdhefhfdhbdkdgifkbiffggejjkjdkeecccchkgdkjkhdecdhchhfbgfikejcjhdckgjkkhjcjkghkkejbfihcjbdikbjkebkdhhhhgbdbkjkhdbgjbfdchhcdegdjgcdkejeegkbehckjggibhhfgihegijkbdekjcbibighebckkfedcckjekgffeeibghhfjeejfkdicegdddkebeeehjfckbijdkiihckhjhghhhfhjekebjciijjkdghjjddfdjcbcbgjhdjhikfbjjgbdebfjhfjhigbegehfdghhgedhjjhebekbidgjjgcdkjecdkgikgkcbhckbijhkbcddgdhieibjkjhdbjjeffhgjeebkjbefchiijhbkfjgijgbbkdcigfggcjkgcekhdjhgcfjfegjjcdcckkkjgfehgecfjfiifijfiekcjkcgfkgdkggbiehdecikjkggfhhjgecfdiggghjgekdbdjgbfebcfdcebjhjbfhbijbkhikjbiidifdhdeeebfhfkcejgbhjbhdcfdfkkbeibcejjjghbkbfccffeddbkggecdbeidgeibkeifcjbgdjhekfdhbghceiegcchchihdkeibjfbjckkkdjjbjeehgcbjffhgifejkdbigfjbebjkhbkbkkjbdigfgfiehcjbiejkhefijijiifjffgedgiijbdgdjhfgifbfbhfcfebbdffbbjjbfebkjccibdgdkdcebccgggdehbjbbbgjbbgcbcdjhebbgfjcjbifkgfgbbfgjhjbdebibhjkiehgkcbcedckdkghfkjkcfebeceeikekjbgdbdbjbdeiihcjbkificecicfhbkjiiibjcdiijigckejcddhiccfjbkbjbkdhbjfgfhkhkcddikdckddehgjfiifdcjccdgbjjddjjibddebihkcgbjdhidkeciddbfdjfefggicgfhihejhidcfkgkkbcfckfkkeihhdgeffhigjfikjecbjhdifdicijgciibefcgbkcekddgehgjkfeejfhdhjhbhhcfjffdfjebebbbehbihkkijidefjkieddckhjiicjicbfcecgjfecejhkjjcbighjjiiegbhdcdckbfckdikhhfcddidbfccgjjkecbhckgkkbjjhbebcdjkfhddbeegcbbeiejeijhjcbfcdhbbejggcfkihgkkekjibiifiigefcbcfhhfbkkdbececefgebbfbdfbgfjkehjeegdehhechficfdkefbkkfkfegehhiiifebkfkighfigkhgjkcdkbcjhifdihkgekbjbkkbkcbifbebdcfghdjcidgikjfdkbckbikcgkcfghgckfiebdbbddbkiifbiefhhhkfjbhckiehibehdikfbkikcfkbbjbkgiiibiifjgdbkfkgkjkbbhfjfgkecgfjfddififghhkicbjcdjdgedjeddkidbcjfbbgjcjkhibfkbheejgfjdgifdeggeggbhjbgcdcbjgdchkcjbhdfcggebjchifibhbbdcdggekfeegdckhjdbbcejcgehgcbffeigbddkdfikebjefhbiiidjijeegjjhdjfeekjbghbhickggjdkkbfejcbccdcgieiffdcebeieghikfbhcigikcjghdkgdfeegedcbikdejijjihgjejhcdhdbeekfdhgfdgfbgkedebdchkfdcfdbkddhjibiihcikdccgdeehhbigjjhhcbkcehicfgeikkhgcdcckhjjhkgihkbjkijedffebedggjgkgdegedjgjfkbhfhicbfdidbkjbkkjcgkghejeifehbeceifkhkdiffgdggghfcfhdfbjecgkjjcdidbgciggefcbechfeigdfidbkicbhccbfkkgfcbjiebjbifkdghihcdgkfbekidbheeibjchdfhdciidccikcffibjbeehgffhfefebdfhkecibjbbhdkjgihbbkgfjfgcfheffccdeibjgjhbhieffbjikhdhckdcegbidhfhdfjdbjkcihccekdhgghdjekjejjidcgdijdjcfbibbfhghedbjfdjbeghbcgkicbjjkiiijghjejbfjdbkhdddhiibjffidicgeedhgkijkbgdffdfjjhjgfibhfgfiffjiedkfikgbihjejejdffkbgdickdhdkhfjdjfgehdfbgkjegehiheckbchghikgjhgbiccgkjcdeiggccbbbfjeegceifbiiekkfdfkcckigghhggkjjigcdfdgfjbkbbckjfkgjdbcbbkkgckdjhfhjkigcebcfdiffgbbgbckjfehhihcifhdjeihgkedceibbekbebecjhiikfckjjefgcfebdfcdcgfgeifiidhhckjdjgcikjdfjdigkbjgjcfgeckgedkegedeckggjefdgihfjicgddbkfijfgcchijkdhkhfjedejjebdfjhgjkfgikecgckfdcdddjgfdjikgibfjecgcjkdgkijfdbiddjbjbdjighckjfeefcdcjckceddhhkefheibcjbfidcdfdikcjjfgkjdjfdhjbhedgkdhcbgebkdgkdbdcfbhkfbdkgghhbfhjbbfhkhdiejbkbbdcijikghegehhijdkbjbciiejgjcecicheikdbbihihdjfcdgckiijfejbjhbfkdkcefeccgeefhbdejdkdccdhfkkfkcbiecgbehgedjhbkjbbibjgjghkjkdjehgbgjbifbikebkcgehicfhifjecbgfikkedhhkdheckdkiiiigghebjfcedfdgdbjegcjeddihchcegihfehdkkjjcgjdeckgfifcdichkfeiebihibfebibceecbfedbikkkjjcjddkbebkfbffkdhiddhccfjegkjdhegfidkhkkiejbehjkhckibbhdhfhbfbkdcbccjcjfbghikbdhdciiehdicdhcekiebkhbjkhfkkffbhjgjdkekedhjjfhddbeceidbeggkecbjbfjbifgffjedfgjeeibggigdjgbdhgdfgfeidkccfdkedbkekhddcegbfegfccikkkcejgikdhhhccbcgfehjkkgcgdikcdjedifbgifdghbghbffdjgifjbedekkdfjbcihkecfhbbikkchcheikehkifiehgkkhkedjekidhebbffkcjifhhcidfkjbjjfbhecgefdfjhchbggckhbfciibdifjckicgdejcbdkbhfhdbjjdgicbeckbgdcigjffdbceidfjfkkgghgkdchefiekfhbgiihkbghjgdhdifiibgjgehckgbcijjkcbdcgbegdfhkdhbjfjkdbkggfkgbkbegdchjbehgbfkcbkhidigfhjkhjgdgddhcddcjkihdgejchbejbcdhdidikiidcgbhfekgggjijkjgbgekgdkfjfjfhgggfgidcfjdjeckfebjfdchigcefhdgeidejkfhhjfbbbjijhdgbhkfcefkjjjkgicbbggfhdjdbeigiikjdgcghhfhhgfcdbfbgekdbehijbikjkfecicgecbkgdfhfcfkikbcfejecekfigcikghbdgkdbibhibeecbeefikcjifhbcjejgffbhfcjbbjhkbbgcjeccjfggdbjgfiehdgbgecdcgjhhhekhideehiihjffkdicikedfgbkdjdkhdjjdkkjifhehjkhjgdkjkkdikkhbdkgedkjhhehdghiikgikkfbkjdhfbgiibgjfhjddjejjjfkjjicjghfbhibghebkcdjcecjhkeikfehbibgcgcdhbhhdfibfcdibhekdcejfekhcbgjcfdkficjgekbfhjkgeicfkfdbdkhkffgdfieghiidjjjcchhhidedcckchdcbbjibjcigeffbkbjgdceeifddbiedfeichgkecejjefifkhjjecfchffbgbhibkbgdkhggcggcdgkjgkkdfdcgbgekdgiffdchkkdhcfbkkecfchihccijgddckejieedhgehdibdidedbiebfdjefdekkhiekhdiibehdgkkccfbggeckdeefcdfkjfbbefhhkhdcjeeekchhjhhhkbfedjkjececfecebgicicjcgkcbhfhgijgigckfbdciiccdkhbjbcfbeckgfbhbcfdgdgiibifgjjbebihciichgdfbjbejjbdchdejbhfjccdbgickfeekbchecehefgbbcfihbkeggbikgfjeekdbdifbhihefbehcefdcjieeikefdckdkfkfcbieidegigkdjbefgfieiffhdiehefdbbcbhiekhhkhgfdbkjekjgceibfijiedhgeebjbbehgbdihjidbjbcbfgbehgjfjjfjdfjgkchdjikghikhkdifidiigbfkkeidcfggkffkjkiecdfcijbfikgcjgjhgfhhegehghedfcfdebcdfidccebkdjghhibecgdeghhjikkjekeijffhhcdjchiffjbcigifcjccdejbfijeeibifffffjhjccbfbhdecgkfbdjjkijhiggekjfjigbfidkfbdbiccjdehbbfddcfcejhfhjdfhghijjhdcjcebffhifhbjhgkkfdeccfbhcggjkdbgibckejjjijjkjfibghdihckifhfcghbhhchgdiegghhjfidefijhidffiechckgcfggkkiccehhdihdcbijebhjjheehjjfkffbbhjikcfdfffcigjeiceeefcjcbkjiejkbdfefkbjfjccjfhkbfhidhbgkgjkgheefkejijjbehebgbeddicegegidkbdhhdjigdjfbfedbeckkihggfdkhjfhjhejgbfckighfibkjckehgkjbgeedbkbkcjdjghdfigffcggcecbijfkccgfcccebjbiibjjfjcedhgfbhceccfiiihhjbjjdcgjekddcdhifcbgccfebfhjcdjdjgdebfefdgdfdkckfdikjdbifidjkehgiefbijfcbhgehbbjhibhfcibdgjdefkbejfebbcffgfcgfibfijehfdgjfebbgkkfbdbgdkfgkegkehgcjgdfgecjdjbkekhcijkccididfihgkbhdejjdbikefifidcgcbhikcdiehkeedjkbefbibdifffibfdebbigihdegjiehghgiecijefgkgjccibdhfbcggdbkkkihbkfkgkcefdbekddgdidfhkdhikjfiikjddkjeijbijbkkgfgjebjjcjfgfchbijkfkcbfdddhbcfhkdcjcfhcbchdfcgcijfeebbehcbbhefdgjdbeibhkkkffebgdehgbeidkikjgfgecekhhkijficjjkjdgdjikbbicdggjjhccdkcjibcjcjikgcjkiikefbejhdbfjkibicibdfibcfjjbcbdhdibieddfigdebjdcifbdeeggeiefkgidibbkkdcefhifhkijdkdffgciggckjbkiegiibfijkjebkgbehikjkidgiikifbkeihijcjdgkjhgfejifkbihhebecfidgeediegcfiibebkkhbifecckebidiedcjejjfhgdehiecjkkhckkhhhbgkedkhdcckhcedhbkeeekfdjbhcfhkejgdhdiggkffcjicgjgfgbkihihhdjcjbiciedbcbifdgfigjekfieffiigdhcdehihbdikfhbdhikjgigekbgfiickegibdhhedkcbhgffkjbbjdgkbfbhhkbgkjfcbjfdejddbbdihekdgcbkiifdfefdegjbeeigheecfhdjkekiddbfcbdiggcdhdfcbjibbggjhgdkkkhfecbdgikiefibkdhcdbiihhgbhijkjffefdikcifeiggejchkjdjgkcjdkgdiibghfibhgdigeccbiihgcbjfgbbeccbjbcjfjbjgbbgdbdfhjkdhkceiffcibekifhghfkjifhjbihhkdfjbhddjkgigbefibcbfcdkjbbcjjdigfddkgbhgfkiehkffdcfkchcfccgcfkcdcdecffdeeiikddgfjieiekfedjccgdkkfckbgddghjjdhcbggbcjhibgjdfeghdbjfibghcbdjdfchfjgecfebhgfbgcchkgcibbdbbkjcigfkgibkjcdihkehkkciihdbigkihkbffcigfdjeecccdbbgiiecbjebefbekebeijfdiikfegbhhcggdcdbgbidbegbfbdbbgggefkfhhffeecckkcfbfifhfgcbcdhgdbfekkeehgjkchchkfdefedbcfhbdghcgecifcjhfficehckgjjieegjeebigfjcfijkgcikkgecjcgkcibgceegfidgikfeicjefdfkddhcgcgibbigfbhbkbbfjcbdfjjhgihhgjihgcbcggegeehhfdidfkjfefhicbcbgfcjkhgebkhhekbhbekdceebgekgbkgkhjdjfkggkkddbikfgkhecjdbigiiicbiiddgjbecfhkgfjjeddibjhhbdeekjgfccijdggedhdhhckkkkjihgcfdebhcdifhjfbhiedckikdfjhjekhicbbihghefeddcfekccdbehffidbkkbikjbijeffickijjcgibejfhhfijgkbggcgbdcicchbdjgkkkcfjkchjccjihkbbkfbfcibkgebhhcekeibfdbjjgbfkijbjhfhicbeehijhhbfcdkjigikhcgegfkdheehjiebjfebkkigcdkegdhgdbgkgbdekhfbdkgfkdebkkjhgdbgbdejfibgecjbedgkkjkifhidifgdgfcgibgkigbiebjdhgcfhddcgkhbgdbhikeeekfgbhhkbbhegfjbfiheeggeehiecebdejjgihffgchkbkbhjgekhjkcjffbbecfkdgdgcbjfbedhkefigjcbbfkjiffhiiidkjbjfcfkfckcciikdhjhcihfjfiebjchfekgefffgkjebceegheichkjjkedbdhcgdeckjiecghhkcfcbbhdjbbgdgkbgbcjidiiihffjkdbhcjejdcckchdbjkjjjkeghggggedcdedghbdcbcgccfkhdhihiebdkjcijchhjdidfhedckcjkgchfcbjibeehbifeigiihhbijbbchhbgddkkbjjfcdkdfcchchdgfgcjeigbijckikidjggidjhkccejfhidbbecbgfdfgeikciicjbhbhfibijkbjccgjfcgfgdfcffeiikdgbhjbfjihebhibbjbkjikehbejbjbedicfigdkfcggdhfcchghechjbegbkhgebegdbkdcbbekbgdgfikkejidgfiifccikggcfhikgddfgjjjfficeejjijifbddkdbkehgjcifbkjhccgfgddhhhbjhghekecdjkciefgkhgccgkfcekbedibdcdfjfcdfbkeibckjgbjhdjdiiejijfigkjbdbkjfbdcbhchbdcfbihcihbckijjcidcjcjikgdgjhgejjkiigfjdfcijhfbcjgjhbhfhifdkigcgjhciefjhehhfficecjkdhjhebddgkbifffciddjegfbdbgdbcddcbbkgibehdhkjedkehcedbikkeefgicgeifjbkjgigjhgjbifihfhcdcdihkbihdddeeecdjicfhffffefdbfhdfbdbdjidkefcicigkgchcdidccfdbfejfdciebefheeijjggckgchbcfigccfhcbjbhkjdhgkdhdddfkfeedgggbhhccbekkdekjdfekdjjjifjfhhihbfkjfbehcjjbjhdfijckikeibhcdddjihdkdkifkkjjddbgbbfcfdekjijhkjkbgehjihbifhefgdibgejdbdgjfgfkbjicgdcfcikjiifkjdbkfjggfbbedfkgfkgdbccihcgeddjecbkidjecgjgkecjgcjckdgbhdbjffhidkiekekdjjkjdjfefdehkefccfkkifekbeifbibfijkccejfhbkdbdefggegfggeeiddccdcfkbebeihdbfdedgjjkjfefiejdejbkcecdkkkgidbiibjbkbhcicfigdchfgefhijdbhgbhihhfkggkjbggbkcfheijbgedjkfcfhgkighbghfkfkebkgfiidjhhhkekbdkjhccdjhhhhkjdbddffcdkkehdejiddffkbjcegfbggikdkicfhidjgkfhdkgikigdejfckccjejjebfhgjcbhddffcfbihjcjkijkbkcfhjeeiggdcgjedcghcfhikkegickebeiiekkhejdfcbedgggjjfjhiffbjhhiiebjhcefbhfdjgbhggheghefijhfhgdcfcgbgfbdihcighhgcicibjkfgjcbkeecgcgecdejhjieddedhhjgcfjehckbfdkheeecdeibjkeibdigiejkkjidhbegggbcbcfkdedjdcjbdkdbgdjhefeghjkkkigdgkbjjehiibbgbhcbdfifkhcdffcjkbfdkehedhcbbjkbhdggjhiicjefbeeijkcfdjckbfgghkfjfhbdjfkjfhjekdichdifcdfeijcjhiihghkfhibehgbjbdcebbkijfffbjghgkkgfdceihidbjfjbiebggieebbdjjbkcbfjbfhecgfikcchhhdjicfbhigiebigicdkibfieeeffegbbccidiecjjiifibdicekhkekiedggbdbfbkcdfcikbidebdccjgckjkjjgbeiehgbfchhcbkgbgficegebhkjcdibdbbfcdhchjijdkideedjjdjecjcdhjfhckhjjkifeekcekdejcijjjfeikikfjccdhbhhjdikcgidifjigbegheifckdfcibikcjejcgdhibejjhijfddieiihdfidhfkgfihfifhddiegdfiikdceegbjdghdggckbjgdecbbbckgbkibcjdfeegdfhddbjgfcbbegjffkhgdiikhhjijgdbddddgjbhbikifkbkkiefghdicebhbjggggjchfeeibfgcdgkeijhbbbbhfkgfhefhkeegeihbjbceedgbgfkefefcijjgfkhgfkjjcgffkckgifciiikfjdjkgjbgccckkfgjcfikghkjfckfikdjbbdfdkjccgifkbbkchddhidkbcjejgkjceefjgcbhecjjcdekfjkghbdbighbgghcgiijkcekigkdheffcciccbidjggdbicddbdjkfdjfihdfiecbbkjkkhbjbhjdiijbbihjedcdgcegekicfeefcickkcdijedjggkcdffjkiideiibdgkfjgbefjhijhgkkichidikhkgjdcgdjihkhekdbehgebgdbcbijkkcjeekecddhjffgkcihiiejfcbbccjkjjhbfiihidjjbjhkiifchfhbffbbkgggchckkhcjggckkbikbfdbbkdjigifkchcbdkgdccedehdkhfkdeihdgjhdjgeejbbfkccegckdihjjikcgdbijfhfcidbdfdhbffeejkgjdfgkfjddfgcfiigediihgchcjchgfghicfgcddcggidkkekhbcdfiecbgfhihefdbijgggegjjbcjdgjgbdbjbjgicfjehijddgcjggihfckckgkcfhkbggejhgbfhgfcdjckjeckidifejiigijbkikcbkgjkihedbigigihdjgdhgjihefdddbcfciddefkefcbhfdchjkgbebjghhgbcgkdeggfdfgfccijbedcgbechkbiifkhidjhehghcjcgkbhicebjibfcghhibjejfeieecefkiecibbcbicbdeiikfiidgkjdjjfgfegdeikgjjkiekgheifbgieccchjfgkiighifjigcjhibgibfcgfjffiijgcgjkbihgekbbgcbickkighggcbbddbbhhihhiehedkiijgkfbfdjehkbdjkbjccfbjdcgkhfebhkbejcicibcekdecbdjkcfjckbbdfigdeiehhkkgkhgeijdbgcjcdiddhediiidgjcigdjfkfcgddidkecdcijhibehhjdbckcihggehhkkkdjbebedchjgjbkfbiegikfgfigcdejbcidigbkcbgjcbibhejjehfbjcbfcdfkebihcbicehkhgiiegkhcfiejigfeffhjhhfkbcjbjikhgjiigcjbgeghcdkjkjefhbkhfccgfjkjkfgbcdebkkdhekjicgfcjcdgiidddgckbhjgcfidkhgbkhffdegjdkkggjcebhchgbcjjbkgeddhjigjhijjdijgijcbididbeejgjgfkicbgjdbchgbjikjbgbjiiehegcjhcedkejjgccjkchjjfgbfjddddjjibbfgijjghhfkhjcdighjkbhiedifhigihigccbggcgdfcdfdkdiddekcgfhkjfjbbkgdjfbdijjggigfkbggkcciekiechicifgiceibefhffhbebkdjddbifjhhdkkggiggjjiejcbigdfbeieifdkchchgigjcbeihhfibcebcbhekjehjjgheddjdijjhgcbdedfjeibdfjidedbekkfgegjbgbfkhegiidgdccedfjfgheidckeghhejeikdgjkfijjfecbbcckigkejhbceccecikcedggdkgibifdhffgiijbcjfeeegiikehjcehkiigfegheecjbehegihgbibejigkiibdcchdggbcgjbkffjejjbdbjbikhdfeeeffgfkkgijgdikgbjhiiedgkegkdfghifjhjibhegfcefibfjehechfhkjffjihhhkdeiifhbijkijkicjfjbbhiiciehhjhebdbjbccjcchhdcgdfjechcdcdbbdfdbjgdcgefccihhjfjcggdhhkggbdhbkdgjbcbgkididkdkefejkjkfgfbkcbkghiccffkegeicibjcdebdighfhgfdibgjjjfhekdjbfdhibjigefjbdbbcjekbfbfgbghhkggcbgfgkikkcecfkcbkcedhkjikiekbjbdcdffkgikejedjjghcidfkckfjhhfcdhekihfhgedbkgdhdbjhfhdegciejhbgdbibchggeiiibiediegbkkdibfdcjkhedecijfddbfdhichedeiiickdchkjefdkgiiihcceedcjihghdjijhddicbkjjkgdefkicfkgjjhiddejffiijgfedefhddkhiiffehkhihkbgggeiffkkcfjgkfhkdgjkgigjgbgidhbhkechjeeckkfbhjbdbhcbffjhjfehddgicebjfjikhfgekchjgdhieeigbfihhkgegfbgiffffghhibggefebfdekhgeijkcdfcdjkidgjdgibfkkgcjebghjeeggkkheggiddidikighejebbchkdifhccdkgjcdjfdkdgbfeefgcigdiibdkfdbfjedkeedbiiiddggfddifcdhedcfchfjigddibhhbgjfgbjhibfejfbfcjihhfccdkddbbkjfiegcedihegbhhdjecbdcgjdjjbhjcikekbeebbjidddbfgdkdggcccighjcffgbibbkijiidecihjjcgkkhijdheiefbgfejhjkkjhcehjbccfkdggdibfgejeidkbdjiiefiidfiddggeebcfcdgebikebibgejhgijkhgdjikfkehieghibjeijhkdehjbeiikdhjfeghhhijgheecdhgbhbcdfegkhicjkbjhdkbkbejbedbegbeehicekibhjkgeiebejekkdjdkjkiefkkgffhjgiikdfbkehdhkckjicifkdgffkdkfjfhkibgbecjdbjfhkcgihigfkhfhgdkibffbjfjegicebbbfdcgjficbehgiiefjffghihggcjibkdhkikfkcfcfhfefkhdecbjiehccfhbckcdkkhjigcjbdgbdhfcjibbkekhdecegbidfkgihjikjeifhkdjcbfffiedjfidbggecgbcfccdeheiihjhiecikckcffeigkdcjbdkhekkehhkcehghgecdejdgebdegjfghcggehhfidhckifkbehgggikhdddddighhkijkhekkibbegekhdhkhegcdjfbbjceifdfbigfcgieidhjijcibiigffidhhkeihgfdkgcdgbhjjbefjigdjkggfhgebgfjihdheiceefffcddddhgdiihjcghgchdkhdfbidfhjhdigjjkjkhkedjhhbjgbfhkijhjedgjdekjcehfkdfbhhibbdbbkikhfgchebbcdghjfihhdgbdikjeegeiigbbhghikefdihhcbckdbkjihbhdbgfdffffkfgfieeiigcddgcffdbhgidfgddgbfbdgjhcdijfhdheehejfghfkccdikbjjedkgjhcbbjgghjihegbbiijbefkfhjihegdddjccjcekehhdfcdkhjejkcbecjejjdcdjkjgfcedcgfikfehfgibggkffghbdejeddccbbkedibehdfkcebidhcdifgfighfghiheijijikkkedddcihkiifhjfcickkeihdgfgjechkjbiiikdkjghbkgeffkjcgekejcgiheghejehcjckghgieebbifheegcbdiidchhkbhbgjcddbccijhcceiedechkhbjibbggccchjhekgidkjfcgkcddbkckkeejgjjkkdffghhdfffikjedcifbcgigegfdffdikdbkekkkdedidckbhccjeihefkddfjcfggdgebeejbfbeikekghebcdcjfjbiehikkhidbhejejgfgbdkekgghhejiekeijibefcbdhfffhbjkgjfeekfjedecggjbckjggicchddjcbffjkcfjbgcfegigejddhcdijcbgfcbekcffhbgdkcjdfkegecjifckfdfigbbbjjhjkiikghgdccfejgieedfcgifbcdfjefcgjchkcjiddcddcfebjgdhdckjhdbkbdgihchdbbejgibdkghkebehbhjckciibdgkkccgkjhdiefhffdceifekijffikdcdgjjfeikffgidhjhikbgkgiikicibhdbjfhdekbifkghkegcddigfkekggjekddkdceedgdgihkjkhgjcdjkkcbjkbghckcjjijjhffhgffbcighhddbgbkjcidhffdbdcbggbgcfdkffkjdjkkijifgjkiebhbcegkgjfiidbfjkjeedjfddebeibeccdjifhegkfhhbdkfgjfjfcfdebkhjehdkdhcehigfghbdiejdffkifkdkfdccgiihibkgghfhkhiehffgeiffbbejcddjbbebghbicjbkebkfekejgfehdkhcbjdbddjhebkfbbkdjehfbiibejcfggkjcbghjegfbjggcgjhefdcjfkdehjigceghcccegckffckkffhccgkejcdihbhibfefjiiecdjbibghfehkgefjfbjgcbhbhhbhhghkejihegjehddhcikgbdcbggidecggjgjjbjddhddgdchiebjeikjjejbcddfbhgfgjfjiihkjbffefhbeddegifdjidbhcfbieecefjhdckdkjjhjfcdedbdbedhkbijeeckkcccidffhkdediefchibkiiffbdefikchgbgkcffgeekbidgfijificccecbgcijjfchhcfjkeegbjeccjgidikfegbdhgggcheeedcgckihikkhfifhjcffiffkkihidjejgjkbgbbbicgigihgcgceekefifjeigecgkebjhhgkjdhjeibdhgcjjfhcdhejdebciiejjffcdfhbeffekjjbcccefcfkbeekkhdfgfdcfbjddghiejjedckbgcgeijdfhgebficfcgfgkcjjikdcgfgicbeffkjefjbbhggjggbkighegfgbjgiffgfcbfhjiddcijhbgffiigjbeiiibkbkjcdjkhjhbihhddhfjgcfigichfgjeehgfbcdfgkihjckijfiegcihieicijfgfibeikdgbbfkdcehgcdbkihcedfjgjbfhbgjgegcjecicgfbifbiffjhbekjgkchekgdidkefbhhedjdgbdefcifdfjkfgkkhjkbehkihckjjjebgdgbccdcffibbcjkhjfkbhckhjgkggdifgeihbfcekihdcffjegiiidhfcikifbjffghfjhddbddhghjfccebkidbbchbbdebgfifhkjekgkdeekecjkfejkgcdbcfceghcgjhehfhbgeghddcikcficgbigchfjkdbecffbcjdgcegjhkijeekfccibcjhgkckibbhcebjdhhfkjkbcckkjfchdgcdedcdhehjfhccchjcekdegbddhhgejchhhhfddfcdbkggbedfkefjdejjkjeffgechjfkckkebeekggbbgkfcdhfijgcikcgedbidghchhhfkbfbfbhfhdfifecchjkhkdckkdjegcidecfhdbijhgikjhhfgjegkdkficgbkbchdgdfgbjdcbfihkgihchcffcfcihcefedfikhjbbejhbcfgdgbijbhcdcjdcfkhiihgfigkfhgfijbdggcjibjbdheecfdbfcbdcccgjddekfgifihjfikjfeieedkjdiggjgciikckkhcchekbhdifcchfdehcbfgkgkbidcfeifhfefcceijijcckfkjidebfkdkckcfhjjkhfchfkdgkeiceffefhddfkedjkcbhdjckciiiehbfkcbjfiiibfefbdedidkhkjkihgkbhebhkhgeieihcbjfckcbdcbbbdcfgifdebgkhdbkkedcdkhcddihefcjfdcddekjhcfkkcfichhcdicgjhdifebicehjjeehfdcbcgdfghdjggfjdefdfbikfbkggcijbjbbigjbkkhbkbkegfcecfejehkkegdihbchgfcieidfhhkdjgiffhfkikjbjhfdckciicbkhbdfckhbhiffgkcfejgkikgciedkhkggfdiieehkdejijkecibhidddbecbhhijbfhicchkdcdbhgebgdekefebfcjgheggfdcifbkdbcijgbekgbikgbdehkcebcjfedhfkkhedekjjbfkjefkiegkddhgfkbiihfcedgkkkcieffjebckjbfggdbbfebbdhckkhhkgejdbkdcdkkkebjhkdidhkhkifchgiibfhdffkdififhicchddffbjdkkffibkjjgeeiegekdccchfkgjcdikfefgbhgbgdfbckhifjekdfdhdbhfjcdjdbjhgdichedhighgbbjfbdhkbbcbfgjidifdfekbeihkbjfckkhdjceeikcbkeijjbcbfdddefjihikcbiecdfdhdbgdkjkeebkefgejdjhdidbighbchebggdbgckdihkfdgdkkigkfijgiciikciehcdefecbjfigiibkggecgcbfdbidgfdfcbdgfdhkhbjdebffhjbecbdejfeehhdigibghbfdijjikbgdkgefebbikdkiffckccicicechgeebdcdbibkgbhbgjecejkbfjdebikdbjhgddjbiffechdbeckfgcbjegehkbccgdieiedigcchbbdfbccdedfiigegfbkhggekehfijdfjceiidhcjkbgjfhggbkeccjfhfcdcdhifbkjkfhikgbkdekegigfffjibdjgecgcibieffgkegjfbkgkhiekkgbcjjbiebhkkhebgcccihfkhjhieckceifffigbeecebhjgjggidgcgcgedkbjcggddekededkkcjdhbedigcecggeeeehbbjddhjkegcbchbecjccdfeifheheckhgkhbbbcgckebdhbgbdkfhegikjkjkjccjdkigkkkihdbbchejgbfcdikicbjdkfghecdbdcckjfjfgcefeeikhghdhcghbbdgkkbhjkbfeekcgfgjkjkfigjkbbkejbcbbfgheefbgkfjdffbjchckjfjccdjfgjfigejgikfcjidhggkgjkjbbgcjcjidfjggjdefgfcjiikjdkfbbdcehkdgjbkjffhcgkfjbhfkjggfbjgdgifbikkhijihcbbkkcibccibckkhikdgdibbcbcejkdggfgegjdjccddfidjhbichckedhchccehkhjjheghdididbjbgdkidkdjbjedgebhkekbikbefeichiceffdhjekckdjehhhbbdfcfigkiehhdkikichedjgehdghdfkifhdjdfkedjjjciidffejgfkdccdeiegghkcdjikjhkbcehiifkghifgdbfghddjkdgjhhkecdgidhgkggdcbdcjhcefbccicedgbjcgjcfiibffgkheihcefkhdccckeiejdbckggfghkeibhcccbdfihjecfjfehikidjjijdegcbgckejcgeibihbeikefdjbgbjieeibidehgegdkjijjheikkhjghcfdkdebgiheifcgjjidhdkicibkbdehdbbiccdchidkkcfebhhgkibibbgfeibbkedjejjhfehebhdkfjbfccgibcekbfhfbkbbejgehkfjhiickcdgcbfjbbeejdfckfekbbfgbjdkdhcdgeedecjbedkfcdgkggjibigiikkefbcckkeejkigchdgddghhigegibfbfcijbejdgfeggghkggdjdhifgkccbehhihcdkcebjkffbegjkekigjjeghkkbkbecgidchcikgideckbifdeceffcihejiddfkggbebkdgjhijfdgbejkkgdcfcffbigkjeighicideijhhjifefidjiifhfkgeddkffcjifddkfgjekjfihkeddbeebijkghfhbjkkieedjifgfcijhjfkjgjkfeciichhfhfjhhcheccggggeedhiehbfjcbhiccifidikfdedbfjikdckjbdibbkgigegjchkkdfgcgehhfjkfibhchggbkceikkbjcibbkbjcfebecfijhceeddbikjiiikekgefgkeffgfeijgbfcjchfkkgejefdeikdhhecgccgdhegejcfhgjfhjciiheecfkjiihgbkihdeihjkkjfijkeibfgcifhickehehfecbhgkhgejbgfbckkkekhcjfcbfjihdfgicbkigefdhicbccfhbbbehjjchkcbebijgbddceebchcdefhjdfhihbdkehfdeeidgbhbgeeggigchdibbiejbijbhjiiejckeegkjjchjijfgebjbddedbfcggbdhekhcffjeghhhgfkfbfbeebkkdghggcjfebkkhdhgjfbgjjhjcdcbdjcbbcfeiigedfkcjkhcekbejijfieccehkgekkbifhkbgggdbedckejjjdbccfdifdhigifigdhkffehhefcibjehehcdghekighkdgkgkfbeeijeghedeehebjbkijkkjkjhcfdbffbkijfgcjccedbefcbhijhdcggjkhhjigjgcebiefjcchghhdhejkkbhiicigjebdbdicgggjegjgheddgkfcbiieeickigcjebihebkgbchieeggfghbkbeigkbbffkgebjehdbjfbbbijfhbffdkkdkcjkihdkhjjikfedkchffbegdkiifhfhkfdgbidfefkcfjcfiicdccgijdfehifcceecbcjgibechgdgecddehifdjhhhgdhfibjfkbjichehkdgekhdeefehkhffjeibkiggghekcdkekjfckfhjchkgffhkgcedikdkkcgdbfhffkikckfgkhikijgfigcgbjcchkfkbebbgickibkjjgbkjgcfbcjdcfighckefjcdcfddbdkcfkiegfjkjbkjhfebdhkbigfjgfekbgjbiffjfggkbjcdebkjfbfhhikgfcbhiihkjjbddfckecfijjhgjkhjdfgjhghccbcfffejkchkbiijjeffjdgiggbgjigedcfdehdfiigiejfecfijejgigidddfffdibjdcihdieciifgcgggeeikhkjckfghkfikhdejgidfjiehcgihhjcgcdbhbcihghkiebkegiciccijjffhjhfddefhhgbdijfdjhbdfcgeidebibkcckciggkkfcebhdiejcbbgfiijedhdehghkbckikjihiegfcfejdgfckbbigjdghjgjbhkcjghegekeigefighgfigjjdieehgcbkcfgkbjdfbcbdcchifgjeficfbkkbkekgdkhggbhecbdjkibdbhcbhkcdgdiebcjigdcdggckjgchffhifjkgdkjbecddgiddijebibbcdicgidhfckjghfhjbfhdebefijkkbdkbdifddgdedhjdgjdibikidffbkifieiechfifebkjhkjkeihddhcdfkbddfhkchfddefiiiiffgfikgbfhccgiehebgkeddejcefhdbeikgjecgjfjcggecddhhggkkjgkhiddcdejfbekccggbdehcgfegdjhhdffjdgcdgbjkgefjhdibcijeiebhehcgjfbidddffgffjdkeiegdifiigghbigkfdchhdhkebhkdgkggjgigddjgdkdfbfhbebkbddhcdgbecgfghiicjgkeggcgjcfghdiebgbbjhcihedhidjeffjkkbjcbbigkhghkihfjkgfcbhfjegkcdjjfciecdifgghcgcikkkkgdkihdbbbejebjkejdbcffgcfhfbijcikcddkcigdfekebehgigkkjehjkfdccgjjebfkdkdbiedkcggdeefiddhbjbkjijficgjbfeiieiigbggcigidcjbcdjejjjkdjihgkchiifefbbkdeedeehhccecffdiigkjjgbhfcehdbdfeehfjcbdcfkkfkhdghdhkbcdfbhcbihbfgbgkgchbhkfheefjfkhgjdfjifidjhghdffkhkbhdjhfiiegdebikcgiicjhhecbcdidkikjhehbhhidefkjbigjkigecdkgfjeiiechhbkdkiihkdebdjjcidgkdbikkghkbicfbfkikkdfikijffdedjcgccjiifcckcjechcfecggekcdjhcfbddckkbfebgcdgedckhbgfkdhgkfidjfdjcgiegefigfdffhcjccdgckjhdffijgekhdbgdbgeckdgfidcbiigcfkgjddhhjckfckjdgiebifhiejgehjkfdjjdbhegifhekebhdhiedbddhebbhjgcdfkkibehdifhfgcejdjcdeikcbbdcgckegedidgfhbjhfbhegbhififhcjcgefbbcfijhgfjgigdghjjckhgcjbebkhghgdedchhicjggbfdcbedbficegiijdfhicbjefikfehhjkdgkjbfkdgecjifjceihcjhiibefechiefiejhidhcicecgbecdifcdekgicfeffbkchdbejdkhhheeekggiigehfkibkjjkkjjbkhgfekfjebijcdkhfdhcdbekhbkcgbhgidejjhfehjjjechdjcbcicjcgdhhdfikcbffejeciegdhjdfgbihhhfgjidfgkbkddbfikifcfcjeihhifdcdbhgkfchhdjehffihdddffbcjgcbjedkikjchididieihgchfcdkbjeggkdfdbkdkjkibkbhfddfhieijehkhcgbgbkkhcfjgddjbhbjfddgkjbehhccbejehcicbdggeefibdgbdijfjfjcfeccihkfbibhhkbdfgjcjggckhgikkehkgbdbjkbgkhgejggebeghhhfeedchcggjdijcidiffebgcffefekddghdffjehebghihkjihfhkjfcekeiccikceehfbjiedgkicideibkiddfdkeheikgbddhfgbcbjkijbjggdifhbfjjjgdhicbdjfedcgeeeikidjeccibifhkhkgkeifhidkjkkhjfkbjiekhkjefhcehhgjkcchbhedfbfgjedbdiekbdbcikdcdhigihcjebdiibdffcjjceckfijfbciiidjekifcbejifdjkcckjkghkfjffejkgckhhbfbbjiihjbdijkbhhkbifdkegbkkggkghfgkdfcfdcbfeechhdfgigiekfcfdbggcjgjfkfdfcefhjhhbjcbdbgecbgfejbjgjebdcddfiggjfiehfddjkdjbiegjefebifjeccdfigehhfgbfchbgkhfjcgbjgjkbijkiicjdjkdgheebcbekfdjbhckhhfcdbikjifjebjdjgeihfbdjihkbjhciedeideekeeihfhibeckkgciffgjgbgcegkkgchjijhgbjikidcejgcfebbckbegdkihcbgjkfdjcjbkhefiiekjgkhjehjchiegjifgedjfjikjbdkcehfgbbfjhihgjcbgbhfhbkjgiidbeekhfddbbhbbegjgfdehhchhjjcedejkcjekhheidkjdfffjfehdejdfidkhdgcgdbghekibbcibibjkidbjbkdfgbhdiecefggchbiidgcfjjcbkhcfefjjfigkbbfgkfehjfcfjgfkgccjhkjhgiekbkkbcckehjdkideigfeifgjiehcfjjdgkfgfkigcgejeecfkdbhgdekgkdgjejbfeejiedjdifkdcbikgbeebkckdgbkdgjhfebggeiigjbdgfieebkichdkkficgbgkebcijchgkdchfijjchbfkfjibjegcdbkijhibdkgjieggghdkchgggddhhbdhkbkecfjhfffebhiikdfeheebecdhgkhikkcdfbkkkbikckhdggidgjifhkkhkgijckgdeckcdfdhkbkhikkjjbeihfddbchhihehihfcjkgkehbieeeeijdkcekdfehjhdiddfeidigbdekibdbdikdhgggidbibdfeidcdkggkfcccbhekjeeeecijidbfbbgecfkbjidhdeiekjfhcifdhkcejkckdcejcfibihgeccfhebfdgdgcfeegfjhbdjfhjigbkghhefbgbjekkdhdjeedkgijbhjcjccbkfcfhijfcbbhjdkffekcefbcjdeibfkffffgjgdhdgfgifekbiikfbkediefhechbgiijfcgekjbifgcbcifgfejbdbekffdkbkgfjdcckgdeebebcckeghgceibbcjgifcijcghikbcebdifgfbifcgcdkbkcgkehfdgheddgkdgdhcddcdicdighijjdeejfbkffjfjjdkhbbhdjdgjchegjkcgcejjkiijijbfgiddiiikdejhedggbjdjdcfihbffgchcchjbcijhjecchjfjhhgbejhbhiehikbkdddekfikkhkkgkidbdcfbckgiegjbhdcfkhifcggjiddcbhdckcbgjgjbccbfcfjeddbgfeghkbekbegfgkfidheidjkbijbdcbeiiceeciecgekefjchbficidgdkiikdigdckjheeikcbjjfhdgefedbgchbkhidffjhjchbjjiddcdikjecjedgbedecjkhifehghcijgjfcfedhckkkiebghdibbhjbdihdifhjbgdjhedebkijbhhcbgceefekbegficbfkgkkedifgjdejgfjebkchijifkgijkfcfbddcedfdgfdkfehkjdcgiiifebebhgddjkcfibchibghfdeeejjijedeccdcejkehbkeejiecffbkejdkjhcefjiffbiffhidgdifhebkhfegedkehgfdkjjhchbidffkebdkcjgihhbibhchjjhegfgfkifcjjffbjbhekfcffcekkhbgdijffkjjkcdkcejfihifbbeefjhffkbcekhfeiiibbbhcdidkkfbfhhfkhjcehgddkhgcgccfhehdjeejcbefdjbijifhfbcbbiecibfhdgjehkcehdkccdicihgedegbffcghhfhjdbbefbhfbbbdigcicfjkeffehkcbfjjbgkgcgghgiefbhkhhbcbekjbfhjghidjhkiciekbejkfihcfegjhjcfffibfieiebkhejfjbggcddhfihhdjcijiiijcfdjhcbceffffgkkcjekhdjbbdhbbdbffjdifhbfefffckfcgjdgkfhdcecbffbegjbjjhkkcbgecddehdeiijcdhjededghiifdjkbkfbddegbhddhjkhhcfhfdkdiiifijcjgdfebicedkdbfegcdkikbkedddidffkicejfhkdkfbjggiigckdjkcfkebdcchcgcgebcjefbbejkjjjjfhfgjfibjdijdbkciceegffjdehfeecigbihjhebcbkhgbijdkegikbjhhhjfeceidhfgicfcbeggdichfbdhdefgikfcijiebifidhbeddedfgffgikghcfifdcjebkdcdheejhckfcbefkcddccjhgcfegidgidgjkgihfghfcfdjgjfeceejcggdbddbbjggcfddjdhkijihgckcbbgffefhcgdgjkfhjeeghfjfdhcchebkjbhfkjbcedjiigeifgefcgbbicfbebebbjfccjfhhhjkihfghhbjijcgddikdeiehkcjdjkdcedecedhfdhehdchgkbdjcfkeebikkijcjfecdkdbjigjccgckjhkfgbhjeijhidbkgdffihfkkifekjkecbiibkkhkejidfdbbbbicikfjfhdfchiefbkjieibikckdekedchjcbhjkjcbiihfgkcdkkgdhgbbjkjhfgebbgigighdcfciggihfebkbggdfeehijfceeciiicfbfjbjgdegbiidfhdichieichjjfedicdhikijekejjfbdfdfkccckdckgdehkbkgbhcdjjkbcidbghkbfidbhbikjeidhcgdcjfgdhehikcdkicbeifejigjijhicefihjbidhfjbkhbjdegfkficikfgkgihdkbgcjcjhihdifjfjgbhfejjekggehjiifeckkgeggickebghegbegfkfijfijhgkhicejdbkbbbedbbhhfedfehcjbekkjjiifejcjgjcbiffjkdbdcjekckbchddccgdiejebigikcgcjibgkcifdcejbghdfikdijkkihejejgbdcigfchekgckdfbicjjkgckhbbkgbbckebjebfecgjkjkdgchdggdcdcdfhbefcchekkfkgeiebfbebicdfkbidcbhdhieibekbfggghbcgdggcdbhdhdfcichceiieheeedegibdcgkjddejggjbekcigkgicebfkkggieicfjcjkhjgeegjgdighhibbckchkhidkkieefcdcchchgcjekfcfijfgceegjfhkbbhjecfjdbdkhcibhghdgfekhdhjbhbfhjfjigffdigjcecfideeikjcckjghcejgiebebjgkjddfcbhhhiefhdckcdkfikfhbefkdkhfdehigbjgicfhgggdckffbcfgjbjdegdcgjbbbkdkgbhhcdegeffhiegghfifjcdhjkggfdgggebjbgfhgifgieidkicbjdgdjfjccccheechhkfjjjbkfkfeccddecjjjdgijfbdfbkigfddbhjdkfhbkcjdidecchkeckecjkhdejchibgekeggjjfibgfhefkbfddbejggdfdgkgifffkhkcbfhkgfdkhiekghkkgigiegcikhdgjdjebdddijgdeggcdjcjkkieeejhbbhiibdjgddhggdcfcfeckkgjfccfjcchiedhjhfhckggfbddjgbekdhcgidcjghecbhgggfgdfkehkeeifdjghgeffhfgfgdicciiggehjjjiifieggdbigkifbcgdhkgfkdjckhjheebejjhjkgifhkfbeccjkjjjckhiibkjiikbcccbdbkdhkdhdidihdijdeckbgkkghhhdhhjdgidefbbiihbkhkdjicjjfidcghhcgeigeighcfhkbhfcfgegkecheeeeikffkddgjghkgehkdjcjidiefggebgkgkjfdgjkdejcjgkebjcidgghdeebegjeibjfgfgeekfcjbkjhfdkdddcfegjfgffbehjjcbebgfjbhhfcgbffieeegicifhkjfhkckbkbfcfidgkghchdcfkifcgdkkebebbijgjdfgebddejjkiidfecbehhjjkifjidefiiifbgcijdhchejfkeedigffkbfdikcejjgdekehjdggjjhgdgekjkfiecfbbdbcfbgeiehcbdheiigfgeefjgifhgjfhhfecdjgcidbikbijcecdibhbdigjjiehbekcbcjfgiidcjhgkdfegdeckjjgkcfdcbffgcghkekfjkcibfigchfeffjedfddidhfdfikigjjihdbgfhcdejgckjiegifejibkkdhedjdjddkebdegdhbkcihjebdghikgfiejhkikfchfhiiieiiidfccbbdccibbkegeckfgfdbhficbbehhckgbcijghfjckbgidbeifdhkdibecgchddkkbhhceihgfjcjfcegiedgcgdihheehjkbbgigjfigfkighcgechcbhiikidgjfhchdggkgjicdcghigfcgffcehbighcgcicfjfdbgfhgekbfkihkhhddekcjbkcbhcfcdeikdfeddfkicefgckkcejebjgfbjfgehgcddkebdebfddfdijhifhdkhehkdkjbdkckceeecegkkfdggjekbihdhjjccfhecfdcgeikgbceibdhigibdefihdddckhbjdifbifhbiccbkjehjkhcccebjhjdiggifcdhicgdjfjbekhcbkdkdfbcggkjhbgibijbkichgbbhchfffjkghjejbekfbkdhhkdgeckjkcfcbcfikgcdjiefhfkbcdfefgeghccedfjgibfjgeeeiigebkhhccgbbgeekbhkggkeeigfbgkgbfcckfccfhiggeihfdjjkjcedecgfbiekcfgfkhcbjechbchffeihgefjfjcejkdfbkjghcfeefkdjcgbgcihjgcedgefcdgeifikgdhhegbcidbbgkceecieggjdgkkggdbeidiechejgfcdjcejgjkkcfjcikbhfhcjbjebgckchfhjkkgkjfgehifdcejeeebjjcgdkjkigjehfkdgijgkjkgdedgghbigebjgkbjebjgdijiehhkbcgdjjicckgihchjkcidegegjefifdikbkkeeiecgkhihhgjdfbdggcihffgbdkikfjbkjdhgigieegkickceffchekhidbcjgjkkcjjcffejhdfdggejhhgdhefgkidifjfkghkhdfdkggddhhjhjhicgdidcbfjibhhiedejefbddhjejdfhgbjcbkhjbfjdfgkgeefbgfjcbdbdcdgdecbkeehbijefjcbdkkicjkjfebigfdijfkeehdicjhhicjkciifbjgggdgkkdkigjkkegkdckikcgcidechjkicibbghhjkkbiffkgbkfddhhdkdcjkdffhkkfejbekcdbffdejejgjdbedbgiidddbcfbddidijdicjjcgfkijbikcejcdeheiifkdcbdicgfbfffjiebihcfbckifjcgfccgbebcbccgjjehfkihfbieejcfcicegbbdhdbehfbfikhhjkidgcifibkfhebcbfdbececigcjdfdhbghkkfbjihfhhhjbkghdgekbdbcjekdcfecfkgcgdhjdeceghhdgfehbefhfikbhjhfddckkikgchhfjkjbkhhjigjbfbjbkgkeigbbgehihjidkkhcjkkhcijgdkbfhffhkihjgfeeejbfijihjkedgbbffchdekhjgiecdccgkgikedejfihcbbjjfcjhjbihghfkjkjddbjbgffdjcdgbfdhhkkhegjhkkdjhejcbjidhgdfbeheifhhjkbbihgiibgjigfbbfbbbgedgcibbhgbiihgekgjeicjijhckkkficjheikjghcbighkkgebkecchgfjbiibdcbcdkbgdbbidbgjbfdgideihekkihkhdkjjjbhchefchcjgfbkheejjidieggecjfbggkchcijjiddkeebdfidhhgfkjdkebifhbcifbehcfdgfjgbkkechejcbfggikdekcfekkdjekdefhgjcjeeccdehkiekkejbegddebjkdidchfhbkfikjibheicjjfebkjhddjijhkdbdbiijedkckeicidccfbfbdghcdfekibdbjfgkbbhfkighehhgfhfbjdbccckhfhchgjikedkgdgiebhdjkijgcedjcijihigefhehdbgjgjiejefkekfdhcddjihhdgeddibkdhjccjgefckcjjbbhkcffjkbceebcjkechjjdcgdicbkiefcddkdjibffgbjjdkbgcjhkdbfbbgbidkciddibhefbcidghcgjgjeghgdckgkkkkjjfbbgikbjcfcfjggceihkdebjkhkjdicbccjeiicjcckhegjidhdfcigjdjbijekfbkkgjhkcccffbhchedeibfijhijkeejgekkjgfikjgddegjijghkghhicdkegifeijiiihffckijddiejhfkdehggfjfbbgbfefchihhkejdjekbfkgfjhjgbicedhdchdjijekchkdcghhchgkcgfdhhhddekbkdbgjcgidddikgidbcjgkigccidcicchbccieceikkideccbdhcifjjcbcbckkddifjckbekefibidgbhgidfckcbkefjcjcfkhgeibdigdcijdjdgcfgjebjbceihkibhbgefgfeifbbjkehgddbjhdkcidiefggddfeheedeeedhhfjjcjkdkbffkedcdhidfhkgffjdebbibekiiichhbbgjjifificfhkjeckfcbbibfddgeebighbhfcgficdkjjjkhffkekkdbkkkgekhhkfgdijegfcibfcdjgkggicfibkeidbkhekdifciikhjhgbjjgkckhkfdgbdcfhcgdhdcfgifgcfgiejdbgfhfbdbgjkgddjdeigieiggfdhdekejiebcdjhfdfdffdgggekjhjjigcbjjkbkcijiejjhebfbcgjjjkdjhfbhifdbiebegjfkdchfkhdbhkbekjihidbeffkdhcejdccbbfjecigdhfbhigbgechjbdkbehbhhccbihjebhhgidgfcibebfibfkbiciebdgbfeddgjbjfhfikjcjfhfdbbfcfigegicggehkjjkkcieghebfcfdfibhfhgcbedchbicbfkhhedgfhkbfjkedcgfjjcbbkeeifbefecfgbbebfchidhcghfijccfjkkccjggjbfjffbeedgfhhbiefhcdcjcdifghkffkedkhkjcehifbfcdkbjjhdgjifiecgbcfkhjjfigbekfbidejgkfecgkkfjigegfgeggdgejefkbbggbjcbhgijgceiedijbdejcejidgdedbcjbhbibddeecbkghceikcfikkkkedkfcdhbbkdcidbidckehbikigcgjkebjceieckefbihchgebgdefgbfedcibkecgdggeigfgkidkhbkfbbjfhdigeibfdhfcidhghgfejgcdbffceicebjcbbbbbebgkfhiiifcifhkhdigccfbbdgdkjkjggjkjkhbckfjjjdjgkdejcgjedibhccjkbihddgkjeceijihbfjheiiebdgjchcjehckibhbekdfeijkfebcgeficedgebffkbgkdkejekeikfhjdcfekfkcefjcdjifeffbcghiijdfjicfegbicifkjekgkickckhkdfjfkjdjijibbgickgkbfjjhkieeihgjhjjcbhjibhejbgjjjfifikbikigcggifcbjiijfdkgdjjeccicediidhhdcgechdfchikdgedcbebbkbfhbihdikkckhjbjdifeifibjhhdghheeckedkkegchifkdghiccfckghijbfhgfgbkicjhdbckfebjcffgefbgbdebbggfkfgjkikhidddbdffbchkkkiedkdghdkcibjecjkfcbcbgheekcbieikbebggbjhkccfbjchjjccgjfkgfhbjicdificeiddicfieedcgbebjkbggkdhddgckkcikccgbbkkgdcbjcjbfbkjcfecigefciifdcifkbkhkdccijeccdgdeeeiijcbdjbkdhkkdbbggbbciccghkgjjbifdibhckikebchjfebgfkjcgbfjegkehdffcckibfdcjbeiffebefikghkffccggfgghekjdefeebbkbkcdgjideiidichhikfdddejeeidhcbchcgidjifkjkhbfijfegjcghdjjijbebihhickkckdkfkddggcfihcgegkhekbegbdhbgggjfckeifgbfhjikdgecikbkgjkdfiddciifjedeckjedghjhkebjhgdchegjcgedgdhbbddikejdjchihecekbhfbbgcgkjhejjfkjegedkdckjiekjhdjhidhhijkbckhbkhdcebbgciibfhchfdbbhegbedcecgijfiihhegkbdggfgbbkgejgfggjeeckifjkbcfcfbgkhgkhhefccfjkgciebjfbfhdhcfhfcicdhjgkfccicgbdciekfciigdhhdfjciheidcjehfdbbikifjbikkifhijjgihejfhfjehcbjkigecfbdcfcccbdehdbkbficehhbifdhgkkjcgbcbibigkcdgfbbkfdijckhhjdkcecfgjkddicbddkccbbkfdkkfkdkijbebcceehcjcgegehkbcdhhbeebgecddchkeebichjhjcciickkdihjbicjkfkgiigejciijcefdfcgdhfbgckddejdkhkffbfijjcjdegghbjfggcfkgbikiebibkfibjcdikjggddhficjkgjgjggfgfffkcdidfebckkhjfihbdfgkekchjdgickbdjefkjgcjfiefggehbeijkdfjbhbifeikcggbhefffgegihdihcgbkbbigebjgffeccjccfjdfbcjjhgibddceefikkbjgdegbkfbkfbjcbgeggjhebgfeddbfbchkkibgbijgfjbceebchdfifjhihcbhfbiibdjdfjjgjhejkhbehgcckekekkckbbeibekeefcifghcejibjegficedkfijfjdibhiijfibdbdggcdfgckjcidigcbicjbfhdgfccehkfcdkiickiihkgjckfdjcfhkkggihjhciibhckeihikfgcgfkfickjgdhijdgbcfdkgcciijdeeecbjfcbjghiedhgkhiifdebcggjfbhjibigccjighhjecikjgigjkbgchbehhkbhckidchbfkegcgkcgkckbhegkcjcdgekehdecjkkgedjjdijjfhcfibifgdbhgibibgccfefejhcjfjfdjcefijijibcghkbhikiiedcjikjbiiceegigbbcekjgbibhehddfhjfbgjdifkdgkheefjdgcfjbeidccjdejfgicejghibgkkbdbhgejbicbkbdhffhbgigbjibfgdcihdkehbidjcihkhbieggehgfdibbkhidhigecfdfbbdikiicdjgjehggijfgbjjjdchgfcggegkkiegibkgejefbbdbcigghidkbgicjiffbifhjdijcijkfbdbkfcebdjjhckkgbieihjckcdgejbfgfchbhfciijeebebdbedejdkifjebghgbidhkfjbghekekiibckbgbdjciejigcckcjbddckddggddiddjbghifcgkdcghdigfffedhcejijkhccicbfhjfjkgibeekeegdjccfcdhkhjikbhfefkcfgffdckhhchhidcjkheihfbfgbdkbcifekekegedcekcdcejidkfgbekhbcfghcbbhjjcbkccgdchddjeeeffjjicfdhceeicfehcbkgkjkhdgikcfcihfjkcjbgciihjchbehcdfebhhjhjfcibbcigdkbhkicdkecbjjjfefgehcckhfjfdebfeeehbcekdhfdgccfgckkihggkfbbigfidikkjjdbkbecgfcidicbdcggdhkdbgjbgdgefigdkbbckdhihdbkgcgdcdidhjfddbfikbejiechhbgcfhhdbcjbhffkgifjkkjdgihbfigbdicefkhhecibjfgkhcgeekfibcjigihffgbgbfcibfjifghehckhgcdghijjgeieigghiedhcjkhkjeecjdegjbdkhjfcdfhifkgcgiifhidefchcfgichdffcjikcibgjfbcecfbhbcijcjiekjbeeccdgkgbkbeeefbeciehehkbhibifgifcbfhggggchhdhjkgkbcchidediijdehjfgfbhdiebiedgkjchcbdgjjkidgdiekbfhccffigcifefecdgbfhjehfefbdjkdgjgdjdbjbkbiibiihbgfcfkeejddhhgdcbfihcffjbedeehggfhkcbcjkdifcbdkegjggbdcddjeigkebhdkfiideifgkfgibfdikchjkccdfjkihkbdkdjgidjhgjgdjficjdfdfidkddikceibibcfhdkgccgfhgjckdfbdfdjcibfddgcjebhfgjhgekdhcbdjbifcbkeibjbddjdihjekhfdcjkbcedhbkjjfbhjidkikccdfffkfehcbhbhhfbghkjgbbfiggiifjiidbbkhgeegggdhfhjffhceejbkcbfjkkehidjiijcgfbcbjjidehigejhbbjiifdifffffgjfdbbciebchkfhcdebejijbiecekbfgkddhidjjhchkfbgghedcjijebijhgeggjbfibeejcceeijjhhcbbjjfcccckiejdfckjgdgehkfejckghghbbbikdfjiihdidjffdhcekhkddbehdjibgbfcbjdjeddbjgdccdbfbhcdjefchhbgfcjbiigekefbfjkjiikecdcghehdhedegeffiegffccfjedibekbdecbehdikhijefhbfbhdghgdfjbcbihehgkhdgbfkehcfcgkddfieibkjjikgecefidkkiejjbhbgckifhjkjbbgkkkdbjdbkjjdkjihbfjgjiggjdebkedcebkcjebhdfbekgdfhgbeegbeekdbdghfbfjddifjbfchkggfbdkhdffccegihdckjggbkjhkbdfgcicjjdiebcbibhhbekcfcibcebkdbijijjicgdickjkegfjcigbbgfbifcjgikchfigkicjgkdfhihfkbcdfgkbbbkejjdggkcjgifhjjjejdgjcejchdhhbhfkejdhjciiiikgbbcfgfchkcbbjgdedbbdkdicjjcjkfccebbjdfijfdfiegkdfhgkdgkkcebdigfdkekjihjdhfbebfccfejhjfgbheebkedfekcgbjcbggicickbfckbdcghdkjdgckcckkkkgfihbkdehbfgcjggjikjfcihbfdckkkhejbhgkddjhifdcfhceggihhkjbhfkiikgkdkikjehjkkifghbddieeijgggbghhchgehhfhgfgfefbjfjgbikigkkgbeggeicecjibicejibkdjfgigbheichfbggebcjhkgidjfkcfgdijkfhbhcbhdejddfdifkecdiikejjcjjcickikefccbcikeccbkffdbghfkhfeceeeceddgjgjibhkjieiggdbhhbcdgbekhbhebegkhgeighikcjikgcjegcghfbcibdgbkifickkicicgdkcbhffbdfdgigdgigccbkhfgkekihiddbkdcfgccechhhjegbjgkidhedfcihikbehdedhdbckggfhkefkfkjdhbcfdhhegekbifcefgccfdidjcggifbceehbfkbjdehkhdkbcdbbkbdeckkkbcckhhecbgdkkfdjffkjiigeffghhbhkfkifdbibegjjbehckkgjbbjhbdfkgfffbfjbkcgcjfhcbchibjdbhchiffehjekibjcgbedckdkkgkkgbhkckbffhdffkjiicjeggbfhiefbkhgfiiibekfidfikhgekhfbbdehkkkfiebijgddjkfgcidbbdchcdidkihihkeihfifehhbhcckedeebjbdeijgkhdijekdhkkgkbcckdkeefehhdhejijfigfddhjeiggjfigdceehjidckhfheckgkcibkhfiibgeikkehieefebikekccdifigdjekkhhkdekffijjdgghhbeccjfjhecfiefidbibicfdjkfbdgffihbikjddgbbbdddfjhiffcbhebgkbidgidbhhdcdbbhebjkebjfgfciddkgigcjhihfbehcjghjhifhghidedfkgeidfceeigdgigbfdfhdfekhkkefdcdffebjjehejefechkkheehddjbejfhbdcfbhkdjcjijgccbkijhfbicfkbefgcfjhegjhcgkbihfjgdecbjejkgdbciiggjjhcfefghgfiekkkhghbiefhiidcgefbfjhhijddkicjcfbbkhfgkchghgfhfigcibehhdkcfdgfdffjefjdhhfkjkhiijbfjhcedihfkjfgfgeecggfjkkghckjihighgjcdigkkgedhdfekgbkhdcchfgfdefcbkjbcigdkghibgehdekfigeihbhfhcjiekhhichhfecejkjfggdefffbbcjdfjbecbfhheckeechgdjjgbciibhffhgfidgkdgdibkdjefkegejijhikehbgdfiikdibeekcicjjggdjkhhcdcbfegggdijcfegjfgiihhkibfkjgddggfhjejfkfckjcfhebffddbcffhhchcjbhchjdgkfkhgeefbjfebegjkegigeebgkecdheijeikgbdcbcjkjddkjcchfgchfhedifbcgfdchcibgiebeebdidfffhebgegckedffbcfjkbfikkehebkebbfdcdbdhdbeeifkdijcjbihcchdfgjkcjdkikcdeiccceggjijkfgkicbhdfeghedfighkghchgdidghgjfbdebbbbhjcgdhbdbdiijhjeeiifbgighigiddcfcbjgcjjcfdfecebfkfcjfjiighfeghhdeiedkgcjkieedbdkccgifjggfihijedjhkbfhhhiehifibckcijhdfijhffjdbfeddjcifhceekfcghkbckkdjkjeifbbddchdheiiijdcgbekiiekgfedcfdgdkkegdikfegkgffiibiijifkfhcfkihebeihgifibjijfchkkbicdibiicbhgfhhjckhjdkigciebbdehfhheeekjhihhibedfejedkecjgigjbekhdkhbhgchcgfcgjjejhbkkkckbgghfceekkgcjddcdegfkgddjchgbkjfkicihfgibediigbgcckhjbcebhdhfebkhekhjjibkefebehehegcihkebjikcgcbibibikfibibbdjddgdciddggkjeeggjhdfebdjfgigkjkdhfidgkjkbegicgckfdgecbgdfeighedjhchcedcbjkffgfjcigchkfgifdikkjihkjfhhebgcdbifijbccehgfheiigbfghiciebfdgjdffhjhcfhchgkjegfgjdfigfegdcckdikddbjfjdcdbijedbbbedkgejkibhhikdgckcgbdebhfkdjffdchgegkghiikbdjidkghgbkhbfkcffiddjihjjdbcdjkebbiijebieeehfjbjbbfehckgjdjgggjfgjhggjgkkkfjbcgjcejdcjdbebkekjfhhcjeifghcichhcbbfkihfhcchffikbggeckighhedkhdbkejfkhdghgdfdgcicfhhhfkjeefhdgbjdkfbiceckbifgbfedgecbjgjikcekjbebhbkdkjejihedeheikjghfhdbhibhfcjkjfgkicibkicjcedbfgkefbbjhhhjddjhdfgbejkbdjeccigkbeekgjbidegjfgdbbciegffgjcdkjcieefddhfjccjfeedhjdegjiikekhgfejfbfbjjhfcgbbbgeeddjebiddbeejeficffegdifbidkhigbfbfdefecbghiibgjjcgchkicfbjfgcfdhcjffckdfiejbhkefidicdgjfgfiedhjfjieifdfdidhidebkkkhjhedekigdfjekfceekkbbcddgcbkjhcjgjcjbggiggffkkkgkbffgedjhdkedcjcjhdjbfhjijjjgkjdjejjgdcdjdhkdiedfghddkceikbfdibcggdikdchgjhbkhggeehbbegebjdcdedkjgcdhiichfkgdfjhkhcebhedfgibdcegfegckchfhibeekjgihgbihfjchedjdbhicidfdeehkkekgikhbhkjbfifehedcbjgjdeebdfjjdjifhbifgcjjhdhgheegebdcdkhfhejbgifjhechdcbkchgffhcfkbjccchgkicdejdijbgddejkegjbgcbihjbcbddbicjkbbijjejccjgfdifbfjhdiiecjdcehdfbdhidejckdbbgkjbbhkjghchdcejggfcjbedcfgkibfhdibcjdbgbkekfjfdbhbgijckjggkbkfgdghbgiidjcckhkckdjbihdgegkfkjdbgbbghgbeikfgjgbdikidgckbhjkdidfhjggedckcdfikffecckcbejfkchkghhdkciggcbhefdjfbhebjfcicgjgdeijfhkdcbgcdcfjjfdjghfjfgbjcighcjekcfegjeijiedieifechijkkbfgkefcgdcekghffjkkcjjeejcijbkdehikfieegghhkhkiddibkejgjdhjhbhiefbcfbjbfckjfgbkfdkegkghbifjichgjfdekdgchcddchhjjfbkecebhibbjiehibiijjjfbkieibgjjheiideihgkhkjiehifcecfjbegbcedihhgigkfedgfkhbhcjighiccbgkdcdeebiejgfckeehgjccedhefiiggdkbcfeejieejkccdikkhgcdkcgbjjkedgfbcgdkgkcehbfhdbcdfbdhhjjgdcicgddfcigdidegicdkfjjbbfbekhfghhdgefkjedkbdbekfjdecbikgbjfjjfccdhciijfgfbfihkffhggffcdfcgkgdddckddifjdkckdccjghhcffkbhbjighbjcfgdjfghibjbhijbdebdkehhhghiifjbbbebdfiejjgggfgdjhcdggggcefffbdibgeceigkgddgihkfbkjbiihecgfcekjjgffhijheghhkjdhcbkgbfdccehhficjcfkbfcdbdfifcfhfehkfhkihhfjbbdkieeiibhccjhjdhgfcdkkdhijdbecjgccfdfgcgbgcikjhecebkdhkcffheifdbcfbcjddffddbgjhhjggfhbggcdgggibbiekidgkghcbgjcdkfhdhfgdfhdfegdiikidkgkcefidhiifckfckekgdfidhckgiffhbkikekgkkhecffgkfhhhkkejfbdfidfihcjfekckcffbhbdjhjgfighjicfdkkgbjgjhiccggigbfiekjdfehjfkijiebkfcihibkgcfbigfbckfcgbbegccicegcfehkiecjdhfgeghekecbfhcbddijgigdhddefhbjegdkfegkbjbighbbegicjbddbhbbchgkcgibbbehcibcchcjjjjhifebhgkhijgbiefiekbjkbikdjchccckkccfebijhdjigecjegbkdfgdbejkeckggcfhibheeghgbehfeifjjgefkggjjjdkkbcchfjjbgcjhdebdjgdfcijcfhjccjhddehgcjjkeecebdeiidcchjedjfdffcbdbihhidghjbkhdiejicjefgkhdfjegddbhdebekibkchcjjfcdfbhhjifeedeihchdicieiehgekecjdfjggggdkjggfddiihejkiebbffdbjkgfccehhhbfdjbefechjgdjehfcgccgeeehijdhggdbigkiccfiebdjbcdbjbegjeibjfchikihjhbgihjejhdhijhejdddhjkbkejebfbjkbhgjhhjgdgkhdkhbjhbckbejeecgkbkgbeihdfjcdchhbecekdfkhfdedjfckiedckigifdgejgbidddjidbighejidkichifbkdbefigfbhebcbkcicgchkiggggddeecfdhgekikcdhjicdeeifghgjikijkjfigfbebccigdehdgigkefebgijejkebjheebdkjigkidckifhikjciijhffhbjbebgckcejjgdbedbbjbbfjffihccgbgkedkbikihdkbiehbifhejffibhdbeckdfdbcbdggfkdhhjjeeiehfikkcejfkedifbkhddgjdkikhcchigkgccckfbegjiidbbkdicbejehchejdecgffkdcddidgkbgibcbbccbfceiddfbgeddffdifhejgdfjdhcdeegfjccdiiiefddibihgcdgibjehbekcjeifkdkihhfcbkdfkcdjeigieckicjdibdcdgkcjfbejiiecgjkihchcggdgfiiiekdfkgfkkdbciihddigdfjfgikjcjcdciidfjcdcccigjjjcecdhjhbiikbddihfidgejkhbggjgfefkjbicjbkdhbghkgkhgfhdeehfjdhjhjcjcfebkkgjhibdgjiddcjehffekdkiebegjcefghekhffjikchbficjfkihcjfgicehcicgikecbgfchjkbdhccgbghjkcifebgeikjefekegfcjkkfdjibfdghededkgchkkdkhijiddkbbifkjfeefjfedkjkebeikhhgfjddhdkfbgiifjdidehdbghdjgegeeekhbhidgjfkefbbeghhjifdhikkkhfkkhcjhjijhhcgccekdiiicgjgkjejgdifhiiijcbkeheficeggegbkkhggcjjebghkkjifijkdfkgificcgfgfhkdejbiikccgggceifehbfgdcdbjieiehdcijckdjhbkhgbkchgkfcbgjdkhdbcbjgkdkdjhgfbkeecibbhekgjkjhcibkgfkeihibcghbbbcjejjcekhcbhbkdhijgicdediedbbhbciigidejfedjekjeidfhdigcidgikefjkgdjibebheeighgkkdfiekidghbhjifggfffdjejfdjdgchijbikgkegkkfefcikkcidcbgdjbbcjfcechejdihhgcddjjkdgeceihcgekfeiidcbdhkbieejfhkifihhekckfhckbhidccfdhdgfhdbigikckdgidhcfjjcefdkcccdkbhgcbdddifdgkkcjbdegegjibfejcgccbccggjkgikcbkjfkbidfbiiffbbhkihbcjjhgjdjjkhfchfeeiidcgjhiegiddcdgkcidgigccbdjhdigbighghiejjbehdkhbdbdbkgcfgdjhbbifdfhgcdcdhfgfcbcjgfckfjkeikehkcdcgidgdeeefehjedbjbkicidhkhfccjckchffhgjiefkehjhecbikcgcedcccjeiihihiggbeikfjhgghffjffbhhkhibcbeiejhdddccfefgiijghcdfidkbhjdiecgfcfehebfjfhjhcfbchfdccjeefkeebicegifikkiiejhebgfcjbefbcgiiegdcbfchbhgigjbgjdghbhhgdfhbehhhbfbdcgfkebikejehcbbjehcfccibghbggcjhdgdjjdeikiefbdjdfkdgbejbfcbdiihbejgkkhhebjecebjbkhjibeiddfhbcijgekjheiiieeccjgcdhbejgejihdcjhfkbkgjfeikfejijijbifcfdcihjbiggkkdkjfgjgchbegceccigdbfcfgcdihcbbjjkehdikegeikbeehccddbkhfcigdfhfjbgbgjdfifgjbckfbjefhjfdibbkfjfjccegbjjdkhcfkbidkkkckhdiejjfdebkceideeecfbcfgbkdhkckgbhidgcgdkiefeibjkjifkjkiehdebfjgibijjhckkbdhkkdjdfgihhjikcbbcfgiiikkcikfikcfcbifbckkkjhfbhcekichdcieeghhbbhbidkdddbfibeeddkfhijghidddcbfkfkgbbhejceikkdeiccjffjjgegcedbhgcigbdjeikegbdgghfdikhgbggbdgiikifckjhhfkjdkfcebdhdgbfihjceejcjgdehdcbdikejcefcbjjdikgfefcfjhkbbfibjbkicjdijjbeigfjcjbdgjkfcghebigcbccefebghcjfgggjcdejjjbbgikkjgecdhejfeichibgkdibbbcegchkhhbeccjfkggkijdkgbkdicigdeghdjjjjhfkdegdifgkjjhbighjhicgkkggghkhkdifibejbkdcgjgdbbgkdfjicgbdbegcbkcjfhbgddhfcfdfhgbiefegdbfkhfkijgfkkekcddbhgebkdhfiicgbbchjekifgcgbficgfkibihbbhidedcfdhhjbkbkkiiddikhchcgkdkkhdegkbbgjfcggbeigkeehkbfikfhjgjkdbgdcekegdjejifkeddkhkgcieckiiieifhhjhjceejbjegcjeihjhfeckfhfkhehekhfcfkbjdjeegejkfjcecjjbkhbdffjgkcbdjjbfccddicgbkeedcejcgefffcgikbkfgffgdkiecdgkddhfdgcihejgjcigcjhbjghjedfjegikfgbcidjfhkbbkjkfhhfdkfhkjigbbhcdbgkcgjhkefgheiedgcecjckggicbhdiickhbbicdgkehbgddkdbfefeegejcbfgkfigbidjcicjhhebiibfchbbkkcfbkejcdcjgjcgidjibighhifijhfhiibkijhjbcfeeegdgjckegbjfbidcddbhfcghbegcjjehgefhbbejbibkjhbjcfibecjdecdjedchkdfbiigggcedhbbhhhkjibjbdiijkdeicjfhehkkbgejfgjeikckidhicjjfgifccdfhcebkijcgjefbechkbchccehdhhcfjcjbibjfjdicecjdfjckhckjiebkigeehkbdghkihhkbhibijjefehgdhikgjbkichdhbbdkiifdgcdjgihiicikbiefjfgebfgikeiiefcekkbkcdbbegedkhfjjbkcbcebkjchgeichiihkdfjikegbhebbekgjefhkjffekjkchkdjgbjdfcigikehkfkhiecfihkbjbfbkbgddihkiedjgjcdckkegbfhejhhdfchjgcgeebeddggibjijefiebjgbcfcjjekgecfdihccihidfdhefjdkfgfekdgebihdfijbedhfejedfjijhhbhhkkbfcfjbhgcgigkjfdfgbgjhiefkjjjdhjddekeeidgjikdebdejgdefcjgjciedbkbhgfcjdfgfegkdkehickecckcdbefkfegfjkdhbicfhehfdgbhdejdegbfjhidebkchgckceddjhjdbkgeeebcjeihgdheckkbkeidbjijgcdgjfgijgbfiedkkjgkkhcgibfcbigcikhgfkiefffhickjehkbfffcedecgdhebgbiiifkkjbfkffbgcedbfbfdfkbjihkjdhdkebgicdiijfcihijdbjfcjdhbdbdjcigfdijbdjicfifgbiiccdbiihihiehheijkbbhjkbgfgcfihdfhdcbdhgciidhjfkkhkdbgejeeffdceccfjhkdgcecbcghfkidhjgdigffkbcbhcgbegciciecjdiiicdibeiicfhejjcebekkcdedhfeibcjgjbdebidbekifgigbbicjkjjbiejdeejieccehbchihcedcjkgejdeegbddjfhbhbekhdkhejedbbkedcikikedfihdjifgbggekkcciddhjdhbggccgdikcbjfcebciehhihibjegekjghbekidgbcfjddbfiejjdicfebkbickdjbjbkhdcdccjejjbcjbekikhgifbfdcgcbfkfdcjejfjdigghebhjjcdkfjhfjjdedbjeeggfkkgigchjhkcfgkgieedhjdbfbeefccjgdciefgijggiifhgeegggkjbhkjjfgjfefkcjfdicchefkgcgjghkkdgjkbbdbgebejgkdfhechbkfckgchcffihbficjjckhdghdfbkgehhbfhbgfhiekiegbkdchkbjbbfciijffhhcjcfckbcdhddikgbgebcdhcbjihgdiihkhhdbidbdidcbibgcddbdfkjiikgkhgfkbkdkedhfjjfkkekccdkbjgefbfiiiihjkfjgdkjdcfgbgjhfkgkgeejghbgijddeececdidddkdbkbfdfbgjjfiekibjbeficebdfhjbkbdcddhefkchcjgbbiibfhihfbeeeifeekcgbihkdjgjbjgbcbekeeejdifcbejkefieeciiggkfhigkjjdjjdfddihchkcdcehhfbfhhdfckehibffbcebhjhdjhkjffichbdfdjbjgdggcikghjfekhfdegkchekhdfeeicbbbdgkdfjhkffcbcgbgbjgjjbeebkgifbihdbjeihdbehdcdhdjhdkffbiekfhghikejebjhbkdcibdckchhgicbiijjkiedkifdckfedfikjkfdhefdccggbfegbheeccgebecgigdbghhififcdbiibkbcdcjbddejdcffijghjcijeicihekccgccjkdcbidhjhbhidkcifhdfkhckkbbecbhkfkdejggkfkbgcdcjkgbbiggifgeicbkgbfekjdbdehkgfdhcjgeiejgccjidhkcdghegbfgbibfdbfbjhkibhfkjddcebckccehfghjkkbbgghjfkiijhjfhhhbhijkdficegihijdihhfeefhgcihiihddighhjchhichjhkijikcfjehddfjhcehijddkdjihihkhhhbeibkfdfdgeedbibdhdfchikchhcbjkhgiiebjekhhkbcdccbfbdjhhjhjgecbkjbjdegckiibigckikkicicgcbbkkbbebigfjccdgkiifkkehhddhekhkbcgfkgiedckkhhjdbhiddeieibeecjibbhccfghjbdfkehkdfbdeehcfgfddbfgejcbjfdfchedkdkkebhkdcbgdkbjckeffjdgkjgecgehiebghkgchkbhfggjecjghiibbeeckjibffbfdbcgffifkebjcihejekkeggbfgkgkgjdffcbecckfjggciegdhbgbhifgkcgcijhekkidedgkikfkbjjdighfbbgbekejhdgeifbkdkhhfkgdjgjcjggggiikhjiehbkbcejhhijibdjcghkdigbjddkbjfhibhkgigidhfeihhccgghikfcfkcfiiejdibbgehbbifdkkeffdcfgiekbfffebjjbgcihhdccjhghdkfggcihefeehbgghikicijfjbfhkgfjkgcgkkggjgbhchidiccebffedghkbecbdefgbcfbigdedfjfibihhehgjfiidkeejgfccefcigbgdjfeghgidccecbfdhbebbighhgbhgkbkgbhgdiifkbjfhdiidgdjbdhhghfchhdfdjkdegjkbdbgedhdkjjhhcichhgkhijjkefijbijjbibechcckhhkkkgedcibcfcidhifgbfjkkfebkeeebfhecjjchcececkfhfhdcedhfifbjhkecejdgjjfcgbiijhidekihedigejjjciechcgbiijjbkikcjbhcjhddbkdbhhbbfbkkidghiecddcfkkihibhidjfjggjffgcdhieggcbiehgggehcghiicihdckbcefdjcfehidiiijidhgkgdekbibdfkdedchhdjhfhcechcijcghckjjhjkejhbjdicbgecfjikfkgigdcikfdfdjdgdfefckdgckfjhfcifcefgjdefbckecjjcfdicbfegdbijbfhjhdckigihidkhfdehjbhkbjkecgdjccfkgiifgdfkbcidibeiigijhbccheciighfbghihfichfjjbbjfgfkedffdjedegddbbcfhkicehfgijecgggfhhcijfichdfifdjefcihidjbdfbibfffbdhbefeejjjgkhhjgihghkgifkihkicdjejhcfdbjfdgiffehkcfbjhehikfcdkkibjigbdbbjejkcfjgcdieehbdifdgjhjbidjgikbccjfbhdgdjebechdjcdhfiihekibddfcjedbgjfkedfhiffjgfebgjgbciebkcfjhfehejbfdjckidehifgehkbbekhgfhiebhkhcihjjhjcgfjdehbijgkebhidbkekbdegichcjgjhedbjdibegeehfbdefjjfgbekghbgjbkdgiggkikjbcbcgfhdcgeeejgheekcfegbbdedcjjcbjgbcehfkihdgejfgbeeeceefjhceijbccedjbfhfhgikfkjggggdcidbccgehecdfdbiedgdiedjcjhbfbjjjfjfededjigbfikjhjjgcgcffkdijkgjgicffdkkkbikhjhcikjcegcjdhgjdffdkkicijkhjbfbgbekhhhifjjddehggkibfjikcdfieicbdfkdfdkciiikgbdehgjjdfkhjcfckidffdcckdjeefhdbbfdhbeeeiibdjhdhjjfciebhjkbjdggkjfjfeihfdjbiijeggkhjggdikjfkkkbgjecehdcijcckhgjefeeicbdhdgkfkkbjdfgjkdgejjbjheiiikjiicdfbgghjjcfebjbfgidfeekbcgdcdfeijhjggcjffhkfbkdkkikecgjheiijdkkkkfceghejfcdejbegeeihihjdceibjfceefjhkcbfbedjibbgbkdcdjjkjghejffhfkggeggbdhcbdjecibgbicdkfjkcdcddjkgcebikjekijdffhigjcihckggjjbhbhdecchhbkdhjgbefecbeegghhkckfbjhjbbjiffhjgfcdkbhidkjhikjgkebdijgjkekhfkfchecchkhjekigefhbccjdjcfifhbikfkdjghhbgkhhikghjbgdfijkbhbfhcdjgbhkegjedhgeibefbgccihhbikcbddkcbgjjjggfbjedgffhiebhfcbgegefgcbggeghhikejicfhdkdikgkgfkciikffdcbhkkggiiecdkjiieheigbfkghhcckfkhbehdkgebcdggddbjkfcfkekcjcfeccciiieggcfbekdegecjfbjbfbfckgdikgicghffihbidchjjdcbkkdhejhgebkfdejcgkhcefbijeccheebidjkbhbgdbgcbefdijikdgdcgjhdcbhikhkcdikigjdgcidebhgbbhjbjgfbjfcfkikdggdkfggfibcicidhgeibkidkjbjhehdgbebdhfghkkdkcfkicjjfdcjeifcbgcebibjihhggkkfbgjgjcdgchcfghiejgibfdigkckdefichdcifjbghddgjbjdjjefefhhdbkjccbehjbickjhedjibbceffcfjijbjhijeejgdhkdehejbcgccfbffjjcbgjicfjdiideejckjegbkcgfiecbddhkfkgdccihkbjkcecejeecdkhkijbihhkjgcfgggbcikkhebjhbdkikffjkibbifgfidjdhjhcdjjkekbijdfiiichgifdkkbbhebkgjbedfejikgcbbcjjhfffbifffcfidbfbhgbbbbkfffkheekcijkegdkfehefhckfejjbfkjgibdkbjgdijjeihcdffkjejhfdkejefibddbdcchegdckhfdikkjkffkdhkccfkhiefbdkbjiiefgkffhebgehcbdecfckhckikcieieiiiegifjjjhckejkgffefgcefjekifdhgejijekcghddeghikjgfccbeeebhgjbjkkjeikcghfcbbgijbddbgejhhjbhbheeejiighebjcjkdebifjigfedbihcfidfehfgbdgkgfcieegjkefkebcfkgcbjbgbgbghcbgjjcehkjhiiggcjeecdijjhkihgfhdjifbbkbcbcgikdghigdfjijfdfkhjekeicejkdbkcgfffibdeibkhbhecdgehigbgcijcikigbfgbcjcidbebhkcghghgkeigdefiikceccggejifjidegbgefbhckecdhhgbekcjffdgiefgfbiebickcdgdkkdcjfjbkkhgffdgjgkiikdebhdghcgfcejkiikigifikbdgeihfdkdihbdfebjhbggcfgjghghhdhgcbkfgchdfjbdjkkjhdkffjfgbfbhkbeefjfjhbckekfdkfchkgkikgfjgjfgbchjeihgbjcjdfghcjibeeihfgikjgcckdchhkbcbjeicgcijbeccgfficeiiecekdekdkdggecdfhecheejhgdcihkggijfjkiibibbijkghgjbfkhebhefieghfkiggkchifgjgickcjghhchffbbgbeiiibggifejfcjdigbjkfkcbkheedhficgcgddcehjdbdkhbihcegcgdkkjkikjjfidcfgkckfkcgkdfekkkdkdbeghggfcbjhjddbjejjcgkikgbbeedejhdeekjgkdbgkdfjkejeekbikdbebcffjcdghighjceccikbkdcidfhdgkbfhffibgfbjiikhchfjhfifcbceeibgdkfkkjcebedekegdchkfhjkjkjdhckhckkgieehddeggeeideddfgidejfkkfdkkejkigghikbckjefejdcjgehdigeidfdiikhcejjjeidjbedikkdhggjggkjckfkecjbfjbcbckgbegggicebjgiifeebeekkebbeejggkgdjchicffhkeeccekichfkffgcekkcifkgdeifjbigjgfgbddkiiecdeibfidkecekfcgidcbcifdkhbbhkkdebfefjkegddgjkgikcekkddkfjgcgbjfibhicieiikdddgjfgbfcgggebkhijjgdcbhdejdihbfccggikcjgekcjjkfifcjiebfgciefeeghdchjkigcbgecfhhcgjgbgigffffkchdkckjccfececfkbckehbcfbcbgbggbkfhbijffjigccdebecdjcbkkhkfejfcejcdhkkcbbjcfiehibbdbfjcdjdfcdiibcgkbddjcedbjfkhfekfichdjcfegebcidcjchefgbhicgkkjcdkbkiifidjfficiefkiiegjcfccfhbebfcfdfkedibkbidebddgebjcijfcjehgchciieeejdfcdfgbhekkiifikiicfbfhhckhhddceihgkehcbfkehkddefkfchjdgbkfkfhciecbcfkbcfcjdcdibgdkhkjehfgifhcgjibcjcjcfgeggkkiheifchbicjkhejejegddbiddbdcbigjkeegbgbibdhefhcfhfbjdgdbkcgfekkfgffcijjddfegciciebbddidceggebkfcddheckckbhfdiggcgcgjfcfifekehbhjgheebcfiebifgjieihddgdkeikefgkdifcdhfhgcfbgccehehbgbekdhjkkdcciikikhekckejjfggkgjbgiebediedejjjhdgihbiibejhcbiegdjgkegbiickkgfejkhhcdkhfekjcicbeihidghjggjdkfdcbkkhfkgiebbbfgicicdhjgkffdfihegfiecgjekceegiifidkekbebiddbifihjbhbefjikibhikecjkehgfeidekcifgecdjkefhgjgehfgckgifdfbheefdhdfkedhekjbdcfibckgbhdebffihigifkikcgikgfdkcfkhckiedgkicjjckcjijghecffhjdecejjfeefdchhgdkbhhiegfcdejckccgfdceegkkihhidiejfcgkbgfeckjgefkbbhbfebdbfeeijkjcejbdhfhigkgfdkiedfekghehbkjfbkjdgejgkgihdhjfcbjikhfhhfbdcbdcibcjdkbbcjjjdfhbfikkfjeihbiegkfbkjfdcdgjkijigdjgiddjebkhhebbcdijfedibfffbbgkggdhjkgeefgkjcjkkeibdhiikdcbgfhckgkffgechjkfjjbehkkkjiedefcikifjhgckdkccdhgbedikikfdiiddddcihcgegdbgedhchgcjfikhcjddjfddbjfkcikikkbcidehfkehbkhhgbfgiedigdfidckeikegiidhdkbfejggebeiebefegkidfejieckgdgebbcedkhfjgcfdjkicbgjiehgbcefihfciidfjdegdcghkdhdcchidchedkkbkdfijfebgedkfbfjcjgikiehfcijkfbfhkhjehdbfekikghjfebdhekefcgidbbgbdfdfdkkjcckhbgjkfkihcdefjjfddcbjdhghfggfjgbffhghkdcbjgkdebkdjcgdekbdifjbcfceihkeegkieedgecbgifbbjgdhjkiihhbdheiidkdkffcbchjgeebcbeigdfdgfkjkkjhjggbhfihidcgbgejdiggjdbekifkeibdikfhjffgjfgbijgiececkdjcdcgkhgikcijjibkgjkcffgheiikhkkejbigikfgkdjgdijdcbbcbgfdckdhgeibdgcefgbekejieggkjbgigggfgfgigfibcjhhdghbkhkfbbeicgbffhkdiiikcffkcdjbjkbcchcefckedjcjkhfgfghhefdjfbcicgifidhdfkejdbgkbbdeijghhbdghhdjjdedcfdcidijdhkcchihkhgiibkfghheefgcejfbbigcfejfibkgdgjedhgjiicgjcdkkkdfhhgbcekdcjegiiebdiikdbbcifkiigieffchjhgbfhebicjekekiiciiggjjbigkddcibkjgiciiffbeekhbgfhciekiigjjfhkhkgjjkhgikjhkhdfccgjfikgfidccbjcfcbfjebgjcfggjkcghdddbfkegibeicgdjbbfbekgjehgfchhdgdbcgcfiibkcikdfkedjbjehdkjjbffdcechbhdhhhcefcbkjcbekkgkdhhegikebfefcfbhbeikgidfbicigekikhkfffeidjkgegcddghkijgkkhcgikigbbjkdjgkhidckibfhkhhgghhkcejhijbdfdefhgdfhjdkekebgjhjeckcjekdbejdhkjkjbdkkghbkiekjeegjhjhjjdfeifdbidkfhkcdcbhgfkdjbkikidjgcdikheeicbcjeeeikdjjfgjhhkicfhkdgggiiefdjdfkjicgibhgcbddgghhfieicdgbdhcgchehfighihbkihfeiidebbchfchjdhbdhjejdgijfgkecdjffbkbhckddkjhgkfgbbeefgdckkbkkkikfbhcifidgjeefcdjdgebbkdcdhbcgkgfcejdjkedgfjchigkeidhjdjkgijfikgbcfididjfhihcghdideiggiifggdfgebehkcckhbkffjfgfcefjffikcdjdfidiefdcgcjkfbjbbbddjcfdebkicgcdkeicihcfjcdbidhhcgffddkfjgikjdehhggifgijccfdjbgkcchehgcdjjehebkeggcgkddbehfekdfiicecekcfkibcghegefccibgbjeijfkiefbedgbeccgjkikeiekjhkbebcgffedhkgjdebhigjidkefkkhdgcgeebgjdgjbdbfghgkifihcdhiikgfjhbegecdhgcickebegfidehhkjkedfiibbdgcbbgbchbfdgeghcccfbddgikdcfkbdckdfdkjkekkhidccgbegcecddccbhkchibibikgieiieccdcebeccidcjbbefbjebebehjccecfdeffhdkbjjiciiigbhfbffkedijggfgejhejdjfbbdjhfijdckiijhibkjiebecdcchfjcfhdkeichgieekchkeefdfifkghiicchjcdfdhdjckcebjidbkcefhegjdjbkikhgkeiihibiekcbfkbfdgdbfcdjjbdfgbbdgcggfikedfgjikijecdgekgjjhefdibkhiegjicdchigdcfhkbdkgggjcbbjdgeegfkgcdecibfjdbhifhdfdjeidedehikgghiibebgfbcdidcfekikijbecbeebhbhigdhkjbkggbggdccchebdiibijcgjheiidfbjgijefkejijffkkjegbffghijkefekfhejfkcjiekggkidedfedgfbgebbibbifgchijfkigekkehcdkjibhcjehjckehchgdkjjdjibjkggiigcjjejfdcdhebfcggjbijebiekdhcgickkchehiibchihdfkhbcgibgjhjhiehdcigghdfdicecghbbfegeigcjkieicfbcgcdihkdcdjeckfhfjbibkgbegdfcgfekjkjddbdgeihkfdibdffbddhghjedbdhdcfekkihddfkihhccdgkgdkjbhcdchgikbegifggjkedhhcbhhhkffkcgcdicikckhiejhedcejfhbbkffbceffeehdhdcdjccjkgjfiiigbhcgjedcddkifhdhhiibbfkcfhhiejkickcfjbjbeffjjchdhfgcfchgedjfefjkjbjcdcdbkcfkcijddiechehidicdhbfcejjfkijgdegdgfbikcgbdbjeejiikbdgbkgkcjgcegjkcghibbffegfdhebfeeikkkhbdbijhikfdfhibifdcgdkjjgekdhdfeihdbcghecicdjhdjhddejihkifbgigbhkfhkjccbkcdhehiihhgiibkfjbbijdkhidchcccbgegdfgijbfejfcdjgejffdibfhkhdjfjekcikiceiebedgffhceikgjekjifeffcchkhdbdgfhbkfdkekbjeefehciicicifcbkkedihckcdhfidcdiggffdgeidgdikcececbkhjkjkhibdjddggcekgdhicfbkicgkjjcejcjibkidgcijjjijdddiiedkcjiehhkcgihifhcdcdfjhbggeeecfgcdgjkgjkidkjeebbeekhkeceihifghhjckihehiiidjdiiidckjdcidcgeghbkgekjcgefckidckkjjhfiffbgbgjfegcejdefbhcehccfjcdhdghgffgfhehifidegbfcgchdijbjfecddfckhghfichjegjekbbkcbjgjhghkdgkhedffbicehbfhjgfdbgjgebcebkfifkcdikkcjjebeijfkbehgecehkkdediiejhfieifckcbehddehebgdeiigbjgbbecbecccjkcdfcdgbcejgijcgcidjbeefjhfddgcijebehkecckhecjhdbcbjcefekgfcjdhfgkfdeifbkgcfeijcbjceeejhedfjeddebkejdgiejibkfeggibkbkjfficfcjibechkhhhbigjeghiddcjckidbgkcbfihhdgfeeejdeifdcfedhgigdfjkhbhikfbfhhjgeehiikkehegicigjjdffdhbechkhieedcigeihdeeedjifkejhegbddeffcidiecijkhckchfhgjddjhhkbjihebbjikbhdkjhkffbkcjefeffgcgeehbiiecbffbkbikhikcdedgkfjjjiefbgkbcbhejjibhikkdgbfgdkkcckgcfbjkicfbjkcddffcjkciceeibjkdjddhhjkgjedibgghegcgcijgedkeddjjjkhgijcjccghbifikiheeeijkdddecbcdjgfcbdjiijbibhidhefgcjccchdkjibecbhjhehfkccdgcggihjfjekhekgjfechijdkbegigjehefjikdkjhdjgkbcbkkcjejhejcjikjcfjkibdeeegfekkggdggfceejgjjihcddegjjhkbifdfgbhgccijhfefeceehbhehcidffdjcbihckcejgbcdkkiibckfkhidhiickgjbdcdjejdceciiicchidhfdeggijfidjfbifdeihjicbgbjkefhdkhbcfehcebdjdjggdjicdjgjcjibhkjihfefciffjjbdgeicdhefihkdfffefbbcdgdkdiehibfiffckiccgeeehgihcjcbibcfekchkfjkkkeidchghikjejffiddebbdjhehgjkcehicbbccfchffkfgbghkhkdgfecefgbehdhdhiggbfehfkbbikdhcbjcefdhdfhggcidjidbiiehhcdifjkkihjjjbfiefdcbbdkhehbeefidjddifkcfdbddjhigjdhhedgjhgefhdbkgffjjcgjgbiecggbckkhjcgefckcgdgfbkggdfbhbhfbifgjiffdbgfdjcikbchgjkcicfchcjbkkfcfkjjkbfkdkjbcddkhfbkcgdfkchhcfcgebehcggchkcfieehbjkgecdehkekijdfhkhjcejffjjbdjchckfibhhejiekhhghcjhbdcfdgebfkeifeedjbcejffhbjedgckfiifgjdihgdekbeekdekgiebfhhcgecbedcijcifjkhgcggdgcfbeekdibdiiidjiehhffhjdedfhfgfjdddidehdijkfjgigjijbjcffjeifffciffigkjkcdkjfiiiikiecbbigidehjbhgehhffgihdeibjkbcigcfcdcggbfbdgekbdfbggichbkkkckjfjcdckdgeefjhecjfichkkjigghkhcfbhcdiffgejdcidcejhiehcgicedbghgkebfkccdjcdckggdffkfeegciccgckdkdjbigehefefgikdkecifjkjjeehgfjiekejhgbdifjjgdhjbihhbcdjekecbihfkigddbjkihbfchijegjcbiikfiibdgbfjbighcficfgiieehiibejhjhdkbgfbbjbkgbbcjhjkhhicgieeigcjjjjfjkkiijbfdhejcjcjjdibfcgjddijkddjkkihbjhdcgcieeghgebjkbfbgjhcghdkcdfidehghijkcjikhdkjbedhgdjjhbdhjehijiejkekdbhcikkkdbkjhdjehfdbcfhhjggfhdeegeihbcehcgbbgefbecdghefffjfgkicgceekefgkchcedhhcjekkedjjdckkjjidddfbgebgikgkjfdgecgebbbdjhgkhjikciedgdchhiddkdkfkkjhgkhgkhfejkgbbkgigggbbjfikeckcfkhggdjcegfjifckdhhgjbfebhdfgbdhkjgjkehcjgbbbhikhiggihjbeegdihbgigcggfcdbciccgccegffhbikjfkdkbbcdhkkekfkjjcidhdfgdcddckecbfbgjijhffhbfgghibkbkdeghkddfbchhhibegibfjeffdiehigjeghcccbhkkgfcbbdfbjdkffgikhbefeijjgjficjeidkgehggfgheejfkigggibhcfcjbehfgkgkfbhgkfidjifgchdihkbccgdefcghhgkddeicejjhgfgdchehgkjfkceehchhijikgjieghejdkeccdghcihkcdfjddgdhhddijkjdfdbhbkjkdkcggecfhgiegfcgifkikkiccgcfhcjjbhiifkjidhddciidhgdbkkjcgjkdgciddcifkbkgjehcibgkbcecbgdcbgjickkiibcghjkghcckkbdfccfjehjjihfhdjhkjgicdhdehhjejikbddkhikgcgfbehhigfbjhjckbbdejcdjikkdkkkgegkdhedhkfkfceifjebcdggfgecgcgdceehfebccfjffccdcgjkbdhdjjigjkbgdgfifhfggddbccbibgfdebijfbcfhgkgjkcgchihdkbhfcgfddehejghkekedkcbbkcdhhkdjkddikejffedjgjbcihcbfebkjfiifcekbidicjgekjjecccejeeijeeeekciehkjgkbedkicgjfikihbhdbhjdecgbiffiikbkjfejgbdbhbfhbhikjfekdjeffiijjdjfjbfghbgfegihhdkghjekjkdficceffbkkgccebkgdjfedihggkiehffigidigjjcghbcebjjikegdcgfcefeihcegjbhcjfbfkkfgbjfcdejjhijkgkjbffbjjcecgegdjbekkidiccidhdhciiefbgghggfchefeedkfgeebkehdcjeedjgfjhdghkjbfbcbiegehjckkhfgchebfgdkkgbdfhfhefihhcbjdeggkhfiihdfjbchjfgjejbddcihgjefefgjhidcegbhgbbdddddkjchgiihgkegfeibcfgdjgkhejekijkfjehfecjecjkhccifijbgibckhbdikgkgbbckjkfhijikehhijehkdcddjcgfjfkekfhkbijhcegbkjhbhdgfefdkiddfgfkiheeijidejkccbhbgekhhcecekjjdefkdbbcbkfkjjhhchdceeiehfkgcccbdefehiigkfcbhkbfjbhfkghcedcjdbicbeiihjhhhdjhkfgbjkijbikdcjgdgkkhghjgdeehkcdhcekcbbfkbhjjiiegcghegbcigikckkddgcbjddcfbjbjkgcjhkjbjjcgkkkkgeicebdcgfkkgbckicjdebcbfggbbejgdfjkbcbgegjebddjbegkecfhkbijdcdigfhgbkdgbcddjjjekhckecckhgbccddecjdgbhjfhebhkkkhffhifkjkijigiifgbkcbbiggijiffjcbebfjebcchjjkcjihckhijcedghkdhffbhddbffgciccdjbihehhjikjidkgbgfibhhgfhfgfggdbikgkgfkgckjgidjdjbieggfdgihefhhkbdcdefhbhjeicekfgfjddbgcihkihcghikgbejdigfjkiffkejhcihhehkjfebkbjeccbehgkfjhdckdgdjiefhkcghghbfhbbjikbdhkgkhgkideicckfdgebbdjfiffbigccdjjjgfdfchbdgfeekggjhhdckgikbdehkjegjfiijcdfgibbejeecckejkgbhfjfifbikhjhhcibhekchikgdgjkebfjgbchhcgfbbjcfejjcgecfchijkidbfbkkhhjdecfgdigjkccijffhgfiiiciiebefcdjkbigdfhfhhhjgjkhjgdcdjbekkkgjfehhbfidjchbkjcggecgeckehgfkhdedkbfceehbhfbkcckfbfeigckhjiekifbkecfkejdcfhjjkghhdkcdicddfecjejkgkdgkggfbedhiiifdhhcdgchefgcekeifkgifgekddkekgdfhjcjighbkjghjifhcbeddeggiccdkjhiejdjhjfijefkeccfbfhkkcfbbgjjhbghffcbdbfdbkdckghhggdechefefbecbdkbckcekidkigjghcdhiffgifkgdfkbiiididfhhdgjegkbgheicibidcijefjcbcdgiecbjfegiceekcdcejfghefjgkchjdddkhegeddhhbekjcfkefkbcjjebebffeicfhdijdeijgehfjffijfjhkdfbdicijkbegkkehcidecfikgcgebkgihgeiekbhdbdhbiihidiebfgcicdcfcjhkidkigijjibfeebfdcjgcbiekcggjghjgfccbcbbdhkggfffeikiihkfhhfkiijggjcjkiejbibbfeihhgbeibkdjideehhiifcgbhjjehjkkdkiieekgbijcgckhifjigkiifbfkhgjdkefeecffcgcfbbddiggdibcikhicbjhfdcifdkbcigfjebcckbedcbjieejggfggbbecggfbebckjdkijidedehehcibgifekgkdbhghgjefefehigdeehgkjdfkcfhfhjhgieiiiejikkfkbhekgdkieiejidgkdbfgihecjkcjedbhkhegghgdggjibehggicfkickkjkbbhkkbfffbheieckfibbekbhkhgfdhebigegfkchjjcgdkkfegckfkhfgggfgefkbhhikhkijjjgjjifjbddeiibddfgjbgfkbkbfiidbgfibccbcgggccjjkbheiddhehbchcckddekegkcjghecdcebeekdkbjekbggkbgeifigjicdfdehfdcdhkejhkbkbcibekchkbejbgcjgiegccekbcffikjjfhcehkbgbjiecdckhebffghbhgdfcicjdikjjfhedhkgegkcihjhjefdiifebcgbcehbhbjifjgjighchhbbekfjffhdfheejdgjjbjhibkikfdbfibhhhggkkiieghhkiekbebkfcckggcccdbfgcihkcibkhecgegcjjfkdhdigffkdigghecjiibcebcgeghhhgdigbdccikifcjekfekbdkejcjfedejhkjhhhecggchfhccgjekbkhbgkbhbfciibeffjfdiceifechchdfgcbifehkjffbfjkbkgekkhehbjbkdkegbehfkjfkbieihccecfkhckeedgjkdfhifkccdebibdefkbficchfgkbiehggekfkikidjciceffiibdhjedddbhchkjckiiceghffihkbkhhbghciedfdhhigegdgddjfbkkdejkdhhekjgfjkihjcbidjibghedhdcikdbkchjkijekfhkkbbijghgkfkegcheefjbfichkkdhhedkhckgibiehcbhdjeejhjdigegchkcdjkijigkhehhgdkkfccjghdcjjegbkcgfhhkbfgkfchbfeffbebjekbkdgikecdcddiekecfifcgeheffhfecikkbgbbkbjhkcekeeecfgdegjggfckcjifcecfddkehdegcdkbhkggcekddikfbdecjjbibckkjgjihjbgikcfbgikddcjidkkhhkeijkejbcebkggkcdcjkbhcjbgicbeddefbedgiebhidfgdjiebdjhegghgkijgecgefgibefedkjjijgiigidgiejcegcijgdkgieikkkdcgjgckijkkcbefjiiijiiieibfdibbhkkifbbkcgjeijhgbckighfecdegcgcihfhekbbhbhbcdkgghfdjidbdchbhdfhbijkbedggjcdkfgfeccckjbechccebkefdgjehdckfjjdkidgekhbfchfbbcdbjebibiijefchjkgfkbejdhkkkbgffeihddhkgicfigggbciegkfhhibkchijfeifegfdfkfbbgcdcddjeefcbkffggdfdkehikdbbfcbebgkhfjkjjgikfffeiickgjdjcebefkgccjiefegeikfhcgidjekbcichhhfdbjjhifgekfkgkcifjkigcejjiigbcjfigjdkhhigkheechkciikjfghjfghiejjheikcffgbiekikfdkefcigichkfbdedcjceikedijchccgghefffijikdefeihkchibdcjcdicefhehhhcieghgeegjkgckbffegcjbjjfhjhcgjjhkikbgceheiecjgbgjgkjkidkhbjccegjhgdegeccdjieeicedjfkcdjcdcdcedhcecijkfccigbbihdecibdeegiefbkkccbfbdjgjiifedcicbcgbfcekigdbeehdggicjgidccdjigkhjeccfjkjcgdedicceicefbccgdkhbgbhbigeedkbikfhbekdbhiccfhbgfgbhkkcbhkkcchchjgikddkfekfgkjghghggkgijhhbcfbffebedecdicbhgkkijddkjfeebchidhcjdhibeejgfhfcejjhddjghikkedjfgfddeichbgjgddddbcjcgbkkihfcihcdkbebiddgcdbfgifhbecdhdgjgbddheecbjbbjijjifbiffjjdgdcgebdccdjgjggekdhgeckcggiikjigjkcgikbddiggjegebkhgfchedhdbejcdhfdijebhfdgdkkhiejkgbifkfecijkjefjkhcifjcgbggejdckcdjbebiiiifekicicbkiebhficbgghfjhhfbfkhdebieibfdiigejchjedcjihifiefddgkdgiiiijhkjghfihiffdhedbdhdbhdkcedbdieibeddbeecccjhfkicfhcfckbfckbdfbbfdgeikbebgjfhjgkggjgebbjgkikkdkbbgibiefkibfcfcdjbfbegdjkgfhcfcekgbchehkehjhkifgbchhdceikhhgkhkhcccdekggdiidjjhghdhgffebhbkhjgjfjbkekdihhdjkbefgefjiffkeccdiccgbddigcgikkiihgejhgbecbdchfbebgggbkifcgkkdijifheeggfdhcegdbefbkbkideggcfcjkfikbceefidecdiebehbffchcdjhffdkkbhcghbgkbjkhkehikcgdcikfkehhjgbbjfjdkhdkcejdeeebigkiicedfhbcccfbkbehkjdggfieckjffjeidhchgjikkehdgdhejjgihkhfjchgdkibfbdgcegdhkkdhgibcdbchiggehifbbigdjkfbbejdccjeddekbfciefgefhdbicdfhejkicchcdbgdgfhefbigicgidkbfdggjfbddddhcgehkhjikgejbfjbjdchiehfebkdfgjhkheihgihffhjjjbcigiifdifcjeehgbgffhjcjdfifheidhbjgjdifcjfjcekjckcggehbeehejiiihgjkiekkfjiidegkkbjbekbdhbkkfgbeeeechbegbgehfcijfjcigddciccijbedihfkecbckcjgekdbeifgkbkfcbccdjbjckfijgdkfgbigghjkjjjjdjgdhhgbecjgcbcjbjigjkjkcggckgeiebeebfihdghcdejffikkhcjgekgjkjfgcejkeijicdjjggbdfjdhicfffdgcjgfkjihbeeiihehdgjidkfgechkjdggeckgkiiffibhjdgdjbgijedggfjdhibbjiihhfcjfbhgjckdjebjiecbbchbffibfjegkcdgbbghdfgigfhkebedjegjgebegdkkjekjfggebjkchkkhbhihdijfdfgikgdgdiieebjgjeikkhhkkdcidgbjkgfjfjjgcfhejdddfkbcigijkbkgbbfjkjkgjgbegjgehkghkfigcefkbdkdfgckgddecjjjhccbgjkceggjckdhhdbbgfikiddefhejefkdkiejdkkjfbdceffecciheehhdifibdigjjdebbgghdfjchcfkhcbkjbcibdbceejechhdeicfgekdkbijjjigcjbjjegidegeigicecicedifkkcjhdjfjhkckcfeijjkdhjijfcjbhegdfkhjkbdiigdgdjibcgdcigjcfihhkiikhbjggebjccifdbjbdgbkgiiehceekgggkdhbbhibcffkbgfiffikkckjfekibbdckhifbhfkkhbdghfcdihddedhicecfhghhdkgikccjkgdijibjcbhcbhhibhbdcjhjgdigghkbeehgeggcjjieededfjkccgdidjehbbgdicikdcehfbbbejkckbjhkfbhdfejifccdcecfjbhkcdhddcbchjhigkcdfjcdideeggbgedgkfhkckbkiebkfibjdjhhjfbgbdeebgcfebkficigdjcffhbjefdhiigffkebegeejhhhbfdhhffeffidbfckikcekhhbjjefkkjfcfcbejiidcdcehiidfiegkcijdhedejjhdbhhbjgkicgjdiikhghkbiighiekkhhfjkeekcgdbkhkehkceijecbbkibckjjcghcggijgifjiedeedibfkjkihififcigigdceebbifgjhgfdfdkgkeikfejdggcddfgfkihggchekkddidcggdfkkhfjeekcbfhjcbcjfggcbeghccbbdigbkbfhchfgbdfchccegkibhedfdgjdfhbcfhihkdfbbgdicbfdjbkkhkbhfecfchdkfkkdgfdkcijfeikebidgjcdgkihdigebgcgkbkbcebecdgbkjdheckfgkehfbhjbbbbhkckcdbjifkjcejgkeccikdhhecjjbkcdfjibgicifhcieceicbifkgjdgekkkdkddekdfcebfddhjekfgejgcbddbighcegdghcdeegdchgdfihjiigfbgjdcikeddgfeeffbfkcbbgjdkehcdgckdjieebjkebggedfhhbcgibhbhbjjicgjhghicdbdfehhejibckhgdiidcfbhbgfbjgichjbkjicdjhgihigghdchcfbieicjbfefkkejedfeeggccfhhhkfijjhkjebdbhigkbjcdjcfhhgdfdbccehdggfdejhdbgeejfbdfkdkcehhbebghgjcjjjfcdbdjgjebbibgdgjfchgbjiikfdejkhjjfdhbikihjigjikfjcjiggiekjfbdcgdhhccfhgcchefiihccdbfkdejbidhehiigkbfdbieejjgeddhdfjggchggffdjchbgbkbjgghfeiecjejgghkckgedfgbhdkfhjdhchejdgidbhijhehbkfhddehfehgdcggjhdgfekiihkdjefkjgedcebghiigfcecigbgkhbcihckjhdbdhfkdjebkfefdggkckddidhjiggkcjhhgdkdbhbdgkcfgjbkedjeifkkjkhiefjebeikcebkjbhjciiceibgeejfhidikkkigbcbdihbejeihbihekkcijegeghcbbifjbdccfdkkhfkecjdijcffffkfjgeckedjgdhjhcdecgihcjgcijggffgiekddffbdcekhgkdchkcjjefcechfjhjikkbjdibbjccffkcddcjiicfdhicjbjcfbbkkjffgcjjhhckeicigeedejkfjdcccchfbfkccgcffidfbgdkhhcfkbhijdhgjiihbgbdhbidcekijihcccgdegejgighddbehjcifjfihgiekgicfbhheejjefgikdjgfjidghhgchfbfkfdkkkbjkfchbdkhhfjfgkjgbiibgbcibgcefgcebgkdghfjgbddkjhgfbbhkgebbihcgjffjhbgkkehkefdgdfbgbidhdffdcjkjcjcbhhiijbfkbfhfecbijefgdebihkcjjgehhgbfhehggfbjefjbhjiddfecedkbckiiefebcgijhckgbkhjcgfbdgcdcdgikjhhgickfegkjbgfdgegkidhikffekjikghkjjghfcbffjhkcbeieedkhgggdhbbeiidcgfjeifgkdfcdgiffdhgkjhdfdbihihjdekciecfhiehcdcffbikjbgfcehkfccifbbkfcifkdjikkdfheihhgjcdigckcccegfhfdckdhhchcgkgdfeeheffdejfbdgkighikiejciebbbfeecjbieigfifibeekbkkjgjkihigkecddhbhbkkeeifejgbhbkjdgeciikfigikifgieggkibfhgkcjfjffgeiikbkcgkgjkhfijdkfgddfegcfekeddjfdbiihhdeheehifichedhdkebdcceckckkeigcbheejifegkchdijghkjedbfkefbdecekhffjkgjkifefggjjfdcdcggkkciefjfjhddbccidgkdcbgbcbcckbgbeekgiedjjgeddgfifggedgbfekfkkdbgecdiheffikkckihjfjgfhijihjbcjkbeeebcgeggdhhbcccfbbbjjbcikdcfiddggfffeffkjjkidfkgfghfdcgchjccdfjkfghejgiigfkhjhcchhdhhkgfecekkgceghidibdbgihdchdiiigiccdckekbjkgchfibhdbcedfeejeghgkjdfijgkdffhbcdibdjghkkgcjdcgcijgbjfgecdcdbibefeiebckggjjkiicbdigdegiefccjeiggbcefidfkfffidkjfekhjjidbeedheidgiifehijijikgjfjkghcifkhkfgifccfhikbhjkeeifibeickgjgbcdgkhcihjiccddefifebjghgeedcgcbkkkekbdiigbkdbgchhhifjeeidbbdhkihbkcfdfjccgbjhdeiccgcfkgjigkhffegiikfjekihehgjcfdedgcfgdedbbdigjkdhfdeiidhhdkfgjdhkbcbbjhjfdkfdbcbbdfgbbjfckcejhfggkcjihbceijehidbjbegbdegkfgibdkiccbjjddgbjijfdckbehefifkbhhkkhbidhjkfhfjidhkfkbkfkdkgcegffikfiffbbjicibifcbchbebgcdcjjfdfgjbccdggedbkcjcjfkbjjghffgedibkhkfbjkbgdkkkedgdhhihhkbjcfekdjciceehijcjgcbhfjccbkfkjifheffkekiiggfckhejhjhickghhjhbhjhkfebegfbkgkfhkfddbbgkghegeigfjiggeccfhibkkicfigeeigfdfedhckibigjbgjejjgiidihkgkfechgkkbcehekbjfgbgjgbjkhceeffibfijehjekibfcibiffbiehejgigdijgbhjejdcbjhehebjhkhbkhjjhcbccfjfhgjijfjgcbgkjdkdjkbfebjdihckcddjkigicdjgdkicikeikcckcdbgbcdekjicfjigeicbcgfijjhdekfgdbhhfkebhcigcfhhbeibbgefjebeiiehfijekejjcgjeebjkijjbebecifjhegcecbgkhgbbhdgkjihggkfhhbdfcfkbcgijidigcbgghbbhgcdekkgjegbjiecceidfiejckebcbjdicijjdkgbdkgcdckfedfickkdbdgifbjfhddfjgjbjifjegfidcbhgdfdhfgbibhjghidfcdehjcjiijecickbhjcjghdjcbkiefkffhebbhekbjbkgchidjdgikdfggcehbiebeegjcckdkjfkcbgeghdkghbbcbdjhhdfkdigehjihdhidhjiegihfijdgjibhiekgjhifihjkhbhgfjffgkjdbckgbkccifdibigfjikfihkbhegjjgkeefbfjkehhekcbhhehckdikkjejcdgggbckgjgccggejffbcddddeiibckgfgkbgighgdegehicdibfcfdejbbdiffdbjibifkgbgdbjjkgjfdjjdeghgfijjcfgjkfjjigibffbfccicihgcjhkfdgccfjcegbdkbhffhcbijcghhfbiefidgfdiihikkfejighfdjjehejjbkbihkiiebgikkgkjkfebbeejfbjbddifdikjghfhhkhffccidiciccdkkbdgifibihhcfiibcfdgcjhhcgbjedigidbeihigijbjfkbddjgfciifkkkgickdkcebjedfcdfgjheehhdbdfecfffhckiicfkbfjgfkfgjehkdeiikejkhchjjbgccedghdcgfgdkickggbhkfhgcekeikeikjkdfghbifbiicjgcckibgjiccchhhbbbkecdjekijicfigijjbbbbkdkkibjddcccjfgghebjeffggkghefkgbhfegikickiefedehikedchgcdikcgibdffhhhegkfebigbbbbfiehjdgfidbfdhbhkfccfhkkdkcckdgjeeiidhkggiekjfeckhdhfhbjdjdgdchfefcijjbhejcfbjdjfdgidhigbeckfkfgkeebheihfkidikdhddccjjbcchdckjkfdgidgfcejjhebihcjekgghjjhijkhgibiccfkbijkffcecfihfdkbjchkgkeihjjkbijgcefgcddjhgffifjbbdikcjgbbbikkgekkcbcjgfiicjfbkdbfhikhicchckjifbecfdcidckcehhikcjijkcgdeghjgghcdkekijedbibgcikekgigikbiedeiihdhkckkbbhkdjfhcbcbggjicdfkhkikeeifcfifidjhidjdjgkfiebfdkfckibbbbhhceegdjfhgkhjbbkibkjjefkbfddjkbidihjjjeiejehbcciidkkcgiffgekdbdikijjiihefdijckbkbcfkkgkiehffedecihgkifijicjhcjdkiiceedhcdjejgjhejjgifgbkkihgjcgbifbcgjgbfbkfjibkdkhggicjijejbdjikjkkefeddigddfdgdbhgeidcebffhgfikkjhhdkjjkebekjbkbjdffdkgcddbihehfjgkfjekiiijhcbgbhegiccbikhjchdgcifjhkcffkfhkgjbbgcjdeehbcejeejifccjgiffcgiegigjccgeccbejfkbhbjbhfjbhkbdcdgjichkdjffjgffcbjbhkcjbcdckhdgkejdifhdbifcccbicedhcghhejjcjihfigcdfceccchicdieckkdkkibbjeedciifebdeigeficihifhbfbbjkjfddkceijeedcefhgfggbbdjhceihckjfdgjehbecfccfejgidhekeeihbdebhdjifdiejidbdchdkccbibdhbgjjjehdfckdkfdkkjkjhhdifjigkcikhdhdbbfjkhiecgkbgfedccedekjgfgdkbicjdjccfekhhbcfeedbfcdbfgbhgkeigcedfhchckjdbbgbfecbdihhbeigbcjgfbefdhifgdgbdegbcjjedkbdcgkfgdedggeccdjdeejedibeicichggjjbbieddggdhfgdbdgiehbkjkkkefggkiedkggebjfchdfhjdkkeehdhiihccdehhibibfffdbighjfdkfhhjegkdecbbkhfehiieficbcfegdgkeiiifdeibdhebdjcgbiebjegdbgkiefkcgkjiikhckfibicbdchibehdjdefihggggfkfhfiibejdgfkfkeegjcihdcjhgbejjjdddjdjijbjdkhbkckkfcbidhkdbjcfhkcjdfieeecfggjfjfbgjihbedigdgjeigkehgibfkciickjfhdekecdhhbjidfbfhchcijhgbhibfddbkcjbfbighdfgcgedebfheegheeggjcihhgfcbbehgfddhfgdjkhjkkfcebiekdggggcjkjfdiikbidgdkgbfgcbejiiikcjcgfgfgkehcdjekeddjcdeckkebckbbfjieehegkjhhkkdkjihhcddefckgdeebfjciffckbhcebgehfbhfgifkkkfkdjidgkikhckbcekfkddbhffekkcjkjcfkfijidgdedkekhdcihbfehceidkcdhbcihkiccjdicddgikhijigbchdcbbfbkefddjchfeecggdcgkgkfbjkdcfjbjdcbhfibbcdkhhcebccbbdddeegihdddbgikbbdhfkekhghhfeiejdfkgehcddekgbkdbcgbjggijghkfghibgegbgbiceeibegdedhicgiihjhhhggjccdfhkeiikjcjebjegeeiejgiiikifddkfcgijhkfjjdbcfeckcgddgifkchhhfggiegkgifefhkjejbkjfbjdidcghdjbghffigiiiibbkefickgbedjggbhikcbjdbdgjcdffckdkhgeddbdjbfdckhbeiddidfccehdedfchgcjegjbeddjhjikegkcddicgieihkkbhgfgedkidfeciheigcececjcfbkcjkfkjffeddbgbceiigbkfbfkgiehcefhkbjccdgijgeecbhceikekijhhjcckdjfgbegfcbhbidbkcbcjgbdcebdhfbdjcjdfifjecffkjgcfcdifdgegchekdfkbdkdkbhfjgdiigjdfegfgfgijigjggedgbhbhcikickkgkgbfbcfikiehgchiihfgcggcgfdcfhchkikejgkcccgkbfhcbjecifebjjkchiiicgcgdcecjkcekbkekedffbcfddbkiighjhhiedcbbhdedffcheeigeecfeckkdhkjbcdjccdceebgbbidehgijdbgcjbdbgjbgecfhbiedgggbhicfdkekejecejcbfdjhkcckgchfehihcecdgghfdbgcfhgekcfekghgijhhkhhhkbdhdgkcfkibcfchedkgebchiekfkijcebdgggceikjkcbibbeghfjgidkjddbdgcggdgffgjhjgdiccghkecifijgbdhbbccfgbekedgidkkghbkdkgjichekekjdeebiebkkfbdjcjcbkicdjdhhkigdcidcggcgekhedeicehdbcefdjgghdfgecdkebddcibgedfhdfgheikgikkkbcbegjgkdkfcghbkikfefibceecjjkgbeefckgfdjdcgfeijciecjeccdibcejgccfdfeeggiggcfhdkjhhhhgdhkdfebfkjfhdkckfcgicbbgchfcbdhffhbgbhghibfbccihbdjfgbckiehbebgbkekjhhfheebbbebkfiefjdfjihihegkddibikjheikbcdcegcjhcecgkhidjibgijkjcceekhgjifiieggbeceihbdhkdijjcegbhjgcejjgeggeggkdcgiibhfeicbbgicdcefdicfkjgidjkikgbkibebicfhgkgckifchjkiebecjbhfbdidbigekcieehjjjjbgiejjifcighidheikkgfdiiifgckijdgkdihdkfhefbehedjbfijbikkgfkcgdfhgdhkfghgkfjeegbcffcebifgkbgdhdcheehefdbddjekegffkkgcdgbbfecdghfkfcifkeffdeiihdiijiicdhbfjbfghbjbgjbdhjbgedgejdbhhikedfccfgdceigihkchkjbcjggdedkgdekhhjjbbkfcffifehgkcgkfibbggdhgbdkeckgejkbehjdkcdejhfgijbeekiccikkkhhffcicbieigkibbfjjbckihgfkieidfdicehecdbgkkbjeddjecfhfhcgdddhcigbefhchjkggcikickckjdbdekbdjbbefffhbididhcibbchdfijcjgebchcjkbfckdkccdfbifidejdggijghdceeeeegeikehgghccdcdiechigkegcdhcfjekgggjcfdkccggckcijedjbebggjjfefdeejfggeedecgjegefibichhcbfbihgkibkekgcjjgkdhbkkdfhbbfjciiiijfdijhcikiieehkbjjbhjbkhbjjjbiehhbhkgbidihdjkefdcifjheefgkikcighkegegdhjhijejbekgihekdbiejbfkbdgeehcejghcikekffbbbehdiejjhhgefkcfbbbfhgjdfdhhekfgdhcdffghhdgeegejcdjikgdhidhibghhbdbhgcbfbfbibibfffhjdjehfgifkjbcbeffijkhkgdcjhdffeifedkkejifjbbceffhbdefhghcbkecbcdbgckbghcciedcgihjijifeiccbkfijfccdjigfbkgiddgfdibbbheikjhccggjkgjkecebkiejffdfkibkfgegeidkecjihfejchhdjefieddfhhkgjbbcghdkjbdiiifkebjddbceggjhceihdjffifiggdidfdjchdbhcchhijhjhicdfihibbbigkchcjfkbejeghfkkbdccjjbjjfdjbdgeikdgcfffgghfieckdbfdfjdedibehgcjgiheiiekdkgkhbdkjbgcbdhbihcfkdkgkibbkecghehggdegkifjdibgjckkiicfihchhbhkedhghjkcifcekbbhbjkkechbhgebkecihbkgejjbdcejidbgcfdhgfigedjdgiebjjjcfeifhceegikifbbijeeijekfejihdhedkbgggjkdhchbgdegiiifchfigbbjkdbehkhkkhbgfhdebkbicfeggjjbdigdgcbhdkgcgjibkdjdjhbgeddgjjggckhkchijibfdffkdbfkekfcjedhggjegkdjdckcgjfefcehkeekccibjcgihcbkbkdkgkcfccegfcdddgfbkeefdgbhikfejjkhggkkdibdikchdjjjfhcfbhcfeihbbekkchgidbeiihjjcfdbkedfdkbijjfigbfdiiffgbighekfcjkdeiidficbibjjjhhgigjfbkgikcgegfhiiikiifdkgffdhkcihhgiehggkddjbgdbjbbciibgjgckgjichgbjjdcfbhbcgbekdiegjihhgjdfcieekjbfehhgkjbdehbicibifbdggjdeghfbjjegdjgbcfbgehifbjdkejifkijgjjhifkhbhjfdbejjcdebkihcgdkhkkkifdcifcbdfekhgdhhkcfhdghhckgkfffjkedkhjkkfckecediefgihdgdkecihfgdegichbfhjddgjfejihgicjkckhihighffgedhgcgiickjkeehieeddhihfedcfhgghiidibhfdfkigddgbkfejbdjkihghgfbjbkfcbkfdfeikchhbjehbbdhdhgkfgibdefcfcjgdjhjcegbddekeeidbibeggggciidkjdfbdfhbdbcgeebkikehjdjfdidjbjejfghjkfkiibbjeghfichdiegdkecggcfhgdkcigbgfbcickicccejkjffgebgcfgkbdhehkcigfcdgkcfebjfgbcffhdichkciifccgifkcgfbeedcgigjejhjckdhjgihiehchhbfceegdjfchhbeejhgbihfbhffghihghhihkijigfbkdkdkikigjkkiceffjeckbfifkeddfccbjbcbefekkdjcgedhfegkggdddfcjjifeehdejdjbikhbgigidfdjgfjgjhjckhiijkhjiecejdgbdhbcgjdiifeiebdghgeegdkbhkjgchhcbekbgbbhkhfebekgdikcjkekhdhkbfjebfbkbcdhjicieckidihfefcbeefkfhcbheebejiefffbjbbdkdgjjgcbiigijeiccekkcfikghbfjgdfhjdedichkgbigigficfjhikgegjdbhchggbicfgjfkicjhbchhdchdjjhciefffgccghhidifekijfkeieikkijfjjdjbjfdecgghjkjcebkcbkihckbhkgcjicehddggibdbkihdijiififkbiidkibcfgdeickiichhggjhijceibdcccdggekhiickchcceffhhhdfchfjckdcbdigfjeibdibidkfihjcfcifgdhjehjbbdfjegibbdcjgbefhchijhbbjgidccfcgcdebgeecbhkgcfgffdbdkfjifgkdbikdgebggfcfjjeccdhkkckfdedcdbkjhhehdfcdkcdeehhbfijiciccjeecddhfkkjfffhfikgjeggbdkdhedcbjfkcifibdkcgdcbcikcjfikkbikceedkjceebbcfbckebebehdecidggcjecbjhehfbcefihkhkhbjfgbhkjddifdkggeeihbfdehffdhjhebijgcgckbgbjdfkeiedfkijedfchckjfigifcegdjcihhkkdiihgiegcdgfihfdkdhfdfiehihfgididfjedfijehhcckbcdciikhggbfegkjbdegbfhbdkjhhcbkkfffcffggcbfickdkedbkfggegjgdckcjjfgifjecdggdbhfkighkebjjfhdbbiffefgecjjjjedjhefekiedkjcihjkhkefijeeiefddhcjkhbibehcickkcfgjkdkjhjfbjekkbdediceebjkiebekfkjkgfhdefiefkhbdfcfefkdhecicckbhjjjcebicgiehjkhcdghdbdifjcgkgcbbkjebibdbeegkkdhjckgbkhehikbgbkkhiiccecdhjfkbgjhgkgkfdhheiebjgcfhdijifhbbhigefdhkeffkfkgkiebgcfhfikgfefbjbhihgkegeigkchhggjbfdjcbedihiekekjbhgehikkkcjdigdkifbfckdhhggciidjcdhccjcghhigjfjghggkbhibffkcdedhgghddcgfjgkeeechdhkhgbjdhjedkfbjkedgfckhdgikkijfcfdkjfdjjfkfjcehkddhcdjcejiggfgcebcjgejgecjjdgjdckbhijgcgdgickgdddbibfdifiifgeejhcidfedhbfgghdbkekgfgcbcgkcggefbkidkgffceegbdieggggbekgkieghhhfhcjibfdejkkghfbhiibeghjdejdckjibhcghjeceiciebdhifffihidcccbgdfgfgjhghdjjfefhgfdikdhkdfhffgegcfbbikickkfecifhiecdijbcgfbkeefcciebffgkgekbeekhkgdgcbbecbdfegjfegkghhfgjfgiccfehkickccjfcchjjkkbijhbhiijjgdfdgcdgfbeecehgkbkbbhgihgickcfieikbcgchfgckehkdjhegjckidckjdjebbdijkkjbficckcfjdkickdchfcjchiecfhjkbkkbffbdckbckjghefbjjefdekdhefkkcekbbidhfhcbhbihkfehdchdihkihbjfbbhebbbibgjijfcfecigidfheeeddchgkbgbdcjjdkdcfigdcfhhkidchbccbgekefghjhgdjjjckfkgkckjdkefkdkdeddeehhifdfkhfgkjekkbjgdkegifjfjfchfeeedfkbffjhdihbjeffbfdihbhihicigdekeggdebghkfkckgifkjjjiejfdckkgbfeejfgdcibfbbeejchchffihgfefgfeggdkfibikcdkfejjkckceeijicdjfgebhejhedecfhjckgckhcdckgegdekffgecjfjefiegidcjkghffbbjhfccfjbgdbiidhifejigifgcddfhjcfkjfefhbiijdbheecfihbghjeggigkigfbchkfefhgkkffgebhhffbjgihhcjfdfegekdegfhifkihhgkjddhhbcjikbhhgdfjbgkjkkdchibeefjhhdbkhhdbkdffgeejhbhickhbdbkjhkcffddedjgfiihbiigehkbcgeeghgbchfbbgechjdfgjecicdeeggkeidgecjhecihgfbdgbkfkgebcdjicgfffckicbhfeeiefifgfbcegkjcffdkfcdcijhikjijidekcecbkidgdbfedfggcicfdeibjhgfjgijjkiigjkdgcgeibjdkkbefjdkbkcfkkgddkcedjghbdkddghgdjjfkifjhckkdejgibbbkdfbehihggbcckjgkkhbfekifeggcdjibfkdgcghikbihjhcbediibefkbdkdfdbcgejjcjkjedkfggiegjekfkbihhhkhkdhedigfejgghhefkghikjjbhkbdjdjhkjbgjfkfbbebidjghehhedhfdfjhckfedfefccbdjfcfcffbhkkkejkefjecgdjegjjcechcibkkkffdibebbgbdjchefbhkghhjdcfckicjdjjbcejhjkhcfcefhichbjghjcjfcikjhbchkidjecgdgeeiffkciehifkfkhechhgcieechjcgbkhbhbcigjjfbfcgehfkcjdgkicegjbhjeegidcfjjbhgkgccdbifcgfkeghkijbkkddeibicbgihiibeidfcdieeibcchjbheehfcffjhgdddbfhejfdhfchbjkhkfjfkfbjjfiedffhhebbfeihhhbghgfdkbghiffhjiiechbjiddhefbhffihbikcbijiikheffkdeikijejdjigfcgckhkfjejdddifhgbhceegedkgegjjdigjbehcdjdhffhegdhhkcfjjhfhhkghkjhfghhkkeghcdfgbfjkdddhkbigecchgffdkfifcidkfijgfgjejkkedjdbbhfjdgfdfjgheccbhedjcgbfbbcgjkfcbjkcjdficgfjjbcjbdjbkihdegijdidckccggdcgjkfgghjigkkhfkejjkgchkigkjjegigdgjikfijdikciecdgdjeefgjbeehibddddbidkfkcjibkehiebdhjigkbehhfckkfkbgeheejgekekidbfkkbdhdecfgbkghfkhghhdiebdcgekfkihfhddidjfifgbkhjfibdehcfkhdcihdfcdegjbjjghhiekijjbiibbheihhjekgighgbjjbdekjcgdfbcbihhdeghjjcifchdeicdckjjbjihijifibjkckedjikdhbbcdiebdkkkfghfhbhkehjhebbcdghcgdkjkhkkdbfjeiiecfcgekeifbghgghfejeebbebdieegeffkbfhkfcdgkkjkdjhfchcheigcbkjieekikfgjdfckdbfigcjhkcdfhjdjfcjkfjcddhdjdfgfebckhcjkhffkdcbhbkhekibbfcbkbigggcfeieifkhjkbchfigjhdgfcekjkdifcihbchkbdkjchceghbkceihejdfkfbkkfbghhiheghgikijggidhehddbbeihgfbggdhbhjjjhkhbbgbcggkjfkfjdekhijeckiedkebfjbdejbdbdhhbbkkbfhhhgdejegkgekdehkdcgcdhjikehddebkcbkjchdbcccckjfckjbfffccehkccgjckiijbbghkgjebffdjcddikfdgifkggfkkgkckgkibihbihdgfbdcbfdjbedjedjkfigjhkeggbggdkfkibbcbjbbifiedgfjjbdhcffegicihgebkkhfcjkkbccbdckeefikfiihfdfdekjggebibbefdcjhgcdfegcdbijgdikbdfhfdehdfkbkjbbijehihihkhbdceebhekicedcbkdjdigbhjjegficjkdbfkfbkkdckfkhgbbcdkiiijeidfigijhedgkdfdjekfhdgjjgihgcfjjheiceigifghceecfcjdefggedigecieefkhbjjgjjbideibhgcijhedkfcjkkjdfgdkkeichkfeibhbckbkdehhcbieckgkfeedjjihbdhdjdbbibhdigkdfdhfgjikhkbjjhgikckihjdefbgggiicjcfjhhkdfgdheghhejfjejgjefhiejjedbffigiicfjhkfddficcjbibieejbjdfjebbkejeiegjhkgkkhicdbeiehhidghiichdkdcgekghcfgjcbkiddiicdcdhgfigjfhccggfchkhjcgjbieefcgjecjdjfcbjcjgdeiejhchdicjkjibejgfdedjjfdkbkijkejkkkhhkfdifbeckdkgehcjjjhiedgbikcbgcbkkihbhhijggcijcidbicdhkkdhhjhfdchfecejfkgghigeihikifcefcbfddfkifeeggdgifhgkbcicbiiehdijhfbcjbfeihhjiidggkjcifebihechefjccjihedcjgkkbbbkkcdijbdcbffggikbdjebjebcfeccfhgbejfgfhhjhjgbhgcdeffhbifhkckfhjjgfhcjgbhffkgcgbdgicbifchjejcgifgbhcbjhfbhcfededhgkdcfhbkhkgegefijkiiegegbbebhfifceiidigdehgcihbchcigidejfkbjjefedckcfdejkbkhgegdbcgifkhghhcdecbjfgghkdgfiehcecckckijchikbfifdfhjiffbhediebhdechekebcjcgikbjijehfhdgihkhihbifikgdjfefdbfjfhfgkfjddjhjebiefhgffjedbdgkfdbdfgkhcfedkfijgdffkkcbcdghjjechjecgkdbcgfhhchdcbcjfkbieidgfbcfcfeihdkhiheegkecbkfefibdfiikkicggjbcjhhbdbcbcikckeegggbgjijcikbdekhhkkgbfbgjfhcefgfkjdjidjfheegggecdggkihbjjefkjccjbfjhegfkkhkiedicgccfhkjkcjigdbkhgkgcgekfecbbecigcfdjiehiikkhjgibckjdgidebcdhfbdgbdchjjdebkeiegcdbhiiegkibbdbcgkjdeickdcckhbjbkfgdhdegffghbggikihiicedkebhdbhiehkekkhhhdikhdggihgdkkhgfjejfgicfdhfkfdcbghfhekbjdegebihghifgkfcjcebeibdkggdhbbebgijefeecfdgfjfgjhhcdiibbdfebegdkdbiediiggdhebfchjejeihdbjihhdfedffieejejdhdfgfhkegeidihifgdjfdfgceghjfjhdckhbgefigkhbejjeiibgggigccgbhhkeegjecgbeibbbdiccjjcfgcdffcjckekihfdiijhcgfgeedecfdefkgibcbehgejbjgccbjheciikfdgibjggkihiefcddijedgfkfhbdbcibkkjcgehbikijkdeiggdcbjbdfhkkifeigdehbjjbiihkcgbkgcfhkccbidckdhcfckfgfhkdckfeehbfjdekgdihkjgbgijebebbbkhffkdjfcbhehhcgbfbdikdijegggijebhdehhhkcghccdjjegekggiefjehbfdkbbhfkijidkjjfhiehfffdhgbkdgkhcdecegfhkkfhjjhbkdhifbfcfjijjhjgibkijhdghbhkecigebccjkccfjedeiegkgifbfeiideffgekbbcifcfjkkkcdjihegjdkcddcdjbjhhgicdehhebicjdhgcbcjdidgfbkdjjchihjdkjjjfdhhfjidbjjdjkdkcdbfibhijfgbcbcckhjjhecikdfegffcefddjkifjkbkghbbjhcehgcfjfgfkdghdeehjcgggihfhceikhdfibfdccefbbedjidhkbeffkbkbfgikghfegheehicddkchjdbgcibgkdikcbegbhgijcihkigbfidfkfifibifkcbjghjdfkfkjfijgbedchjcigkfhiggfbgehhgcbgdbgficbhkiehhgeieijjfkhcdifgkkbgfjdhidkjjfekeibbffkfkbgdjkbfibckdkhjehjekkfhbjeehihhdegidhihdcdhcgedfkbjieccbijihegbkgbckhhbgcjbhgdjbecgfieicggejidkcggkecgfcgdgfbdigkiffbjgdieifdiifdjcffkbdgcccjfkcidbkjkdkifgjdjgjjbkdiiddhfkdhhdkjdecbbddejcdkkhkgdfbbjhifggdkgkgkbbjgdibgkfkjdebbgfhcidjfgdhfhcbcchddhdgijfhejjeceieeibdfhcihjheeegdhgifhbjgfbjkkckhcbbgjfidfjckjdejehcgfffdkbjjbbjgfghcbbeddjkibiffffbigieicijchidhkhebcchfcikciidiibegfcgcjfhihbkkheifhkgfcehhfbjecjihdieebeheejeihcchejgkbfefjgghkccjkcidbjghcibkfficddbejgjkbgiejgikheiejdhfefhciheeegjkggddggiifddcihcihbbddikeijgkbiggfddihcgefdjhbfceeficechikggkikigkfejfikibbckdjfbbchkkfbbbkfbffgcjccjihddbffdchjdhiikkfgkecgjggjikfdbdfckddbjeecjgckddbdjifbkhbcickhfcjekchefieffhkjfhgggbkifbfhdekjdicfdcbkihjdiikeigjgiggbcjdiigdcfikjdhfihjidkdikbjccbiidikeieddkihgjcfbggeecidcijcbikeiiejeekhhcgbfjghijdceggikebjjccchjkhijdcihkcggckfkhdcckbjjechfbcfcifjekfgkjeekjehdgegeebjfdbjgfkccjidegigcfeeibgiigdfdkejgfibdeckjbbhijdjfkdcddijbbkdchjccbdiikbdhkjgbjjdjgkfbkckjbejigkgfhedejdedicccickebejfjgbiegffgfdekcbkchcdgihhkbchgdkjhdhkeeefibecfiiegddbbjhejbfbefdehfedikjcdcekkcgdkjecdcbdhhhddhgkejjfehjghbfbkjjiikejcfbgjckfgekccebfbieffegjkkbdbjeiefejgcidciddgjjgkdkijkcijgcgebddijggbegffgfbkdekfdkhcbgbffjjdbfijfckcfekfdckgdjikjdebdifddigijhkkjfkcjiiihigfcecbbdijhfchhcgjgdhgjcidfbegjbkkdcfddkhbfdfihegcfckgdgghfefdecgkfgejdhbggffkchghecdhdciekjjckifgcifhfbbicbiediedghikfbijcfihckbkkdjbjhfjgbfkbbdecckieifjbkccjefjeijdecgkgdbihdgfiefhfifdcjgkcikcggceedhcfibgkhdjjghicdkbbcffibjcbgdckdkidggkfgkhffgikhjcdkkgbbbgbhifgfhdfedjhdibgijjjhehkfbcbgedfikhjhfbkejbhhfchbhbkijckhdjheheihdecfkcjhehheeehifhdibejkbdikfghifkijjdffjbfbchhedgijkjgdjjhchcjdhhfbjhbfjbhfkhckhikijiihhieegcdbbkjjhfijdghgdjhhkecefhkkhcbbhdhkhkghbbgdhikccgjgeddgecicekjejefbjdhbidfcbfcedggdkiiddiibbdgfbjfbibbgjjecgbfbhhjbgejggfjgbhjdkccbjbhbhkhfechicdjkjgfjbheebegijedfijjkgijgicckfdkcecefbdbcjjekijbjfkcfbikchjbiikkdjckdbdcjjghjkkcbdciehdhjjbciefgcbhgdbfgekhikfcbfgbdckididifbfcjkkjhcbjdiicgbijjdeeffebkgkfjgkcigjcbkfkgccifegckkdgihkbdkghbcjbjkdkicfibjbkfjefjcbeeicebgbcfjhhkkkbieikgdjddjfedfikdjihcbejdffibbcfiekdhjjdfhfjdedfcciiibbjfhhbeckfeddgedgjheeckihfdhhdjkjkbjdhifebekedgjhckfbcejejehgkdhgddjebfhcehghhjhikfgjjdbbbgdkkicicigbicdjdejhekiikkddjgfeefgcjkiejigfdjgkhekjgfihhhkceiifbjgcbbegkigbfefjdddekfchfbgjhefhikkfgjgihekcckejicbjhfdjcecbhkihjihjbdkjgfckbijkigcjbihjebdhicikbffgcejdifjgjhkecghffdhfbgkgkdfdfkgjkgbkcibfbgbccjkfedhdcejebfjcicchcdgegggbjgfjgbdkcfgghehfiiejdbdcgfhcfkigkehckkbbcdjjfikfcghgfjedhifickikegkjfjidbceeffeedbjcgkhigidbfeidbfgekedjhfhhbihdckieegfgdkgcfhhbkcgebhfibdhcekjiichghbbkgjkedjccgfifficcjfcgjkkhkdijcecchhgcgjkkgieijhfigdehiikckidkijibgggbcdjceckedgbkgeikkjicjdcbiekbgbbjdgechkhjiiggifbdgbihdfcgdkbcgcejiibcgkfjgfeiehfjddbfbifjefgkbjdgibjjdcegfbhdkbiifckeijfiegkjfekdckjfjjigdfecihikfjdcbdkcckgjfkdffbbhghdhiejdihgeijhbffeggiehehghffeikgijcfechcgkihjjedcdhchjkfcikhbjebfcdccgkhjbjigfheciefbejgbiddjbgkfkhhbbefidikbjhdkhdfjjdgejkjgfbicddbjkdddihghgejckfhgigiccechbckbdbiijjhbdfbgdfigjdegkcjgfhgjfgijcfkcifjhkjjghcbibeggkikkjkbbcgejidhhkgjdhhgekggbfejijgbgdecfdjgccgefjdigfbdihjebjfgfjfhdchekdghbjcjbkejbkjchedkkiciecgccgdhbjejhjdebjbiccjidgbfjcigkbgdeikkhhdejcfhjddcegfcdgibgkjgfhecgbfbfggihedgihfdbbegfehdkghjgcgecfidgicgjcibeibijjjkkdicijcbjebdeehhfdfdiihigidgjhkhkegjggdfbdhfebbfjchiieebjfigehgjbcfkddcicfiigbkhghjkifbibdigigccgbdkkjkhkejgggehcbibjfeigfgdddfbfefhbhdhigbhdfbhebhdhdjhebjbjfbdccfeegkfffebhjgcjgkjfijegefhgifjfbcgfckgdkdhfhbdhkhbeikfhbfhkfbidbhgjeggdegkeidckfdebhdbhkjkcfgjjkejcgbkcefhghibghhcgkbdhiiefekikfgkfhfgjejbcieckkjgikjcfdbhgciggdidehkbcbbhiijgdcifdkhiddefibiiedhkhfgjkcbhgfkfhgjdbhgifgkhgfecjkeejegkfcekkgdhdigkgkggdcdifcbfchhgikjbkcdggeffbhiffjdieiigdkefjeiddcifegghkgdheecgekjjiedjdhiifeiehegfccjfbkjcehefbbfjfgbckhjcfgekbdbkdgkjbdefikhbgjbkdkgfdecjcfdhdhjhjhhbddebjckbijiigffbjeekeccekbikckbiidikkhckgbkdjfjcheccjkibhkhkbcjccbbckegjjdgfbcgejicghbkjbjhhibfkbjhfjcdcchfgggidbheieiehgdcgdchbbdfehjgedjhkjkhkbibcdgjdfbihfdihfjdekdejedbjfbccggfgjfghhcekjgebicdcghdghjddkfjhhgggjhgjbbgcfbehfgkehfcijkcjigiebfbkkdjijegihccfkhffdbhecebkkdehgkedfghfbfcededkdhihidfjcjfjbfhkfdhgjebdcjkfeejhbcfddbeiebcgfghkieeibkcecbecijggcgifcfhbedickfcdigbdjbfdifjidfhehgckdfeiifjbcgeigfidcgiigeicibibhkhfiifdcbeggkfigchkdbicchekifdecbdfffheegfffhcdjegefdfhdhdicgdfbggdikjefgiddhgkedhgiikifffkgkedefebehekdceccekdhdjkihghjdjbchcigkkdkbejfdgghkijjbbehfcjggdjhgifcieicbdifhdkdgbfeekfhehgjhgfgffkccjeekdghegjdkhcbbkkeceefifedhhgggfjkiiccfggchfefefbeciihhhekkghgjjjkbifkhkfehbgbdigggkkjjeffidgehhcbfddhckegjbbkjbgfdbfggjigbegdhfegdjhccdbhdbejidhefeibfkccjeefkbdchffghfbbkijfejgjhkkdhfjfeigegjbgijehbgfhdgigeckgkfggcdcfjgdgbjbgjdgfjbejjdbidfhefeibefigkchghdjiefhkeejjbkecgdkkddefcbfijgfefgeceekjjhjccdidjikjfjgekbiddddfhhgjehejfekekfikfhcfibjfkdfgkbjkcfidhfieccfcibfebkffgfbbgekkbdibicffjeiikgkkeffekbkfighijfkbbikgbgifefbeejkbjjdkfehgihbfghhkjbihbjbhcejbdhhjgddiedifidhiffcdjhjhddckeibdkdkhbhigkfdcifgechhccjieicgbdkjbeebfjgechkkhjkjhjfbgkdgibdjhbchihhccbgickibejkjfdfdchdifhhhdfhidkekcfgbiecdgkdkecghhhgchedgegbdfkhekigbggjdjedkkhfgbdejghbdkdcjgdefckhjghcjhihbchgcfhcgcijffccdkgdbbcjddhdiihfijjchbfiejdejgcgjbkfcefigcekfjccfgjegbdbfidjkfdcfkfijfgihhddhcddjjbbikcjdhikdfbjkfijchhjgcffkhdhedifekgfkkhhbjdkdfjegjcjbjdbghegkjcjfddcchjgfcbchfbghegjddjgcfbfkcgkefkkbehcfjifhkddjbehhjcdfkgeckbhikddfeheiigdchhfbdfbfkhfkeeiekfjcjbijdjeehbgdejbdcecbgcfhdfgbjkghcbjcfikjkeeicihbifcdccbckcefgbhbdbgkiicjfkcjjibgcbkbbjfbdkfedhccbfdjhfhffbhjchidhikehiijcfhikbchjebijedbkehjiidbgckcdibbkheeffjkhjkbhcgediijikkbdcccbkekgkeehjjdckckcfcejkjeeicfhdiifgcecdkidhghcghhejijddcdeekhhfjikgjehdjbfheekjegjddjdhehbcihjgfedhgeegibcjbdhjghbdhjkgbcgedkbfegcjkecikbkehjefkkffiihiebkhegdegefdibdjgjeffbgkbcdihdebcjgejhiihdfdjgeibgdbgijdicdkjjkbgghgjgffdgjhdbhhcebegfdecekgcifcgcjcbkeihehfcjgfbhgccjfefcdkhjhdecbkfkkkfgifgjgihdkkbjhcjkffiibckgfehfegjjgdjbfihigkjiiecegfkbhckjfekhcikgcchefhjkbjekcfkfkebdfihihkfhcgebeedjicedcdcibbeedggdgdiekfdjfecdbijcckgikiefgbdkbebgkedcdjhdidfiihkeeefchejhbbijjdhfchdhekfibfkdcigigdhkbbgfhihcebkgiiefeiggfdbkjggjgdhfcjgkkjdfdhddefibehcgbdihjcjdjkchjgghgbjecjkhjdeidibifekhekkjhcddekifkehjdfikgjiiceijhgjceibbdkhgggkkkhkdegfgfgfddgfhegjjcgbjicfiehibgdkdgicfhggfcghefbghdkdfkdikccffhcffjgjkccgebcebgfkjffbegbgbgkkgegeifhbkkeeigkfcekfbbhedjfefgcgfbhiddgibhggicgjgdekjkhjciedfekgikbcgbgcjgjhhcifdckeehcdkhgfkfeeckdcdgkkddkcdkbgcbjckkcccejddgiekdkgidkgjfdekegjdffcbbbdefhhbiegkcfbeecfeihhdbekkdkeckigedkcijbcgiiegjgejiihhkhkkecgkedikcffdekdgjikfeeikeifidbjdkfhdgijjbkcgkjciccchcdchbibkcdkcjhdgigijbfdgdbggecgddeiefbghbkcfkhfjfigkebkckdcbjdfifdjfgkjgkfgdbdgjicjdbieikkdfhgjbkbhbijghicddkbbjffhkibfibebfgkebjhjkjijjiddgjhfhjfifkedjhbjjbdebggcdbhhidicdbcijgiibfebkdihdfgegkjhcefccdicfjiejjjbdffeiiehjhbgikhjidecbfffcibjfejjdcjebfhcehiidhbddkfjeibfkgikgiebckkiijgfcgickfdikkfhbbbcgkekdfgeikijcdefhgggbhikdjkjgcbfejgjgdkcefhdfgfjcgkdhgiihbfgkkegkhjgfgdcekicggkffbdkfkkebjbkkfhgbibjeigcbbkdbikdddegcbkhikfebkhhebdjhdjibjjhdbeikihcbggfgcbgjdcddgjkbigkjeikeicjceggcebjhibhccfbbhebbfefehdckfkbgdebiibbjjjjcccjcjikehechdkigjiebfcbkkkkhbdbikhdgddkcefbkdbikechhdkghfigiefjbjcdeiebfjbhidifidffcgfekjbeghgchhfkijifidddbggfjhhfkghejgcbdkbkggffgccjfifdkgjddfkjfhkckcbbjjbffjebhggkjckjjebdbdgihdgigefjffjcfegkibdedhhhbkcejjcedhkkiickccfjfdejbhekkghgkkggeekjkegekbgkbefhidehhejghcigiijgkkdbdidicgfejckkhddcfhkbdfkcjfgibkdkhfcccifhhdcdbgihkjhffjgbhcdhkbffjfeecihhkfkhjiidkgjdbjcjefehgibhchjkdhiccjbdjgjhbkjkkbhceecjckihdgkiggecigdfedbbjjhigcjkfdiebdcfifieicifbdjhhgcicccjecfkhikkbedfbefehfjjicdjbgkhfdkbdeehjddfdjdckdichdgjickegckehkejikkcdjigdkefkiggjcbkcdefchjfejefcegbgbeiiegiibhjchcckbkgkefifkcfhhdgecdeiebhcdikiffjikcdcikcggghckiddchiiebbkegdffcdgcikchidihjdgeegdigbckigfgfgfedckkkccchdhjjgbgbejbegckhggdehjibgihdgbjgcichhfhjbgejecjgikdfdgiekhbhjjidjkecjjefieibfdejckfibbbeechfkjjhgkfbijfjkehbedeffeddcfegbehdgfichehgefedjcbbgjfhcjkkcehedcfkfhdjhedfihbdhgjbjhbefhbidbikfjccffgjfcfjjefbhidhekehkdhfeieeefefhicbcchdeccigefeejccjcfbghdcjgfeedkifcbfdbfcffbjiehcjcighfdbdkdfejjcjidkhkdbjcfgcdccccifgckdkdiiicihhhkkhbjejdfejbdkgdckfbigejgkbgkgdkjkgbkekcecfcfikicicchkbdefeceigkbbddidcgjjkjcjhhckjbijbjekdedijgcgbhkeijbhggddhjbijfhihdhckdfhibdccdgjffjbckhfdgfkgcbbidbihdcfkcdebdbhbheibciieidkcgehejfgfhhijffbjjhdkjkecbhjeigicbckegcdcdjbefjeihkecjdeidcfkkdkjjgchdjibjcgheihcehcjdfebjichbkkgeijhjfebgfhckhggiedbbifjjfkhkkbhjidhfjfgbddcgfdjedhjicgjhgbcghjggchcibfehcgbfkffdcejehbckkccgicjcdehfebjggcfcdckdjcbhhhiccjdiebhkbgfckegkibjhdhgbkfjhkhkfjfhbcdgdfiidfgjjecekgcbiggdghjidgbdjjeeedfihjbhehjejeikejbkbhdbidgdikecdhfkedgfjhkbkgcjdbebbjfgbcbeghghcgbhckbbhdhdbjhbkhkiieihgfcgjgcghkkefehhdidbkjecfceiecedjgfeeekhjfjdkigfjehgjhbccjdbegjiicjibeeejkikjghhfhgjkekjhdckgkfjhbdhgfbccbdceghebcicjdfdbgdjcgidbkiccihfbjiccfbbbkkkfgdceeickigbjkhdjbijdfgifhikdkcfhejhhgkjhedbfgjihfbeddekjdcgkfbbbegkkegkhedihbjdfhfdedjeehfgghdhffkgkdcdiifcicbjgdkjhkiegfbefkhjfihbhgikkgfjedcbdkbhjgghkbkgejeidhbckjhdbibbhbfebeiiifhdhjdebecekgkggdbcjckfbddhcbdekhcjeeiikhihdgejiffjbckhjdbffdcikdkjgfhjhdhfbkkcjchfkbkjhcekjkkhjkbgfekffedkbibhfiejdffiicidbhibbdkhdccbhfcbbkghdggheeeggfckjhgbhkbgijkcdhhiehggkihkbdgckhhhekgghfihfhdecfgjhjfjjjfgefhjjjdjgedbjkhjbgehgdjjhikgbkedkefiiidjhhcgibcffgfhcbfhdebickcigfhifeejcedhiheifkjjgfjfighedkhkbkdbbfdjfbckgcgdibggcejiebhhjdjdkkjjheiddfbeekkdgdkeibhhgdfgkkddkcdckiigjdjeikdekchekgikehhddghgbgbjgfcebiggbbfgjhiifdhjdfkeeegkfgddfcbhfdbdgiiekgbkffbhijgjdheddggcddjbibhebdfchjkbhgbcfgecdhkcdcjcehikhcffgebhkkdfbdghecdebbfeejcdehkgibfhiekjcckgdbfehdeegjhfcihgkghkcfhjgdhfdfhbhbcfeckfiifjddfegbbeeekhgdhdihjkdghccbbkcgjdidjjkbeiekhikkhefehicbckkffebekdcckdfdeijbfehekgcbkcgijiccigeeibhdcjkcjjeihghbkbfickdjibgiccjieikiccjjdjjhfidkeekjkdkgffehfccbdkciecifgigdgkfidfhhhhcbdikihfeekidbjfjieedhhfjbdggcihkifeibfhgjfhdhecfeebdkdjfkedjbbdbjefkiijhhgkjgkdfkjkjigifdcefhbfecgchehbibfkekfdigjghbjbcgchhfeghegehjigjekdfdjhikikgcgkjhckiecgjhchheeghjjbeibiddhjfkdejcfideecfhbhdjghiicdbkiheehfkijeibhfhiegdkgekegcdhbkecccccheiiekkckdeibfcgjcbbhcjddkkdchfhhiebjkgdjhfidbhkkbjcjbikkgbbdjjjbjekjgjgkchhfcdcdihkbkicebcjehchehighkifdccgbefcchkjjibjkefjehehjdfbkhieebijeidhhkgbdhhfkcjcjhgfkfebeegfdhjehhdgbcgkddccdfghbeibhegfjidfjcbkbibbeccjgkgedeegbbjfkiiiihfkbjbiikibdhccdgbjbjdhfifddjehdcfehbbbbcgbbfbechbhefhfekihecfhkhcjhehgdchjgbbghcihhhejghikkjfkjicgjkgdkfigdickebcgcdbgekjigijbhfdcfgbihbbfdgbgidikecdkijidjcchccbgfeihhggjicbkfbbgfifbhiibkieebcfkkddhbckddgcbbhkkifbgbegegiddkbdcikgdjbibdjfbijgddjggfjhhdihcfchbjfhcdgekgdieddgfbjdfifbekdcgihkgfkhfhedceegekhfbbfcgeccjhkjeebbdkbbkcbggicidjgigbfjkffggehbehfehccckifcdeeidechbhkhbchihjiihhecefbkbbhkjihhfijdfhkcijdbbghejfbcjheckcbddhjbchgekhjhjkfchhgfbkejdjfhegibgibibcgdedbjbkbeggchbdehccgkbdjegkkihcijhbdiffikjkbdkidbcdifgcbkghkckdgbjhhkfkkbejjkcjdcbhfgkijgkkiggjjhkejjhbgkejdfedeebckiddbkefcgjddfegdedjjiiigdfjkeckkedeffddbhikhbhdfkejbcdfbjehegkhbbffjjedbkeijfeddjcbgkekcgjeiceicfeiijfbgfebdgjjidkeijbbkhcbigbiekjcjjgchdbhkdhidgjiieiihgdgjfehbedgcjfhifeckihgheebjjhjefbgckfjeekjgjbkhfegdfbkbjededehcijjdhdfciehhhihkecfjhejibccecceidecjfhcbjgjjkjedjekdbkhhgfcdcbdbgigcefhbggijekibckjecbfhkhdgfgchbgbehighbijgfiiifhhjkcfhfdifffhghdhiehbdgcdfkigbigedbbfiigebjjkcgkhgdbiihbbbdhekgifjkiikedgkcfcdehbgbfbdcbjibhkbkkifedejfedhcidfdkdkfjgekdbjdfjjgkhjekfieceefgbhhgficjijckjbhfgbcjcefkjjgjdegjghfbjkcdefecbfdibiheidfcbbcfbbcifeibigekdjgehkhfcbcchjdgddkchidkbchfgifefcjjeeccfgkihkjebbikdchfdhhjcihdbhhchhjecejkfecegkbbfjfcgebifkddkihcckbkecjkfebbbegffejdcgebihbkhjkhggiekbhbcjeggccigegbjcejjbdcehjehdgdihhgfkdbeickbedbhhihfdhfjjcdkcgidgcbikkdggfcigbhefejfhgicbhfbjeeheddcbgikdikkfekdifekhckkbcjehekdcbgbffeggjkgfjdbbbckgcegcicbjgedfkgcicgjjfjkbgeffkcbfcbefddckikjbibdjjkhbjfdcggjgbeckhhijibfjdhecfikfhjecfijhjiikggbkdkgjcbibhghfdcikjfhbggbkckkkfgfejikekkegebkdjiibehgbidccgbihdedihbcfighfegekbddgegkjfdbbgbjbdjdkbcbjkkhdicjeffkkjfbjdekifdiheeffeechkiddcedhifbbjdgfkcdkddbjhfcikdjbefbgekdcgfebfidffcigecdcgjjjghbfkkbgjbjdkbkghbjfccckdifcbjcbdhejgkibccdjcgihjdfcjibgickcdcbccbicjfcdggicgfkikiejiejbijbjkiedfhihgcdbkiedhkdgegkegkkihbfjcicbhikfidbbjjgekbhhkigihcgkkhfjgcdjdcbkckckjjhffkgjhkbiiiiiccdbkedidbcfgejbffgdigbfcfjjcbhjhjgbbhkbiiidkfjebjekdhcedfekfdihdckcfegbkcghfjgibbkbkghhhdhicfhcdjgkkbcbgefgkbbifgeeejejbedbbikjfkbkhgfcekhicekdhdjhfccfkccjbdcibhfedbbhkbibgighicheicbgebjiijieebfdfgieijdkgkbedifcbkbdidgkdcehjeggkfjgiffdgdhkfhefcjbefijbcihjfjcikjcebbjkjcghhjjbgjigdghjdebhgbbefghbddifbkfcdhcfbjjjkbdieekjhhijjikchkkehjfgbcbdekcchhdbfiefkihhdeicfkjhkbkhfdchdgjdhccfijkebdfbhkjfdijdcggikbhdcibgbfgehhbciddecjbhihebcfehhcffiejgbikdkfchfekidkkhdihkhekfbjiedbhgdibibkjbkjfdjbdkcbiecgbecebeckjdkgbkicichbgibegidjjgebijbkfbkccijbdecedciiieicebkkcfbcgcceecbchciijdidbbbgdgbjbgihgdcjfdibhbfkfkgcjddfgkedbiekiijegdjdgcdcfdfheihdkehfgkbjbchhhfhgbfhjfhgjgghdebkjbefhjjkbejbjjebgbebcjdgbbjbdhffiekdkgkfigcikbichekjhgbcccdebhbibcchhcbfgddjegicbbdbghfjikjhibjejgbjjkbddkhfjdjgbhbjieefbkfkjfgcieijeckgjjhcjcjkjjgddccbdgdkdcjihfcgeieidecbbhjffibcefbdfdddgibhjeifjbgecidchjfghfhijjfcidjkcdhhbihfddhibiecdjfdkdcgcfggcjekjgigkcgfgicifbhdihhbjfhihhgijghbbkcgdffdffediiidgkdijhecikbhjbkkgbdhkfkgjfebbfcgbbbijedifhhfjiihijfjjifhhfekkebgjheeeiihckjbfgheifdehcicjcbkeigjgidjbgfihfcjdiiddfkgckbfegijiejhfddkheifhhfbcdkiegcbgbjjfhbbbbffbkkkdeijkhddgjckgifkecfebfcifggedjhkbiieidhjdbfekcbciciejjbkjfdidekjebgddcehifkgfjcbigckfjjcfdcbfchdjjgieiihkijgjeghbhgedhejhjkbdeehifjdbchkghhgfkgjbecgiecihbibecgjjjiikgifcjkdjihfjfhiiddgdcikeechdcgccgkbbidjkecikhjdejcbeecjiibfeekdbjdgbchbfiiijcbeifhigkibijgbfcichhcjcggbifdfbfbhfhfjgjhhikhkggibdkedheigekhjdcjjgijdfhdbifhfejhgebfggkegkfggkcbdegkbiffbbigfkifheikggfkejhcebfdkhfhcijkhfiijfhkeehdckhkbedfgcbcbgdjeebbdkhcihgjcbjbbegeecdecgfcdecihijdkdgiikcckdjedkiiiddfcckjhjikjhecbiedgbeigkdfijdeddjjkhffgkjdkbcihfffiehdiiiecefcghcdfhekfefhdcecekhfihghgicjcgbgkkihijjddbedfdicfddkbdecieiggdeibkekijcjjcgdcbbebghhjffkkdgggcjbcccjccekiedjcjgejejcigcjbkkhkkbghicekehbjcbihcijjfghfkfbiijbkbhkhbkihhgbcgdehbegeihdkkjgbdkefkdddjgfedekgcjigkkckcfefgcickjddbicjfdkjijkghdikdjkgbhgchheifffcdihfjdgbdegbghkeecdfdhgbcibkjiggbdiideidejfdfbbedbhhiiedccgjbcgihjbhdjjhcfhidcdkcicgcjcgjjbcdgibgbebjegjkfkjegkbbkicfiifebjjebibcgbgdikbihgdebffjcekhfffdicheggicihhhdhdechhdjgeeedkjifcfgbebjhhbbdbehhbcehihgdffjjekkhcdhjeheebbbbfkiicdfgfikjggeckfdigkhhicgehgjdidbgdgkijcebejebhbjcjjbkckiiikbciccdjbcfbjgbgfkcfeijhbdbfffdjkhikijbdgddhkkchbegjbjighdhfjebghcjhikbkifbefjhffcgfjkjfcicbkkbgiggfdfefhcfjjhdfhjeeddijhidikchchkejjbcfegkgdbfijdibdefhdeegjbeefhggbfkdghfbhdfgjeccibedcjkijgkkhdkdicicddkhekdjkcffgiejchfbcidkgckfdfhcjdkikgckkcidedkgbejfidgcgibhjgggjgjcbdfedkcgjkhbhfiikicfkddeeegkjkkfdcgbhggfjfkjkkddehjbiikkjihhebkkbdccjjeibgjhiebbjeijdfejbihegkgffcihdgbgikhghfgfkfhbeefhejikfcfbjcjchkijiefgcjggjfeibkfbejhbekhfhedfdkffjfdhicdbckjdcjjhgcjgcccckffieecechfdbjjdfecdkdhhechfchkcfcegbkffcckgjbkbfhfgifhchfcfddbgeecfiiigdebchbdieggjejdfhjekjdfjgcbjfekkjickggbbdkdjiihekebhdhiihjhckififbckcekjgjefjdhkdekcdjbcidjheccdfkgjkegbfdjgchibggkibkeicjhhbkihkeckihhkdedgfggfcgeddjbfebcehkgigjdkegidhffeggecdjcdfbfjgieccigkigijbejjkbffekjcgcdecfihdjdhfkgeeedkjbfdeikfbjgicgjbeecfeicgdcfkidbjjicdfdjfcihdhfidjbkjhegccgihdeijjcicicjcjfddkfddkbfibihijbhcbhjbbieeibgghbbfhebefjgejdcegehfgfkdgeihkgegdhiddjhbgecjgddejjefchijfhekcjhkgbcihidjccehfiiecfbjbichdbkcfeggehbhecbhbckhdbhdegfejehjedjcjkhfgfckdbkfbeiddekekbejhfffddiijbfdcifkgjbkgdfjfjdegdehjfbhcfgcfbcfkkcdeeijdkhibjjbdihdjdgdjbjijedbddcidikjgjjjhejejighbkikcccjfhjjgcdfjcihcbdbiijegbjdifkgbhkckgbgeghdicggfkdbcchebdefgiighehhdfkiehhkgkeciijedcbheedbehbdjceebbefbfeikbjfjhebikgjdjegffeiigggidijkcghehefbhkdkigjdfccjdfchhffihkijddhccichkhefhhhcdkgechfkbggighdkhkhbihgdbcidiffjjjhhbiddkcccecibfjdckdgkkekjikfkbkgffffeheijeckkkccjfjccgcgcebbfhhbccjjjfkcefckceddkgikdbihjjbgfkbgbibdbgdkggideigcbdchkekeefjedgebefehikfdigdijihdibhbcjjkiekdfcjkfkifjgedddiefkkhkbhhdhdegkhgffbbjghdfgkkkddcedhbgcfekeifejjjkhffkjjbihgehjbjehdbkgedffhicbccfcbfekehkjbchddddcifhgcidbecdfidbkbibhbgkeekdkggbhjjfddjcdcbhjkhbhifehfkhkkdkcfeicfiefdddjjgfikikhifkedecjjidhkgjkeedcjiiiibdkcidiigggfjbcgkiihgjjgjhcciiffifjddedcfichhjhbbhhbjggjgjghghgfchekgikcjfdckciihddkdehjkcfifkcbfckbibebbkfgcgbiefcegfikifieebijgceeejffgkdehhgkfdbdgjkhieeedghiiicfcdhejidhkcjkegehekebjgkbjhhiekhijikgefbjikdkjkjkkjdgihcijjjhkcfbdgbkfggdgggfhdjbkbeghdijddjjgdkiehieghijgeibgfgibiefkhdjedjcibkbjbhfecefjbdffdhjhgfchdcgfhhfkkfgjijidbcdcejeieidiekhbkejjekihbkibcdbgideijciiiififhhkecdccbbcjdgefkcjkhbhijggicdghjdejicbfddjjeijedechjcddiijbhifigbkkedhbjgkefbfcbegcfkikfehkgdejicegckcdcigbkekgiihbkjhghghdhdgegcgffeffbigjghbkbijjdcefbckeedkkddcceidkgekecjkhggkgfdicfbfbbcekjifehihfcdjbkbkgfiiceeegihbdgfbkckdfbdkhdjifjhdfhckdgijghgbgkkcgcgjfjgjifhehdhkdggegbgjcchjkjgicefjhcbdkbdbgfhfcjhkdcggcfjdhgfbiefieefhebhggdkhhjbcjfdhedfgfkdhfkidedfcdgidjekfkdfggiibjjgkdgbhbeddkgefkijikhegdfbdcjhgdijeeibcfccckcijcfdgdehhffbcfcekdighfkdfgijcbegedcfhghecjdbcddicefebjfifjdikkhjbjgbidcddhecfjkbeihkjfkikcgeffhcfheehkcbjbkiijfdfefggefkighehdijckfhhgcfgchhdbfhebjdgcdkcdbgfdhkcbcidjjkebdhihicegcckjfcihjfccdcjihhhffkjfejfchbfdijekffdgdjhhjfikidhhidhdfggbhhbjhfebcihkiiijcdkhehgihcijdbdbgjjfjejfidekjjijjfbghhikjhdebkdcbiffbbickgfickkchejhkhjhfhbhhiggkfckghgigidfkggbgfefhfdckfjhjjhkjgdfigcbcdkdgejfciejhdbgcebjjcfggjbcibhfjfbchcieefjcjjkdhihbeediihcjdihgiegbhbfhihdfbhbbbdgdehgkdiifhgbfikhgihjgbibbfgkhccceccdgjdfbkifefjgjfjeijjjhebfhidciccibfebbkjhhchdejjejcbkdgckbhkhfjkhcgecbjjchcfjhbkghgjffcbhjfeffebjfhbjcgdbkbiegdjggdhkhfhfheccbcfhchhkibeichhbkgfhhbggcfkbekjigddcfckghhccdchedkieheddfhkghibfddgijkeekgjfejfkjeghjbdggibbbdbjifghcfgidefgddcbeejddfjjhkhfghbckecbdcfhkejicjbhdkfejideebjjbdkbhfbbkjiggekcfbehgidjkfegckcjkgibcghcfjkihhjkjbbkfhijdefhkjgiccicgegdgkkhfcffkedecjgdifbejhhbhdfjeicfejjckcdijefjgggkgdjbhiegdkkbdhbbgjcekfdjgdikgeiffbhhibgeggkcigkfbcfcgdheekeijkfekjcbcdigbdbbfhfcfdighhjjbhkghkchdbbjicgjikjjjbefijdjkbffejcidjdfkbfebfkgdgeihekchcjkfhiffebejfckcjjekkehckkjhhicejhcdccdcdiehdkjjhhegbejghdgkgighfbcdfbifjkhbggikjfkhekdhckkfkciiihgekegichjckgjdhjfhfkgfijickgfbcdifkkebdgikgjiiifgfeigfdchheeekjegjdjjbigfjjjhhhijhidjjjcdfecefcgcijgjichdcbddcidddcdeecijfdfeiebijfchbkhbdgfddcdjjjidfiejiiekgbfjdejjcdbikcgdgigjdkihdfgkgjggdehbfjjcdfjkkdbcbfbkccijkkegkihkidedchcfkbfeibdijffcefhgdcjchdkfjggcdijjihfhhicfefhibbchdhfkdjgkikibgiihkbfcdekidjjjjeiekdijgekbjcdgekhighijhddibjcgecjdfbcfgckefjekjdhjcgicdkcchibeefighfhfkjjdhjeckhcjefbdhkicejhhjbdgfkddciidhhddigjehbggfgfgdckkiibegdkcjjicbffddgfhfihkekjghghjeigdejfkdkekidhfdefhfghdbiedbhcjifijdjbikhcgikfibigfgddebeiddecjkiiffdejcgkhkdhchdgihjcidecfhjckjfkhefkdehighecghebcckdkcbgeedhjdejhbfjfcfhcfjhdhfhccjgfdgcbcibckjcgkbkbghcehekdigbhicjjhfbijhecehckifbefiikcgehehcdikjbbegdejiijekiehibbfkhiicibhfdefkiddfdiejgfcbgddchgifgjgehjgceidhfekfcikddiekkdbiidigkbdfeeijekbbcheghekbicffcfhjfkdkcbdekckbfefcciiggcedhhbhkeehhbkbkedcekkjcjbkcfbfigihicgfckigigffehfchjbhdchdfciijejkigibfhjkbghdjekkegeikgdjghgfkkdchdkhigbjbedbkbikjbebgcfffhgbfffbegbkfdfjfkcgkkbeiihibedgbebbjjdfkbkfjjjcigcbccfedbgckbbdggfgidghjgkcehkcbikbeejgcghbfjgfgijiffigcdcdkijbcbejkkhhccekkidcghcgiedkecchkbfkbjhkihcbkibchcecbigbchfkhkchdckkidbeehhjefcikihbbggdfccbeggjbhjhcbdbbiifejdejkfjbbijgfhehhibhihfhgdkkecbgefkbhkkddbkfjdkfbkchgjgggikhgggjgjckhfidfheddjfggbdiihbjefbigkegffcikjfefhbghcfkdjkkjjjhfjdhiecffdkgehghkejkbickbcgjhihchihikjjebicggbceggjfkkbhjjkdgdkjhckjdcjkebchgkeihhhkhkggcbccfbjckdjiiiihebbkfkddhfbekffcjffggffegbedcbbcedchieghccikkgekeceehfebcfefbddekhhebgfkedjfeejkfbjhdghihkikhifijjjjebkcijbikekgkkcejkicicdkbbbhchdfbgdggeidefihdjfhifebjhgcckbiicbkejcidbcgkcfdhbieghhcdkefcegjfcjgcciijhbccddbcibkjdhhdjgfkfefcjecgcchhjfijfcijkjcbgkjjdefdfbeddihcidiifigggkcdeciecikdigkdbcikcgdejeijjcckebekbcedibbgkeehebjecdcccbbbijcecejkjkkgicghfikeccggggbekcjcjkbjhhjfbjhhbjiddgkkfghdhciecebfeidkkeieffcdbgfibbihffhhkjihkgjdkdhifcbjbjkhcjhfcccghjgcfecbekhccjhkijfbchiifgdiiejhbbcbcegfdedccebkfcjeikebgkidgbckdcehkgfdkggbbeebfhkebhedbckghdjhccjbgkbhjeddjeeiccjhbjkidkfbcebckggdfgdfbcigidgjjiibhdeehhjffigbcfiigeebckijjhjgbdbcicbjjfddfccjgdidkkgjccbdidhchihgckefgjfdicedeegdckdfikbkgghidhdhhddecbgkgfigbecghgfihfjjkibekbdgjbbdjdfbfdjidibkhgkchidbfgfchgkjbbgbeghjdjbbjbjheecbbjkfbgdgecdihidfikeegjedfecedbhjkdhigbdffbcedgkhkfjhkibjkgibdhbbejfjdfbbgejkcedcdgbdcedfeibdkiecdhhckkefkbffdghbddeikcjbfeijekdbegkkgbgchhkbjfbihkghhgebkkebdeeihkigecbhdbgkkckkdiiddfefkjgeeecfcgjbcigbkkdbkdjdfkgdkcgijbefdjiheejefcbeehejdfhbgekekgkhcdhbejdddcgeeijdjcfeicbedffkeeedbkhhkegedhiciiekidgdcihkhkfkeigjbebhkgiedcidgbjekgcgcjbfkiihefcegdbcjiibfgkigkdffcccijdfhddhdigcjjijhddgikejekcgjfjbiejebhjbeihgjjechekhkggfjbcbgicibhcbhiijkbecdfjcbhekhkikjekkkbeghgjgikcbfgkchhgbfchgggfekckifcfjeciedecbbhbfbdeigggibhgbgkidekcchggkkihidfjefjjgfhjjhckjehfggdchjfjckbfhbeggjiiifbeegeeejiihgggbdedeifbbijcfbgbghjehdcefekbfkjcbcbicfiebigkejchkkgkfbjjikcckcdggcjjbhdjdfchcbkhddhedhhcifiekcidfefifddhdeffifkjdkgdefjkghgbdcijhjihjcfgbkkdicjbdibhfgkgbdkdjhbhicdbhkikgihdedgbebdfhbdbibhebjfkkegfchjidkkhheecggebfciikfkdbjbfgkgcgciefijgefiechhicdfbcehikdhefcfffhifjegkhcjejgjigjchjdcihgcgddgcdibffekgffjeijfidckhehggdjfhgfjekkddfkgbjgihkdbbhikbcbddiiccebcfidjhdhhikgdkjehdjchfijkcjgcgjhkifbhikbbhfdedfjideeigbigjeciegbebjcbigekcdkcgijghidbehhjdieekggbgcjcjddejikdciebejibdgijeikeedchkcfcdhfgbehgfdedfckghkdejkghcjcgechfkcgehjfidddfebiebjkffegjjbcdbgkhggekidjjjfghhfigjeccdbkcbkcddbgbefkckgeejjjgckdihdddifkcbfdibgchgcjdbdffgkfgfjjjiccbjjiekhibehgehicdghfcicgddehiikikfkgifieccdgkkhfkghcjkgjihbebdjkghkejdbiekejhgbkikbdkdiedjhbjfkdcgfcbehebehekjgjjcieffibdbgbfcejcedbjkghjdcdfkgcegkbbbgdfbfkibeckhiikcdbkdcggcfceebfgbccjgfcigchgbkhccjibgffhgfhikebdkfjkbjjfdhkhfehkgggiifjfjfkcbgikghbgkcgifjkjkjbgijheehgcjibcbfhgjifdefbjgfdfjdjkhdfkiiidicidgbefbkjffjegjkcecdfhkgfijfijhjhfjhjigifhfhjighidhcjkggkdgibidejdfghcdhehcfjjjbkgcikhhbgbfkdeghjkjhkdbchchchfbcgbgdgfjijbbjichhghgekikcfihcfcbkfbeeekjjkdddbkebegddfhfghgjiihbieccecgfjdjehfcehdkhhedbedjfebjhgjiffbjhhikkkcjfhfgdcidfijbcfhkhcijebbjhhdfibdbdgiecjdgbcbcbccdhjeekbccdbekgjdihjbekehghicckdegckbibdjdbfbgifikjbgiiccjkdkhibejfccbfciebgkkkhgbdbihhhcdhdgdbcbgekjdicbcgfcfddjgcghkebkihbekfedbddccjdedgiejdgbhbbjcfeejfehgbffejdfheikgbkgdikhkbfkigkieidffjhedkccfhegeddjfddhghkcibkeciekdckicfbbjcgijijhgkhgcdfckkhgjfkjkjjfgcgjeiekehbbibegihcccdbhcbbkejebjheigjkceefchhfhjkkjeekjckcekkicceheiiekigbjiidhidfccgcjddkbijdheccghbehbbghkcjeefegeekjcedjckfiidejjcdkihkjbhcjjcdddkfceejdicgkbjjhkhedihjcikihhbgehjfghgcigkdhebehgkbjehjdfdidjiejkjkgfhkijhdbhgfkjckfkejikiebjdfgegcjikjedjebkbdkdkgjjjfjbchjgbejhdjiihkikghgkciegjgdhiekfidckcegikddbgfgjbececihkjchbcbkbhhifbcgfgdddgdjjbbigeggeigdefjfjbdbjbfjchjgbeebjdikkfikbiebifhbegegfghkjjdckkbfbfbjkjdfcbfhfgekdgkgfchjgbkbjdihehhcihbfidjejfecfgkkbcghihfdgbbhhdeehgdhebcgbcbbdddhgkijifddfgfebggifjkjfkbifijejddjgdbdfghfghdgigbkfhddbgdgjbkedjbjbicifehhgiiigbjjiddhbgjbdciekbibhkjedhfkkkgikdeckfecbdkkcdjffbhekdddigdfgejgbidbhdcgdhjbfcgihgdidgihbjjihcfiebfkfkfcbfjfbkdhbefgcbdfkighikhjdekebbjcbkbkkejeigedgegjhfcikfekhgkcchhhehibcbegihhkbcjdfjefjdbecbdfjkibdhckbefkifjjjegggicfghehbjghifekhkgbkeegbhkchdjejjhdfhjdehbbcffhfehhjgdheccfbjbejhikgfbfhddiiekfdhfhhcgehcdkhgdcehcfbdkdhgcfbbghidjckghkeccbddjgcddegcghdbjeggckkjjfdghfikekchcbeeeddkfjdcideggkhjccbkgkbigkfdbkbehedijbceggjfdkhkbhjicjgjbjgdbjgkidcfdgcgifedjjjdbkcdjcgcfcibigdfkjhbcbkiechfibcibdffedhjehifjgkekekkjcibkfeddkdhjcfeifdfccikggjfcjkhchjbehhbeiehbehkgekebdbijhkdkebbehhecfebefbgbiifeebgdffieciifjjifcbeddjbibegfdgffkbdbfbdifcjekehkghigkejcbiddjjcckkdkjchkfdgjdhjfihckecbfgggjhbgdbbidcjbfidjccdecjbebfbkbghhcbgddfegkkkhefbcfgcgfkjkckfihggfijeckkbgcikkckedbhfiebbcfeehdbihbchdfgdchhcjkhjkgbckhbcdfeijdjicbjghhgckgjbkbhdgbekefdbiikhdcdchidkbkbejdckbekkfdeeekbdieejdgbbjjedkefhdeihghkcfbkieejdcggecjhickddjkbdjbccghkhjcijkiefedidbecdbbhdeccjchfgejcifhcbcfcjfdjeikegggdhehdfchchbkfcfgjikficbdbjiidejcdbejfkjcdffdjhiggjbcdggccjjffgeddbkbhghccckefffcgjhdcjegdkchiiceibdiiibidchfcdkfighkhjebejchhjbgkededbehdgdehjhfgdfddccbcchegcdkkihhkgifidjdhfgcgfcciddjjchccfjbhjfkfejjbgekkbffdhjeckichdihfgigjfbhkibhchfeghkchbgiieekdikebidbcfifbibdcejgegbfjhfcedefbikkikfdiiijhjggbfbdidbkeicdjhefcfbkjcicgfhgjifgjefbehbdghbkgjfkedkffkbcdcgiigcdkekccjjgdjgcjicjhedcidicdgckeeebchcfdjkfggehhjkcbcdgcfkccjcighejghjgiifhkjehccidbjkiebgghdhhdkkjfcfdghegkfgiddijfkjiidkhkfcgdeekjfkfbjkfebbfjikhhfjfhjegeidhfdkfkhkcfjibfhfegfkfbfdhbeeecgdhcckbhefjfbidchjhkjhbibbffececjbfgcgjghigjckhcbehjhbhhbhjcjikhjekcfgggdebjkdhkjgkefbhbgihhkhijikibjdifikhkbdkjicibhdbhdebcchghbkgkidifbfidkgcddeidjiicccjikfidgegkhdddfkikghheiebbhedcjehjkgcigkeefjhkdbhbeigjfbdgfkgkhfdbfgbeijbjiijhgjijhjdcjdfefbdgjkhjjcfbhibjdfbkhdjkcdcbkcdiiieffcgeefbfhejfcckhckbgeikkiihbcgdjcfkikdbhbgfjgijfbihfgeebfbedgechcdbcfcbefedgiiheckfckdhccjggfbhgdigjjekjjbehfcieifdibcejcfkfbdijdikckcgijdehhgdjebhebhcicjckdibkcdbficdejghckieikdjhhcggejbjjchiggkcbjdkgigcijefjkgjbdfhhbgbhgkfhjjkehcbiehdeiiigdgifgdekfcdcfecegjjecjdcgddffhefjeghhebbfkbbhjiekcdjjgbkdceihekidjebbheghcdehkcejccikfkidjdkhfdbggcdkibikdjgjcjbekekdgebkcffjdcfekebfbgdegidicffcdiiicbedckekjdjfkejdjffeecgjeigbkgkebhdjhddfdbkkfhfcchdbfgjgggcibjdfehedfiecejcgkcbciijefkgbiedgkbijidbjibbijfjjhdecjcbggeejcckfehhfjffhbckkehijkkeibbdggkfjiegfecebijjbgfcckickbeibfbhhidgjcfkehjhdjiiffdejbcjdjkdcfhfgkedcgbebjiegedjcjkcekjihfffhdkdkgjbgbhkkbbckhfcieifkdghchbdcjdhfegdbjhiedbghccifgjkkigjfcdfigjecjhefdcfdkcdgjgfkjbficgfbcdfjgefeecikjcbheeecibfbkcbkgbbigkkjghhijcgbbjghgbhkbiicebkgbhhfjhcdejdgjfdhigfebekfjeiiejbkjfkcekcjdkghikgibbggbgciihfdcccdkhhdidciikcjidfjjfehchjbjbcedgkhifikedjdigfbegkbihgdkfhdhjbgjfkdcgidhjeegkkcifegdjfhihchdidhdifidicggbechfjjhbijfkehjebjkgjbdgechbhkdekkcfdkehfhihegcbjcfijfcddhgifdibbejebkdhfchekkhbhghhhjhbcbkejjgdekfkifcdbfjieieghfbcibjiekeigdikbffehjdjjbkcceikffkekdecikehfgdbfjhfegbejdcijegdceekgicjgddbcdjcdhedekcihdbbhgijdgbfjigfcgkkkhejkdfceifkhjihbfkebfhiidkcicfjehegjchdkidikfebjhfddbeckeigfbihcddkgihdfeedkjkccgbjecdbgehcckgkbkfibbkibjghgdhhddhijcchjbjcbckjiehefkjbcehijfdhjekcicefchibdikcbjchfijjdgbbiefkjcebggbhddkidjjifdkdgeckhibiggjjbfjchfhbhfegcidejcjijcceedckficcghjfdhkhfhheggbdgeeefbgdbejcbdgkjfdfjgckhdcjehfjgddhecgfgikbkghjefeichhgfekkehigddighhekkfgbdbffecdfjididkihceddkcdebfgbdhfbhikjkifhidekcibbgicjfdekgcibehbedbjbdgeikjddebedgfffijfegdbgicbhbikehjkbgjdkggjgbijjfcdidddbcebkcddgejjjbcicfdkjibcifgkdhkffiiiijcbjeibddfhijedkfecikcgeigbefiedgfjddkkdkddchikgjkgcecbebjcgihkihbeheffgkcffbjekgbecefkiggdjkehfjkccgcjkefhdhjiideifjfjdchfgkdgcgigfdhbceifgkekighffdggbikfhbbkkhdekihkgckfhjcgebhhcbgeciidjbjecjdgdhbbbhjebechhfjfehiijchfbkjgbikebbgjdkfcdegekihkdbkbkjeebbgheedbefeefeeieckeeghicckjdehjbhiechcccfgeckigkgjkjhekkkeiikdfiidecfjchdkdbbkcfhcbgejbkdjccjchgjecbibgjbgdcgkcfebfbgdegcedbcdikfdckbdijjdecfjdfgfjchdgbdgikehkhgdiefijkbfgjiidcdgckggkcicgbjbjebbjiiegfeghddhdhifhfhffddgcjdjdffhebekgkffbjhgddbcjhgbggifcjifhcgidkbffkiickjibeidhkbjdgjhbeffkjdjkkibheekfbckhgcikjbdkkehecfbhdbhekbdcegdhidjgkjiikkkhhigbjicbifjgjdjkdfbfbegkjcfbkgcfjhkfbdbdbjgeeijidfbffddecehdbbgkccdiggikbcgeehckcfkkdfbegcjidfbggkidhgkhhegcfebbcjhjdgedjfgigickkhgdcdhkjckkikdgbghkbgkjbgeidkjjfjcfhdfkbdcjiidcdfdgebfkedcecebbedekichkicddhhgghkcfebjgejcfebgfefbdjbijjdffiibjdgebjdibebibbgkjjbikbbbgbigehdcfcjjkgdijjffjgjdcffkdgigiikfbjkgkgdgfcbkfkchejkgijkgfiihchhcdibgedejcjjicfekhgdkdikdikjbdcjckgiiigdkfdideeibeddefecjbigfiieiikcckfhgejddkfhjfdbiffbdcehcgdhkifbckbfjbjjjkgfigkdjgkfjjdgggghdhbihfdkfbcbffedjkjcckijjgdckbhijkbejjebiefdcgfjkecbifihkbhggfhcdfdedkbcbkcfhbjkdcikkekceggdchkjjhcdhcbcbdgjejigfkigikgdibigichcfcfbejceeehbikedcbdfdgbfdciidcfijgghcbkjbfgkkkgckficeedibibhgccghiibhkjhgkckjbjfcdkbfdgcidiekeijiccgeighbjgdkdeijicikeegcbcjhecibgebkheckhegkcbgfeddffkbhkffbgjdkhhjgfiffficcideegbcigdcbgfieefccbdghbcdfbkbgbdjdgkikhhhhkkiebkjecgdkbdeehbcijcfdhcdekefbejbgghedeekfhbdhbbkigjhjeefchjkeckdhhjfkdecegfeckifhhckgdicjbdkcbjgdkcdbefefgeedkcfdheiecijkbfdghebkcikdhkidkddebfjffbgdbejedbbcijdkkfkfjiehkcejgdgjiffhjdhbdhedccicgbdijhjgicbbhgiekdgdfbceddcdbeggiikbjdkgfcgdffgjgbbgckkhjikffkjeebbdhjcdejifkcchdfccbiigkjhihecfiefgiegbddkhkfbicfbchcbfibeceedccgdfgcbgjfjdkghihiidfibchgidceiecgibkcijfdiekceddgdidecgdijckkdjfdkggidcgbjgjgdhdbchkidgeieifhcggdkhcbgbkjgbdgdkhibdbddckhjkgjikjhejdfgihdidiffdbcefjjfiigegihcdeidfdhfbfcchhjkebjfdbbehfdfefekkgejfifhgjjfbdehffcejjkkkeigedjefgcededfbkdkcfkjbbebjbdgkeekkhjkijjkkgigjkiibbeddgfdbbkdjffefdfbeigbijbeddedehjkbdejjdihdfdiejgjchghibicgbdedfiihkfeijcggjkghjdffgdehccdkkfdhgdcjjfiigefefjkfdfeiijcfikihkhddejhkbjickfjdijbiffgjjbbfgfcfkdhhhdfbhcgcckbcbdfkidhhccifbegikbihbdcfhfhcifdbeicjgecfegkfkfdchhebghgdfdddfdigbhgecfkjdgbkjgcididigckbcikhkdkecheebkfbcjfffbjbccijecbkdijidjgckechjgefdjjbikjhfddhbjgbcdkbhhhfdfjbfjejhhbbiefhbgkkbgkcfbgigbcjcjbkddjebbicdbbdhdhkfgkkffkkfkiiidcggechcjffeejhdjbekkebfjdjdgghkjdbbhfeifjcbgbjbcjfgeeihebjkkekbijgjecejjcegjdcebkecehgjekbbeggfeedbjdfffjhchdjkjkhifkdhjcbdikchegjebgiegjhegfcfikijjkjkeefgbjfjcigkjeifkfdfdkjbjhigegckckdegeehbkeehkdiebbcichcjkhidjhgehkhhbhggjjfjkfcceggdbjeegbihkigdffjdfjhhefhfdeehcijdcgghkehchjebbeffcdbjghfifkfiefkfcgfbbjfhfcgekghbgjdekjgfcbghkdbekhfckfgfbkkbggbehgkihkjcckkkkhhffijfchgeckbikjhcjcdkdfegfhikddhcjckghjdfidedgiefkhggdefigkbjbkhbjhcddkejjiegejkfdkbbdgkjghhbdhjbfhcjjiedefdikdjkghhfgigedjeeeigbcdfjkgiehciikfhfgkgcbdkihcfbkcgekeheeigdciggcbikiigchgkebfefiijhgfbjgfghekdfighidebckhjbkfbfkbihdbgbkgdhckgfdgdijjdihjdcebjcjcfdejbkjcjekcbhfjckdjkjcehkibccjhdeibjcbeicghkgdibfecfdckcicdjiebedggefcdcfbfjediicgdbgbcfedieejdbbkgcekhchjhccfbicgbgkghekdikebdigebbifgcekjchkiehbcekechjekhkfcjhccgkeihkifegdekcjehgkjcbedhdjfbcjggbbjbdcjgkfcjbgkjefkdjehefdgjkfbdcbjgjbbgidjkhhecdkjgeghkcgfdbhibhdehcbekjkechiikbgfghieihikdccbikijidbbbjjcdbchedgebijkffhcikjbifbgicdbgbdgjfchdhfjbgjdcbdihcikhbeegfghgdcgbccdefifjjfcjfefdehbiekgcikfhfcijhjdcdcbkjihkjdfhhhhjcejjgfkfjdfeifjkecfhcicfdbehgddgfkhfggdbihhbeddikidebijgbceiidejeikcibfcfgckbeicdgjkbkeeiikbehcjffhjhheigkdcejfggjgkheihcdhhjggcfgifchfdhgkfjjkhgghjkjdeiffghjhdbbjbcehbkifdcejhbbbdehecbffkcidcghcjcbdkefjhekdjfheekgdbefiehkdkdejcbdgcicieikihhecdkhdfcfdjjjegejbihjhbbcefejfjhjjhhjbejbefbccghfgfifkjbjiffjhkbkcfhhffgfddigdjbjegcdbeddbfhfkekgfhejgbdgiffgedibbdjcjjbjhdeckihekdjhhfgdhedfibgdhbkbeficffgbjjdfdejfkkcdefhdgcikecekhjbhhjgdhikhkdiehibgcgbbkhckbbjcjjdfbfedjihkbjcbggbgjgbceicdeedcdfeghbbkhckhjicfegiekegjjhjjhgjjekihcdbcidgfijggfekjfjjibccdkbjkfdbdihfbggbikigibcgffgghdgjbgedeefjdihhbekbbcjjkfjcgfbjckdcjgbgejdgkhfkdeicfgjehjkfjkckfkedcihihjghcbeiighkdehihggbkcgdhcjgkjcgccjfebcbkkgdfbhdjgkhedfhibifcfbidihfkjfbgebbchgfibcfkegjhgcfgeejjfdeikhkbgdcjihgfgddgkhjjcfdbbdciedjkdcbckcjgdgfccbkjkechgjbkbdcgkcicbgcekgkehchhgejhgbfdhhdcbfdgfebgbcfeccbfjdehhckjhbbecgbgidhjkbhgbhhkdhicjbgbijcidjcfbhfcchcjejecjkjedffgfbgffhidccgjcjcfdfbhfdgjhhbkkhekediiigjbgfebfbddgjbeifhcihehdkfjjgiekkdcjkgkdjhkbfhbgekeehdfjhifjikebfchkbkifbhkdcgfkcdhbcbgfeffbdghgffcfkhicbggffeifkegbffckjgdcghkdhhfbdgccjjgikgkkgicjbijkgbdbgckjjdkkedffjhdeicbkhejiidgidefgkedeheefkdigfdefcfhikhjdifjikhjfdfhjbckjgfdggeekfddcjiidiedekjghehedgcfihghhhjeiccbifkjjjchjhedeicggcifchiegecfhffjkhgdghdbfedhhgjihfgicijfhkicfkbkjkfikgffbhbdifjibdecbkecbhigeehbhiickkjbkfgfddjgdbhebejigecgjikjdhighbhfibjhjfdjhjidfdcghffjbkeddjbfhfgbieddkgcdgkgjciccjgcbcedbijbkigdcgckegkcjekdghdcddjbggecdceibhjkihihgdkfbfedbcefihjcbgbfgdcbdkbbbbfigbbehkkiihjjifecihfgiccfkjkjhhegehkidhfjdkbekdhjekidcbbcdjefhchcbcbfjjjbbciiijcgfecbibcfbehkdejgeebgkfeikgedkffjdiciibdkdcfcbccgkihhjiibkdieikfdcfehgegbeedcbcjjcfkdcdhjffbbchchjffeihiejhjeekiggdeidgcebeihjkcfbgiichdidkehkjcebdeeihbgiekjfgchbbhjicigfcjbhebjhjccbibhebdgbbkhigdcgkkkceebfieeifbhefeefegegbffdfdbkjgjjfidkjgjdbkhiiikbkhfjdjbbehfkdbhgcecbfchjhjhcjckcbcdcigcbbggdjhebdbgcbkkhfddijbggiikcdkkgfjefehdkbcchifbdcficdjehbhijfibiiiieehhhfdiedjccgifjcbdjhjfgcicikehfbifdjkhfedijdigkeifjefgkgjkdhjcdijijdkgecihijbfieighficbcedfkdefjddfchhjcciibbjgbhjbickfechdekifkiccccihkfikdihcjhkiiikidbhfekgkehbdbbefihhhbijehhjdfjiecegiehbbdcheidihkkefbjihibkckbfhbcfikbbiddjkcjfkgdejjjbkeegjcdjkhjihfehgccfjcgfbecdfikhgciebbfhbbhdeideddfkkcjikbfjgcjcbgdddgdfijegicddeigffkkejhiiiiebecedeeeiefbbfjegfbickjdgghfjehkbidigdjkhgcfegjdfkhdjfhddjfgihdefjkfbcfjeficdkhhkdjcbbfijkbdhkbbkdjgbfikdicibkjijibfdfceefjciidkfbcigkjbbfcjgibichbeijcfdihhicfkkfbdkjejikgjceijccdgkehccjcfjdjikjbjghjhcjibbgjbedeegchffecihkfjbidckfckdgijcfcihkhhhjbkgdcgkdgehifefbcgdbdehkgihjiggebdfkcibhhddbdbfbchbdbfdhfgchkekfdcccefcdhgchijegdgigbgecgfgfccegeifejbcgeibijcidgecgfbedbbieihbfjdjehghejkieiefjihghckedfcgdeedfffjkcdhgckjgdgdihfibikjikiccdeiehegkbcdficfgfbckchjkgicckifcjdjhefgiehbdgkijijhiedhjekjcdchkdhcekcfbkfidhkdgiejighejcjbgbkjecgcjfgdfikdhcjhkhfjcjdkicijibkhbjcjdibijiecfhbgkbbhefchdggbkciddkikfdjgdieeghccjkhkjceiijdiffhdkehcjcgdccbcdefckgdjikjbkkidgeidgjkbhccdgbbdfiehibfjeifkhihkhgfgecjjfdkdhbifiicigbggickdhgiigfjkkkbiiddedejcgeeieebchdhggjdjjjcihbgebjfgddfceggfbjcffcfkhfjdcchbibdkdgjdcbgjcccgjikecibfhkiifjihdbkfhdbjjkekieeicghfejibkibijgdfjbfkddkebkbkeggfbefkgidckfcbbgebkiibieidhebcfdhjbkjbjfiddicbekdjjihdhefjdiehjidkfkheeehidggjkkecckkcdgkdejbgdgffkhjcdikbkhdjcidfccgfdbbifckhhbichjhkfdgkfeefkcffkcgffdjhkcgeigbjkhjddjhfbbfkbjechdgkkibbffkfdchbihchgkjjfidbekghjkhdbgihddgcdifcfjfjcicehkgdkfceggjhghdehbdbkcekidhjhjeeehhgkidejfiejgdcfhbgccdfkdhehdbhkkccejgfcifdcgibjehhgedfgfhecjfhfhkkebfbgfjcjffbegkjechbkicjckijchdcdkkccbfcfdhidjidihhhgikffhdcccbbbjdjcgjhhbfcefgcfebdkhbhjjcfigficfgfchikccgdiidghgbjfcbkejchegfeeidkgeffhigkiihbbkhbfibhfffjibgdcieeckediedbhckhckfgkkjcgcfhfhbbjkjgdcigcbgbgfegdfjcfiibfeefcbdhcfefdgcccghggehkfghgfeigbkdceeccddbbjibhgcidgegjhchkgjiicefekechckfchedijhfieifgdjehhdfhebkihfefgecbijhgihfbkhbikjffcjgedfkgdeegdhijgedfedkcjfebccdeicdhhdhcickjgcgjbieejejdcdedgiejbdeiffgfhigidfebdffchhchffdfjhhbedjdhkdihkkidkdegfdehfkfehcgbccekijjfecbekbcdbkhjigejkhfcfbgfigcdfhjcefbjcijjgfkhihfeicegbbegfickjechehjbhbdjfkifekfbiekbjjfbdjcbkcjiicikhiikbjhgkdciibdckckddbggbjkbchcedikkfefkkciifcihkkidjffcgifedfedkecchhbgdgbjcfgidcckdjcibekddejciejikidjdbdkibjdiegdjikjejfkbhbfidhhckhkehibgiiiebgbhijcjifijgkdfbjkdidgkedgdbdjibekidcfdjfigchkdifddfjikjdgbgickedjghjidjedjkhjdgjfdikcffgcbgjjfbgkhgckdhejfghibgefcjjcddcbhbfihcickeeckdckcjickggfikhbbfjdkcjgekgfbijieecfdgkekhbihjgbgbgiejdgcfhgjbdiiifbhfdigchkjehbbihjfgifkfkhkcjffejbkdifeifgheieedckdiefbjgchjdgghedggihjjcccgfdcccbiedchfhfifjdbkcicfgkfidfghbidhkfcdkhjdfgcehgdgkgfjjbjjiecccgbcgfcejfdcfhcjihfiekfegkkgdijchffckhcfgebkeccchcbgebdbbegkkjgfdbkcfddbgbfbighcfhbdibfekiickihbjhhekdecjcdhhedgebeejdfcgicfeebgjikbdbchkidgjbgfcddjckekdkgeghegfecbkjgggdhiebiijhhjjchkejkfhjgfbgbfgfebeghcccibcbjgdcbhbeihgfbjcdhffckghhccjkchkkjjdijcdfkbgkkbbefbhdfgbgecbecgbbhfcccfeijcbiggibbkdkecbkkjigiijibdfbcbkggbjikjdbcbciggcbckdbdbcbdjjjjkihidhkdbebedhgfggdkibfckifkifhbdbkhbbgidjckjghedgfjidhdjkehgbjkdbdcbhjicecffheihkdidgciiibdhddkbcdhhjfbgjiikbdbihiccdjjdfiighbggjjdchcbbidhfbgcejdikdeieeddjdcbjfkhifddbhdeckffgihffgdhidbigdgdikchkkdidbkjfeidkehchejgbjkjgegkfjcgggjhfbdiifcebhcifgegbgcedgjghefhigjbcgjgdbbkhchjdkgfedigjjgdkcdedbfgjjkibkbgdfdkbbdbbicehbfkficbebibciekjibfdkhcicgbcgccikkkgekcccfcbdcbkjjdfeefbeeffigfkeccebfidhhehhibdhcciejfbekebfchijijbcicfgdebjikbhcfhkbfgffihebffcbbggdkjbejfgccffidjccekdhfhdggkhgjfjhcbcfchhiikgdkjbhhkkdfbgebifhgkffjekckcceehgdghhckkdjgjfijbgbgckkdeegeccehbdicjhchbdigfkebjdbbffdjkcefkgecdedideegbgheeecjbgcchifkfkiidhehicdeffchhkdjckkfdgcfgdbccciebihdicjcjkihbgjdceeeidhkeehdkgegheffkcjfjkhgbbeeehjiejkfddgfcjeekgbegekikebchkedhejfeefeeddkghigjhccfkgjkdkgchbjjcichjkjjfdihdjbfbeekjbkbfjggiejijdickcjjggkhckdcbkijhhcjkdjhdedghghddifbbigccjkebkbcikfkdgfdfjbjgickfdbibkiejdchegeebdbjfcibhjibicjfhedhjdbfdffcdkigckkbkdkkkfgdikgecbjdjgeicdfjhejkjfbbhifhbdebgceceicikigkicijbdhdkkhjgjjbccefkbffhhgkeikjcgjjhcjcikdffdghhhjgfjdeekhihgkgedfbjbiigefijhbdjghdkcjkikjedibffgkkhdecefhehkeedihggeekeccdbkekggjijkefdhjhjbeggekheieiifbfkgjcbikcbbdeicfdbcgkjdcibbefgifiikgdfbididegibbfigjeigbijifcbidfhcbgeiejcdchiigkkdeghggifdkgbdhfhcdbihhkdjfcdfghhbdggikfbechdfggikjkccechfjhefhdgggkdehbheejjkcfidhefbjfghkbhgdkgikdiijbkeicjcckiibegghbiichhibekghciebfgdggjdibfgfdbhfdiheeicfikffhcfbfcfgkdigjdhhbjiiedjcbhehihiegecfdfchbkcidhijbecjigijhehjkhdbgjihbbcffijhkgjbkgcjggkkgehccbjhfjhfcgjdjjcjbggdgdkedicbhdbcgdkjbbiceedikhgbdcdkcdhcecedffgekhbghighhikeiibdfhgcgigbcheejekdeedfidjccfkkjdchddhdejbgcijkhbchbkdeebiickdkefhgbiecgbickbekifjfbkhgbbfggfdebddgijkhfkggciiedbkkiccbffeijbgchjhhkgbgidghdgecdijhckjchbccechkkgjkjfkikgeehhfjfcedgejibghicggibjjhhdbjikjdhgecdhegdbedhffbccikffbcgbjefhejehdkfgcdkhgbbjgiiifheeikfjkiigcceiebihikhdddjdbijhdigkjfihdggcbihhiegdfdgdgdbjgjckbkgfibjkfhidkhhdedkcjehghdibdfeeikjcbhikgbdjbkecficbkgffbfhgffhfifhkkjceiikeffdeghfkfhjgcgbfegjkedjfikkffdecikfcficjddfbjecgchfjddfbkkfigjbfjffceehhjejeebeiibchdifcekekfjceigedjgfjgcdcjjhchfkgeekbhcicjgkhejbjdijhjjkiidejijieffjeckiidfcdgijecdbkkbfedjhjjhbekkkbgiifeebcjkjjbcfgkifgdcbdfjigffcfkebbdigbgkiiibckghbheefdehieefhkcfbkjhgighiibfehkiifkbhgegifkcecfhjdgebijjbdfhbcdbiigbcjfkhikcbjfhhbkgbejbebekdkigfjeefddcegdhgddgjgfkehhhdikjkefgedeigkeebkkhgeddecbdgjeehiiibjkhikgkgificbbgijdceeckiiikkgkcehkhfjkfhjjjkgfiikkgbijeffbdcgbcjgdkffckdfchfhedifbedbfgdfgicfgfeefffcbhfbkfhbfiidbkjbbfkdbcjceikgcfgcidjdgjefjkjdgbkbkkcjkfecjikbeccheheejefebiebbbibdhjjbifcdbbfjbkkggbfbeihfbejkkjdkjdjbicffdejhekfhcdfeeddcbkhekjifbhfkfjjhkbhjhfdjbbecdedcihhcfdkeikjideichbhkjhcfebcdhcjbigifkbhgdgehjgbehjkhebbbdedgkhghhggjididbkhdjdfbbfhhdiiebcbgecfejjecddgebdefddchchhhigjgdkgifeihhkdhiddiceceiedkckcebbhhghkdchhedcehgicbfcegfikgdhgidkfcbbjfegkckcfjbcjcjkdkjgickdkhcjbgfkfjciidehdfcikicbcckbfkkdfijbejbkgcdkefedceecbcjkcbjecbkgbbhfdcjbgifeckfbhjgcbcedbkbhcjcdhdkjjdcbedkgegfkgedegihijbeeeecgjiffjejbhikddkdbbbjfcgdkddjkgfhkgigeddidikkchigegiieegheggeieekkkecjjggfkedgjjhbgcbfkgcjfjfddghdkehedchhkkbfeebdkhhbigckfhebeckbfdbgkjcijdfheehkdgkbcjgecbefkhgdebfbedkcihdbcjejfcgefdbggcikcefjbkhkdfekggbdjfbdbkecbhehbefejeeegfcdiddhkkkdgfjhhejhbcbkbddhfdbfijcdjbhcegkhgjdiceiejfjdifgjbiehckebhjdbdcecibfdebbgecefiejgjidbhhfkedcihhfigjfgceefjejcdcgkkgjkfgcfjhkkfbgedbdkfjgjjgdbjkekfjjfibiekjffkjjggjedjdfjhfichhkcdeckiidchicdfdjcbbgebgdkfcdggdkkgdjbgcckccegdedkejjbdkehebekeddihkkeijbeiekbjfdfdbdigkidbjhcdgciceckhbhgiffjccgdgeiijdhdececbcchhifbcfbjjjjfifehccbcedbbkhbbgdjdegjighiciekdgbciihgifccghcfbhgibbjdgjieehehhgfgfbbehjhdbgifdccjiieikfckkiikkkdkgkjhdefeigifjghejeiejdbekjccgifdebbdedijffgfedhefghhefbhjfdgdkkgkhdfbcidcceekijghdcijjbdfgeddjcdjbgjediddjiegdjgjbdgckiedjbeheedicffhjehebkhjghcfggddfcceigkkfdcghfifgfiejjichegfjhdhheffheccekfjeffecgdkkcgjdbifikeedfechfbijefgedfdejfghccjhhidcdbjchhcgeebhhjjifkijdfdkhhffkcghkehjbdkhkjdikhfjcdhcbbfbghgkbjhceegkebkhdgdfckigdigcbiibchfjgkkifdedfgiidfjefkccihjbjcgibcigfddgcjkgijjhcghedfgeidfdchhejjjkijcgeeeikfffcdcjjjhebgfjcifccgkejjddkebbfjcfjekdiekjhhbeghckgcghggkdkdjjkhjeffgekjgkffkihidiedkdcjhhjickgccihgegbijkcejijifgiifgjifijijccgfffbegjfeickgfddhjejicchhdbebkhcfijkfdcgfckebdcjgdgbkgjbcjfkfkhfejjkdfdbiccdehidgjbibefccbdgchgciihbbjhijhggcfjhkddegkejdhkjkbhkbefhddibhhgkbgjbiejefiffedkkdkbdjdkebcbjjkbibgbbicfecfbddihjidebbdgkdhiigjdjihdkccdcgijckjieejkficdfikbidjhifefbiifcdebddijjhecdbhfjggeikcfjiikfiikdbeiedbgggbffgbcdchekdcbcdbbgdfkekibdfcecfhjggbdfhhdhccgfcigfbjdbgekiehdejfddcjddibdfkgihjfegghekgfddhbbifbceccfgcidiihcjihfgjkfhchbeicbiecjkjgfhfgbcekhkeggefckjgjbfddjighkchjcchgkbecdkedebieikfdidbffidhkkdcdibjddcjdbbddgefkbhiefbebecbdgkbkgidjjdcfckjbcfcejkjcjfigghbjhegefbijfbikjeffkcikfkkccbkcjhheikdfdjdcdieeejdikgfekkfdhdikkdjfghehbecgdjficijhfiekjdcbgdhifbgdcihefdgfhbjicjdhhfgcfecjijibcehbigghgiegeekfjihcbbiebjfdedbkehegeghheggdbfjdhidkkjkchjbckehchkhcfhbgibjcfiigegehkbcfeekjfebjjiehbbgdgfbhegdhecfgekghddifbkhidhhegjkbdeikecfhfjfkdikjhbkihhciihjcchfjgdijdiibcehicdcdcjhekkghjkkiehcchbfbfgdjihgdgfhdeehdhhddcdkfddkhdgibbejhhihikjgjjdeffgkjkbbkdjbkejjifhhgjciibiddhkkechhjkjgcdjddedhjhdgjhiejgidcfehhheeigbbfjdfbjjheecedfhdhhhfchhedcdjkhggedhkgbjbjjiehfkihigjikheidjgkdgjieehibkeddgiceecjhefkgdkkkdcfdcjgjfgiehgjccjckfdbbhkjigcbeccjdhcfhgficbdbhbkgcegddbhfdgkjfjehgdiekgkkdfgkififcfekgckcbdckkcgcbgckcddckjcdcbddhjddbhbejkcjkhkfjdhfdchjbcgbebbckcfjgbfdejigcjchijdhekkhebeckfdfbjjhiebjfdkcfgkjeffbbgkgibfjgfhbheejfcekddjffjejgbfdedfbhbgfidjehejddcdgddikgceefbjjjkbbeibfjdihiiebkfhjbedjbifeicdekhgikdeedfkfgdjgghhgkhddfihkfdfjcbkeehehkcigicgjjdkkgkijhijeciiifbddbdekhkfckibedkcdebgfbeebjhedikhbebhebhcggeeiiigbhgfeifjikbibbkjgeibkeebhijgbfeghhdekefdhjdbkibkgbkjbbjbfbcgeeijckcfgdifiiicecgjeebjikfgkgfiiigjdbkkhbejcbgiikgeiffhfefjfhibfefeibjjgcjgdjgckgkkfgikbcjkdhddfkcgbbgkicihfbgjckgebjjjgddcfijbcjkhcebbbfjikhikhfcigiejibjjgfifkdidkceekkcjcdfbcfbjdjcgkjcgfkchcicgbhjeighjjjkdiebbjggbcddbhjjgfeegebjhcfjbjiehhfbeekjkekkdbhjffkgkjbdckiihffkjgfejbkhiffidhcbffedgkkhfbbjddijkkkiicjiicbjjjdhgejchhbbjdegdhidhcbhhbjjkjjdijdjijbhcbikdjfifiebeggdkdeihkbghgbjiekbbbedkiedcgdfdehdkhkgbebfbifidfheccggdiifegkhdfddbbhbghcifgkjhhhbjhicjfcicieddgkigeibbdigeideieekhijkfhijkjkkjjeidjickbjfecdibiicbedcckfkhhejefbkkedegcgcbikjjegbdjejcibhhjdgbjedickhiehidbhkihfecgffhhghecbfdejkfgeecjcdghdejebdkfcfbbecdddjdekkdejejfieddcbchjfgecebbjjghbijgfgdheejcjhhhjefcdhehbdfhgfhdgkeifffifikkbcgekffkdibgbcdjhibjgheddgbhgjjghikjhfjfiegghcigfkgbhkkehhbjgcffikfgbdjkjeidhhgdjbkhbjkkbckkgbbkjjckdfbfckffciffhdeekfkbcefkbfhbhghjegbebbikfgkcfjgickhjbghceckiiiicgejbfdhcfcbgjdggkeekjebjkjdbhhjchikciijffffdeicieehfiejbdeihbdjijikjbbdjcebikjkccibfjjddckgkdccgfdgbgffccgefhcekefidjjbddegcjideifdchfiijgfjhdkjhibbgbjgceiejjejjkkkdfgcicdbgehfhgjdkkgecdgdcibdkeiffkhcidcgjkgdggfcjfkicekffjchgkffffgdcikefgjegjfifkegdeccegbbhfjgfegifbcebceeheekfhehikbjfefkfhbhkfbfhdfkiibbcbhkceccghfjcdhkdieikkbefgcicgggdfgigkcfdbhdiefhcddgckcbcefdekfeiccddibhbhjieeghkchkkbbkbffeijiffffcgbeeedecekjbcgekkkkhekheihecfbhedcgfgegebddhggfekbgdcdggkdfkehkigdficjgfjbckcjfjbgddifhjdgbdehgibfgebhiekicikbiedjbkhbbjhbkjbegbdcifkcgkjibfbjkfhjkggchkedbjbbbedkfjfchhkbjjkhihfhbhfjkijdbihggdkcdcedkfghdjhickibgghfghbggjfgebkgjcjdbjefhfdihkjhbkbkkcgcjkcijcbcegdcdedhekcbkgbkgkbkcbfcgjkjckkbhfghbgidkggbbgbbgjgdejbbeefddbedgidkiijjddhbedfhifdbfbfeeiidddcidfegfcfecghfjggeefcggcchjgfdgehkkhegkbidfgddkbgeedhgckdkbjgddhibhjfkgjifbhkbjfcekdhfgeghgiiijhickihjdkedgiefkcgbhdiecfghbfefhbckggfhdhekekkgekdjhgfkibigjffgdehiibeefdfckghbkhebigfjkijcikjjhcgiedfihhkgihfekgibekjeecbjfikjjcehkijgkfeckkhkckhifikhefcfihgkhhijejkchgffbfgikkjkgfcjjjdkcbkjcfchjbiikekbfgbcdfdedkdgfdibjhghegijjkhechefbddkkbkdfihcjfgdgfekebcddffckebegccbfkhkfhjidhfcibfjdbbbihcdhdkhgfbcecgbcbcdbdkebikkbbcfjigekijhedhjdheiidhikfgcfkcddbcffbeiikkgkgcdjfkgeeeegejjfkihikcegghbfhcighikhjhjbiifghjhdbfhhejbchebeechdifhheehhfffcejgchiigfhghjhkghifjjjjcbkkecghkjkbchejiedcjjiekjdefkccgfgdbbjbeeiecckikfegfcicjjbfhdefibjbcdbkhjjdkbjefegebehjgiihcjgkgjhebcjegbjffkcgjbfkdidjgcjjcbghifhdkdfdkkfjihhkijbdkbbbfjebhbhhdkiebhbbfebgkcigcikdkcikghfigefcjeidcbfejcdddkgdkjejkichjifiiedeckjicdcbfeekdebjegfkikggkfgkfgjceedkbcfcccgkkcdicccihdbceidhghgbdcghjgjkehhifffkbdedhdggjcfgbckijjbejjbkfceggigdchiihedbijebcdkdbgbbjegbgjdijifcbfdecfbdbhibcebjejhjbcejbijdhjicdgjkeigdfjicdhihekhkjchgjekebicckgccbiebgbccddhjjdffjchikfbegccbfibehfeekhbdckdddhhecghfbbhggdgffedifhiffkbiehfgbbdjigdjgdbbfdchhfbceghdgidkigikiifckkjbjjifhfcjcfccikcckbijggbjkkbbddjjhidechfedbkfcjcjhjcjibhfbdjbkgjhkjiccijfjefhdhhjkddjjgebjhkhkijcffffcgggfkgkjhgdeddbffibibhgijjbjdijikcgjegjcgcebjhikggigdihgfgifgjdcfghbibgcjfchhehebediiicedkcibkbbjhdhkidjgffhfeccecjcdbbhjkhjdbigbbekjjdjdcfcbgihdikdcebgebjecgjdgccdjhbdjbeedkckhbkkbbcejdcfgdeikfcigiibbcfhdbcbeekkcjgkjfffhbfjgbekibfkjbkehkdfgbgcidjiehehkhkbjfcjefbcbedegcgficfcifjdgddcbfhbkebgkkkjeejkfebdhibgieedhccdhjbjhbjgehefgkcjekfchcficddjffkcdghikkjihkihbekjkjhchgkghgkikdkfkkehjdkgidhkcdghbfjechbhkjjfgjjbgbcijegedieceijbcjjjfhdehcjcdchbbfdbekjeefggfkbjidfjhkkfjjiegfhedkigdbggehhedbhkgjdickbbeccffbdhejkedcihkffedigiiiiciiifjfdjhjeffgbehijfjgchfhdcifhfbejibekbbjkhejckcciiegkikgbhidkkgdgjicfcjfjfhedjcggejdeecjgigefhfdigckbjjcbefekjiccfikbhhhkcdjfjifjhddifdfjicbjcifffbidifikebkjbfhbddcbdcbhbeibgedgcfdebjgbfciffekkehdhehckjkkhgkdgieiihdchgiehigiggkecgfhkgcfcefbbdciebefkjkhcikehddhfdhhhgijkcjikbcfgbbgkhbjjbbdhjghkbcekhfbihjcgihgjfekghfdbiidbibidjbhkgbigghhfhcbeebfhchkkfgffghckegkdbhhfcjgejkihdjdibjkbcdiedeiddbjecechkbiiffcedcegghdfgefdcidfdcgkgbgdfebgfkejhihhjhfbdhjhckjihckidcfbdkciebghkfidjkfifjfiefkidcikjdfifjbcijiggjchdhbgfecbbifjiggfefihgdgggedddhfkfgkbhjfcgijgfchbjecigdigkdgccfjekjckgbbhkeecfeedgffcckjdgjkicbhfgdejejhffhjeebifdcdfggiekdgecghbjehdifdiejeeeihbhceggfkbebbheffijebckfjchkbicedefhcffbeedjkgdjgkckjgjhkebbfkehhjhgkedfchjckfdeegghdihckcjfkibfkgeihicjbdifhgeedfibjeffdfhkbedjebeeibgbhihjedcbjekcjbbbecbhcfgckcfgdhjiccigifkihhjedibjdhejjeigkeichjgjeffbkjbbkgkjfkjchbekdkdbdbechhejfcjhfgdbidkiekdfckhkedcihfijgiekjibigkehjhjghcjgbjeecihkdhgbdjegehhijhfegjbdfdjgchgkjiccbkggebhkccgbbkehidkigkdkjcbccggbbdfcgecfhchfbhhihbhhbcijbhcbdkiggeekbhfighfbdgjecfkiiddeibjidhgkcjgfifeccecckghkhbgddbkbdfkkkefcghijdcegfjcdcccfihdiddbhffchdbfikbddbkebdedceejkkjchdfcfchgbggdhcffideigjcffjfkhikcckbeebffdfeikjcicdjideihkhhffikidikchcebcdcicdkhdegdehdiedgigkkeggbghdgdgfhiigijefgbkffgehdjbdeeccigkgegjfcdhkijibhigecffeckkdheciikdhfdggkgcfkkekbdffjhkgbgfjhdkjfhfcigehidhdjhjhijfhkdecfbbccdebcibjdihkgjiicdgcchecgjkbhggkefdfkdjcgchcckhekbcdhkfjkdjiddechbbjkfjecbbeeggbeieghdghfcgdfbkdgcbfchekjjeigchhegeejehdhiijcfikdbbijgbighediiehbdfekhdeibbhccgbgdbefehkdbefckbjghkigkgdbkdcjeccecjickgdgbifhgejhegceidhidfejhfjkfggkdkdhkbhbfhkffhgecedeefffgjekdbjdjkkkkdegedcgceckfhghjdkjbbhhccchgjkeefgggiddicdbkbchidighkhcjiejiechijhbfidjkbefjcibbkkebhhbbfcfbdebbgkeeckkhgfdddbfgfjkjjdhfjjfdejggceicfbedijeihckejjckfebbkdkfidjekiekhidieiihkbhbfhffiibbhbkhedbeebckdefjidffehkidgghfekehfihebhcgjgkbbfhjffjjhkjejkhjghbdkbjfeehhhgkddcjfkhhicikfgiiekcffgicjgbkibjiekfkfbccbifiigfhijehkgigjchcedbbfceedeifgfcdbbdkiddhkgcghbchhecfififfdbdefgkigjbhfehgibibjhcideeddkdiedeicegjefcffjbihgkjkjkicdiijjejhchbcfcihfijffcjcjehedfgechdhikfdbiihbcjhijgjidihighjfcejidcigijjfbhfcjgkhdgchjfbegdkeifefhkbbchjhbbjiichejfgggfigbfifkidikdkhjihccjefihehhhjjibhdeigdhdchghkcbgeejgdekihjikjkhebhjcdgcbebbdghfhidbfbjfbghdhiidhkkdbeccfedjhdehekgddgbjciijiijcigckbbghbjgdcbfkkidcfcccddjikihhkidgbjkchidjjicciicekkgfcdgfkdbbjccbddfcfifgkeijhjgkbjfjikeiggfhhgcffeffjkejgbicjfjibkbgbghfifdffifccbchidgghgfggcifkgbgieghkhheebdjgegkekgfjfhhfddifgcgfbgifiidbijfkbfidjgcdbhejccghhdifkfejdjijgefbcjkdcddeegkhgchccddddifkfhekcfjbkiceecegibiedjjcfbheecfjfbkcgebjfdfkcjfeckkkbehggdbhhgiijcdkkjbjidfbibdfgeddceedefkdfbieifkgkkkbiefdjbbfcckeecfkjdffhcdbbhjjidjcfkghhghehbgfekikfjigjgiejgdifkghdcdkcigikijefkihhieckjhideeibiikidecghheghegkighggcgijidkkdkfgcgifbjbhkehhbfdjfejfchecgkkfbghficfdgdkeddcbdfkidhjbjddkjfhefcekehchbikkjgfgbfhfdgghdggdhijfeffhjgefbfgckehejbkjidkfebehehfhfihickjhjfjiheikdejcjgdccgehbgkgjgdiihfhfihcccidkgkkhkckbdbjhkijccggkgjkjjjbgkjhjgiebhccgcdgjgfefeecbdddbbehdiifjbbgjhhkejggejkejgkcjcgjekkfdkhbgbdkfihchiecjgdedibejdefdgckjbbeegbedcdhjcikeedgikcekdfdjjbbickikkcchkjdjgbekccifffkigjckgeefjgjbebkgigdikfcfjeeickdbhjkgfbbbhgicbgckijhkcefjjifhhehbfdhefhdkfkegdbcjhifbhcjgdgiikkdhcejjfkkbchfdhdigcgbjiegjedjkfhihfdcgcekiihekjdjcefhfdgbcjbffjbcfcjfibkbkkdijcjfddehbhchgkbejijcfjjhbejffejgeiejccgjgbfkfifkgdihhkidfhcjdcghiheiibcbiifidbchickdkfhcgieickfekigbfkfibkbjkiigfcgcfcbbdgiefcdchgeghckfcdkbddfiigedkegiejkgidgediicgchkhifbkhhfijhijdigkjfdehbceeiejdkhbgicfcfchhgicfggcedhicgcdhbddbkhhicgiigechgkhbcjbbibbhgdkdgdbfhkbjjgifjffeifhbdejhcdbbejjekjfgjdcjighhedjiiigfhjfjdbjbjdhcgifdbdijdkbgbjdhdffkdjjieicbgebdigdfehbehkjffdfebkfkkibdcbjbihbhdhjidfeiifbbkekjieiffcbfgcfjgbdgkffiheebdfgbjijkkifeikfhdjkjkkhbcieeecdiiiifdeebjdheejibeejbjkidcicgkkhficbdhjcikjkeeihhikjbjkkkhfhhckhkbggiidkdegkfbidgbggjbfdcdigfidbddidikjifbigbbjigbhcdefiidkbdfbhbchbgfedgjihbcffkikifhkcjdcgjddeggeedjdhdiedfhihiekefibidifchhbikckbdcddhfjicdkkdcegccfjeddgdcekkfbiekgbikchiikijhdgeejgdiihekgdgkcgcjkdkkikgkehjfcbkibcighffgeifkfbibkbkhkkejdjkcdhiibgiekjjeibebbdibgdjkidjegbjjdkfhiegjgckikcfdbgdijejhhjdkfjedcgdefhcckkffgccbgedgdjecdegbfibegjiggjghkbfcehffijedbgfkgbkicdbfbgjfhfbbiiekfhjfbbjihdjdggjkbchcbcddehidkdjhjficjbjfcffehcddejicdgjdbkgbjcgejijciigdbcijdcfjhigdcfdcbcjhdbcdcbhigfbigjffbkbigkbkchgjhdgjghgbfecdffkffiegkekjigkhgccidgcbkcedekjgeidgjcjjikbgkehgkgbjjghhdcbdkbjhedgjbbddcfcgbbegiikkgjghhdediffefbhdbhbikiffbeihgjbkbcdigbgbicijejfigjjcfhbdidgbbdffkheeiihfdfejkjcdfgdeffhdhjjdchebecdcdfhhechgejjekegcjdgiihfkbihdhigjhhcfikfccdejcidkdkjkdfdgcfkgkhhkfikgjkhfdihckfbeidbdigcikehbdccgebefdficgkjbdhjceigfhdhjdjjijjdhdicccjdhgcbegbjeifcfcbcjhcjbcbjejkbkcegecjfhggecdfbkkkfdidkfgbcehjkejgickdffhbhhcbkfcgbekcegcgkfgkfceiigecddeifbhhjfggkcefibcgdcbdgehffhdfjbigiefkddhgbfkhhjedfefdkgkkeggebcckdbcjkhjidkddebefkchbbdfiegejichbbhghjcbgkdibbdgidejhkhcebhbfedckdbdiddjfdbgkjecieccjedcicfhfecjijkceeijgkddigjkekjfikbbifjbkhccbdfehfdbcfikiejcibdgkeibdifbjjfhdkcckciehhbiefebbjfdjhfhibcjchiiedfdckdjggehggbcdffgjccfgbbhkjcjfdcgegbbkficedcekdheefebeeidhcjjhchcffbhckciegbckiibfgjejdkkgjfdjddfgddegicebichggdhccfiehfefihfebhicchibichgkhffcgcgfgjkiedbkjhkkbedjdiekefiedbhkikhgbegbcddjfkcjcddifcekfbkgbdkkhdbjgbddifckjfeckfccjdkggfgegifiejigebhjkkijgbkdiiifejbbcfhihjjdffjjfcfifhgefdkcgcggicjjkgjgdjcfhkdjggbfbdecghcdjbbjcdgkbfgkcdfchjkebegchbckkdfehfbbefdidkkjibfdekdddbhfickigdbdbfkgdfggfeikikecciicjccfbcdedkjfjejcceghghgcegfhcihfgdbgjjcgiccbcebecdbjhbjkceebieikbcjbggjdbhfcfhbgfbfhfjbhibchjjfgbeebcbbhkbcbhgikefkgfgfdkibgdcgdghkgebdeiikefifdjjkhfeccbiekjgkigkekjkbdkchfhefbfhceifeddfbhidiegkfgfbbbbdedifggfigjibfkkkeedeekiecfibehidciehhfgicfjhfdeddjcjdhecgdgdecfbjidkdhjiiefkcggjkchieccfcbfdcbhigkdikdfjfidhcgkcfbfececggfeeijiiibcciceegjfjjbeeehihigffcfgkdhfdfcckjhhbgidhfjghdcegdifchgbbdddghkfbcfckgihebdiiccifdckbcgbgfbbbieefiibhbhfdcidbcjjkdfkihigjhfgjkfejikhjgdefccjdfhffccjbgkifbfhjdjgbgciicejhbjcfebejcjbdkehbkggbdibhhddhfjbdfcfijjjjkeggddjgefcbdgeifffgiigcfiicbbcgffgfbgjibbibgeidkikkkkeedgjbddfiggfddeijgbbhjjfgegdgbhiifbhjhgjegkdkfbfdhhdedeicbiikdhihbjggcedbediefjjhicbcfbhigjbfihbdekfcgjidffjecejcjccefcjbgbgjgkfjbgbjiekbcegghbgjcgfcjedjcebhhgedkcgjjdgfhfbjikjbhdjefeibgkkgjbfijehfcgehkhefkjdeiegecdeckbbkhjdhbcfgdcghdcegcebgcehdebekikfgddeiejgckegiicjcgfkkkdjbificjdefkfihccfjjbecfjggcgjghdgbdhbfgfbgediebfkgcgfdkcckdfefjfeekfiehjhgkkdedfjdegjfdfehfedcdbhgdidbbjejbhckigdeheeddfegjgkfdhfedfbdgfdijccbfbecbfehgkcifbbjekgfigjfbigejheifidgjdffhichgiibdcffeccfggbcieggkdddifegjkfhebbhhihifiefjfkfbkgkdffbbcjdicbdkddbhghckckgjggbbfigcehhjficfbiibedbdibfbdbkkcfhhkefekbbbdfebfkedgdebchbedkkgkjdhdkbcgckehkheikjhgdgkkcdhfeegiekifbifidgfedbgffjjidiifffjjbddghikbhhehbkifgbjbjkiibjfggihbkfckkgbffkechecckdbkgfdkggjddejiffchgjkdhfbkfkecikefdkjikckebgchgjhbdbieeebicjcfdbjbefhbgbbfjbjjhbicgkjfckghfgfkdjgbjfecfibcedjhhegejcjfeefefcbkigkfegfikcjdcfkiibjchjckhgdfkdkhcdicgbkhgfecbekbecibiiedkhkbghbebekkeefcbbhhffgbfdchbbcedcgcbdjekjjgcfgbbjgdcfhbiidffeccjkffheiccfgkgkfjicdedjbbhchbhfkkkdcfeebbgjffiejcggehehgefdgehkkiibcjbeikkgighkdibhhffhchcikegfdhighbbbgkgggbccehddhdbhihfchcfcjfgdgkdkfhgecbcekcghjhfkcbkdgeecbgefkcbfgjfhdkeibeijeekeggghjhjhfjjjhhbkdfcbecgfdicjfbjhddgchhgeikjejiiceecbcekccjgfekfikebkibdihifbicjbkfihjbgbhhjbhhgfjfbdcgfbbejgjgidfkhfgchfkjfgfddjfckibjfcffghbgfgiefcbkfbegfibfcficekfeecdgiiehehgebfkjebdjhibdgedikfihhikgdbcehkecbjhekihgddchjdfbeedbghcfbbcekikejkekjeggijdggeeeiddjfkhjgffgddebgfihgiekdeffhjeekjchecjghkgjkehbkidfehbdkdcbcdhdchifgbdjjefiejkcebdicidefjgcjbbcggeccgbffcbghdccjiiccejkjeffbicbekdchkhiedcbbefdgdcgfihehhkjehjfbifbjfjgbchdiebjcbddfkcehcbjeckfiieghfjjkhegkgggegiddjggegeedijkhgdiccjfjhdgfiddccbjffbjgddkgkkgedbjfhikjcfbifbekehkfcbkgkbcgeejdiecgbfgkgefckfbedbbjhcghgbkbfidhigcfikiehiebjccbbkdgcdhicdifbjdhhijjjeeghjgkigfehdjdicjkebfkcdikbhhdjfchjkkccfdceidbjcifefdchfjdfcjebcffkjggkjghjcgegdhgdkjecbdjekgefehbghddjdccicjbiddbhfeegbdbcddccbbiebhbcgfcegjcffeffhkjekiibkddghjjkikdebbeghgdgcdkchfidhcejghiccfefgfkgkdddifcjehgeedjbkggidfkchgifbjfchddhckehfeeefkekbdjigggkhihdghjchfhfifdbdefkgkicbgdebfhfigedgbbjedjicigbdkjdhgghkkkckkhjhcecjkcbbihgddgkibckkgfhjicekgcghfbbcghfhjehjgejghijcjkdiihekbjekdkkijbbjidgiigfkeefbkkjkcjfdiiffggjgejbgjfhjkcefhkkgbjcehhhbbhhjefdbhejkffijjhhchfgkiikjjgcdbhggdckghhekbheejicfbciifhecfhkjkeijifhibbchefcjekkikcjhigigkcbjdjffgfbhhjhhkkccibiekjbcghhkkbcceejhjkefbfbbghjjgdegdkhjbcgiedhddfjhbkfjfkfkkekfghhbgkdcfikbdfgfhbhdekijhcibifeegjiiggdifbhjbkeedcidcgdjkgjkiibfhbichebegkehjbecjhceigfjbideeehbkkgidefgijfckchkhcjccebcdhkkgdkjjghkekhikcjhjchgeijdcbeebjhhehjgjgihiekijjkjehidifcjekebhkifkdggfiijddhjjjfkfgcgddjkcbkfgkcfgggbjjhhjhkfijfidkfckdjibbfjgbgcjibhbgdgdhikcicbhbfkibhifkcckihcehjeigkfbjiekcgkdceejciigdhggkdhkkiccfccgbffhfccfcbegkkejhfefcjiikegbheggcdecccbjjddbjbjfchcifggehigdjhdddehjbikkhcbhibkbbdgefijhckjjckejkbhcebfkkfgieejeckeddefhdcjibbjkcifccdfhfbfejccfhcjbdfcicbiiiebefkebidffbfhfcgcfheffejigicihcgbegijikbbkhceffgjcigdjhhbeiccijhdbbjkjgkddehddcfibfiekfidiiijebhidkcgbhbhkijgfdeejdbidjihhcfigfckddbeefdbhdkgbejechjifjfbejbbeebdehiikfkkhdbjdfbiccjbcgebhjjkkkcfkhggbcffjekdjhddejedgehghdcikdgkgkigbdieihjefeeggkickjibgccejbhcfjgdibieefkjbbbkhbcebgfdegdbfjkeefkgiegedhkdfehfcceekecjjccfcdkdgghhcjkgckgbjkiegjkgeghjcficfbbgidgeibdbgbjjgcbchcfhgdebkcfcdkbdjjkdkfbhfidgkefdjefbdhgbbjckdccffdhfjeiifgbhfdeiecbjchibcgekjhdehjjchhhbhfifgffjchkddbdddjkfcibcjbjbfficfhkjbgkkjchcjdhfbgifekbchfkbeffhbbdcbjfdhdijehedgejbfckichcdhhgcdhdbkcjkfkkigjidkebicjhieijbfbchdbkgieidebehdkgieggdeijjkceffkccbdggbbdiigkcchiihkgididbdeighbggdejhkdgijdbbcdjbkkhkcjbgjcddjfidfhhdgcidfijbchbkhedfccgghcjbijiihekcecgkiecfcddekhdfhdgkhcjdjkfcckeijiefkhfjkgfjiebdgcceiefekkkbebiddjdchdcbeifbdkkehjchjcedgfgkibjbjcihfkckfjdfkcgjdejebkjiicfddebjekkbkdhjjcgdhkjdibdcedejfdbjbiikgdfgfccbkfikjfgggedjdcdcjidcicbbbbfbdbhhijchdcikejijikbeededejjbhckfecffjehibddfhkhekggfhegjkhkkdkfbdhekceebghfdhfjfgdefkidchcegjggikcbgggdbceiekeijjffeiikehdfeicjibebchicjebbhfefbkdhghejbkjjkdeeibbgjigigicediieggegigdeehkhgijkikchchhbhgbbgcghdhgeckdbdhbdfbfjeebddkgbjhgdceficfjckbgjjbbcfehjhhkfkeggibbhjhihigigfjieejckckfkkedjjfdfcdegcbiffgedkfkcgeijghkgiijcgeiiedfcijdkejbdjbbcddcjkfhbebhghgecbdkcckffjkfhhjhijdbebhggiikdihjdjikjekdcdkhkiedjibfdgehbjgecdfefieikeegefejjjdhjffeefeehiddjkfkcikfjkihcgjghckdhfcgcchgcddkigfchejcgefcffegbkedfhjkhbfbffdfgdihchehckbhibhheiheejhebbehdeejjkdhgeicfebcfkkefifjdbgkfdggcdhgjfdjfhfjgkfeffbebdieekcgfgdhdciiccdgfdggejekidjieddbebhefijhbcikjfkekhhjdjggbkdehiedekffihibdkgbjfhfkjehgdfkbfjhhhejdgjgdbhbedckjdkkcccddifgihkbbgjicigdedgkjbckdedccfcdghcbfhicbhikhfkhhighceidcjhdhefcdkjekkdcekdfhgjbfcjijchddhdcdjhdkkeigieifijbcbkgcicecececiifhbgjbdhdjgjijkdhedkbihkdgcgjgbdfcfgijkhgifjebkgeehfbgiefjifbjihebkfdjhighddfeefgfibhfbijijjbdgckdbbdhhihggjikfbjbcgfijgbebgfhhcbikicijcjfkfejekdfjkgdehjhdfgjhchdjcgjcckkfbeeejeccffcbdifjkjkhjkkfjecbhekicgfebjhgijhjdcbjceiieiieckbihccehigkckigehkkdfgfkkikdfgckebkkfkekfcffcjgkbikcefihijgfjjhcicgdfhckgdfgedhgdhbghkkjkdjkkkbijkbbhfeggkfgkkdffddjekfhihibbfkfdgfcjhgedkijhikfcgghidjfjdkcedfbhdkkedkbbhfjifjdehicjjijehchikfejceffkdijffkgbbiigffchicddiieejdebieiikfggihbfddigdfjcefejhbjgijhididkjjeffhghhhfddidffbhbiebgdedjgkdcbejbjejeijhefbbdgciekkcgejbekdibgceieffhgehkjdedbbdjebhijdjcjbbekdgfbjgiefkghbdkjhfjebbkkkiccbicibdhikjjkkeifiedkicfkchdkeiccjfgchjjfikgbdifbgfdkbhkhfbifgieccffbbkebdebjkkckfjjjhfhgkkcjjgejkfekcihifjgfcjikfkgecbdcfdhjfjiidifcbfifjkiiefijjkkebdefbbdcghkjgbeggifjfifhkffhgkghegdcfjfbgcbkdhdifchefghdddkcbighfbebcfcdjjbfijgihkhjdkiikgdhkgfbjihckijbgcghkfjkdckgbiiidkgifbcgcjkckfcdfiedfihifbeikikkhbffhcdgjfdcedhfdfjddieccbfkkicjfffkekkeiefedbeidegdddidgehdhffhhegekejekggdgbjhigdbiiejighiideejihghiihgibefhbkcghciebdbeghcifjdjjgchdekehibgficeghfkjjbfiikeiedfgebfjefciihfdbgbhhccceebdfgehbhjiehbdfjdfjjjhkjccjkihcicdffcjfkjjhfkefkikdhkbgjfgedifcbcbdibcjhjcdjgjbihhekibfcijgjjikeiibidejcbgjdcghifdijidghcfeddifkgkehhcgiiekgkhhfghbeibbebekddbgkdjdggcidbiijfjdhddibifbgbgjejiijdgehjgiifijdhdiedciikkjcgigjijbgffkjiecigkggfifhiekfiegcjigekbbfbhkgcehkcbibdehgcddcekjhihgibgdibccjkdgibigdcbgchckdjhcifgjkkhhbgcedhcifjbkfbbbhjkbkcfihifehjikkgdcfeggbicbjcgddkechcfdbdebihegbhhbdcgbgdcdhigfgbkjidiccigehcjfbkijjkejiiggkihhfekdekgdjibjchfhjggjkfeifbhjkbebdckbgbjbfbjddbccjcheigfkhkdkbbghhfgecfffedgjbfcfdeefhhjiihfbbcbggfckeiijcfjfdffhieebdddcjjibecbkbdfkdfdikkikcfdciiifhhkebfdkiffecfhfjcbhhgfdeicedgjffekhjfedjkeheedcfdhhfdbghghdjhcchdjkjieidgcjeiiecfjjfjbdjcfjbghiibjccbcdjhidbkkcikjichghjgijgjdhjdghckjkcfhgigdgebjdkciddgeccjcebgbgkcfikgfigjjebjkfcfebdikcgdgjedifdgefdbjfhceecfcgkgjhjfhccdhkejjhkcbicfigchecihggkicjhcjhgdhdfkejjdffhkcdifihgddghcjkhhfkbfjjbekfegicjefhgddhcjeijifcjbcgbhfkkiciifdiigjcdjgbihekffjggfgkfdchjbbfibhjhifkfebiejgfbkkjdijiiiecehfikkjghdfbhddkgcfgcfifkkdijcbjfickhhjhjkjffcbbfbgefcgbbfbcidbeijedfkcikibecfiifcjbhidjjgbifcihjgbccdidkdhbebcegbkjjebfejfcbefccjhhjcjcgjikdjhkkddhejjdfdfdejidhefgggfifgkgkgkfeifgcfhdjgjhbfgdccibfbdddiigjebbbjkhceeghjdiffjjibcbjdfhcbhgcdceckekdkbhfgdefbikbgihifjidbkgkjbhicgkjdfdidkkceehjgedikeejbgkbbkibihfeccjjhjkjdhkdcbdbbfffbgkfckjbefbgecjgcbihdfghdekbkkcegbiefibiihfbkgdcegjceckkjhhdfkbdjgefjdfbgehgciiccbegckkddcjjkbbbbedejgdcfdijckffgkdieeegdbfbdckfdjcbgeekbgcibkcdecebdbfikfbbbibihhkccfihckgbkjbkehchijehhjbheibkgehkkbdcebihikfigikcfjbhcjbfjicgebeidjdbcdbigdfcdijfjbfhkjdhdiggibjfddbbijgdgegkebedkbjekgkjdfcikdkfhfifjeicbidcidhbbkbekcdgedefjbjkgkiidgffdjcgfjcfkkheebbfbjcdkehifhegbddgckkgkkfjbebfkdehbhijdgckgefcjcdijggdbdikefcecbhdjghdekcheikbjdiciejeiekbkdbejkhjdhbcbiccifddjkdiffgkegjkkhgikhikjgcjjcigkghfiggbgijficjiccfibbbdjghbiihdfdhbhckhdjbcbfikhibfgjkdiehjbkdbkfbfjddhebiiffgchjkkihjkjdkbfgddbhibjbgcbjcijkkfgdeghkkbdidicjgdefchcihgkceddfgchjkhidiejbbfhikfjghibbcgidkgkgdjegfgcbfeghjbchbkcigckicckbkjfgkkcjfjieghkichkdiijbhijeeedckkkghhjfibkgckkcgfkkcgjhjcefbgfhbfdjdjddckjccbegbhbcjfhikbfbeiijggkhgkefbhgcikhcfdkceiehbbgjfhjiifkkgkckhcgddjdfgigdghjhffdfkhkjefdjjiechjkekbbjcfeciiifejekekhcgfkhifkggdhdhihcdbdbcehddjiggkckfdidekgcdfdgedfhfgbkbicjfkghcjdkijbjibcciigdeeidbbdkggkeebjhidecjicbfhcccfgfhfijcfijfgbgdbbbjdhefjgcgjjkkehjiigedggicehgciggehgdegfbeegjiikjidbggeckhkjkkeikbcfkkhcdijebicbffjebgbhcfieebfdikjhejgihggecbbddgdbffcfbficbbhheccbcidbekdkdhbhifkdjbckfkchfckehhcefhkkcdhkjhgkedkiefcjdfhdbkgijeiecgfdffkjhgigckegjfijffhcchcjkfjiijbhibicfhcicdddecchcichbcgehhhbckfkeiibhbhibcccihekcdigfckjibiibggeccbgicbfbjbfibkchcebddefdggbebdeehkhgbjjdcbejickhdkckkjjhhdegifbcgkjhbkhchcfdhfjfkcjkkfeghfjedgfkggkcbiegbkjkkdccebgibdeceejficjceekdceibekejfgdcdhhgddcdhfcjgffgijicidffdiciffdegijigiddjbbekgijcegfdhigdgehfeckjebfckjbecjfbjgeefkcbbjigiihkifffhcfedhbhbkjhjkcgechhijeciecbhcifhjdcihfjicbjigbdkiddibbfhbfhfhefjkckeccfgjiifekkeccdideedcgbkcegdcfdhcbcdidfgdfgbdjeiicfbicbgjfchfbibbhdccfbgfbeeffbjkbdebbfkcbdeecfkeghfgbgiddegcdikhiekkeihfbbifjkkckihgihbbbfikfejjbejfffdcdcgggkibebcgjdckdfkdjfbkgibhgkikkgekjieiebdjjcegjigeghdhbfihkddggkcdfeigbiejibkckdbidkhecebdjbihhicjkkcjidghkibjhehgbiggbhhcbkcjiihjjhigficgddkcjghbfekdcibcjdjcebgjhjbehdkeieikhccikkedhgbhjdfhecffhcdgdfbdkidjecbhdkhdhbfihjehgbhfdidhdhdjbdbckbkehcggcfcjickekdkfddgccikcggejffkkjcikhhdjhkfijfjkckbjbeigdejgjieddcdfdfkfjedjdceikfcbdeekidgeiccicdghfbjcgkfjjccgdhgkdgffjebcebddidkkbibefkechegejcifgbjjbhieddgggjekkhfihfibkkdhjggchgfehhdhcdhdhigihefcheffjidgiijeeicgcfkkjigkecejhjhbcjddjdfbdiccjeedfcgffegcbcihbgefckjkhihediihjkhkckcegdebbhgjfgjfdhghhbfhjfcejidiciibjfifkkjddjehikkcbdigkdijhjhkhejdckhfckijbecggfkkjkcdcfhekbkidcfkbkkfgkkfbjifibjbeegbehcfggghgchekdbiejegghebfibdhkcgkgidickkkecbiiicjighjjcfieieegcgfbbbfcdkbdfbbidhhdibiebkeigjkihebdkehbdckejjjfehjfjhhkjbkkhhcfgihfijiehhjdhegidkecccbghgcgedjhhehejbccedjgcdbcffdkbcehhfdfdkkbikfedghfjjgckgdhcgjjbejbehbeijbifddgiiihibigghkecbhihdjbkggcdekebgibbhkbjhigbcegjfbhefkedekfefbbbkdhigjhbegjkihghhigjigfbfekjiejicbjcchhgejfccdkbhkkeieijcbkkdecdckdibhiicfecbkggheiiicijiecedfhijkbcbgkkececkbcjddcfibicdjjeiehbhkdecfibcfbjhhdidjiebefecebhkbhchkidgjjijbbcfedhijfchbfjbeffhecgcediidfkcghfckhcdebdcegbejbjkeffefjkefkichkjidgjdfififbbjbcdegehhkkgcibbhechegegiefcffbcdjijekkkehkjbhchckhddfcihcggbfdceedcfhibbhcbbjjfifkedhkhggefkcjidhdfgccddciggjkihchcbgiifidfbcbgehkgiicjegdikbgdkgbdefkcgkikgbchejcggkebhkkgckcifddcedgkbegggiecgjhkebghiffbjeejbgbebcgckhddhbjefdekbikikbhjcikjjjhgjehdgfkjcjiefeiihgdjjcgdiibekbkggjefiejbkcfhkkdjgbhfgeidbbbidjghbdkhhhccccekcjbhkhefdgffeccebgjbbkjgfgfhkbbcbdbkhehfbcjjbhckhjkdjceeijjddhbeeecckgdhdkhgbbheiebddjiddfkkjkihkedieekghdbichghijbkegjdkkiffhbgjfkfichkjcbbjjkihbdejjjfbfbgcjjefcdbjckcdkjiidebickjcikhfifjbdcddcgcddjigjjfjcedkfcjcddhhgfifbhjkbfbbhddkicdjibkededihcjhfkbhegkbgchgefebkbbfggcfbbbfjidbkbfhffhihccckifjjdifkgfjehbhjjchjfiefbkbhehcfidkiihjbbekkggehgifcedecdbjbbkgeghkefikkifihfihibkgckjgfkghieeeffigffbekkebdekbchikfdhbjfibbdbfdcgccidbbfdfjhcjcjfhhhhbkikkkejgbdjckkhchbccdbjfdhcffdbfkfjhcgkgcgijkhbedfbhhbekefdfdhdgchdgedbkfekdcfdkfcjhjfeffbbbbgihjdkjgdjhijfckjighckiebbeiebgbdieccfkhfddffhfhjhfdjjecdkfdggbgijdkiecdcgbiijfhegcbbgbgicdibdeicddikdggekgjhecjcdjjcbficdfeeiebidhekiebkdccddcjdiikceidhgcdcgjjbkikbfffkjggghgibikkjichkckjbgbhkideeihhkieibcgecfjfegefbjcdhddgkcghbdfdicghjfhjfidkkjjihekkigkhfbkhgjkgcbjfckkkiijgjdiehcgfejijhjkehdfkbeibhjjhbidiigibkhbfjcjdifjgjddebikcikhihkfggiecbgfijkgedgckbekkcdijhjbcecgiifgfeciejhkdidiejibfhfcgjjjcghjbcecbeffifchjdgfhidddgecfcbddkhdkgdckcbccbkchhdhgkhchkijehibjdhechgekcbidgcbheebhidhjfghcidfjhdigdcebgccdibgcheififkkjghchkbcbffhbkbkjeejcgfgcfjiegfjjckbebcgigchgdkkddedggkdidjfebbbkfhcieccjjhjhhfbckckhbkjfhhiffhekigjcckbkckgjcfgihkjbkikghckeecegkjffdighfbedkgefcbeihhdcbgijhkfgjbbidekeehbjcgbdikejeefffkbicefbcecdbkffgdhijhhbecihegkcjdhjhjddegbhbejigkbbdghckkcekehhcihjbdihibkiheddieifefjdfbeijbidddgikehhedcdddeejeigcjjhjifbckcbejjfjckfficeigcjicghdddijhhbcefefbgfgjcjkghecfjhgkdegfhgfghbjdiijbbbdhhdfjdjfdgedhcjhfeebegjfefccbffhecbfbgdjijddhekhdcbjcbihiejhbhhecihkkcjkechgjhkjkbkdhejifgkcgchccedbghidckehcebcehchkcbfkgekdkdicejccidbccfkckbkebbbkghigjfefeidcfhifijhcehgggchhjjgdgebhigeiejiikkbcghbhkfcieihfbdkbbgjdkbfbkfkbefkfbikjgchbhibicfkkdekdehgbgeheccgbkeckbijfchjhekjhdhcejjdehegjfdhbgjeehikghgccejbbfbhkfhkgbbigbkbfddejjdhchgddjidejgfhkffigffihjjhhgdhhjeekgcdicgcedhikiejdfjeehgdfffbfjhdeehcfedcieifeehgkhdfiibeihifehiebhfhfcdgegjgfkkceeckefijcdjccdigkecjigdigcbejbjjecjfgdjhjkihjjejjjgcdgdkhgffbkjgfdkfhgejhfbeihkhciedbcihbeigdfihecijcgfecfhjhbhihfikefjifhccigiejdfejbhbbgbficdhcchcjbkbghbiddigcichhhegkehkkbjdgjdkecddcgekkcebkcbhgdfbkbcjffekebcjehjcfdckkgiefjihcehccefkigcdhekdfidekjhjehfigdfbjekgidfifhgdikdfjhgffefkdbhhdfbbgkcccigefcfihjkejhdbcgdjejibgkefhijgjigbicdbebfhghidbdjiiikjjhhhdgbhiikfjkhghkfkkgbhgeieijicieidijgcbfkcikjgecbiiehjehfhhifkkfkeefjdcdcjhiehkfdcfedjfccecdigbhkfijfkbdchhghecggfbjiebbbbgccbhdiihccicfifdkbfbcbhkdcjbcjigiifdifdcckbkbekkkgjfeghghiffckehchgggdkdgichgjkfhdghhbeegfefbgbebcdfhhbkkejkigdkcjkkjbeihkbehcfbiggjcekfdifedceifidjibiefdhibcghfechcdgfkgbfjbeffjdekkeibffdejkffibcbijhgdkfhbfbbiiefcgeeffbeiijbdggcibbjijddeedgjjckdbdccjcbcgkjgjkhibdikhfhebbekfhcjkbjkbgbjddicikiikejkefjegcgbekjejhffhhdeebhbjejfdgjjkdjdfhkgffchckcgfiikidhdggfggfjbijgefdkhfgccgfdkcdfiiebgedbjigikbkghccikcfbkcjccfjbkkiigegjdbhfcikdjgbdhbbcfggjkjhjdbidjdfkiiicckcijhgkikkjhfciehbfbicgjijcchifbhceccgkjfdekddgcdccggehehhiebkkdjifdeehijebkjjeebfibcdbkbikdgiifcbfhchdccejijecdbefkhkekcffdkdfcjkkkhkjibdefhcdhieigfceeddjgfjgieddfkbjjgbbefeecehbbhjbedhighegfdcbhjhbfhkhcgekkbekhgfgdbhbcihdekbjjdgbdjkhjccbdiihdeefbkkdhejfkbhbfeidgdbdgfjgfbkkcfcbkikjbiidgdkcibdiibhejdkcbkgefdicckigdehgfhggfkhgfbjcegdidegdhkcieeijjdighjkdhdihdibikhgjegejifgifeccbbchfhhbdckdddedbekfikgdjdkedijchfbidckhefbifgggeecjiiijcfcfcdjkedkkhjdjdjhbcbfihfcbbdhdjbcjebgfghhihdbjfcdbgcebkicdfehfffjifhijjgfffcijbgfjihiggkcgggghhcgihkbehhhjfbfgkfihgjbhkkfiicgdkbhhgkggdcghiibkhfcgdbbcegckggcfebijidkkikcjdigebidbdbcijfffchkcfdikgigjbhidieiijhgcfhhbjiddbdciidigikhgcejhhjcdhfhikgiefhfbigfdehjcfdhjekgfehbheejefcckjgibehcggbkfkhijgdjbechccibhcfibdddfhbjgkhijjkcfkjidgjcdikdjdbkeghjcfiifgegedbebidbikbjeehkgiigjdjichjekjjkehkfhdkffbdffgkkbghibbjcjiiikgdhibefciigdkcbfjbiihkdceecdikhkkebhghdegbcgjkchcddfffikcehgeeegdbdgibcbkkehhhddgiekdckjdkjjjbhfefcdcehiggfkbgbkhfddbkihejikdjcbkkjdejjchicdiekfhhckicgjjbddifigdehhjjcjfckjbkhbfhfdicjjbbjkghebifjhkcdjfdbihfbcihhjjbfdkbcgbcjdfeidjbebiefjddiejikdjihcbbfgjebfgffhfjkfbcibhfbbdbbbfkbgkbdgejdjkgdikdeiddjidgdiejfdbkbfjjdgigchehgdjdhbcdeigkgjjgbeiedbhjchggdckhcbgkgkjcbicfgggcccekdfbfbfhhficiehdhhkhggbficdehdkceeffkcbhicdjbjkickidkfbjeejfjdbicbjgefbjhkjheeikdgkbhjbidebhdjcghbfdjkfkbbigciiecfhcggkihheegiigkbkhfjjjibifkhkcbbggdhfcjiddgbikcdhehedcgjkbgfjidjbggkcegckkdicgdbcdkcbbhikigdjigdceeiekeigdhbggdgjdhejkijedhbjhekidbhdjbbefhbickjgcdkfgbcejbijdgicjccedfcdjkcbkjfjkdkkikfjcfcefhhdgdbgghgdidcgikhkhjbiidfkkjfecjgejcffdckfefdhjkckijcdghbjdikgedhhkgiegehggehiechfikdkdikkjkekkdbecicgdfdccjehfjiceejjidhdkjefegekgedkfiefcihkdefhgfgekehdikbjgdjjdhdckjkkjjcidkidgjjejhjkhiikccikibgbedgbjifekidgkdbikibgjkdfdikcgibhkihhkcfgjhdkcecgdhjgdjfkeghddgfjbegghbiedefigiegdckhkefgdbgffcfcekcgfhjfgkdjgdkbbbggdjifehedecgiihiihgkiihigkbggebcggcjcjjeedjcgehhkddihdjfeiiikcjggckbjckbbgdghbjkfhcdeijdjfdicdgefkfekjghjgkfkcediehfejhbgfgidejjdjbkkbddbjffhbfkjfgkjcjbghgfkedcbcffkijfhjcgigchcdkgcdggkceedhjdfhgkgddffghghfifhifihihikkghgkffjfdbjfijddchhbidjcgcecdhihcfjbjgibgjbkhgkdkhgiddibgeibgkdeeedjefehebdccbffggebgedgbjcfdbkdcehecgikjffffdkhfghdgdiccjgkggbbdkejihhicccchejkcjgfihegkieeebgdbdkckkhjfdckdchhfgbgcekfkijcdhhhbbhbkgibbdcggfgkijjkgfhjcidggjdehkefkjihibhchcchdgeddcddbekgefbgfbggjgkjbkkhighckgcghbjdddgibcfdecgheighfekjibchjdjcijfbkfjhbkhhhbkehedebjefdbcbgdeiekdhbkkhfjiebbdgkijkbdekfkjighgcdeikeecchkfhfgfcifffjbghkdebdiekedkdgbdfbddccdiceiefbfcjfhigicjhcdfdhdkgiddkdfeedkgeicejifcjhhdbiifceddffbekfdcdhgjhccdgbhhickecbhdbdgfeddbjhedfiebcdfijihhjjbdfjjdcbhjfkdegjfkghfificcghfgdjiehfchidkggeidhdjfjgfbjebfccbceiigehdgebfdgckiggkggggkeejcbjkfgihhgbhcbeigjhehcbekjkccgjccjckbfhdhkbkjefkbhjdidbeicdiijfccckjfddjjjfbfdciffhijfjkiffdhhcfcedeebfbeebhjcjbfkeijekdggkfcjdjfkfgcjghbfegiidkfhbejfiiiigfffccffjbbegigegiefkdbfebikkcebgjkfkicgjehhbchecjekcbdejfcheegeekhhgjhbjcghfbdeejciiehggddcceedhggckekbgbhbbcghfckcffefjkiibhdfhchcdkkgedhkcdhgibhbigekjfkdfdfgddbkikghikcihiibedeehgfkcdddbgeiccjhkgeckdjcejhbigkfhgdbjffdhdicjgdkibkbefheeggbidkddkhecjccjefikfebgdhcdjjhbfbcgckhfdcdkiejidbcibcihdcdggjhbjdhihhifeegekbkghhgkjebkcgeefekjcidggjfbgjkdjigijiehhdkdifbbfbgbfjbibgbekjecikkfghgfjkchbhcdgfdfedbbgebhfjeikekhkekgcfecgggggchdjdkchckfghkicckkidjhjfhkfgdbfjddjghddkfiejehkbebgbggjbdcgecicffdefbjgigejdcdehgjecifdcdfbgdcjffgkgjkfcijjfdffjicgfejifidfbcjhjibbihbfcbkeifhkekiegiidgfighhdbgjbdgjhjbkkbhfbihiikfdgkihkdgigfcikijggeiiecdceckbkbhcigekeihjjghdfhhjgefkgkcchcjidebedeiheddeikfbjcffchhdehccfhchkdkgbhicebjjefbihigbebhgehkieiddgdkieiffbbkbegjdfkfcekegeedgggcjgifcjggbgcjfjifbgcjbbigddikkjjeckdekjcbddgbdhejehcbjhdkheekekcccdegcciigeibdjkbhjicjhhijehggdfdkjcjihkbcgjeiicdchdhfhchdikkgjbkdkkhgidgiececfiidfedggjkkjihgccjffihhgjgceddifbcjjigjbkcgcgijfchjidkbecchhbjgehfkhiccjciieiebkegdbbkiieekifbbjfkgjihdikijghbbjeicihgbibcheikbbckbfefihjbdcieegigcegdhbbffjccckeiiiddbehkkbkhibihfeijfghbdikdbddbbdhkjkikieibjbekjdkjhbjgcffkdhfckiijfkgikfkfjcbcfdkdgjbhcfcighkgifjckbhcbfhcicbjkhgdcgcfehcfidbkhjjeifcebkdkhbkjfgciggifhfijbfcfehkjjbcjehffijdhkghjgdcheckcjfggjicecifihhfkjieegkkhccidkfjjckijkjjfjdjigdkfegdgibjfhkggchdjbiehcchddbeibijdjjffigbibfcejfdifkiejbijbefbifkfhcddbeghjkckdfchjcedkiekccdddjhfegbgegjhcghghcfjhiifkjhfgjeefibiijjbkfecegcjdjgjbgkfcifdcfjbfkdjkhcejejjdijkegkbkfgfgfddfddddjifbhhfdbdeecbgbijigbidjgjcebkjjhgjkebkfgigicgkcbifdcgdhdhchjekgkihdiddfgibciehhhijihiegkgciiedhkchbdiechcdjdkicdiigkkjejcjccdbfcifgdfejcfjkfikbijfiicbijdbbjddkiececiijfkbedhfhkkjkcbbbfbjjijicfbddjeedjdcickjjhdjjhkedebcidddkddkfkjjkebgikhbfhhgcddkfjgeejhcjchiijeejckjcidffhdieikehkddddbbekhdbcccckgfeebjgkcdifikjccfefkfedgjdbeeefdiehkcjehbcckecjhekddhhdgidefgjkiihigigfkcfcdkfkeccjgfjkhegfkkbbdkbjehbhgkddejfhcffbdfdcbgefjjkeggkegdfkbfdibeechhikidcdbigbeicegikggbkfjekdiiiibdbjgbcfgdfedjdgjefdijkekkiddfhceihbehbgejifkdjihehcfbgegkghbjekkejdbgjdegkebkihcjckddfeeedbjgebghceejffgghhjkjihdddebbgedjebgfifkdeggfjgjekjfcegcdeciiiidikgckefjfjfhbchfbjdfedbjfcfhecgjgdigdiekedgigifceffjbfdjchjhgdijcbkjejiiejeihgfeghdeedjecgggiibdekcjiehdfffiedcehfcecgbcghhchkeehkddehbibhfbfdikgeiiikjjjkhckcdbkchcfjfgcdhhcejekcbihicjdejcgfjhdkbddichieecicebfbcejgejcceckbejejbegjekigchhfdgjbbcgebecggbfigbggecidckgehhjgjgkfdbeffkcgfkdhcejbkekgejekhhbgehfddhfhcfkhdebjcjikfeiddbbddecfjjgkkbiifgkdbbejegjhibebifbifcedjgjbikehbgefgeffhffkgehbcjifjbbhffbcegfbkfcgjbhdhdhiedhhdfibkjhdcfcbdfjfiehddjkdfkhhbjcjhbcifkgedhbhkkfjdjiegkiecdkbkibbdiedkhedbdeiebjjkdegejkejijebceiehdkfkgkecfhjcbfcbejkdebkbfkcdjdbfecchjdeekhbijkdkggkkbkdfedbjehhcefgbgjdgfdiejkdggjcbickkhggfheccjcgegejdfckehkhkjjcgbcfeejcibijfjdggfcigibfjdkjibgdfdfhhhhhifjkhiidhkbhgkcbcdkhhfjgbkjdihhkdgihegjghdibfhekhjchihgffecfkfgdhckffbcjjbbgbdkbdifjhhbcdidihcedehcbhckbiikfgbihcifbfggbdegkcjjcjdbekcegihighfhdjjkeebdjcbbhgfekffbfdbkedjchcffccfgbhdkcejefcedhfddkdkhieefkbdejcdhedhjdbbickfjfijhidgjhjihfeiifdiifihjgbkiddjekheejcikkckggbfiggjjfihijjgbfjfkgkidihgckddhbjcbhhbfdihibkjjdfkgkfcjcjhgdkhfgichjeghhccbbbefbjdfhhcjjfgijgffijhbbhbbfkdebbgjjehiffiekifeifdgcbhhhdiefddkkggffigdkeggbfgjdfcjjdgihdgfgichbcgfchgcccgchddbdkdghdhekbhegfifdgjkghbjhhfbckbehggedhgcdfdbkjjghedbceedcifjhiefekkjhiefdbdbckfgfjhdcigikbceeeidkidehkigbehhdjdcbedggheidjcjjgeeebcffkjdhfgkgjjkdkhdbeggcfcgkhbgcbhcfjkhdgkifgeebkfbibbeeigcefdgifdkhccbiediiekcigbefhhhjijkedgggecciehciicbgbbjkebijdikcgggebecgcffbgjiecbijfckeikjbjbkbjegbghkieciibdhfhgjjijgdfcddgcckddgfbhghccgdedckdjhcibfjijfkehjkkhjdhfjfdfjgkbdjifdbchifjckcgfdidkfkgbdhhefdghgekghgcbejdfkbgeibcigffjjcggeebciecdfdfgdjdibeigicefjjbjfehkhihhdkifgdfbfdihbkigdjciigjfgekgihbjggeghigbeggbichckijihkgeddechgjdejgfiicfbkfieibhjdcdkieihkdhjfhfkbcfikfbfgfecddiigffjhkeebjcifjbgdekbfeigdcdfcbeeifiibdjkdjgikdfddhbijjkkibfddgkcfbfddcfighbjjkcfhddfgdehehfjhiehieibjkgihcdbcjfidfkiidkgcibgfecifjehhdjiggdgjbdgffhfcihikjcfkcdbfeeiefhehkgbcdkecchhdhiekecbdfhfbgddgcdkdchjecibechefecdbccdhhggebckkidgejfjdjiciffhheebkdegccjddfjhdeieeiecjigghjhhekhbjeheffhdbkedbebcghjgbcfjihbbfbgefbiickicjbfdbdkjbgfhicdbegiecgidfiikgcfeefcjbdjkbigjhcjkhkbkigcbffdcjghehfhiicjikcicckedgfcdkgicfbihkgffikcfifidibkbdbgeegdjeghfhbegfdfjdbdjjgjfkehbhccghbkeehkfeikghdcgicidbehkkffgedgfhiicjibhcgijgbhcgccckefjciejeeeedkckgbffcdhihfccckbkjdfkgdfhdjebkikicbgjfhfggfkheiebjkjjceckfdfhgkjbgiegbgcdbhbjddgigjkkjhchjhjdfhjehjgjkkkdgchckickibkcgcjccjefgckidggfikcgkkikdcidckceccfhfbbehcdhigjfhjgfcgfhgkjechecdbekiekcdkkbbijehjhghgdkedhbfdbekjejicfgfiifgcjdhgbhfhkjhjbkkkffejkhhcibcbfcggjgccbebhgbhfkeggfjefjhffhbidgkbkkhhdgiicfkkkkjgfeghddehhhgchcbkfbfgfcjkfhiifkeijbgfhhfdihfghecbebebbjehcdbdeihhhkghchbbdfhfifdgbbbhdgiecfbkhhicckihifhhhgigkdbihedfdjefcihbjeikebjbkdggkgbjfijhifkfdihbijbjikkbceichbfkibifbiibjbeegcigijbejicchcdejhjkdkcbghgfeiihcbddibchgeikgedhidbhcebjgfikhkjihbgdjkidjiggeihedkeiihdbddbkicficjkdekchfcdbebbbcdcgjiehijgebefhgjgkhiiebeicjggckjggcfififibfkibhheikhdjjfdikbfkjjbekbjefgfibbdcekgkjgcefkkjgbhgbjhfffekkbfidgbbiicjjcgeehdkbfkgekijjifhjfceiecgjdjdkgkdehkfdbedjccfhkibddcbbeigdfgcdjdgjjehdjefdkicfiidbfkehbkgfbidkebjdbfdbbbjjekhdkghjhjkbhkhgdgkedeejckghfhkcgfckdggchefbickjcdhekjejfhfbjidbfcbgkkgchehcdbhkcgcbekbdbcffddhkkcjdheibjjdjhkdekgikfeifbhjekjgbhhdihjkigbikgbbfhebigcejcfidibgbijefhibfcgeiicjhiecikdbejbcdeigbceidkggekcgejicjdegbhjbiibhibhjhgdceigdbdcfjehhfjfgekgjjkjeggkhebhcbbjbggbkbgfhhiibfjiicdckeejfehgecheckggkdkihghegjcfckfebjbfjffbjihfbeefkbccfbgkjifhkdjghcgbghdffbfgjdeheihiigkfhiieebbgdjgeibbchdjbjfigegibdjkbfcddghcbhbggbbjkehfjdggfkjbkjgffibikhjkbkiefecfgfehffgfkfeedgfiddigkhjdfhbbcjhkcieejggbehijdkhhfiekhjijjddfhdkcekbhhdicfdbjgejdifdkcgjdfhhgkkfdcjckfdhiggjhddfhdidiibbdicejkddhddhcjjiikhhcbgebdbdfccjeckeehdcjcdbijhkccjbfkebdbijebkkdkgkdfebfdfdkejbhhjcjgbdbgefifkegefdjekfjjbgcedecdekieicffeikfkhcbdciifhhfjkidbgfgbicbfbfkcbjecggfjeidgbciffcffdbhidcidhchchkgfihgckfbghbdihkbkdddiijchcjibfkjiibeffdicegdjjkkedbbkkfhebeeeffbdhjigiejkdgicehjjigcgkgbehdjfhdefhbdgkfhcgfdbccifeegcejgkcdfhfehgfikdcdfbhfijeebkggfdiiebhfegiibkdijdbbbcfjbhddbkkgiceidikcgbhkijehigegegcbejcebibkcdjbdehehfbdbbggcgcgjfhcgbkbbgfjdkhcigbjchbhbhkdddeebhbibfbdhfgcdhegfcihhifedefhgjdbbibfecehfkdbggcgfigcfghffijcdgcjgdjcfbhiifbfhkigbbcebddjgfekgfkdbfgjjkddgkhfikhdikcbgkhbdjdgkhhjfbeikjdfdbeedijekkjejiejfjdgbbfeggeekhdckckicjeccjdgghbdekchdggidjfbbbbgcgfkicjcbgidkbeieijhhicggdhkcikehhifkkihcigeifkigcjghgeffbkckgbjigbkgcchefbgbeijffdhbceidjbcbeidcdkgfificcbgickeehgckihecfjicfchbgeijdjhgjfhgcikhhggjekjhjjkccjbggihegiebbccgghkbkbgfedcbgdihkiccbijjgjgkbidkhkdiekkehiecigeeikhbcbejdejhecehediihghgjjekiddeejfciedjkjdikkjeegheehfbjjicebhehcikkbccjjkcjibbhjdihiggijbkbfbhdjcifegfekkddjkikiebijckekkcecbjbcbdieihbdchgdjegfhbdbejbbidjggiihfdijdbchckhebccdkbkkgddefifcibkfgdcfhibcfjgejbhjbbfhicecihdeikigchhbcfebehkkjcdhbdhhhfghbccffgkcfkhgjdhkdhihbcjjgibcdbcbcgefiiicgkegcekkijhkcbjifgfggikfeddjidikcjdbfidecfkhdbgcbcjefihhidfeebchbjjbgkgjkbdiggegegkbibgbkfkhdkegejdebfbbkcbdfdegjehhicdghikfhfjcbfjbcfkkhgdjgcfkiiehfhfkbgjbigdfgbigdkcgfjghedjebejfdgceheffdbekkgfkbdbhdgedeikkdkcebfeicbjeeegjcdjdjijdeebdgdhhhggjjebgecjecbghfijfdfchjdgfjebfbjkfccejbghekecfefhcigjjhbfefkbceibjhgebdjkkhdkiggbbbgdbihkkidgdeddjejbdbgdfegihdeckdhjcbjffkifgdchcibbgcbccijdfjjekkgeidihjecjkdkfhiebdgbhchebdbhhcgjccfidefbibfedcjkieidhgdbdikkhbhkefdgkhdfgkeehckbbeghieifihddfkcdjfcicefjfjjbifidchjdkffdiehdeccjjgdcdeheghbeikgghifeegfgjfkehkcgkbffjkdekdhcedhjkfbfdhkhkkcifiicdicdggghigchhecjhccffhfiffcgkhhhffjhejhiegeeicigkfgeeifbfdihedcfjfeejbbgdjgbiibeikcbjcffegebiidfbiifijdgfjkkfheebfckjchhcfikgidfehbijggeehfcdgdjkkbcgehkgjbhgfkhdggjhcfhcbjghdfdgfhgbigfbkhdbeehghfbiffjiihidhejfkehikdjhkcffeedebfhcdehdgckeghgkkbcedccccfjehfejihkbcjbcdihcfkeihecjhhifdgccbffjdcbgbgjkgffkighhbcgghhchhchfjgckjkcgeiekkekdegkjefhhfhehjbcdbgiijcebkcebcfffggjidggjbciffjdckefkffhgjhiefihedkbekjgfgjidecbfcghcgbcebekbifiihkggkkkehdhkkgbejkjcgdbdhcfkhbdkcjffcfgcekgejihdgjciikgdhbfdfdbggibfbjcceiehfgjgcgfckffkbfcgfhcekdecfcdibgcdchhgbjehfkbefckeicfhbjhkbfkdbfdkcibhffcceeifhefkkedccihecjdikfdgffjjcggkbbjgebfbkhidjfkddbcfdedgbibddkhbhffcihhdbdjchdjkjiciiicfefgbgchigbeekhfjekccdkdfdchjgdbhebkifgcfcbhfgjjfchcifidkigifhbkfejcjkbgfgjjdfjgkdkgchgebhcbgekfhjjgkkgcggfhkgeidgfdigiiffdjhgifdfbdefhechidfgjhgkefcjihefheidkbgbkhicgfkjhjkcfeefdikbbfkhkikeghdeijbhfcfbibihcckiebdegjccjgcfgfgfidfgkkffbfigjfgkgbhkehchjdchkbigfjfdcgebkfiehdjdkbgddikcdgihdeiibfifedcjjdkcikfijbcjkdckgjedkjegkkjgfgddgbfbifkggfiibefcjjcifgjfjkfddgbeggbghhhekkbkkidcbfcfhibfcedjfcbbjfbfcgkfdbkcgbdjbiceijfbghdkcgchieibijekjfjebedfhkcjjddbfedihhfekjefjfjfckjfddikbcbgfddfheddegbkcbdjjibchgbdjgeckbfijckchkkbedgjjjkicefcfjjjcieijfkjgdjkkfcghkddifkhfkibjffdkhjehbikfjgjbbjjibdegchkbijgbcdibfdhkjeecdkjgekdeckdehbfdibkdheefjfidckbcfgbcjefbkfhbjcfekikjigggbdkfkcddcdjkccdcjhchjcghbjdghkeikjidhjdebdkkhhjhfeckebhkhehbecdkkdefbgebhicjedihhdfjfckgiccjhhjfddeifiefdiejcbkghhehijdiegkbeijgdkihfcfgbckchcdehdjhekibbiddhidfbhjbedhdhcjcjkeegdeigbjfibkdikhcffihcgdchfjkcedeeijcchgegggcccgkiekbcdkfbcjfkfcfdcffgbbfhkedjcfbifijiihjifefijkggebcihfdfhhhdjigkdgfihbkkdgjiifkfcbebbcgighfeefceegjdfdeekgijccekicjfekkgjefkcghcgffdkdkjdfgiiffbjbgkfdjjeikjkefgccekijjihcikkhhjhebfedghgibbgiddfkedcbcfkhkekbbeddkfgjhbbgbggbiffkkkgiggikcjghkkkifcfjdhgjkfhjcjffdjggjiekedbhghgdedjfkhebefiecchcicbgfkkffjeckidghhhbhekbiceihkbihkcfhfdibdjghjfbbhhkfheifcejkdfkbgjdecggbfcikdjbhgbehhhjkbhjdcekhcbjijdfkfkfdkbgdddibihbdeghgbccbihfdeiidehkihhijbjifekeibiebccckcbkbfcegfdckehceeiiekgeecgcgdkecgfjkkhhgccejbfgebibhddgfhgjegicdkhfeebfiiddideccbcbdbkckgbkehbkfedjbhkkbfkbfghjigfihggchicikgbekgghdgifjkcfhjdgbihiccekjhkhdfhidjkjgjgdfkgggeeicbcfjfjiibhbebjijdiihhjihdbbkfibjgggdfchegfdgfjbigeiffbdkeeiiejfeggegchjbcigjheebkdkjefbhcgihkdegjiicggikgdkfijfcjjbjejhejcidjbhbhekfbgjicbdjhhgkdjcffhjffggckfgjcbjcjjcgjjkhjkdjdhhkfehijddcbigbfhfcfccjdkhffjjdhbggdbjebffbdkdhkcjddihjchkccjfiefkjiekjbdhekgbhddbbbbcjkedckjdjbdffigdgccdbghekdhfdjihhdjjddkchcbbbkikkdkhhegeefjcbgdfgiebfcfceddfbieekkhibhegkfdeijddbjkbeefkkbhcehiceekcfjekedeihfeekigkbkfekbgjgkdhhbjgdigdkhbkhjbbhcjhhecfcgkjfjddjeebkjbkgicefebkbjdkekecfjgbbfbkhbfgjcjcgdkfbhbdcgffjjccijefgkjjhedjhkdifbhhchddbkgkghcfibdbhkbdkfdhicggihhfbjgigieihcfjjgefeddedgckifdcfbhgjgdihfeedjdgefkbgfhichkcgfkkbkkgcfghcbckjgcchgcccbhdcebdbkhiekjjkcdfgdhbgdiifebcdjfjebkdbdjkbfcgjjhbkehcgbjchegejfkgihkgdgdehjhbhcjjfigggbdehdfjcjbcbccckfgdkdgghbdicjkibjkeegkggdkcibhjcfibhcidedkieehghfhcfkbedhhhedchijcfjjciidjbbijedbjkjhbbhehecgjhjfjggbiceekkckiccjibbjfjbdfedcfibbhfcccekjicficdjhkddcfibcgjehihfekeiidfjkjhgbhibgchjbibfdjjbdkeeghcjhddfhdejhhkgibdbdijedidkkbfhjghgccfceggbdddghcigkecjbkiiiiijfdhfcgcdgfhcdigiiedggiebhicgcbikgcbckchhdigfjjbfkikdkejcjkfkgbjifjkiibkbiiecfcekjgbejhekgkbededigkhjdfbecdfhgedefccfjhikhbdfjefkedihdghgcgkkbgchccgkicedebhhdjcdbcekbgbddhibicfbcjjebdkkjhfbjkidekkdhcgddhhgchffeiccbeibfiffbkjbbkekhckhchbgdfehbekhjfhedhfcjefghihjbjjhdbhbjbdgdehegfbefcidgfbjgfjjkkdghcchjeekehebdgcciikbighjdhbfbjjcfbhdfbkjcdfkdjhibgjjibfhcidcdkcbdjbehebefjchbbejigibckddkgjcbkjbcbdbccchggcckbkehhdfibhkcjeedibfbihiihbjbgbgjcichgcfjdjbkcfkchhkkeiehjibeeckfgcfhfcjjcfifbbedhcdefckfgbeifhcjfeciiibeekbjihhedifkcjkfggigghfhjhghfejihhijicbheebbgcikhfihcckehgeecddjfkeehihdjfkeebhfcbjjifcbjhhdiibfkedbfehbbjfdijehkjgfjbcfbjihgkdbdijgjiihhgdjgkhjijigjjbjkcbhikcjbhcdkfhkkbfhjddficbchdffidjcedhdicjfbjefgbeehihkffhbjjfkciiicigfkckkkkhjbcihbckbdeficbdkfkcjfgkkjdbbgfbfkfgbkcjgckkjhbfgdhdifjfidkgjhedhbedkgbbkcikkjfigjiekkdckdckcdgbbjbkfcghijbjbdggkfdjhcieebfihfedcjbjjfdhdfjibbbdcceefhhgfigdbckkdffegifggbddicgdgihggechfhekdiibhjjjbkieifeiekcdedbcbfgegfcdfcfgecghkfbgjijiigjgfieikgkigfjckcdcdjfeejfhhcedgbbjifhjigeddbghgdebgedbkeckgbciccdihidghjdjkjiehicikijchbfkjbfjkeejdfjdhbgifhgfbgkjfgfhjhjcfhebcjjheddihhbfcekdkhdgdchiekiiikjggfifdbbkdifdjgfkccefjiecjgcecgkciidfgebgbikehkcbkebbhkieiejjfhgebjejjffhjddhijgjdkgfbcchkkhicfedcefegdbfdbiichfkghekibbjhdikfkcijffbjjkjhdbiedddedgcgcgddikjbjjkdgefhgjikcfehdhjghbkbkcigdfcgggkcfikkehddjijcffgbejikdheckdjchdjcggeeehjifbhekekecekeihheibgghffghbijhigkhgkfhgcjghddjckidgbdibkbeccgbbfcjgbdekfjjjeegfbcgidicjcjdjdigjjdffjdhbdddijhebhciijheehbibcckfhigbgfijgkbihgbkfekefcifgjjhggdiekigccdjidbfejeecdjfjkidicdcbebkedgcfjbcbcbjgdefgkbkjfghgefjjgdcggckccgdifebedhkjeggkkebgeicedciccbkcegjgbgebjcbbebgghbjbdhhehddheekdgceidihijfkchgkjehbbgbkkikidbcddjbffkfgdedhfhkfbidjhfkkgeijighgjjhgkfbfhddebcjbihfehcdkdffdiidejdkikgehdkjjcgccijfdghjgikgjcedjhebdfbkghjikhjcgddkdhbjefchfdhdfibbhkceffbbjdgigbejgjhckdkdjgkegcdckiefdjjeefcbhedehdfdjdbhghjbfcfkkgjkkicdfkhbbjdfhifffkdbkibfehfdfkgfhbidjcijfihchdcebicbgkbhedjjkefgbgbkefcichfeffidkdbcibeikhhddbgcgbfdchiidgbihdbddbdcddfkikkbigcdjdcecjechgkkfgdbbbbkhfhhhdgkfhkcfhjfdbdhkjccgkcccefidfdeecchicebjjekegidfdbjckieekfifgjhbjjbbdiechkkeckkbiefeehjkidkhjeeikeegcbiijecjddhhccjfkdcjckjgcggeijgfdbhdbbjckfhcgkigiehgjfhjekbigikikcgeifdbgeebjcjegfddkibhgfgjkfbkeffbkfgeefghgdecbedkkbjdghhfgcjcdcbgjbhbggcjbicdkedhkijcjigjhifbgcbbjfekekddbjhhgdijjegdcecfjddggeekchbjehdfdehheedeeicechbcceddchghdghcdgddgjjkgkkcfikkeefbfbchbkhjecgddediggbckibiegfdhjcjekfdkeccfdfceikfekikihekjbbbkhffigichbbgfbeeigigijcjcjdbjgekbejeifkjjjeidbdhgkhehkehchcdegcgbejkddhkjgehgidehkjidbiccibgjedddjjkegjbikfjhbjchihcbbegjegbchhgcbbghddijebfifdjfdcbjdjgekhhehkfdhbkdcjjkjgfbgjdjfedjhfbhjbfhgbkedjfkhcbhikcjbckikjiighbgbecggjcecgdjcfijkjegdeejddfficbfdbbcfkjbdfejgbcbdfjgeebckhbfjjjjejigdghdkffcbibjeiiejcdejgijcfibjikjjikegkfhbceicjgkhdbeidjkfbdfkdfjjbbhjjgejhdkkghijdgdgidfhcieiejkfigfkekkfhfjgdkhkgcbdbgcbgickhbhhgbgbfdchefecfchikhfffedggbdgfdebehgkdejgcibigcdhjkcdfgbkjfhgcfjfhdbegjjeeibidgbkgkfibjbkhdgfhbcjcikjjekjidddehijkkddjgejhigjcjgdjbhddghgfbdgbkgfdcfkgcdbhfchghdfdcbdjdffgjigceekjkdfjdfhhcbijfkfchghcifdjjfbhddbebejiiggkjkihhbidiijegbfecfkckeihebcdkbjbegcifjhieijeecbfcfhefjiggefhjcjdecfbckgjfdjjgbbfijceebgieikhdjbbdbfhefbkjdkgfkjkecfgjcckbckgeeifecchjbgbcckiddkegekefgbjkbgheeehchhhhchbbbkedickhihgkdjhiigjfieiddgjfeccgfjedbcejbcffgchhjigbfhhkdfjbkgbgbddibkfijdfbdbhifcijhdgkjbeigkdkhhggbdcckdjjcebbghdgkcfehcbfehfhhcheibjhfckjefbgjfeegfkkfgbbfjjkjgjbgficdgebdfjiijfifkjekkfdcgkefgghgjgbifcifkbigjifjikciieghbgcddghedkchcdcfbchcbfchbjdkcbjdfccicdgggjeddedfijdceccjhkhbhgciekgddbifgdhdbbidkgeifkijfcjgjeejhggkgdiedbikjbfidffehhjhdeccficdigkdiejgiegiechcdfcbhdfidddiffjdfehbigejfdfdcggfebdecbibbffbkcdcfbgejjcikdejbhbcfgideedfegifcffihcckjbeigbebfjbjefbccjiiebejceehjkjhkbbhjebihebdcbkcffigchiiebhbgebhkejhjgkeikfjhgceeigfhbdjgeikdjhfjjcehejkicddhidbfidffbdhjieigcghbkdikbbffkddigbegddjiiegikgejhejhjfcegbcdcfibjbjekigiibghhkecbikhhdccchbkecddebigcjhgfifgicijiicgefjefbifddjfbbkbdhfejcechccbicdjhdjehbhikjibbjbgehkedjcfeigbeiceekjefkjgbkffegjfeckdkeidfgedhhdcdkcfcjfchgbbdikhhkbkccfhidffccdkhhhidcebdgifegjegbgkjddeheecdkfdhkfidbjeecjbffgiikgchgjjjebjjkedcgedkdihdjcgdgebhhkcciifjjdbkbkheiibkekgfkejfkjecjcdckkkbfkifgjckjjegghegcicciekkgifbhjekgjchkhfhigbbeehjgheffkiedcffjibifgkfeffhjidjcdgdekiddccfjgeibbkejjjibcbcddhjebekehfefedddjgfeffcefkeiikbchkidbejccjichgicbjjeijfhikbiehkkgihggkbehebgcbgdkkcibjekiidjjhfcdbecgiiccfcbkegfibhbfkdfdcfbdjbjdbgiggikffcikebjdeibgdjcgifbhkiekceiigkgfffbegickecbhbkebjjdfddgjdgfgejgjkcdhcdkjhehfehjkhggechhihdidibekbkgejihdcjbchcgjbdjkefjhbgbjbgebhjgeibibhgfhkhcifebbdckgdkcfddibdeffefhebbcejedhdgehiffchjhdhfjjbdjekhkdiidkchhgjebgicbcgecickfijfjkdhibegcfkeeefbjchggiifbibfjbbgehcfecijkebdkbbeefeeikekkdjkjbefjekiicgjffhgebdcbkebfbjjkgkkdcfijjhijghckfcgdfjhcedeffieefkhhghedekiiebieeebbjbkckjehfhbkieiibcdhdcchhbckkbkihjdfdghikcgcieceeicffeghdkikehhgebibfifcickgjfchjikhjeeifchgdccebdfghkbehkebhggfejggekkgjghjbhibfckidgfefcjdeffjidffjfbjfdccfkibchhggejcdhkhghidbfjfdbbchciieedbbkjeddeifegijheghdjhdkeicijgdkdijcfjjekegfkgijfidjdddekkijgfhichbecgkdegibbebihbjkhgccckgdeeffkjfgkdfbdhkdgkddccfejdbfheehbbgcjkhdkhdfifhbijdgbbjbkhihcdgihdcgeicdkbbdbkkgekbekhcgckfcfbkbdidjigkfgkbkhbebkfkkhhhgiejiegifffdkbffidddcgfcegckdfcbhkckjhcdbekdkdeiikfejbbdghcdikdjcfkjhgdfkkfgifjkgkfkggejbbgbhfgkghkgjdjkigeigcigijikbfkicdfkekehkjggdjbgcbbkbddfdefkbgfjkgckdibbcejidbbecdhjdjfcdchiehjbeheghfgiefefckhdkegddjkkggkgkegcedcjcihhijejhcfjefficbjejbbcdcjieccibjejjfkkfhkkcgfkbdbdbbiibchdkifggjjfbdbehjkgbhcdcekeeedbdedjfhdgigbcghjdhceeheiicfdghbkejieidhdijdeiidkickcjiehchjcijbdcdgeddkkbiefgjbkjbeibckhhdjgdkgcefkhcdjejiidcihjjhkdjdfjhicekkjidbchdkhjjihkijjhcikeijhgjiccfidihcbhjighbekckkddgfebhighbcfdgfjjebhfkecdkjgjkcdcfgihedkhjhiiehgjhiikhefijbcigkjjkcjbefhikjbbhjgbgiikkkkicfbbicfebhihbjjghcfdijefbdedcfjjkghfgdhicicffiigkcfedjcgcbccegekdhjhfckehdgcehibdcfbbeiebddijiidghdjgdfkbbdkdicbfckigfgigbjjbhgbiccfeekigehekfhjebibdeeghdkkfbkjjgiegbdheigdjfjegbgfjgbdhgecgkikhkjgccefhedhjihdgdcgeihggkjehjigbhhdkbhicdbjbhheeccbggkbicekbeigidjbhgfibikgidbhdjgbkcccfjkhicedekfkbebhijdjbkedggcfggcchcicihhbkkihjejghghgfcifjffeigkigiifiefddbekkgecbgkebcgkgjbibghiiibkhfehccdhkchhekcfcghgjeifjjehdecikkdfgjjchhdgjcbjgjidfcfjghidbjcbbiihiibeiikbifedkibjddcechghjekhcjidkhfigedgkifgfebbhfgfdichfhhkgfdekibdhcgjekjkgbhbikefkkhkhhjgdheecekfeegbibiikkjddgfejdbdcibcfjddhcijjffigfbfjekjfeeihbjebcijbeggieddijdedkjeedebkifbejchefedcdhcjdceggdbgcbgbjighbjkjcedbdcfiikjbffhjgiccjjejihgidkbbgheggjdfgdbhhgghijejdfbjhikhgdkciicedkicjkcfkkiggbbedckchjhgddjjffcbijbfdidccbjcibjkhjcjciikkecfeehddjbieidbbddcddicgbchckdcegedhbdbbccgikbkefgdbeefbffdijcegjcggjihgkfgcdjjgedeggdcbjgieegijbfkcdcijhekehgfebdhhfhchigjbgekfkijchbedkbdjfeeccgdddfeebbkbcihdikgheihbdcjhjkijbebebcgkikhfhjjbhibgccjgijiijbjcbidhfgddfggjjfdihdhkfhghhfhjejhjjigkjebdcjidfgibefggecfbiddfkghcdeekdgjkjciekhfcjikegjejidebhicighhcgkideccckibbjhjfgfiibhfgbjggebgggfkkecbkhcjjjijidfkiijefgbbiijbgdgghkkeihkfcdffeckkjffcjcgdgdjibjjckcefdbgjgfikbcbiejejhfdfkbcbcfcfhiciecbbbehhhkfbfjkhdiefghdifhdjkdhjjfjhgbdfhgeeeicfdibieikbfbefkjfbfhefebijcgjiccdbidbkfbddefihcgjjhdhdfdhibigheibcdkkdjdekfhjjjhiiceejjbdiigbifhchkbjjhihihkbfifcjdhggdgdhichhgjhkbgbkfhfehckfkcebighhjfeekgjjegibkifjiffdddgbcddfhcgeggckgiecegcegffigckfhbfjfbcdkidhhdjjedbeebkhbfefgicfbchfidgdkgbjekgffffbkibcfhhhkbcgjekcjdhijjefkehhedhhhdhidjgdicffeceekhdgkkhhihdjffdgifjefiicgciddedbdckiehgbfcbdgdhjifhdjekjhhbdedcibcfhfjhgdfkcddbkjegfggdihkckcjjgcccihfjeeibdfiehfchffbjjdchegegfbkidghkhdkdjhckkfdcbfdbcbeidgkceiehkedbkgbbgkhbcfkjchhighjejfkhgfjffdbbgjijbgcgkdgdeidbfgddhjhieddhhhfgdhhbbibiefegfhkdgjjiikcjbfgekigieejijffjijejdgjkjfbikchhhfjcgchiedgiebgiekijcchbbdgbegjeebifbdhegehijkjkkifkefgjgfjccfijbffgbekkbfbjffececkgfkhfgccbgddkgbiejffjiehdbkffcgedkcdbejhjkkebbbgbedjbhkbfjjfehdeccfdfkbibhhdhiecbikjejkfhbhijkfbfcckbchekhhjjkcdjcceecfekfeciejffkjiigkcicdikkiichgdhjjgbfjhkgccegjjhecfkhejgikchkhigbefjfhggdgkjeiheeebceifcgbcggiehhddkhkikjjgkjgfebdkikkhfciebicichfehjbdgcdjdeiekedjejehjhikbggifdbibeegjeecekkfgchbbkdjbedbiiikdbccgbcekehgicjhcebhhcjgkdbffggccebijccgggiekbecfbgbcdcddehgdhggbhgbkcbbkhikhhjfijjhckebdgchfhbchjbdcihfebeejjbcdkchdiigeffijickghkjeggfdejgiddkghgjificdbkcgeeebbkkhkbfifcgjhehfifgbdcgccfegijgjjjcggffghkebeekbbcchejgigeieccieibfkjgdehjiiejgkfkeccgchfkbiihcgjdjigfikieekgeibdccghjkcfjbfdehigjifjfbejkhdhhjbgcfgihkdgbedkheddchkkiigjkdhjedjecebcekkbbiedejgbfigegbeigbghdkkjcjdkbkhcibgdcegiggikibbjebeihhkddfccgehddhejgjfhiggcfkbbibbdgcihkjidjjggedgifdiebibeibfkbddihfcchcfjjdkhdbcijcdkjbihgehdeeehhfkfhkekgfbbbbefgbebchbkgeefehhffkhfdbkjjkfkghghbggehedhjbefkkbigjcjkeccjkifccdjkkifgihdiifjecdkhhcebjejkgbeeiggdhjdkeghfhickhhdffefegdjkhdfidbeejhcihbehkcebhedbfhfehebcdcbfebgbcbkbbbibbggjhjddkefgbehgikkfebbekdgjceeggikkehhjgjgjbfjhddgkgdbjekehbhjfefgfkdhbgjgkghccckifkhibcejkjbjbhhdbkihbcgkkfegbhhidijcihjdiecgjbdbhkhciffdfgiibjgbjhghkhbjhichgigjkejcdbecfdbjigekgkgbggfdgjkieiddjkffkgfeidfkfjdebdkbcgckdefckjiggbejfefdjjjbfkihddihdkifjckbgcigdjjdjdcijbbjdkjhgcfkebikheffkedbibhddggehegcbheifchbigegifdjebfffeebggkjejfidbdbjjchkbefkgcikjjckbfccdfhbdifcbjjcgekcjfkkghcgbfgfekbckcgbjhjihfgeejfciikfhcciebijkekfgdkijbgickjhckgedicdkdcfbkjeeckjhcfhdhkbhbcfeijcekhihgkhgfhbjbjhcikkjjddjcihhckbkhdgdhdeiidefidccdfdbkdebefigfgifhkgfjckifkgcgbehhjfjfkhekegdbgihfcchgfjfbbhicggkcbbdfejkcfcijbdbfdehehfdiedikfijdgkhkkbejjbbigikjbicjhchgcfegffhhfgfgecbkjjdfhbjhibkhbiecbbbfiibdgbceidfkjbfgcedfdcgkjhgkdfjigdcdgfehbjggfbcgfjikjbjgfhbjhdkkffbjcbbjgiciidjkjcicdigfkebdkfhefhjighkdibkhjkjfikcgbbcfbjcgfhbjghkbdchhjgbdfijgbbfcegdbgfcicekhbgikbefgghjkbjbdfgcjbgchgieghbbjdcfijjjfehjgcifbefccddccekhhkcccieehgffiefidfhdbgjbhgijkiiehjbhifkibgjkicbdfkbeigbdbfehdbgjbgbjiidjbfdbfibjkhbkfkhkkgbibhhfjcihhebfccihkjiibffhigecdcccikifchcjjbcbgbggijfeccejcjbkeikehggkdkdjkgbdcjejbichckbiedicdgebghbdcfcbcgdjdkchjiddhbggbfgddgciddejjkhgjbdhdebibgfjhkkeikjfbjkjfhckjcijfjckjbfckkfehdejfgbkiehdijhkdkcbeikkhhjbcifhhbbjjbifjgkcgbjdjkfiecfjkgicjekdbfbfckggfeefkiigdickiddgjhhbhjekhkgfjcecdgificckhkfcgiichekgcgbbbiecihjdfjdbjjcbhjbjbfhegkhgghebdkjbjdbfggdkkfbifjebegjifjckdfeiiedjegkbjcbcddcikekbeigbefdgifcgkfcjcegjkddjehbcijekhkieejbhcibidgfdejgbdcfikibhhfidgjegjfcikghdijjehcebjcbebgedfekhcddebcibhhedffgeckhbgibkfjjfidkijcgjeiiieigbgkkbkhehgedhkghdikbcfkkgjeeedghjkgbkbjjdhihhjciciidhhckifjdikeiekhhbjhegjhjhgdijdfhdekjifjikgcifehihcgcdhkbcjdfcghebbjdhkgkddijcghgkkgefcfkegcifkkbibkbgkkbfijcbdijheihihibecjfejjkfechhhehbdcjhbkgigcjcbfjcdbbcgibihikdcffccfchfgjbbffhjjckickjhhkhkcfibjbdikegidfcjgccjibihhkhhckihkbhjdecfhckejfjegkedkbkgbhgekedidiiccjibcgikgjihigiccefgcddibfbkghhdbchkcfecjejjbkhehjikekcddeighecebjfbikjcjcggkfdijkkfiefgejjecibiekeekcdbjdjhkhihhjbhdecjghbgkgkijbgkjbijffeddfbkfibeidfhbhdejgjghckegighchbdfjkbgdciibgjbfgfkcebfkfhgcfjddeggcfcjfgcbeebdkdefkfjdhchbbkdkdbchddkckjegdeidjbgckjeihibjfbdebgfcjdckikjihgjhchjdhgdgjbkbhfhkhchddgfhjbiebgfikjghkfkedbfgicecfbifdkhgcjfbekjdjjggbcddjhcfceffhfdbjhkbbfgfkehbkdcdkfkiicbhdficcdggdhbdeihgfjjkkegdfhckhibkiekibiieicbckdkijbbhgigidhehgebfgcbgijfdfegkgcjkhijibdgihdecekdedfbbbcbejdkjfkbbjhhjjdkjehdighejjkegjfkkkiciddbfjekebeicddbjiffecjgddjhkefigijbkdbjkijcdkkddcbbggfdibicefhdgiedjhbhdccidcfkiibhbfiifbfgfbcggejcidhgffijcdgcfidhcffddjbbkdgjcbbjebkcdchjfieeffiifegfjgffbigfgdbjcibjjkedjdhddfegcicdebcfhgbfcjfkkegebkbkcdkbhkfieddidfikdkbbghciddkihfdbccbkbdifdbfciicfejebdjjcfcdeceicekdhfjggegchjhidgegedhdghhjfddkibhikkchgddikbegbfccgekejdgchgdckbcediehjbbigifggigefcejeggifbcejjikkchdjjeggbjedegbjhjbefcghggcibedjgdfjkdgijhgcbekbhdgkbjeheddhbgcejjfcebbbjkcgfbecdfdegjibgdihdkhhjjjckikccbcffgdgejijgdfjiiheiidfbiijhcgfheedikbecfhkbfjcfdbddkeffddfdfkdcikjdhbikfdhfbidgbkhcfkbggcikdbdfjjcbigifikchjikdddbekbcjbikigjebehjgikjhfjjigekjijghbfdfggccbbkckbhgdkdkckikddjhcieecbihbebeebkegcigcigbbidhijdhkekkhjbeehbjgggfdhhigdckgihkbchcebdieicjehecheiibehkdibgiffjjgdfdjhejedjkebejibbkkkciciefjhdkddkkecjkkkcjdkegbjjkkkhikbkkjfchkjeidejebffhkgdbijdfjdfdhfiihffehecgfdhcjbfbikbijkkceehcjdghjfecgdfdbiciigffbjkjddkdijekdcjchbifihdeidchdhhdcfidibebgijkihdjcjhdcdibdfgddejhdidjhgdikbdjkdiidceeceedijicbfjbdddfijbgcifhhikhdckdbeccgdbbedfcecigkjcjddkebjdjdeccfgdeeidhfjhccffiddckekdfjhiehibgdebkehhikcckjfhgegckedjbiceejdjdhjgigihcjigeigebcdejcbddihhhekhhcifhigbjkjfghhddbgifedjfdeegkkdegfjgekbjkhfcdcfifjcfdecccdkkhkcbbfibdhjjdhkhdhffidjgfgdfhiejhghjddjggifckbkdjdikhdcfbgdejidbkjkhdiejbjbeijibhfdbbkgkfejfddecdkhihfffejhikjheffcbkchhbkhbbkjfcbidkbefjcfdfejffhjeckgkccjbcfhbekbikbjfbigbhfhfbejikdffkdiecdddgekbfkdjjfhdhdkcidibjbedebhjbfibcdhihckhjibddjkffefidhhehgifjebdhhkkecbjekkbjhjdifjhebbebghdfedcceekbbbebfdickkjjggghjcgfebjedcchghkhkejicfijciikecdghckjbgejbbhbbkecjbdjdghibkjjgdkbbbhbcffddggihhedfkfdikkcegcgbjhkfgddgjgbjifkhbkikkgghjfkikdhekjbgfhgjfghbjbiibfjibkigbhbcjccffcgcheiiiijdgkgekfhifkdhjkgbjbeebkiekgcejcbfbhjidibdcbcgkcekejehejcijjcihjgfejejgffdkcedkdgkehkfggiijekkhjeiidgcddfbihikhbehdediidgfbicehjkifjikgbjebcbgekikikggkggecjekbhcjegecjkggfeddfibhjdcbekjcjbbhkdggdghcbjdbgehbchbfhdbidbedccgdigkfbkkdjheiekfdcjfdjkjdfjejijbfgjgkckifbfhghiegkhckjihcddecbeffjbjfbccggjbdbjdkbdkjdjdfhdgiihfcjihbgcbkgcghkcdhckfdkgfifdfgjbchjjegghgkdjkedcfjkfijfbgfibbbefkkiieheehichfijgiggdcibfikjjheddehbckjhechehcijfkfjekjgcddeebfkhicfhhikdfbbdfcfiificehkdjcckbjkfgikhbghbibcfideecchbkkejjbidbedkcgggfhbfcijffchehhbccijbecjdkieekeigjifkggjfkkihebgjfifjedfedbgbigchkbfcibidibccgdeijdddifhiekgefcjbjhgfjcejjidgcdffjjddkbdffgfbiceekfckkjdgjfjkbiigjbigkkkchkbcceggjeikhkdibhfjgjchbhbjkhjcibdbfefedihkecickeghhicfikjfkiedeecckecbjifidigdcghbdjhkefjijdjgieiejkggddcigijbdjgeijgbgihekkkciiigkchfigfihdkfjhedgdgkeiijekhihbkickddkjbghgeecbbjkhbgibeeddgbhejjbjbfjgecfbgfhcdcejcjgfbkedkhibjkikcgidedibiecdgfjjkieddfkcgjjgdkfcfcdjbhhdfgkikgbjebeikfbgchcfkcjjegegdekcffjhgefkkbbgjjgeffecejjcfjhgghgkkbbkbgdjfhfffidiegfbededjbekfgdkejicdfkhbjdfkfbdbcfejdbhedfkighkcegddecehkificjfjkdijhfhgkehkhikgjdecegbfjkjbdjbbgdgkbjhgchjcjgfkhbkfjkfcekkbhchbchgeceeebgccckhgehkjjijgbdbfdcbdhbfgdijkhdcbjcdgdbgbffcffghbgfgjkbdkjdjgheddhdejjefkfcicgihdfibjfkcefigebjehdcckfijgbehhehdcecjekieeehbehbjieghfhfdijifekfbhgkjfbgekcfkhhiikhgfghieejcgdjdkfchiddikbhffjkkkgidigdghichgbkhhebdjfgdbhhjigdjceehihhfjibcdgbbhhfhggeikgbgkgkekdkgdfijiedgehjecdbgeecdiibiicgkjhddkhjggkkgbbdgkgfidcecgjgdhckdbecefdhjibjijifbfkfgdbfifdbjhddhefjdjbhkcfieiibjgihedjgghdifekgikjkffbhfdjkhhkkbjdjbgbccbidgcjibdkidfhicikkgfdkiiehfbggkjkbbhhcgijgkdkcfbeifeidjceghcceeckjhbdfkhfcgjefekghhhjgbgkebbbeiehgekeccdgbijjfbgedjhjjghdhiidccfkjehffgieiigegfcgddehdfbgcjigkkicfciicjdedijfhbjjddhbceecekkgikchcbgjihbbjcjidgfihjkhghgfgccgegjifjcbkbjbdhkigeefghcdfhckggeichdbghjfehdjigchdkgcjdbhekhddekhdkeddkbkkcfgkickfcfgccdkbbfbhbfhfgkekefheigeeikkfiejdhibjegffhkedfdjkeibbkifdcifbhfkeeehkjkbifeegdcjgfifkfkbgiebfifeifjdjkkkfihhkcficebbgddkeehejfhhkkkhikjhfeedgdiibdegiifhhgekgjhkceehbhjbihkdcgifiggcighhfebecdcbdheekghhfbdeihjgcjhedjhkcffkjekhjfehhgjhkibcbeichicjfjhiffddkhjijehdfhjjdgjiikejbhchjecigeggcjbdbddedggfgkedjfkghigcdefjihgdjhfegffjfkghikfkhfdbgdkcfkfgcfjbcgcifkehhhdfcfbehbbbdghdfdddbibgejicgkcbgjbfdfbbkckjhfieffiihdcgjckejkgfkjfccfbfdkkcdiffdckjkcgjcbfdhckbbjdifjcebeggcdhiieedcfgecddjcbchfjkbeghifbhdkjbbdfjdjebfbfdhedcbdfddcejghebgdifghejhbfeidhgjkbbgkedbgdbbdcdedkdejdkiiddijbdbfhgdjikhehhkefkkfeiikedcegekbgkgicdbbecdgkfehdjbkgfihjdeiebckbkkbkgfkjdggfjgdghgekihhcbibbbegebfidbjihjhbifecgfbckfheiffdidjfcghkfieeebjhgfegbfbjekbfeikechjjcdjekdfekhkkbijijdjffehckkihbdjdjcdjjfgikkjchiijjcdiccbhfgedfejfceeckjgbdbdfdcecibejjkchfbickhigjkddiicdhfgfhdjeeebebeffbkehgjgdgkggicebcgejbghgikhbhhccchfcjjkgcigbhbecbfhhjfgidckgjdhfffkbifedjbbhfikcikfcdjgidggdfcjfhdddekdecgjgiecfkekkffegjffdffcjhcjejeiebfbbbfchhhkfgciekdcfjibhgceedcfbhijhjfkfbkfbhiefkebjbebgcdbicdkcgbkhhekbdcekbdejbccfgbeddiegididfjicifkhififdgdffkehhjckebekefdfkbdfekiikfbjkkedjgkkbjeikjkikdhfibhikjiddfkhdbckfjggdfhhkikfddfkfkfkfhgehejcfihbdjgkibckkhfhhfiejdejbddhbhcbiebhhejhedjjfkfieckdbejgcfchhefhddfdhfcihbekifgkdjccjjdhcjbbbeiihhdfgggbekifcdgkgibhkihejbekjhhhijgkebjbkfeccekdhjgehfkibjbkideccefefihdbhkjcbgbhbhecgekfjcebhfbcccffikhjccggjkbkdjcbhkgiiecihjekccgeekchejhhcdjggebigifjbbkdiddgijkkkegeigicjkkjhefhiiidicfcbjjceghebjdibjeehibfggfjgjeghbdbdhhedcbbeeiibcbgcijegjcibfcjfgkjcbdhbhkcifbceccecfbbedcedbgkcfcekjjfkfeefdcjbefhjcjkidjeihhhfijfdjjjgbdkikfhhgedkdbgbceidbdbdgckhffghgheeehhjigkgfjgiieffkdhjddkgjddcidjibihkijfciibhhhjjhkfbfegeiifhhkebgdgheikjghkbiedeedikekefgdjcggijhgkebheekccdcjejgcbhbgiiighikhjcegegcbcikkjfkckdfgdfdhjdfkbefedjkgbeieibkjiickjcckgeikkhcbcbebfhgjcjkkfdjbcedjibieibfjbdifickgghkchehjdfjfkdihekigkbibhcfjbgiicfefkfcfjijggchkhdfdkcebihiiedkbkidfcfjckcbcdkekikjhgjecbcgbhghhbkhecfebjhhhbjkjjjdeehfedgeegihikjekeigdcgbjfgkcjejigdchjecgcejjdebgjckjibgeghfekifkcgfehjjgjkbbgfhigebfkicfkbhckbbdcebidfdicbidckebgjfgeihcbdgjiidbkkkbhfiecijjjbejhkehhfbdcgkjeibhgkjbheebgbdeihhcjcdkcjekieggjbfcifckkehkghhkbeikfkicdgjgdckkhjihhfeiccdcidkjfifhbjehbghfbjkdhjfhibhgccdfgchhdfkehcikhkbdkdbjigfcjggehfdcjkcegcfghkfjdfghebkkbjbdggkedcjhjgjkcfikfgkjkkccjbjikgkfgghbjhgdcfkkhefddbkfdfdcghdcgiejffdecbgbdjchgbdchdhihiihgjbegcbjjfhdeeedjbckddfefkijfegedbfjfhgckfddiekghhkjhgckgigfcegigjgeghbfhfghhjdibfgedcfgghdkfjjhkejkdejeefjedbjiddhggjcgfhfhbbcheifhhcijekhgjkjeidkbjcicfefccidjfchicgcgbdfdhehigfccijbciecfikfdggfddhcijkgbhbifefibebigcckkbcghjeikfdegefcdfbgbfgheeihighkdbhfcbjdjchickdgjegghedebejbbkdiibgjebjgbcjgcidbjfbehdjhccffdihcckhgchffjjdfecicicdiieejddfehefdfiecjifbfbefgeidbfjegjkjefbbjihhijccgffebikdkhkbfjcfiegjihikhejdhigehgkfbgjkgidhgjedfhdkbehcckefdcjebeecbehebgebkgigfefbgfcfkekfkbckkddfbkhbfjghdhfjbjdeifcjhbbdbjgjbecjgkffjdcgidjgiibijjfgkbcjcjdfidgdkbgekjhhdhcjijjhkgigekjejkeekdiiggfjbgdcbidkfkheecgebjbbiifhkjdcdfhbeekgbhgegedbjebdkbkgigeihjbdjebdebcjekbhhhkhdhcdgkffchigcejgdfjecfedekdfcegiggekfkhfigdeddbdikfccjikgijkhijfdjfedgccbbfgkbihkidihfjhieekbijgkhfdiccbhcigggdjbjkhkdeibkkebjckechbdfbkfkiekcdfjgcifcidhkidjeikgkdgccffedhckgkhjjfkckibkkcbdbcdiddfkbccibeehghjgkikejdhjhchbfchiefjfkddigkdfdiggefcfkdfjhddgikihjbjefhbkfjfbkcfbceidcddfcdcbbhikkbgiiechjjgiikjbicjjggfkciecjjjibgefcijigbdbfjjdjfgihigkjdcibbgddbhjgbbbefjhibicfkiiebbfhdhebefbddbeicckhiifkkdebjbbddckhkjkbbgdfdihegijgigbcbchjdgcdbejibbikjhgfkegehjkdkhbjhfkeiddfggechfihbfeedhcegbihiegjbdbecdegcgjfcjhehdegefijhdehibgkffghcbfkccjfccbffcecjebicdgekjjfhehihicdfbbjecekjbicbiedbfkeffjfjegjjbcjkdiihfcfjdgckebkkkhfjbdjeefdgecfbikifjjiihjgkhddiffdghjibdffhecddccdkefhggjjjbeieiikdggbikbcecfjecefjdeejdedibcdjjcgbcfhhchfhfgdikifhecbiifeeicegefjhbiidiccfgfidkjjbdcgbkjkbhcfkigffckdhjfjehbebkcbbfbjfgkfcgbkbccigggdfgibkickecdgjbchbbigfjebhihfgccdbihfgdecfedihjfkdhdiceegfbkjgjdhicjfhfghbigbejhgijbkkebhgkkcdjeckhcjdcgjjcbcicbjbihgcjcjhghehcibdhkjfddkcekgihdgjhbicefghijjehkcbdgejkbjkiiekhhgkcghjkkbcfhcjidffickbcjbjdjcecbkbdkebjjjbgbgjhbbhkbiikkdgbeggbffdjifdfcdgddkkdjfdgfjjggbkgcecjjhkikbkcdbhjkggeiehjbfeieffeggjjbhigeekbhfbgeecchkjceeifkbhibgcjchdhjdhjicfcfjejieiggjdbkiefbhjbbkhkkibjbhjckhdfkiicbddhjehgkbcehefebiihcijbibbdgebccghcfehhdbdgdjbdihjcdjhkefbhigidcjbggijikicfbkdehdebegjdfedhbjeihiihihijbhkcefjfegejehigefefgjfcfjffgckfhighhfgkbcfhikkdkjcibbhcbfiegijfijehhhjecikkjfjhifdikjibfkckghbdjehdkjgkhejedhbbdhegcgbihkjfefefhbikkecjbfchcejjekgdcbbbfhbcdebfdkhheggdfgdehfcfgeecbjggfhfjcegccfkkfcjjihhkhhediidbfdhjcfcddegidgfieccjjfhghhdjehjidiiffehcihjhbdjhebcbjcikegekgkihdhhkikigbdfkhjchcdkdedkdihfkkcgihhhkbeeihcciddcjicijcidbedeighdgfhekegigcdigbifggkjjbbcgcfkbbhgigfdjfcgfibcjfbcihkibbdgijjheejcdbcdkfkhefhfehceehchhifcchedebfjdfgigdebcjihddfckgeccdjiffgkkbbhfdbjhbggdcfgjkccbkjekbkdiibgeikkifjkehhfjdkfgikiegdfhkfgfkidhjcgihigchgjjdfjkbfhjecihcbdbgejbjfghhjkfcbfcfjckhhbfcdcdebkkkgfejfejkbgdicjcdhdddgcdkbdchfdfddgjjkfffcbecdedjgbkdikhcjkjkggcdcbcgghiejgkfhfhfbhccghihejikcehkhgdgkgdhgddcjikddjdjgbiibgiibbijejighjejjhccgbiddbihejgbhggefcjefdkcheekheebehcfhdfgeghbjbefccifjbgfjfkfgkgbkijhjikdgkcfjhhigebgebbgegjfkfgcebdghbehcchhhchcedehdfhbdhikbkiceffbgbjbgjjdbkijjeghegdccbfgcgcbccjigjheihcgdhgdchkhgbjcebfibhkjeckkfhdhfcbijeihijefihejigjcgjbfgbkkkjjjjgeghciggdcjgdhcbkbjfkkbbgdhheddffikghjcfjfkjfjegfkcidicikcejhihifjfhhhgebdjdkbgcckdkfchghkhdfbjfgjhfdibcfihgidgkghbdjgejfjdebgihjdeedjbkidifgbebcjjefgcihfeehehigbijcejcbkbkcceikfghkdffdehjdbckidddhbkkccgcddhkjddbgcdhfcdccedddeijgjgbhdgkkdbicbjdigcdfjbcbfcfifbjiikifdfcidhckjeedckfdhhcbbeebecdgegbfgfjfhggiiedhbciidcjjjihhedcfehhfcbdbgdjdefbiddcekcihghhcfbgcdjfeikkhcdkbbhikjjdbhkejkdghfchbcebcejcgeecfikhijibhdekhieeibjfjhdiighheeggifkekkhgfbbhjjbiihiibhijiiddkichfekdicibjjgjffbdchgfkibgbcebjfekdieibiiibbfbgiidehfhhbiccjehejjjjbcjbjkckhedbdhkgjddhbkcgfdfedjggeeikggjickcjdfhcfdgjbjhejbbifcdigfcddcficbhjfbcecebkkfcbdejceehkgkccgdfdjhfkcjdjcbhbdbkhkdgeggbkkieghkhbdbibeejcjikkigiehdibbeebbkegdegjkgdjbhbcbgcgihebbjbbbiicicjdkgeeikibideiijggcibcbfcjikcjcbijjeigibdjegbdgggdbchkgejbdcejjkdgdghfifhiedcjdeeeebgekdgekbkcijfddbjfigcjbbgdcbfikfibgbcgcggjcbgbfedhecijibgddhhggcgdddjfbebedcjjeihhgdcdjiicikhhehccbekccchdgeckkhfkgfeiihfijdbfbgdkcjhijbikikejgbhijicdkibcfgjkhjfhjgdbdhdeddigdghgccjgickehgkbgdhfkgidkfhgfidffgcjkggcehifedjheebbkcjdcbijdhdhbiccicccidhjbhickdkdhffjhjgbeggicbddhgkiebdheckkdfggkfkfikeicecffjhekdhkbgbfbdjdiccbkibkehghjddfkbegjchgjcfhgjhhfkhdihidkbcedcjgkbigicicbigdbkidgffjiffebijfjecbgbbkikfbhjjggfdeikjebfkgbchfehgihfecffbikckkjkkgdekihdjjbchjhhjdhdkbkdckbfcebdjjhkjkdhfckjgceghhficcfhedgbckfkehjfhicffeifddeghjhhggehhkfebgjkbijfhfdkebdgigieegejbhgcjdkfcfdhhigdkhkjeckbdhjgdhkijbkdfbjcefgcibbcgjjbheejbbcciefhjcfgiidhgdcbkikbcdbfdhfkedjckcedkdejkechfibdfjedhiibbieibeigkckedjffhcdfebjegefhkkbgihfciibheejkckhccccebebgedbcjddgcjffccfihekhidfeckbbfbjgicbcjebjcjfeegiijdedbbdigchhdjecgedeebghgbgdgjkcjgigkgfceiebfhfhgdhhhffhbfjffgejkhibhdjdifbgdjihefjckdhcdcbhhhbfjjdgfdfgcehcgjckjfhjbcidhgkckekgkhbifkefdiibfdfgfibcckdhddkhjdgkijjjedijcejdhecfiefjckhbjfidkjhfkkejeddjjegekhdjgcdjkjdgehcigjhbbfibebigekjifcdkbbdjjckhjhgcdekfgijkkhjghkdjfkkfkfehihbjcgjhgkjgijhbjikfeefggieibddhfckfeiffhffjhedkijbfiedibjejhkgjgbejjckfbiccjdiffgejigbidcfdeekgeedehchchcgjifkkkkihddfiiegkdddkfghkehbejfjfhkdgihdbcekhcbieekckkeeckfikigjbechckhkkkhcdhgkhbgcdigbcffkdkijjfkkjkbfbdhgjhhediiieijcbhdbdbhgchgiedkieekkffgjchdijdehhcchgbckcdfcjekchieegcifbjkidcicibkgdhjcehghkibegjdbiiehdegikiegeifbkififcjdkhgdccihhjgfbjeefbdbbbhjjfjjkhdebkbggjfhijkeidjjfdeihicfkfigkckdgefccbkdibjbkbkehebeijbibfbfkiickdfhkbbhjeifkkecdghbcekgfhihjjikcficcdjgbefhddhkejbgibkjjciekcdbhgfkhiikedbbffkbhdkdfjfkbgficfddikbkhjfhcgecekfbbgjcdiidjkfbeiiihhfkcjgdhjjjbcifccefikghghbgkfcbkjedfdeckhejdbjbfjjedhjfbhifgfkfekbjbhfkiciccficddjiddhkfhdciecgchkkdbehbgdcjfcfhhikikieddbkdjjgecchiebifcedkekjihecebghkghifbkggbibfidfgfjdjjcfdiehiikejefghjgfjjhjbdehhiihbjdfbbicechcgdjkefccbkjijicbjffejcfgidbkhefkchdkfieccifkghejeedkijibfhecefebgckekgkcfjbhedkcjkjhhgifcddejdgfedbccecddhcbdfbdgebjfciiekhegjhibjbfidhdhikhfekeiekeckjggfiehiffkhgfhkhhebbcgfhhhcdhiikckbigdekggkjkikbdcjehefhfkfhccbbeedghhfkdgdfkkgbkfhfifecceegkcebbkdiicchccchjjckjkjhhigbkkkfcejjfefgedbhgchdgbkebjjbjkhhebjjdjdceibkeicgbdbbbgeigeceejckhefkfbdcjbbcbhgjijifheffgjijdjfjkkicggjigiehhbdikehbdbghgjecikegcgfigdkcddbgcdhkbckkehhkjcidgbdchgdecdedfgigjffefgkgkcefbkchkfkgkkbbecceihiekgfddkidgfgkbjbccegbfekeekjjcgibhifkjigjcejddkfgfhhgfggdjbegghjcbjbfbjhkdcdddhhjjidheijgbcdggdfbcdhfkccddjdjhfffgfdbjieffjgjjfbecgcefkekjgkhdbdkhdiibkgcfbckhfhehfbikfkhhcbhcehhfbfejbhbfgieikkdfchffbdkcibhkbbkkgkkkgjkjckbebiekhkggghchkhfbgifkkfcbdkjckicgckdjgkfiekgkffkiebkeechjjcbjjfegifbieiidjfchgckjecdbbcddibfbhibkckhdcghgkijbgejghkbkfckifighhebjjkfkfbghiifgcbjhjbkechjcfiihbjjijehbikbgcfjfjhfkgcjcehcfhgcjcfdfbejdhjbhfidgejehdefedjfbeccjekckfgjfkceckcikhkgbfcidefjhdebkgkcbgjggchdheddgiigikgjfcgfgkkbdjcbkdfbfcfbghcbibfhifeeikejedgjkhkceeekcbihcckehhijdgjjjgbbhfjfgbbjhjeecebcbfjhifbkjcbbgcbijhbiejeihgjecbcfcbggfdhdifefekjddfbdigekkhkkjdfhghckijgebbebhjfkebjecbdcekfbjgjcfcjdkccijekcgjddcigjecffdddfbjfeebggfdgifdfkbkccbgfikcgfhkfekkgcikehfkcjhcfjfccihhejkjijbbgfggfbfiddcbiebgbibjidhigjehfbdhcejhgjhbijfefkdkigccbiigkiggkcikhcejbgfecdfcbjcjjkidhicdchcbbhffjdcichbdkeddkbdifbchjfhgeifgkfjidkfejjcggbefgjedbfijbjghgijdjfdjdhjhdedigcfghdjdfkfjecibfcibhgfidfdhijddbgjhgegjcggjjcdcfjkkgfjcejddhihjebgkgfijhbdicfhejhhebddeidcdkbfjdgbhjefihkcfdfbiiibcgjjfjickbjjekkbciigihihcidckkcefdefdgeiihekehjgcghieecihbjbcffdieggfigfcggbcgfdigejikjcfhfikehhcfedcgkjjkcfkeicjjhdfbgijhkhkdffbbffjchfecbicebfkdbkcidihbkbicjecjgjbdcigfkiddckfedjfdjdbdcefgebddfijkddfcccfigefjbdcccbbbcgehihdjiehfbeiehbjciciejbcfbdcgkfecbdcfgcjhbdhjjhbgjekhjjbefckdbcjhjiehbkhjbcifjhdiieefkedcgbkjbkedcegbikkdhdgjjkdebgdgdeiecchkghbgchefejhdjcfghcjcdcibebcbjfdckeicdiekiebikcgjijkffebjhckhdfkkkfbddcdgihkkgdcbbfejgbibieedcicechhgdjdgibhjhkhfkckkfifccgkeidcikjiejjiikcbbjgffefgjheickhdkcbfhfjbfgbgkhdehigddecebfiffcckjchdkgichjkjgfjkgfcighbffgbccecikhkfkdfffccbcbffejfedgdiideefkgiikcciiiiibeekgcdihbiidcgfjhijbcigbkbgkikicggcjfkkehegigjdjdccebfgbcijbggbghjfheefkhkhhecfkjcichicdfdcciifkigfgjdhkikeeggifhdfdihgikejjdfdeddhjgbkfbbefgefbegkgbegcbkfegdfdkkeeijkkjfedfdhkdgedbbhcidhdkkbibfgbgehfeiecgefkcfdkjbedfjifjkecchkgebckeifeccbdheegibjjcjgjiecggdekcfdckbjedfkdhcejbeijefdkggdcckgchhgjigiebdfbfkbidbkebhkkeedgkejfckjbdgccibfejcbcekbfijfghjdikikhgikidhgchhkhjgkkjggkfiekkdckfcjkbfbhkkhigbejhkdkcfcbfbdhbkijjffdbdfeeggbdijkbeejbggfhejbbhbkibchhjfieigifihhjkikigikheckggieiggheggehgidfcfcjgjjgedjjbckkehbbjgehicjgfcjiecccjjfiejieihdbeejghckcegcegbgebgbdbdijfigbkejddhbhdhgfhdchggekeijdgffegkfdbgigifbdhgjcfckcfgjjjgdjdbijfdcibgcijcgdchhejkdcckjkdgbehibddkgfkjgihigccfffgeehbjkfhdiffbjhcbcbhickghdkckhihefjjjjfkigehckfcifkjjedebgijikjdfekeffcggdcjkgijhikkcgfeekihjfedhdhbjdggkcccbicekikbgjbkbfkdddbddjecgekcekcdibifkhdjkieifejkeegfhfdkbkideefekfjijkceggjdkijceeccfddigjfhciicdbbcchihdihhhgbiigffceekdfehfebhkbdbdibfdibcjehfjdjibkgfjibkfejjgjjcfiiihbhiihdidgciifdbefkkgfkkecedjheghdejedbjedjgjeigbgcbdkdeejjdchejedfdhfcbkehjcejddhfkbkjjihfeejedfbjefjddiiiggfhdededgehchhibcjbkdbkhbffdhbfecbfcgfechjkhjhhbicfdhfjfibfbgighdkkdiikhfckfcdgfgiigffgjhifbggbdhbegjdedkkecfbiddbjfkeiiiefggihdeeedefhgjfibhkkghccidkedjjfegidbicgfhifbhhghhkijgbcbgccejkkeikdcjjdbcfgejcdibbcbbjdbhgjgkkbfedejkjkcggkghjggehkjikfkdbhfgggkfgdjiighbdhjffehfgdjgidfekcekcgkjikjcgbfjkkghkhbjjhjcghhbggjfjgkcdfhgchkfibechhgekcgghidiijccjdfgggcjcbghgeijbgfhhbfjhijegekgehejhhighfhbeidgdcjegijdhcgdbffhhgkdkcedgigdfckhcebkjibfhjidiebjjkdcejjcjgbhehfikghbjcigejejdkehejfekcjecdcjgdbkdffdbcgjcjbidgjddbkbjfhedgifgjgdcbghbhbcihkeecgcjdefffbfifikdfkfcgbbkkdjhjjjkidcbfkjfehjdfbhggffdghhbgibjejbjbecbcikhcckkehdcejfgbfkedcbchicjdbdjbeegbjfdkekhbcjfjbfkgcffdbcccefdjebghcekcdkeidjchehbihhbejehfidegffgddhdejgjhkjcbfjcickghdfeeedheekdgjgjhjceecjkhiicjjidjeidgdkdbhhfgjbkedfiijdcffkjckdjicecjjbhfkhfjgffjkjciifhjedbgkjcdhchedhdjhbcejjghcfdfkkkigdbchgbkibgkhdgfccehcjidfibgfikkddkdfhkcdedkcffhefjebhejhkeejkccfgcdbhebddcgcdbecebkkedjjbgchccfibckjijhjjdddfhgjiekbfhhhfhdebgdffcciffijggjeghdckdgjjjbkfdficgkieiibhjbgcikbjgjikbkghkggbfddhjdfjejgdcgigdhhjkhgcjjidkgdckcegechddgicfeikekheebefkkjgdkbcijgkbkcdidjgcjfeddbiihbjkkdhickecbjdcddikikdifceifiikbcgcgjedhebejgecdckfgbeijkehkceggkjfdkggkjhdehdijgdjeckejbfkjkiebebgcchkggdcedekkehhdhkbfjfdeejbhgiihjjkhdcdgiccjffejjccdbffffkkkjhhgccbckhkfdjkdfehfbjcgecjjhcjbejejbekbcfiifbekkdgkejfheeifhkbfjcjcfkhdbjekgbcchcdffcjcjjgdjhedkdhiiijickgecebggdjgjddgggdjjcibffbfjjfkejbegbekeghcddgfkbcikdifghdccihckfbkbjfkeifhbbeidiffecebkjfhgjghffkgeckfcggkdhdfgbdfjjgkgifbhjdihgehijeehcikebccegkhhchkehcbddghckggbhcgdbghdbjkdfcghgkdeeikgchbdhedkddbhebbdgjkifejkhdccefhkbcidikjfbfgieigcifgcgjiihgfgiighggfegjedbdfkhefjiddjgkehfkbhkdjeffhfdgeghkhfijcikhikeijhcfkkdiicgbebkfkkgdhkcdjdiejfibidkfgcjkigdhhekidedbffcdjceijdhebgbebckiegjfkecgfkddggdhfgciidghbgkfkfhgbjbgficgbihfeejegjhgjdejffbfckbfebfdhikkjeibdfbddicdjdccbfkkbkfgcgdekhhehbbjfibhggjedjjjjbechhkkcgfhiccfgfbjicjkbkdkhecjgckbcghfjckhechfjcjegekfdecbhhdecjbfikgjiibgchhkcbhifcbdibdigfbgkdjjhjiggfgkkgejcbbgfhfgjeihceekbhcghegjbdgkcefggkbcfdddiedbecbccicdedjgebbkgbffegkggbeekgdhegdgcfggiikifjgjbihfjkbjdekkfbbjegchhjkbdckfcidcdjhkiebhkjbehbhjdhfckjhjijiiihdcbhjghbkfjbbjkbjdkhcdhibifkjjdhgjhgdhkkcffhbchcjcggdbbebjgefkggbkheigkdhfgbdbeefgbgcejhbhgihhgebededghdjebhjdfhjhkgfdgeidjighdgfjdjjjbfihjejchidiiecjhfdgjgffcfkgkjejcdhbjgdkgjeiidkgkebifeicgffjcdfjiekjejhekcejifbeeehbhdkgieebdhdecbfghkckbhikbecikjkjkhjckhijdbiiiddfjbehbchcghgkhfihccdfffffgbffjcejiejhkigikjdiiekjibihdhejddgieiiikjcbbdibifjfcfbgghdfhhjgicbdjdcdidgfjhkbgcdgebjhhbibjibjbjkihehhbhcjgcecjjgdfgfffihidekhbeiejkhgjkigebfkgcjbecbefikhihkebefegkdiighkcbcbcbdjehkhiefcgfbijbcijikjijhcjifkbgkghgcfgjffbdkfbdbcchidkdgkkcbkhghijkhefjgcjdbeehekgfkccbdggecbibfcicjgdecebgdgjfhhgeifghdbdbbekjbjddbgejejcbhfdfcjgjgddeejjdfdiibkibcbhckeiiccddfbbjhbkggcccfbcgcghbbbjfgbbfdfcjhihihjeijbiefjeicejgiehfgdkdefebbjefbjkhhfjekckhiefbbcddfgkdkbkijkhekehhgcefefcgcgckjkgicjkjfbefdcbkdfjcghjbgfihegdiigfbdcghjebebbifhiecbiikkgdjhifejfjekickhcceghjjfhfiehjekdeffgbjjhjffghbedhecjbjbecikejdigcbfgdchkgijbhjbiehfhejchijdkkcjbdhfifgdbigcdcjdcbhjigekjdfikhiejbgedbkhbchhjfdeeckjhecbjcegiedfcdfebckejidjgkkkhcgihbgeghkjjedcggebbfgighfjkihifdibjdjjhedfdedbgfkkhhifbihjfecefjedbgjgjejiifchekbbfdbeeehfgciejegdfbkdeccgeejjejdcjfedccdkkbehiickgdegcchjdkcekbdijkbiebgcgfedbbcghebkdhhcjgijkjjdbfhbibkghffiikebiccchhchdfeiebcbehgihbkheiibfjkbfcgiecjhfkbiifgjkhebgbegkgggjjebkfifgkkijhbkjiggdbecfkbhdhkbidibfeehhfbkhfekigjgfegidficebbkfedfffcdhfkjdeijjfkbfjfggjdeegcgbgihhfbchbbfkbcgbdbkjgdbhdjgdgehdffjgdekdbjekekgbciggehbjhcfbibhccekkdjdegjgkkhfiicbkjggjjkcebbhbfkjfcfkdfgbdckbhfgeefigccfjcechdfbjibffibeebfkjjkbhbhcbffeddcjhhkeegdgfeibcjkkhhhdiggfhjdffghfecgcbcibccggefjgifdbbbbigdjbdghfdiididjikbcgbcigegbddhbebhigddbcgjjfddfejbfikgbgjhedckbedddkibejcjfcefffgifeddjdbdigidkedeedcjhkfecdhckfcjeffefbgibeiihcdbgjbchdjcfbfdihejcdhgfbdcfkijcebkigckifgehkjcgghdjcjghiieghcecjkdeibciegdhddkchdfbegdcejbjghccfdcgikfbfkjgdhhhhkcdcddcfbehbbejgifdkijffeckkbkcbjkgdihkdegbggeefcgcdjjiigdcihfidjjkdkiehjehddfgiheiffhhehehkidgjciekjihigeiibjddcdjkcgebgfkgibjfcbbedhddgjdkcbfkekfcfeficdjdibgcggkhcbdijjggdiegggfhejdgifhghcekcjhifeddfggceejiefddchhfefhehcejbkhhfdffdgkhdkgjhdbdekjbhcbhkfkjkfjedbdjigjcjijjgecbkkhhcdgkkdefhkejddbdjhbifbbfhkdcgedfdfffkjeiicdhjbcgcgefiebdbfjkcbdddcjcghkihikgghhibjibgkcifbkgfcgccggifiefihckejkhkhhggjideekdggdejbkgijcfdcgfgdhgefcghijdgkfhkggjidhgbgccdekdfidhhgggckhddggdkhkfjgfdhbceijkhifjdigcehhgjcbbfjkgdbdgibchcjjfcifkdfbhhckfkbbijecjbefeiccicbbhdbbibiiibkibfffbcedfddjbcdijekfeekefbbijfkhjegcfhggeheibjhbgfbgedgkdjdchcbgbiddekfegiehjigkbkjbcdcgfedkecgdggedebjjdcekkjedbejedbkjjkgeicdkkedbdgikghjjjfckjieiidhjkcibddgdhgkeekijkfhgehbebhfiiekfcfhgkbgcfejjjdkfbcgdbgeihgkcigdcehkkjddgjdejdhbeefefjjcjefbbdkbbhekdfhdkhdjhckcehjhbdfhfiegbcfjkcjgebdhgddigcfgbfhdcdcidbhdccgfjkfkbjkdcffedgcbgbijfjhegbhgejkfkkfhcebdeigkekkfjgeibiijedgdeeffiikcgkkgihbedieececheejkfjfdggegbeffjfiekbhfdghedcdjgegckcgefchcehedccfbgjieecgheejckcecbfjchkcjbgfjffjgebjcehjkjghdkeffghghgihhffbjgikikcigcgeghejhckigbkdgchijhfffcggdjbcghgcefbhjkhdhechddbjiibhgekieicehecfkkkbbkjhjhbiegdfjkjgjdkkebhddfehcdfdkghkhkgcgdkdghcjhbjibkfhghhedjfhbekgjbjiedhcbbdcddjcjcgcgijbkkijeijkjijkckbhigjeiebkcjkjdgbkgkgegdfgcjikbgikdkiefgbhgjjdcckbkjfiidkeficjbgfdbeigibfhggjihccjebjgdfijddicbfjddibhgbdfbiidgcdijbjfgjfkdjgkedffdhjfbjcgciiehchigkbefdjbcbgfejkfgigfbdhhbejcjggjkijcdddehhjefjggbjhdeidgjgdbhfgbccdefkgkefekikdiebiehdejhighkgkkkggdgichifckckjddkcccfjdihcbciifdfdcbbbkiedkcdbfbicifffjkhcgdekkfgkebiiiigjeihiebkcifgcikeiibcckdebfbbedkjgbeehjjijhhbcfhcigkhkccdcekgbcfjgffjhefcgdghdjfhfbgdebiigekfkbeeejggfifgcckbdbbibdifdhigiekbdfgffigbgkhdekfckgjfhdghihhjdfefjhkjccdijhieiiciehhcdbjhdigibekgkgccjfkbgkibhkbjjbcjcifdcfddkgddhcddhjckebcddjcgkfbfgeckjbedjghghkkkgckbkiekkgdgejckeegfjebfeddikhfhjdkebbhifbhdhgidccdifhjddgfhjbbfhiccijecdggdkhekhbbbjbhcgefgjebjkddhhbijggkgkgdcgckfcbdigficedkkgbfddgdggceeckkghkgfjikbcjkbddddijidhcebdgcfhkcgedidfjhcgihbhghgkbdbikidhejegghjbfcjkechjkdbhihcgdegfekjidjhcjebbdicgjgbhehbfhgbciikciidifdheehkdgbbbikdejffigdgfgddbgijbiigbhckbhkdcdidjebidjggjjifigdecgbffhdeghejecfekhffdkkfdfjikbicdfbfgicihdhihiffhchidceeekjbicdgkcgkhcjdcdhighdgbcdcigdghjkjkjigkickhjibhfkkehkhkdgibbeggihkiiegheehckcedjigeijkdggkcjekbkijdefbfhdgjkfeidbgebbbiihhddheigebigcjefiddfkkkhedegficikcibgiighhdciccfhgckiiekddfihdbjbciieiffhffkjbkjddciffdiijcifiidebcefcgdedfeefdfjdbbifdegcdcdeifebhdhcggebcbcigebghdjjejifcgdkfjgbfjkfiehcfejfcbeciedigggigijdckbhhjdjccciihhddfjidhjecghehkggjghiejkegdkfjbekbbcgighdkciedikdeggkifdkhfjfcbffhefhccjjccbbhdhckdkihhggceeidbdihkfgikekdkiicjckecgedjbgecdkgibjdbcfdhdhehhdiggeffjkjdkkchbhikjgcfjkhkfigdeikdkbjgdkkjcbccbcjdhjkdkjicbgdgfejgkeikhkeehkfiidgejkehigkidgdhhdgcghkhfcicfidkggdihkcghfdieigcfhkejiijidigkcegdkdeghfkjdidfhjdjcjdeegfdedeidfkdigdcbhhghicfkfgckkjbgjekdccbfjekcekhkhbiegcggkfibhchfcbjdkdckbfbecfkehjikgdcccifbjfikfgjjfhjdkjieefhdkhfhbfhfffcicfkcdbijijbiihhhfhigbbggjkhbkjehgjfgikgbfcgkikgfgchbbicbjcififcbbkcddkiejhibdieehdidcgdihbibckkdhdkigdjicbfccbbfhigdcbbbddkihccijefeddfbibiefkdfbhdffbdcbjejegkejibdbbkedhkjddjjebkgkibhkkdiccihfdigfebidikbkdgkjbicfebgeghjfgdeihgkifbibhjidfdhddcgkhcecfkfekchhddbiicejdhkddjhjdehgejejheceehcbeeikegcdfkhgkbhefhkeekcgeidbihdedkkikigjjgchjhcdifkikjdchgkbehbegbjcjcgchfcgkdbkhjdeeddjhcfffcchcfjeghegfdihdiihjbgbgikgedikcgdekgckkhkckhibiihfeddfciifbcggcgickhghdkfhkfjhgefgdghdfbdbfjkkfgjbkgjdkhjgfjiddgiijkibjjhckejfgjedebjckkjhidkggfheececefbccekgidjgecebcdcdcjbcbbifjicecfcejdjicijfbckbefkbcejbdbkkdgfjdefkfjhhhhicbjjjjeehfcbijgeikjcikjiibccdecchghbdidkiecdhjefgkighhjbjbjbjdjdcjkfddeihiddifjdkhcjigbeidgkkgdhkiifkedecjebfgdhhihjbbbekkckefhhjfhkdbjdbkgihbjccgkkfgkjchbhhcjfgfgfebhhfdffjkifigeejkbchhifeiceecbgcebiggedgfbgbghdchijbdfciiehihghhjeibdcfjgbjgbhdbbcbhchcfdhijkbechgkcgegbjcfikjdjfiebbcfjbjejbgbkcikgcbgbcbkeghhdhdkbifgibjeikdfbdiehihkbccjcgkcgikhkgfcebgbifeefgdcgdjddhcdbiefgeekigcccddhkifgecehkeebkikcdfbkdcigdfdhdcihcijgkhcgbijbgdjfjkkhhfgfbjeceijfdchkgkjkjggbfdbgbcikcfkcbkiikghjgbhkhickikibfbhciefkgekibjijgkkgjhfgdjebbjjbeekhhgiecjdgjdiicefgebhkbbdbgihfjkghkcigbkjefjehfccbgkhiejfkiijbkcjeddbfhjgfgckcdfbbkdegedhibbdbedhhfkkjekkgibbigfhfjbhjkhgkjjiebehjjhcijghhkiihjkbdfebfcbfbgegihichjihdebbbihjbbhgdfjbccekcjjdkebjkbehiehkgiebgefghfcigkedkebckicckjdjchdebidbkfkkjekchdjhbggbjchbhkcebeibikfkdkbgbkdkkhbjjjiiciiehkbcdceikfkebihkfidjjjbbcchcgjgfkbhhfcekkibdikebdbejkgedgkkbikcdkfkgddeicbcgjcghhfjhcidcckckkkhfbeebgfhcbjgcgdckfkbkigfhgiegfhcihccgecihdigbbhgkhcigkfhjbehfgjghhhkddjjfdkdijddkecieicejgeikcideedhkjdhgbbiiekdcbicbdhdikdcfkefejecbeidckjkegeibkckdcdkidgbgjdbbjbhdfjjkcjjbfjcjhjfjkjdcgidcffibjghhjjihiichfiidibigkifddfhfbdbjfcjhfdjkhhkjfhjeiddhjgkeidkefibckjgefcjhhbkbchcciibghiddjhjehkbkkhkkgjkhecgiedkjfeeffbfbcgkcjkbbidckjgkkebfgeeefbjgefecdfifbcegbfkkggijdjhehghjkbffdkcicikcikkhdiebcegifjjhfebigedhihcbgigfhbfdegbehkkhccidhddbcdihfidkijkeijkbhhdejkgjedbgbfjeibcihgbifkgcdcfejebjefhfjggdjkdbkcchkgkjhgkgdiibfkjghdbgcghbjbcheeiigbkbbjcfckcjkbhhfkiefbfidbkcbkccjgfgdjkgjedbfejjcbjkkefdeckckdcebjfijbhchkffekgidkcigkfkhbfkgbigdkijddkhceikkjkebgefdkcdjbgbccdjdbdfidbcegghhbhhdchfkkjcfkehbhidfbjcdcbdfhihkcijjjfkechigbbkfcccdgieehbfghgdjkbgficjeheeicjieejgkejkigddjgjjekcdchcdcfgchffdejieedgddgihiecbbjedbkjccgidkiigbkffijbijbefhdigfijgfgjghjhcfehjibckhfihedjkdkkcjikkbkkjfhdbekefbddgiedhdfcihedibfhibegbchfcgbgfdidjdkdfhjhibihefcbhjjijcgbjffcbjiighfcigchekhhikfjebhbbheebkkjhciijcbijeejfjkgjhdjebbgbffhekeijhciddjfghhebbbiikikbdfbgdkijebdcjdhbedejdchcehffdgccdfhkcdgbggfidicfikkgdhekcdckbkbffebjckjfjkceebcekbggbehkjiegfbekdhcjcijfjgjdfdbchjbckefkhhgfjicficjefjbccicjfdhjhibjifbjgfgchfibikbfgeeijbddbgicfbbddeibeedfbgcdgefkbjgkedhgbikifkdcicegbdejdcbiibkccegbhjbihfkkhjbihdhgjghfgkgffkcgdjkcbiggcdeifejjchggifccjjgedebkgjdekbhchkjjikckhhhiekijjdifbihddjgjicdhhhkhkbbhbgckbeedfkccikjefdjdddbfgiiddcifhkheikfjekkhbkdghccjiiegdjeikgjghhihfedgfddhkeeikijfhhghgejdkgbkcjbegifhihfijgkfhgkdccgjikkeggbfbcbkekfgecidiicbbibehhefggihkdgjgikghiggfbejecbhecjbghfkccfccfggeefecdchiigcebdkchfeejhecggkijkkhdfhffgdcdihdcgfjkfddjkibhegjjdkbdfcdfefigcjjecfgdjecgckbhdedhiegikdeeiechihebjkffbjiiehjjghecceedhccgjghjiibehjefcjkfkhekcfjjddbjhfficehhkbdkdedfejicfhhfkjjgegiikgjhhhiiggfjehdfgedgeiijbfbfbhekegbdhbkicciigejfjkkcedjcehhbkkdeijjjbgccdifkckkkieekfddkdkbdcjdcdjjhhbhkdcgggjbcbkejfebfgbfccjggjjkbkchhbfifgcbgicejgjggcdjbehficbiekedkbfhijhjgdfkiigebecihekcbhgjggkfkkebiedgidgidjfcfiikekhedejcchcbhkhickkkgjhiefcfkbkkjkjcjjjfcjefhggjcgjkcdckjhjkhgkejhgbbidieceddghfjghbejefcjgbdhfgbfkkcehjebhidkhjffbcccebdehjbcfdhikgfhgfibfeifikgejkjedhhhjkddeggkfjkgkbbkbdghjkkfcjgchgfjkfkhgfcddbfkkijdhhigekkegjiejdjjcdedhjfkjgckbghfcdccjdfekekedhfcgedbbhkkhedkhbbdkhdheckfgcbceghkkdkkjgigdbhgbchbfhbjdejdgfifciggdgjgfchejchgdiidbgfcicffgccccddbfjhdfbikieheeebfcebeihkdhkdbfdbjeefiehdfcikkfcgcbhkbkikjkckfcbgdgeecdchjbdicdcdgjcjhiidichcbhhjbeecgkghcdkefiggidcgbhdkjdjedfhhbeebifffcfchjdbbjikdkhifchhjihdikdjfcjfcgjdihbbhedekgcdijcbgkfegebgbkhgddddkjkbibcbjhkccebhcbjggehehkhiehkbdfchghhkeiddeebidgkgkbicikbdjghffcfgekdeeeficgebdcbddjdhbkibbihikehfbfdijfjbfgecciijfbkjejcbbckjegcicfihbdficidffhbfjfibkeghhkihbgddbfbhjfkgbikijjeebiigejeegejdgdejckhchdbhhbchiiecdgkckfbikifkgdigbbbfkggfjhjiiegbdjkkbkhikicbiekccbgbfkdkekkcbkehkhdiibdheekdebkkbkdbggccchjkjdedbehjegcibbbekhcfbcgibgchhbfcjhdbghkjdgbbfkckjehfcjgccfjfgdieggjigkckigjheefdgdkegdibfedediddekjjjcebbdjjhkebeegkhfjebehjbjjgkciddfkkdfjbehgbbdhhgiijhgdbghdifcgihgcgebddheieiefkkhfgibfgkfbegjebefhbbhiicfgicifdgffkcgbfkfdfebbjjcgkhjejfhjkijdhjffdjdjcdeghghiijghhicgikghiejbjcefhieiekgdkiegdhijcigediddkghjdeebkfjffbkfeckjegfkggebhbdehkbjibckcicbhjbibehheehbhcegcjbgiehbhfcbkdhhbffedcgdekjiefecdkhdikfjjecbhhgejekjcgiefiffhgbdbgfbigedihjbghcbkbhgcfcgcbkcfidchghjkicdikekcefkggjfgbefeehfibbihbififkijbiifckeccibdkgdcfbkkihhhjgkfhfikfkcjkeifdhcgffbjgeejdbkggkiiikgeifjbjhggfijcdgfkicjkchcjdigdhggdbkddcidkdcfdfechjjhejhgkkkkjcegdfbeiheeikhjfkdiejegdhdididkcjdfkhibgfheifhcikghbebbfbkgefdheegkjcejddjgfekeikcjdjbkebiibkeefkckehiiefjgbjfhdhffjidkhjdhiddcehebkjfjhdhcfcgejhfdjhhgkkgdfgjheehggedhekchiefjccjieikjkdehegjdikiggdiffbdgccdhjeiekfghegfbcigjegffgfbkghcdjgcigjhiihfieikjffjbgbifkgeeihghecidcghdbbdjcbdbkegfdgihgfeifidjhkiiegjfkdegbebejkbbjhjdjgkjjihcggckifhfhjkdjhjeifjhicefbiifibcffbifkifebffbcfbjhgcdjkhjfdkcecbhhhbkeibdkbfcdkbikcdbdjbhiceikgccigdcihebgcgefedbfccibkkibiidcddkgcekgkhebebfchijigjibcjchibfdjhfdfefjifigjfgkigeijededbidfbhfkbfekdiicgcijdgjejkiikcijhghhigkhkbfdgbebijbfeigdkhgbfbcffjbehfdigjbeicdikcdjfdjjjccdghebkgkkfdhbibccfgbibfkckjehfhgccikejcebhkkgbjchdcbdjkeghdiekechicgjhcgdgfhjbggibjifhgdbdfdjebcefkegcjgbgdgjbcfbgjbkiiihecegedibkkkkbhjdffcccehcehgfccchegiefbbecigcbdhjcckkhehihfcehgdhjiehkfjbiddbckijcgdecifefjdcdieeheiejkhhjjfgihfbkccjcgbchifkgkfhkhbdfjdkjgdihhjfdgekdjdfgjceeckbhghefkigkfkbkkihfkjhbhgkdjhfckejjeejjcjefbjcdigghdjekfkigdkekkcfbekdgcjheedcicgihjgbfhigfigehgcgjehebcgedgijieibddcjcchiebbikgihcehcjhgbdgejjgebebckbikiddkdjeijhiigkkgfecgegicihibcedbegkccjkfjbdejiicjhhigchjkeihebcbjeegdbdiefcdhgdchcbijgbjjckcehggeicjbiieidijidhfiihihefgcefbjhjefbkccfhfjfhegjdbeeebfkfdjbcgkcchcihcjcibkecjkbgckcdhcfchcibdhfedjehfgjgcchcgeechfkhjgedgjjiigkfiddkhbcbhhdkjgkedcibccgffifjffddbjcgfkchkkjibdeecffjihicgjbdhiebdkhekffjgjifbbkgbegidkhjigfikjfjkiideickiihefkcjbjdkihjhcdiefifdhjfjhgjiffgbbdejidjegdddccjkkiddcfbkfcekjfecefhiiifgggjedecjckigddhcdgejbjfcicjcijbdfhgbcdgdfiekgbfdfejcefekbccbchkegbfehifhdijdbceefgecddbbiecckgddjcdjbbfffghjdhifhfkdjfcgfejedbegeegfjbcefideecfhihgfkbgdeikfkkjkihfhcikgkbckbiebgdfddjccijihcdikgfgfhghbdcbcgkcjkibhjkkhihehcjeidhiggjichbkfkjefjfjgfkddjcjeihgcbkdfikdhfiijkhkjcejgbjkkjjfkbfhcjiidcekjcjcfgfdhfeiffgfhgbdfgdicfcckikeciehjhebcffcghjdjcdigkbhdjgjghbcjgfgieegfkfdgfdbcikicjgjkdeekkkefikbghjjdeheijegfbhjffgbikchchbcijhfdkegkggkgkhecgbghjijkfgfekfjibjfcgccjeceefhhigbbbjfbbijhbjejhdieiebicgekbgjhjhfidiejffcicbggkkcfegedifdhibddkchijhdejgkjdfhjkbiekkhhidjegbgckhiddifbibbjeegcfigejefigdegjjhidiijekcdbefihbcghkgcdhjebjbbgifiigfkfdfhbcdicijdckhdhjdjickiijidjkjbbjckkfcjhkfhgegegighddgjhgjhjdjcbdjihddgbijhcffehfhkdiiikbgddejjdikikgcdhcbefjekhhckjdkkbcefedhihiidedhjdfeeifhfffhekgcbieehcicfgbcgbkcehkgehkiffkbihihfckcjijfkjejbeickjjjhcfgjidiehfgfkeddjfjijkghbcdkfhbffedhfkdhkidffkfbkheheebcedjcgkfjjjhkgbbebehfgijiceddiiiicbkgidebeiiidedbjhhccdekhdbghehcfkjdbkbjkghjeggejiffkdkehbibicdkgejjgcjgdhbihijiickejkeeiibchifkhebfkbecfjgbddhcdcfgijkcggcfjkfkgffihcgfgegijdfjieiikigdbghfdkgibekbeejdfccfhgigfffhckfjbdhikgefkedffifehjeibhfdhebejfdjedjdkheidfghkbbcddihiegkeifhbhgfjdkeciegdfchedfffidcdcfddejghifhfjfdgbfdkjifideeeddfgbjggkgikbjkjkgbfbjeiffhcecfbibhfchefecedgjjghdhfkjgbjcihbdiggkdkjijkhbkkkbdbiebehhjgidkbffchkgecfbkkfjhgeekekikbekcdjfcigdcciiibijgdfifbfbdgbhdgegjcbddhbfeddkcdeehebhfjhebfjkbigekbejcfeibbeidcifebdidddgeedcfbckiikhjdigeidjccibkjiiegdideckehhbdjheigikehkfdkhijcdjiiicfjchehhgcfciijkkhhkfekccbbigbdgikbghdckkcgcdkchdfecbfghkiehfhfhhbbfgifhbkcdckcbgiecjikibijkkgbjigbbjhfgdbjhffcghhibekfeihfeigkbjefjjdcbddjeifiigeegekdikjhbjfbejkjibcfebkkdbhkfhfgfddicdibceifhiehgcjgfdfdbjgeeechcbejhcbhjccjfigcjcbkkbfhighdjcjdddjcdbfbkjcgkkgejbbgdfbhjjcehfcekdhbgdiifgjdcbjkkbbighdigbgdkbkbhdchbkgggchbjffbikccijjcfecggdegccfeffhcidjfhcgijbgifdkhkdghehigdekhgjhjhbgejckkfhfbfekhkfcffjefkddhhhgikcdhicehjfhickfidchfkkchfidfkegfjfcccgjjhcdechhdfjikjkgkbjhdfekhbkhffjgjbjgbehbfjkhhcfihhdfjdddijdihghijbbfegjkggcefgfccbejkeihdkjjibkbkidkbdibhijbbkbfkfgjgghfkccbcicedebjckjcgfbgbebedkgibeifgbeekbjfjdihjidfgicceebeihihcegkifdfgfjekckcgjiibcbccecbjicfiijgbefiiiickbekbkjekeggdfekdgbbcdkkbeffcgbbieediiekfkkcgchkjhhcddkejgdecjbcidkfdeccfjkefiicfhcdgjckkeefhkkfdbkeebddjjbffjfdkbfkhihikifkebkfcheidggeifjcihbcdbjbfhfjjcbfdggfebefbbjifiehgdhfkbdgfffckejhkbcbechibjdckcigdfgebiffkdcfcddbkjfbfjkecfhcedkdekckjffkgckcgdcghkhdhibkibdfcebbidiibikbdbjgjjdibfkjfkcdckceededhebbjkcbgbgdkjhccdbffghiheeihidgjcfdehbkdceeedfgjjeeifjijddcckekcjkikghfdfgkgbfehhghciiidkjejgbcbgcibedhheceehjdeckheebbbebbbhgbjdcjhfjkkhfigefhihhbccbgedbckkjcckfhijbkebdjicbichdcciekjgijcfgfkbdifcgeihbjdfdfikbhkcekkcfedchfghfbdkbefkccgdgbfcdfkjeecieeibiebjiegieihbdefgbjhjdjekjcckbfkfjjegedihjbcebgkgjcbjgjffcfdcekchbdedjjebkikhgjdgicjkjkhdkfjbdjfbjkichegdhkkjiejjecekeffdjchjjcibchgjkdjdjeijbbjeiebekhcikkbghjjeiikghegjddkejbfjeegjikgbkeikfdfccgebccddccikhccibihegjjgfhiekidhgbhbejibbfkiikfebebefgfjccbehefkgbeeecgbjfbibhjdbhgiijgcehdhbfikfdihifdbkigjggieikdbdhkcikchdbiehkkjekdcddidcbihkbijjefjecceedejkddjkfdidgggihhdjchfeckjhkddhghhfkgekbkbjebhdgjhbbcffcckehcdkekfkiejddfbejgdjfjhdbhbijijkgbkbidccgfibkcdecfehcdbhcichfggbjcjifbhjfgfhgdfhdfchdeejkbddfgjgekbjbdjejhhiebggcjkjcfeihkkhgghcjcfhkkhhbgididbjbihkhbhhfkjgibkfegbeeidhehejekedickfdfcecbbeihgfjicbikffidjkjgcjekedbgjidciedgchdhhfkiebejbbdeebgfbkckifkjjhcbfkcjhefcbjkhkkfkfhdicfgjghibhhegieeihjkejefjegbekkkffhhehdgihekgcfeekchcdhcceggkhbbicgcgiddgdgjddfbcbkgcebihkbffdgecfcfjgebcbcedgkcgggkifgkefckgebbhcgdbdhikgfbddeibjbjiebbijgbegighcbeehfihfkfdiebdecckccgckbiccejdhfefjfhhcighcfijkjjkccgdeiejfghbcdefjfcdfdhhfchfiecfeiiejcdebdjgbkjbkhejjfgcfccciihceiedeihhiebbdbhejfdhdhihcgihhgdfdgeikihhhfgbjfhgibfcdjhfiebijbekdcjgckjdhjbcedgjkcjefkkkkcfbkbfgfgceccibfcbgbhkghbhgjhigbhffdbeekfkfcdkiehdekfiggdijkjekckdikdjkbjkgckkejejkbhjigdgibhfbbhhkgcckgkjfjjkjdjiebcejcicfdhgkiefiigfjeikfifbidjdhbhjceefjghcgkiffdbibfjgbhddhiehcgddibhbgcefchgicbjdbhddckcbgjegiffekeiidbfheekfdefjegffhhijbbeddgghbbefhghdjgkikbbhhfbbegfihikjgkkjefjfighgcbjdihkbjidgbfbjghgkejcekcbjdkibhkgibccbeggiegbkegjgjciccbbkiedicbeejffgghefdbkjffjcjhkceifkgcjjeijdckehjegegkhhhcdkfbfgddigdhekhgigkfckiccdjkigdicehhbebfidgbdbidihdjcciekhggkgidcddhfbjcffhdcjedjcddkbcedfkbddbdcbefdiejffgjifcgkcghekkidgggdckgcgdffheeddfggfkcjfjjjddecegibfhfcijgeejcffgdieekjjdbkbhbgffhgddjibciccggkiegckgdccdedjbgidhebcjjeddcbhkjcbkhfgfhgcbbbcebffekidefkffekdhddjbgiegbkibfgkeebgfhkgekdkdfckkbfkjijgkfgfcdbkdcbiebkkggjcifchfigjgifhffbcfeegdgfibkccjejfekcgehhcdhfffebkedihcikfehegckheeifeieidheihjkbijgiedgjhggibbffeicdkidhjidkebjdgkfdhcidjfcgbcdegbedgjecgdjggehckcbijiegbjhghhdfjgebkiejbehkckckibfkjecdbcjdfbcfjfjkiddckeciibifddkijbeikgeedcbjcjehkhdjhecfgggggcbfeghdebjejjddfcidceikhbbbdbehhbcgfjfbhigfgigijgcfighiihdbehfhfhfkejhkjejbifiddgefkfgdcdhhfhgeejijcefigcgbceceicbigikfkkhfbfihecififjekcfijfjgikifgidijfcgecieebhcejjjhgecddigjjbecbedbhbgejcdddihbifdcdcedffkdjfkidihcddekcccbbcjddgifdfdbgdgdfecjechjgedkigjeijjhddkkgidegkdfficgjdejeiejeifkfgddekjddidhifcibkgiegkjkjjigcgihigcjhjjcihkdefjdkbgdeifigcbdfgcchbjdhjcdhfjkfefifdhkbchbcikebbdfigkgbkgkdeecefkkbkhibghdjkgdhgkhgdjicejhcjeegfgedkikckjdkcbjjfgehdhhheikcffjdfghiijkjghefkfbfbdchgfcdbieijfhcgdhddbgjjdggidfcdhkidcbbcjjgbjjfkihkkjhkchegbebjedhjfcdhgbeekjgfijdcijfddkjgbggbcdjdcjjkegbifdedbjgdgdikdifbedgeejbfdebkcdkjfjjejihdgjcehbgggffgkcjiibgjbjcgbekgibegjhgijckjbjhfhieejcjbedbikijefhedigbhhcdffdjkkjfbibbdidhfbkfgkfbgckkjegfkjgefcbidechghjbhdfkkcckdcgjfifhjdifjecjdjhbcjegdeijfffcdgficfhekcjbgkkceceihiddbhcchdbiihkiedhjdehgbdejgfjdbbgkkifgjeeghbgekbdhddfhdbdhifcficdgdhfjfefcgdccckhjekiibhbifjkgjdiggegfehjieffefefdkbfjcghjkifkhhdhjcbkcjfjchcjjhhghiidcccbjhfdcgjegddkjbkkbhdkejbjcibfeekhbifiijjbggkecebegchbkidcbjbhddjhijcchcgichheeeccicddihieefkegkhfcechhjbehcccdbijdgeceifghccdddkiibghcbkgijhejkigehddeiidifbkgdfkkfjciejfekfdbhbdhgckdbhkcibfekdjccbhibjkdkjdccifhdkbcidgkbkbifigcjehkfbihjgegkgfjkghdccbfedfbihkbdebckjcfidhiecigeegkbheihghfhdfbkehhiheckceddejkfgcdhiciiekgeihfbdjfjggikkdhhcggdbjjejejkhfffdcgigfkfgbhbgdfbdhbdbjffkhgceehjfcdkjdfkchhdkfkhkddijikcjcegiiihedecffkgjkdhgjbkjebeffcicjfifbcdbfjhfjijdbkdbhgjcidebcbbkckjhfcgbhigffkkkidiikiffjeejhbcjibcghdcejgbbbdhhkgchfdegcgfbiegjgiggfegefekcckidcddibkcehjjejhgjchfkfggijgcikigfgbhjkejgibiegjjgbeifefkgebckchjfcedgjdheiccjgkhcddehbhbbjbkiffkihhdjidjhjhfgbbkfcefikkfigfccibijbfbeckjifgjijchibjekdfbihijefigcbejkddhhgjkdeckidehkgkifeibgfjbjefbhhicccdhggdibibgdhckkdciidbeijbjcciebggcbbicgggebkcgfihbbjihdefgfbiheehddbehcikbfbiejcdfcfgikhigjhkhgbjigcdeejiifheckhkcjjhcchbbijjbhcgbigicdicckeikkfhkjejbbfijcjcfbkhkehcdjbcifgejgjhigifcccjifhfkchbhebfhghdegjchdgighkjdcfibcjjfbfgdhbkdhfgggdkdbcdkfcjghbgbcgeckekjfefhiikfbbiifgkdhdbjccgddeghdebfbdceefgcehjdfgbifgdcbdfdeiiifhfghjhdfefhkfcidkeeijfdbegeccbijifgdbgcifdbhdjbieikibbbgdkgdfddeifkfcfcfhjiehjbjdekbgjefdkfigddchjkkegcfbcghhfjieckedicikhbgfchjjkeecbichbedegceifefjbhfbhjejcbdghbchjidcgfjhidgfkejebikbheffkbbkjgcgeccceggidekdfddddgkhbkhbddjbgcdhfijieigifdjefhcijkkdceeffjgkjhjfkdbgghghcjfdgjedffecifighbkkjbecihdjkedjjjkieeggdicgijdccjhdfbdegckhdgcbfhdhefffkiheehebjgdieedffcfbcefbhkhhfcgdhiehjhbejbjkibhkheiefdjeddhkbejkifbfdkffciikgcihgbhfifeihghkecifdgjbggfjhcfjhfjbkbkbhjkgdhekffbedhbkddjkhffichikcheheffbjhbfdjjbghbkdbfdhhgdjgcggiekefihijchjfedbddfgiijghhfkcbgijehdedhedefikidcchjgggdjgikfgdhijgijfbijbgfdheijkkhedcdhfeikfbdkijgjjegcjkbdkhigghebjdkdddfjjgcbfjdibebcidjfceigkgkibffgcdcdjgfcejhdeidhghdbihdefdfibbjhijbgeciehkffkcieccdeggdjbdcbcgkhijhbhgijjgfjibggjjdbekikdifefhiecgfdcbggfdfbedggeehbcfgccejjeeiggdbjjefjjgfbhifkejedbjkjdgbfeccgefbecgdefheidiikhkfeehkbedhdehdggkgfhfbjfkfgdfjkkhhbhfhcceigjebhkhkkffcgdchdbefcbfbieckfgchkfkkkhibcdddkfbcbfffbggjfghdjgjggbbbcehifgbcgjieciigcjkgecegbcfbkfiichjghghfbkkdhhifdkjhfgegeecdjjhfjbefhbdjgbhcgdigjckbgdicjgddfhedckdhjkfbcgegbbfiikjjcdikhighbjbeiicfjfbggkgkcjhdcgbgifhkggghhfkgibjkjkfgfdcegjfdfhkbjkkbddghkjigbeefbejbbgcbbjcghbhdddeiiekhgijjjeefjehifeikbjfjdhdjjgdbhdhkghbdgkbehfhbbjgficgeechbgfcgffbbheddbddehddkbikbghbkcefgdhkhhikdfeibfkccfjjfdeejgkebkkibjfffdekjfbfbfefekkegiggkbieefgjcjficeecieghfcgkegchfbcecfjggkgfbikckhedghdekgddebchckijkekggccgfkddbhdccegchjfeigkdffeijjfcgdbgbhkehdiccfkbfigkgihfgbghcjideicjhhcceeiifibcdidbkjjegbkcigdfdfjjkdjghcjibkkbihehhghdjccjefkffeifgfjfbhhejkdeeifheghkcdjbfhiikbjfcdijibddciijigciefbgfjcdhhccfhfgieicfgfifkbjjhhidggfgkdgibejfdhjihcbdcifjifejgfkciggfdbfhfhicefcccddjffhbbedefkkhkkciibhigfecechckcjkggehifkkedgijhgejjdkjjdhgbhkekgbdhidcjkfbkgekgbcfcckkkkdffdcfejdjhjjfjheicfhgkjddbcihkhjggidhbjfhhjhbegiekkhdefdhgdbkfihfkdhcfbeckcdkifgffcidgijiekfhhfdkkjbcfhgfdchekbhifbdfcgegbbcbkcjjkhjkkbjhffkgkcbdcbkecejcghefddehichjijekceiigkicchfkikchhdfbbekibebcbfhggjghfckhecdgcgdfdjbhbhkdfbdjdjkecjieijdecgeccckdjhdifhbgbjibifjigkffhhkgkkgegkgghfkdbcfbjkhgbdbgkihddehhbkdcdchbehfggdeckbkgkdfkhiejkdifcifjjedkdcdgjjfedjceebiebcficjgfjfikbcdiejkbhhgedkbgejegjbgickibkjhfibifbbggfjbbhkdbbbbhkdhedkgjhjigbkjhhfjjejfedihhghcgcegkjhggfkihbjhchebbgikhgjhdddchhffhicgcfgkbkijcfhdkefkbggieiikgfjdkjffdhkibkiiffhikiihfifjbebhjhjbhgkiekdighdjbffibebfijijkiijjckfjckkihkebigkjhbkgdgkkechghbkcefedhbgfgjfchkjikjbdfdfcebiibccfcfgegibbjbbbhgihfgecdibkgcbccjkckkbdecjjjdigjfkgdddgefjbghgcicgbbjkjbhiffgegekhgjdhgjhihbffiffjggbkfkckikehfjcfdkkdbbdkekjcjfjdbhcdfhdjcbjdjbckidgkggekdfefeccggcgkeedddhfdkhkeicifbigfgcffghefeccheeijfgfbekebkfhiffgkeehfhkbdbckiedbgddhkdbbifkbjgfikceghdgjcfdigibhjddigffibjjffckhekikfehebdbcgcebekgjhhjdjghcdgefjdjgjbibdefijgggcefehiedkgfecbkgkhedfjgeicgehibefdgjfgjeffkbbcfdccgdbfegdebddjebjcbdbeehejckbgfdjfehjccfjfbgbgckjdjhifebegkkkdbejhdjikdgdjfgjhkdbjkbhgcdbifkgfigfedbjkchhcibibedhiegjhefcjjhkdkdgcdgfhccedfbfcgddbgbjfchbcehhbichhgijddfcfhjecccbhhbjhbgkjicchjcikiikkkfijbjcbckhdjfbijghijccgkehfcckjdikeieicgeddekfggdkdihdffbhgjefebhbefgeieggebfikbedkgfdgickkfbjcehijgikigccfkddhkekefkigfiiehibkhjkjjfbjihcgeifiegjfkccjgkeidicikgfdefdbibkhcdhbjcibdbhkfdhjjhdjbkfdjjjibjffcegbjffkkggeeefcfcjdhjjidddkeicidkfbddgkdjkkikjkkbebcejbdgcibfbdeddcgbhkcfijkdjhkkkhedegcfchkbjdcbgfdghcdjedbidecgechfkegccccghbgdheijfkhfjhkikbddjfjddifkcjccedbjjekghdkjhifbgfbigbccjgkhhbejkcjhjkghhiihdjgchgjdjghecgbkdgkhejkkikkfbkgkhkkhccckijifhjfkhejfifiheicffkikijfbhighebbbfieegeigbehgbdhigheefkgjfhckghfkiefhifhbifeghcegekdgjgckfchibejbjhbgicfeggecgbjkediebfbdbgfgcifgcgijcifhehkheiedicdifejhjckkbcdgeefchgkicjccghbifhibgbjkdgiigbhckfdidehgggdedckkfikhhgbefbdcijbgekddcbbejcheehffegkkijfccdhjiejbekdeiedhfhbcdgcgfeehgkifiibgfbidbfjbhjjfbcghcjdhbdjhbhbjjcfcebgdjheicfdfggjkekbdjeecejedcijgfcdjddejeefhfceehbgbbccbhhcfihihhbjebchfjfcchfeiebffcfebfhdcjcgdiebbjcecidkheidjfdcidhifiiikhfjebfecifcjdjceccicdgfehfgkkfghgkjiefkcbhggdbhkikhjfiiekfjbgghiibhfckidhckfgkdkcicjkdedghcbibhigikhkfjhiedgihcdibfighcfhcegbjjkfjeicikikigbbddfijdecghibheekfjgekdjcjjgifkhgceggifccbdfddcgigbieehjghehdbeeddkjedjidigfijhibfdbcjfdkcchgffjjjkkkibhjfddcdikcfjhcidcgfjbigigjikkhjfdddijiikcbhkbifiejigjefeegdbdgbbikdgbcbijiiddkjbbgifdfgefggedfbgedccibkdebfjjfhfiihkbhccgkjbkffjbgkjgfibeiccdcbekceffkbiegfiigckigbjbhfhkhkcfbddcdceidhdcgjbdehikdebhibfdkekffjhgkkibbfdijbfgjffihckigiejgdfbjbdhkbifffhbehgidjkcgchccffjhkgdefdjjgfkkgkegbhkkdhhchkkichifhgidjigbekdkbejheeikbddcbceidgdeeejhbkeedgegidcffgdhfbgbbhidegbkehbkgbjdejbeiiehbfebcdkdcggdcgcdfdbhdkghfhhgjjifkbcdcebbjiiecdddfjfdkbbfkbhjifedjhgicidedgfgegjdbfikdgbegidiigcjjfbcdebdcijbkekcdbhhehfkiejjfkgccfhkfihgjkeikkgighkebjccjgidgdbiffjcdbkdjgkifciihgjkhggjkghigffgbegbdbggbejfijgfkekjbkcdbjibhhejjfbkbddgkhgdbbbhfdhgejjiffkjkddfbfhheghjcbbkfkkfjhjgidegkfbdjjigbefbkdiiccfbhiihigiddcddbgejbbijhjhkficiehhfcfbffbihgidfefcbihhiehgiefeghbdgjhekhccdgeidcedfdjhjjhcidjedjbdbbjchbfhchfdfjbffbjchhcihjckcbhebcgkbddkefjgfjibbgdikhbfefkdjfikhicjggfgkfbddkejbgkiiijiehgddekkhbkhihegfeighkeicdfjjeghjhhffiiecdfhkjbdhdffjgjhkjegchcfbicdbdeicijehebfbhkjcdkebbkfhhjfiegegkjjfhhdegecidefckgccjgjkgghbcbkfdjcchebehceeibjdbjgdhekdbigikefcgbkkedfedigikgifbdiggkgiffhgkekbgjfgcjidgcibfgkbidihcicehijfebbiecddefbedijkegidjkgdkigjdebjdcicbjhebdighdikjgddddckhckiikedcfhebchfgjgjeekkcbkkdibcidkhejdhddgcbkhkhjidgdjgcdbkikkhicbjiiecdkhjdkdidgkcikbbckfhgbiicdeidjbbjigckhfdffjheggbcikdehehjdgjhcdicjjhiikjdkkfggddjigbdcggigcjbcfegefjdggjfikgbcfcecihifcgedfhehhhfcfdbhghebehkhhcgfgdidgfjiijdiecdgbjgcjgjkidfjeijikckghcfffchfkkbhjkikiefefdkjkkiedffichjjffehehejhjcdbjjhhgkggfghjibggicghjkefifjgiikdcdhkeegdjcfcfhjddgifhchkhdffhcbdjkgbjjkiibjhbkkhhciibejeijdcdfggfdjdjkcdbkfbdkgekgdchhfhkceekjdbkfifkedbddfbcgghdjdcdckeibhhfgedkhjchibehbkeeckbhdkikdijihdkbdkchkchhjhcifebdhhghbieifjdgebfihfjckjbhjjcciihedhibighdkdfbgcgkhcebijhkcjcfgidccdiijjkifbjjfcebcbijfkehcdcgkjfkjhiidbjdchchgijggihjjfbjgkkfhdbkciikfkihedhbejgkgieebjhfjjbchgjdkfhehkfcdikbdcefcbdkffikjjkbeihgfbcbiiiiehefdbeejedbibfjeidbjkghhdcjdcgehdkhkhhgcjgeikbhjghgkbbjhgfbfdjgjfkihfkhkeckickjbkkcfigckebikkcggcihbjicefieiidjkhcgjhegccffdfcjbjcbcedhhbgdjeccgdkjeegfjbgcjbjdcegfffjghcficdgbkdcchkghcfbkbdibkfkhbibbggegegiidkkkedekicibckjdjcbijcjbkdicbkhkcbkkdgccbigbihidkccdgihjgbbgjgffihjbkcghihdfgbgifgigeifceggehdeedeehkegbbchdkjkcjkbckkbbjgibbgijjgcbgegigjfkjcecchdgbecjbichdkgideceecejdgjkbgfgdieibejhehgkhhhbdehfbfjbhebhfeikdfdkcgjbjcfcjfjjijdhjfifcfjkjjjhkkjfdbfhgjggjbdcdffchddbcjihchebgcjgidgefbibcdjfbfdheifgdkckhbjhfjgdjejjfbfgdbckhikkejkjhkfbbjdbhcjbdgjbgdbdfgbcdiihdgikdbiekjiiigcjecfkfgjhicgghbdddigjfecdkjhiegkkkcgekbbkieifdihbfgikfgbeddkhhkbkcdicgbigjffddjgcjchhfhbfckbcigjjfidkeikifhccdhkikcdikdefhkcgieikihhbcbfbdbcekhfjjickedigfhibcgbcfcjfbddfihfciejefhjkfikbcehegbfihccdidfeekjbegiickcdfidkigckigjedbikfhkcbhjdhfjhhbchjjeiejeccijefejghfbjjdjkekjhgdcbkechjebddgdjgkbkebhehcichffgjkejeckfhifhchkfhbcjcjhjhfhjhkhekiiicgfkihkjieibdhebekjchebgbfigkhhbccbbchhbijckgejjdcebdgddfbkkjgcfgjcjediikhhgehfffidiibgikhbedhjgefechekgbjdghfkddhkkfdckckghdjgffdkdcjfcgbehkfddefkcihjekkhhdefigdihbkdbijjchjhigfggbgkhhfddeeihiifgghicedjgfeffbejgdhddjiikbbkkgijechffidkbhdcidckdggchhkkebjkkkjjbddhfjcfjjcchdkibkkgebffhedcgkdbgecigjhfgedcicjdgicfgekcfjfibikgjkidfdfjeefcibhjefciighdfdcdkikbihjcjehkjedbehckeihgcceggbhjdjebgcjjdhjkhejdkfdefhihdifdbfkhfeicdkjebbcbgdhbiekfeibkkbbkhiijfeejibhheciiiebcjffbddeidgjefjdhggkkijfeikdhbcgkddbdbcfbjckhfgckcifdkfhdebgdbfceigdkkighdbcbhbfkckhjfgehfkdfkdchcibekgffjgejijjibhkfdbhciihhdcdigckechegcfkfdihcjigdbgdhdjechfeffejbkikckgejicehfjhgfgkfcbcccidfffcgeffkjhcfcfebjkiegkcebgfdkchdccgchbbddbhhikdcgefgjbbgdchbgbkbfdfkiigkkfjgjceejibcjfjiejbjeebffefdegfkhdhkjeiifcekdijkhkikkedhbgedcijekkhkhbebffdikgjicedhcbbgicfcidhhckfgkehgcbkfihkbbfbccibdjijjkbgbfdhhkeifjkhfgckhidhhejhibkkbkhfccbiddjcfgkgiecddcgjbeicddegkhghkcdgiceigiiicjbjdbjjfdeijhghgebeckkeccdkfibefdbkejkgicffjgbjbbfbefbidfjgkgeegdfbjjfjekchfbedifegeekjeihhjhfjbcdcedckjhjjegkjddjkkccgikhbhgefjhidfgijikehdkjjjijhgckcfdidcgfdfjhikchjeedckdfgjikfeicffjdehcbhdcefbggbkjcdkbibebkiccbghbkdgfhfjkhehhgbcbichfifgegdjkidjhdbcckbedgbhiijbkhkgjhibbgcgeddgfijdibbkbfjibkcdgibbfcidgbbbdikjgjibegchkgjbcgecjgbfchhjefefgeegigjcjbcjcfcceehjeegdhciegbicccjhbkbeefgjeibfkbgckigdcdcjedkgkgjjeeddkjfdfeficefccfikhiigfhfdehcfjfhijkjkddcbeeidkcdkkegdfcdedgchikjgdbjghkkgjiididjdddiibfkdjejdkdbbkddjcjdbikegicbfidgedkfgcjcgikbbhbebifgjfjhffbbdejhcdjfbjkkidieejddcdfikcefdifhcgdidcjjhkbgkcjjddfjijgekgdcgkhcjffiddghigecccecgcdcdiigidbfhbdgdihfddfhecgkehijbjeggigkcgfidfkbhdkgjgebfjickhdhfbjgfdgdeiikcbbfjbgifdifbibeffjecjbfggkjedbehkibigfjkifcgfckhgfbcheijhfihfhdcdbhghfkfbeffgefejhgkgccechhjikhkfheijbbjkdghkjfkfbccebikfibeggiighehhikkibefcfhekhighebkdbiibfijgdgbcffbckfcdjcchdkifdeehddbeiefegfjejkbidgihdiickgkkcckkekjdkfgekijgghdhgbkckjcccfdheeidkekeekciihdgkejbkebjkjckhcecbghigfghbkchkcdkfbbdhhgjfddbibhhebejjgcehbccghefkcfbiikkkbigiiidefdcgigghcjkcggcbcihbjeegbeikijbgjbbfbkkicbcicdghcfbkgcdghkjhihhihfegejbkeedieejhdgjfeeedgdhghbfhkkchjjedecgfbbecbikefcfbigbdgcejdbkchcjcbekeeekkjifdjdjkedkhkcgigjgcjgibijbfbkbggbdkidbfccdjfgcjchbhchdbccgchhigebfhhgdfbcijgdgcfceekdgficgefjcjfkgedjddjibfkhbbbcfcjbcikkjkgjeigbgihbfdgecifbehgjcbkbhfhhedbbchdkkjjcjbjbbhjcgigkficicgjecdegfcgjghkieigcifcidjdbbdgibcfhekgckgcdjcckefcdfhkbgeihfdckebjcgcfbgfiibidjdghibihihdfhggkfeggbkchkidggihfhchjkhgkchgbgcebebfiieceidgkbfifegkfkbcjibjhgcbidfceggbgfcefjbjckkfckekjjefbccfkdjiiecbfjbkcbcbfbibfjgijecffjfjkeibgdejidjkeciiikcijbebjbfbfjjickhgjiefgjbejhcdccjhficegkhfhbjekekkghicckdhkkhikhefkikibhikdigfckjchdghbieeiiibkdehefbjbicekbfjkjjcdikedfcdfbfbchedbjjckjkbehjckjbfgfikcghbbfjddcgchejddifgkeechfggcefcgcccidkbkdfjfdbkcckgfdbjejehdfiijbkfjcikgbhbbficdjgihkhkffkdcekbfdkbddcbejkfhcfijfkffcfekggeedbidhcjjhbikfhiffkcbbhbdegkjkkfgfeigieebiecgckikjddgihhehhkeddcgccijgchddjhdkceebjfkiffjeffcdehkcehgdicbdgcebdedfcfciekjfhickkjkbbheccdbkfidjkjhfgfggjdkgeihbgfbjbkiiefcikhbcjcbbgjhcfhkkfffehidjcbkegcbhgeekgdjckfghkcddgcfbkkehejichfkcbfdcjfcgbdkhigigfideckcbjdiffgcbdbfgcbhgbicekifcfeeejjbkdfbgjjbfjbcicfjceehgkkceiiibjgfbgekfichdejhhgjichbgeceffhgcjbbcjdfjeebhhifcceedhbcdibfgejfkegjekigjkiehffijgiekbcficjefbkfkgcjickcgcbfgebeekijbgibfcdhifgeijhikgfjkjjgidhkfggbffjkdhdfbjkffbbjeggbibkjifebcjcggbgkkhbijijefbghdkcfcdkihggkkdbddicibkdjckhedcecddgjkefiibkeckegkcjdbbjgiccidiidkbgcggifdedjkgckffiefhhgeddigkbdegffgbgjckefghhgbjdfkdfkdhfcbehcdifheejgcbhfebdegkjbcffhgfgcgddjefffjbcfcfgfkhchhehcfghhjdjkhkdgccjkfihggkicgjicihkiedecdieddkbbbeeecbcbkjjcccejehbhieihhkhfiehcjddjccdcbgjkifffcejdedgcjbgeedbbickkghggdhcjeiigfbfeefihghcifckgfkfjhcfkhdfijdfdcegbcjkegdighkiccfjfihfiibjbchjbgecihgihdikhkiijgchigejekfheikdfejibeihjfehhgkkkcgbjfhfdkfihbdffgfjcjbbchcfbbejehijeecjgejkibhkjfgcjeijejegbhjigdgeecjfdgfckkbkcbhfehicbhfiehdjjfgbfkhhdgecfbdghiegjgcbijhffbjgbchehfdbbkjdfkkdcihfdfbjdegdicbegchhibgjgjkfhccgjbbgfcfgjeicjijgkifgfihcbfjjjiekcbheegecebeigeejegcijgfddkefihgjfgebkdjddffhhkcdcfddddjjdkbbcijiciceeckcgcheeiifbcheghkcefkeffhkdkgffdkhjddichcfefkckkbjjbbbedhgfcgkbhgdgigebejicfjjceighbickgbcghebgfibbjjehckcfeekdfdjjedjfejfdecbebjibidfbjficefbbfhicekkehkedcdfbbccfhiffihfkjjjkbfjifjchdfjdbkgdeebckbidbhichjcbkdfjkjkkhikhbfdijkjfeebgibidhhkkjfhdfggjbigdbhebfdcchgfegehjhkjecbfejhebdjidjegkickiecbefekekhjhceihdjgkikbccfbddiffcjdeibbijijdefggkjibhibekckiihdifkikekdkbfgkccegbdckdfffcbehhcihdbdccgehdghffhbhjhfdcdihkdjhjhffgjkibdededjkfjdicfjcikejjedekihhcghebbebkcjbgkckkbfhjijeijgkdigffffigbdghigiejbeheigbfdecbiidfjfebifkjiidfhdgchjikejgjfgegkifbchjkjjjeckihhhihgddihifhhfcfgkbjkgjcibfdkdbgjfgfcfgcggghefiecbefbbkgdhkkkibjkhkhggjffdkgkgcekfeghgjjfhgbkdkcchbijehckdfebdkifbdfkfhbbgedcihiijkihgegejfcfgjcbfhckgghkbdkdbkgidkicdfckgfkdficejehfdecedgggfgkbefiikdggjgjfbdkhdefbfcbhgdcbeijdcfcfkfbkbhggkjejecjbkbfdjcbjekfedicdejkfkeghehcfgfbhfdcdejhfebbechhkhkfchbgkhjdhkhhhcgfjidhcbhcbchgckghbjefikkiegfijidiijebcgjfehiiidddjbchckfcckjhkkhkkdchgiejchbeijhheffdhcgegkbbdgedcgkbcidhkdidefbdefgejkhbdihkkigkfjkbjebdkechjkgedejgekdjdfdhjdhdhjbbffkdjdkfigjbechigkbkigihefbdhjjbkjbckgdkibggghifdcbbdhijedgegdkcbchhdbfdhfdcecfhchcfdibhdkckghkkbbiebgjcikikicdcigdhcbbkkfbgkiebjkbdjdgbfdehjbcijifkekjegffecgeikfgijefihbdidbidjhihhfecjjcibfcbcdhjhbjeifciifbfjjcfjdjchgehhjjbggkecegfekehjjkjfkcjfjkfcejgdbgkgjjggjjghhefbhfgffceifkjgedbfjfhjcggidkfbbgkdkkichibcihkghfjggddffhcibkifcghgifbhgehfhdjfggeeibgeefkkifgbcbfjgbdkfbfieijcdjcigdhdjhbediekhgefdgjbcbededdecebkjdbfcikifffdkfcbdhcbghdfhjihdjgeehgeeijgkbjejhijdkifgkddggdddikjcchgfkdgdehggdidiiddfiifhiibkghjkikfebhgijfbjdcbfhdhjgjehcjkejfkdeecgjfhdebeiidfcddhjbihjekkgijgfickficdkcbbiceekkdkfdebejgghkckbedkigegdbjccdejeiigkbfebfhfcidcekfbhjgjfcgkeecdbhgfbkcggkdbihfgifiiheghediehkfhfcdcgceihdeehcjfgkcjfdjedkifeidkhibcgicdgeifhjgecfckcbfehhijkcgjdckcefkgjiejcjhicdcjdhikebdkijdhjccceggegkjddcgggebgdkcjiddkgiibefccjjhkkeggdchkdcgjigbddcceibhkeeefdghjbeidhhkccfhjfifefhjbbgfeeeehdekdgeckbhebjjcikhkehjjiejekfcfhbbefkkhbhdehigckkhcebkhbgfkhfgijbeigbhdbgdbekfkjdiefdkhfegbkecedgihgckbejbbbgkkfihgkcbebfjjhdbgghjihhefhifhgfbgkebbdbfghgkfcdbhgehdgkgjhjijedffhjbkjccbdfhehchjgdckhheejjhcbhdkidhhjdkiifhgfcchedbcihigfdcfhceekdhkfehgkcbhfgcdijbkfbhhifkdjbhdkjibkeekhiiccefjcbekihheekbjkihgdjhgkbibcgjeejdehiichfdjbjhhdjgebdjjehfifigkbccikkbbfjfhdcekfkbfkdigffdkehegjjjfjficchjbefjegbigdkgkkickgfhffhibjidjhccgbigekeecidjiekgehcfehdkcgjfkcdedicjcefcefjifjiccbgegiffciieihkfgideddidgibgifcdkffdgigkjjdcediebjfifgcfijkibidijdkhjiickkbghkffcjddhjbdcdebefggbhjiekbcbbfibfdigdgkfghfheekfdbdfhfedhbbjbfddkjjfgbhiddbejghfecbfkkgfbghdckhdgbedgdbhjbbfcideehfcbfifckgccijdefiiebbdcekkbgjfjcfhfhijecciiddhjchehcebggdfffekikicikcdddhbdeejgfgfhcdfckdehjjjfcihbkikibjbifdecfihcjjkhjgehkhhgjggekgcejhcieiejiibdfgcbgkcehbccjccekicfghjghhgehkhkjekcgegdceffjckibgbjkbdiigfcbeefiiekbjdjhjgdgbdedhdggfgbckfikbcfkeieickcfcccjdjccbjcdjhghkedkfbbjcbggcjfifdfhhhfdcihfejgbicccfhkdideegidcccigbkedigjkegegcckbcheihfddbfikjfhbcfkgkgbegdkhdcfkcfkjgjchcckdhbckhfbigkjchdcdcjfkeikhebjbfhhccgjfjbbkejfdkjcfbjgbccjhdcjbeccdcbejefheidefbjchdbkghhhdecheiigcejcdjccfgbeiedfcggbhgejbhcjicdhhgdkfkieghdecbhjdekdfhegeechfbfhijgbbffdjfbggbbhifdfjhgfddicjgiidecfijdhhdikfcdfhkhkdhkdcbhbfickkfdfhhcgbgjhgkbfffkibbbegjfibekhgecgeejjffckfbcbcgebgfdhikeidbhfjfcehggiecbejjeggfideehhcidkhcfjjbihidfffdbhjdjcikjeckhcibggeiedekeefbbbhjcjedhhbfegbbbcbhegjhcccfdefhhjikcbjfbhfhhchiefeciekcechdgfbfcidbdhbcigkifkkchghefibjgidhgfjhkekjdjkihebdchdcdbkkbfbbfkcjibhihhjdececghdjceidehihikbbjfkbbhkkjihhjfjkdbdhijhikbhjhdgfjefhikcfgeceeejfiihcchcdebhfdffebhdhfejdjhckdckfkiekehkjecfcciigbcfkhekifecbkegkccccbgchiddcgfdfbfecdckdbgghikhgchcchkhkckkfjfkfhfhgdeieggibgkhgjkfejfgheifgcjihjiiekehcckekfhkbegcdeifjfcgbgcedijehckcighegjfkjhcfekbgkbdgkdegbcfgchjgjjikfgjcbbjbhfbjfjbffjjhefhkgbcjckkkjbdjjdcdkebfeeeekgkgbkijgfdhddeceicjchcdjbikefejjcbcbekdgkkekceckkbbbigecbbcfghhjiibibhicicdiceeecbehcdfkhbdgifideihbfdefdbdiebjkfgccikgkgceccgdehggdicdbijdhkccbcdfggjkecfffjkdbkebbebhfhkhidhheegfdehjjjiceffjheddebhfiikdhiecijbdjdcbkibfcjdjhccifhfdkchfihjidjbcekggjjebhhffhhkghdijhehbidfjhdkbfhfjkfejiekkhkkibdkcehbjfhcedidkjegfjfbjcgdbcgbbejggkbhgcjicfbdffdbjdhgggdhcebedjkcgeeceekdfegggdcjegbehjckdbikffiddcjgiheikeegbjdedbjcbeefdbhjhjddeikfkgicfedgbjdejhcfdbfbbehddgcgkhiijibgjfkfjegigffbejbfbicigfbdijffjfbdjeccjbjgegfcjibhicccihkeihfiebkfigfghddbjkcjehekhkiekgidifiiehciidfgejgkgfkddebhbibeeggbkfeheihgcbkdhejhcjbeekccgeheieichheihccjhbkkiijfifjgjecjbejehbjckggdehjidecbbjfefebbiijgeffekbbkfkjidfbhgbbkdbicechidkekdcefegdchkcjdfkcjedcgcbbgkbhhbbgbjhbkcffebibcfbbdhgcibjhjgdgifhibkgieceehffdjchbbeedgbhhhijgfbbgbdbhjghcddejfhcfbhchbjjefhhkgeckedgbdekcehfichkdbdjjkfffkbfdfjeiehgfckfjgfjejfdchibkbfgbkgghddgcjhficdffdekicfgbchdhkjdebiggkdkekjgifdicebbehcdcckbdffbjficcgkjcfkkehhcdgceikifehkfbfckbihhffggefdfkigffjeekbifebgihfifdjigghjkjegkbghiebjggkgfdhbcdddefkhgdgjbighkbibehjibfjfkfikjdcbfhddbfdgbdjhcbbceiedhdfeebhhfjcgdcbdidcigebfjbeihihbbddhegbjdhjkddfdgibbkgkckdecehkcdehcbccdjhbfggghbegbjfikghfgfijkejcfcjgchifgffdeigcfjdfifbbggcbjgcekcigfjkkeefjkchdgdfkgghkkbhbifkgidgkbhdkijgdkicchebbhkhiiecfbhkjhkigdfdcdjhbgfjigcfhdkfgecbbkckcdkgeekfijgiekcccjiggidckcekcdfcfjkjhebkjdhheifdbjiikgbhjeibehikhkdeckdgkgighebdfecekcbdbfbgffjehdkejhjkbfbbkbgiebdgeikibdjcghhkcfgikkbdfkifidckjdkjehjdkichbkidibddkjdifbgdbecbjdkiefcbdbdbjejbdehfjiidjkdcjichcjbbchbeegijbcbjdkddkehjghjgjcjcjdjjiekdieihjgdcdceiichddceeegfeehedehkkgkffcggegcedhejhdkdfbjghkjghigicjfkgidcjdheidfifegjkffijdgffkhbkcchificfhdedchcghicckibbikdjccgfhkkkhbgihgckcdjgcihkbhjcidejcfdbdhehifhigbkihdhfjkejfbfkfgikifjkeggehhjbdffcecdhbigfkjdcgjekejffjbfchfdhcgckikcedhgfhhdcjdjhgjehkjihkehfjbbcdihkiiecfiebidbhcebebhiifbikdeeckkjbhciifjhkfkhgcckgdkkjkfjfffcjhgiifkgfjiikifbjbbihcbjhdeghdicejcbbheeffgcbgkkfhgifkefhijhdjkfccehfhhjecdgijgjhcecfigificebciffgijegibgfhhgfhbhehhgbhhgbgfjcihhbchcjbgkgkkgibfhkfcdffigcjjddkdehejcibfhfbjbjkhfjhgicbbgedbdgkchehgdejgdiggchjecfbefbjhcijhighdcbbbbgiijfkikecgghkejdebfdjhfjfcegkbgibbdibbhhjdfdibdhdjhjfbgjkdhdgcjehejhjkgebbeedikhjgikcbcgdcgbfcjdcjjidedjgcehefdcjdkbffcigkdkicgigjikcifgkbdjkigihgfcbgjjijhciefkdkbfjihkihefjkdicgkkjdbeikifihgbhgfhdkgigbcfgkeifbghbfdjhjeidfcjehbfhdhbkceiejbjhjbifbkibjbihfggibghjfkgdhkidcdidhfkgibdcebchjigbfbgbchehjdkikbeffhjfgidhdedcgggckhdedghhhkkhkkdkekbbjffdhjghhdbiedihegfjdkjjcjjdkijkcfjjbkejjdichhbhbejikgicgjfbfbegcfcggbghkjjbghebjggegkbcgbekefjeegdkhhhjhhgdfbkjjjkeeidgkddgiikjjhikbedhcfhfcfhjjkdcdgiibgkkkjkbdfghkhbjeeigbbgchejghjdcdffdjekcgfghfcgfdbjfghgekibddejhbhhhghbbdjjchkdcgdbidhifdhjgdebgkjkibgjheefdiifiifbghcgejjcciiibbcijbibgffffkfbhhiecfdfcbijgichfcgdkidfebhgckkbihgbhjecefjiejdijiefijbhkikghbdkiheekdbkekkichfebcicjkgkhdjgiedhfgebgkihgbjfjkdhdcjgkhdhheeedeekcibhjiiehccbdgkfghidfjkbccibbcggifcfbdjecgfcffhbbbhcjjkhfejhhcdbdiejjheffkhfeidhkhbccjfgecidekjgjidhjgfedhjbjbgejjgbckejkfcfdhffbbijkjhkkjjccckgdgjidbejjdibbbbkhfeejkfkfeicbegbdbdbkbicbjgihbjjcbfchdihekgcbbfjgcikbiebeekihcbgfdkjgkhhjhdfdchijhfdegefdcebdjjkgdgfigfejeigeddcbhbhkcfecfefhfkkdbbcdbkdbkhidggjiejgjdjihdijecdbfddehgkjiedgikibjffbekdgehcgjdkbceeggfidgeicfbfgcidedcgbcfkgghhhbcjbdgbickikggjijgkdkjgbgghjkedeegiijdddbbdjegkbgdjcfgighfbihegbedbdkeihdehibdgggeicfbfhchkbgdbjgebgdgghiefeiehhjfebeejfhkgecbjdkehbgfbgjhecdhbdihjjhhigbfhkebcckkbkbejcdjddcdefibhcgehbcfbbibedjdfcbkddhddfhedcfibefkcceecgbbffehgeghjkeggigijhdfcghjkkfkbkkjghjbjhkdkibbkjkghcbjfbkfjbhhkcdfhkfddbicgcgbfcjhedchegckbgjjkdebfffidkeeiegicdhbhfegejjkfegejhdkcfcjkcjkiibbhjjgjcfbkiecbjfcecgbebibbbidibeefbekjkgcbbhdggcgkigeckdhjkgbdeefhjegdbbdkdfdidgkhgckkdeckhchdcbeejdbeffjibgcbbcijificdggcjhficfiejchbeejegjdigigigkcdjiigcgcfgiijdjeikeddikjihbdbjjkkkjkeicejigfjjbbcghkhckcejifjdieeghhhjdbekhkbhfkdcejeiijfccbjkggckgbiicgcgbfjfjhghbcidkhjcehhhcccidgbbfgjfjekbjhigdddcbccdcefdcgbccijkdgfjcffbbcbdhbkdbhhhjhgekgkhekgfjfekhkdjiedggfjbiifjjjgbkdbhfddgebfjdggcdciegkhcciihbciddgiedfihkfddbjckdbiidefddfekibgegjhdckdeigkdcdckbhbhgkehhgkbhgjcegdcchbcdfhjhihiceghchieeeheekehkbbkekffdfbgjeeikhjidfjfkfdbcfjfgifgkjhhbkgcihfdbfkgcgjgcegcefjhjjehkfdkigdhhfcbebidicckedecdeiiiigidgbjccibkjihhdgcjgcgeggbhebdjcgdkjhbdhgigkhbekibhbjhgediekifhiiejkhfecchdkkjdbcibffjbcggjbecgkjkbjcgchkedcjeghjgjjjeficidgcifgcgkdffcbcejdkhikcfkjbbicbjihdfjdifckheiejcdggkbfbgdbkhiiebijcjkkhcidehjbihfiebekdeeebhdgjcjfkjchfjhdbdkfcegbeibbkhiebjjjiikbjggekfkdddbkjeddddehdkfdbegkgkckhbcdkicfdjhidgcfhhjiidccbefjkkekghfiedjkceejkjkgdeeiigdhfckiehhekiddjibkchbcigjfcifjkejjbdckiigfedjgjjdjchchjhfikbcicjkcfbdcghfcfkgdcbkfhhdfckggfkkihfbjfgijcggbgiffkdkbjiebgjjkeifkfgfgbkcbbjjfgbkbgeikjekgcgiifecbeeiikbjghhkihigkfddigbjdhidijfkdcekhfkiikibefgefhjgjfbfhfejegkededhiggccechddeigibcijbdfcjefekkheidhfdcebiihgiejkgkdiefeidbkgckdkfcbcbihbgdidhbejhkkghfjdbfkibkejfhickcbgdhbfeicfdjdkdfdbdjgickkgeecjgdfkegjgkifcihhjkfjiddbgbhihgehbcjgifjkcebhhcbhbjegdgfhggibjehcbhghhgjihjhjdcbhifgkiebdehcbjfgeickiefdbjdbibgbjejbbheggdbbjkdjikffjcicijbdcgbjhbgkedfjbgbhehgiihfchjefcefefjkfgecdbbgkgbcijbbhibegihgfccdkiiejgifdjgbecbhhcfefkeehjefifbdejbkjjkkckbbfgkifikeijdbceggfhggfjhifiikkdjeckhefhefihickiijckdkehebicickegkkjijjfiekdgigciekejcgccfibedkbkefifijdhfhgibgdfikfbjicgcgigbcckhgkegecidiiecbdfkhjidfgdecbiihcdcgegkegddfbfcigieekgfdfefkdbbdjccfbiighgcbdccegjbfbjcdhcehdehdkkjjfkibccihfijkhcchgjggdfidedjjghggichibjbijfgecfgiicjcbfbhjbgbjiefecedjchbgckgkbfiehhbhjgdjigbhbdgikecjkhbdcfhhbecifbjcggkgijcfdhjhbgiigdghiikjegebbdjdeedddcghcbjgcbjikggdkkhefkgibkbdkccbhihbhhkehidhgifecbfhchjihickbkkbfgijhbhhgkfjdhgdkedijkfbjfdhjhchhbcgchhhcbhckcchhdbjfjjehfigkdhkdhcfiiebhgjhieekjfhbkikihdfgiicdbcbdjjbkikcfdgffihjfkkegfbbkkcjbffddgcckfjifeikfkgfbhhfdhbkiifdjdjfeefigkcfbbjejfcfgiicfbfkeigjegfchecfgbjikdgkicikfeehigedbiedhjhdefkeggdikhjhfkcjbjfbgkdehfefeiggcghdkbfjifcjdjhijicbfjigbfibcjekhbiejhegkcefeeheidedkeidghhikebfbeegjkkdikhececidjhfchhigkkehhgkegcegjkibidfibhhjdbkcbdfcchjhihcccbejhidfkeedbedhkhbffgbedhgjigeebeekdgdjedhfkkfbhdidigjidhffgjbkbbfjefgkjidjgbgfdgcciebddegiggiddfjkjkcffjchcfdkdjghjdkcjcggbkekkkiiegghdbhfgffffgigkcfghecfgfebfhbchcgchjcihjjfkhefjfchieifgijegbecjeikfdkkdddbfhcjdddjhgiffdkigciiffcfjjfkichfedhbkjhifffkjjhhbeihifhbcgbkhckfbbhjfjfbbbdbbbkjhdjhjbegkghdeekkkficbffjkgfdbfejhhhjigceibdigfickgkhhkfcgfgbcddccikcgedcfjjjiechhckdjggdhgkdgigcjghckhfjgbdbheeddjfkckkdfhegehjbibjbggbdcdbkcbdhgjhcgkjdjiibdigkdhgbhffhbkkfbkkhbifdghbkcgedfcckkkdckgkicjihdfjjbefhkbgihgkdhjbeigffcdgkijefdcidfdjigiegefjjbhdidbicfcfkejjdkgedibjegjhffkdhhejebhigjdgkbkcikkhiehdccefjfjckebkfcchjddfikbbkggdifgkjgihehbjhikkbiekkgbcgbfcjjfgjjegcjbghdckbfidekfjefhhicgbeddbcedjhbefgckfibkkebgkfcgckfchdcidkgfkjbkkeebjjigigcbjeegdhkdjccfdcehdjecedcghegkgkfcfcjekbjdcdcecgjkifcdjkjdgefcfkccdhebjeieggdgjjgbfbieggbekjdegjiiidcefdgfhiehekccccbcecgicidekhjcckggggcdgeihjehkdkckjkbighgcbdikgcjceegbececgbckcbkghcckbfdfdbebciikkdkhfidgjhdeddgghgijheghgddgdbiehbkcgbjbkihkgegcgjchbkhfhjhhcbdbckgfgcjjcfkfikdjkdeikeekdeddchgdbieghbceedgccbkhggcjgiegkgehjcdjheiegjfgccgbjehbbejjcdgkkhjdggjhfjfjddbjicdcebkceefjjfdggikkefffbdhhhdcedebfhejjfidfffbgghhbeidbdkefbkhfhibebjjdkehkjhecdkcbkcgiegjbhkkbedgkfdiihcjkfcdbhfcgdccifbkbekkhihhckfjbcbjkidciheckgjffcfhebhkhbkdkbhdidcfgfebckcgbefickkddjidkeeiifikjfieeeefdedkhghiifgfiihicifcdfbfddcfjkccefefekihfkfjbfjjhebieccgdbdfkgcckehdkcjdiedccjkckjdihgchfckgijckhikhifgeeedfkkghfbgchfchbkkjgcckjjjcefcihijkgifbecejciffjhgedkigidjedeifddhekehjfjdhhbjkfibkjhcckeedecdjjkbkigfdcegbbefjchdgkhbjbjcbhgbhgdciifcifhhdchhkfcjddcfgdkjkckcbffiekkhddcgdcjefgicecegbgfjigdfkdhgiigejjdjfddfidkeejhbccjehcebjhkgejfdjehhdhfcfefhfffcfbcefhdfiecdfhfbhbgjfbbdchkcdifjdjdiefffccicbkdebcgijkfbjbbkhejbcecdgejkbceckccccedkgjccdjcjecdfdfeefihfdcijijkbffhkfcbekcdikcheefkigcfifdehgfjhdhicbjffkfejcgigkdcfidgfehdeihcijbjgkhjehjkcjbhgfgejjfeifjhdiedghdbhdeidbkhcficjeckcgifbheddhhjfhedhkciegigckbffjfhgjeifeeejeeghhidejgceddcjhjjbhekggihkhjjgkkfkihjfkdjcdgfcejifjjbcjdghifechkbkgbeddicifkhigeikkcfifgikbcchjhgkbifkjifikbjidddbfbbkedhcckkggigekhgfifegibgjiddfbgdeidfdhbecgggeeddekheedcchgfckghigidciggfhhbeggkgfehbgffeekeeckckcjdeehdefcfgekejdbgkijkgiegddkdihfkhkcebigjgceidebhjbdfcfddjfhgddkhgjkbikdeibfhcecegfdihcfigkhjfdfddhhbhjdgfkkgdiifbcbbfdgeiiekfkkfikccdecdheiegbhcjcfjfhfehefddkbbjgfbchehgbjigbifjkfbjkkedgecbbgjfbdegkecjebbgkkfehkckggigchbceefeecfcidibfhjgheechjehkgfgeebjgebeghifegeffcgdjfjejkkggeidjghkeedbgbhcgfhkfijfiegggcgijfebikekhjkkhdkdfcbeijhgeikigcckeiebidjidijcgccdjjdcfibihcifdfejgchiccfecddgicfjcccdigdggceiihehdjhkjgdgbehkieikfjcggeighheggiebfjfhjdfcbifiekebkefjhfbfhhiibhgijdhbfegfgkcchihibbkbjkebhcejceciicekcgjhdkgdbhijbhkbkhkgkdfjcjgckeddhdhjbdffihbfkfbdfbbccfbgihbjigkjihkhhhgighhdbkifjbhjjeeehfghcigdfiigchbehhgkcgdkecjhbgkdefikckfhekgcieibhfdjidfgffebjgkkfcgkgikjgkhcibeebgccikjkkhjfhigikfeikkjghefikhigkbdkjegjiffjgggjebccegfgegjbhieefdjdkdddfkehjefdbihfegfekjcjdckbigedhfikdjhjjghgifjgkibchgjdigkebecjhfdccbgijejkfikdfhdecidcififdfdcfgeigdbckgjgckigdhkhigdbkbbdeijbbidhfgebcgijehcbcbccbhddfjdjibgedkidedbbjbhebhedbiikkfbbceegdbbdhcjkkccfjeiceickjbgkckidfdgkeidhgkfhhgihdeegbkdkgggijjgkkekdgedfhibeciebffcfedgciccfegdehjfjiifhhifccdhckcdegkfbeefedkhhcieijjhhkjcfkegcjiibcjiffhbgiihgdcdijkidgcefgcgeheefgjkgdhbdbdcfffdbhjejhcgdeidjibkbgfehjjfgiehjgkikhddfececfbbhjjkhihdcfcdhfcbcjijdgbgjhdckbbkffiihhggkjbefhccjiejhhkhhbfedifkhhjgjgegfhgfkcjfbedkigcdkgkkihhfefjbgciidddbdgeegefdheejjihccihcggjhgjhfbcikhjffjjehhkkdhccfbieekkhjhcibbfggkcegfgcghiijiijddbjejefcjejghihbbhjbfcdkccegdhbkdbbgfigkfhhegijbjddkekdbfgkcjkddfcbfcddkgbhfckdbchijfgcbigbcefffdiefbkkffidcieeekehfhbgfchkgikggbjcgbhfhgijihhdkbbdbhdkhkkhdgcgehkhbckfbjbgghedfbdckcdbjkckfejddkhejfdjffchjdddddkkbdihcegfiekfbhjkifhdkidbihbhbibfdbbhcckfcdkeicjfcgjdgidkbfgjfiiecegjfhiechgccgecikeccidbechkiihbikjbdjbbbkijdiegdbhhdfhcbbeggjdcjeejfgkjciifjdheedhdhhdegjidbdffgikedhkhkchjddbjcjjefcjdececbdjfibggifdcbckiffccgfcjdfcfcifbbhghigbichebdbfkceghkekdhfchbijhigcfkcehjidkhidbkgiihdfgdhiehijebffeeehifhhgkdhfhggfhgbfbjcgccdeceffdkecgkgjiieefjiijbfkchcgfbceekgehgdffchfeeifhccfbffdgcgjedggkjdbbicbccikbhkfjbgicecfdhjicfdcckceeeeeibgbgbbdijhcjjekbkdcedeehdbcdehgkbgcgcehfkkfiggieegkiijejcfjgfdjcehheghhbceihjhgbcefjfcbijdiikfjekiigicciihkhgdkkegihcfhkgikbffighbjddfkdefjbhgccdbgbhgiccfjhdijieieikcdjcggdggihfghefdidbddkdgcdkffjikghgegheidiidhgeffihdfbgeegbccgggkjdgedhkikgbcecikdedhdbghehbhgcckfjfibjhgdbkgcbiffdebggjfgkfiigicgehckhdhhieekbhbdikibfjbhefdifbifgdigijjgghdkhhkfbiggeikbgihjgefiijgkgbjgdcbhifbfdhhjkgcjkhjckghhgjkghfeecgcjhckfhbfchccgfbdigkjjekbdjcehikbeffdfhkcbghegeegkegbhdhghjifjbhejkcbcckcecighdecccdefgdedkffdhbbbfbiiekgbggdbghkbididiggjhiidhjchdebhhdfccddibkcbhbhgcicjkjjjgdckeiffcdkbefdkkkijdedcfbkhbekkfieddjhekifejjifcckigifhcchedcgfddigdefhibjiijkkbjejdiihcjgdcdbfekcgcjgckfjhifkchfhifdfeehjbfdfddhcjfeffbbhfdcedfkkkkeicgkjeichgckfgkdfehgkiechggefcfkdhgeeikdkehkiekkekijdgigcdgjfhkehchjdjckckgjddbkddccgfgfjbgeihjheecfjejkbbgdckckbefdfkcibefbbfcijhhcjkfehgbhgcgbfjifdgedbfjkjibfhicikggcehjkihgkcebjdkegkfjjjgcjcjceghhbkjdjfdcckjkijgihkjcdbkgihjdfeekbdbbjijbjjefggcgkjecdefbgbegjfbicebgdjigjbhibfigkfdeebbkcfjfbjijkkkbjdbejbcjkkhhjkfkbdjfjgfickhfefhddkeiibkdigcjeekhkccdecegghccdjgdedfhejfijhjggcjgjjjhkdeikbchfkigeidddbffefbjeffjdhejbichcigkiekjjiibcdkkbddgkfbbkgchkeghbggghgjjbfbgifgkccbbhfkihhecfgcjekbkdejghkdddfdecggbibkicjjehjijfebbicfhkfichckbjcbhfdhicfeicgbgjcgdfhjhfbcekbjgbkigkgfjjhebcgdhcbjdecggekbfjffhjkdbhgchcbjbejdejfjejbefkbdhecjfcbkgbihgdbdjbfcjfjgjhbckgcijghjfchigcchdkdbiddehijgbkcdbbbeehdffhhkffiddjggccjkgehddebjckbjdeiihdchifcchijfggidigggeddigfkcjbddcjedjecejcdffbfdjhikeegigbbkkhiihbdfjjddggbcjhccifgkjkfhjegeiffecdegbgdjhdbhffjhcfebjbihhgdedjgccfjgdfebhibejihgdejedbbkhiehekchjhkjbdhdjdfgfggjfkbjfhfhjdceibbfjjfikfkehcghgbibfijicddhdebjededhbgjdgjecbjdcdgdifgbgfdkkgdibckdkcjhchgjbehdkdecgiefihdbkcfjgcbcchffebfbcgibbhbgheekehfhbkgikkfjghjhggdhkhdkckcgkhfdgbggdbccgceigdceihefifijjhfbecdeiibfcdejickbejedgefhdheddjjbcjbbegejfdigedhgcefihfgjfcfjffdheckcfjghfbddkjkkgfhbbhbhdjihchbcdkjkkkggkjikebcheehgeifbkhhdhcgigdjiidfijdcekigefgjbebdfkhkhefifgiikbkdibifegffejdgfkihfgbhjddjcfkdfhbdkbgfhbkicghefkjcfheeicdbkcfdciggcccecdiigfbeicjhfdcdhifdhibijijchjkhgfhdkbkkhhecbecbecfgjfgcfbejkkcgkjkkgbhjfchdbkcekkchjgbfcibbejgfckgekghchcfkddihkgcbdhdgfhchgejeikihcdgheeihkijeccjidbbhijhhifjhhickifgjgdihhifjfjkkbigkdecbjjdfjdbgigbgecdcfkfjchifjbecfebfjccjegdkcebbjcjcfjgkhekifedhebfceikcbbchekhjfckijjejefeecfdfcieibfhhhfkceciggbidfejbjbghbhdebhkgdkkhjfdbbkdjdbcghkbkkegkbdikgjcehjcdcgdggdfkhbgbgdjdbgjkgkiihjddikbieibgkjkkbecjhdbijkcighkdicigigfcdieijghhkccfedbbhciegcghjihcccefkkehiifgbkdegfhdffckgdiijhcikhigefhkhjjcjjhchegkjdcdhjhkibdchigfhbhjihbjhgkfcfddiecdidkjckcdgkhhjchgkbjbbgkbfgceedjeefhifjfjkhgcjhihhccfikkfhibfhckihjjeihgkbfkbdjjfgigcefkkhjjehjjcbdkjjkedkhjkhjeidihbhbjkbjcfkgkefhfigcebkegbjfebfjfddggffbbjghkjggdcgjbdkikkkhcggbekfhifcddgidiehibibfcifcdgddbeddbckkddjfddeejiffgbfgbjjhekcdhdibgidchicchkceifggchkkhbbkhejbfebbikehkbiekkbfhfkfchihbhbhbbjidggdebfegebjgkkecddkihciehkdiikcdidhidfijifieegdbcdjjidhidjckhcjijjjjfgfeffhkbhfefgcfdkhggbjgddkchckeigigkbcckifjjgcdghgjdjjdkjcdhbckghgjdifgfjebikkbcikkiigecbhfcjbbhfkbeiigiggghihjhbejheekjkifkikggchgjchkdhdidjdjfhgjiibehbcgckfcjikfcfbkfdbegeidfffkbcbbbchbjibeikihcdecfcikgijggfgjghkebdhichbkhgdhjcjiegidchcckikbcdkdjdkdhfkkhhbbbcjcdcbdebfcfdefddccdgkdjdjggbfjcbkiebhhdidgbhghcjgdiebeechjigjebkcihijbjhffdchdeegjkeibffijhjghjhigbibdidgicedikehkbhbjbghkkijbcdkeicfbkkkbdfjecikiehcbfdedifijdgifbbdhekeijddecdbjbhegchchgfjedgbifebihbbkkgfjbeeckijjchjbfkkbdcdedggkggbjgbgjkjgeijbbgkcdkefhhgkdgfhihgbgbihhijdhfijfhjfkibhidkbgiecdbgchjhdjdkbgddbeegkdkifiifdkkgbfckfbcjebjehdecdgfgkjjgghkhbeggbfigjkhefcfkfjgjebcgbfhjeeffhbihiighhbkfcbfegecffeehbkdkhchigfdkgbddcjiehdbccfhkfhikjkdffdjggkfiieifidhgjigcjidcfjjhkeghhcjkjjchcdkfifbkhedchkjdfddcdfejjebkjcgkhigbbkbccfhckegkfbchgifcfkjfdkegkcfgejicgjbfijdhijfhfdfbfhggkkhdkicdgchcdecgjjgiidfdhjkdkjjfiiejdbhkejcbcchkfbjgbggifdfjejfkegjigebeifdbejbfbfffdbjgcdjbdcfbkkjgifckjjhhekcgejbkkghhbdfekckbefgiidkhikdkhbejkeigibgbgfdhegcdieegekcikggikkfcicbebddkgjkhgbcejdkheikigkkiicijjbckdefjficjfkjeigeibgbgdfgjeccdcfcehfffbdgcjeekfchdjbbdeddgfbihbgghchebhbdcikhiihjkfkcjkgfddcjdjbgkcckekdjidgcchkbjekbhfhfehbcdijhgjgffkegfkfhiekkigjbckcfcdkiidgkjcibifejheffkhhiejddcebfibdfddieejfhbjdhjjjdjiefcbhkehekdjkjjiefjkjkkijcggifcjeghdhfjehiefdcfcgckjhgkibfkddheikibidfkkfebbebbkjdchjidjkbkdfhdbgdjjdbbckhgkidfdiedibekhebgjgkkkcicchgjeikghbkkbbcbkdghjfhjgjikffgdjcfdbbehjeegjfbcfbhckjdiciefkfhgcdkgcjbjcfgbejfgeeibdjdjjhhjkkddbgfgjekkidecfjcfkhdddicbbcfgkkfffjbkfjgciefcibigbjhkefidbjbddfkjcehgfcddjchgehkcjicjiebiibhjkfecdicdjdddibkdhkbceijhbhdhifighedkffkhkhhcgfkhgefkiegekejfbkijikffjdgejedbceifcgjeihdkjihjjjgcfhkfkdbjhifcdkhhfeddcehfggfkjihdhjkehdfbiefhhhigfdfbehdjcgifhdkdhciegdkgjecdeihcigkfffejdgfjiikggjfgicjbidgjfkijkbehehbedchccchiejdjdbbcdjcceebfbbfgkedcgfedgbgfdifkfbdhcbcjgfdckecjikdkhfdgjfiebcjcdccikfccedcdhjkegfiedbgcdjbghgfgfbhhdijjfekjfjjhbgddhickjjefdhdhhijbcbckdfjgkgjcfkeckbbgiegehkkefedhfgdkbidbcidkcfebbejcjcgkfdifkgbdjeeegbjikjfeggbbfhkhhjicchhkeiefkddbcigikkjdcekikecbkgdcjbkkdbidjghkigdjkffjbgiffkgdcjgicbkcekbhghcchjdjgbfgbjefjhcjhgdiiieggdbdcfehkbdikeikbhefbkikkbgiiccjficbibfcjkkjijkccjkbkfgjighfeibiijbejddhkifdjcfehbebhecgbjejfihgfjhhbeekbdjeeidiefidcecgekbbhckdhdfidfbcedjhfihhkdckbhbghkfdeikbidicbdjkhbhbigfjikdicggefekkecgfideijbkfdkkikchidcdehcdgjdghbdfjihffiffjkfjdcfjgbkfiefdgfcdhjkgihhhdkgeedccfbfdfiikfhecghjgbgeekdeiiihhgihkjfcgkfbjcihidcfgjbhggkgifdhihbgbehcdkjhkiefkbijhegckbidejjbfggedjcjcidbggcjhefbdhehfgkjjeiihbidifddjgkkdcckcdcgchceegbgfddddebbihekjjjefdcbehiggckbfddfghfhkdgiecgjechdjfiedbkjedcbhdbkjjdkkgjegbjgedddcjidhedcijchffgkijhjfdjgjjfjdiehjkhcgchfjcbgbkkfcehcekijgghbbhfhbhibbhefjfkhjkiecjkeediikfgbikcgkcgeeeehgcccckgbjijbfcjjikbkbbhfbfecbbfjikebdbdkdbfidfjeifijehebkikehejiigdekggkgjehkigjkfhfdcgkjjbkgjfhgjccdecfejcdfkgbcdjhfcbhkkfkdcdcffjedebgckbgfbjkdfefbcidekidgdkfbbhfddecfdccbcfkcecbfgjekhejfbehjigecbceedbddfcgfgicdgkgkdfibchfkhjgiekjjgijjfjifekhbdbfiifkdjbifkifdcckhcgjkjbjkhdcfibhedjefkgggjfjjeejkhegiighfbeeegdedcheijffdfgdhjgkkgdfgbijjcgejgjicbkhekidiehjekffbfebkkfgbcbhfkdfbhdbjigkjhdfdfdghjkffbbfgigkhkkgidfihefihgekggedjjikebihfdhejkgkidffibedfjcikbkgjhigeeejdccfkhhfjfihibhcdkibbcjcbhhhijecjjfjdbkghjihcbhejfkbdcefcdjdhfehbidhfhkidjbbihedkbdkcbfbeibghikkidefcgghbjbjkijfkffbfifdjijekefcjgbecfcgkfghgkhecichkkdiefbkcbkijdchfkdifcggcikdegejfhbgbejgiiifhckeceegdcedheekchekijdkdbihbeckbgkegcfbbehjfiefghdgecfkjcbgfgccbchiibcbbchdehhhjedfcifejjbcgikjjdfeeehjjejbhecekdiigcddbkfhghihkbcecgkgjdfieicfibebebcgbicfkkfdihecfciegcihhcbkfhdddfdhhhkgkjckeiigkdjehcccghcdjigkbchgjfjbiicjhkjcjegkhkbjfdebhjdgehkgbjifigjhddfkbjhefdjchhbcfkgieiiifehijkgjcjgfkgjhjcekibicdbkigggbhhjdgcdbjjkdffiebbfekedefeckdfikjjfdiifbccfcbdebgdbcfggfhkjibkecccijikefjgefjgcbhifkbgcbffecfjcbijdfddidiejheccehkifgkdgibheehgifdcbbcgdchjgjekdhbbdcihibkbiigjcihbkijckhhgifbfjiiiddcbdhiieegeehjffejiebddcecdghecgkbeckdkjkcjdgjgebdhjchffgbkeffbjcjkkfhifckicdbkecjechceccehjhcegchjfkdfbdhgcjkhbihdkcfjbfghfbcghgjkiiegecbikdjjjkjcbfeehhefecdddkhbcgiikcbjcbeceffdcbbebehedhdhdbbihibefgkidihcejgeefbbhfdejhdgcbjkhedciibdbfdbkbhkhcbcghegheecfdhefbbfgjfhbkfihckecbgfhfghbdjecbfkejckkkbdkdgiebgkbejighgbjcgkijgbhgbhfkjjkgdkfgefbceegcggjbigfdkjfjhgfhgejkfkbhijbihcdkdjgkdbgkieickkcidbdfcjifjedjbcihhccbfeifbdkhbecedicfbbfhjcfbjhhheeccbiiehekegkhkccdkfceiefkihcfgjihbgjekjbhdchghkcggejckikckdgcgicgehfhccbkbgkbhddcibhfeggkcbcdjcdhbdhjkkeccjcggfigcckbebeeebbgkifddheebijfgfhccjdkicfffebgfddbkkibifhgdhfgggjckjjgddbighijkhghfjdjcbfeghcjgfdgjebjfckdjhcifdfdkikeiegcieigcgbhfgdibkiifhkjjebdfibjkifcdjhdgcihegghdfbbkdgihkgbdekedcbehkkehbebcickdjhghbefbkdfhkfbcffkjckhgjhcejgfdeegfjfddcggjbghhcfgkbihjcbcbcjdhddhdcfhbkjcgihcjefbbckfiicbjkdicfejhfefgefbicbigjegjhhgifbbccigcediffjccgbghhbeghdicijkedkgfbggbfidgefifcekkgjcgegjggikkfijbfhbgkhcfjidhgddkbjcckigecgdcdjhhebdgdjggfgjejefegfjhdfdbkbbjeidgbjijbebfigjfhhhhibkejjfecicjjgfjeccjfecefejcihekjihjjcfbbhhfhhekdhfdgfkcdceifkjckeghfibfbkckgjhhgiehhgbdhhkjefficcjkffbgdgibkfhedeijbfiejbbejfhjjdccghfjidcjeghbjbdbghhkgdkbciiiigbfhbjedkgjihjigccggdiebedghfcekkjkbggjfgkkkdbcghchcbdejejjheejhicgbiebefdfggikjjjkjdgkcejcjjdccihhdgkhgkgbkeidfbebbkkegefgiejekjbikighbiijhcfeejjidbgibkfdcddcijgjgeebebcdecghidejehdbkdiijdjkbjgckihcikghciffghgccidbgbkdbidkjfcckcddhgkijgbijdgefhchkfhkhkcgikfjiccgkihfdebdkcjjbekkggbfbbjdgijgkbhbjjibecjbfdbeibkicegkjfchdbcgjgcdkbfjjhedjeifcddjicccgfdjejijgibcjgbhdccchgbekedjjijcbcjdjgjkhkgcjgjjfeebecddigdhjcceeefihefgibgkeefgihhfbbhiikhhehkjedifdfihhikhkiecgiffbecgfkbeeddfijbiffcjihjhhbhffkbbfgdgkggikgkhcjggjjcchifdfhhhhjjebkbjdkcgfgbhceceihkddhkkfdjgdcegdbjgbkhhbkjjckjhkgjcefjcghdjhdjhdkjccfchehjehhijiebkedfeikhighjbgkkieeghgijhjejfggceckgbgfjhjcjihjidfkkidhkbhjjifddbhcgckgfhidcbhicjjbhjkbkefhhdkkkgjcdghhkhhfbbedbghgjfkhbckcbbidikhdghehigbjjfehceejkkciejikhejfjjgcefjgeifidfdfeckkcigbbfkhfddhkdcgjheeijciiecfeibekdeihcghgfjedggddijccdhgfffbchfegfdcidgkigcgkiffehfjkfebchkkedfkekgfeeffdbedefgiibdhifhbefbfhkeeekkddbhkibieehbhibckibddhjbgghhjdkjeghfbeijibffigfibdfdiegehchhfcjgccbgdfdbkgegceggcedfgeddgkdhjbdkgdeichdkchgfeichckchiedhifjkbjkfihgcejiccihfcbjkedjkdfjdhbegeidccjifgghbifjdkfiedebkcckeidbgfbegjbgiggdbdghihehfgghkjkihiiefbhibejfcdfdbbkfjeefkgcdfgdcfjcgbjkckeibkdiecbbckjdbckbdjhckideijbddggfcijedjjhbibjciggchdeddhiiiibkdikkbegbehihgejdecichdegedkigibjbdhkkkhfifcjibcjbcfibejehdidefbghchkfheccckfkjefcbfkgfkjkgjdbfhiccdgjeiihcddjegkjeidikkbbcbhdejbfedbiicggcebhkfjdhbjiehkikeekhiccdbfhbhfbjhdjedbebjggikjiejdggkkfgijcidkiggbkkeighkckcjdkcjikhkfkifbkhkcebiehkifibdkiecbjgjebcdjbjcbdgcdggbghkdfbheebjigdcciedjhedccjiedgebeehjbdheeeijbeckeedjbdkfcgjfdeddckfhgbhcfbbigdcijciigdgkjbffcgkigjjcbjdeckkhkjkccjdbcfbhckfbcddjcfidgcbfejijeejjdfkdjgddgkbdekkkggfijgghibchcdkikjifickfedchkfhbefkkhhkifchccijdbdhfeigbjbgkkgcgefijgiddekdhedfbjkkjkkjeddkjkfbjgjebiehdedfdhhjffigehfggbkiedijkiciegiffceddfbbggbcfkfjckfcijbhieiidgbjehbeeieckfckicejjheggfeffgebjhffjiighhjechcbjfbdfffhchgdidijbijieckdchkcbcgigdjhhkegikekibbcejfdiegfkgceichgccjcfggeedjehdcgdjgikehgcfkkfkibjgdhiidkegfdfehfeggifidceiffeecfiidgeecikkbfhdhheiecjfhijjhkgkegcibfkhkkkihcfdgfbejcbgkfeehecjdjhcgiikjbbcfkjkkkibgckjjjbdhfhcfckjjifekifedibbigcbdefibehkjbcfhkkebhfeidbkehgciccfkkdgieihdekcgicichehdkkkhkigebjfgkhkdfeejcjciifgekeheihiebgkehdgbkejccefjfdikfdiecffghdbfcgjidhgigdgdbdjgicdbkbgfjkggfecfkgkghigijdeihbhejbfihbdiicdfhedckkhbikhggjbkjhefjdejecdcbjkgcffhcciciceihjgkkigiciikgekhkbbghcfdekbbghdkhfkcihjkcikcefechdbbdihccgffchgjgjkdjjkeecffiikjdghebdghbkkeihbkfcbdkijdbghkgchjkkdchegegikfdjgcdgicjkckfjgbkkbhgehgfikkhkfjgjfkecdjjbchdffifjhicgcecijbjhijhjgekebddhcidhkbgckcjicbejffjfddjidbiihebbjcccjiijjgceegegchgibgcfedkbiebgikeikbjchekicbhidicfihdejkcjeccjciifdhjjkihfggehbcjegiiekkbgbbiegdgcfckckkjfbcefkjbffjikifejcikfgieegcfciefkhcfkfdhdgehgcdjkccibfbhddffhjhchkdkjjicjhkfkibhgkfeeidfebkjdeggcdjjkcdfjjeihidhijgjdjhgjgfbfbfdejcfhikhgfhcbceidfhhjbhigcgejdickhbdhbeebbdfdifefibekjccjeidkggejjdfjkccbdhhjhddgebdddckjbgdceiddhjidbkifcekdbegfkjgiefgceeggddkcefegjjgfhdbhebdfkebbibchkkjjgdijgbedihkjjdkkbcfgdghghdcgdjehbhffbifidibkfjgegkeijkecfhfbjjfdfhgdiieicdbijejffgedbdebfcbfbifkdceghciihdjkbkfeihhbcchhcjcbkfdikgghibkfjehgjdkiifdgkkkegfefkkcfgcjgjieeefefdejehhjjfgffghkckbcibfjihgccbcjedejeibfbkfjgdfigchjfkcieiddkekjbbbfkjkgcdjfbdhihfkegidbifgiehjcgffijcfekkcccjehbibdbeejckdbgigdhkeekccfdekfdkdfbjkkbgffjejieidfjgcgcdieckjjcgecdhkddkdfbdcedecehkjgeghbgefhhkidbiijkffkekhjhgbfkekihghidibgjcbcfkjebfjejghkcbdbkggcfkbbcfbfeihbbjkdbbdcjkdghcdhbhkbihbcfkkjgkgjgigebhjhgfhjjgcjhgdeeigefdfijchdkjeffbggbgjjefbdgbidcgbfhdchgcggfhgigdcchgcigcikjedbifcdbijgkkkfdidkbgijfcbkechefhfhkeekiificbjbgddkeckbeibchbgchjbhijecebcbedddhigbbgcbkdfgdcdefebehihkjijgicbeifejdciiccehcjbbjejgfdjifhfickjeejcbfikcjfjbefjjiehcfegikedijbfkfghcbhgiidbkbjjefjcgeikidhibfchjcccegidfhgbfhbjgeghiekfkfbcigjkffjkccdgbcegcfjghhgegdjibekjhdehedfibcbfekgckgccjhiigecfjifhgdfjcjddhghjfdghkdjihckfgkjejbfceebdjgheigkehdejbbjfjbfikgjeghbjjkjckcbhbjhbefcbjiifgjbfffcjdfidbfjgcdijjejgcjdhcbcbibffcibfkjfhkcicidkjfkgfbiijgkekeeeifdhfdiccjhhffjkdhihkbbejifdggfkefjcbkkggceehhkfhekihiicbfdbjhiegcigdjicfjcjgjfjjhijhdfcjdbfcghfijbkihdhfiidgcfgghckjdiffgjdfgghegifkdfjcbfbgfkkbjbhfjjkejjhejhkkdedidiikecdkcefkehdhgcdhhihcefhbggheggbdehgifdgkficdcfkjfgdkcidekkggbibcdegdhckjjgbcjbbkiedceiekcejghdgeghfdfgekgcchjdcdfhhifcgjgkeidejcgehbifdcgchicegddgkcfjibhidbeidkiefdkdijgcdigddgkigbidbffdbekehecdicdgbehgkgkeebgfdbhggeefbhbidjcfggfcdebddjkdcdfhfgdeddbkdfcchcjgegeeejfjfgkjiicecbbkbijicjhcjicjhegdjijffcchiibchijdecjdhjdgecckkgcfbcfkbgedfbcdgigkfeegdkheggeikkdcikcdfgfckkdgfbhehikebhjfgekkjhcchbjjchdifhdjechhkhdfegeghbfifbbgedebdbhkdcjhbeebhkjdjgebhjibegeiikhhjgjcdgighidkjicjejghkgdhbcdjhkbbdihkkjiddbdkfcjibibbfciibjedcifckkfgjekbbkkjihhgffkdhikdcbgejjgcjejfkbeidgkkgikjficccidifgjkicijbigkhkgccefhihbkdgcbfihcddfejecehiddejeddifejiidefgefbidgccffegjfccgidhjgidkcccifigghhbjjebfjfbdghjhgjdbijciedbjffgjgjdkcbhfghbgficdfhdfkgekbgekhccbfcjgiijdgggcbijjkdjkhcggbcceiidcfjbbcdgbcebdhgdedidbhdehgcdjjbdcdidicbgeehgjekjjkckckggfbeikkdeeibkehecfcjkhiifccbiibjjedbhgiehkheddiccihdhijdbfihghdgedcffjehddegjfcbkhkeebhiijickfjkcfhjidggbbcejfghbdiihbcdkhkcekddjcjkbbffcefebdgccjhkhfhidhiejjijefedjgckbdfcjjjfdbkgjbeccggiikffcidbgeebikbheegkccgidcgcgbiefkfgiegjhfjgdbhfehbiddjcdkhhfdgbkichfgdeffchbkhhgkiieihjfcgdfgbfikccgfiejkgiekieeehkeecffkbhechcfghcegekikdijdegkfhkbikkhfbeiddgjfiebjckbhjhjkgcgcckfkkebijgkjddjibhhkhfbbhdbbkhdfdbcijgdcejkkckejdkdjdfbhckkjgjekciiidiceidjgdedjhhjcgbfjikbjhhecbhghejfccbijifdfdbdgfggcbjcjkficihidiedifibdbkbdhkfeeegkbjjbjghfehkjdcfckchjeikbdhkfeiibidbdjicfegekjjhfhjkdebbbhegbcjkechcefjcbhfjjfddcibhefgbdidgfehkecbiiheeijidjhiifkjhiekdgejidiidhgbijcggfjegigfdhkhhececjbikdjkgcbgccfefidjhfeihhkjdkjeehcdjhhjkkfdhijdddgfifkfbdkfhifjfbdcgdhijibijkijkbgifgdbdfdhkdjcedhdbgbdeigidchffhkkbdidhjdkjhjdfdekcdgkgdfehefdcfihbdiidgchejfdjkikdigkhbijeidhhjgecjbkghejjbhbbbjggdkiiifbejfgecefjdgdgjbiejkiicfhgbbebkejfbgfiedcfeikiedcibcgcbbjedechgidchhhbghjedgefeckijhdeibggfigdgcbhbhjfcdbedcejfjbfbhbgdfdhcfkcjccdhfdhjggkehhcikcichjibehhfbchjfecdhchjfdhcifedhckdgchehcicdkijbfjehcfgieidfehfickgibifhbdkedfdbbhgegfhdkdfbchfkeiiikdefibfkbbjifdhfecikbfjkjdchfcggjcjfcbjhkbeebdcjhhfbfjbfffdbjikjfgcdgicfgbfbcihhkghbjcchefedcifjkkfjdcjcddbffecffefhfccjdhkdbkdfegbeekbkcjcgeefebdhkeckkkhkcigbbbgbgdchdgbgefjdjgedfheiebjbekdjidbiekhdkedejjcggbekkdhijbfdhdbghifjbijkfggfidgffikfdfdbeddheehfhhjggiijchhcecidbciejcdbhecfjbbiddbdeegjcbhciccebhkjkbkkbcjfcffkckdgedfigccedgdidgchhcbjijeijggigiegfhfeidjfdiefdebjjecbhdjiicekidckehdkihebekdhjejdjjkdigbcdcgdcgjebigjfkccehikbfkdgjijgdcbfhhccedgehgijiejckehdekcehcjjfkehefjbdjgdkdcefcjbehcicgehiejgbbckdigebefbiikfbikdgihkgjhdcbgjcfjbcfbbgbdefcbdgggbhiiihbiegekefejejgjiddkccefbdihdhhkbddkbcchjebhdhhjkdkgbehjdbkgdeifhkifhedkfjkfhfbbjekgbkjifkjkhckejghhkbghfejfjjgcidjkggibbkgfeiehcgikfhifbhhgigcgjdhhhhjgdhfgfejbeijibkeejbdjhccecifdkccegcebdchfcbfbdeieehcehgefgjdhgdidhbigkfhghefgdjhbjehkdkdhgjgbbckfebbkiddjghkgejjifkbgbkhkidghhjhjfibckbdbbcbcdhigebcgkgdghffkkkiejkikhiikkefcjddhjbkfkkckdkhghkigkjfcfccdikedifjceghjcjcgijbcdjcffdicebbbibdedcehccbdgcicgcgecefggcjkjhggfibkgifjjecjbdjdeebggcdbehbjchfiiifjhhgcgkekkkdffdceeebgehiidihceigicihigbcchjkjeihcccceghgbjcehgkjcjgbkhdgjgdkbihekkijjebefhehhkghjcjkdgfcebdfjcfikckghccbgcdkikefcieifchjdechekbdkdjggccfbcjejcdijgkedbkkeefifghjkkffbbhdjgcfggcjehfbieghicjbfihdijddkebiikkdgedfchgffcdffbhiekdehkfhckgheihgkhfbdhedddffgdcjjejbbdjbccighibjfibjejhgkiccgcbfikeiibdkeikkbfdiidbcgiikkddgddkccjiegijgjcffdhicjfghgkfkighikgjdecfkkdgedgkgdhifibjfdcckcdjbeccjkceghddfjjfefbbbikehkkkccdjgjbjbfdbjjeekhcjfccihcggbibbhjgdgccfhbcbihjjhgjijficbkcfigekkdebkggfefgegcgigjjdkbfggckeggeiekgedbkkjhbhbbkeikhgkbjkjeffkddjecidejfbbkdfbdbidjjdbhfgfdghgjbgfhejkkhjcbhijkibkhjbhkbjcebgkjdcgceigikdhecjbiiiehcfdhhhhdehkgbjgjddbkcgbdfhbcfdhdhcgfihgecibcehgkbegbheccjekjikjgbgjgifgibkbjfkeeeckifbgchkgiecjcebbkkbhifhjecgjhkihbdcddggjifcecfhjdckkbibcecgkbjkejibjikbidfbibdhbichhccgdbhhcdkebfdfkiedeeekcjhikcdcjkbceifcbkghcjdbbbkhcbbkbickdbdbeccffgkbgidecjbjhbcjedhkdhekkgkeegjgedcbghbikhjdgbchbdjececkjjgkhjhgefkhdjjibjbbecbjgdihiigjjkejdfjjgfdkckghfdecjedhgfhefbifbibdcigkbkjecdfjdbibfeiebbjdgfhggfggbgjfgffeijcdbdjgbddicdciicffcekdjfcbikhdkjgdhkibgfkdcecccbdjjffcbfcikhhkekdkifefhhbdegdcbdebbdkckiefckbdbgjcjicgeecgiiedeigcfhejibdddgcfhifejehckbgggiikdicejdcfikgbickfcichgeggcicfffghcgejhgbfibcefjicfhhjejcebkeeihcfdekdgccchbbghdhdgbghecbhfjgiigckckfdiihdiiidkdbhhkcgdgehgfkijijifiiejfbckhgefkgkedfiheidjiigddkcdhfifdbjkggekfkjchibgjccdbkekbggehjeifhbieckkfgebfjghkdchhjfcgebkdjjhcdjhbihkekdjkjdkhhcghjfkcfdjkhfgbjkefjkdfijgcbhdkecbgigeijdbbjhjgdjbeihekhhbkidckjhkecekgbihfbjdkkkfhhigbjfbgcejgghbdhjkecdhbgkidehkbgekchjjbfhjbhigjheiifhdcedhiiggkeejfdkchheifdkhfdjecikgkbiihgkedeffdbfhefeijgjgfjgkbgihkkggihkiifgchheihjbfcfjgdjdjdcchdjdfkjghhjbkediejedidehhdbghjhjbibcdkjjbidfjkhehdicdhghkbkijchbcjkdgdgkhkkgbgegkjckhggcccibfbegbhjgehiifjfbkgckjjjhbfekhebjjhfikiiikedjfjgcgeigehhehbfdhbcfdhhkcebiihbkbhkdgdfgdkgehjhihgcjibghbdbdfcfcgeghegfbcicdfibdcbjbehfcjbchjcdgbhhhchjfbbjbjdkbhcekhkjdfbfhdkhjkgehfhgcjkjccekbhheidkedcibdbjiichifbkediecgkbfgiedcjkbccjcfkekjdkkdhgefgjjdekbdfigdddhdhdgkfejghdgkgdgkcdkceddecjidchgibggdekcghfeikbhihefckdkfggdfgchiihggdheighgeejiijkihcbdbkjejkgfheeibifkkfdgbgkjiheekijhbdfkebdigfdkchcgfidiciikhegejkeccjcbgjfchficbbejgebjdgdfedjkjidhjfigdjdfkb'"
   ]
  },
  {
   "cell_type": "code",
   "execution_count": 14,
   "metadata": {},
   "outputs": [
    {
     "data": {
      "text/plain": [
       "327308"
      ]
     },
     "execution_count": 14,
     "metadata": {},
     "output_type": "execute_result"
    }
   ],
   "source": [
    "len(s)"
   ]
  },
  {
   "cell_type": "code",
   "execution_count": 6,
   "metadata": {},
   "outputs": [
    {
     "data": {
      "text/plain": [
       "Counter({'d': 32810,\n",
       "         'k': 32923,\n",
       "         'c': 33037,\n",
       "         'j': 32853,\n",
       "         'g': 32518,\n",
       "         'i': 32666,\n",
       "         'b': 32571,\n",
       "         'e': 32585,\n",
       "         'h': 32571,\n",
       "         'f': 32774})"
      ]
     },
     "execution_count": 6,
     "metadata": {},
     "output_type": "execute_result"
    }
   ],
   "source": [
    "Counter(s)"
   ]
  },
  {
   "cell_type": "code",
   "execution_count": 5,
   "metadata": {},
   "outputs": [],
   "source": [
    "from collections import Counter"
   ]
  },
  {
   "cell_type": "code",
   "execution_count": 8,
   "metadata": {},
   "outputs": [],
   "source": [
    "c = 0\n",
    "for i in s:\n",
    "    c+=1"
   ]
  },
  {
   "cell_type": "code",
   "execution_count": 57,
   "metadata": {},
   "outputs": [
    {
     "data": {
      "text/plain": [
       "'AABCCCCCCDEFGGHHIJJJJKKLMMNOOOQRRRRTUUVWWXXXYYZZZZ'"
      ]
     },
     "execution_count": 57,
     "metadata": {},
     "output_type": "execute_result"
    }
   ],
   "source": [
    "''.join(sorted(s2))"
   ]
  },
  {
   "cell_type": "code",
   "execution_count": 118,
   "metadata": {},
   "outputs": [],
   "source": [
    "from collections import Counter\n",
    "s1 = 'WEWOUCUIDGCGTRMEZEPXZFEJWISRSBBSYXAYDFEJJDLEBVHHKS'\n",
    "n1 = len(s1)\n",
    "s2 = 'FDAGCXGKCTKWNECHMRXZWMLRYUCOCZHJRRJBOAJOQJZZVUYXIC'\n",
    "n2 = len(s2)\n",
    "\n",
    "d1 = Counter(s1)\n",
    "d2 = Counter(s2)\n",
    "\n"
   ]
  },
  {
   "cell_type": "code",
   "execution_count": 125,
   "metadata": {},
   "outputs": [
    {
     "name": "stdout",
     "output_type": "stream",
     "text": [
      "S 0 N 0\n",
      "S 0 O 1\n",
      "S 0 H 2\n",
      "S 0 A 3\n",
      "S 0 R 4\n",
      "S 0 A 5\n",
      "S 0 A 6\n",
      "S 0 A 7\n",
      "H 1 N 0\n",
      "H 1 O 1\n",
      "H 1 H 2\n",
      "H 1 A 3\n",
      "H 1 R 4\n",
      "H 1 A 5\n",
      "H 1 A 6\n",
      "H 1 A 7\n",
      "I 2 N 0\n",
      "I 2 O 1\n",
      "I 2 H 2\n",
      "I 2 A 3\n",
      "I 2 R 4\n",
      "I 2 A 5\n",
      "I 2 A 6\n",
      "I 2 A 7\n",
      "N 3 N 0\n",
      "N 3 O 1\n",
      "N 3 H 2\n",
      "N 3 A 3\n",
      "N 3 R 4\n",
      "N 3 A 5\n",
      "N 3 A 6\n",
      "N 3 A 7\n",
      "C 4 N 0\n",
      "C 4 O 1\n",
      "C 4 H 2\n",
      "C 4 A 3\n",
      "C 4 R 4\n",
      "C 4 A 5\n",
      "C 4 A 6\n",
      "C 4 A 7\n",
      "H 5 N 0\n",
      "H 5 O 1\n",
      "H 5 H 2\n",
      "H 5 A 3\n",
      "H 5 R 4\n",
      "H 5 A 5\n",
      "H 5 A 6\n",
      "H 5 A 7\n",
      "A 6 N 0\n",
      "A 6 O 1\n",
      "A 6 H 2\n",
      "A 6 A 3\n",
      "A 6 R 4\n",
      "A 6 A 5\n",
      "A 6 A 6\n",
      "A 6 A 7\n",
      "N 7 N 0\n",
      "N 7 O 1\n",
      "N 7 H 2\n",
      "N 7 A 3\n",
      "N 7 R 4\n",
      "N 7 A 5\n",
      "N 7 A 6\n",
      "N 7 A 7\n"
     ]
    },
    {
     "data": {
      "text/plain": [
       "8"
      ]
     },
     "execution_count": 125,
     "metadata": {},
     "output_type": "execute_result"
    }
   ],
   "source": [
    "s1 = 'SHINCHAN'\n",
    "n1 = len(s1)\n",
    "s2 = 'NOHARAAA'\n",
    "n2 = len(s2)\n",
    "c=[]\n",
    "\n",
    "for i in range(n1):\n",
    "    for j in range(n2):\n",
    "        a = s1[i]\n",
    "        b = s2[j]\n",
    "        print(a, i, b,j)\n",
    "        if a==b:\n",
    "            c.append(1)\n",
    "            if s1[i+1]==s2[j+1]:\n",
    "                \n",
    "        \n",
    "\n",
    "c"
   ]
  },
  {
   "cell_type": "code",
   "execution_count": 85,
   "metadata": {},
   "outputs": [
    {
     "data": {
      "text/plain": [
       "Counter({'W': 1, 'E': 5, 'I': 1, 'D': 2, 'P': 1, 'F': 1, 'S': 4, 'B': 2})"
      ]
     },
     "execution_count": 85,
     "metadata": {},
     "output_type": "execute_result"
    }
   ],
   "source": [
    "d3 = d1-d2\n",
    "d3"
   ]
  },
  {
   "cell_type": "code",
   "execution_count": 86,
   "metadata": {},
   "outputs": [
    {
     "data": {
      "text/plain": [
       "Counter({'A': 1,\n",
       "         'C': 4,\n",
       "         'X': 1,\n",
       "         'K': 1,\n",
       "         'N': 1,\n",
       "         'M': 1,\n",
       "         'R': 2,\n",
       "         'Z': 2,\n",
       "         'O': 2,\n",
       "         'J': 1,\n",
       "         'Q': 1})"
      ]
     },
     "execution_count": 86,
     "metadata": {},
     "output_type": "execute_result"
    }
   ],
   "source": [
    "d33 = d2-d1\n",
    "d33"
   ]
  },
  {
   "cell_type": "code",
   "execution_count": 96,
   "metadata": {},
   "outputs": [
    {
     "data": {
      "text/plain": [
       "Counter({'W': 1,\n",
       "         'E': 5,\n",
       "         'I': 1,\n",
       "         'D': 2,\n",
       "         'P': 1,\n",
       "         'F': 1,\n",
       "         'S': 4,\n",
       "         'B': 2,\n",
       "         'A': 1,\n",
       "         'C': 4,\n",
       "         'X': 1,\n",
       "         'K': 1,\n",
       "         'N': 1,\n",
       "         'M': 1,\n",
       "         'R': 2,\n",
       "         'Z': 2,\n",
       "         'O': 2,\n",
       "         'J': 1,\n",
       "         'Q': 1})"
      ]
     },
     "execution_count": 96,
     "metadata": {},
     "output_type": "execute_result"
    }
   ],
   "source": [
    "d3+d33"
   ]
  },
  {
   "cell_type": "code",
   "execution_count": 150,
   "metadata": {},
   "outputs": [
    {
     "name": "stdin",
     "output_type": "stream",
     "text": [
      " python\n"
     ]
    },
    {
     "name": "stdout",
     "output_type": "stream",
     "text": [
      "p\n",
      "y\n",
      "t\n",
      "h\n",
      "o\n",
      "n\n",
      "py\n",
      "yt\n",
      "th\n",
      "ho\n",
      "on\n",
      "pyt\n",
      "yth\n",
      "tho\n",
      "hon\n",
      "pyth\n",
      "ytho\n",
      "thon\n",
      "pytho\n",
      "ython\n",
      "python\n"
     ]
    }
   ],
   "source": [
    "def anagrams(s):\n",
    "    \"\"\"function prints out every combination of letters in a string\n",
    "    \"\"\"\n",
    "    n =len(s)\n",
    "    for i in range(1,n+1):\n",
    "        for j in range(n-i+1):\n",
    "            print(''.join(s[j:j+i]))\n",
    "    \n",
    "s = input()\n",
    "anagrams(s)"
   ]
  },
  {
   "cell_type": "code",
   "execution_count": 151,
   "metadata": {},
   "outputs": [
    {
     "data": {
      "text/plain": [
       "12"
      ]
     },
     "execution_count": 151,
     "metadata": {},
     "output_type": "execute_result"
    }
   ],
   "source": [
    "s = 'BANANA'\n",
    "n = len(s)\n",
    "k = 0\n",
    "st = 0\n",
    "for i in range(1,n+1):\n",
    "    for j in range(n-i+1):\n",
    "        sub = ''.join(s[j:j+i])\n",
    "        if sub[0] in ['A','E','I','O','U']:\n",
    "            k+=1\n",
    "        else:\n",
    "            st+=1\n",
    "st"
   ]
  },
  {
   "cell_type": "code",
   "execution_count": 152,
   "metadata": {},
   "outputs": [
    {
     "data": {
      "text/plain": [
       "9"
      ]
     },
     "execution_count": 152,
     "metadata": {},
     "output_type": "execute_result"
    }
   ],
   "source": [
    "k"
   ]
  },
  {
   "cell_type": "code",
   "execution_count": 157,
   "metadata": {},
   "outputs": [
    {
     "data": {
      "text/plain": [
       "1000000"
      ]
     },
     "execution_count": 157,
     "metadata": {},
     "output_type": "execute_result"
    }
   ],
   "source": [
    "n = len(s)\n",
    "n"
   ]
  },
  {
   "cell_type": "code",
   "execution_count": 159,
   "metadata": {},
   "outputs": [],
   "source": [
    "from tqdm import tqdm"
   ]
  },
  {
   "cell_type": "code",
   "execution_count": 169,
   "metadata": {},
   "outputs": [
    {
     "name": "stderr",
     "output_type": "stream",
     "text": [
      "100%|██████████| 1000000/1000000 [00:24<00:00, 41314.49it/s]\n"
     ]
    },
    {
     "data": {
      "text/plain": [
       "96217032509"
      ]
     },
     "execution_count": 169,
     "metadata": {},
     "output_type": "execute_result"
    }
   ],
   "source": [
    "\n",
    "n = len(s)\n",
    "st = 0\n",
    "k = 0\n",
    "for i in tqdm(range(n)):\n",
    "    if s[i]=='A' or s[i]=='E' or s[i]=='I' or s[i]=='O' or s[i]=='U':\n",
    "        st+= len(s[i:])\n",
    "    else:\n",
    "        k+=len(s[i:])\n",
    "  \n",
    "st"
   ]
  },
  {
   "cell_type": "code",
   "execution_count": 163,
   "metadata": {},
   "outputs": [
    {
     "data": {
      "text/plain": [
       "96217032509"
      ]
     },
     "execution_count": 163,
     "metadata": {},
     "output_type": "execute_result"
    }
   ],
   "source": [
    "k"
   ]
  },
  {
   "cell_type": "code",
   "execution_count": 229,
   "metadata": {},
   "outputs": [
    {
     "name": "stdin",
     "output_type": "stream",
     "text": [
      " 3 4\n"
     ]
    }
   ],
   "source": [
    "k, m = map(int, input().split())\n"
   ]
  },
  {
   "cell_type": "code",
   "execution_count": 233,
   "metadata": {},
   "outputs": [
    {
     "name": "stdin",
     "output_type": "stream",
     "text": [
      " 2 3 4\n"
     ]
    },
    {
     "data": {
      "text/plain": [
       "[2, 3, 4]"
      ]
     },
     "execution_count": 233,
     "metadata": {},
     "output_type": "execute_result"
    }
   ],
   "source": [
    "list(map(int, input().split()))"
   ]
  },
  {
   "cell_type": "code",
   "execution_count": 197,
   "metadata": {},
   "outputs": [],
   "source": [
    "def findposition(s, ls):\n",
    "    v = 0\n",
    "    nv = 0\n",
    "    n = len(s)\n",
    "    for i in range(n):\n",
    "        if s[i] in ls:\n",
    "            v+=n-i\n",
    "        else:\n",
    "            nv+=n-i\n",
    "    return nv\n",
    "    \n",
    "#     for i in ls:\n",
    "#         for j in range(len(s)):\n",
    "#             if s[j]==i:\n",
    "#                 v+=n-j\n",
    "#             else:\n",
    "#                 nv+=n-(j+1)\n",
    "#     return v\n",
    "        "
   ]
  },
  {
   "cell_type": "code",
   "execution_count": 237,
   "metadata": {},
   "outputs": [
    {
     "data": {
      "text/plain": [
       "9"
      ]
     },
     "execution_count": 237,
     "metadata": {},
     "output_type": "execute_result"
    }
   ],
   "source": [
    "3**2"
   ]
  },
  {
   "cell_type": "code",
   "execution_count": 200,
   "metadata": {},
   "outputs": [],
   "source": [
    "class EvenStream(object):\n",
    "    def __init__(self):\n",
    "        self.current = 0\n",
    "\n",
    "    def get_next(self):\n",
    "        to_return = self.current\n",
    "        self.current += 2\n",
    "        return to_return\n",
    "\n",
    "class OddStream(object):\n",
    "    def __init__(self):\n",
    "        self.current = 1\n",
    "\n",
    "    def get_next(self):\n",
    "        to_return = self.current\n",
    "        self.current += 2\n",
    "        return to_return"
   ]
  },
  {
   "cell_type": "code",
   "execution_count": 206,
   "metadata": {},
   "outputs": [
    {
     "data": {
      "text/plain": [
       "0"
      ]
     },
     "execution_count": 206,
     "metadata": {},
     "output_type": "execute_result"
    }
   ],
   "source": [
    "EvenStream().get_next()"
   ]
  },
  {
   "cell_type": "code",
   "execution_count": 215,
   "metadata": {},
   "outputs": [],
   "source": [
    "def append_to(element, to=[]):\n",
    "    to.append(element)\n",
    "    return to"
   ]
  },
  {
   "cell_type": "code",
   "execution_count": 216,
   "metadata": {},
   "outputs": [
    {
     "name": "stdout",
     "output_type": "stream",
     "text": [
      "[122]\n"
     ]
    }
   ],
   "source": [
    "my_list = append_to(122)\n",
    "print(my_list)\n",
    "\n"
   ]
  },
  {
   "cell_type": "code",
   "execution_count": 217,
   "metadata": {},
   "outputs": [
    {
     "name": "stdout",
     "output_type": "stream",
     "text": [
      "[122, 42]\n"
     ]
    }
   ],
   "source": [
    "kk = append_to(42)\n",
    "print(kk)"
   ]
  },
  {
   "cell_type": "code",
   "execution_count": 224,
   "metadata": {},
   "outputs": [],
   "source": [
    "def create_multipliers():\n",
    "    return [lambda x : i * x for i in range(5)]"
   ]
  },
  {
   "cell_type": "code",
   "execution_count": 226,
   "metadata": {},
   "outputs": [
    {
     "name": "stdout",
     "output_type": "stream",
     "text": [
      "<function create_multipliers.<locals>.<listcomp>.<lambda> at 0x112aeef80>\n",
      "<function create_multipliers.<locals>.<listcomp>.<lambda> at 0x11337c5f0>\n",
      "<function create_multipliers.<locals>.<listcomp>.<lambda> at 0x11337c830>\n",
      "<function create_multipliers.<locals>.<listcomp>.<lambda> at 0x11337c7a0>\n",
      "<function create_multipliers.<locals>.<listcomp>.<lambda> at 0x11337cb90>\n"
     ]
    }
   ],
   "source": [
    "for multiplier in create_multipliers():\n",
    "    print(multiplier)"
   ]
  },
  {
   "cell_type": "code",
   "execution_count": 239,
   "metadata": {},
   "outputs": [],
   "source": [
    "l = [[2,3,4],[1,2,3,4]]\n"
   ]
  },
  {
   "cell_type": "code",
   "execution_count": 249,
   "metadata": {},
   "outputs": [
    {
     "data": {
      "text/plain": [
       "[(2, 1),\n",
       " (2, 2),\n",
       " (2, 3),\n",
       " (2, 4),\n",
       " (3, 1),\n",
       " (3, 2),\n",
       " (3, 3),\n",
       " (3, 4),\n",
       " (4, 1),\n",
       " (4, 2),\n",
       " (4, 3),\n",
       " (4, 4)]"
      ]
     },
     "execution_count": 249,
     "metadata": {},
     "output_type": "execute_result"
    }
   ],
   "source": [
    "import itertools\n",
    "list(itertools.product(*l))"
   ]
  },
  {
   "cell_type": "code",
   "execution_count": 272,
   "metadata": {},
   "outputs": [
    {
     "name": "stdin",
     "output_type": "stream",
     "text": [
      " 7 952\n",
      " 6 386364143 56297585 479292050 782778989 177771725 945191156\n",
      " 7 458982242 957774948 25202756 357554307 248513713 506622954 769577156\n",
      " 3 109432676 494972174 914814315\n",
      " 1 49979276\n",
      " 2 491584479 103564062\n",
      " 1 25883738\n",
      " 1 460971693\n"
     ]
    },
    {
     "name": "stdout",
     "output_type": "stream",
     "text": [
      "951\n"
     ]
    }
   ],
   "source": [
    "# Enter your code here. Read input from STDIN. Print output to STDOUT\n",
    "from itertools import product\n",
    "\n",
    "k, m = map(int, input().split())\n",
    "\n",
    "res = []\n",
    "ls = []\n",
    "\n",
    "for i in range(k):\n",
    "    n = list(map(int, input().split()))\n",
    "    ls.append(n)\n",
    "\n",
    "combo = list(product(*ls))\n",
    "\n",
    "for i in combo:\n",
    "    s = []\n",
    "    for j in i:  \n",
    "        s.append(j**2)\n",
    "        \n",
    "    res.append(sum(s)%m)\n",
    "\n",
    "\n",
    "print(max(res))"
   ]
  },
  {
   "cell_type": "code",
   "execution_count": 284,
   "metadata": {},
   "outputs": [
    {
     "name": "stdin",
     "output_type": "stream",
     "text": [
      " 7 952\n",
      "  6 386364143 56297585 479292050 782778989 177771725 945191156\n",
      "  7 458982242 957774948 25202756 357554307 248513713 506622954 769577156\n",
      "  3 109432676 494972174 914814315\n",
      "  1 49979276\n",
      "  2 491584479 103564062\n",
      "  1 25883738\n",
      "  1 460971693\n"
     ]
    },
    {
     "name": "stdout",
     "output_type": "stream",
     "text": [
      "943\n"
     ]
    }
   ],
   "source": [
    "K,M = map(int,input().split())\n",
    "N = (list(map(int, input().split()))[1:] for _ in range(K))\n",
    "results = map(lambda x: sum(i**2 for i in x)%M, product(*N))\n",
    "print(max(results))"
   ]
  },
  {
   "cell_type": "code",
   "execution_count": 286,
   "metadata": {},
   "outputs": [
    {
     "data": {
      "text/plain": [
       "<map at 0x112af7a10>"
      ]
     },
     "execution_count": 286,
     "metadata": {},
     "output_type": "execute_result"
    }
   ],
   "source": [
    "results"
   ]
  },
  {
   "cell_type": "code",
   "execution_count": 282,
   "metadata": {},
   "outputs": [
    {
     "name": "stdout",
     "output_type": "stream",
     "text": [
      "6\n",
      "7\n",
      "3\n",
      "1\n",
      "2\n",
      "1\n",
      "1\n",
      "=======\n",
      "6\n",
      "7\n",
      "3\n",
      "1\n",
      "2\n",
      "1\n",
      "460971693\n",
      "=======\n",
      "6\n",
      "7\n",
      "3\n",
      "1\n",
      "2\n",
      "25883738\n",
      "1\n",
      "=======\n"
     ]
    }
   ],
   "source": [
    "for i in combo[0:3]:\n",
    "    for j in i:\n",
    "        print(j)\n",
    "    print('=======')"
   ]
  },
  {
   "cell_type": "code",
   "execution_count": 290,
   "metadata": {},
   "outputs": [
    {
     "name": "stdout",
     "output_type": "stream",
     "text": [
      "hello\n",
      "hello\n",
      "hello\n",
      "hello\n",
      "hello\n",
      "hello\n",
      "hello\n",
      "hello\n",
      "hello\n",
      "hello\n"
     ]
    }
   ],
   "source": [
    "for _ in range(10):\n",
    "    print(\"hello\")"
   ]
  },
  {
   "cell_type": "code",
   "execution_count": 291,
   "metadata": {},
   "outputs": [
    {
     "name": "stdout",
     "output_type": "stream",
     "text": [
      "1 3\n",
      "2 2\n",
      "3 1\n"
     ]
    }
   ],
   "source": [
    "a = [1,2,3]\n",
    "b = [3,2,1]\n",
    "for i, j in zip(a, b):\n",
    "    print(i,j)"
   ]
  },
  {
   "cell_type": "code",
   "execution_count": 292,
   "metadata": {},
   "outputs": [
    {
     "name": "stdin",
     "output_type": "stream",
     "text": [
      " 3 4 5\n"
     ]
    },
    {
     "data": {
      "text/plain": [
       "[3, 4, 5]"
      ]
     },
     "execution_count": 292,
     "metadata": {},
     "output_type": "execute_result"
    }
   ],
   "source": [
    "list(map(int, input().rstrip().split()))"
   ]
  },
  {
   "cell_type": "code",
   "execution_count": 294,
   "metadata": {},
   "outputs": [
    {
     "ename": "TypeError",
     "evalue": "unsupported operand type(s) for -: 'list' and 'list'",
     "output_type": "error",
     "traceback": [
      "\u001b[0;31m---------------------------------------------------------------------------\u001b[0m",
      "\u001b[0;31mTypeError\u001b[0m                                 Traceback (most recent call last)",
      "\u001b[0;32m<ipython-input-294-d1ab6ef3ed27>\u001b[0m in \u001b[0;36m<module>\u001b[0;34m\u001b[0m\n\u001b[0;32m----> 1\u001b[0;31m \u001b[0;34m[\u001b[0m\u001b[0;36m3\u001b[0m\u001b[0;34m,\u001b[0m\u001b[0;36m4\u001b[0m\u001b[0;34m,\u001b[0m\u001b[0;36m5\u001b[0m\u001b[0;34m]\u001b[0m \u001b[0;34m-\u001b[0m \u001b[0;34m[\u001b[0m\u001b[0;36m3\u001b[0m\u001b[0;34m,\u001b[0m\u001b[0;36m4\u001b[0m\u001b[0;34m,\u001b[0m\u001b[0;36m5\u001b[0m\u001b[0;34m]\u001b[0m\u001b[0;34m\u001b[0m\u001b[0;34m\u001b[0m\u001b[0m\n\u001b[0m",
      "\u001b[0;31mTypeError\u001b[0m: unsupported operand type(s) for -: 'list' and 'list'"
     ]
    }
   ],
   "source": [
    "[3,4,5] - [3,4,5]"
   ]
  },
  {
   "cell_type": "code",
   "execution_count": 308,
   "metadata": {},
   "outputs": [
    {
     "data": {
      "text/plain": [
       "1"
      ]
     },
     "execution_count": 308,
     "metadata": {},
     "output_type": "execute_result"
    }
   ],
   "source": [
    "sum(dict(Counter([3,4,5]) - Counter([4,5,6])).values())"
   ]
  },
  {
   "cell_type": "code",
   "execution_count": 310,
   "metadata": {},
   "outputs": [
    {
     "data": {
      "text/plain": [
       "[[[8, 3, 4], [1, 5, 9], [6, 7, 2]],\n",
       " [[6, 1, 8], [7, 5, 3], [2, 9, 4]],\n",
       " [[2, 7, 6], [9, 5, 1], [4, 3, 8]],\n",
       " [[4, 9, 2], [3, 5, 7], [8, 1, 6]],\n",
       " [[4, 3, 8], [9, 5, 1], [2, 7, 6]],\n",
       " [[8, 1, 6], [3, 5, 7], [4, 9, 2]],\n",
       " [[6, 7, 2], [1, 5, 9], [8, 3, 4]],\n",
       " [[2, 9, 4], [7, 5, 3], [6, 1, 8]]]"
      ]
     },
     "execution_count": 310,
     "metadata": {},
     "output_type": "execute_result"
    }
   ],
   "source": [
    "M = [[[8,3,4],[1,5,9],[6,7,2]],\n",
    "     [[6,1,8],[7,5,3],[2,9,4]],\n",
    "     [[2,7,6],[9,5,1],[4,3,8]],\n",
    "     [[4,9,2],[3,5,7],[8,1,6]],\n",
    "     [[4,3,8],[9,5,1],[2,7,6]],\n",
    "     [[8,1,6],[3,5,7],[4,9,2]],\n",
    "     [[6,7,2],[1,5,9],[8,3,4]],\n",
    "     [[2,9,4],[7,5,3],[6,1,8]]\n",
    "]\n",
    "M"
   ]
  },
  {
   "cell_type": "code",
   "execution_count": 312,
   "metadata": {},
   "outputs": [
    {
     "name": "stdin",
     "output_type": "stream",
     "text": [
      " 5 3 4\n",
      " 1 5 8\n",
      " 6 4 2\n"
     ]
    }
   ],
   "source": [
    "s = []\n",
    "for _ in range(3):\n",
    "    s.append(list(map(int, input().rstrip().split())))\n"
   ]
  },
  {
   "cell_type": "code",
   "execution_count": 313,
   "metadata": {},
   "outputs": [
    {
     "data": {
      "text/plain": [
       "[[5, 3, 4], [1, 5, 8], [6, 4, 2]]"
      ]
     },
     "execution_count": 313,
     "metadata": {},
     "output_type": "execute_result"
    }
   ],
   "source": [
    "s"
   ]
  },
  {
   "cell_type": "code",
   "execution_count": 333,
   "metadata": {},
   "outputs": [],
   "source": [
    "def ls_calculation(l1, l2):\n",
    "    n = len(l1)\n",
    "    s = 0\n",
    "    for i in range(n):\n",
    "        s+=abs(l1[i]-l2[i])\n",
    "    return s\n",
    "        \n",
    "        "
   ]
  },
  {
   "cell_type": "code",
   "execution_count": 332,
   "metadata": {},
   "outputs": [
    {
     "name": "stdout",
     "output_type": "stream",
     "text": [
      "0\n"
     ]
    }
   ],
   "source": [
    "ls_calculation([0,1,2],[0,1,2])"
   ]
  },
  {
   "cell_type": "code",
   "execution_count": 334,
   "metadata": {},
   "outputs": [
    {
     "data": {
      "text/plain": [
       "[[5, 3, 4], [1, 5, 8], [6, 4, 2]]"
      ]
     },
     "execution_count": 334,
     "metadata": {},
     "output_type": "execute_result"
    }
   ],
   "source": [
    "s"
   ]
  },
  {
   "cell_type": "code",
   "execution_count": 337,
   "metadata": {},
   "outputs": [
    {
     "data": {
      "text/plain": [
       "7"
      ]
     },
     "execution_count": 337,
     "metadata": {},
     "output_type": "execute_result"
    }
   ],
   "source": [
    "\n",
    "ss = []\n",
    "for i in M:\n",
    "    total = 0\n",
    "    for j in range(len(i)):\n",
    "        total+=ls_calculation(i[j],s[j])\n",
    "    ss.append(total)\n",
    "        \n",
    "min(ss)        "
   ]
  },
  {
   "cell_type": "code",
   "execution_count": 440,
   "metadata": {},
   "outputs": [
    {
     "name": "stdin",
     "output_type": "stream",
     "text": [
      " 1 2 3 4\n",
      " 7 8 9 10\n",
      " 13 14 15 16\n",
      " 19 20 21 22\n",
      " 25 26 27 28\n"
     ]
    }
   ],
   "source": [
    "s = []\n",
    "m = 5\n",
    "for _ in range(m):\n",
    "        s.append(list(map(int, input().rstrip().split())))\n",
    "    "
   ]
  },
  {
   "cell_type": "code",
   "execution_count": 441,
   "metadata": {},
   "outputs": [
    {
     "data": {
      "text/plain": [
       "[[1, 2, 3, 4],\n",
       " [7, 8, 9, 10],\n",
       " [13, 14, 15, 16],\n",
       " [19, 20, 21, 22],\n",
       " [25, 26, 27, 28]]"
      ]
     },
     "execution_count": 441,
     "metadata": {},
     "output_type": "execute_result"
    }
   ],
   "source": [
    "s"
   ]
  },
  {
   "cell_type": "code",
   "execution_count": 451,
   "metadata": {},
   "outputs": [
    {
     "data": {
      "text/plain": [
       "[[1, 2, 3, 4, 10, 16, 22, 28, 27, 26, 25, 19, 13, 7], [8, 9, 15, 21, 20, 14]]"
      ]
     },
     "execution_count": 451,
     "metadata": {},
     "output_type": "execute_result"
    }
   ],
   "source": [
    "ls = []\n",
    "ls1= []\n",
    "m,n = 5, 4\n",
    "r = 2\n",
    "k = min(m, n)//2\n",
    "\n",
    "for i in range(k):\n",
    "    layer = []\n",
    "    for j in range(i, n-i-1):\n",
    "        layer.append(s[i][j])\n",
    "    for j in range(i, m-1-i):\n",
    "        layer.append(s[j][n-i-1])\n",
    "    for j in range(n-1-i, i, -1):\n",
    "        layer.append(s[m-i-1][j])\n",
    "    for j in range(m-i-1, i, -1):\n",
    "        layer.append(s[j][i])\n",
    "\n",
    "    ls.append(layer)\n",
    "\n",
    "# new = []\n",
    "# for i in range(k):\n",
    "#     row = ls[i]\n",
    "#     # find out rotation number\n",
    "#     rot = r%len(row)\n",
    "#     new.append(row[rot:]+row[:rot])\n",
    "\n",
    "# switch values\n",
    "# for i in range(k):\n",
    "    \n",
    "ls"
   ]
  },
  {
   "cell_type": "code",
   "execution_count": 426,
   "metadata": {},
   "outputs": [
    {
     "data": {
      "text/plain": [
       "[[3, 4, 8, 12], [2, 6, 7, 16], [1, 10, 11, 15], [5, 9, 13, 14]]"
      ]
     },
     "execution_count": 426,
     "metadata": {},
     "output_type": "execute_result"
    }
   ],
   "source": [
    "counter = 0\n",
    "for i in range(k):\n",
    "    for j in range(i, n-i-1):\n",
    "        s[i][j] = new_new[counter]\n",
    "        counter+=1\n",
    "    for j in range(i, m-1-i):\n",
    "        s[j][n-i-1] = new_new[counter]\n",
    "        counter+=1\n",
    "    for j in range(n-1-i, i, -1):\n",
    "        s[n-i-1][j] = new_new[counter]\n",
    "        counter+=1\n",
    "    for j in range(n-i-1, i, -1):\n",
    "        s[j][i] = new_new[counter]\n",
    "        counter+=1\n",
    "s"
   ]
  },
  {
   "cell_type": "code",
   "execution_count": 427,
   "metadata": {},
   "outputs": [
    {
     "name": "stdout",
     "output_type": "stream",
     "text": [
      "3 4 8 12\n",
      "2 6 7 16\n",
      "1 10 11 15\n",
      "5 9 13 14\n"
     ]
    }
   ],
   "source": [
    "for i in s:\n",
    "    print(*i)"
   ]
  },
  {
   "cell_type": "code",
   "execution_count": 415,
   "metadata": {},
   "outputs": [
    {
     "data": {
      "text/plain": [
       "[[1, 1, 3, 4], [5, 6, 7, 8], [9, 10, 11, 12], [13, 14, 15, 16]]"
      ]
     },
     "execution_count": 415,
     "metadata": {},
     "output_type": "execute_result"
    }
   ],
   "source": [
    "s[0][1] = 1\n",
    "s"
   ]
  },
  {
   "cell_type": "code",
   "execution_count": 433,
   "metadata": {},
   "outputs": [
    {
     "data": {
      "text/plain": [
       "[3, 4, 8, 12, 16, 15, 14, 13, 9, 5, 1, 2, 11, 10, 6, 7]"
      ]
     },
     "execution_count": 433,
     "metadata": {},
     "output_type": "execute_result"
    }
   ],
   "source": [
    "for i in new:\n",
    "    for j in i:\n",
    "        new_new.append(j)\n",
    "new_new"
   ]
  },
  {
   "cell_type": "code",
   "execution_count": 469,
   "metadata": {},
   "outputs": [
    {
     "data": {
      "text/plain": [
       "[[-1, -1, -1, -3, -5],\n",
       " [0, 1, -1, -2, 9],\n",
       " [-1, -9, 2, 3, 5],\n",
       " [-1, -2, -2, -2, 1]]"
      ]
     },
     "execution_count": 469,
     "metadata": {},
     "output_type": "execute_result"
    }
   ],
   "source": [
    "s  = [[-1,-1,-1,-3,-5],[0,1,-1,-2,9],[-1,-9,2,3,5],[-1,-2,-2,-2,1]]\n",
    "s"
   ]
  },
  {
   "cell_type": "code",
   "execution_count": 470,
   "metadata": {},
   "outputs": [],
   "source": [
    "def count_negative(l):\n",
    "    \"\"\"counting number of negative values in 2D list\n",
    "    \"\"\"\n",
    "    res = []\n",
    "    m = len(l) # number of rows\n",
    "    n = len(l[0]) # number of columns\n",
    "    \n",
    "    #sort the list from lowest to highest\n",
    "    for i in range(m):\n",
    "        l[i] = sorted(l[i])\n",
    "    \n",
    "    for i in range(m):\n",
    "        for j in range(n-1, -1, -1):\n",
    "            if l[i][j]<0:\n",
    "                res.append(j+1)\n",
    "                break\n",
    "            \n",
    "    print(sum(res))\n",
    "            \n",
    "    \n",
    "    "
   ]
  },
  {
   "cell_type": "code",
   "execution_count": 471,
   "metadata": {},
   "outputs": [
    {
     "name": "stdout",
     "output_type": "stream",
     "text": [
      "13\n"
     ]
    }
   ],
   "source": [
    "count_negative(s)"
   ]
  },
  {
   "cell_type": "code",
   "execution_count": 472,
   "metadata": {},
   "outputs": [
    {
     "name": "stdin",
     "output_type": "stream",
     "text": [
      " 3 4 5\n",
      " 4 5 5\n",
      " 3 4 5\n",
      " 3 4 5\n"
     ]
    }
   ],
   "source": [
    "l =[]\n",
    "m = 4\n",
    "for _ in range(m):\n",
    "    l.append(list(map(int, input().split())))"
   ]
  },
  {
   "cell_type": "code",
   "execution_count": 473,
   "metadata": {},
   "outputs": [
    {
     "data": {
      "text/plain": [
       "[[3, 4, 5], [4, 5, 5], [3, 4, 5], [3, 4, 5]]"
      ]
     },
     "execution_count": 473,
     "metadata": {},
     "output_type": "execute_result"
    }
   ],
   "source": [
    "l"
   ]
  },
  {
   "cell_type": "code",
   "execution_count": 499,
   "metadata": {},
   "outputs": [
    {
     "data": {
      "text/plain": [
       "4"
      ]
     },
     "execution_count": 499,
     "metadata": {},
     "output_type": "execute_result"
    }
   ],
   "source": [
    "arr = [1,2,3,4,5]\n",
    "\n",
    "arr.index(5)"
   ]
  },
  {
   "cell_type": "code",
   "execution_count": 587,
   "metadata": {},
   "outputs": [
    {
     "name": "stdout",
     "output_type": "stream",
     "text": [
      "0\n",
      "1\n",
      "2\n",
      "3\n",
      "4\n",
      "5\n",
      "6\n",
      "7\n",
      "8\n",
      "9\n",
      "10\n",
      "11\n",
      "12\n",
      "13\n",
      "14\n",
      "15\n",
      "16\n",
      "17\n",
      "18\n",
      "19\n",
      "20\n",
      "21\n",
      "22\n",
      "23\n",
      "24\n",
      "25\n",
      "26\n",
      "27\n",
      "28\n",
      "29\n",
      "30\n",
      "31\n",
      "32\n",
      "33\n",
      "34\n",
      "35\n",
      "36\n",
      "37\n",
      "38\n",
      "39\n",
      "40\n",
      "41\n",
      "42\n",
      "43\n",
      "44\n",
      "45\n",
      "46\n",
      "47\n",
      "48\n",
      "49\n",
      "50\n",
      "51\n",
      "52\n",
      "53\n",
      "54\n",
      "55\n",
      "56\n",
      "57\n",
      "58\n",
      "59\n",
      "60\n",
      "61\n",
      "62\n",
      "63\n",
      "64\n",
      "65\n",
      "66\n",
      "67\n",
      "68\n",
      "69\n",
      "70\n",
      "71\n",
      "72\n",
      "73\n",
      "74\n",
      "75\n",
      "76\n",
      "77\n",
      "78\n",
      "79\n",
      "80\n",
      "81\n",
      "82\n",
      "83\n",
      "84\n",
      "85\n",
      "86\n",
      "87\n",
      "88\n",
      "89\n",
      "90\n",
      "91\n",
      "92\n",
      "93\n",
      "94\n",
      "95\n",
      "96\n",
      "97\n",
      "98\n",
      "99\n",
      "100\n",
      "101\n",
      "102\n",
      "103\n",
      "104\n",
      "105\n",
      "106\n",
      "107\n",
      "108\n",
      "109\n",
      "110\n",
      "111\n",
      "112\n",
      "113\n",
      "114\n",
      "115\n",
      "116\n",
      "117\n",
      "118\n",
      "119\n",
      "120\n",
      "121\n",
      "122\n",
      "123\n",
      "124\n",
      "125\n",
      "126\n",
      "127\n",
      "128\n",
      "129\n",
      "130\n",
      "131\n",
      "132\n",
      "133\n",
      "134\n",
      "135\n",
      "136\n",
      "137\n",
      "138\n",
      "139\n",
      "140\n",
      "141\n",
      "142\n",
      "143\n",
      "144\n",
      "145\n",
      "146\n",
      "147\n",
      "148\n",
      "149\n",
      "150\n",
      "151\n",
      "152\n",
      "153\n",
      "154\n",
      "155\n",
      "156\n",
      "157\n",
      "158\n",
      "159\n",
      "160\n",
      "161\n",
      "161 [37, 198, 36, 34, 12] [198, 36, 34, 12, 25, 13, 15, 23, 19, 27, 3, 35, 5, 30, 16, 9, 7, 26, 21, 29, 17, 4, 11, 2, 28, 10, 1, 6, 18, 20, 14, 31, 32, 33, 24, 22, 197]\n",
      "162\n",
      "162 [37, 36, 198, 34, 12] [198, 34, 12, 25, 13, 15, 23, 19, 27, 3, 35, 5, 30, 16, 9, 7, 26, 21, 29, 17, 4, 11, 2, 28, 10, 1, 6, 18, 20, 14, 31, 32, 33, 24, 22, 197]\n"
     ]
    },
    {
     "data": {
      "text/plain": [
       "163"
      ]
     },
     "execution_count": 587,
     "metadata": {},
     "output_type": "execute_result"
    }
   ],
   "source": [
    "n = len(arr)\n",
    "k = 162\n",
    "counter =0\n",
    "\n",
    "for i in range(n):\n",
    "    \n",
    "    while counter<=k:\n",
    "        mx_idx = arr.index(max(arr[i:]))\n",
    "        arr[i], arr[mx_idx] = arr[mx_idx], arr[i]\n",
    "        print(i)\n",
    "        if (i>=161) and (i <=162):\n",
    "            print(i, arr[160:165], arr[i:])\n",
    "        counter+=1\n",
    "        i+=1\n",
    "\n",
    "counter\n",
    "\n",
    "\n",
    "    \n",
    "    \n"
   ]
  },
  {
   "cell_type": "code",
   "execution_count": 535,
   "metadata": {},
   "outputs": [
    {
     "name": "stdin",
     "output_type": "stream",
     "text": [
      " 198 197 196 195 194 193 192 191 190 189 188 187 186 185 184 183 182 181 180 179 178 177 176 175 174 173 172 171 170 169 168 167 166 165 164 163 162 161 160 159 158 157 156 155 154 153 152 151 150 149 148 147 146 145 144 143 142 141 140 139 138 137 136 135 134 133 132 131 130 129 128 127 126 125 124 123 122 121 120 119 118 117 116 115 114 113 112 111 110 109 108 107 106 105 104 103 102 101 100 99 98 97 96 95 94 93 92 91 90 89 88 87 86 85 84 83 82 81 80 79 78 77 76 75 74 73 72 71 70 69 68 67 66 65 64 63 62 61 60 59 58 57 56 55 54 53 52 51 50 49 48 47 46 45 44 43 42 41 40 39 38 37 36 35 12 25 13 15 23 19 27 3 34 5 30 16 9 7 26 21 29 17 4 11 2 28 10 1 6 18 20 14 31 32 33 24 22 8\n"
     ]
    }
   ],
   "source": [
    "t = list(map(int, input().split()))\n"
   ]
  },
  {
   "cell_type": "code",
   "execution_count": 611,
   "metadata": {},
   "outputs": [
    {
     "name": "stdin",
     "output_type": "stream",
     "text": [
      " 145 161 11 116 64 85 158 167 125 14 104 34 15 119 51 118 63 188 166 113 114 194 126 53 133 109 48 40 32 52 108 62 153 105 44 129 89 186 45 73 115 66 130 56 141 197 36 192 107 24 22 152 81 137 111 101 100 144 9 16 31 154 198 159 70 179 50 172 39 155 79 37 87 69 121 134 93 7 5 17 110 122 96 103 177 193 95 33 164 71 143 82 77 75 162 191 102 19 91 94 157 184 35 23 99 180 182 6 59 176 146 13 165 135 3 4 195 112 189 30 27 168 123 41 57 136 190 29 132 76 38 1 10 83 124 163 20 117 178 2 42 84 12 171 67 43 58 183 8 138 68 149 131 47 74 60 80 90 78 160 169 21 61 187 92 25 181 147 88 106 55 97 150 120 128 139 140 175 26 127 173 185 65 196 86 28 98 54 142 18 151 46 49 170 174 156 148 72\n"
     ]
    }
   ],
   "source": [
    "arr = list(map(int, input().split()))"
   ]
  },
  {
   "cell_type": "code",
   "execution_count": 589,
   "metadata": {},
   "outputs": [
    {
     "data": {
      "text/plain": [
       "[4, 3, 3, 1]"
      ]
     },
     "execution_count": 589,
     "metadata": {},
     "output_type": "execute_result"
    }
   ],
   "source": [
    "sorted([3,4,1,3], reverse = True)"
   ]
  },
  {
   "cell_type": "code",
   "execution_count": 612,
   "metadata": {},
   "outputs": [],
   "source": [
    "def largestPermutation(k:int, arr:list):\n",
    "    \"\"\"\n",
    "    \"\"\"\n",
    "    sorted_arr = sorted(arr, reverse = True)\n",
    "    index_dict = {v:i for i, v in enumerate(arr)}\n",
    "    counter = 0\n",
    "    \n",
    "    if k==0:\n",
    "        print(arr)\n",
    "    else:\n",
    "        for i,v in enumerate(arr):\n",
    "            largest_value = sorted_arr[i]\n",
    "            lg_idx = index_dict[largest_value] # index for largest value in unsorted arr\n",
    "            if (largest_value!=arr[i]) and (counter<k):\n",
    "                arr[lg_idx], arr[i] = arr[i], arr[lg_idx]\n",
    "                index_dict[v] = lg_idx \n",
    "                index_dict[largest_value] = i\n",
    "                counter +=1\n",
    "                \n",
    "    return arr\n",
    "\n",
    "                \n",
    "        \n",
    "    "
   ]
  },
  {
   "cell_type": "code",
   "execution_count": 676,
   "metadata": {},
   "outputs": [],
   "source": [
    "n = 8\n",
    "k = 3\n",
    "c = [1,3,5,7,9,10,11,12]\n",
    "c_r = sorted(c, reverse= True)\n",
    "total= []"
   ]
  },
  {
   "cell_type": "code",
   "execution_count": 677,
   "metadata": {},
   "outputs": [
    {
     "data": {
      "text/plain": [
       "{0: 0, 1: 0, 2: 0}"
      ]
     },
     "execution_count": 677,
     "metadata": {},
     "output_type": "execute_result"
    }
   ],
   "source": [
    "d = {i:0 for i in range(k)}\n",
    "d"
   ]
  },
  {
   "cell_type": "code",
   "execution_count": 678,
   "metadata": {},
   "outputs": [
    {
     "data": {
      "text/plain": [
       "[12, 11, 10, 18, 14, 10, 9, 3]"
      ]
     },
     "execution_count": 678,
     "metadata": {},
     "output_type": "execute_result"
    }
   ],
   "source": [
    "for i,v in enumerate(c_r):\n",
    "    total.append((d[i%k]+1)*v)\n",
    "    d[i%k]+=1\n",
    "    \n",
    "total"
   ]
  },
  {
   "cell_type": "code",
   "execution_count": 655,
   "metadata": {},
   "outputs": [
    {
     "data": {
      "text/plain": [
       "{0: 3, 1: 3, 2: 2}"
      ]
     },
     "execution_count": 655,
     "metadata": {},
     "output_type": "execute_result"
    }
   ],
   "source": [
    "d"
   ]
  },
  {
   "cell_type": "code",
   "execution_count": 714,
   "metadata": {},
   "outputs": [
    {
     "data": {
      "text/plain": [
       "[822,\n",
       " 1520,\n",
       " 1784,\n",
       " 2422,\n",
       " 2822,\n",
       " 3142,\n",
       " 3902,\n",
       " 4094,\n",
       " 4157,\n",
       " 4504,\n",
       " 5413,\n",
       " 5629,\n",
       " 5857,\n",
       " 6643,\n",
       " 7232,\n",
       " 7288,\n",
       " 7802,\n",
       " 8245,\n",
       " 9739,\n",
       " 9948]"
      ]
     },
     "execution_count": 714,
     "metadata": {},
     "output_type": "execute_result"
    }
   ],
   "source": [
    "n = 20\n",
    "k = 5\n",
    "# arr = [10, 100,300, 200, 1000, 20 , 30]\n",
    "a_s = sorted(arr)\n",
    "a_s"
   ]
  },
  {
   "cell_type": "code",
   "execution_count": 687,
   "metadata": {},
   "outputs": [
    {
     "data": {
      "text/plain": [
       "[20, 30, 100, 200]"
      ]
     },
     "execution_count": 687,
     "metadata": {},
     "output_type": "execute_result"
    }
   ],
   "source": [
    "a_s = sorted(arr)\n",
    "a_s[1:1+4]"
   ]
  },
  {
   "cell_type": "code",
   "execution_count": 711,
   "metadata": {},
   "outputs": [
    {
     "name": "stdout",
     "output_type": "stream",
     "text": [
      "2822 822\n",
      "3142 1520\n",
      "3902 1784\n",
      "4094 2422\n",
      "4157 2822\n",
      "4504 3142\n",
      "5413 3902\n",
      "5629 4094\n",
      "5857 4157\n",
      "6643 4504\n",
      "7232 5413\n",
      "7288 5629\n",
      "7802 5857\n",
      "8245 6643\n",
      "9739 7232\n",
      "9948 7288\n"
     ]
    },
    {
     "data": {
      "text/plain": [
       "[2000,\n",
       " 1622,\n",
       " 2118,\n",
       " 1672,\n",
       " 1335,\n",
       " 1362,\n",
       " 1511,\n",
       " 1535,\n",
       " 1700,\n",
       " 2139,\n",
       " 1819,\n",
       " 1659,\n",
       " 1945,\n",
       " 1602,\n",
       " 2507,\n",
       " 2660]"
      ]
     },
     "execution_count": 711,
     "metadata": {},
     "output_type": "execute_result"
    }
   ],
   "source": [
    "ls = []\n",
    "for i in range(len(a_s)):\n",
    "    if i+k<len(a_s):\n",
    "        print(a_s[i+k], a_s[i])\n",
    "        ls.append(a_s[i+k]- a_s[i])\n",
    "ls\n",
    "    "
   ]
  },
  {
   "cell_type": "code",
   "execution_count": 716,
   "metadata": {},
   "outputs": [
    {
     "name": "stdout",
     "output_type": "stream",
     "text": [
      "2822 [822, 1520, 1784, 2422, 2822]\n",
      "3142 [822, 1520, 1784, 2422, 2822, 3142]\n",
      "3902 [822, 1520, 1784, 2422, 2822, 3142, 3902]\n",
      "4094 [822, 1520, 1784, 2422, 2822, 3142, 3902, 4094]\n",
      "4157 [822, 1520, 1784, 2422, 2822, 3142, 3902, 4094, 4157]\n",
      "4504 [822, 1520, 1784, 2422, 2822, 3142, 3902, 4094, 4157, 4504]\n",
      "5413 [822, 1520, 1784, 2422, 2822, 3142, 3902, 4094, 4157, 4504, 5413]\n",
      "5629 [822, 1520, 1784, 2422, 2822, 3142, 3902, 4094, 4157, 4504, 5413, 5629]\n",
      "5857 [822, 1520, 1784, 2422, 2822, 3142, 3902, 4094, 4157, 4504, 5413, 5629, 5857]\n",
      "6643 [822, 1520, 1784, 2422, 2822, 3142, 3902, 4094, 4157, 4504, 5413, 5629, 5857, 6643]\n",
      "7232 [822, 1520, 1784, 2422, 2822, 3142, 3902, 4094, 4157, 4504, 5413, 5629, 5857, 6643, 7232]\n",
      "7288 [822, 1520, 1784, 2422, 2822, 3142, 3902, 4094, 4157, 4504, 5413, 5629, 5857, 6643, 7232, 7288]\n",
      "7802 [822, 1520, 1784, 2422, 2822, 3142, 3902, 4094, 4157, 4504, 5413, 5629, 5857, 6643, 7232, 7288, 7802]\n",
      "8245 [822, 1520, 1784, 2422, 2822, 3142, 3902, 4094, 4157, 4504, 5413, 5629, 5857, 6643, 7232, 7288, 7802, 8245]\n",
      "9739 [822, 1520, 1784, 2422, 2822, 3142, 3902, 4094, 4157, 4504, 5413, 5629, 5857, 6643, 7232, 7288, 7802, 8245, 9739]\n",
      "9948 [822, 1520, 1784, 2422, 2822, 3142, 3902, 4094, 4157, 4504, 5413, 5629, 5857, 6643, 7232, 7288, 7802, 8245, 9739, 9948]\n"
     ]
    },
    {
     "data": {
      "text/plain": [
       "[2000,\n",
       " 2320,\n",
       " 3080,\n",
       " 3272,\n",
       " 3335,\n",
       " 3682,\n",
       " 4591,\n",
       " 4807,\n",
       " 5035,\n",
       " 5821,\n",
       " 6410,\n",
       " 6466,\n",
       " 6980,\n",
       " 7423,\n",
       " 8917,\n",
       " 9126]"
      ]
     },
     "execution_count": 716,
     "metadata": {},
     "output_type": "execute_result"
    }
   ],
   "source": [
    "ls = []\n",
    "for i in range(len(a_s)):\n",
    "    if i+k<=len(a_s):\n",
    "        print(max(a_s[:i+k]), a_s[:i+k])\n",
    "        ls.append(max(a_s[:i+k])- min(a_s[:i+k]))\n",
    "ls\n",
    "    "
   ]
  },
  {
   "cell_type": "code",
   "execution_count": 703,
   "metadata": {},
   "outputs": [
    {
     "data": {
      "text/plain": [
       "1335"
      ]
     },
     "execution_count": 703,
     "metadata": {},
     "output_type": "execute_result"
    }
   ],
   "source": [
    "k-=1\n",
    "arr.sort()\n",
    "min(arr[i+k]-arr[i] for i in range(len(arr)-k))"
   ]
  },
  {
   "cell_type": "code",
   "execution_count": 704,
   "metadata": {},
   "outputs": [
    {
     "data": {
      "text/plain": [
       "[2000,\n",
       " 1622,\n",
       " 2118,\n",
       " 1672,\n",
       " 1335,\n",
       " 1362,\n",
       " 1511,\n",
       " 1535,\n",
       " 1700,\n",
       " 2139,\n",
       " 1819,\n",
       " 1659,\n",
       " 1945,\n",
       " 1602,\n",
       " 2507,\n",
       " 2660]"
      ]
     },
     "execution_count": 704,
     "metadata": {},
     "output_type": "execute_result"
    }
   ],
   "source": [
    "[arr[i+k]-arr[i] for i in range(len(arr)-k)]"
   ]
  },
  {
   "cell_type": "code",
   "execution_count": null,
   "metadata": {},
   "outputs": [],
   "source": []
  },
  {
   "cell_type": "code",
   "execution_count": 699,
   "metadata": {},
   "outputs": [],
   "source": [
    "arr = [4504,\n",
    "1520,\n",
    "5857,\n",
    "4094,\n",
    "4157,\n",
    "3902,\n",
    "822,\n",
    "6643,\n",
    "2422,\n",
    "7288,\n",
    "8245,\n",
    "9948,\n",
    "2822,\n",
    "1784,\n",
    "7802,\n",
    "3142,\n",
    "9739,\n",
    "5629,\n",
    "5413,\n",
    "7232]"
   ]
  },
  {
   "cell_type": "code",
   "execution_count": 731,
   "metadata": {},
   "outputs": [
    {
     "data": {
      "text/plain": [
       "dict_keys([1, 3, 2])"
      ]
     },
     "execution_count": 731,
     "metadata": {},
     "output_type": "execute_result"
    }
   ],
   "source": [
    "d = {1:2,2:4, 3:3}\n",
    "dict(sorted(d.items(), key = lambda x:x[1])).keys()"
   ]
  },
  {
   "cell_type": "code",
   "execution_count": 723,
   "metadata": {},
   "outputs": [
    {
     "data": {
      "text/plain": [
       "dict_items([(1, 2), (2, 4), (3, 3)])"
      ]
     },
     "execution_count": 723,
     "metadata": {},
     "output_type": "execute_result"
    }
   ],
   "source": [
    "d.items()"
   ]
  },
  {
   "cell_type": "code",
   "execution_count": 22,
   "metadata": {},
   "outputs": [
    {
     "data": {
      "text/plain": [
       "[10, 20, 40, 50, 100]"
      ]
     },
     "execution_count": 22,
     "metadata": {},
     "output_type": "execute_result"
    }
   ],
   "source": [
    "rank = [100,100,50,40,40,20,10]\n",
    "\n",
    "player = [5,25,50,120]\n",
    "u_rank = list(set(rank))\n",
    "n = len(u_rank)\n",
    "res = []\n",
    "u_rank.sort()\n",
    "u_rank"
   ]
  },
  {
   "cell_type": "code",
   "execution_count": 23,
   "metadata": {},
   "outputs": [
    {
     "data": {
      "text/plain": [
       "[6, 4, 2, 1]"
      ]
     },
     "execution_count": 23,
     "metadata": {},
     "output_type": "execute_result"
    }
   ],
   "source": [
    "i = 0\n",
    "for p in player:\n",
    "    while i<n and p>=u_rank[i]:\n",
    "        i+=1\n",
    "    res.append(n-i+1)\n",
    "res"
   ]
  },
  {
   "cell_type": "code",
   "execution_count": 7,
   "metadata": {},
   "outputs": [
    {
     "data": {
      "text/plain": [
       "[8, 6, 4]"
      ]
     },
     "execution_count": 7,
     "metadata": {},
     "output_type": "execute_result"
    }
   ],
   "source": [
    "res"
   ]
  },
  {
   "cell_type": "code",
   "execution_count": 782,
   "metadata": {},
   "outputs": [
    {
     "data": {
      "text/plain": [
       "[120, 100, 50, 40, 25, 20, 10, 5]"
      ]
     },
     "execution_count": 782,
     "metadata": {},
     "output_type": "execute_result"
    }
   ],
   "source": [
    "for i in player:\n",
    "    if i not in u_rank:\n",
    "        bisect.insort(u_rank, i)\n",
    "u_rank = sorted(u_rank, reverse = True)\n",
    "u_rank"
   ]
  },
  {
   "cell_type": "code",
   "execution_count": null,
   "metadata": {},
   "outputs": [],
   "source": []
  },
  {
   "cell_type": "code",
   "execution_count": 835,
   "metadata": {},
   "outputs": [
    {
     "name": "stdout",
     "output_type": "stream",
     "text": [
      "[5, 10, 20, 40, 50, 100] 6\n",
      "[10, 20, 25, 40, 50, 100] 4\n",
      "[10, 20, 40, 50, 100] 2\n",
      "[10, 20, 40, 50, 100, 120] 1\n"
     ]
    }
   ],
   "source": [
    "for i in player:\n",
    "    if i in u_rank:\n",
    "#         u_rank = sorted(u_rank, reverse=True)\n",
    "        print(u_rank, len(u_rank)-u_rank.index(i))\n",
    "    else:\n",
    "        bisect.insort(u_rank, i)\n",
    "#         u_rank = sorted(u_rank, reverse=True)\n",
    "        print(u_rank,len(u_rank)-u_rank.index(i)+1-1)\n",
    "        u_rank.remove(i)\n",
    "#         u_rank.sort()\n",
    "        "
   ]
  },
  {
   "cell_type": "code",
   "execution_count": 774,
   "metadata": {},
   "outputs": [
    {
     "data": {
      "text/plain": [
       "[5, 10, 20, 25, 40, 50, 100, 120]"
      ]
     },
     "execution_count": 774,
     "metadata": {},
     "output_type": "execute_result"
    }
   ],
   "source": [
    "u_rank"
   ]
  },
  {
   "cell_type": "code",
   "execution_count": 801,
   "metadata": {},
   "outputs": [
    {
     "name": "stdout",
     "output_type": "stream",
     "text": [
      "0\n",
      "\n",
      "1\n",
      "\n",
      "2\n",
      "\n",
      "3\n",
      "\n",
      "4\n",
      "\n",
      "5\n",
      "\n",
      "6\n",
      "\n",
      "7\n",
      "\n",
      "8\n",
      "\n",
      "9\n",
      "\n"
     ]
    }
   ],
   "source": [
    "for i in player:\n",
    "    if i in u_rank:\n",
    "#         u_rank = sorted(u_rank, reverse=True)\n",
    "        print(u_rank, len(u_rank)-u_rank.index(i))\n",
    "    else:\n",
    "        bisect.insort(u_rank, i)\n",
    "#         u_rank = sorted(u_rank, reverse=True)\n",
    "        print(u_rank,len(u_rank)-u_rank.index(i)+1-1)\n",
    "        u_rank.remove(i)\n",
    "    "
   ]
  },
  {
   "cell_type": "code",
   "execution_count": 802,
   "metadata": {},
   "outputs": [
    {
     "name": "stdout",
     "output_type": "stream",
     "text": [
      "6\n",
      "\n",
      "5\n",
      "\n",
      "4\n",
      "\n",
      "2\n",
      "\n",
      "1\n",
      "\n"
     ]
    }
   ],
   "source": [
    "def climbingLeaderboard(ranked, player):\n",
    "    # Write your code here\n",
    "    u_rank = sorted(list(dict(Counter(ranked)).keys()), reverse =False)\n",
    "    for i in player:\n",
    "        if i in u_rank:\n",
    "            u_rank = sorted(u_rank, reverse=True)\n",
    "            print(f'{u_rank.index(i)+1}\\n')\n",
    "        else:\n",
    "            bisect.insort(u_rank, i)\n",
    "            u_rank = sorted(u_rank, reverse=True)\n",
    "            print(f'{u_rank.index(i)+1}\\n')\n",
    "            u_rank.sort()\n",
    "            \n",
    "climbingLeaderboard([100,90,90,80,75,60],[50,65,77,90,102])"
   ]
  },
  {
   "cell_type": "code",
   "execution_count": 817,
   "metadata": {},
   "outputs": [
    {
     "data": {
      "text/plain": [
       "[10, 20, 40, 40, 50, 100, 100]"
      ]
     },
     "execution_count": 817,
     "metadata": {},
     "output_type": "execute_result"
    }
   ],
   "source": [
    "rank.reverse()\n",
    "rank"
   ]
  },
  {
   "cell_type": "code",
   "execution_count": 25,
   "metadata": {},
   "outputs": [
    {
     "data": {
      "text/plain": [
       "2"
      ]
     },
     "execution_count": 25,
     "metadata": {},
     "output_type": "execute_result"
    }
   ],
   "source": [
    "50%4"
   ]
  },
  {
   "cell_type": "code",
   "execution_count": 33,
   "metadata": {},
   "outputs": [
    {
     "data": {
      "text/plain": [
       "[0, 0, 0]"
      ]
     },
     "execution_count": 33,
     "metadata": {},
     "output_type": "execute_result"
    }
   ],
   "source": [
    "arr = [1,2,5,4,5,8,4]\n",
    "\n",
    "f = [0]*3\n",
    "f"
   ]
  },
  {
   "cell_type": "code",
   "execution_count": 34,
   "metadata": {},
   "outputs": [
    {
     "name": "stdout",
     "output_type": "stream",
     "text": [
      "1\n",
      "2\n",
      "2\n",
      "1\n",
      "2\n",
      "2\n",
      "1\n"
     ]
    },
    {
     "data": {
      "text/plain": [
       "[0, 3, 4]"
      ]
     },
     "execution_count": 34,
     "metadata": {},
     "output_type": "execute_result"
    }
   ],
   "source": [
    "for i in range(len(arr)):\n",
    "    print(arr[i]%3)\n",
    "    f[arr[i]%3]+=1\n",
    "f"
   ]
  },
  {
   "cell_type": "code",
   "execution_count": 30,
   "metadata": {},
   "outputs": [
    {
     "data": {
      "text/plain": [
       "4"
      ]
     },
     "execution_count": 30,
     "metadata": {},
     "output_type": "execute_result"
    }
   ],
   "source": [
    "8//2"
   ]
  },
  {
   "cell_type": "code",
   "execution_count": 35,
   "metadata": {},
   "outputs": [
    {
     "name": "stdin",
     "output_type": "stream",
     "text": [
      " 24 29 70 43 12 27 29 24 41 12 41 43 24 70 24 100 41 43 43 100 29 70 100 43 41 27 70 70 59 41 24 24 29 43 24 27 70 24 27 70 24 70 27 24 43 27 100 41 12 70 43 70 62 12 59 29 62 41 100 43 43 59 59 70 12 27 43 43 27 27 27 24 43 43 62 43 70 29\n"
     ]
    }
   ],
   "source": [
    "arr = list(map(int, input().split()))"
   ]
  },
  {
   "cell_type": "code",
   "execution_count": 44,
   "metadata": {},
   "outputs": [
    {
     "data": {
      "text/plain": [
       "{43: 15, 70: 12, 24: 11, 27: 10, 41: 7, 29: 6, 12: 5, 100: 5, 59: 4, 62: 3}"
      ]
     },
     "execution_count": 44,
     "metadata": {},
     "output_type": "execute_result"
    }
   ],
   "source": [
    "from collections import Counter\n",
    "d = dict(Counter(arr))\n",
    "d = dict(sorted(d.items(), key = lambda x: x[1], reverse = True))\n",
    "d"
   ]
  },
  {
   "cell_type": "code",
   "execution_count": 46,
   "metadata": {},
   "outputs": [
    {
     "ename": "KeyError",
     "evalue": "1",
     "output_type": "error",
     "traceback": [
      "\u001b[0;31m---------------------------------------------------------------------------\u001b[0m",
      "\u001b[0;31mKeyError\u001b[0m                                  Traceback (most recent call last)",
      "\u001b[0;32m<ipython-input-46-0bc54e64741b>\u001b[0m in \u001b[0;36m<module>\u001b[0;34m\u001b[0m\n\u001b[1;32m      1\u001b[0m \u001b[0;32mfor\u001b[0m \u001b[0mi\u001b[0m \u001b[0;32min\u001b[0m \u001b[0mrange\u001b[0m\u001b[0;34m(\u001b[0m\u001b[0;36m1\u001b[0m\u001b[0;34m,\u001b[0m \u001b[0mlen\u001b[0m\u001b[0;34m(\u001b[0m\u001b[0md\u001b[0m\u001b[0;34m)\u001b[0m\u001b[0;34m,\u001b[0m\u001b[0;36m1\u001b[0m\u001b[0;34m)\u001b[0m\u001b[0;34m:\u001b[0m\u001b[0;34m\u001b[0m\u001b[0;34m\u001b[0m\u001b[0m\n\u001b[0;32m----> 2\u001b[0;31m     \u001b[0mprint\u001b[0m\u001b[0;34m(\u001b[0m\u001b[0md\u001b[0m\u001b[0;34m[\u001b[0m\u001b[0mi\u001b[0m\u001b[0;34m]\u001b[0m\u001b[0;34m)\u001b[0m\u001b[0;34m\u001b[0m\u001b[0;34m\u001b[0m\u001b[0m\n\u001b[0m",
      "\u001b[0;31mKeyError\u001b[0m: 1"
     ]
    }
   ],
   "source": [
    "for i in range(1, len(d)):\n",
    "    print(d[i])"
   ]
  },
  {
   "cell_type": "code",
   "execution_count": 47,
   "metadata": {},
   "outputs": [
    {
     "data": {
      "text/plain": [
       "10"
      ]
     },
     "execution_count": 47,
     "metadata": {},
     "output_type": "execute_result"
    }
   ],
   "source": [
    "len(d)"
   ]
  },
  {
   "cell_type": "code",
   "execution_count": 56,
   "metadata": {},
   "outputs": [
    {
     "name": "stdout",
     "output_type": "stream",
     "text": [
      "15\n",
      "12\n",
      "11\n",
      "10\n",
      "7\n",
      "6\n",
      "5\n",
      "5\n",
      "4\n",
      "3\n"
     ]
    }
   ],
   "source": [
    "for i, v in enumerate(d.items()):\n",
    "    print(v[1])"
   ]
  },
  {
   "cell_type": "code",
   "execution_count": null,
   "metadata": {},
   "outputs": [],
   "source": [
    "max([arr.count(i) for i in arr])"
   ]
  },
  {
   "cell_type": "code",
   "execution_count": 61,
   "metadata": {},
   "outputs": [
    {
     "data": {
      "text/plain": [
       "[12,\n",
       " 12,\n",
       " 12,\n",
       " 12,\n",
       " 12,\n",
       " 24,\n",
       " 24,\n",
       " 24,\n",
       " 24,\n",
       " 24,\n",
       " 24,\n",
       " 24,\n",
       " 24,\n",
       " 24,\n",
       " 24,\n",
       " 24,\n",
       " 27,\n",
       " 27,\n",
       " 27,\n",
       " 27,\n",
       " 27,\n",
       " 27,\n",
       " 27,\n",
       " 27,\n",
       " 27,\n",
       " 27,\n",
       " 29,\n",
       " 29,\n",
       " 29,\n",
       " 29,\n",
       " 29,\n",
       " 29,\n",
       " 41,\n",
       " 41,\n",
       " 41,\n",
       " 41,\n",
       " 41,\n",
       " 41,\n",
       " 41,\n",
       " 43,\n",
       " 43,\n",
       " 43,\n",
       " 43,\n",
       " 43,\n",
       " 43,\n",
       " 43,\n",
       " 43,\n",
       " 43,\n",
       " 43,\n",
       " 43,\n",
       " 43,\n",
       " 43,\n",
       " 43,\n",
       " 43,\n",
       " 59,\n",
       " 59,\n",
       " 59,\n",
       " 59,\n",
       " 62,\n",
       " 62,\n",
       " 62,\n",
       " 70,\n",
       " 70,\n",
       " 70,\n",
       " 70,\n",
       " 70,\n",
       " 70,\n",
       " 70,\n",
       " 70,\n",
       " 70,\n",
       " 70,\n",
       " 70,\n",
       " 70,\n",
       " 100,\n",
       " 100,\n",
       " 100,\n",
       " 100,\n",
       " 100]"
      ]
     },
     "execution_count": 61,
     "metadata": {},
     "output_type": "execute_result"
    }
   ],
   "source": [
    "arr.sort()\n",
    "arr"
   ]
  },
  {
   "cell_type": "code",
   "execution_count": 62,
   "metadata": {},
   "outputs": [
    {
     "data": {
      "text/plain": [
       "5"
      ]
     },
     "execution_count": 62,
     "metadata": {},
     "output_type": "execute_result"
    }
   ],
   "source": [
    "arr.count(12)"
   ]
  },
  {
   "cell_type": "code",
   "execution_count": 63,
   "metadata": {},
   "outputs": [
    {
     "data": {
      "text/plain": [
       "63"
      ]
     },
     "execution_count": 63,
     "metadata": {},
     "output_type": "execute_result"
    }
   ],
   "source": [
    "len(arr) - max(arr.count(i) for i in arr)"
   ]
  },
  {
   "cell_type": "code",
   "execution_count": 73,
   "metadata": {},
   "outputs": [
    {
     "data": {
      "text/plain": [
       "2.8284271247461903"
      ]
     },
     "execution_count": 73,
     "metadata": {},
     "output_type": "execute_result"
    }
   ],
   "source": [
    "import math\n",
    "math.sqrt(8)"
   ]
  },
  {
   "cell_type": "code",
   "execution_count": 75,
   "metadata": {},
   "outputs": [],
   "source": [
    "r, c = 10,10"
   ]
  },
  {
   "cell_type": "code",
   "execution_count": 10,
   "metadata": {},
   "outputs": [
    {
     "ename": "SyntaxError",
     "evalue": "invalid syntax (<ipython-input-10-62f09367e1e0>, line 7)",
     "output_type": "error",
     "traceback": [
      "\u001b[0;36m  File \u001b[0;32m\"<ipython-input-10-62f09367e1e0>\"\u001b[0;36m, line \u001b[0;32m7\u001b[0m\n\u001b[0;31m    else:\u001b[0m\n\u001b[0m       ^\u001b[0m\n\u001b[0;31mSyntaxError\u001b[0m\u001b[0;31m:\u001b[0m invalid syntax\n"
     ]
    }
   ],
   "source": [
    "s = 'floatintegerdd'\n",
    "for i in range(len(s)):\n",
    "    sub =''\n",
    "    while ((i+1)%3!=0):\n",
    "        i+=1\n",
    "    print(f'{sub[i]}\\n')\n",
    "    else:\n",
    "        print(s[i])\n",
    "    "
   ]
  },
  {
   "cell_type": "code",
   "execution_count": 13,
   "metadata": {},
   "outputs": [
    {
     "data": {
      "text/plain": [
       "13"
      ]
     },
     "execution_count": 13,
     "metadata": {},
     "output_type": "execute_result"
    }
   ],
   "source": [
    "i"
   ]
  },
  {
   "cell_type": "code",
   "execution_count": 17,
   "metadata": {},
   "outputs": [],
   "source": []
  },
  {
   "cell_type": "code",
   "execution_count": 35,
   "metadata": {},
   "outputs": [
    {
     "name": "stdout",
     "output_type": "stream",
     "text": [
      "flo,break \n",
      "\n",
      "ati,break \n",
      "\n",
      "nte,break \n",
      "\n",
      "ger,break \n",
      "\n",
      "dd\n"
     ]
    }
   ],
   "source": [
    "s = 'floatintegerdd'\n",
    "sub = ''\n",
    "for i,v in enumerate(s):\n",
    "    if (i+1)%3!=0:\n",
    "        sub +=v\n",
    "        if i==len(s)-1:\n",
    "            print(sub)\n",
    "    else:\n",
    "        sub +=v\n",
    "        print(f'{sub},break \\n')\n",
    "        sub = ''\n",
    "\n",
    "\n",
    "    \n"
   ]
  },
  {
   "cell_type": "code",
   "execution_count": 7,
   "metadata": {},
   "outputs": [
    {
     "data": {
      "text/plain": [
       "'flo'"
      ]
     },
     "execution_count": 7,
     "metadata": {},
     "output_type": "execute_result"
    }
   ],
   "source": [
    "s[0:3]"
   ]
  },
  {
   "cell_type": "code",
   "execution_count": 4,
   "metadata": {},
   "outputs": [
    {
     "data": {
      "text/plain": [
       "'iff'"
      ]
     },
     "execution_count": 4,
     "metadata": {},
     "output_type": "execute_result"
    }
   ],
   "source": [
    "'i'\n",
    "s=''\n",
    "s+='iff'\n",
    "s"
   ]
  },
  {
   "cell_type": "code",
   "execution_count": 37,
   "metadata": {},
   "outputs": [
    {
     "data": {
      "text/plain": [
       "['flo', 'ati', 'nte', 'ger', 'dd']"
      ]
     },
     "execution_count": 37,
     "metadata": {},
     "output_type": "execute_result"
    }
   ],
   "source": [
    "sub = ''\n",
    "l = []\n",
    "for i,v in enumerate(s):\n",
    "    if (i+1)%3!=0:\n",
    "        sub +=v\n",
    "        if i==len(s)-1:\n",
    "            l.append(sub)\n",
    "    else:\n",
    "        sub +=v\n",
    "        l.append(sub)\n",
    "        sub = ''\n",
    "l"
   ]
  },
  {
   "cell_type": "code",
   "execution_count": 68,
   "metadata": {},
   "outputs": [
    {
     "name": "stdout",
     "output_type": "stream",
     "text": [
      "3 4\n"
     ]
    }
   ],
   "source": [
    "import math\n",
    "n = 10\n",
    "s = 'feedthedog'\n",
    "r, c = math.floor(math.sqrt(n)), math.ceil(math.sqrt(n))\n",
    "if r*c<n:\n",
    "    r+=1\n",
    "print(r, c)"
   ]
  },
  {
   "cell_type": "code",
   "execution_count": 81,
   "metadata": {},
   "outputs": [
    {
     "name": "stdout",
     "output_type": "stream",
     "text": [
      "f 0\n",
      "t 0\n",
      "o 0\n",
      "e 1\n",
      "h 1\n",
      "g 1\n",
      "e 2\n",
      "e 2\n",
      "d 3\n",
      "d 3\n"
     ]
    },
    {
     "data": {
      "text/plain": [
       "['fto', 'ehg', 'ee', 'dd']"
      ]
     },
     "execution_count": 81,
     "metadata": {},
     "output_type": "execute_result"
    }
   ],
   "source": [
    "res =[]\n",
    "for i in range(c):\n",
    "    temp = []\n",
    "    j = 0\n",
    "    while i+j<n:\n",
    "        temp.append(s[i+j])\n",
    "        print(s[i+j],i)\n",
    "        j+=c\n",
    "    res.append(''.join(temp))\n",
    "    \n",
    "res\n",
    "    "
   ]
  },
  {
   "cell_type": "code",
   "execution_count": 104,
   "metadata": {},
   "outputs": [
    {
     "name": "stdout",
     "output_type": "stream",
     "text": [
      "0\n",
      "1\n",
      "2\n",
      "3\n"
     ]
    }
   ],
   "source": [
    "for i in range(4):print(i)"
   ]
  },
  {
   "cell_type": "code",
   "execution_count": 107,
   "metadata": {},
   "outputs": [
    {
     "name": "stdout",
     "output_type": "stream",
     "text": [
      "feed\n",
      "thed\n",
      "og\n",
      "\n"
     ]
    }
   ],
   "source": [
    "ct = 0\n",
    "s = 'feedthedog'\n",
    "for i in range(c):\n",
    "    j =0\n",
    "    sub = ''\n",
    "    while j<c and ct<len(s):\n",
    "        sub+=s[ct]\n",
    "#         print(sub, s[ct], ct, j)\n",
    "        j+=1\n",
    "        ct+=1\n",
    "        \n",
    "        \n",
    "        \n",
    "    print(sub)\n",
    "        "
   ]
  },
  {
   "cell_type": "code",
   "execution_count": 62,
   "metadata": {},
   "outputs": [
    {
     "data": {
      "text/plain": [
       "['feed', 'thed', 'og']"
      ]
     },
     "execution_count": 62,
     "metadata": {},
     "output_type": "execute_result"
    }
   ],
   "source": [
    "sub = ''\n",
    "l = []\n",
    "for i,v in enumerate(s):\n",
    "    if (i+1)%4!=0:\n",
    "        sub +=v\n",
    "        if i==len(s)-1:\n",
    "            l.append(sub)\n",
    "    else:\n",
    "        sub +=v\n",
    "        l.append(sub)\n",
    "        sub = ''\n",
    "\n",
    "    \n"
   ]
  },
  {
   "cell_type": "code",
   "execution_count": 47,
   "metadata": {},
   "outputs": [
    {
     "data": {
      "text/plain": [
       "3"
      ]
     },
     "execution_count": 47,
     "metadata": {},
     "output_type": "execute_result"
    }
   ],
   "source": [
    "for i in range(len(s)):"
   ]
  },
  {
   "cell_type": "code",
   "execution_count": 51,
   "metadata": {},
   "outputs": [
    {
     "data": {
      "text/plain": [
       "3.1622776601683795"
      ]
     },
     "execution_count": 51,
     "metadata": {},
     "output_type": "execute_result"
    }
   ],
   "source": [
    "math.sqrt(n)"
   ]
  },
  {
   "cell_type": "code",
   "execution_count": 114,
   "metadata": {},
   "outputs": [
    {
     "data": {
      "text/plain": [
       "True"
      ]
     },
     "execution_count": 114,
     "metadata": {},
     "output_type": "execute_result"
    }
   ],
   "source": [
    "'z'>'y'"
   ]
  },
  {
   "cell_type": "code",
   "execution_count": 116,
   "metadata": {},
   "outputs": [
    {
     "data": {
      "text/plain": [
       "True"
      ]
     },
     "execution_count": 116,
     "metadata": {},
     "output_type": "execute_result"
    }
   ],
   "source": [
    "hcdk"
   ]
  },
  {
   "cell_type": "code",
   "execution_count": 152,
   "metadata": {},
   "outputs": [
    {
     "data": {
      "text/plain": [
       "['d', 'k', 'h', 'c']"
      ]
     },
     "execution_count": 152,
     "metadata": {},
     "output_type": "execute_result"
    }
   ],
   "source": [
    "s = 'dkhc'\n",
    "sl = list(s)\n",
    "sl"
   ]
  },
  {
   "cell_type": "code",
   "execution_count": 148,
   "metadata": {},
   "outputs": [
    {
     "data": {
      "text/plain": [
       "['k', 'h', 'd', 'c']"
      ]
     },
     "execution_count": 148,
     "metadata": {},
     "output_type": "execute_result"
    }
   ],
   "source": [
    "sl.sort(reverse =True)\n",
    "sl"
   ]
  },
  {
   "cell_type": "code",
   "execution_count": 131,
   "metadata": {},
   "outputs": [
    {
     "data": {
      "text/plain": [
       "['k', 'd', 'h', 'c']"
      ]
     },
     "execution_count": 131,
     "metadata": {},
     "output_type": "execute_result"
    }
   ],
   "source": [
    "sl = list(s)\n",
    "n = len(sl)\n",
    "for i in range(n-1, -1,-1):\n",
    "    if sl[i]>s[i-1]:\n",
    "        sl[i], sl[i-1] = sl[i-1], sl[i]\n",
    "        break \n",
    "sl"
   ]
  },
  {
   "cell_type": "code",
   "execution_count": 150,
   "metadata": {},
   "outputs": [
    {
     "data": {
      "text/plain": [
       "True"
      ]
     },
     "execution_count": 150,
     "metadata": {},
     "output_type": "execute_result"
    }
   ],
   "source": [
    "'kdhc'>'dkhc'"
   ]
  },
  {
   "cell_type": "code",
   "execution_count": 153,
   "metadata": {},
   "outputs": [
    {
     "data": {
      "text/plain": [
       "['d', 'k', 'h', 'c']"
      ]
     },
     "execution_count": 153,
     "metadata": {},
     "output_type": "execute_result"
    }
   ],
   "source": [
    "sl"
   ]
  },
  {
   "cell_type": "code",
   "execution_count": 182,
   "metadata": {},
   "outputs": [
    {
     "data": {
      "text/plain": [
       "['d', 'k', 'h', 'c']"
      ]
     },
     "execution_count": 182,
     "metadata": {},
     "output_type": "execute_result"
    }
   ],
   "source": [
    "s = list('dkhc')\n",
    "s\n"
   ]
  },
  {
   "cell_type": "code",
   "execution_count": 179,
   "metadata": {},
   "outputs": [
    {
     "data": {
      "text/plain": [
       "['h', 'c', 'd', 'k']"
      ]
     },
     "execution_count": 179,
     "metadata": {},
     "output_type": "execute_result"
    }
   ],
   "source": [
    "# find out longest sufix and pivot\n",
    "n = len(s)\n",
    "l = n-1\n",
    "\n",
    "while s[l]<=s[l-1]:\n",
    "    l-=1\n",
    "idx_pivot = l-1\n",
    "\n",
    "# switch pivot with smallest value in sufix\n",
    "for i in range(n-1, -1, -1):\n",
    "    if s[i]>s[idx_pivot]:\n",
    "        s[i],s[idx_pivot] = s[idx_pivot], s[i]\n",
    "        break\n",
    "s[:idx_pivot+1] + sorted(s[idx_pivot+1:])"
   ]
  },
  {
   "cell_type": "code",
   "execution_count": 186,
   "metadata": {},
   "outputs": [],
   "source": [
    "def next_permutation(arr):\n",
    "    # Find non-increasing suffix\n",
    "    i = len(arr) - 1\n",
    "    while i > 0 and arr[i - 1] >= arr[i]:\n",
    "        i -= 1\n",
    "    if i <= 0:\n",
    "        return False\n",
    "\n",
    "    # Find successor to pivot\n",
    "    j = len(arr) - 1\n",
    "    while arr[j] <= arr[i - 1]:\n",
    "        j -= 1\n",
    "    arr[i - 1], arr[j] = arr[j], arr[i - 1]\n",
    "\n",
    "    # Reverse suffix\n",
    "    arr[i : ] = arr[len(arr) - 1 : i - 1 : -1]\n",
    "    print(arr)\n"
   ]
  },
  {
   "cell_type": "code",
   "execution_count": 187,
   "metadata": {},
   "outputs": [
    {
     "name": "stdout",
     "output_type": "stream",
     "text": [
      "['h', 'd', 'c', 'k']\n"
     ]
    }
   ],
   "source": [
    "next_permutation(s)"
   ]
  },
  {
   "cell_type": "code",
   "execution_count": 198,
   "metadata": {},
   "outputs": [
    {
     "data": {
      "text/plain": [
       "'1'"
      ]
     },
     "execution_count": 198,
     "metadata": {},
     "output_type": "execute_result"
    }
   ],
   "source": [
    "'1'[:1]"
   ]
  },
  {
   "cell_type": "code",
   "execution_count": 258,
   "metadata": {},
   "outputs": [],
   "source": [
    "def d(n,c):\n",
    "    mx = 0\n",
    "    res = []\n",
    "    m = len(c)\n",
    "    if n==m:\n",
    "        return 0\n",
    "    else:\n",
    "        for i in range(n):\n",
    "            sub_res = []\n",
    "            for j in c:\n",
    "                print(i, j, abs(i-j))\n",
    "                sub_res.append(abs(i-j))\n",
    "            print(sub_res)\n",
    "            if mx<min(sub_res):\n",
    "                mx = min(sub_res)\n",
    "            # res.append(min(sub_res))\n",
    "    return mx"
   ]
  },
  {
   "cell_type": "code",
   "execution_count": 282,
   "metadata": {},
   "outputs": [
    {
     "name": "stdout",
     "output_type": "stream",
     "text": [
      "99\n",
      "[0]\n"
     ]
    },
    {
     "ename": "ValueError",
     "evalue": "max() arg is an empty sequence",
     "output_type": "error",
     "traceback": [
      "\u001b[0;31m---------------------------------------------------------------------------\u001b[0m",
      "\u001b[0;31mValueError\u001b[0m                                Traceback (most recent call last)",
      "\u001b[0;32m<ipython-input-282-90013ff29792>\u001b[0m in \u001b[0;36m<module>\u001b[0;34m\u001b[0m\n\u001b[0;32m----> 1\u001b[0;31m \u001b[0md\u001b[0m\u001b[0;34m(\u001b[0m\u001b[0;36m100\u001b[0m\u001b[0;34m,\u001b[0m\u001b[0;34m[\u001b[0m\u001b[0;36m0\u001b[0m\u001b[0;34m]\u001b[0m\u001b[0;34m)\u001b[0m\u001b[0;34m\u001b[0m\u001b[0;34m\u001b[0m\u001b[0m\n\u001b[0m",
      "\u001b[0;32m<ipython-input-281-960760634341>\u001b[0m in \u001b[0;36md\u001b[0;34m(n, c)\u001b[0m\n\u001b[1;32m     11\u001b[0m         \u001b[0;32mfor\u001b[0m \u001b[0mi\u001b[0m \u001b[0;32min\u001b[0m \u001b[0mrange\u001b[0m\u001b[0;34m(\u001b[0m\u001b[0;36m1\u001b[0m\u001b[0;34m,\u001b[0m\u001b[0mlen\u001b[0m\u001b[0;34m(\u001b[0m\u001b[0mc\u001b[0m\u001b[0;34m)\u001b[0m\u001b[0;34m)\u001b[0m\u001b[0;34m:\u001b[0m\u001b[0;34m\u001b[0m\u001b[0;34m\u001b[0m\u001b[0m\n\u001b[1;32m     12\u001b[0m             \u001b[0mres\u001b[0m\u001b[0;34m.\u001b[0m\u001b[0mappend\u001b[0m\u001b[0;34m(\u001b[0m\u001b[0;34m(\u001b[0m\u001b[0mc\u001b[0m\u001b[0;34m[\u001b[0m\u001b[0mi\u001b[0m\u001b[0;34m]\u001b[0m\u001b[0;34m-\u001b[0m\u001b[0mc\u001b[0m\u001b[0;34m[\u001b[0m\u001b[0mi\u001b[0m\u001b[0;34m-\u001b[0m\u001b[0;36m1\u001b[0m\u001b[0;34m]\u001b[0m\u001b[0;34m)\u001b[0m\u001b[0;34m//\u001b[0m\u001b[0;36m2\u001b[0m\u001b[0;34m)\u001b[0m\u001b[0;34m\u001b[0m\u001b[0;34m\u001b[0m\u001b[0m\n\u001b[0;32m---> 13\u001b[0;31m         \u001b[0;32mreturn\u001b[0m \u001b[0mmax\u001b[0m\u001b[0;34m(\u001b[0m\u001b[0mmax\u001b[0m\u001b[0;34m(\u001b[0m\u001b[0mres\u001b[0m\u001b[0;34m)\u001b[0m\u001b[0;34m,\u001b[0m \u001b[0mmx\u001b[0m\u001b[0;34m)\u001b[0m\u001b[0;34m\u001b[0m\u001b[0;34m\u001b[0m\u001b[0m\n\u001b[0m",
      "\u001b[0;31mValueError\u001b[0m: max() arg is an empty sequence"
     ]
    }
   ],
   "source": [
    "d(100,[0])"
   ]
  },
  {
   "cell_type": "code",
   "execution_count": 281,
   "metadata": {},
   "outputs": [],
   "source": [
    "def d(n, c):\n",
    "    m = len(c)\n",
    "    res = []\n",
    "    c.sort()\n",
    "    mx = max(c[0]-0, n-1-c[-1])\n",
    "    print(mx)\n",
    "    if n==m:\n",
    "        return 0\n",
    "    else:\n",
    "        print(c)\n",
    "        for i in range(1,len(c)):\n",
    "            \n",
    "            res.append((c[i]-c[i-1])//2)\n",
    "        return max(max(res), mx)"
   ]
  },
  {
   "cell_type": "code",
   "execution_count": 246,
   "metadata": {},
   "outputs": [
    {
     "ename": "TypeError",
     "evalue": "sequence item 0: expected str instance, int found",
     "output_type": "error",
     "traceback": [
      "\u001b[0;31m---------------------------------------------------------------------------\u001b[0m",
      "\u001b[0;31mTypeError\u001b[0m                                 Traceback (most recent call last)",
      "\u001b[0;32m<ipython-input-246-434b90806d62>\u001b[0m in \u001b[0;36m<module>\u001b[0;34m\u001b[0m\n\u001b[1;32m      1\u001b[0m \u001b[0ms\u001b[0m \u001b[0;34m=\u001b[0m \u001b[0;34m[\u001b[0m\u001b[0;36m1\u001b[0m\u001b[0;34m,\u001b[0m\u001b[0;36m2\u001b[0m\u001b[0;34m,\u001b[0m\u001b[0;36m3\u001b[0m\u001b[0;34m]\u001b[0m\u001b[0;34m\u001b[0m\u001b[0;34m\u001b[0m\u001b[0m\n\u001b[0;32m----> 2\u001b[0;31m \u001b[0;34m' '\u001b[0m\u001b[0;34m.\u001b[0m\u001b[0mjoin\u001b[0m\u001b[0;34m(\u001b[0m\u001b[0ms\u001b[0m\u001b[0;34m)\u001b[0m\u001b[0;34m\u001b[0m\u001b[0;34m\u001b[0m\u001b[0m\n\u001b[0m",
      "\u001b[0;31mTypeError\u001b[0m: sequence item 0: expected str instance, int found"
     ]
    }
   ],
   "source": [
    "s = [1,2,3]\n",
    "' '.join(s)"
   ]
  },
  {
   "cell_type": "code",
   "execution_count": 283,
   "metadata": {},
   "outputs": [
    {
     "name": "stdout",
     "output_type": "stream",
     "text": [
      "Collecting num2words\n",
      "  Downloading num2words-0.5.10-py3-none-any.whl (101 kB)\n",
      "\u001b[K     |████████████████████████████████| 101 kB 3.3 MB/s ta 0:00:01\n",
      "\u001b[?25hCollecting docopt>=0.6.2\n",
      "  Downloading docopt-0.6.2.tar.gz (25 kB)\n",
      "Building wheels for collected packages: docopt\n",
      "  Building wheel for docopt (setup.py) ... \u001b[?25ldone\n",
      "\u001b[?25h  Created wheel for docopt: filename=docopt-0.6.2-py2.py3-none-any.whl size=13704 sha256=4319431677dcb40f5d1fcc861a193b6b3db7ad90001f967729f644314778989d\n",
      "  Stored in directory: /Users/yangsun/Library/Caches/pip/wheels/72/b0/3f/1d95f96ff986c7dfffe46ce2be4062f38ebd04b506c77c81b9\n",
      "Successfully built docopt\n",
      "Installing collected packages: docopt, num2words\n",
      "Successfully installed docopt-0.6.2 num2words-0.5.10\n"
     ]
    }
   ],
   "source": [
    "!pip install num2words"
   ]
  },
  {
   "cell_type": "code",
   "execution_count": 295,
   "metadata": {},
   "outputs": [
    {
     "data": {
      "text/plain": [
       "{0: 'zero',\n",
       " 1: 'one',\n",
       " 2: 'two',\n",
       " 3: 'three',\n",
       " 4: 'four',\n",
       " 5: 'five',\n",
       " 6: 'six',\n",
       " 7: 'seven',\n",
       " 8: 'eight',\n",
       " 9: 'nine',\n",
       " 10: 'ten',\n",
       " 11: 'eleven',\n",
       " 12: 'twelve',\n",
       " 13: 'thirteen',\n",
       " 14: 'fourteen',\n",
       " 15: 'fifteen',\n",
       " 16: 'sixteen',\n",
       " 17: 'seventeen',\n",
       " 18: 'eighteen',\n",
       " 19: 'nineteen',\n",
       " 20: 'twenty',\n",
       " 21: 'twenty-one',\n",
       " 22: 'twenty-two',\n",
       " 23: 'twenty-three',\n",
       " 24: 'twenty-four',\n",
       " 25: 'twenty-five',\n",
       " 26: 'twenty-six',\n",
       " 27: 'twenty-seven',\n",
       " 28: 'twenty-eight',\n",
       " 29: 'twenty-nine'}"
      ]
     },
     "execution_count": 295,
     "metadata": {},
     "output_type": "execute_result"
    }
   ],
   "source": [
    "from num2words import num2words\n",
    "num_dict = {}\n",
    "for i in range(0, 30):\n",
    "    num_dict[i] = num2words(i)\n",
    "num_dict\n",
    "\n"
   ]
  },
  {
   "cell_type": "code",
   "execution_count": 296,
   "metadata": {},
   "outputs": [],
   "source": [
    "num_dict=  {0: 'zero',\n",
    " 1: 'one',\n",
    " 2: 'two',\n",
    " 3: 'three',\n",
    " 4: 'four',\n",
    " 5: 'five',\n",
    " 6: 'six',\n",
    " 7: 'seven',\n",
    " 8: 'eight',\n",
    " 9: 'nine',\n",
    " 10: 'ten',\n",
    " 11: 'eleven',\n",
    " 12: 'twelve',\n",
    " 13: 'thirteen',\n",
    " 14: 'fourteen',\n",
    " 15: 'fifteen',\n",
    " 16: 'sixteen',\n",
    " 17: 'seventeen',\n",
    " 18: 'eighteen',\n",
    " 19: 'nineteen',\n",
    " 20: 'twenty',\n",
    " 21: 'twenty one',\n",
    " 22: 'twenty two',\n",
    " 23: 'twenty three',\n",
    " 24: 'twenty four',\n",
    " 25: 'twenty five',\n",
    " 26: 'twenty six',\n",
    " 27: 'twenty seven',\n",
    " 28: 'twenty eight',\n",
    " 29: 'twenty nine'}\n",
    "# Complete the timeInWords function below.\n",
    "def timeInWords(h, m, num_dict):\n",
    "    if m==0:\n",
    "        return f\"{num_dict[h]} o' clock\"\n",
    "    elif m==15:\n",
    "        return f\"quarter past {num_dict[h]}\"\n",
    "    elif m==45:\n",
    "        return f\"quarter to {num_dict[h]}\"\n",
    "    elif m==30:\n",
    "        return f\"half past {num_dict[h]}\"\n",
    "    elif m<30:\n",
    "        if m>1:\n",
    "            return f\"{num_dict[m]} minutes past {num_dict[h]}\"\n",
    "        else:\n",
    "            return f\"{num_dict[m]} minute past {num_dict[h]}\"\n",
    "    elif m>30 and 60-m>1:\n",
    "        if 60-m==15:\n",
    "            return f\"quarter to {num_dict[h+1]}\"\n",
    "        else:\n",
    "            return f\"{num_dict[60-m]} minutes to {num_dict[h+1]}\"\n",
    "    elif m>30 and 60-m==1:\n",
    "        return f\"{num_dict[60-m]} minute to {num_dict[h+1]}\"\n",
    "    else:\n",
    "        return f\"{num_dict[m]} minutes past {num_dict[h]}\""
   ]
  },
  {
   "cell_type": "code",
   "execution_count": 298,
   "metadata": {},
   "outputs": [
    {
     "data": {
      "text/plain": [
       "'quarter to five'"
      ]
     },
     "execution_count": 298,
     "metadata": {},
     "output_type": "execute_result"
    }
   ],
   "source": [
    "timeInWords(5,45, num_dict)"
   ]
  },
  {
   "cell_type": "code",
   "execution_count": null,
   "metadata": {},
   "outputs": [],
   "source": []
  }
 ],
 "metadata": {
  "kernelspec": {
   "display_name": "Python 3",
   "language": "python",
   "name": "python3"
  },
  "language_info": {
   "codemirror_mode": {
    "name": "ipython",
    "version": 3
   },
   "file_extension": ".py",
   "mimetype": "text/x-python",
   "name": "python",
   "nbconvert_exporter": "python",
   "pygments_lexer": "ipython3",
   "version": "3.7.6"
  }
 },
 "nbformat": 4,
 "nbformat_minor": 4
}
