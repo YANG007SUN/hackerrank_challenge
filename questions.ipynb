{
 "cells": [
  {
   "cell_type": "markdown",
   "metadata": {},
   "source": [
    "# 2D Array"
   ]
  },
  {
   "cell_type": "markdown",
   "metadata": {},
   "source": [
    "## Questions link\n"
   ]
  },
  {
   "cell_type": "markdown",
   "metadata": {},
   "source": [
    "https://www.hackerrank.com/challenges/2d-array/problem?h_l=interview&playlist_slugs%5B%5D=interview-preparation-kit&playlist_slugs%5B%5D=arrays"
   ]
  },
  {
   "cell_type": "code",
   "execution_count": 50,
   "metadata": {},
   "outputs": [
    {
     "data": {
      "text/plain": [
       "[[1, 1, 1, 0, 0, 0],\n",
       " [0, 1, 0, 0, 0, 0],\n",
       " [1, 1, 1, 0, 0, 0],\n",
       " [0, 0, 2, 4, 4, 0],\n",
       " [0, 0, 0, 2, 0, 0],\n",
       " [0, 0, 1, 2, 4, 0]]"
      ]
     },
     "execution_count": 50,
     "metadata": {},
     "output_type": "execute_result"
    }
   ],
   "source": [
    "arr = [[1, 1, 1, 0, 0, 0],\n",
    "[0 ,1 ,0 ,0 ,0 ,0],\n",
    "[1 ,1 ,1 ,0 ,0 ,0],\n",
    "[0 ,0 ,2 ,4 ,4 ,0],\n",
    "[0 ,0 ,0 ,2 ,0 ,0],\n",
    "[0 ,0 ,1 ,2 ,4 ,0]]\n",
    "arr"
   ]
  },
  {
   "cell_type": "code",
   "execution_count": 39,
   "metadata": {},
   "outputs": [
    {
     "data": {
      "text/plain": [
       "[7, 4, 3, 3, 4, 8, 6, 9, 2, 10, 7, 19, 0, 8, 6, 14]"
      ]
     },
     "execution_count": 39,
     "metadata": {},
     "output_type": "execute_result"
    }
   ],
   "source": [
    "results = []\n",
    "for i in range(4):\n",
    "#     print(arr[i][i]+arr[i][i+1]+arr[i][i+2]+arr[i+1][i+1]+arr[i+2][i]+arr[i+2][i+1]+arr[i+2][i+2])\n",
    "    \n",
    "    results.append(arr[0][i]+arr[0][i+1]+arr[0][i+2]+arr[1][i+1]+arr[2][i]+arr[2][i+1]+arr[2][i+2])\n",
    "    results.append(arr[1][i]+arr[1][i+1]+arr[1][i+2]+arr[2][i+1]+arr[3][i]+arr[3][i+1]+arr[3][i+2])\n",
    "    results.append(arr[2][i]+arr[2][i+1]+arr[2][i+2]+arr[3][i+1]+arr[4][i]+arr[4][i+1]+arr[4][i+2])\n",
    "    results.append(arr[3][i]+arr[3][i+1]+arr[3][i+2]+arr[4][i+1]+arr[5][i]+arr[5][i+1]+arr[5][i+2])\n",
    "    \n",
    "results"
   ]
  },
  {
   "cell_type": "code",
   "execution_count": 51,
   "metadata": {},
   "outputs": [
    {
     "data": {
      "text/plain": [
       "19"
      ]
     },
     "execution_count": 51,
     "metadata": {},
     "output_type": "execute_result"
    }
   ],
   "source": [
    "## final results:\n",
    "def hourglassSum(arr):\n",
    "    results = []\n",
    "    for i in range(4):\n",
    "        for j in range(4):\n",
    "            results.append(arr[i][j]+arr[i][j+1]+arr[i][j+2]+arr[i+1][j+1]+arr[i+2][j]+arr[i+2][j+1]+arr[i+2][j+2])\n",
    "    return max(results) \n",
    "\n",
    "hourglassSum(arr)"
   ]
  },
  {
   "cell_type": "markdown",
   "metadata": {},
   "source": [
    "# Arrays: Left Rotation"
   ]
  },
  {
   "cell_type": "markdown",
   "metadata": {},
   "source": [
    "## Questions link\n"
   ]
  },
  {
   "cell_type": "markdown",
   "metadata": {},
   "source": [
    "https://www.hackerrank.com/challenges/ctci-array-left-rotation/problem?h_l=interview&playlist_slugs%5B%5D=interview-preparation-kit&playlist_slugs%5B%5D=arrays&h_r=next-challenge&h_v=zen"
   ]
  },
  {
   "cell_type": "code",
   "execution_count": 2,
   "metadata": {},
   "outputs": [
    {
     "data": {
      "text/plain": [
       "[1, 2, 3, 4, 5, 6, 7, 8, 9, 10]"
      ]
     },
     "execution_count": 2,
     "metadata": {},
     "output_type": "execute_result"
    }
   ],
   "source": [
    "a = [1,2,3,4,5,6,7,8,9,10]\n",
    "d = 3\n",
    "a"
   ]
  },
  {
   "cell_type": "code",
   "execution_count": 108,
   "metadata": {},
   "outputs": [
    {
     "data": {
      "text/plain": [
       "[4, 5, 6, 7, 8, 9, 10, 1, 2, 3]"
      ]
     },
     "execution_count": 108,
     "metadata": {},
     "output_type": "execute_result"
    }
   ],
   "source": [
    "counter = 0\n",
    "ls= []\n",
    "for i in range(len(a)):\n",
    "    try:\n",
    "        ls.append(a[i+d])\n",
    "        counter+=1\n",
    "    except: \n",
    "        ls.append(a[i-counter])\n",
    "ls"
   ]
  },
  {
   "cell_type": "code",
   "execution_count": 4,
   "metadata": {},
   "outputs": [
    {
     "data": {
      "text/plain": [
       "[4, 5, 6, 7, 8, 9, 10, 1, 2, 3]"
      ]
     },
     "execution_count": 4,
     "metadata": {},
     "output_type": "execute_result"
    }
   ],
   "source": [
    "# final answer\n",
    "def rotLeft(a, d):\n",
    "    ls = []\n",
    "    counter= 0\n",
    "    for i in range(len(a)):\n",
    "        try:\n",
    "            ls.append(a[i+d])\n",
    "            counter+=1\n",
    "        except: \n",
    "            ls.append(a[i-counter])\n",
    "    return ls\n",
    "rotLeft(a, d)"
   ]
  },
  {
   "cell_type": "markdown",
   "metadata": {},
   "source": [
    "# New Year Chaos\n",
    "\n"
   ]
  },
  {
   "cell_type": "markdown",
   "metadata": {},
   "source": [
    "# Question"
   ]
  },
  {
   "cell_type": "markdown",
   "metadata": {},
   "source": [
    "https://www.hackerrank.com/challenges/new-year-chaos/problem?h_l=interview&playlist_slugs%5B%5D=interview-preparation-kit&playlist_slugs%5B%5D=arrays&h_r=next-challenge&h_v=zen&h_r=next-challenge&h_v=zen"
   ]
  },
  {
   "cell_type": "code",
   "execution_count": 17,
   "metadata": {},
   "outputs": [],
   "source": [
    "def minimumBribes(Q):\n",
    "    moves= 0\n",
    "    Q = [P-1 for P in Q]\n",
    "    for i,P in enumerate(Q):\n",
    "        if P - i > 2:\n",
    "            print(\"Too chaotic\")\n",
    "            return\n",
    "        for j in range(max(P-1,0),i):\n",
    "            if Q[j] > P:\n",
    "                moves += 1\n",
    "    print(moves)"
   ]
  },
  {
   "cell_type": "code",
   "execution_count": 24,
   "metadata": {},
   "outputs": [],
   "source": [
    "\n",
    "def minimumBribes(Q:list)->int:\n",
    "    moves = 0\n",
    "    for i in range(len(Q)-1,0,-1):\n",
    "        if Q[i]!=i+1:\n",
    "            if Q[i-1]==i+1:\n",
    "                Q[i], Q[i-1] = Q[i-1], Q[i]\n",
    "                moves+=1\n",
    "            elif Q[i-2]==i+1:\n",
    "                Q[i], Q[i-2] = Q[i-2], Q[i]\n",
    "#                 Q[i], Q[i-1] = Q[i-1], Q[i]\n",
    "                moves+=1\n",
    "            else:\n",
    "                print(\"Too Chaotic\")\n",
    "                return\n",
    "    print(moves)"
   ]
  },
  {
   "cell_type": "code",
   "execution_count": 25,
   "metadata": {},
   "outputs": [
    {
     "name": "stdout",
     "output_type": "stream",
     "text": [
      "3\n"
     ]
    }
   ],
   "source": [
    "\n",
    "minimumBribes([2,1,5,3,4])"
   ]
  },
  {
   "cell_type": "markdown",
   "metadata": {},
   "source": [
    "# Minimum Swaps 2"
   ]
  },
  {
   "cell_type": "markdown",
   "metadata": {},
   "source": [
    "https://www.hackerrank.com/challenges/minimum-swaps-2/problem?h_l=interview&playlist_slugs%5B%5D=interview-preparation-kit&playlist_slugs%5B%5D=arrays"
   ]
  },
  {
   "cell_type": "markdown",
   "metadata": {},
   "source": [
    "- loop through each value in arr, and for each arr[i] swap with the lowest value in arr[i+1:,], each swap we add a count.\n",
    "\n"
   ]
  },
  {
   "cell_type": "code",
   "execution_count": 13,
   "metadata": {},
   "outputs": [],
   "source": [
    "# need to optimize the code\n",
    "from tqdm import tqdm\n",
    "def minimumSwaps(arr):\n",
    "    arr1 = arr\n",
    "    counter = 0\n",
    "\n",
    "    for i in range(len(arr1)):\n",
    "        \n",
    "        new = arr1[i+1:len(arr1)]\n",
    "        if len(new)>=1:\n",
    "            if min(new)<arr1[i] :\n",
    "                index = arr.index(min(new))\n",
    "                # swap current value with lowest value position\n",
    "                arr1[i], arr1[index] = arr1[index], arr1[i]\n",
    "                counter +=1\n",
    "        \n",
    "    return counter\n",
    "\n"
   ]
  },
  {
   "cell_type": "code",
   "execution_count": 17,
   "metadata": {},
   "outputs": [],
   "source": [
    "# this is good\n",
    "def minimumSwaps(arr):\n",
    "    ref_arr = sorted(arr)\n",
    "    index_dict = {v: i for i,v in enumerate(arr)}\n",
    "    swaps = 0\n",
    "    \n",
    "    for i,v in enumerate(arr):\n",
    "        correct_value = ref_arr[i]\n",
    "        if v != correct_value:\n",
    "            to_swap_ix = index_dict[correct_value]\n",
    "            arr[to_swap_ix],arr[i] = arr[i], arr[to_swap_ix]\n",
    "            index_dict[v] = to_swap_ix\n",
    "            index_dict[correct_value] = i\n",
    "            swaps += 1\n",
    "            \n",
    "    return swaps"
   ]
  },
  {
   "cell_type": "markdown",
   "metadata": {},
   "source": [
    "# Hash Tables: Ransom Note"
   ]
  },
  {
   "cell_type": "markdown",
   "metadata": {},
   "source": [
    "https://www.hackerrank.com/challenges/two-strings/problem?h_l=interview&playlist_slugs%5B%5D=interview-preparation-kit&playlist_slugs%5B%5D=dictionaries-hashmaps"
   ]
  },
  {
   "cell_type": "markdown",
   "metadata": {},
   "source": [
    "- loop through each word in note, for each word in note check to see if it is in magazine, it yes, remove the word from magazine, otherwise print no\n",
    "- sort the note and magazine, otherwise it will timeout"
   ]
  },
  {
   "cell_type": "code",
   "execution_count": 66,
   "metadata": {},
   "outputs": [],
   "source": [
    "def checkMagazine(magazine, note):\n",
    "    magazine.sort()\n",
    "    note.sort()\n",
    "    for w in note:\n",
    "        if not w in magazine:\n",
    "            print(\"No\")\n",
    "            return\n",
    "        else:\n",
    "            magazine.remove(w)\n",
    "\n",
    "    print(\"Yes\")\n"
   ]
  },
  {
   "cell_type": "markdown",
   "metadata": {},
   "source": [
    "# Two Strings"
   ]
  },
  {
   "cell_type": "markdown",
   "metadata": {},
   "source": [
    "https://www.hackerrank.com/challenges/two-strings/problem?h_l=interview&playlist_slugs%5B%5D=interview-preparation-kit&playlist_slugs%5B%5D=dictionaries-hashmaps"
   ]
  },
  {
   "cell_type": "code",
   "execution_count": 71,
   "metadata": {},
   "outputs": [],
   "source": [
    "def twoStrings(s1, s2):\n",
    "    s1 = list(set(list(s1)))\n",
    "    s2 = list(s2)\n",
    "    for w in s1:\n",
    "        if w in s2:\n",
    "            return \"YES\"\n",
    "            \n",
    "    return \"NO\"\n"
   ]
  },
  {
   "cell_type": "code",
   "execution_count": 29,
   "metadata": {},
   "outputs": [
    {
     "data": {
      "text/plain": [
       "{'d', 'e', 'f'}"
      ]
     },
     "execution_count": 29,
     "metadata": {},
     "output_type": "execute_result"
    }
   ],
   "source": [
    "set(\"dff\"+\"eee\")"
   ]
  },
  {
   "cell_type": "markdown",
   "metadata": {},
   "source": [
    "# Sherlock and Anagrams"
   ]
  },
  {
   "cell_type": "markdown",
   "metadata": {},
   "source": [
    "https://www.hackerrank.com/challenges/sherlock-and-anagrams/problem?h_l=interview&playlist_slugs%5B%5D=interview-preparation-kit&playlist_slugs%5B%5D=dictionaries-hashmaps&h_r=next-challenge&h_v=zen"
   ]
  },
  {
   "cell_type": "markdown",
   "metadata": {},
   "source": [
    "- key in this problem is find out how to print out every combination of letters in a word, and how to count number of letters combined of same combinations.\n",
    "- use two for loop to print out different combinations of letter in a word\n",
    "- only count of we have at least two same letters or two same combination of same subs\n",
    "- if we have additional subs, we add by current number of subs - 1"
   ]
  },
  {
   "cell_type": "code",
   "execution_count": 99,
   "metadata": {},
   "outputs": [
    {
     "name": "stdout",
     "output_type": "stream",
     "text": [
      "k {'k': 1} 0\n",
      "k {'k': 2} 1\n",
      "k {'k': 3} 3\n",
      "k {'k': 4} 6\n",
      "kk {'kk': 1} 6\n",
      "kk {'kk': 2} 7\n",
      "kk {'kk': 3} 9\n",
      "kkk {'kkk': 1} 9\n",
      "kkk {'kkk': 2} 10\n"
     ]
    }
   ],
   "source": [
    "for i in range(1, n):\n",
    "    d = {}\n",
    "    for j in range(n-i+1):\n",
    "        subs = ''.join(sorted(s[j:j+i]))\n",
    "        if subs not in d:\n",
    "            d[subs] = 1\n",
    "        else:\n",
    "            d[subs] +=1\n",
    "        res += d[subs]-1\n",
    "        print(subs, d, res)\n",
    "        "
   ]
  },
  {
   "cell_type": "code",
   "execution_count": null,
   "metadata": {},
   "outputs": [],
   "source": [
    "# Complete the sherlockAndAnagrams function below.\n",
    "def sherlockAndAnagrams(s):\n",
    "    n = len(s)\n",
    "    res = 0\n",
    "    for i in range(1,n):\n",
    "        d = {}\n",
    "        for j in range(n-i+1):\n",
    "            subs = ''.join(sorted(s[j:j+i]))\n",
    "            if subs not in d:\n",
    "                d[subs] = 1\n",
    "            else:\n",
    "                d[subs]+=1\n",
    "            res += d[subs]-1\n",
    "    return res\n"
   ]
  },
  {
   "cell_type": "code",
   "execution_count": null,
   "metadata": {},
   "outputs": [],
   "source": []
  }
 ],
 "metadata": {
  "kernelspec": {
   "display_name": "Python 3",
   "language": "python",
   "name": "python3"
  },
  "language_info": {
   "codemirror_mode": {
    "name": "ipython",
    "version": 3
   },
   "file_extension": ".py",
   "mimetype": "text/x-python",
   "name": "python",
   "nbconvert_exporter": "python",
   "pygments_lexer": "ipython3",
   "version": "3.7.6"
  }
 },
 "nbformat": 4,
 "nbformat_minor": 4
}
